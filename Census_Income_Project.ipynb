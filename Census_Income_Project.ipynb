{
  "nbformat": 4,
  "nbformat_minor": 0,
  "metadata": {
    "colab": {
      "name": "Census Income Project",
      "provenance": [],
      "collapsed_sections": []
    },
    "kernelspec": {
      "name": "python3",
      "display_name": "Python 3"
    },
    "language_info": {
      "name": "python"
    }
  },
  "cells": [
    {
      "cell_type": "markdown",
      "metadata": {
        "id": "qsyI20lDBneL"
      },
      "source": [
        "# Census Income Project\n",
        "\n",
        "**Problem Statement :-**\n",
        "\n",
        "\n",
        "This data was extracted from the 1994 Census bureau database by Ronny Kohavi and Barry Becker (Data Mining and Visualization, Silicon Graphics). A set of reasonably clean records was extracted using the following conditions: ((AAGE>16) && (AGI>100) && (AFNLWGT>1) && (HRSWK>0)). The prediction task is to determine whether a person makes over $50K a year.\n",
        "\n",
        "Description of fnlwgt (final weight)\n",
        "The weights on the Current Population Survey (CPS) files are controlled to independent estimates of the civilian non-institutional population of the US. These are prepared monthly for us by Population Division here at the Census Bureau. We use 3 sets of controls. These are:\n",
        "\n",
        "1) *A single cell estimate of the population 16+ for each state.*\n",
        "\n",
        "2) *Controls for Hispanic Origin by age and sex.*\n",
        "\n",
        "3) *Controls by Race, age and sex.*\n",
        "\n",
        "We use all three sets of controls in our weighting program and \"rake\" through them 6 times so that by the end we come back to all the controls we used. The term estimate refers to population totals derived from CPS by creating \"weighted tallies\" of any specified socio-economic characteristics of the population. People with similar demographic characteristics should have similar weights. There is one important caveat to remember about this statement. That is that since the CPS sample is actually a collection of 51 state samples, each with its own probability of selection, the statement only applies within state.\n",
        "\n"
      ]
    },
    {
      "cell_type": "code",
      "metadata": {
        "id": "GEs91w2mCJoX"
      },
      "source": [
        "#importing libraries\n",
        "import numpy as np \n",
        "import pandas as pd\n",
        "import matplotlib.pyplot as plt\n",
        "import seaborn as sns\n",
        "import scipy\n",
        "import sklearn\n",
        "from sklearn.model_selection import train_test_split\n",
        "from sklearn.naive_bayes import GaussianNB\n",
        "from sklearn.linear_model import LogisticRegression\n",
        "from sklearn.metrics import accuracy_score, classification_report,confusion_matrix\n",
        "from sklearn.svm import SVC\n",
        "from sklearn.tree import DecisionTreeClassifier\n",
        "from sklearn.neighbors import KNeighborsClassifier\n",
        "from sklearn.model_selection import GridSearchCV\n",
        "from sklearn.model_selection import cross_val_score\n",
        "import warnings\n",
        "warnings.filterwarnings('ignore')"
      ],
      "execution_count": 232,
      "outputs": []
    },
    {
      "cell_type": "code",
      "metadata": {
        "colab": {
          "base_uri": "https://localhost:8080/",
          "height": 591
        },
        "id": "M1soUVX8CPWT",
        "outputId": "80b7c91d-d499-4c0b-ddb7-6be4ad1887e0"
      },
      "source": [
        "df=pd.read_csv('/content/Census case study.csv')\n",
        "df"
      ],
      "execution_count": 233,
      "outputs": [
        {
          "output_type": "execute_result",
          "data": {
            "text/html": [
              "<div>\n",
              "<style scoped>\n",
              "    .dataframe tbody tr th:only-of-type {\n",
              "        vertical-align: middle;\n",
              "    }\n",
              "\n",
              "    .dataframe tbody tr th {\n",
              "        vertical-align: top;\n",
              "    }\n",
              "\n",
              "    .dataframe thead th {\n",
              "        text-align: right;\n",
              "    }\n",
              "</style>\n",
              "<table border=\"1\" class=\"dataframe\">\n",
              "  <thead>\n",
              "    <tr style=\"text-align: right;\">\n",
              "      <th></th>\n",
              "      <th>Age</th>\n",
              "      <th>Workclass</th>\n",
              "      <th>Fnlwgt</th>\n",
              "      <th>Education</th>\n",
              "      <th>Education_num</th>\n",
              "      <th>Marital_status</th>\n",
              "      <th>Occupation</th>\n",
              "      <th>Relationship</th>\n",
              "      <th>Race</th>\n",
              "      <th>Sex</th>\n",
              "      <th>Capital_gain</th>\n",
              "      <th>Capital_loss</th>\n",
              "      <th>Hours_per_week</th>\n",
              "      <th>Native_country</th>\n",
              "      <th>Income</th>\n",
              "    </tr>\n",
              "  </thead>\n",
              "  <tbody>\n",
              "    <tr>\n",
              "      <th>0</th>\n",
              "      <td>50</td>\n",
              "      <td>Self-emp-not-inc</td>\n",
              "      <td>83311</td>\n",
              "      <td>Bachelors</td>\n",
              "      <td>13</td>\n",
              "      <td>Married-civ-spouse</td>\n",
              "      <td>Exec-managerial</td>\n",
              "      <td>Husband</td>\n",
              "      <td>White</td>\n",
              "      <td>Male</td>\n",
              "      <td>0</td>\n",
              "      <td>0</td>\n",
              "      <td>13</td>\n",
              "      <td>United-States</td>\n",
              "      <td>&lt;=50K</td>\n",
              "    </tr>\n",
              "    <tr>\n",
              "      <th>1</th>\n",
              "      <td>38</td>\n",
              "      <td>Private</td>\n",
              "      <td>215646</td>\n",
              "      <td>HS-grad</td>\n",
              "      <td>9</td>\n",
              "      <td>Divorced</td>\n",
              "      <td>Handlers-cleaners</td>\n",
              "      <td>Not-in-family</td>\n",
              "      <td>White</td>\n",
              "      <td>Male</td>\n",
              "      <td>0</td>\n",
              "      <td>0</td>\n",
              "      <td>40</td>\n",
              "      <td>United-States</td>\n",
              "      <td>&lt;=50K</td>\n",
              "    </tr>\n",
              "    <tr>\n",
              "      <th>2</th>\n",
              "      <td>53</td>\n",
              "      <td>Private</td>\n",
              "      <td>234721</td>\n",
              "      <td>11th</td>\n",
              "      <td>7</td>\n",
              "      <td>Married-civ-spouse</td>\n",
              "      <td>Handlers-cleaners</td>\n",
              "      <td>Husband</td>\n",
              "      <td>Black</td>\n",
              "      <td>Male</td>\n",
              "      <td>0</td>\n",
              "      <td>0</td>\n",
              "      <td>40</td>\n",
              "      <td>United-States</td>\n",
              "      <td>&lt;=50K</td>\n",
              "    </tr>\n",
              "    <tr>\n",
              "      <th>3</th>\n",
              "      <td>28</td>\n",
              "      <td>Private</td>\n",
              "      <td>338409</td>\n",
              "      <td>Bachelors</td>\n",
              "      <td>13</td>\n",
              "      <td>Married-civ-spouse</td>\n",
              "      <td>Prof-specialty</td>\n",
              "      <td>Wife</td>\n",
              "      <td>Black</td>\n",
              "      <td>Female</td>\n",
              "      <td>0</td>\n",
              "      <td>0</td>\n",
              "      <td>40</td>\n",
              "      <td>Cuba</td>\n",
              "      <td>&lt;=50K</td>\n",
              "    </tr>\n",
              "    <tr>\n",
              "      <th>4</th>\n",
              "      <td>37</td>\n",
              "      <td>Private</td>\n",
              "      <td>284582</td>\n",
              "      <td>Masters</td>\n",
              "      <td>14</td>\n",
              "      <td>Married-civ-spouse</td>\n",
              "      <td>Exec-managerial</td>\n",
              "      <td>Wife</td>\n",
              "      <td>White</td>\n",
              "      <td>Female</td>\n",
              "      <td>0</td>\n",
              "      <td>0</td>\n",
              "      <td>40</td>\n",
              "      <td>United-States</td>\n",
              "      <td>&lt;=50K</td>\n",
              "    </tr>\n",
              "    <tr>\n",
              "      <th>...</th>\n",
              "      <td>...</td>\n",
              "      <td>...</td>\n",
              "      <td>...</td>\n",
              "      <td>...</td>\n",
              "      <td>...</td>\n",
              "      <td>...</td>\n",
              "      <td>...</td>\n",
              "      <td>...</td>\n",
              "      <td>...</td>\n",
              "      <td>...</td>\n",
              "      <td>...</td>\n",
              "      <td>...</td>\n",
              "      <td>...</td>\n",
              "      <td>...</td>\n",
              "      <td>...</td>\n",
              "    </tr>\n",
              "    <tr>\n",
              "      <th>32555</th>\n",
              "      <td>27</td>\n",
              "      <td>Private</td>\n",
              "      <td>257302</td>\n",
              "      <td>Assoc-acdm</td>\n",
              "      <td>12</td>\n",
              "      <td>Married-civ-spouse</td>\n",
              "      <td>Tech-support</td>\n",
              "      <td>Wife</td>\n",
              "      <td>White</td>\n",
              "      <td>Female</td>\n",
              "      <td>0</td>\n",
              "      <td>0</td>\n",
              "      <td>38</td>\n",
              "      <td>United-States</td>\n",
              "      <td>&lt;=50K</td>\n",
              "    </tr>\n",
              "    <tr>\n",
              "      <th>32556</th>\n",
              "      <td>40</td>\n",
              "      <td>Private</td>\n",
              "      <td>154374</td>\n",
              "      <td>HS-grad</td>\n",
              "      <td>9</td>\n",
              "      <td>Married-civ-spouse</td>\n",
              "      <td>Machine-op-inspct</td>\n",
              "      <td>Husband</td>\n",
              "      <td>White</td>\n",
              "      <td>Male</td>\n",
              "      <td>0</td>\n",
              "      <td>0</td>\n",
              "      <td>40</td>\n",
              "      <td>United-States</td>\n",
              "      <td>&gt;50K</td>\n",
              "    </tr>\n",
              "    <tr>\n",
              "      <th>32557</th>\n",
              "      <td>58</td>\n",
              "      <td>Private</td>\n",
              "      <td>151910</td>\n",
              "      <td>HS-grad</td>\n",
              "      <td>9</td>\n",
              "      <td>Widowed</td>\n",
              "      <td>Adm-clerical</td>\n",
              "      <td>Unmarried</td>\n",
              "      <td>White</td>\n",
              "      <td>Female</td>\n",
              "      <td>0</td>\n",
              "      <td>0</td>\n",
              "      <td>40</td>\n",
              "      <td>United-States</td>\n",
              "      <td>&lt;=50K</td>\n",
              "    </tr>\n",
              "    <tr>\n",
              "      <th>32558</th>\n",
              "      <td>22</td>\n",
              "      <td>Private</td>\n",
              "      <td>201490</td>\n",
              "      <td>HS-grad</td>\n",
              "      <td>9</td>\n",
              "      <td>Never-married</td>\n",
              "      <td>Adm-clerical</td>\n",
              "      <td>Own-child</td>\n",
              "      <td>White</td>\n",
              "      <td>Male</td>\n",
              "      <td>0</td>\n",
              "      <td>0</td>\n",
              "      <td>20</td>\n",
              "      <td>United-States</td>\n",
              "      <td>&lt;=50K</td>\n",
              "    </tr>\n",
              "    <tr>\n",
              "      <th>32559</th>\n",
              "      <td>52</td>\n",
              "      <td>Self-emp-inc</td>\n",
              "      <td>287927</td>\n",
              "      <td>HS-grad</td>\n",
              "      <td>9</td>\n",
              "      <td>Married-civ-spouse</td>\n",
              "      <td>Exec-managerial</td>\n",
              "      <td>Wife</td>\n",
              "      <td>White</td>\n",
              "      <td>Female</td>\n",
              "      <td>15024</td>\n",
              "      <td>0</td>\n",
              "      <td>40</td>\n",
              "      <td>United-States</td>\n",
              "      <td>&gt;50K</td>\n",
              "    </tr>\n",
              "  </tbody>\n",
              "</table>\n",
              "<p>32560 rows × 15 columns</p>\n",
              "</div>"
            ],
            "text/plain": [
              "       Age          Workclass  Fnlwgt  ... Hours_per_week  Native_country  Income\n",
              "0       50   Self-emp-not-inc   83311  ...             13   United-States   <=50K\n",
              "1       38            Private  215646  ...             40   United-States   <=50K\n",
              "2       53            Private  234721  ...             40   United-States   <=50K\n",
              "3       28            Private  338409  ...             40            Cuba   <=50K\n",
              "4       37            Private  284582  ...             40   United-States   <=50K\n",
              "...    ...                ...     ...  ...            ...             ...     ...\n",
              "32555   27            Private  257302  ...             38   United-States   <=50K\n",
              "32556   40            Private  154374  ...             40   United-States    >50K\n",
              "32557   58            Private  151910  ...             40   United-States   <=50K\n",
              "32558   22            Private  201490  ...             20   United-States   <=50K\n",
              "32559   52       Self-emp-inc  287927  ...             40   United-States    >50K\n",
              "\n",
              "[32560 rows x 15 columns]"
            ]
          },
          "metadata": {
            "tags": []
          },
          "execution_count": 233
        }
      ]
    },
    {
      "cell_type": "code",
      "metadata": {
        "colab": {
          "base_uri": "https://localhost:8080/",
          "height": 301
        },
        "id": "8Dj6V6v3DHfq",
        "outputId": "90fb3b07-bd65-433e-f56c-1cad0df23894"
      },
      "source": [
        "df.head()"
      ],
      "execution_count": 234,
      "outputs": [
        {
          "output_type": "execute_result",
          "data": {
            "text/html": [
              "<div>\n",
              "<style scoped>\n",
              "    .dataframe tbody tr th:only-of-type {\n",
              "        vertical-align: middle;\n",
              "    }\n",
              "\n",
              "    .dataframe tbody tr th {\n",
              "        vertical-align: top;\n",
              "    }\n",
              "\n",
              "    .dataframe thead th {\n",
              "        text-align: right;\n",
              "    }\n",
              "</style>\n",
              "<table border=\"1\" class=\"dataframe\">\n",
              "  <thead>\n",
              "    <tr style=\"text-align: right;\">\n",
              "      <th></th>\n",
              "      <th>Age</th>\n",
              "      <th>Workclass</th>\n",
              "      <th>Fnlwgt</th>\n",
              "      <th>Education</th>\n",
              "      <th>Education_num</th>\n",
              "      <th>Marital_status</th>\n",
              "      <th>Occupation</th>\n",
              "      <th>Relationship</th>\n",
              "      <th>Race</th>\n",
              "      <th>Sex</th>\n",
              "      <th>Capital_gain</th>\n",
              "      <th>Capital_loss</th>\n",
              "      <th>Hours_per_week</th>\n",
              "      <th>Native_country</th>\n",
              "      <th>Income</th>\n",
              "    </tr>\n",
              "  </thead>\n",
              "  <tbody>\n",
              "    <tr>\n",
              "      <th>0</th>\n",
              "      <td>50</td>\n",
              "      <td>Self-emp-not-inc</td>\n",
              "      <td>83311</td>\n",
              "      <td>Bachelors</td>\n",
              "      <td>13</td>\n",
              "      <td>Married-civ-spouse</td>\n",
              "      <td>Exec-managerial</td>\n",
              "      <td>Husband</td>\n",
              "      <td>White</td>\n",
              "      <td>Male</td>\n",
              "      <td>0</td>\n",
              "      <td>0</td>\n",
              "      <td>13</td>\n",
              "      <td>United-States</td>\n",
              "      <td>&lt;=50K</td>\n",
              "    </tr>\n",
              "    <tr>\n",
              "      <th>1</th>\n",
              "      <td>38</td>\n",
              "      <td>Private</td>\n",
              "      <td>215646</td>\n",
              "      <td>HS-grad</td>\n",
              "      <td>9</td>\n",
              "      <td>Divorced</td>\n",
              "      <td>Handlers-cleaners</td>\n",
              "      <td>Not-in-family</td>\n",
              "      <td>White</td>\n",
              "      <td>Male</td>\n",
              "      <td>0</td>\n",
              "      <td>0</td>\n",
              "      <td>40</td>\n",
              "      <td>United-States</td>\n",
              "      <td>&lt;=50K</td>\n",
              "    </tr>\n",
              "    <tr>\n",
              "      <th>2</th>\n",
              "      <td>53</td>\n",
              "      <td>Private</td>\n",
              "      <td>234721</td>\n",
              "      <td>11th</td>\n",
              "      <td>7</td>\n",
              "      <td>Married-civ-spouse</td>\n",
              "      <td>Handlers-cleaners</td>\n",
              "      <td>Husband</td>\n",
              "      <td>Black</td>\n",
              "      <td>Male</td>\n",
              "      <td>0</td>\n",
              "      <td>0</td>\n",
              "      <td>40</td>\n",
              "      <td>United-States</td>\n",
              "      <td>&lt;=50K</td>\n",
              "    </tr>\n",
              "    <tr>\n",
              "      <th>3</th>\n",
              "      <td>28</td>\n",
              "      <td>Private</td>\n",
              "      <td>338409</td>\n",
              "      <td>Bachelors</td>\n",
              "      <td>13</td>\n",
              "      <td>Married-civ-spouse</td>\n",
              "      <td>Prof-specialty</td>\n",
              "      <td>Wife</td>\n",
              "      <td>Black</td>\n",
              "      <td>Female</td>\n",
              "      <td>0</td>\n",
              "      <td>0</td>\n",
              "      <td>40</td>\n",
              "      <td>Cuba</td>\n",
              "      <td>&lt;=50K</td>\n",
              "    </tr>\n",
              "    <tr>\n",
              "      <th>4</th>\n",
              "      <td>37</td>\n",
              "      <td>Private</td>\n",
              "      <td>284582</td>\n",
              "      <td>Masters</td>\n",
              "      <td>14</td>\n",
              "      <td>Married-civ-spouse</td>\n",
              "      <td>Exec-managerial</td>\n",
              "      <td>Wife</td>\n",
              "      <td>White</td>\n",
              "      <td>Female</td>\n",
              "      <td>0</td>\n",
              "      <td>0</td>\n",
              "      <td>40</td>\n",
              "      <td>United-States</td>\n",
              "      <td>&lt;=50K</td>\n",
              "    </tr>\n",
              "  </tbody>\n",
              "</table>\n",
              "</div>"
            ],
            "text/plain": [
              "   Age          Workclass  Fnlwgt  ... Hours_per_week  Native_country  Income\n",
              "0   50   Self-emp-not-inc   83311  ...             13   United-States   <=50K\n",
              "1   38            Private  215646  ...             40   United-States   <=50K\n",
              "2   53            Private  234721  ...             40   United-States   <=50K\n",
              "3   28            Private  338409  ...             40            Cuba   <=50K\n",
              "4   37            Private  284582  ...             40   United-States   <=50K\n",
              "\n",
              "[5 rows x 15 columns]"
            ]
          },
          "metadata": {
            "tags": []
          },
          "execution_count": 234
        }
      ]
    },
    {
      "cell_type": "markdown",
      "metadata": {
        "id": "aPxfdZ2nDYBA"
      },
      "source": [
        "The First 5 Rows of Dataset."
      ]
    },
    {
      "cell_type": "code",
      "metadata": {
        "colab": {
          "base_uri": "https://localhost:8080/",
          "height": 301
        },
        "id": "n5xyz0G7DXCI",
        "outputId": "f7fdf701-2715-4614-8c6b-eec1c17e99d7"
      },
      "source": [
        "df.tail()"
      ],
      "execution_count": 235,
      "outputs": [
        {
          "output_type": "execute_result",
          "data": {
            "text/html": [
              "<div>\n",
              "<style scoped>\n",
              "    .dataframe tbody tr th:only-of-type {\n",
              "        vertical-align: middle;\n",
              "    }\n",
              "\n",
              "    .dataframe tbody tr th {\n",
              "        vertical-align: top;\n",
              "    }\n",
              "\n",
              "    .dataframe thead th {\n",
              "        text-align: right;\n",
              "    }\n",
              "</style>\n",
              "<table border=\"1\" class=\"dataframe\">\n",
              "  <thead>\n",
              "    <tr style=\"text-align: right;\">\n",
              "      <th></th>\n",
              "      <th>Age</th>\n",
              "      <th>Workclass</th>\n",
              "      <th>Fnlwgt</th>\n",
              "      <th>Education</th>\n",
              "      <th>Education_num</th>\n",
              "      <th>Marital_status</th>\n",
              "      <th>Occupation</th>\n",
              "      <th>Relationship</th>\n",
              "      <th>Race</th>\n",
              "      <th>Sex</th>\n",
              "      <th>Capital_gain</th>\n",
              "      <th>Capital_loss</th>\n",
              "      <th>Hours_per_week</th>\n",
              "      <th>Native_country</th>\n",
              "      <th>Income</th>\n",
              "    </tr>\n",
              "  </thead>\n",
              "  <tbody>\n",
              "    <tr>\n",
              "      <th>32555</th>\n",
              "      <td>27</td>\n",
              "      <td>Private</td>\n",
              "      <td>257302</td>\n",
              "      <td>Assoc-acdm</td>\n",
              "      <td>12</td>\n",
              "      <td>Married-civ-spouse</td>\n",
              "      <td>Tech-support</td>\n",
              "      <td>Wife</td>\n",
              "      <td>White</td>\n",
              "      <td>Female</td>\n",
              "      <td>0</td>\n",
              "      <td>0</td>\n",
              "      <td>38</td>\n",
              "      <td>United-States</td>\n",
              "      <td>&lt;=50K</td>\n",
              "    </tr>\n",
              "    <tr>\n",
              "      <th>32556</th>\n",
              "      <td>40</td>\n",
              "      <td>Private</td>\n",
              "      <td>154374</td>\n",
              "      <td>HS-grad</td>\n",
              "      <td>9</td>\n",
              "      <td>Married-civ-spouse</td>\n",
              "      <td>Machine-op-inspct</td>\n",
              "      <td>Husband</td>\n",
              "      <td>White</td>\n",
              "      <td>Male</td>\n",
              "      <td>0</td>\n",
              "      <td>0</td>\n",
              "      <td>40</td>\n",
              "      <td>United-States</td>\n",
              "      <td>&gt;50K</td>\n",
              "    </tr>\n",
              "    <tr>\n",
              "      <th>32557</th>\n",
              "      <td>58</td>\n",
              "      <td>Private</td>\n",
              "      <td>151910</td>\n",
              "      <td>HS-grad</td>\n",
              "      <td>9</td>\n",
              "      <td>Widowed</td>\n",
              "      <td>Adm-clerical</td>\n",
              "      <td>Unmarried</td>\n",
              "      <td>White</td>\n",
              "      <td>Female</td>\n",
              "      <td>0</td>\n",
              "      <td>0</td>\n",
              "      <td>40</td>\n",
              "      <td>United-States</td>\n",
              "      <td>&lt;=50K</td>\n",
              "    </tr>\n",
              "    <tr>\n",
              "      <th>32558</th>\n",
              "      <td>22</td>\n",
              "      <td>Private</td>\n",
              "      <td>201490</td>\n",
              "      <td>HS-grad</td>\n",
              "      <td>9</td>\n",
              "      <td>Never-married</td>\n",
              "      <td>Adm-clerical</td>\n",
              "      <td>Own-child</td>\n",
              "      <td>White</td>\n",
              "      <td>Male</td>\n",
              "      <td>0</td>\n",
              "      <td>0</td>\n",
              "      <td>20</td>\n",
              "      <td>United-States</td>\n",
              "      <td>&lt;=50K</td>\n",
              "    </tr>\n",
              "    <tr>\n",
              "      <th>32559</th>\n",
              "      <td>52</td>\n",
              "      <td>Self-emp-inc</td>\n",
              "      <td>287927</td>\n",
              "      <td>HS-grad</td>\n",
              "      <td>9</td>\n",
              "      <td>Married-civ-spouse</td>\n",
              "      <td>Exec-managerial</td>\n",
              "      <td>Wife</td>\n",
              "      <td>White</td>\n",
              "      <td>Female</td>\n",
              "      <td>15024</td>\n",
              "      <td>0</td>\n",
              "      <td>40</td>\n",
              "      <td>United-States</td>\n",
              "      <td>&gt;50K</td>\n",
              "    </tr>\n",
              "  </tbody>\n",
              "</table>\n",
              "</div>"
            ],
            "text/plain": [
              "       Age      Workclass  Fnlwgt  ... Hours_per_week  Native_country  Income\n",
              "32555   27        Private  257302  ...             38   United-States   <=50K\n",
              "32556   40        Private  154374  ...             40   United-States    >50K\n",
              "32557   58        Private  151910  ...             40   United-States   <=50K\n",
              "32558   22        Private  201490  ...             20   United-States   <=50K\n",
              "32559   52   Self-emp-inc  287927  ...             40   United-States    >50K\n",
              "\n",
              "[5 rows x 15 columns]"
            ]
          },
          "metadata": {
            "tags": []
          },
          "execution_count": 235
        }
      ]
    },
    {
      "cell_type": "markdown",
      "metadata": {
        "id": "sOOj6PlHDkze"
      },
      "source": [
        "The last 5 rows of Dataset ."
      ]
    },
    {
      "cell_type": "code",
      "metadata": {
        "colab": {
          "base_uri": "https://localhost:8080/"
        },
        "id": "7r4kY1U8DkFU",
        "outputId": "a996d0bb-4c39-4d80-da9d-b74d3856dd52"
      },
      "source": [
        "df.shape"
      ],
      "execution_count": 236,
      "outputs": [
        {
          "output_type": "execute_result",
          "data": {
            "text/plain": [
              "(32560, 15)"
            ]
          },
          "metadata": {
            "tags": []
          },
          "execution_count": 236
        }
      ]
    },
    {
      "cell_type": "markdown",
      "metadata": {
        "id": "Rqwic-yHDv0-"
      },
      "source": [
        "There are 32560 Rows and 15 Columns present in Dataset ."
      ]
    },
    {
      "cell_type": "code",
      "metadata": {
        "colab": {
          "base_uri": "https://localhost:8080/"
        },
        "id": "kKlElA6xDu8f",
        "outputId": "dc129e87-f53b-463b-b249-4c36ea6da1f0"
      },
      "source": [
        "df.columns"
      ],
      "execution_count": 237,
      "outputs": [
        {
          "output_type": "execute_result",
          "data": {
            "text/plain": [
              "Index(['Age', 'Workclass', 'Fnlwgt', 'Education', 'Education_num',\n",
              "       'Marital_status', 'Occupation', 'Relationship', 'Race', 'Sex',\n",
              "       'Capital_gain', 'Capital_loss', 'Hours_per_week', 'Native_country',\n",
              "       'Income'],\n",
              "      dtype='object')"
            ]
          },
          "metadata": {
            "tags": []
          },
          "execution_count": 237
        }
      ]
    },
    {
      "cell_type": "markdown",
      "metadata": {
        "id": "uSQVWWIWD9Ti"
      },
      "source": [
        "The over all columns present in Dataset ."
      ]
    },
    {
      "cell_type": "code",
      "metadata": {
        "colab": {
          "base_uri": "https://localhost:8080/"
        },
        "id": "zINB_baND8U7",
        "outputId": "f130079b-0739-4521-dca0-01528cf70f15"
      },
      "source": [
        "df.dtypes"
      ],
      "execution_count": 238,
      "outputs": [
        {
          "output_type": "execute_result",
          "data": {
            "text/plain": [
              "Age                int64\n",
              "Workclass         object\n",
              "Fnlwgt             int64\n",
              "Education         object\n",
              "Education_num      int64\n",
              "Marital_status    object\n",
              "Occupation        object\n",
              "Relationship      object\n",
              "Race              object\n",
              "Sex               object\n",
              "Capital_gain       int64\n",
              "Capital_loss       int64\n",
              "Hours_per_week     int64\n",
              "Native_country    object\n",
              "Income            object\n",
              "dtype: object"
            ]
          },
          "metadata": {
            "tags": []
          },
          "execution_count": 238
        }
      ]
    },
    {
      "cell_type": "markdown",
      "metadata": {
        "id": "i9hKr2KOENru"
      },
      "source": [
        "The over all type present in Dataset ."
      ]
    },
    {
      "cell_type": "code",
      "metadata": {
        "colab": {
          "base_uri": "https://localhost:8080/"
        },
        "id": "za9QhZaQEMf9",
        "outputId": "1e29c8d9-0f06-43e5-b858-ee8825a0bc79"
      },
      "source": [
        "df.info()"
      ],
      "execution_count": 239,
      "outputs": [
        {
          "output_type": "stream",
          "text": [
            "<class 'pandas.core.frame.DataFrame'>\n",
            "RangeIndex: 32560 entries, 0 to 32559\n",
            "Data columns (total 15 columns):\n",
            " #   Column          Non-Null Count  Dtype \n",
            "---  ------          --------------  ----- \n",
            " 0   Age             32560 non-null  int64 \n",
            " 1   Workclass       32560 non-null  object\n",
            " 2   Fnlwgt          32560 non-null  int64 \n",
            " 3   Education       32560 non-null  object\n",
            " 4   Education_num   32560 non-null  int64 \n",
            " 5   Marital_status  32560 non-null  object\n",
            " 6   Occupation      32560 non-null  object\n",
            " 7   Relationship    32560 non-null  object\n",
            " 8   Race            32560 non-null  object\n",
            " 9   Sex             32560 non-null  object\n",
            " 10  Capital_gain    32560 non-null  int64 \n",
            " 11  Capital_loss    32560 non-null  int64 \n",
            " 12  Hours_per_week  32560 non-null  int64 \n",
            " 13  Native_country  32560 non-null  object\n",
            " 14  Income          32560 non-null  object\n",
            "dtypes: int64(6), object(9)\n",
            "memory usage: 3.7+ MB\n"
          ],
          "name": "stdout"
        }
      ]
    },
    {
      "cell_type": "markdown",
      "metadata": {
        "id": "895V_V1tEfD9"
      },
      "source": [
        "## Statistics information "
      ]
    },
    {
      "cell_type": "code",
      "metadata": {
        "colab": {
          "base_uri": "https://localhost:8080/",
          "height": 290
        },
        "id": "94QtFrfyEZRF",
        "outputId": "e048caaf-313d-4858-f316-4b170cc01367"
      },
      "source": [
        "df.describe()"
      ],
      "execution_count": 240,
      "outputs": [
        {
          "output_type": "execute_result",
          "data": {
            "text/html": [
              "<div>\n",
              "<style scoped>\n",
              "    .dataframe tbody tr th:only-of-type {\n",
              "        vertical-align: middle;\n",
              "    }\n",
              "\n",
              "    .dataframe tbody tr th {\n",
              "        vertical-align: top;\n",
              "    }\n",
              "\n",
              "    .dataframe thead th {\n",
              "        text-align: right;\n",
              "    }\n",
              "</style>\n",
              "<table border=\"1\" class=\"dataframe\">\n",
              "  <thead>\n",
              "    <tr style=\"text-align: right;\">\n",
              "      <th></th>\n",
              "      <th>Age</th>\n",
              "      <th>Fnlwgt</th>\n",
              "      <th>Education_num</th>\n",
              "      <th>Capital_gain</th>\n",
              "      <th>Capital_loss</th>\n",
              "      <th>Hours_per_week</th>\n",
              "    </tr>\n",
              "  </thead>\n",
              "  <tbody>\n",
              "    <tr>\n",
              "      <th>count</th>\n",
              "      <td>32560.000000</td>\n",
              "      <td>3.256000e+04</td>\n",
              "      <td>32560.000000</td>\n",
              "      <td>32560.000000</td>\n",
              "      <td>32560.000000</td>\n",
              "      <td>32560.000000</td>\n",
              "    </tr>\n",
              "    <tr>\n",
              "      <th>mean</th>\n",
              "      <td>38.581634</td>\n",
              "      <td>1.897818e+05</td>\n",
              "      <td>10.080590</td>\n",
              "      <td>1077.615172</td>\n",
              "      <td>87.306511</td>\n",
              "      <td>40.437469</td>\n",
              "    </tr>\n",
              "    <tr>\n",
              "      <th>std</th>\n",
              "      <td>13.640642</td>\n",
              "      <td>1.055498e+05</td>\n",
              "      <td>2.572709</td>\n",
              "      <td>7385.402999</td>\n",
              "      <td>402.966116</td>\n",
              "      <td>12.347618</td>\n",
              "    </tr>\n",
              "    <tr>\n",
              "      <th>min</th>\n",
              "      <td>17.000000</td>\n",
              "      <td>1.228500e+04</td>\n",
              "      <td>1.000000</td>\n",
              "      <td>0.000000</td>\n",
              "      <td>0.000000</td>\n",
              "      <td>1.000000</td>\n",
              "    </tr>\n",
              "    <tr>\n",
              "      <th>25%</th>\n",
              "      <td>28.000000</td>\n",
              "      <td>1.178315e+05</td>\n",
              "      <td>9.000000</td>\n",
              "      <td>0.000000</td>\n",
              "      <td>0.000000</td>\n",
              "      <td>40.000000</td>\n",
              "    </tr>\n",
              "    <tr>\n",
              "      <th>50%</th>\n",
              "      <td>37.000000</td>\n",
              "      <td>1.783630e+05</td>\n",
              "      <td>10.000000</td>\n",
              "      <td>0.000000</td>\n",
              "      <td>0.000000</td>\n",
              "      <td>40.000000</td>\n",
              "    </tr>\n",
              "    <tr>\n",
              "      <th>75%</th>\n",
              "      <td>48.000000</td>\n",
              "      <td>2.370545e+05</td>\n",
              "      <td>12.000000</td>\n",
              "      <td>0.000000</td>\n",
              "      <td>0.000000</td>\n",
              "      <td>45.000000</td>\n",
              "    </tr>\n",
              "    <tr>\n",
              "      <th>max</th>\n",
              "      <td>90.000000</td>\n",
              "      <td>1.484705e+06</td>\n",
              "      <td>16.000000</td>\n",
              "      <td>99999.000000</td>\n",
              "      <td>4356.000000</td>\n",
              "      <td>99.000000</td>\n",
              "    </tr>\n",
              "  </tbody>\n",
              "</table>\n",
              "</div>"
            ],
            "text/plain": [
              "                Age        Fnlwgt  ...  Capital_loss  Hours_per_week\n",
              "count  32560.000000  3.256000e+04  ...  32560.000000    32560.000000\n",
              "mean      38.581634  1.897818e+05  ...     87.306511       40.437469\n",
              "std       13.640642  1.055498e+05  ...    402.966116       12.347618\n",
              "min       17.000000  1.228500e+04  ...      0.000000        1.000000\n",
              "25%       28.000000  1.178315e+05  ...      0.000000       40.000000\n",
              "50%       37.000000  1.783630e+05  ...      0.000000       40.000000\n",
              "75%       48.000000  2.370545e+05  ...      0.000000       45.000000\n",
              "max       90.000000  1.484705e+06  ...   4356.000000       99.000000\n",
              "\n",
              "[8 rows x 6 columns]"
            ]
          },
          "metadata": {
            "tags": []
          },
          "execution_count": 240
        }
      ]
    },
    {
      "cell_type": "markdown",
      "metadata": {
        "id": "C7OHju1xExN6"
      },
      "source": [
        "\n",
        "**Observations :-**\n",
        "\n",
        "1) The mean is more than median for all columns.\n",
        "\n",
        "2) There is large difference between standard deviation and maximum for capital_gain, capital_loss ."
      ]
    },
    {
      "cell_type": "markdown",
      "metadata": {
        "id": "DzrkFsq2FEwx"
      },
      "source": [
        "\n",
        "## Exploring Target Variable"
      ]
    },
    {
      "cell_type": "code",
      "metadata": {
        "colab": {
          "base_uri": "https://localhost:8080/"
        },
        "id": "d2i1J9fMEuD5",
        "outputId": "c6db8f56-fabe-4cf5-c621-1d3de8c91bc8"
      },
      "source": [
        "df['Income'].value_counts()"
      ],
      "execution_count": 241,
      "outputs": [
        {
          "output_type": "execute_result",
          "data": {
            "text/plain": [
              " <=50K    24719\n",
              " >50K      7841\n",
              "Name: Income, dtype: int64"
            ]
          },
          "metadata": {
            "tags": []
          },
          "execution_count": 241
        }
      ]
    },
    {
      "cell_type": "markdown",
      "metadata": {
        "id": "wVx88xYIFXmo"
      },
      "source": [
        "**As we have categorical values in Income column, so this is a classification problem.**"
      ]
    },
    {
      "cell_type": "markdown",
      "metadata": {
        "id": "q7kaM5H5Film"
      },
      "source": [
        "# Data Visualizations\n",
        "\n",
        "To check missing values "
      ]
    },
    {
      "cell_type": "code",
      "metadata": {
        "colab": {
          "base_uri": "https://localhost:8080/",
          "height": 357
        },
        "id": "O6btD_uhFJOZ",
        "outputId": "ad609c4b-2783-4b0a-ece3-0e50d91f4655"
      },
      "source": [
        "sns.heatmap(df.isnull())"
      ],
      "execution_count": 242,
      "outputs": [
        {
          "output_type": "execute_result",
          "data": {
            "text/plain": [
              "<matplotlib.axes._subplots.AxesSubplot at 0x7fd04c2943d0>"
            ]
          },
          "metadata": {
            "tags": []
          },
          "execution_count": 242
        },
        {
          "output_type": "display_data",
          "data": {
            "image/png": "[encoded data removed]",
            "text/plain": [
              "<Figure size 432x288 with 2 Axes>"
            ]
          },
          "metadata": {
            "tags": []
          }
        }
      ]
    },
    {
      "cell_type": "markdown",
      "metadata": {
        "id": "eAbWUVQnF4bK"
      },
      "source": [
        "The data as no missing value ."
      ]
    },
    {
      "cell_type": "code",
      "metadata": {
        "colab": {
          "base_uri": "https://localhost:8080/"
        },
        "id": "rdamvIzwFuKI",
        "outputId": "ac073191-eaf3-4732-d4b1-e66738b9da4b"
      },
      "source": [
        "df.isnull().sum()"
      ],
      "execution_count": 243,
      "outputs": [
        {
          "output_type": "execute_result",
          "data": {
            "text/plain": [
              "Age               0\n",
              "Workclass         0\n",
              "Fnlwgt            0\n",
              "Education         0\n",
              "Education_num     0\n",
              "Marital_status    0\n",
              "Occupation        0\n",
              "Relationship      0\n",
              "Race              0\n",
              "Sex               0\n",
              "Capital_gain      0\n",
              "Capital_loss      0\n",
              "Hours_per_week    0\n",
              "Native_country    0\n",
              "Income            0\n",
              "dtype: int64"
            ]
          },
          "metadata": {
            "tags": []
          },
          "execution_count": 243
        }
      ]
    },
    {
      "cell_type": "markdown",
      "metadata": {
        "id": "jDfQa1bbGAMr"
      },
      "source": [
        "The data as no missing value ."
      ]
    },
    {
      "cell_type": "markdown",
      "metadata": {
        "id": "5FNNw9jRGEIZ"
      },
      "source": [
        "## Univariate Analysis"
      ]
    },
    {
      "cell_type": "code",
      "metadata": {
        "colab": {
          "base_uri": "https://localhost:8080/",
          "height": 295
        },
        "id": "jEVMOHLSF3IU",
        "outputId": "e648a27f-86fe-4c5a-d969-e67600ea1a5e"
      },
      "source": [
        "sns.countplot(df['Income'])"
      ],
      "execution_count": 244,
      "outputs": [
        {
          "output_type": "execute_result",
          "data": {
            "text/plain": [
              "<matplotlib.axes._subplots.AxesSubplot at 0x7fd04c11ed50>"
            ]
          },
          "metadata": {
            "tags": []
          },
          "execution_count": 244
        },
        {
          "output_type": "display_data",
          "data": {
            "image/png": "[encoded data removed]",
            "text/plain": [
              "<Figure size 432x288 with 1 Axes>"
            ]
          },
          "metadata": {
            "tags": []
          }
        }
      ]
    },
    {
      "cell_type": "markdown",
      "metadata": {
        "id": "cyqvE4U-GNiB"
      },
      "source": [
        "Observations :-\n",
        "\n",
        "1) People who have their income less than and equal to fifty thousand dollars are present more in dataset.\n",
        "\n",
        "2) This is a class imbalance problem."
      ]
    },
    {
      "cell_type": "code",
      "metadata": {
        "colab": {
          "base_uri": "https://localhost:8080/",
          "height": 730
        },
        "id": "O8-vj_Y7GIt-",
        "outputId": "8c337dca-2283-45d9-dd0b-03144c7e4ffb"
      },
      "source": [
        "plt.figure(figsize=(18,12))\n",
        "sns.set_style('whitegrid')\n",
        "sns.countplot(x='Income',hue='Workclass',data=df,palette='RdBu_r')"
      ],
      "execution_count": 245,
      "outputs": [
        {
          "output_type": "execute_result",
          "data": {
            "text/plain": [
              "<matplotlib.axes._subplots.AxesSubplot at 0x7fd04c182190>"
            ]
          },
          "metadata": {
            "tags": []
          },
          "execution_count": 245
        },
        {
          "output_type": "display_data",
          "data": {
            "image/png": "[encoded data removed]",
            "text/plain": [
              "<Figure size 1296x864 with 1 Axes>"
            ]
          },
          "metadata": {
            "tags": []
          }
        }
      ]
    },
    {
      "cell_type": "markdown",
      "metadata": {
        "id": "FOsOE-QcGfvV"
      },
      "source": [
        "\n",
        "**Observations :-**\n",
        "\n",
        "1) Highest number of people in private department have income greater than and equal to 50k.\n",
        "\n",
        "2) Lowest number of people in unknown department have income greater than and equal to 50k."
      ]
    },
    {
      "cell_type": "code",
      "metadata": {
        "colab": {
          "base_uri": "https://localhost:8080/",
          "height": 730
        },
        "id": "ZW9w247gGZvv",
        "outputId": "b8dca09a-79a9-4f1d-a28c-19e947eaa804"
      },
      "source": [
        "plt.figure(figsize=(18,12))\n",
        "#plt.legend(loc=\"best\")\n",
        "sns.set_style('whitegrid')\n",
        "sns.countplot(x='Income',hue='Education',data=df,palette='RdBu_r')"
      ],
      "execution_count": 246,
      "outputs": [
        {
          "output_type": "execute_result",
          "data": {
            "text/plain": [
              "<matplotlib.axes._subplots.AxesSubplot at 0x7fd04c0e4810>"
            ]
          },
          "metadata": {
            "tags": []
          },
          "execution_count": 246
        },
        {
          "output_type": "display_data",
          "data": {
            "image/png": "[encoded data removed]",
            "text/plain": [
              "<Figure size 1296x864 with 1 Axes>"
            ]
          },
          "metadata": {
            "tags": []
          }
        }
      ]
    },
    {
      "cell_type": "markdown",
      "metadata": {
        "id": "P57r2WmAG9k7"
      },
      "source": [
        " Observations :-\n",
        "\n",
        "1) Highest number of bachelors have income greater than and equal to 50k.\n",
        "\n",
        "2) Lowest number 0f 9th pass have income greater than and equal to 50k. \n",
        "\n",
        "3) High number of HS-grad, Masters and some - college people have income greater than and equal to 50k.\n",
        "\n",
        "4) Very few number of 12th, 11th, 10th and 7th - 8th passed people have income greater than and equal to 50k.\n",
        "\n",
        "5) 0 number of Preschool, 1st - 4th, and 5th - 6th passes people have income greater than and equal to 50k."
      ]
    },
    {
      "cell_type": "code",
      "metadata": {
        "id": "ah9OvzpfGoyu"
      },
      "source": [
        "df.drop('Education_num',axis=1,inplace=True)"
      ],
      "execution_count": 247,
      "outputs": []
    },
    {
      "cell_type": "markdown",
      "metadata": {
        "id": "mJR6nFOaHqgx"
      },
      "source": [
        "We will drop the column of Education_num as it is formed by applying grouping on Education column."
      ]
    },
    {
      "cell_type": "code",
      "metadata": {
        "colab": {
          "base_uri": "https://localhost:8080/",
          "height": 730
        },
        "id": "gp0LubhTHpL9",
        "outputId": "aea35961-ab39-4417-86ce-e1381cf25751"
      },
      "source": [
        "plt.figure(figsize=(18,12))\n",
        "#plt.legend(loc=\"best\")\n",
        "sns.set_style('whitegrid')\n",
        "sns.countplot(x='Income',hue='Marital_status',data=df,palette='RdBu_r')"
      ],
      "execution_count": 248,
      "outputs": [
        {
          "output_type": "execute_result",
          "data": {
            "text/plain": [
              "<matplotlib.axes._subplots.AxesSubplot at 0x7fd04c0fa1d0>"
            ]
          },
          "metadata": {
            "tags": []
          },
          "execution_count": 248
        },
        {
          "output_type": "display_data",
          "data": {
            "image/png": "[encoded data removed]",
            "text/plain": [
              "<Figure size 1296x864 with 1 Axes>"
            ]
          },
          "metadata": {
            "tags": []
          }
        }
      ]
    },
    {
      "cell_type": "markdown",
      "metadata": {
        "id": "X-M2ZO-ZIBdC"
      },
      "source": [
        "\n",
        "**Observations :-**\n",
        "\n",
        "1) Highest number of married people who have civilian spouse have income greater than and equal to 50k.\n",
        "\n",
        "2) Lowest number of married people who have absent spouse have income greater than and equal to 50k.\n",
        "\n",
        "3) High number of divorced and never married people have income greater than and equal to 50k.\n",
        "\n",
        "4) Very few number of seperated and widowed people have income greater than and equal to 50k.\n",
        "\n",
        "5) 0 number of people who have spouse in armed forces have income greater than and equal to 50k."
      ]
    },
    {
      "cell_type": "code",
      "metadata": {
        "colab": {
          "base_uri": "https://localhost:8080/",
          "height": 730
        },
        "id": "ny90BlQOH1dP",
        "outputId": "beb24a7f-f812-4349-a5a3-cbb50a132d89"
      },
      "source": [
        "plt.figure(figsize=(18,12))\n",
        "sns.set_style('whitegrid')\n",
        "sns.countplot(x='Income',hue='Occupation',data=df,palette='RdBu_r')"
      ],
      "execution_count": 249,
      "outputs": [
        {
          "output_type": "execute_result",
          "data": {
            "text/plain": [
              "<matplotlib.axes._subplots.AxesSubplot at 0x7fd04c087d50>"
            ]
          },
          "metadata": {
            "tags": []
          },
          "execution_count": 249
        },
        {
          "output_type": "display_data",
          "data": {
            "image/png": "[encoded data removed]",
            "text/plain": [
              "<Figure size 1296x864 with 1 Axes>"
            ]
          },
          "metadata": {
            "tags": []
          }
        }
      ]
    },
    {
      "cell_type": "markdown",
      "metadata": {
        "id": "iUYftHPVIc3S"
      },
      "source": [
        "**Observations :-**\n",
        "\n",
        "1) Highest number of executive - managers have income greater than and equal to 50k.\n",
        "\n",
        "2) Lowest number of handler cleaners have income greater than and equal to 50k.\n",
        "\n",
        "3) High number of speciality professors, scalers and crafts repairer have income greater than and equal to 50k.\n",
        "\n",
        "4) Very few number of people in other - services, farmer fishing and unkonwn services have income greater than and equal to 50k.\n",
        "\n",
        "5) 0 number of people in armed forces and private house services have income greater than and equal to 50k."
      ]
    },
    {
      "cell_type": "code",
      "metadata": {
        "colab": {
          "base_uri": "https://localhost:8080/",
          "height": 295
        },
        "id": "afpSw-YVIZZB",
        "outputId": "4f160035-d477-422d-fb48-44dc5a855ef2"
      },
      "source": [
        "#plt.figure(figsize=(18,12))\n",
        "#plt.legend(loc=\"best\")\n",
        "sns.set_style('whitegrid')\n",
        "sns.countplot(x='Income',hue='Relationship',data=df,palette='RdBu_r')"
      ],
      "execution_count": 250,
      "outputs": [
        {
          "output_type": "execute_result",
          "data": {
            "text/plain": [
              "<matplotlib.axes._subplots.AxesSubplot at 0x7fd04c1103d0>"
            ]
          },
          "metadata": {
            "tags": []
          },
          "execution_count": 250
        },
        {
          "output_type": "display_data",
          "data": {
            "image/png": "[encoded data removed]",
            "text/plain": [
              "<Figure size 432x288 with 1 Axes>"
            ]
          },
          "metadata": {
            "tags": []
          }
        }
      ]
    },
    {
      "cell_type": "markdown",
      "metadata": {
        "id": "bYJg39DGIzVF"
      },
      "source": [
        "**Obsrvations :-**\n",
        "\n",
        "1) Highest number of earning people as husbands have income greater than and equal to 50k.\n",
        "\n",
        "2) Lowest number of people who have their own child as an earning member have income greater than and equal to 50k.\n",
        "\n",
        "3) High number of people who have no family have income greater than and equal to 50k.\n",
        "\n",
        "4) Very few number of unmarried people have income greater than and equal to 50k.\n",
        "\n",
        "5) 0 number of people who have their other relatives as an earning member have income greater than and equal to 50k."
      ]
    },
    {
      "cell_type": "code",
      "metadata": {
        "colab": {
          "base_uri": "https://localhost:8080/",
          "height": 295
        },
        "id": "yXkwWu5hIwZD",
        "outputId": "2dafa261-5836-4e46-d543-9d4fcb7f900b"
      },
      "source": [
        "#plt.figure(figsize=(18,12))\n",
        "#plt.legend(loc=\"best\")\n",
        "sns.set_style('whitegrid')\n",
        "sns.countplot(x='Income',hue='Race',data=df,palette='RdBu_r')"
      ],
      "execution_count": 251,
      "outputs": [
        {
          "output_type": "execute_result",
          "data": {
            "text/plain": [
              "<matplotlib.axes._subplots.AxesSubplot at 0x7fd04bd60e50>"
            ]
          },
          "metadata": {
            "tags": []
          },
          "execution_count": 251
        },
        {
          "output_type": "display_data",
          "data": {
            "image/png": "[encoded data removed]",
            "text/plain": [
              "<Figure size 432x288 with 1 Axes>"
            ]
          },
          "metadata": {
            "tags": []
          }
        }
      ]
    },
    {
      "cell_type": "markdown",
      "metadata": {
        "id": "DI75I8sVJFLz"
      },
      "source": [
        "**Observations :-**\n",
        "\n",
        "1) Highest number of white people have income greater than and equal to 50k.\n",
        "\n",
        "2) Lowest number of black people have income greater than and equal to 50k.\n",
        "\n",
        "3) 0 number of Asian-Pac-Islander and Armer-Indian-Eskimo have income greater than and equal to 50k."
      ]
    },
    {
      "cell_type": "code",
      "metadata": {
        "colab": {
          "base_uri": "https://localhost:8080/",
          "height": 295
        },
        "id": "YuXFLQu5JCo-",
        "outputId": "08473a0d-06ed-4f0e-a4b8-192361e21544"
      },
      "source": [
        "#plt.figure(figsize=(18,12))\n",
        "#plt.legend(loc=\"best\")\n",
        "sns.set_style('whitegrid')\n",
        "sns.countplot(x='Income',hue='Sex',data=df,palette='RdBu_r')"
      ],
      "execution_count": 252,
      "outputs": [
        {
          "output_type": "execute_result",
          "data": {
            "text/plain": [
              "<matplotlib.axes._subplots.AxesSubplot at 0x7fd04bcc4890>"
            ]
          },
          "metadata": {
            "tags": []
          },
          "execution_count": 252
        },
        {
          "output_type": "display_data",
          "data": {
            "image/png": "[encoded data removed]",
            "text/plain": [
              "<Figure size 432x288 with 1 Axes>"
            ]
          },
          "metadata": {
            "tags": []
          }
        }
      ]
    },
    {
      "cell_type": "markdown",
      "metadata": {
        "id": "TGKcpZvUJ1pz"
      },
      "source": [
        "\n",
        "**Observations :-**\n",
        "\n",
        "1) More number of males have income greater than and equal to 50k as compared to females."
      ]
    },
    {
      "cell_type": "code",
      "metadata": {
        "id": "dm8spaIUJ7wc"
      },
      "source": [
        "df_int_types=[]\n",
        "for i in df.columns:\n",
        "    if df[i].dtypes == \"int64\":\n",
        "        df_int_types.append(i)"
      ],
      "execution_count": 253,
      "outputs": []
    },
    {
      "cell_type": "code",
      "metadata": {
        "colab": {
          "base_uri": "https://localhost:8080/"
        },
        "id": "aeLjWxVyJ-nP",
        "outputId": "7b757f10-b79f-4c29-d06e-a8f0d18349c5"
      },
      "source": [
        "df_int_types"
      ],
      "execution_count": 254,
      "outputs": [
        {
          "output_type": "execute_result",
          "data": {
            "text/plain": [
              "['Age', 'Fnlwgt', 'Capital_gain', 'Capital_loss', 'Hours_per_week']"
            ]
          },
          "metadata": {
            "tags": []
          },
          "execution_count": 254
        }
      ]
    },
    {
      "cell_type": "code",
      "metadata": {
        "id": "60b-Qf_RKA6y"
      },
      "source": [
        "df_str_types=[]\n",
        "for i in df.columns:\n",
        "    if df[i].dtypes == \"object\":\n",
        "        df_str_types.append(i)"
      ],
      "execution_count": 255,
      "outputs": []
    },
    {
      "cell_type": "code",
      "metadata": {
        "colab": {
          "base_uri": "https://localhost:8080/"
        },
        "id": "5ETzEGlkKDhd",
        "outputId": "c794f7d9-cb9f-417a-c15c-1d52a1cb835c"
      },
      "source": [
        "df_str_types"
      ],
      "execution_count": 256,
      "outputs": [
        {
          "output_type": "execute_result",
          "data": {
            "text/plain": [
              "['Workclass',\n",
              " 'Education',\n",
              " 'Marital_status',\n",
              " 'Occupation',\n",
              " 'Relationship',\n",
              " 'Race',\n",
              " 'Sex',\n",
              " 'Native_country',\n",
              " 'Income']"
            ]
          },
          "metadata": {
            "tags": []
          },
          "execution_count": 256
        }
      ]
    },
    {
      "cell_type": "code",
      "metadata": {
        "colab": {
          "base_uri": "https://localhost:8080/"
        },
        "id": "Wfn7gX5qKGEW",
        "outputId": "4d213aef-0950-4e2f-aad3-03d30db02edf"
      },
      "source": [
        "for value in df_str_types:\n",
        "    print(df[value].value_counts().sort_index())"
      ],
      "execution_count": 257,
      "outputs": [
        {
          "output_type": "stream",
          "text": [
            " ?                    1836\n",
            " Federal-gov           960\n",
            " Local-gov            2093\n",
            " Never-worked            7\n",
            " Private             22696\n",
            " Self-emp-inc         1116\n",
            " Self-emp-not-inc     2541\n",
            " State-gov            1297\n",
            " Without-pay            14\n",
            "Name: Workclass, dtype: int64\n",
            " 10th              933\n",
            " 11th             1175\n",
            " 12th              433\n",
            " 1st-4th           168\n",
            " 5th-6th           333\n",
            " 7th-8th           646\n",
            " 9th               514\n",
            " Assoc-acdm       1067\n",
            " Assoc-voc        1382\n",
            " Bachelors        5354\n",
            " Doctorate         413\n",
            " HS-grad         10501\n",
            " Masters          1723\n",
            " Preschool          51\n",
            " Prof-school       576\n",
            " Some-college     7291\n",
            "Name: Education, dtype: int64\n",
            " Divorced                  4443\n",
            " Married-AF-spouse           23\n",
            " Married-civ-spouse       14976\n",
            " Married-spouse-absent      418\n",
            " Never-married            10682\n",
            " Separated                 1025\n",
            " Widowed                    993\n",
            "Name: Marital_status, dtype: int64\n",
            " ?                    1843\n",
            " Adm-clerical         3769\n",
            " Armed-Forces            9\n",
            " Craft-repair         4099\n",
            " Exec-managerial      4066\n",
            " Farming-fishing       994\n",
            " Handlers-cleaners    1370\n",
            " Machine-op-inspct    2002\n",
            " Other-service        3295\n",
            " Priv-house-serv       149\n",
            " Prof-specialty       4140\n",
            " Protective-serv       649\n",
            " Sales                3650\n",
            " Tech-support          928\n",
            " Transport-moving     1597\n",
            "Name: Occupation, dtype: int64\n",
            " Husband           13193\n",
            " Not-in-family      8304\n",
            " Other-relative      981\n",
            " Own-child          5068\n",
            " Unmarried          3446\n",
            " Wife               1568\n",
            "Name: Relationship, dtype: int64\n",
            " Amer-Indian-Eskimo      311\n",
            " Asian-Pac-Islander     1039\n",
            " Black                  3124\n",
            " Other                   271\n",
            " White                 27815\n",
            "Name: Race, dtype: int64\n",
            " Female    10771\n",
            " Male      21789\n",
            "Name: Sex, dtype: int64\n",
            " ?                               583\n",
            " Cambodia                         19\n",
            " Canada                          121\n",
            " China                            75\n",
            " Columbia                         59\n",
            " Cuba                             95\n",
            " Dominican-Republic               70\n",
            " Ecuador                          28\n",
            " El-Salvador                     106\n",
            " England                          90\n",
            " France                           29\n",
            " Germany                         137\n",
            " Greece                           29\n",
            " Guatemala                        64\n",
            " Haiti                            44\n",
            " Holand-Netherlands                1\n",
            " Honduras                         13\n",
            " Hong                             20\n",
            " Hungary                          13\n",
            " India                           100\n",
            " Iran                             43\n",
            " Ireland                          24\n",
            " Italy                            73\n",
            " Jamaica                          81\n",
            " Japan                            62\n",
            " Laos                             18\n",
            " Mexico                          643\n",
            " Nicaragua                        34\n",
            " Outlying-US(Guam-USVI-etc)       14\n",
            " Peru                             31\n",
            " Philippines                     198\n",
            " Poland                           60\n",
            " Portugal                         37\n",
            " Puerto-Rico                     114\n",
            " Scotland                         12\n",
            " South                            80\n",
            " Taiwan                           51\n",
            " Thailand                         18\n",
            " Trinadad&Tobago                  19\n",
            " United-States                 29169\n",
            " Vietnam                          67\n",
            " Yugoslavia                       16\n",
            "Name: Native_country, dtype: int64\n",
            " <=50K    24719\n",
            " >50K      7841\n",
            "Name: Income, dtype: int64\n"
          ],
          "name": "stdout"
        }
      ]
    },
    {
      "cell_type": "code",
      "metadata": {
        "colab": {
          "base_uri": "https://localhost:8080/"
        },
        "id": "0FrfDc7JKI5I",
        "outputId": "6724dff3-d577-4c8e-dbdb-373c839df172"
      },
      "source": [
        "from sklearn.preprocessing import LabelEncoder\n",
        "LE=LabelEncoder()\n",
        "for value in df_str_types:\n",
        "    df[value]=LE.fit_transform(df[value])\n",
        "    print(df[value].value_counts().sort_index())"
      ],
      "execution_count": 258,
      "outputs": [
        {
          "output_type": "stream",
          "text": [
            "0     1836\n",
            "1      960\n",
            "2     2093\n",
            "3        7\n",
            "4    22696\n",
            "5     1116\n",
            "6     2541\n",
            "7     1297\n",
            "8       14\n",
            "Name: Workclass, dtype: int64\n",
            "0       933\n",
            "1      1175\n",
            "2       433\n",
            "3       168\n",
            "4       333\n",
            "5       646\n",
            "6       514\n",
            "7      1067\n",
            "8      1382\n",
            "9      5354\n",
            "10      413\n",
            "11    10501\n",
            "12     1723\n",
            "13       51\n",
            "14      576\n",
            "15     7291\n",
            "Name: Education, dtype: int64\n",
            "0     4443\n",
            "1       23\n",
            "2    14976\n",
            "3      418\n",
            "4    10682\n",
            "5     1025\n",
            "6      993\n",
            "Name: Marital_status, dtype: int64\n",
            "0     1843\n",
            "1     3769\n",
            "2        9\n",
            "3     4099\n",
            "4     4066\n",
            "5      994\n",
            "6     1370\n",
            "7     2002\n",
            "8     3295\n",
            "9      149\n",
            "10    4140\n",
            "11     649\n",
            "12    3650\n",
            "13     928\n",
            "14    1597\n",
            "Name: Occupation, dtype: int64\n",
            "0    13193\n",
            "1     8304\n",
            "2      981\n",
            "3     5068\n",
            "4     3446\n",
            "5     1568\n",
            "Name: Relationship, dtype: int64\n",
            "0      311\n",
            "1     1039\n",
            "2     3124\n",
            "3      271\n",
            "4    27815\n",
            "Name: Race, dtype: int64\n",
            "0    10771\n",
            "1    21789\n",
            "Name: Sex, dtype: int64\n",
            "0       583\n",
            "1        19\n",
            "2       121\n",
            "3        75\n",
            "4        59\n",
            "5        95\n",
            "6        70\n",
            "7        28\n",
            "8       106\n",
            "9        90\n",
            "10       29\n",
            "11      137\n",
            "12       29\n",
            "13       64\n",
            "14       44\n",
            "15        1\n",
            "16       13\n",
            "17       20\n",
            "18       13\n",
            "19      100\n",
            "20       43\n",
            "21       24\n",
            "22       73\n",
            "23       81\n",
            "24       62\n",
            "25       18\n",
            "26      643\n",
            "27       34\n",
            "28       14\n",
            "29       31\n",
            "30      198\n",
            "31       60\n",
            "32       37\n",
            "33      114\n",
            "34       12\n",
            "35       80\n",
            "36       51\n",
            "37       18\n",
            "38       19\n",
            "39    29169\n",
            "40       67\n",
            "41       16\n",
            "Name: Native_country, dtype: int64\n",
            "0    24719\n",
            "1     7841\n",
            "Name: Income, dtype: int64\n"
          ],
          "name": "stdout"
        }
      ]
    },
    {
      "cell_type": "code",
      "metadata": {
        "colab": {
          "base_uri": "https://localhost:8080/",
          "height": 732
        },
        "id": "qEGSt2gxKQR0",
        "outputId": "8474736a-150d-4a31-9adc-cd36131c8762"
      },
      "source": [
        "plt.figure(figsize=(18,12))\n",
        "sns.set_style('whitegrid')\n",
        "sns.countplot(x='Income',hue='Native_country',data=df,palette='RdBu_r')"
      ],
      "execution_count": 259,
      "outputs": [
        {
          "output_type": "execute_result",
          "data": {
            "text/plain": [
              "<matplotlib.axes._subplots.AxesSubplot at 0x7fd04bd292d0>"
            ]
          },
          "metadata": {
            "tags": []
          },
          "execution_count": 259
        },
        {
          "output_type": "display_data",
          "data": {
            "image/png": "[encoded data removed]",
            "text/plain": [
              "<Figure size 1296x864 with 1 Axes>"
            ]
          },
          "metadata": {
            "tags": []
          }
        }
      ]
    },
    {
      "cell_type": "markdown",
      "metadata": {
        "id": "uc-p0TrMKdah"
      },
      "source": [
        "**Observations :-**\n",
        "\n",
        "1) Highest number of people in United States have income greater than and equal to 50k.\n",
        "\n",
        "2) Lowest number of people in Scotland have income greater than and equal to 50k.\n",
        "\n",
        "3) Less number of people in Cambodia have income greater than and equal to 50k.\n",
        "\n",
        "4) Only United States, Scotland and Cambodia have income greater than and equal to 50k."
      ]
    },
    {
      "cell_type": "code",
      "metadata": {
        "id": "B2cEWJbMKYnO"
      },
      "source": [
        "df_int_types=['Age', 'Fnlwgt','Hours_per_week']"
      ],
      "execution_count": 260,
      "outputs": []
    },
    {
      "cell_type": "code",
      "metadata": {
        "colab": {
          "base_uri": "https://localhost:8080/",
          "height": 817
        },
        "id": "qD3MdhztKpR2",
        "outputId": "970e8516-c2f8-4fdf-b68b-c1d009c6d419"
      },
      "source": [
        "for i in df_int_types:\n",
        "    sns.distplot(df[i])\n",
        "    plt.show()"
      ],
      "execution_count": 261,
      "outputs": [
        {
          "output_type": "display_data",
          "data": {
            "image/png": "[encoded data removed]",
            "text/plain": [
              "<Figure size 432x288 with 1 Axes>"
            ]
          },
          "metadata": {
            "tags": []
          }
        },
        {
          "output_type": "display_data",
          "data": {
            "image/png": "[encoded data removed]",
            "text/plain": [
              "<Figure size 432x288 with 1 Axes>"
            ]
          },
          "metadata": {
            "tags": []
          }
        },
        {
          "output_type": "display_data",
          "data": {
            "image/png": "[encoded data removed]",
            "text/plain": [
              "<Figure size 432x288 with 1 Axes>"
            ]
          },
          "metadata": {
            "tags": []
          }
        }
      ]
    },
    {
      "cell_type": "markdown",
      "metadata": {
        "id": "x6kERaTWKwtV"
      },
      "source": [
        "**Observations :-**\n",
        "\n",
        "1) Age of people is majorly in the range of 20-50 according to census.\n",
        "\n",
        "2) As per census, hours per week given by people for their work is majorly in the range of 38-42.\n",
        "\n",
        "3) The weights on the Current Population Survey (CPS) files is majorly in the range of 200000-400000."
      ]
    },
    {
      "cell_type": "code",
      "metadata": {
        "colab": {
          "base_uri": "https://localhost:8080/",
          "height": 296
        },
        "id": "HEV7L-3KKreW",
        "outputId": "4dcbd782-c803-4c42-e848-763a0eb1aaef"
      },
      "source": [
        "sns.violinplot(df['Capital_loss'])"
      ],
      "execution_count": 262,
      "outputs": [
        {
          "output_type": "execute_result",
          "data": {
            "text/plain": [
              "<matplotlib.axes._subplots.AxesSubplot at 0x7fd04b718a10>"
            ]
          },
          "metadata": {
            "tags": []
          },
          "execution_count": 262
        },
        {
          "output_type": "display_data",
          "data": {
            "image/png": "[encoded data removed]",
            "text/plain": [
              "<Figure size 432x288 with 1 Axes>"
            ]
          },
          "metadata": {
            "tags": []
          }
        }
      ]
    },
    {
      "cell_type": "markdown",
      "metadata": {
        "id": "3CZPZRhCK-pM"
      },
      "source": [
        "\n",
        "**Observations :-**\n",
        "\n",
        "1) The capital loss of people is majorly 0 as per census.\n",
        "\n",
        "2) High number of people have capital loss in the range of 1500-2000."
      ]
    },
    {
      "cell_type": "code",
      "metadata": {
        "colab": {
          "base_uri": "https://localhost:8080/",
          "height": 296
        },
        "id": "63-MIlpDK7_x",
        "outputId": "57a501f3-99d8-45bd-f847-40b30802c0c9"
      },
      "source": [
        "sns.violinplot(df['Capital_gain'])"
      ],
      "execution_count": 263,
      "outputs": [
        {
          "output_type": "execute_result",
          "data": {
            "text/plain": [
              "<matplotlib.axes._subplots.AxesSubplot at 0x7fd04b752dd0>"
            ]
          },
          "metadata": {
            "tags": []
          },
          "execution_count": 263
        },
        {
          "output_type": "display_data",
          "data": {
            "image/png": "[encoded data removed]",
            "text/plain": [
              "<Figure size 432x288 with 1 Axes>"
            ]
          },
          "metadata": {
            "tags": []
          }
        }
      ]
    },
    {
      "cell_type": "markdown",
      "metadata": {
        "id": "V_B_0Bb6LKlg"
      },
      "source": [
        "**Observations :-**\n",
        "\n",
        "1) The capital gain of people is majorly 0 as per census.\n",
        "\n",
        "2) High number of people have capital gain in the range of 0-20000."
      ]
    },
    {
      "cell_type": "code",
      "metadata": {
        "colab": {
          "base_uri": "https://localhost:8080/",
          "height": 491
        },
        "id": "WHFIOYfaLGGT",
        "outputId": "4c0d54e4-022d-457f-f9ab-74eca20d727b"
      },
      "source": [
        "dfcorr=df.corr()\n",
        "dfcorr"
      ],
      "execution_count": 264,
      "outputs": [
        {
          "output_type": "execute_result",
          "data": {
            "text/html": [
              "<div>\n",
              "<style scoped>\n",
              "    .dataframe tbody tr th:only-of-type {\n",
              "        vertical-align: middle;\n",
              "    }\n",
              "\n",
              "    .dataframe tbody tr th {\n",
              "        vertical-align: top;\n",
              "    }\n",
              "\n",
              "    .dataframe thead th {\n",
              "        text-align: right;\n",
              "    }\n",
              "</style>\n",
              "<table border=\"1\" class=\"dataframe\">\n",
              "  <thead>\n",
              "    <tr style=\"text-align: right;\">\n",
              "      <th></th>\n",
              "      <th>Age</th>\n",
              "      <th>Workclass</th>\n",
              "      <th>Fnlwgt</th>\n",
              "      <th>Education</th>\n",
              "      <th>Marital_status</th>\n",
              "      <th>Occupation</th>\n",
              "      <th>Relationship</th>\n",
              "      <th>Race</th>\n",
              "      <th>Sex</th>\n",
              "      <th>Capital_gain</th>\n",
              "      <th>Capital_loss</th>\n",
              "      <th>Hours_per_week</th>\n",
              "      <th>Native_country</th>\n",
              "      <th>Income</th>\n",
              "    </tr>\n",
              "  </thead>\n",
              "  <tbody>\n",
              "    <tr>\n",
              "      <th>Age</th>\n",
              "      <td>1.000000</td>\n",
              "      <td>0.003786</td>\n",
              "      <td>-0.076646</td>\n",
              "      <td>-0.010508</td>\n",
              "      <td>-0.266292</td>\n",
              "      <td>-0.020946</td>\n",
              "      <td>-0.263698</td>\n",
              "      <td>0.028718</td>\n",
              "      <td>0.088832</td>\n",
              "      <td>0.077674</td>\n",
              "      <td>0.057775</td>\n",
              "      <td>0.068756</td>\n",
              "      <td>-0.001151</td>\n",
              "      <td>0.234039</td>\n",
              "    </tr>\n",
              "    <tr>\n",
              "      <th>Workclass</th>\n",
              "      <td>0.003786</td>\n",
              "      <td>1.000000</td>\n",
              "      <td>-0.016587</td>\n",
              "      <td>0.023537</td>\n",
              "      <td>-0.064798</td>\n",
              "      <td>0.255004</td>\n",
              "      <td>-0.090449</td>\n",
              "      <td>0.049720</td>\n",
              "      <td>0.095942</td>\n",
              "      <td>0.033828</td>\n",
              "      <td>0.012231</td>\n",
              "      <td>0.138974</td>\n",
              "      <td>-0.007710</td>\n",
              "      <td>0.051645</td>\n",
              "    </tr>\n",
              "    <tr>\n",
              "      <th>Fnlwgt</th>\n",
              "      <td>-0.076646</td>\n",
              "      <td>-0.016587</td>\n",
              "      <td>1.000000</td>\n",
              "      <td>-0.028156</td>\n",
              "      <td>0.028184</td>\n",
              "      <td>0.001554</td>\n",
              "      <td>0.008922</td>\n",
              "      <td>-0.021278</td>\n",
              "      <td>0.026882</td>\n",
              "      <td>0.000437</td>\n",
              "      <td>-0.010259</td>\n",
              "      <td>-0.018770</td>\n",
              "      <td>-0.051957</td>\n",
              "      <td>-0.009481</td>\n",
              "    </tr>\n",
              "    <tr>\n",
              "      <th>Education</th>\n",
              "      <td>-0.010508</td>\n",
              "      <td>0.023537</td>\n",
              "      <td>-0.028156</td>\n",
              "      <td>1.000000</td>\n",
              "      <td>-0.038398</td>\n",
              "      <td>-0.021274</td>\n",
              "      <td>-0.010879</td>\n",
              "      <td>0.014135</td>\n",
              "      <td>-0.027349</td>\n",
              "      <td>0.030047</td>\n",
              "      <td>0.016744</td>\n",
              "      <td>0.055510</td>\n",
              "      <td>0.064291</td>\n",
              "      <td>0.079311</td>\n",
              "    </tr>\n",
              "    <tr>\n",
              "      <th>Marital_status</th>\n",
              "      <td>-0.266292</td>\n",
              "      <td>-0.064798</td>\n",
              "      <td>0.028184</td>\n",
              "      <td>-0.038398</td>\n",
              "      <td>1.000000</td>\n",
              "      <td>-0.009617</td>\n",
              "      <td>0.185461</td>\n",
              "      <td>-0.068025</td>\n",
              "      <td>-0.129337</td>\n",
              "      <td>-0.043398</td>\n",
              "      <td>-0.034182</td>\n",
              "      <td>-0.190521</td>\n",
              "      <td>-0.023827</td>\n",
              "      <td>-0.199295</td>\n",
              "    </tr>\n",
              "    <tr>\n",
              "      <th>Occupation</th>\n",
              "      <td>-0.020946</td>\n",
              "      <td>0.255004</td>\n",
              "      <td>0.001554</td>\n",
              "      <td>-0.021274</td>\n",
              "      <td>-0.009617</td>\n",
              "      <td>1.000000</td>\n",
              "      <td>-0.075620</td>\n",
              "      <td>0.006779</td>\n",
              "      <td>0.080328</td>\n",
              "      <td>0.025511</td>\n",
              "      <td>0.017979</td>\n",
              "      <td>0.080384</td>\n",
              "      <td>-0.012532</td>\n",
              "      <td>0.075448</td>\n",
              "    </tr>\n",
              "    <tr>\n",
              "      <th>Relationship</th>\n",
              "      <td>-0.263698</td>\n",
              "      <td>-0.090449</td>\n",
              "      <td>0.008922</td>\n",
              "      <td>-0.010879</td>\n",
              "      <td>0.185461</td>\n",
              "      <td>-0.075620</td>\n",
              "      <td>1.000000</td>\n",
              "      <td>-0.116052</td>\n",
              "      <td>-0.582453</td>\n",
              "      <td>-0.057918</td>\n",
              "      <td>-0.061064</td>\n",
              "      <td>-0.248975</td>\n",
              "      <td>-0.005504</td>\n",
              "      <td>-0.250924</td>\n",
              "    </tr>\n",
              "    <tr>\n",
              "      <th>Race</th>\n",
              "      <td>0.028718</td>\n",
              "      <td>0.049720</td>\n",
              "      <td>-0.021278</td>\n",
              "      <td>0.014135</td>\n",
              "      <td>-0.068025</td>\n",
              "      <td>0.006779</td>\n",
              "      <td>-0.116052</td>\n",
              "      <td>1.000000</td>\n",
              "      <td>0.087197</td>\n",
              "      <td>0.011143</td>\n",
              "      <td>0.018902</td>\n",
              "      <td>0.041910</td>\n",
              "      <td>0.137849</td>\n",
              "      <td>0.071853</td>\n",
              "    </tr>\n",
              "    <tr>\n",
              "      <th>Sex</th>\n",
              "      <td>0.088832</td>\n",
              "      <td>0.095942</td>\n",
              "      <td>0.026882</td>\n",
              "      <td>-0.027349</td>\n",
              "      <td>-0.129337</td>\n",
              "      <td>0.080328</td>\n",
              "      <td>-0.582453</td>\n",
              "      <td>0.087197</td>\n",
              "      <td>1.000000</td>\n",
              "      <td>0.048477</td>\n",
              "      <td>0.045572</td>\n",
              "      <td>0.229312</td>\n",
              "      <td>-0.008125</td>\n",
              "      <td>0.215995</td>\n",
              "    </tr>\n",
              "    <tr>\n",
              "      <th>Capital_gain</th>\n",
              "      <td>0.077674</td>\n",
              "      <td>0.033828</td>\n",
              "      <td>0.000437</td>\n",
              "      <td>0.030047</td>\n",
              "      <td>-0.043398</td>\n",
              "      <td>0.025511</td>\n",
              "      <td>-0.057918</td>\n",
              "      <td>0.011143</td>\n",
              "      <td>0.048477</td>\n",
              "      <td>1.000000</td>\n",
              "      <td>-0.031614</td>\n",
              "      <td>0.078409</td>\n",
              "      <td>-0.001984</td>\n",
              "      <td>0.223333</td>\n",
              "    </tr>\n",
              "    <tr>\n",
              "      <th>Capital_loss</th>\n",
              "      <td>0.057775</td>\n",
              "      <td>0.012231</td>\n",
              "      <td>-0.010259</td>\n",
              "      <td>0.016744</td>\n",
              "      <td>-0.034182</td>\n",
              "      <td>0.017979</td>\n",
              "      <td>-0.061064</td>\n",
              "      <td>0.018902</td>\n",
              "      <td>0.045572</td>\n",
              "      <td>-0.031614</td>\n",
              "      <td>1.000000</td>\n",
              "      <td>0.054256</td>\n",
              "      <td>0.000420</td>\n",
              "      <td>0.150523</td>\n",
              "    </tr>\n",
              "    <tr>\n",
              "      <th>Hours_per_week</th>\n",
              "      <td>0.068756</td>\n",
              "      <td>0.138974</td>\n",
              "      <td>-0.018770</td>\n",
              "      <td>0.055510</td>\n",
              "      <td>-0.190521</td>\n",
              "      <td>0.080384</td>\n",
              "      <td>-0.248975</td>\n",
              "      <td>0.041910</td>\n",
              "      <td>0.229312</td>\n",
              "      <td>0.078409</td>\n",
              "      <td>0.054256</td>\n",
              "      <td>1.000000</td>\n",
              "      <td>-0.002671</td>\n",
              "      <td>0.229690</td>\n",
              "    </tr>\n",
              "    <tr>\n",
              "      <th>Native_country</th>\n",
              "      <td>-0.001151</td>\n",
              "      <td>-0.007710</td>\n",
              "      <td>-0.051957</td>\n",
              "      <td>0.064291</td>\n",
              "      <td>-0.023827</td>\n",
              "      <td>-0.012532</td>\n",
              "      <td>-0.005504</td>\n",
              "      <td>0.137849</td>\n",
              "      <td>-0.008125</td>\n",
              "      <td>-0.001984</td>\n",
              "      <td>0.000420</td>\n",
              "      <td>-0.002671</td>\n",
              "      <td>1.000000</td>\n",
              "      <td>0.015845</td>\n",
              "    </tr>\n",
              "    <tr>\n",
              "      <th>Income</th>\n",
              "      <td>0.234039</td>\n",
              "      <td>0.051645</td>\n",
              "      <td>-0.009481</td>\n",
              "      <td>0.079311</td>\n",
              "      <td>-0.199295</td>\n",
              "      <td>0.075448</td>\n",
              "      <td>-0.250924</td>\n",
              "      <td>0.071853</td>\n",
              "      <td>0.215995</td>\n",
              "      <td>0.223333</td>\n",
              "      <td>0.150523</td>\n",
              "      <td>0.229690</td>\n",
              "      <td>0.015845</td>\n",
              "      <td>1.000000</td>\n",
              "    </tr>\n",
              "  </tbody>\n",
              "</table>\n",
              "</div>"
            ],
            "text/plain": [
              "                     Age  Workclass  ...  Native_country    Income\n",
              "Age             1.000000   0.003786  ...       -0.001151  0.234039\n",
              "Workclass       0.003786   1.000000  ...       -0.007710  0.051645\n",
              "Fnlwgt         -0.076646  -0.016587  ...       -0.051957 -0.009481\n",
              "Education      -0.010508   0.023537  ...        0.064291  0.079311\n",
              "Marital_status -0.266292  -0.064798  ...       -0.023827 -0.199295\n",
              "Occupation     -0.020946   0.255004  ...       -0.012532  0.075448\n",
              "Relationship   -0.263698  -0.090449  ...       -0.005504 -0.250924\n",
              "Race            0.028718   0.049720  ...        0.137849  0.071853\n",
              "Sex             0.088832   0.095942  ...       -0.008125  0.215995\n",
              "Capital_gain    0.077674   0.033828  ...       -0.001984  0.223333\n",
              "Capital_loss    0.057775   0.012231  ...        0.000420  0.150523\n",
              "Hours_per_week  0.068756   0.138974  ...       -0.002671  0.229690\n",
              "Native_country -0.001151  -0.007710  ...        1.000000  0.015845\n",
              "Income          0.234039   0.051645  ...        0.015845  1.000000\n",
              "\n",
              "[14 rows x 14 columns]"
            ]
          },
          "metadata": {
            "tags": []
          },
          "execution_count": 264
        }
      ]
    },
    {
      "cell_type": "markdown",
      "metadata": {
        "id": "AO03WJCHLYAW"
      },
      "source": [
        "## Multivariate Analysis"
      ]
    },
    {
      "cell_type": "code",
      "metadata": {
        "colab": {
          "base_uri": "https://localhost:8080/",
          "height": 846
        },
        "id": "oabmmT05LT4t",
        "outputId": "d20ad394-8660-477b-df67-c7fce4892e78"
      },
      "source": [
        "plt.figure(figsize=(15,13))\n",
        "sns.heatmap(dfcorr,cmap='coolwarm',annot=True)"
      ],
      "execution_count": 265,
      "outputs": [
        {
          "output_type": "execute_result",
          "data": {
            "text/plain": [
              "<matplotlib.axes._subplots.AxesSubplot at 0x7fd04b6cb250>"
            ]
          },
          "metadata": {
            "tags": []
          },
          "execution_count": 265
        },
        {
          "output_type": "display_data",
          "data": {
            "image/png": "[encoded data removed]",
            "text/plain": [
              "<Figure size 1080x936 with 2 Axes>"
            ]
          },
          "metadata": {
            "tags": []
          }
        }
      ]
    },
    {
      "cell_type": "markdown",
      "metadata": {
        "id": "GFPmH8OFMpJa"
      },
      "source": [
        "**Observations :- **\n",
        "\n",
        "1) Income is highly positively correlated to Age.\n",
        "\n",
        "2) Age is highly negatively correlated to Marital Status.\n",
        "\n",
        "3) Marital Status is highly positively correlated to Relationship.\n",
        "\n",
        "4) Marital Status is highly negatively correlated to Income"
      ]
    },
    {
      "cell_type": "markdown",
      "metadata": {
        "id": "8ilcpT1HM6EQ"
      },
      "source": [
        "\n",
        "## Plotting Outliers"
      ]
    },
    {
      "cell_type": "code",
      "metadata": {
        "colab": {
          "base_uri": "https://localhost:8080/"
        },
        "id": "xa6HksukMhtA",
        "outputId": "68afaa31-3822-42f4-a760-24ea59ca87aa"
      },
      "source": [
        "df.shape"
      ],
      "execution_count": 266,
      "outputs": [
        {
          "output_type": "execute_result",
          "data": {
            "text/plain": [
              "(32560, 14)"
            ]
          },
          "metadata": {
            "tags": []
          },
          "execution_count": 266
        }
      ]
    },
    {
      "cell_type": "code",
      "metadata": {
        "colab": {
          "base_uri": "https://localhost:8080/",
          "height": 946
        },
        "id": "6hdtEeYTM9n2",
        "outputId": "73320655-c17f-4b97-e91d-0145f98d03f3"
      },
      "source": [
        "df.plot(kind='box',subplots=True,layout=(1,14),sharex=False,fontsize=1,figsize=(18,12))"
      ],
      "execution_count": 267,
      "outputs": [
        {
          "output_type": "execute_result",
          "data": {
            "text/plain": [
              "Age                  AxesSubplot(0.125,0.125;0.0466867x0.755)\n",
              "Workclass         AxesSubplot(0.181024,0.125;0.0466867x0.755)\n",
              "Fnlwgt            AxesSubplot(0.237048,0.125;0.0466867x0.755)\n",
              "Education         AxesSubplot(0.293072,0.125;0.0466867x0.755)\n",
              "Marital_status    AxesSubplot(0.349096,0.125;0.0466867x0.755)\n",
              "Occupation         AxesSubplot(0.40512,0.125;0.0466867x0.755)\n",
              "Relationship      AxesSubplot(0.461145,0.125;0.0466867x0.755)\n",
              "Race              AxesSubplot(0.517169,0.125;0.0466867x0.755)\n",
              "Sex               AxesSubplot(0.573193,0.125;0.0466867x0.755)\n",
              "Capital_gain      AxesSubplot(0.629217,0.125;0.0466867x0.755)\n",
              "Capital_loss      AxesSubplot(0.685241,0.125;0.0466867x0.755)\n",
              "Hours_per_week    AxesSubplot(0.741265,0.125;0.0466867x0.755)\n",
              "Native_country    AxesSubplot(0.797289,0.125;0.0466867x0.755)\n",
              "Income            AxesSubplot(0.853313,0.125;0.0466867x0.755)\n",
              "dtype: object"
            ]
          },
          "metadata": {
            "tags": []
          },
          "execution_count": 267
        },
        {
          "output_type": "display_data",
          "data": {
            "image/png": "[encoded data removed]",
            "text/plain": [
              "<Figure size 1296x864 with 14 Axes>"
            ]
          },
          "metadata": {
            "tags": []
          }
        }
      ]
    },
    {
      "cell_type": "markdown",
      "metadata": {
        "id": "xiLv1ocsNLcX"
      },
      "source": [
        "Observations :- \n",
        "\n",
        "Age, Workclass, Fnlwgt, Education, Race, Capital_gain, Capital_loss, Hours_per_week, Native_country and Income have outliers."
      ]
    },
    {
      "cell_type": "code",
      "metadata": {
        "colab": {
          "base_uri": "https://localhost:8080/"
        },
        "id": "aot_Y_QZNBlq",
        "outputId": "ab6ca9af-4c78-4e10-8500-d8dc5f99d19d"
      },
      "source": [
        "df.columns"
      ],
      "execution_count": 268,
      "outputs": [
        {
          "output_type": "execute_result",
          "data": {
            "text/plain": [
              "Index(['Age', 'Workclass', 'Fnlwgt', 'Education', 'Marital_status',\n",
              "       'Occupation', 'Relationship', 'Race', 'Sex', 'Capital_gain',\n",
              "       'Capital_loss', 'Hours_per_week', 'Native_country', 'Income'],\n",
              "      dtype='object')"
            ]
          },
          "metadata": {
            "tags": []
          },
          "execution_count": 268
        }
      ]
    },
    {
      "cell_type": "markdown",
      "metadata": {
        "id": "e9bSOGduNWwK"
      },
      "source": [
        "\n",
        "## Removing Outliers"
      ]
    },
    {
      "cell_type": "code",
      "metadata": {
        "colab": {
          "base_uri": "https://localhost:8080/"
        },
        "id": "Beqh6YJyNTrw",
        "outputId": "71249886-54eb-4493-db73-bdb3fc6f387a"
      },
      "source": [
        "from scipy.stats import zscore\n",
        "z=np.abs(zscore(df))\n",
        "z"
      ],
      "execution_count": 269,
      "outputs": [
        {
          "output_type": "execute_result",
          "data": {
            "text/plain": [
              "array([[0.83709708, 1.46388339, 1.0087417 , ..., 2.22212013, 0.29157343,\n",
              "        0.5632099 ],\n",
              "       [0.04264043, 0.09012148, 0.24504633, ..., 0.03542999, 0.29157343,\n",
              "        0.5632099 ],\n",
              "       [1.05703146, 0.09012148, 0.42576955, ..., 0.03542999, 0.29157343,\n",
              "        0.5632099 ],\n",
              "       ...,\n",
              "       [1.42358875, 0.09012148, 0.3588108 , ..., 0.03542999, 0.29157343,\n",
              "        0.5632099 ],\n",
              "       [1.21562378, 0.09012148, 0.11092744, ..., 1.65520046, 0.29157343,\n",
              "        0.5632099 ],\n",
              "       [0.98372   , 0.77700244, 0.92986178, ..., 0.03542999, 0.29157343,\n",
              "        1.77553698]])"
            ]
          },
          "metadata": {
            "tags": []
          },
          "execution_count": 269
        }
      ]
    },
    {
      "cell_type": "code",
      "metadata": {
        "colab": {
          "base_uri": "https://localhost:8080/"
        },
        "id": "ut56eYUgNaho",
        "outputId": "469abc18-abe6-40a9-aa29-ce664812b6e6"
      },
      "source": [
        "threshold=3\n",
        "print(np.where(z>3))"
      ],
      "execution_count": 270,
      "outputs": [
        {
          "output_type": "stream",
          "text": [
            "(array([    3,     9,    10, ..., 32532, 32550, 32552]), array([12, 11,  7, ...,  7,  7,  7]))\n"
          ],
          "name": "stdout"
        }
      ]
    },
    {
      "cell_type": "code",
      "metadata": {
        "id": "9ZGJtB_7NfdC"
      },
      "source": [
        "df_new=df[(z<3).all(axis=1)]"
      ],
      "execution_count": 271,
      "outputs": []
    },
    {
      "cell_type": "code",
      "metadata": {
        "colab": {
          "base_uri": "https://localhost:8080/"
        },
        "id": "1dRtTEEnNk0D",
        "outputId": "f22f23f8-bac9-4444-c6cb-347f62ead208"
      },
      "source": [
        "df_new.shape"
      ],
      "execution_count": 272,
      "outputs": [
        {
          "output_type": "execute_result",
          "data": {
            "text/plain": [
              "(27561, 14)"
            ]
          },
          "metadata": {
            "tags": []
          },
          "execution_count": 272
        }
      ]
    },
    {
      "cell_type": "code",
      "metadata": {
        "colab": {
          "base_uri": "https://localhost:8080/"
        },
        "id": "kWNFcknnNnja",
        "outputId": "2aa7b675-5a77-4ef2-ba36-60d1a6851788"
      },
      "source": [
        "df.shape"
      ],
      "execution_count": 273,
      "outputs": [
        {
          "output_type": "execute_result",
          "data": {
            "text/plain": [
              "(32560, 14)"
            ]
          },
          "metadata": {
            "tags": []
          },
          "execution_count": 273
        }
      ]
    },
    {
      "cell_type": "code",
      "metadata": {
        "id": "cvr8HAmJNqEa"
      },
      "source": [
        "df=df_new"
      ],
      "execution_count": 274,
      "outputs": []
    },
    {
      "cell_type": "markdown",
      "metadata": {
        "id": "jLau0T5CNxsz"
      },
      "source": [
        "Observations :-\n",
        "\n",
        "4999 rows are removed as outliers."
      ]
    },
    {
      "cell_type": "code",
      "metadata": {
        "colab": {
          "base_uri": "https://localhost:8080/"
        },
        "id": "wz0-ZSQYNtbK",
        "outputId": "4b4e3548-1dfe-4e35-81c7-99e9dda2f581"
      },
      "source": [
        "((32560-27561)/32560)*100"
      ],
      "execution_count": 275,
      "outputs": [
        {
          "output_type": "execute_result",
          "data": {
            "text/plain": [
              "15.353194103194104"
            ]
          },
          "metadata": {
            "tags": []
          },
          "execution_count": 275
        }
      ]
    },
    {
      "cell_type": "markdown",
      "metadata": {
        "id": "bwuGB44EOyuK"
      },
      "source": [
        "#checking Skewness"
      ]
    },
    {
      "cell_type": "code",
      "metadata": {
        "colab": {
          "base_uri": "https://localhost:8080/",
          "height": 962
        },
        "id": "NsMWjFkKOz3h",
        "outputId": "695eb8ef-a97e-451a-b8df-2f345b17d228"
      },
      "source": [
        "df.plot(kind='density',subplots=True,layout=(3,5),sharex=False,fontsize=1,figsize=(18,12))"
      ],
      "execution_count": 276,
      "outputs": [
        {
          "output_type": "execute_result",
          "data": {
            "text/plain": [
              "array([[<matplotlib.axes._subplots.AxesSubplot object at 0x7fd04ba12910>,\n",
              "        <matplotlib.axes._subplots.AxesSubplot object at 0x7fd04b9a7950>,\n",
              "        <matplotlib.axes._subplots.AxesSubplot object at 0x7fd04b99bfd0>,\n",
              "        <matplotlib.axes._subplots.AxesSubplot object at 0x7fd04b1b9690>,\n",
              "        <matplotlib.axes._subplots.AxesSubplot object at 0x7fd04b16fd10>],\n",
              "       [<matplotlib.axes._subplots.AxesSubplot object at 0x7fd04b1313d0>,\n",
              "        <matplotlib.axes._subplots.AxesSubplot object at 0x7fd04b0eec10>,\n",
              "        <matplotlib.axes._subplots.AxesSubplot object at 0x7fd04b09ef10>,\n",
              "        <matplotlib.axes._subplots.AxesSubplot object at 0x7fd04b0bc690>,\n",
              "        <matplotlib.axes._subplots.AxesSubplot object at 0x7fd04b06fc10>],\n",
              "       [<matplotlib.axes._subplots.AxesSubplot object at 0x7fd04b04df10>,\n",
              "        <matplotlib.axes._subplots.AxesSubplot object at 0x7fd04b00b4d0>,\n",
              "        <matplotlib.axes._subplots.AxesSubplot object at 0x7fd04afbfa50>,\n",
              "        <matplotlib.axes._subplots.AxesSubplot object at 0x7fd04af78f90>,\n",
              "        <matplotlib.axes._subplots.AxesSubplot object at 0x7fd04af38550>]],\n",
              "      dtype=object)"
            ]
          },
          "metadata": {
            "tags": []
          },
          "execution_count": 276
        },
        {
          "output_type": "display_data",
          "data": {
            "image/png": "[encoded data removed]",
            "text/plain": [
              "<Figure size 1296x864 with 15 Axes>"
            ]
          },
          "metadata": {
            "tags": []
          }
        }
      ]
    },
    {
      "cell_type": "markdown",
      "metadata": {
        "id": "-zzqi23RPAiu"
      },
      "source": [
        "\n",
        "**Observations :-**\n",
        "\n",
        "1) Fnlwgt, Relationship, Capital_gain, Capital_loss and Income are right skewed.\n",
        "\n",
        "2) Workclass, Education, Race, Sex and Native_country are left skewed."
      ]
    },
    {
      "cell_type": "code",
      "metadata": {
        "colab": {
          "base_uri": "https://localhost:8080/"
        },
        "id": "_kBlF0KJO9BH",
        "outputId": "15462eb0-475e-485c-8c13-0bb3a16bfb14"
      },
      "source": [
        "df.skew()"
      ],
      "execution_count": 277,
      "outputs": [
        {
          "output_type": "execute_result",
          "data": {
            "text/plain": [
              "Age                0.481894\n",
              "Workclass         -0.740966\n",
              "Fnlwgt             0.624658\n",
              "Education         -0.944964\n",
              "Marital_status    -0.042647\n",
              "Occupation         0.131546\n",
              "Relationship       0.752376\n",
              "Race              -2.589087\n",
              "Sex               -0.687149\n",
              "Capital_gain       4.946239\n",
              "Capital_loss      29.402904\n",
              "Hours_per_week    -0.355987\n",
              "Native_country    -5.229001\n",
              "Income             1.331757\n",
              "dtype: float64"
            ]
          },
          "metadata": {
            "tags": []
          },
          "execution_count": 277
        }
      ]
    },
    {
      "cell_type": "code",
      "metadata": {
        "id": "YprtxIa0PI0l"
      },
      "source": [
        "df_rs=['Fnlwgt', 'Relationship', 'Capital_gain', 'Capital_loss']\n",
        "for val in df_rs:\n",
        "    if df.skew().loc[val]>0.55:\n",
        "        df[val]=np.sqrt(df[val])"
      ],
      "execution_count": 278,
      "outputs": []
    },
    {
      "cell_type": "code",
      "metadata": {
        "colab": {
          "base_uri": "https://localhost:8080/"
        },
        "id": "ntCKURYFPMQ3",
        "outputId": "07232d23-2f5a-4619-b6ce-d305cc0c1ae3"
      },
      "source": [
        "df.skew()"
      ],
      "execution_count": 279,
      "outputs": [
        {
          "output_type": "execute_result",
          "data": {
            "text/plain": [
              "Age                0.481894\n",
              "Workclass         -0.740966\n",
              "Fnlwgt            -0.113821\n",
              "Education         -0.944964\n",
              "Marital_status    -0.042647\n",
              "Occupation         0.131546\n",
              "Relationship       0.119690\n",
              "Race              -2.589087\n",
              "Sex               -0.687149\n",
              "Capital_gain       3.694117\n",
              "Capital_loss      26.340962\n",
              "Hours_per_week    -0.355987\n",
              "Native_country    -5.229001\n",
              "Income             1.331757\n",
              "dtype: float64"
            ]
          },
          "metadata": {
            "tags": []
          },
          "execution_count": 279
        }
      ]
    },
    {
      "cell_type": "code",
      "metadata": {
        "id": "Dh4FQ4EfPP9E"
      },
      "source": [
        "df_rs=['Capital_gain', 'Capital_loss']\n",
        "for val in df_rs:\n",
        "    if df.skew().loc[val]>0.55:\n",
        "        df[val]=np.sqrt(df[val])"
      ],
      "execution_count": 280,
      "outputs": []
    },
    {
      "cell_type": "code",
      "metadata": {
        "colab": {
          "base_uri": "https://localhost:8080/"
        },
        "id": "P9hto3r4PVB0",
        "outputId": "fc5f149b-81b0-4c4f-8535-3a4ecd90c734"
      },
      "source": [
        "df.skew()"
      ],
      "execution_count": 281,
      "outputs": [
        {
          "output_type": "execute_result",
          "data": {
            "text/plain": [
              "Age                0.481894\n",
              "Workclass         -0.740966\n",
              "Fnlwgt            -0.113821\n",
              "Education         -0.944964\n",
              "Marital_status    -0.042647\n",
              "Occupation         0.131546\n",
              "Relationship       0.119690\n",
              "Race              -2.589087\n",
              "Sex               -0.687149\n",
              "Capital_gain       3.254481\n",
              "Capital_loss      25.196908\n",
              "Hours_per_week    -0.355987\n",
              "Native_country    -5.229001\n",
              "Income             1.331757\n",
              "dtype: float64"
            ]
          },
          "metadata": {
            "tags": []
          },
          "execution_count": 281
        }
      ]
    },
    {
      "cell_type": "code",
      "metadata": {
        "colab": {
          "base_uri": "https://localhost:8080/"
        },
        "id": "6ywnBcuCPXuo",
        "outputId": "0e429066-4595-49c2-c585-5907c695e4c0"
      },
      "source": [
        "df.isnull().sum()"
      ],
      "execution_count": 282,
      "outputs": [
        {
          "output_type": "execute_result",
          "data": {
            "text/plain": [
              "Age               0\n",
              "Workclass         0\n",
              "Fnlwgt            0\n",
              "Education         0\n",
              "Marital_status    0\n",
              "Occupation        0\n",
              "Relationship      0\n",
              "Race              0\n",
              "Sex               0\n",
              "Capital_gain      0\n",
              "Capital_loss      0\n",
              "Hours_per_week    0\n",
              "Native_country    0\n",
              "Income            0\n",
              "dtype: int64"
            ]
          },
          "metadata": {
            "tags": []
          },
          "execution_count": 282
        }
      ]
    },
    {
      "cell_type": "markdown",
      "metadata": {
        "id": "zlK3bYV4PgQj"
      },
      "source": [
        "## Dropping of Columns"
      ]
    },
    {
      "cell_type": "code",
      "metadata": {
        "id": "RxLnA53lPdEG"
      },
      "source": [
        "df.drop('Capital_loss',axis=1,inplace=True)"
      ],
      "execution_count": 283,
      "outputs": []
    },
    {
      "cell_type": "markdown",
      "metadata": {
        "id": "gvu2s3HJPlW8"
      },
      "source": [
        "We will drop the column of Capital_loss as it's skewness is very high, i.e, 25.13."
      ]
    },
    {
      "cell_type": "code",
      "metadata": {
        "colab": {
          "base_uri": "https://localhost:8080/"
        },
        "id": "W3B-GZ_aPkRV",
        "outputId": "f1ed99dd-b4ab-4332-bbd3-ccbfaf9dadad"
      },
      "source": [
        "df.columns"
      ],
      "execution_count": 284,
      "outputs": [
        {
          "output_type": "execute_result",
          "data": {
            "text/plain": [
              "Index(['Age', 'Workclass', 'Fnlwgt', 'Education', 'Marital_status',\n",
              "       'Occupation', 'Relationship', 'Race', 'Sex', 'Capital_gain',\n",
              "       'Hours_per_week', 'Native_country', 'Income'],\n",
              "      dtype='object')"
            ]
          },
          "metadata": {
            "tags": []
          },
          "execution_count": 284
        }
      ]
    },
    {
      "cell_type": "markdown",
      "metadata": {
        "id": "WdaqhElhP7g5"
      },
      "source": [
        "## Train Test Split"
      ]
    },
    {
      "cell_type": "code",
      "metadata": {
        "id": "PxsLcvcnP8b7"
      },
      "source": [
        "x=df[['Age', 'Workclass', 'Fnlwgt', 'Education', \n",
        "       'Marital_status', 'Occupation', 'Relationship', 'Race', 'Sex',\n",
        "       'Capital_gain', 'Hours_per_week', 'Native_country']]\n",
        "\n",
        "y=df['Income']"
      ],
      "execution_count": 285,
      "outputs": []
    },
    {
      "cell_type": "markdown",
      "metadata": {
        "id": "JCju1m-yQSnR"
      },
      "source": [
        "## Solution of Class Imbalance"
      ]
    },
    {
      "cell_type": "code",
      "metadata": {
        "id": "HXbBzu7yVbqE"
      },
      "source": [
        "from imblearn.over_sampling import SMOTE\n",
        "sm=SMOTE()\n",
        "x_over,y_over = sm.fit_resample(x,y)"
      ],
      "execution_count": 286,
      "outputs": []
    },
    {
      "cell_type": "code",
      "metadata": {
        "colab": {
          "base_uri": "https://localhost:8080/"
        },
        "id": "Q2-uKC8SVeNo",
        "outputId": "e9a9c4a1-546c-4017-e52f-0e35ad3cad1c"
      },
      "source": [
        "y_over = pd.Series(y_over)\n",
        "y_over.value_counts()"
      ],
      "execution_count": 287,
      "outputs": [
        {
          "output_type": "execute_result",
          "data": {
            "text/plain": [
              "1    21418\n",
              "0    21418\n",
              "dtype: int64"
            ]
          },
          "metadata": {
            "tags": []
          },
          "execution_count": 287
        }
      ]
    },
    {
      "cell_type": "code",
      "metadata": {
        "colab": {
          "base_uri": "https://localhost:8080/"
        },
        "id": "9qIefdgVV5Gu",
        "outputId": "e151da46-8e1e-4e9a-874d-4c99f1823b57"
      },
      "source": [
        "df.shape"
      ],
      "execution_count": 288,
      "outputs": [
        {
          "output_type": "execute_result",
          "data": {
            "text/plain": [
              "(27561, 13)"
            ]
          },
          "metadata": {
            "tags": []
          },
          "execution_count": 288
        }
      ]
    },
    {
      "cell_type": "markdown",
      "metadata": {
        "id": "mew4JlkYWLJ-"
      },
      "source": [
        "\n",
        "## Scaling of Data"
      ]
    },
    {
      "cell_type": "code",
      "metadata": {
        "id": "KGlIjgbZWMSv"
      },
      "source": [
        "from sklearn.preprocessing import StandardScaler\n",
        "SC=StandardScaler()\n",
        "x=SC.fit_transform(x)"
      ],
      "execution_count": 289,
      "outputs": []
    },
    {
      "cell_type": "code",
      "metadata": {
        "colab": {
          "base_uri": "https://localhost:8080/"
        },
        "id": "y9p2QIdyWOnm",
        "outputId": "2a4a94dc-f010-4efd-fe5b-1f8df5635fab"
      },
      "source": [
        "x"
      ],
      "execution_count": 290,
      "outputs": [
        {
          "output_type": "execute_result",
          "data": {
            "text/plain": [
              "array([[ 0.87882091,  1.47568655, -1.126386  , ..., -0.29141886,\n",
              "        -2.40941001,  0.201665  ],\n",
              "       [-0.01450742,  0.09350453,  0.42002711, ..., -0.29141886,\n",
              "         0.00931219,  0.201665  ],\n",
              "       [ 1.10215299,  0.09350453,  0.5969228 , ..., -0.29141886,\n",
              "         0.00931219,  0.201665  ],\n",
              "       ...,\n",
              "       [ 1.47437313,  0.09350453, -0.23659072, ..., -0.29141886,\n",
              "         0.00931219,  0.201665  ],\n",
              "       [-1.20561185,  0.09350453,  0.28363074, ..., -0.29141886,\n",
              "        -1.78233388,  0.201665  ],\n",
              "       [ 1.02770896,  0.78459554,  1.05544387, ...,  4.26416203,\n",
              "         0.00931219,  0.201665  ]])"
            ]
          },
          "metadata": {
            "tags": []
          },
          "execution_count": 290
        }
      ]
    },
    {
      "cell_type": "code",
      "metadata": {
        "colab": {
          "base_uri": "https://localhost:8080/",
          "height": 408
        },
        "id": "XWzW0jJYWQx8",
        "outputId": "a5dc7ad4-136e-41d0-aeb0-a7d5473756e8"
      },
      "source": [
        "x=pd.DataFrame(x)\n",
        "x"
      ],
      "execution_count": 291,
      "outputs": [
        {
          "output_type": "execute_result",
          "data": {
            "text/html": [
              "<div>\n",
              "<style scoped>\n",
              "    .dataframe tbody tr th:only-of-type {\n",
              "        vertical-align: middle;\n",
              "    }\n",
              "\n",
              "    .dataframe tbody tr th {\n",
              "        vertical-align: top;\n",
              "    }\n",
              "\n",
              "    .dataframe thead th {\n",
              "        text-align: right;\n",
              "    }\n",
              "</style>\n",
              "<table border=\"1\" class=\"dataframe\">\n",
              "  <thead>\n",
              "    <tr style=\"text-align: right;\">\n",
              "      <th></th>\n",
              "      <th>0</th>\n",
              "      <th>1</th>\n",
              "      <th>2</th>\n",
              "      <th>3</th>\n",
              "      <th>4</th>\n",
              "      <th>5</th>\n",
              "      <th>6</th>\n",
              "      <th>7</th>\n",
              "      <th>8</th>\n",
              "      <th>9</th>\n",
              "      <th>10</th>\n",
              "      <th>11</th>\n",
              "    </tr>\n",
              "  </thead>\n",
              "  <tbody>\n",
              "    <tr>\n",
              "      <th>0</th>\n",
              "      <td>0.878821</td>\n",
              "      <td>1.475687</td>\n",
              "      <td>-1.126386</td>\n",
              "      <td>-0.337287</td>\n",
              "      <td>-0.404382</td>\n",
              "      <td>-0.599549</td>\n",
              "      <td>-1.109024</td>\n",
              "      <td>0.344545</td>\n",
              "      <td>0.713814</td>\n",
              "      <td>-0.291419</td>\n",
              "      <td>-2.409410</td>\n",
              "      <td>0.201665</td>\n",
              "    </tr>\n",
              "    <tr>\n",
              "      <th>1</th>\n",
              "      <td>-0.014507</td>\n",
              "      <td>0.093505</td>\n",
              "      <td>0.420027</td>\n",
              "      <td>0.175934</td>\n",
              "      <td>-1.720222</td>\n",
              "      <td>-0.127794</td>\n",
              "      <td>0.123123</td>\n",
              "      <td>0.344545</td>\n",
              "      <td>0.713814</td>\n",
              "      <td>-0.291419</td>\n",
              "      <td>0.009312</td>\n",
              "      <td>0.201665</td>\n",
              "    </tr>\n",
              "    <tr>\n",
              "      <th>2</th>\n",
              "      <td>1.102153</td>\n",
              "      <td>0.093505</td>\n",
              "      <td>0.596923</td>\n",
              "      <td>-2.390171</td>\n",
              "      <td>-0.404382</td>\n",
              "      <td>-0.127794</td>\n",
              "      <td>-1.109024</td>\n",
              "      <td>-2.958983</td>\n",
              "      <td>0.713814</td>\n",
              "      <td>-0.291419</td>\n",
              "      <td>0.009312</td>\n",
              "      <td>0.201665</td>\n",
              "    </tr>\n",
              "    <tr>\n",
              "      <th>3</th>\n",
              "      <td>-0.088951</td>\n",
              "      <td>0.093505</td>\n",
              "      <td>1.027937</td>\n",
              "      <td>0.432544</td>\n",
              "      <td>-0.404382</td>\n",
              "      <td>-0.599549</td>\n",
              "      <td>1.646140</td>\n",
              "      <td>0.344545</td>\n",
              "      <td>-1.400926</td>\n",
              "      <td>-0.291419</td>\n",
              "      <td>0.009312</td>\n",
              "      <td>0.201665</td>\n",
              "    </tr>\n",
              "    <tr>\n",
              "      <th>4</th>\n",
              "      <td>0.804377</td>\n",
              "      <td>0.093505</td>\n",
              "      <td>-0.144396</td>\n",
              "      <td>-1.107119</td>\n",
              "      <td>0.253538</td>\n",
              "      <td>0.343962</td>\n",
              "      <td>0.123123</td>\n",
              "      <td>-2.958983</td>\n",
              "      <td>-1.400926</td>\n",
              "      <td>-0.291419</td>\n",
              "      <td>-2.140663</td>\n",
              "      <td>-5.476735</td>\n",
              "    </tr>\n",
              "    <tr>\n",
              "      <th>...</th>\n",
              "      <td>...</td>\n",
              "      <td>...</td>\n",
              "      <td>...</td>\n",
              "      <td>...</td>\n",
              "      <td>...</td>\n",
              "      <td>...</td>\n",
              "      <td>...</td>\n",
              "      <td>...</td>\n",
              "      <td>...</td>\n",
              "      <td>...</td>\n",
              "      <td>...</td>\n",
              "      <td>...</td>\n",
              "    </tr>\n",
              "    <tr>\n",
              "      <th>27556</th>\n",
              "      <td>-0.833392</td>\n",
              "      <td>0.093505</td>\n",
              "      <td>0.797279</td>\n",
              "      <td>-0.850508</td>\n",
              "      <td>-0.404382</td>\n",
              "      <td>1.523350</td>\n",
              "      <td>1.646140</td>\n",
              "      <td>0.344545</td>\n",
              "      <td>-1.400926</td>\n",
              "      <td>-0.291419</td>\n",
              "      <td>-0.169852</td>\n",
              "      <td>0.201665</td>\n",
              "    </tr>\n",
              "    <tr>\n",
              "      <th>27557</th>\n",
              "      <td>0.134381</td>\n",
              "      <td>0.093505</td>\n",
              "      <td>-0.208888</td>\n",
              "      <td>0.175934</td>\n",
              "      <td>-0.404382</td>\n",
              "      <td>0.108084</td>\n",
              "      <td>-1.109024</td>\n",
              "      <td>0.344545</td>\n",
              "      <td>0.713814</td>\n",
              "      <td>-0.291419</td>\n",
              "      <td>0.009312</td>\n",
              "      <td>0.201665</td>\n",
              "    </tr>\n",
              "    <tr>\n",
              "      <th>27558</th>\n",
              "      <td>1.474373</td>\n",
              "      <td>0.093505</td>\n",
              "      <td>-0.236591</td>\n",
              "      <td>0.175934</td>\n",
              "      <td>2.227298</td>\n",
              "      <td>-1.307183</td>\n",
              "      <td>1.355270</td>\n",
              "      <td>0.344545</td>\n",
              "      <td>-1.400926</td>\n",
              "      <td>-0.291419</td>\n",
              "      <td>0.009312</td>\n",
              "      <td>0.201665</td>\n",
              "    </tr>\n",
              "    <tr>\n",
              "      <th>27559</th>\n",
              "      <td>-1.205612</td>\n",
              "      <td>0.093505</td>\n",
              "      <td>0.283631</td>\n",
              "      <td>0.175934</td>\n",
              "      <td>0.911458</td>\n",
              "      <td>-1.307183</td>\n",
              "      <td>1.025117</td>\n",
              "      <td>0.344545</td>\n",
              "      <td>0.713814</td>\n",
              "      <td>-0.291419</td>\n",
              "      <td>-1.782334</td>\n",
              "      <td>0.201665</td>\n",
              "    </tr>\n",
              "    <tr>\n",
              "      <th>27560</th>\n",
              "      <td>1.027709</td>\n",
              "      <td>0.784596</td>\n",
              "      <td>1.055444</td>\n",
              "      <td>0.175934</td>\n",
              "      <td>-0.404382</td>\n",
              "      <td>-0.599549</td>\n",
              "      <td>1.646140</td>\n",
              "      <td>0.344545</td>\n",
              "      <td>-1.400926</td>\n",
              "      <td>4.264162</td>\n",
              "      <td>0.009312</td>\n",
              "      <td>0.201665</td>\n",
              "    </tr>\n",
              "  </tbody>\n",
              "</table>\n",
              "<p>27561 rows × 12 columns</p>\n",
              "</div>"
            ],
            "text/plain": [
              "             0         1         2   ...        9         10        11\n",
              "0      0.878821  1.475687 -1.126386  ... -0.291419 -2.409410  0.201665\n",
              "1     -0.014507  0.093505  0.420027  ... -0.291419  0.009312  0.201665\n",
              "2      1.102153  0.093505  0.596923  ... -0.291419  0.009312  0.201665\n",
              "3     -0.088951  0.093505  1.027937  ... -0.291419  0.009312  0.201665\n",
              "4      0.804377  0.093505 -0.144396  ... -0.291419 -2.140663 -5.476735\n",
              "...         ...       ...       ...  ...       ...       ...       ...\n",
              "27556 -0.833392  0.093505  0.797279  ... -0.291419 -0.169852  0.201665\n",
              "27557  0.134381  0.093505 -0.208888  ... -0.291419  0.009312  0.201665\n",
              "27558  1.474373  0.093505 -0.236591  ... -0.291419  0.009312  0.201665\n",
              "27559 -1.205612  0.093505  0.283631  ... -0.291419 -1.782334  0.201665\n",
              "27560  1.027709  0.784596  1.055444  ...  4.264162  0.009312  0.201665\n",
              "\n",
              "[27561 rows x 12 columns]"
            ]
          },
          "metadata": {
            "tags": []
          },
          "execution_count": 291
        }
      ]
    },
    {
      "cell_type": "code",
      "metadata": {
        "id": "w7ncq4QeWWij"
      },
      "source": [
        "x.columns=['Age', 'Workclass', 'Fnlwgt', 'Education',\n",
        "       'Marital_status', 'Occupation', 'Relationship', 'Race', 'Sex',\n",
        "       'Capital_gain', 'Hours_per_week', 'Native_country']"
      ],
      "execution_count": 292,
      "outputs": []
    },
    {
      "cell_type": "code",
      "metadata": {
        "colab": {
          "base_uri": "https://localhost:8080/",
          "height": 200
        },
        "id": "tjTCsaYmWuNm",
        "outputId": "b453a79b-21d6-41d1-d106-13b701b8f77d"
      },
      "source": [
        "x.head()"
      ],
      "execution_count": 293,
      "outputs": [
        {
          "output_type": "execute_result",
          "data": {
            "text/html": [
              "<div>\n",
              "<style scoped>\n",
              "    .dataframe tbody tr th:only-of-type {\n",
              "        vertical-align: middle;\n",
              "    }\n",
              "\n",
              "    .dataframe tbody tr th {\n",
              "        vertical-align: top;\n",
              "    }\n",
              "\n",
              "    .dataframe thead th {\n",
              "        text-align: right;\n",
              "    }\n",
              "</style>\n",
              "<table border=\"1\" class=\"dataframe\">\n",
              "  <thead>\n",
              "    <tr style=\"text-align: right;\">\n",
              "      <th></th>\n",
              "      <th>Age</th>\n",
              "      <th>Workclass</th>\n",
              "      <th>Fnlwgt</th>\n",
              "      <th>Education</th>\n",
              "      <th>Marital_status</th>\n",
              "      <th>Occupation</th>\n",
              "      <th>Relationship</th>\n",
              "      <th>Race</th>\n",
              "      <th>Sex</th>\n",
              "      <th>Capital_gain</th>\n",
              "      <th>Hours_per_week</th>\n",
              "      <th>Native_country</th>\n",
              "    </tr>\n",
              "  </thead>\n",
              "  <tbody>\n",
              "    <tr>\n",
              "      <th>0</th>\n",
              "      <td>0.878821</td>\n",
              "      <td>1.475687</td>\n",
              "      <td>-1.126386</td>\n",
              "      <td>-0.337287</td>\n",
              "      <td>-0.404382</td>\n",
              "      <td>-0.599549</td>\n",
              "      <td>-1.109024</td>\n",
              "      <td>0.344545</td>\n",
              "      <td>0.713814</td>\n",
              "      <td>-0.291419</td>\n",
              "      <td>-2.409410</td>\n",
              "      <td>0.201665</td>\n",
              "    </tr>\n",
              "    <tr>\n",
              "      <th>1</th>\n",
              "      <td>-0.014507</td>\n",
              "      <td>0.093505</td>\n",
              "      <td>0.420027</td>\n",
              "      <td>0.175934</td>\n",
              "      <td>-1.720222</td>\n",
              "      <td>-0.127794</td>\n",
              "      <td>0.123123</td>\n",
              "      <td>0.344545</td>\n",
              "      <td>0.713814</td>\n",
              "      <td>-0.291419</td>\n",
              "      <td>0.009312</td>\n",
              "      <td>0.201665</td>\n",
              "    </tr>\n",
              "    <tr>\n",
              "      <th>2</th>\n",
              "      <td>1.102153</td>\n",
              "      <td>0.093505</td>\n",
              "      <td>0.596923</td>\n",
              "      <td>-2.390171</td>\n",
              "      <td>-0.404382</td>\n",
              "      <td>-0.127794</td>\n",
              "      <td>-1.109024</td>\n",
              "      <td>-2.958983</td>\n",
              "      <td>0.713814</td>\n",
              "      <td>-0.291419</td>\n",
              "      <td>0.009312</td>\n",
              "      <td>0.201665</td>\n",
              "    </tr>\n",
              "    <tr>\n",
              "      <th>3</th>\n",
              "      <td>-0.088951</td>\n",
              "      <td>0.093505</td>\n",
              "      <td>1.027937</td>\n",
              "      <td>0.432544</td>\n",
              "      <td>-0.404382</td>\n",
              "      <td>-0.599549</td>\n",
              "      <td>1.646140</td>\n",
              "      <td>0.344545</td>\n",
              "      <td>-1.400926</td>\n",
              "      <td>-0.291419</td>\n",
              "      <td>0.009312</td>\n",
              "      <td>0.201665</td>\n",
              "    </tr>\n",
              "    <tr>\n",
              "      <th>4</th>\n",
              "      <td>0.804377</td>\n",
              "      <td>0.093505</td>\n",
              "      <td>-0.144396</td>\n",
              "      <td>-1.107119</td>\n",
              "      <td>0.253538</td>\n",
              "      <td>0.343962</td>\n",
              "      <td>0.123123</td>\n",
              "      <td>-2.958983</td>\n",
              "      <td>-1.400926</td>\n",
              "      <td>-0.291419</td>\n",
              "      <td>-2.140663</td>\n",
              "      <td>-5.476735</td>\n",
              "    </tr>\n",
              "  </tbody>\n",
              "</table>\n",
              "</div>"
            ],
            "text/plain": [
              "        Age  Workclass    Fnlwgt  ...  Capital_gain  Hours_per_week  Native_country\n",
              "0  0.878821   1.475687 -1.126386  ...     -0.291419       -2.409410        0.201665\n",
              "1 -0.014507   0.093505  0.420027  ...     -0.291419        0.009312        0.201665\n",
              "2  1.102153   0.093505  0.596923  ...     -0.291419        0.009312        0.201665\n",
              "3 -0.088951   0.093505  1.027937  ...     -0.291419        0.009312        0.201665\n",
              "4  0.804377   0.093505 -0.144396  ...     -0.291419       -2.140663       -5.476735\n",
              "\n",
              "[5 rows x 12 columns]"
            ]
          },
          "metadata": {
            "tags": []
          },
          "execution_count": 293
        }
      ]
    },
    {
      "cell_type": "markdown",
      "metadata": {
        "id": "LV9ZThzlbNaE"
      },
      "source": [
        "## Algorithms"
      ]
    },
    {
      "cell_type": "code",
      "metadata": {
        "colab": {
          "base_uri": "https://localhost:8080/"
        },
        "id": "pHcC5LV2WwcL",
        "outputId": "27769fda-ab3f-45b1-bbe4-502102c01c43"
      },
      "source": [
        "from sklearn.model_selection import train_test_split\n",
        "maxAccu=0\n",
        "maxRS=0\n",
        "for i in range(1,200):\n",
        "    x_train,x_test,y_train,y_test=train_test_split(x,y,test_size=0.22,random_state=i)\n",
        "    lm=LogisticRegression()\n",
        "    lm.fit(x_train,y_train)\n",
        "    pred=lm.predict(x_test)\n",
        "    print('Accuracy score of Logistic Regression','is:')\n",
        "    accu_score=accuracy_score(y_test,pred)\n",
        "    print(accuracy_score(y_test,pred))\n",
        "    print(confusion_matrix(y_test,pred))\n",
        "    print(classification_report(y_test,pred))\n",
        "    if accu_score>maxAccu:\n",
        "        maxAccu=accu_score\n",
        "        maxRS=i\n",
        "        \n",
        "print(\"Best accuracy is\",maxAccu,\"on Random_state\",maxRS)"
      ],
      "execution_count": 294,
      "outputs": [
        {
          "output_type": "stream",
          "text": [
            "Accuracy score of Logistic Regression is:\n",
            "0.8024406332453826\n",
            "[[4481  222]\n",
            " [ 976  385]]\n",
            "              precision    recall  f1-score   support\n",
            "\n",
            "           0       0.82      0.95      0.88      4703\n",
            "           1       0.63      0.28      0.39      1361\n",
            "\n",
            "    accuracy                           0.80      6064\n",
            "   macro avg       0.73      0.62      0.64      6064\n",
            "weighted avg       0.78      0.80      0.77      6064\n",
            "\n",
            "Accuracy score of Logistic Regression is:\n",
            "0.7996372031662269\n",
            "[[4468  209]\n",
            " [1006  381]]\n",
            "              precision    recall  f1-score   support\n",
            "\n",
            "           0       0.82      0.96      0.88      4677\n",
            "           1       0.65      0.27      0.39      1387\n",
            "\n",
            "    accuracy                           0.80      6064\n",
            "   macro avg       0.73      0.62      0.63      6064\n",
            "weighted avg       0.78      0.80      0.77      6064\n",
            "\n",
            "Accuracy score of Logistic Regression is:\n",
            "0.8073878627968337\n",
            "[[4509  187]\n",
            " [ 981  387]]\n",
            "              precision    recall  f1-score   support\n",
            "\n",
            "           0       0.82      0.96      0.89      4696\n",
            "           1       0.67      0.28      0.40      1368\n",
            "\n",
            "    accuracy                           0.81      6064\n",
            "   macro avg       0.75      0.62      0.64      6064\n",
            "weighted avg       0.79      0.81      0.78      6064\n",
            "\n",
            "Accuracy score of Logistic Regression is:\n",
            "0.8072229551451188\n",
            "[[4512  220]\n",
            " [ 949  383]]\n",
            "              precision    recall  f1-score   support\n",
            "\n",
            "           0       0.83      0.95      0.89      4732\n",
            "           1       0.64      0.29      0.40      1332\n",
            "\n",
            "    accuracy                           0.81      6064\n",
            "   macro avg       0.73      0.62      0.64      6064\n",
            "weighted avg       0.78      0.81      0.78      6064\n",
            "\n",
            "Accuracy score of Logistic Regression is:\n",
            "0.8063984168865436\n",
            "[[4510  213]\n",
            " [ 961  380]]\n",
            "              precision    recall  f1-score   support\n",
            "\n",
            "           0       0.82      0.95      0.88      4723\n",
            "           1       0.64      0.28      0.39      1341\n",
            "\n",
            "    accuracy                           0.81      6064\n",
            "   macro avg       0.73      0.62      0.64      6064\n",
            "weighted avg       0.78      0.81      0.78      6064\n",
            "\n",
            "Accuracy score of Logistic Regression is:\n",
            "0.799967018469657\n",
            "[[4463  258]\n",
            " [ 955  388]]\n",
            "              precision    recall  f1-score   support\n",
            "\n",
            "           0       0.82      0.95      0.88      4721\n",
            "           1       0.60      0.29      0.39      1343\n",
            "\n",
            "    accuracy                           0.80      6064\n",
            "   macro avg       0.71      0.62      0.64      6064\n",
            "weighted avg       0.77      0.80      0.77      6064\n",
            "\n",
            "Accuracy score of Logistic Regression is:\n",
            "0.8006266490765171\n",
            "[[4468  225]\n",
            " [ 984  387]]\n",
            "              precision    recall  f1-score   support\n",
            "\n",
            "           0       0.82      0.95      0.88      4693\n",
            "           1       0.63      0.28      0.39      1371\n",
            "\n",
            "    accuracy                           0.80      6064\n",
            "   macro avg       0.73      0.62      0.64      6064\n",
            "weighted avg       0.78      0.80      0.77      6064\n",
            "\n",
            "Accuracy score of Logistic Regression is:\n",
            "0.7976583113456465\n",
            "[[4464  206]\n",
            " [1021  373]]\n",
            "              precision    recall  f1-score   support\n",
            "\n",
            "           0       0.81      0.96      0.88      4670\n",
            "           1       0.64      0.27      0.38      1394\n",
            "\n",
            "    accuracy                           0.80      6064\n",
            "   macro avg       0.73      0.61      0.63      6064\n",
            "weighted avg       0.77      0.80      0.76      6064\n",
            "\n",
            "Accuracy score of Logistic Regression is:\n",
            "0.8093667546174143\n",
            "[[4535  206]\n",
            " [ 950  373]]\n",
            "              precision    recall  f1-score   support\n",
            "\n",
            "           0       0.83      0.96      0.89      4741\n",
            "           1       0.64      0.28      0.39      1323\n",
            "\n",
            "    accuracy                           0.81      6064\n",
            "   macro avg       0.74      0.62      0.64      6064\n",
            "weighted avg       0.79      0.81      0.78      6064\n",
            "\n",
            "Accuracy score of Logistic Regression is:\n",
            "0.8022757255936676\n",
            "[[4491  246]\n",
            " [ 953  374]]\n",
            "              precision    recall  f1-score   support\n",
            "\n",
            "           0       0.82      0.95      0.88      4737\n",
            "           1       0.60      0.28      0.38      1327\n",
            "\n",
            "    accuracy                           0.80      6064\n",
            "   macro avg       0.71      0.61      0.63      6064\n",
            "weighted avg       0.78      0.80      0.77      6064\n",
            "\n",
            "Accuracy score of Logistic Regression is:\n",
            "0.8075527704485488\n",
            "[[4510  210]\n",
            " [ 957  387]]\n",
            "              precision    recall  f1-score   support\n",
            "\n",
            "           0       0.82      0.96      0.89      4720\n",
            "           1       0.65      0.29      0.40      1344\n",
            "\n",
            "    accuracy                           0.81      6064\n",
            "   macro avg       0.74      0.62      0.64      6064\n",
            "weighted avg       0.79      0.81      0.78      6064\n",
            "\n",
            "Accuracy score of Logistic Regression is:\n",
            "0.7993073878627969\n",
            "[[4486  216]\n",
            " [1001  361]]\n",
            "              precision    recall  f1-score   support\n",
            "\n",
            "           0       0.82      0.95      0.88      4702\n",
            "           1       0.63      0.27      0.37      1362\n",
            "\n",
            "    accuracy                           0.80      6064\n",
            "   macro avg       0.72      0.61      0.63      6064\n",
            "weighted avg       0.77      0.80      0.77      6064\n",
            "\n",
            "Accuracy score of Logistic Regression is:\n",
            "0.8067282321899736\n",
            "[[4526  187]\n",
            " [ 985  366]]\n",
            "              precision    recall  f1-score   support\n",
            "\n",
            "           0       0.82      0.96      0.89      4713\n",
            "           1       0.66      0.27      0.38      1351\n",
            "\n",
            "    accuracy                           0.81      6064\n",
            "   macro avg       0.74      0.62      0.63      6064\n",
            "weighted avg       0.79      0.81      0.77      6064\n",
            "\n",
            "Accuracy score of Logistic Regression is:\n",
            "0.8062335092348285\n",
            "[[4497  240]\n",
            " [ 935  392]]\n",
            "              precision    recall  f1-score   support\n",
            "\n",
            "           0       0.83      0.95      0.88      4737\n",
            "           1       0.62      0.30      0.40      1327\n",
            "\n",
            "    accuracy                           0.81      6064\n",
            "   macro avg       0.72      0.62      0.64      6064\n",
            "weighted avg       0.78      0.81      0.78      6064\n",
            "\n",
            "Accuracy score of Logistic Regression is:\n",
            "0.7935356200527705\n",
            "[[4446  220]\n",
            " [1032  366]]\n",
            "              precision    recall  f1-score   support\n",
            "\n",
            "           0       0.81      0.95      0.88      4666\n",
            "           1       0.62      0.26      0.37      1398\n",
            "\n",
            "    accuracy                           0.79      6064\n",
            "   macro avg       0.72      0.61      0.62      6064\n",
            "weighted avg       0.77      0.79      0.76      6064\n",
            "\n",
            "Accuracy score of Logistic Regression is:\n",
            "0.7973284960422163\n",
            "[[4459  253]\n",
            " [ 976  376]]\n",
            "              precision    recall  f1-score   support\n",
            "\n",
            "           0       0.82      0.95      0.88      4712\n",
            "           1       0.60      0.28      0.38      1352\n",
            "\n",
            "    accuracy                           0.80      6064\n",
            "   macro avg       0.71      0.61      0.63      6064\n",
            "weighted avg       0.77      0.80      0.77      6064\n",
            "\n",
            "Accuracy score of Logistic Regression is:\n",
            "0.799802110817942\n",
            "[[4469  215]\n",
            " [ 999  381]]\n",
            "              precision    recall  f1-score   support\n",
            "\n",
            "           0       0.82      0.95      0.88      4684\n",
            "           1       0.64      0.28      0.39      1380\n",
            "\n",
            "    accuracy                           0.80      6064\n",
            "   macro avg       0.73      0.62      0.63      6064\n",
            "weighted avg       0.78      0.80      0.77      6064\n",
            "\n",
            "Accuracy score of Logistic Regression is:\n",
            "0.8029353562005277\n",
            "[[4484  221]\n",
            " [ 974  385]]\n",
            "              precision    recall  f1-score   support\n",
            "\n",
            "           0       0.82      0.95      0.88      4705\n",
            "           1       0.64      0.28      0.39      1359\n",
            "\n",
            "    accuracy                           0.80      6064\n",
            "   macro avg       0.73      0.62      0.64      6064\n",
            "weighted avg       0.78      0.80      0.77      6064\n",
            "\n",
            "Accuracy score of Logistic Regression is:\n",
            "0.7950197889182058\n",
            "[[4471  245]\n",
            " [ 998  350]]\n",
            "              precision    recall  f1-score   support\n",
            "\n",
            "           0       0.82      0.95      0.88      4716\n",
            "           1       0.59      0.26      0.36      1348\n",
            "\n",
            "    accuracy                           0.80      6064\n",
            "   macro avg       0.70      0.60      0.62      6064\n",
            "weighted avg       0.77      0.80      0.76      6064\n",
            "\n",
            "Accuracy score of Logistic Regression is:\n",
            "0.7988126649076517\n",
            "[[4470  233]\n",
            " [ 987  374]]\n",
            "              precision    recall  f1-score   support\n",
            "\n",
            "           0       0.82      0.95      0.88      4703\n",
            "           1       0.62      0.27      0.38      1361\n",
            "\n",
            "    accuracy                           0.80      6064\n",
            "   macro avg       0.72      0.61      0.63      6064\n",
            "weighted avg       0.77      0.80      0.77      6064\n",
            "\n",
            "Accuracy score of Logistic Regression is:\n",
            "0.800296833773087\n",
            "[[4496  218]\n",
            " [ 993  357]]\n",
            "              precision    recall  f1-score   support\n",
            "\n",
            "           0       0.82      0.95      0.88      4714\n",
            "           1       0.62      0.26      0.37      1350\n",
            "\n",
            "    accuracy                           0.80      6064\n",
            "   macro avg       0.72      0.61      0.63      6064\n",
            "weighted avg       0.77      0.80      0.77      6064\n",
            "\n",
            "Accuracy score of Logistic Regression is:\n",
            "0.8007915567282322\n",
            "[[4470  235]\n",
            " [ 973  386]]\n",
            "              precision    recall  f1-score   support\n",
            "\n",
            "           0       0.82      0.95      0.88      4705\n",
            "           1       0.62      0.28      0.39      1359\n",
            "\n",
            "    accuracy                           0.80      6064\n",
            "   macro avg       0.72      0.62      0.64      6064\n",
            "weighted avg       0.78      0.80      0.77      6064\n",
            "\n",
            "Accuracy score of Logistic Regression is:\n",
            "0.8060686015831134\n",
            "[[4511  198]\n",
            " [ 978  377]]\n",
            "              precision    recall  f1-score   support\n",
            "\n",
            "           0       0.82      0.96      0.88      4709\n",
            "           1       0.66      0.28      0.39      1355\n",
            "\n",
            "    accuracy                           0.81      6064\n",
            "   macro avg       0.74      0.62      0.64      6064\n",
            "weighted avg       0.78      0.81      0.77      6064\n",
            "\n",
            "Accuracy score of Logistic Regression is:\n",
            "0.8001319261213721\n",
            "[[4489  226]\n",
            " [ 986  363]]\n",
            "              precision    recall  f1-score   support\n",
            "\n",
            "           0       0.82      0.95      0.88      4715\n",
            "           1       0.62      0.27      0.37      1349\n",
            "\n",
            "    accuracy                           0.80      6064\n",
            "   macro avg       0.72      0.61      0.63      6064\n",
            "weighted avg       0.77      0.80      0.77      6064\n",
            "\n",
            "Accuracy score of Logistic Regression is:\n",
            "0.7965039577836411\n",
            "[[4431  260]\n",
            " [ 974  399]]\n",
            "              precision    recall  f1-score   support\n",
            "\n",
            "           0       0.82      0.94      0.88      4691\n",
            "           1       0.61      0.29      0.39      1373\n",
            "\n",
            "    accuracy                           0.80      6064\n",
            "   macro avg       0.71      0.62      0.64      6064\n",
            "weighted avg       0.77      0.80      0.77      6064\n",
            "\n",
            "Accuracy score of Logistic Regression is:\n",
            "0.7968337730870713\n",
            "[[4475  247]\n",
            " [ 985  357]]\n",
            "              precision    recall  f1-score   support\n",
            "\n",
            "           0       0.82      0.95      0.88      4722\n",
            "           1       0.59      0.27      0.37      1342\n",
            "\n",
            "    accuracy                           0.80      6064\n",
            "   macro avg       0.71      0.61      0.62      6064\n",
            "weighted avg       0.77      0.80      0.77      6064\n",
            "\n",
            "Accuracy score of Logistic Regression is:\n",
            "0.8072229551451188\n",
            "[[4510  189]\n",
            " [ 980  385]]\n",
            "              precision    recall  f1-score   support\n",
            "\n",
            "           0       0.82      0.96      0.89      4699\n",
            "           1       0.67      0.28      0.40      1365\n",
            "\n",
            "    accuracy                           0.81      6064\n",
            "   macro avg       0.75      0.62      0.64      6064\n",
            "weighted avg       0.79      0.81      0.78      6064\n",
            "\n",
            "Accuracy score of Logistic Regression is:\n",
            "0.7989775725593667\n",
            "[[4474  224]\n",
            " [ 995  371]]\n",
            "              precision    recall  f1-score   support\n",
            "\n",
            "           0       0.82      0.95      0.88      4698\n",
            "           1       0.62      0.27      0.38      1366\n",
            "\n",
            "    accuracy                           0.80      6064\n",
            "   macro avg       0.72      0.61      0.63      6064\n",
            "weighted avg       0.77      0.80      0.77      6064\n",
            "\n",
            "Accuracy score of Logistic Regression is:\n",
            "0.803924802110818\n",
            "[[4506  221]\n",
            " [ 968  369]]\n",
            "              precision    recall  f1-score   support\n",
            "\n",
            "           0       0.82      0.95      0.88      4727\n",
            "           1       0.63      0.28      0.38      1337\n",
            "\n",
            "    accuracy                           0.80      6064\n",
            "   macro avg       0.72      0.61      0.63      6064\n",
            "weighted avg       0.78      0.80      0.77      6064\n",
            "\n",
            "Accuracy score of Logistic Regression is:\n",
            "0.7963390501319261\n",
            "[[4460  231]\n",
            " [1004  369]]\n",
            "              precision    recall  f1-score   support\n",
            "\n",
            "           0       0.82      0.95      0.88      4691\n",
            "           1       0.61      0.27      0.37      1373\n",
            "\n",
            "    accuracy                           0.80      6064\n",
            "   macro avg       0.72      0.61      0.63      6064\n",
            "weighted avg       0.77      0.80      0.76      6064\n",
            "\n",
            "Accuracy score of Logistic Regression is:\n",
            "0.7973284960422163\n",
            "[[4475  209]\n",
            " [1020  360]]\n",
            "              precision    recall  f1-score   support\n",
            "\n",
            "           0       0.81      0.96      0.88      4684\n",
            "           1       0.63      0.26      0.37      1380\n",
            "\n",
            "    accuracy                           0.80      6064\n",
            "   macro avg       0.72      0.61      0.62      6064\n",
            "weighted avg       0.77      0.80      0.76      6064\n",
            "\n",
            "Accuracy score of Logistic Regression is:\n",
            "0.7979881266490765\n",
            "[[4458  227]\n",
            " [ 998  381]]\n",
            "              precision    recall  f1-score   support\n",
            "\n",
            "           0       0.82      0.95      0.88      4685\n",
            "           1       0.63      0.28      0.38      1379\n",
            "\n",
            "    accuracy                           0.80      6064\n",
            "   macro avg       0.72      0.61      0.63      6064\n",
            "weighted avg       0.77      0.80      0.77      6064\n",
            "\n",
            "Accuracy score of Logistic Regression is:\n",
            "0.8012862796833773\n",
            "[[4460  245]\n",
            " [ 960  399]]\n",
            "              precision    recall  f1-score   support\n",
            "\n",
            "           0       0.82      0.95      0.88      4705\n",
            "           1       0.62      0.29      0.40      1359\n",
            "\n",
            "    accuracy                           0.80      6064\n",
            "   macro avg       0.72      0.62      0.64      6064\n",
            "weighted avg       0.78      0.80      0.77      6064\n",
            "\n",
            "Accuracy score of Logistic Regression is:\n",
            "0.8024406332453826\n",
            "[[4498  231]\n",
            " [ 967  368]]\n",
            "              precision    recall  f1-score   support\n",
            "\n",
            "           0       0.82      0.95      0.88      4729\n",
            "           1       0.61      0.28      0.38      1335\n",
            "\n",
            "    accuracy                           0.80      6064\n",
            "   macro avg       0.72      0.61      0.63      6064\n",
            "weighted avg       0.78      0.80      0.77      6064\n",
            "\n",
            "Accuracy score of Logistic Regression is:\n",
            "0.8012862796833773\n",
            "[[4471  185]\n",
            " [1020  388]]\n",
            "              precision    recall  f1-score   support\n",
            "\n",
            "           0       0.81      0.96      0.88      4656\n",
            "           1       0.68      0.28      0.39      1408\n",
            "\n",
            "    accuracy                           0.80      6064\n",
            "   macro avg       0.75      0.62      0.64      6064\n",
            "weighted avg       0.78      0.80      0.77      6064\n",
            "\n",
            "Accuracy score of Logistic Regression is:\n",
            "0.8068931398416886\n",
            "[[4527  203]\n",
            " [ 968  366]]\n",
            "              precision    recall  f1-score   support\n",
            "\n",
            "           0       0.82      0.96      0.89      4730\n",
            "           1       0.64      0.27      0.38      1334\n",
            "\n",
            "    accuracy                           0.81      6064\n",
            "   macro avg       0.73      0.62      0.64      6064\n",
            "weighted avg       0.78      0.81      0.78      6064\n",
            "\n",
            "Accuracy score of Logistic Regression is:\n",
            "0.7941952506596306\n",
            "[[4447  214]\n",
            " [1034  369]]\n",
            "              precision    recall  f1-score   support\n",
            "\n",
            "           0       0.81      0.95      0.88      4661\n",
            "           1       0.63      0.26      0.37      1403\n",
            "\n",
            "    accuracy                           0.79      6064\n",
            "   macro avg       0.72      0.61      0.62      6064\n",
            "weighted avg       0.77      0.79      0.76      6064\n",
            "\n",
            "Accuracy score of Logistic Regression is:\n",
            "0.7984828496042217\n",
            "[[4469  225]\n",
            " [ 997  373]]\n",
            "              precision    recall  f1-score   support\n",
            "\n",
            "           0       0.82      0.95      0.88      4694\n",
            "           1       0.62      0.27      0.38      1370\n",
            "\n",
            "    accuracy                           0.80      6064\n",
            "   macro avg       0.72      0.61      0.63      6064\n",
            "weighted avg       0.77      0.80      0.77      6064\n",
            "\n",
            "Accuracy score of Logistic Regression is:\n",
            "0.7991424802110818\n",
            "[[4468  230]\n",
            " [ 988  378]]\n",
            "              precision    recall  f1-score   support\n",
            "\n",
            "           0       0.82      0.95      0.88      4698\n",
            "           1       0.62      0.28      0.38      1366\n",
            "\n",
            "    accuracy                           0.80      6064\n",
            "   macro avg       0.72      0.61      0.63      6064\n",
            "weighted avg       0.77      0.80      0.77      6064\n",
            "\n",
            "Accuracy score of Logistic Regression is:\n",
            "0.8082124010554089\n",
            "[[4513  215]\n",
            " [ 948  388]]\n",
            "              precision    recall  f1-score   support\n",
            "\n",
            "           0       0.83      0.95      0.89      4728\n",
            "           1       0.64      0.29      0.40      1336\n",
            "\n",
            "    accuracy                           0.81      6064\n",
            "   macro avg       0.73      0.62      0.64      6064\n",
            "weighted avg       0.79      0.81      0.78      6064\n",
            "\n",
            "Accuracy score of Logistic Regression is:\n",
            "0.8026055408970977\n",
            "[[4465  244]\n",
            " [ 953  402]]\n",
            "              precision    recall  f1-score   support\n",
            "\n",
            "           0       0.82      0.95      0.88      4709\n",
            "           1       0.62      0.30      0.40      1355\n",
            "\n",
            "    accuracy                           0.80      6064\n",
            "   macro avg       0.72      0.62      0.64      6064\n",
            "weighted avg       0.78      0.80      0.77      6064\n",
            "\n",
            "Accuracy score of Logistic Regression is:\n",
            "0.804089709762533\n",
            "[[4473  219]\n",
            " [ 969  403]]\n",
            "              precision    recall  f1-score   support\n",
            "\n",
            "           0       0.82      0.95      0.88      4692\n",
            "           1       0.65      0.29      0.40      1372\n",
            "\n",
            "    accuracy                           0.80      6064\n",
            "   macro avg       0.73      0.62      0.64      6064\n",
            "weighted avg       0.78      0.80      0.77      6064\n",
            "\n",
            "Accuracy score of Logistic Regression is:\n",
            "0.7993073878627969\n",
            "[[4470  225]\n",
            " [ 992  377]]\n",
            "              precision    recall  f1-score   support\n",
            "\n",
            "           0       0.82      0.95      0.88      4695\n",
            "           1       0.63      0.28      0.38      1369\n",
            "\n",
            "    accuracy                           0.80      6064\n",
            "   macro avg       0.72      0.61      0.63      6064\n",
            "weighted avg       0.78      0.80      0.77      6064\n",
            "\n",
            "Accuracy score of Logistic Regression is:\n",
            "0.8011213720316622\n",
            "[[4475  203]\n",
            " [1003  383]]\n",
            "              precision    recall  f1-score   support\n",
            "\n",
            "           0       0.82      0.96      0.88      4678\n",
            "           1       0.65      0.28      0.39      1386\n",
            "\n",
            "    accuracy                           0.80      6064\n",
            "   macro avg       0.74      0.62      0.63      6064\n",
            "weighted avg       0.78      0.80      0.77      6064\n",
            "\n",
            "Accuracy score of Logistic Regression is:\n",
            "0.800296833773087\n",
            "[[4466  224]\n",
            " [ 987  387]]\n",
            "              precision    recall  f1-score   support\n",
            "\n",
            "           0       0.82      0.95      0.88      4690\n",
            "           1       0.63      0.28      0.39      1374\n",
            "\n",
            "    accuracy                           0.80      6064\n",
            "   macro avg       0.73      0.62      0.64      6064\n",
            "weighted avg       0.78      0.80      0.77      6064\n",
            "\n",
            "Accuracy score of Logistic Regression is:\n",
            "0.8077176781002638\n",
            "[[4523  213]\n",
            " [ 953  375]]\n",
            "              precision    recall  f1-score   support\n",
            "\n",
            "           0       0.83      0.96      0.89      4736\n",
            "           1       0.64      0.28      0.39      1328\n",
            "\n",
            "    accuracy                           0.81      6064\n",
            "   macro avg       0.73      0.62      0.64      6064\n",
            "weighted avg       0.78      0.81      0.78      6064\n",
            "\n",
            "Accuracy score of Logistic Regression is:\n",
            "0.8024406332453826\n",
            "[[4488  247]\n",
            " [ 951  378]]\n",
            "              precision    recall  f1-score   support\n",
            "\n",
            "           0       0.83      0.95      0.88      4735\n",
            "           1       0.60      0.28      0.39      1329\n",
            "\n",
            "    accuracy                           0.80      6064\n",
            "   macro avg       0.71      0.62      0.63      6064\n",
            "weighted avg       0.78      0.80      0.77      6064\n",
            "\n",
            "Accuracy score of Logistic Regression is:\n",
            "0.8065633245382586\n",
            "[[4527  220]\n",
            " [ 953  364]]\n",
            "              precision    recall  f1-score   support\n",
            "\n",
            "           0       0.83      0.95      0.89      4747\n",
            "           1       0.62      0.28      0.38      1317\n",
            "\n",
            "    accuracy                           0.81      6064\n",
            "   macro avg       0.72      0.62      0.63      6064\n",
            "weighted avg       0.78      0.81      0.78      6064\n",
            "\n",
            "Accuracy score of Logistic Regression is:\n",
            "0.7965039577836411\n",
            "[[4474  227]\n",
            " [1007  356]]\n",
            "              precision    recall  f1-score   support\n",
            "\n",
            "           0       0.82      0.95      0.88      4701\n",
            "           1       0.61      0.26      0.37      1363\n",
            "\n",
            "    accuracy                           0.80      6064\n",
            "   macro avg       0.71      0.61      0.62      6064\n",
            "weighted avg       0.77      0.80      0.76      6064\n",
            "\n",
            "Accuracy score of Logistic Regression is:\n",
            "0.8034300791556728\n",
            "[[4456  216]\n",
            " [ 976  416]]\n",
            "              precision    recall  f1-score   support\n",
            "\n",
            "           0       0.82      0.95      0.88      4672\n",
            "           1       0.66      0.30      0.41      1392\n",
            "\n",
            "    accuracy                           0.80      6064\n",
            "   macro avg       0.74      0.63      0.65      6064\n",
            "weighted avg       0.78      0.80      0.77      6064\n",
            "\n",
            "Accuracy score of Logistic Regression is:\n",
            "0.8073878627968337\n",
            "[[4502  245]\n",
            " [ 923  394]]\n",
            "              precision    recall  f1-score   support\n",
            "\n",
            "           0       0.83      0.95      0.89      4747\n",
            "           1       0.62      0.30      0.40      1317\n",
            "\n",
            "    accuracy                           0.81      6064\n",
            "   macro avg       0.72      0.62      0.64      6064\n",
            "weighted avg       0.78      0.81      0.78      6064\n",
            "\n",
            "Accuracy score of Logistic Regression is:\n",
            "0.7974934036939314\n",
            "[[4462  198]\n",
            " [1030  374]]\n",
            "              precision    recall  f1-score   support\n",
            "\n",
            "           0       0.81      0.96      0.88      4660\n",
            "           1       0.65      0.27      0.38      1404\n",
            "\n",
            "    accuracy                           0.80      6064\n",
            "   macro avg       0.73      0.61      0.63      6064\n",
            "weighted avg       0.78      0.80      0.76      6064\n",
            "\n",
            "Accuracy score of Logistic Regression is:\n",
            "0.8009564643799473\n",
            "[[4487  234]\n",
            " [ 973  370]]\n",
            "              precision    recall  f1-score   support\n",
            "\n",
            "           0       0.82      0.95      0.88      4721\n",
            "           1       0.61      0.28      0.38      1343\n",
            "\n",
            "    accuracy                           0.80      6064\n",
            "   macro avg       0.72      0.61      0.63      6064\n",
            "weighted avg       0.78      0.80      0.77      6064\n",
            "\n",
            "Accuracy score of Logistic Regression is:\n",
            "0.8047493403693932\n",
            "[[4498  238]\n",
            " [ 946  382]]\n",
            "              precision    recall  f1-score   support\n",
            "\n",
            "           0       0.83      0.95      0.88      4736\n",
            "           1       0.62      0.29      0.39      1328\n",
            "\n",
            "    accuracy                           0.80      6064\n",
            "   macro avg       0.72      0.62      0.64      6064\n",
            "weighted avg       0.78      0.80      0.78      6064\n",
            "\n",
            "Accuracy score of Logistic Regression is:\n",
            "0.8050791556728232\n",
            "[[4527  231]\n",
            " [ 951  355]]\n",
            "              precision    recall  f1-score   support\n",
            "\n",
            "           0       0.83      0.95      0.88      4758\n",
            "           1       0.61      0.27      0.38      1306\n",
            "\n",
            "    accuracy                           0.81      6064\n",
            "   macro avg       0.72      0.61      0.63      6064\n",
            "weighted avg       0.78      0.81      0.77      6064\n",
            "\n",
            "Accuracy score of Logistic Regression is:\n",
            "0.7986477572559367\n",
            "[[4472  216]\n",
            " [1005  371]]\n",
            "              precision    recall  f1-score   support\n",
            "\n",
            "           0       0.82      0.95      0.88      4688\n",
            "           1       0.63      0.27      0.38      1376\n",
            "\n",
            "    accuracy                           0.80      6064\n",
            "   macro avg       0.72      0.61      0.63      6064\n",
            "weighted avg       0.77      0.80      0.77      6064\n",
            "\n",
            "Accuracy score of Logistic Regression is:\n",
            "0.8072229551451188\n",
            "[[4528  242]\n",
            " [ 927  367]]\n",
            "              precision    recall  f1-score   support\n",
            "\n",
            "           0       0.83      0.95      0.89      4770\n",
            "           1       0.60      0.28      0.39      1294\n",
            "\n",
            "    accuracy                           0.81      6064\n",
            "   macro avg       0.72      0.62      0.64      6064\n",
            "weighted avg       0.78      0.81      0.78      6064\n",
            "\n",
            "Accuracy score of Logistic Regression is:\n",
            "0.7973284960422163\n",
            "[[4453  227]\n",
            " [1002  382]]\n",
            "              precision    recall  f1-score   support\n",
            "\n",
            "           0       0.82      0.95      0.88      4680\n",
            "           1       0.63      0.28      0.38      1384\n",
            "\n",
            "    accuracy                           0.80      6064\n",
            "   macro avg       0.72      0.61      0.63      6064\n",
            "weighted avg       0.77      0.80      0.77      6064\n",
            "\n",
            "Accuracy score of Logistic Regression is:\n",
            "0.8021108179419525\n",
            "[[4486  232]\n",
            " [ 968  378]]\n",
            "              precision    recall  f1-score   support\n",
            "\n",
            "           0       0.82      0.95      0.88      4718\n",
            "           1       0.62      0.28      0.39      1346\n",
            "\n",
            "    accuracy                           0.80      6064\n",
            "   macro avg       0.72      0.62      0.63      6064\n",
            "weighted avg       0.78      0.80      0.77      6064\n",
            "\n",
            "Accuracy score of Logistic Regression is:\n",
            "0.8059036939313984\n",
            "[[4517  209]\n",
            " [ 968  370]]\n",
            "              precision    recall  f1-score   support\n",
            "\n",
            "           0       0.82      0.96      0.88      4726\n",
            "           1       0.64      0.28      0.39      1338\n",
            "\n",
            "    accuracy                           0.81      6064\n",
            "   macro avg       0.73      0.62      0.64      6064\n",
            "weighted avg       0.78      0.81      0.77      6064\n",
            "\n",
            "Accuracy score of Logistic Regression is:\n",
            "0.8004617414248021\n",
            "[[4437  195]\n",
            " [1015  417]]\n",
            "              precision    recall  f1-score   support\n",
            "\n",
            "           0       0.81      0.96      0.88      4632\n",
            "           1       0.68      0.29      0.41      1432\n",
            "\n",
            "    accuracy                           0.80      6064\n",
            "   macro avg       0.75      0.62      0.64      6064\n",
            "weighted avg       0.78      0.80      0.77      6064\n",
            "\n",
            "Accuracy score of Logistic Regression is:\n",
            "0.8047493403693932\n",
            "[[4498  208]\n",
            " [ 976  382]]\n",
            "              precision    recall  f1-score   support\n",
            "\n",
            "           0       0.82      0.96      0.88      4706\n",
            "           1       0.65      0.28      0.39      1358\n",
            "\n",
            "    accuracy                           0.80      6064\n",
            "   macro avg       0.73      0.62      0.64      6064\n",
            "weighted avg       0.78      0.80      0.77      6064\n",
            "\n",
            "Accuracy score of Logistic Regression is:\n",
            "0.8017810026385225\n",
            "[[4473  232]\n",
            " [ 970  389]]\n",
            "              precision    recall  f1-score   support\n",
            "\n",
            "           0       0.82      0.95      0.88      4705\n",
            "           1       0.63      0.29      0.39      1359\n",
            "\n",
            "    accuracy                           0.80      6064\n",
            "   macro avg       0.72      0.62      0.64      6064\n",
            "weighted avg       0.78      0.80      0.77      6064\n",
            "\n",
            "Accuracy score of Logistic Regression is:\n",
            "0.8012862796833773\n",
            "[[4465  222]\n",
            " [ 983  394]]\n",
            "              precision    recall  f1-score   support\n",
            "\n",
            "           0       0.82      0.95      0.88      4687\n",
            "           1       0.64      0.29      0.40      1377\n",
            "\n",
            "    accuracy                           0.80      6064\n",
            "   macro avg       0.73      0.62      0.64      6064\n",
            "weighted avg       0.78      0.80      0.77      6064\n",
            "\n",
            "Accuracy score of Logistic Regression is:\n",
            "0.8024406332453826\n",
            "[[4487  212]\n",
            " [ 986  379]]\n",
            "              precision    recall  f1-score   support\n",
            "\n",
            "           0       0.82      0.95      0.88      4699\n",
            "           1       0.64      0.28      0.39      1365\n",
            "\n",
            "    accuracy                           0.80      6064\n",
            "   macro avg       0.73      0.62      0.63      6064\n",
            "weighted avg       0.78      0.80      0.77      6064\n",
            "\n",
            "Accuracy score of Logistic Regression is:\n",
            "0.8021108179419525\n",
            "[[4467  211]\n",
            " [ 989  397]]\n",
            "              precision    recall  f1-score   support\n",
            "\n",
            "           0       0.82      0.95      0.88      4678\n",
            "           1       0.65      0.29      0.40      1386\n",
            "\n",
            "    accuracy                           0.80      6064\n",
            "   macro avg       0.74      0.62      0.64      6064\n",
            "weighted avg       0.78      0.80      0.77      6064\n",
            "\n",
            "Accuracy score of Logistic Regression is:\n",
            "0.8103562005277045\n",
            "[[4513  227]\n",
            " [ 923  401]]\n",
            "              precision    recall  f1-score   support\n",
            "\n",
            "           0       0.83      0.95      0.89      4740\n",
            "           1       0.64      0.30      0.41      1324\n",
            "\n",
            "    accuracy                           0.81      6064\n",
            "   macro avg       0.73      0.63      0.65      6064\n",
            "weighted avg       0.79      0.81      0.78      6064\n",
            "\n",
            "Accuracy score of Logistic Regression is:\n",
            "0.803924802110818\n",
            "[[4553  217]\n",
            " [ 972  322]]\n",
            "              precision    recall  f1-score   support\n",
            "\n",
            "           0       0.82      0.95      0.88      4770\n",
            "           1       0.60      0.25      0.35      1294\n",
            "\n",
            "    accuracy                           0.80      6064\n",
            "   macro avg       0.71      0.60      0.62      6064\n",
            "weighted avg       0.78      0.80      0.77      6064\n",
            "\n",
            "Accuracy score of Logistic Regression is:\n",
            "0.8031002638522428\n",
            "[[4494  246]\n",
            " [ 948  376]]\n",
            "              precision    recall  f1-score   support\n",
            "\n",
            "           0       0.83      0.95      0.88      4740\n",
            "           1       0.60      0.28      0.39      1324\n",
            "\n",
            "    accuracy                           0.80      6064\n",
            "   macro avg       0.72      0.62      0.63      6064\n",
            "weighted avg       0.78      0.80      0.77      6064\n",
            "\n",
            "Accuracy score of Logistic Regression is:\n",
            "0.8059036939313984\n",
            "[[4517  227]\n",
            " [ 950  370]]\n",
            "              precision    recall  f1-score   support\n",
            "\n",
            "           0       0.83      0.95      0.88      4744\n",
            "           1       0.62      0.28      0.39      1320\n",
            "\n",
            "    accuracy                           0.81      6064\n",
            "   macro avg       0.72      0.62      0.64      6064\n",
            "weighted avg       0.78      0.81      0.78      6064\n",
            "\n",
            "Accuracy score of Logistic Regression is:\n",
            "0.8016160949868074\n",
            "[[4505  225]\n",
            " [ 978  356]]\n",
            "              precision    recall  f1-score   support\n",
            "\n",
            "           0       0.82      0.95      0.88      4730\n",
            "           1       0.61      0.27      0.37      1334\n",
            "\n",
            "    accuracy                           0.80      6064\n",
            "   macro avg       0.72      0.61      0.63      6064\n",
            "weighted avg       0.78      0.80      0.77      6064\n",
            "\n",
            "Accuracy score of Logistic Regression is:\n",
            "0.8012862796833773\n",
            "[[4500  205]\n",
            " [1000  359]]\n",
            "              precision    recall  f1-score   support\n",
            "\n",
            "           0       0.82      0.96      0.88      4705\n",
            "           1       0.64      0.26      0.37      1359\n",
            "\n",
            "    accuracy                           0.80      6064\n",
            "   macro avg       0.73      0.61      0.63      6064\n",
            "weighted avg       0.78      0.80      0.77      6064\n",
            "\n",
            "Accuracy score of Logistic Regression is:\n",
            "0.7996372031662269\n",
            "[[4485  218]\n",
            " [ 997  364]]\n",
            "              precision    recall  f1-score   support\n",
            "\n",
            "           0       0.82      0.95      0.88      4703\n",
            "           1       0.63      0.27      0.37      1361\n",
            "\n",
            "    accuracy                           0.80      6064\n",
            "   macro avg       0.72      0.61      0.63      6064\n",
            "weighted avg       0.77      0.80      0.77      6064\n",
            "\n",
            "Accuracy score of Logistic Regression is:\n",
            "0.8045844327176781\n",
            "[[4491  223]\n",
            " [ 962  388]]\n",
            "              precision    recall  f1-score   support\n",
            "\n",
            "           0       0.82      0.95      0.88      4714\n",
            "           1       0.64      0.29      0.40      1350\n",
            "\n",
            "    accuracy                           0.80      6064\n",
            "   macro avg       0.73      0.62      0.64      6064\n",
            "weighted avg       0.78      0.80      0.77      6064\n",
            "\n",
            "Accuracy score of Logistic Regression is:\n",
            "0.7984828496042217\n",
            "[[4481  210]\n",
            " [1012  361]]\n",
            "              precision    recall  f1-score   support\n",
            "\n",
            "           0       0.82      0.96      0.88      4691\n",
            "           1       0.63      0.26      0.37      1373\n",
            "\n",
            "    accuracy                           0.80      6064\n",
            "   macro avg       0.72      0.61      0.63      6064\n",
            "weighted avg       0.77      0.80      0.76      6064\n",
            "\n",
            "Accuracy score of Logistic Regression is:\n",
            "0.7941952506596306\n",
            "[[4449  215]\n",
            " [1033  367]]\n",
            "              precision    recall  f1-score   support\n",
            "\n",
            "           0       0.81      0.95      0.88      4664\n",
            "           1       0.63      0.26      0.37      1400\n",
            "\n",
            "    accuracy                           0.79      6064\n",
            "   macro avg       0.72      0.61      0.62      6064\n",
            "weighted avg       0.77      0.79      0.76      6064\n",
            "\n",
            "Accuracy score of Logistic Regression is:\n",
            "0.8063984168865436\n",
            "[[4502  200]\n",
            " [ 974  388]]\n",
            "              precision    recall  f1-score   support\n",
            "\n",
            "           0       0.82      0.96      0.88      4702\n",
            "           1       0.66      0.28      0.40      1362\n",
            "\n",
            "    accuracy                           0.81      6064\n",
            "   macro avg       0.74      0.62      0.64      6064\n",
            "weighted avg       0.79      0.81      0.78      6064\n",
            "\n",
            "Accuracy score of Logistic Regression is:\n",
            "0.8035949868073878\n",
            "[[4511  217]\n",
            " [ 974  362]]\n",
            "              precision    recall  f1-score   support\n",
            "\n",
            "           0       0.82      0.95      0.88      4728\n",
            "           1       0.63      0.27      0.38      1336\n",
            "\n",
            "    accuracy                           0.80      6064\n",
            "   macro avg       0.72      0.61      0.63      6064\n",
            "weighted avg       0.78      0.80      0.77      6064\n",
            "\n",
            "Accuracy score of Logistic Regression is:\n",
            "0.8001319261213721\n",
            "[[4454  223]\n",
            " [ 989  398]]\n",
            "              precision    recall  f1-score   support\n",
            "\n",
            "           0       0.82      0.95      0.88      4677\n",
            "           1       0.64      0.29      0.40      1387\n",
            "\n",
            "    accuracy                           0.80      6064\n",
            "   macro avg       0.73      0.62      0.64      6064\n",
            "weighted avg       0.78      0.80      0.77      6064\n",
            "\n",
            "Accuracy score of Logistic Regression is:\n",
            "0.800296833773087\n",
            "[[4459  250]\n",
            " [ 961  394]]\n",
            "              precision    recall  f1-score   support\n",
            "\n",
            "           0       0.82      0.95      0.88      4709\n",
            "           1       0.61      0.29      0.39      1355\n",
            "\n",
            "    accuracy                           0.80      6064\n",
            "   macro avg       0.72      0.62      0.64      6064\n",
            "weighted avg       0.78      0.80      0.77      6064\n",
            "\n",
            "Accuracy score of Logistic Regression is:\n",
            "0.7984828496042217\n",
            "[[4478  225]\n",
            " [ 997  364]]\n",
            "              precision    recall  f1-score   support\n",
            "\n",
            "           0       0.82      0.95      0.88      4703\n",
            "           1       0.62      0.27      0.37      1361\n",
            "\n",
            "    accuracy                           0.80      6064\n",
            "   macro avg       0.72      0.61      0.63      6064\n",
            "weighted avg       0.77      0.80      0.77      6064\n",
            "\n",
            "Accuracy score of Logistic Regression is:\n",
            "0.8037598944591029\n",
            "[[4503  203]\n",
            " [ 987  371]]\n",
            "              precision    recall  f1-score   support\n",
            "\n",
            "           0       0.82      0.96      0.88      4706\n",
            "           1       0.65      0.27      0.38      1358\n",
            "\n",
            "    accuracy                           0.80      6064\n",
            "   macro avg       0.73      0.62      0.63      6064\n",
            "weighted avg       0.78      0.80      0.77      6064\n",
            "\n",
            "Accuracy score of Logistic Regression is:\n",
            "0.8012862796833773\n",
            "[[4501  233]\n",
            " [ 972  358]]\n",
            "              precision    recall  f1-score   support\n",
            "\n",
            "           0       0.82      0.95      0.88      4734\n",
            "           1       0.61      0.27      0.37      1330\n",
            "\n",
            "    accuracy                           0.80      6064\n",
            "   macro avg       0.71      0.61      0.63      6064\n",
            "weighted avg       0.77      0.80      0.77      6064\n",
            "\n",
            "Accuracy score of Logistic Regression is:\n",
            "0.8156332453825857\n",
            "[[4571  182]\n",
            " [ 936  375]]\n",
            "              precision    recall  f1-score   support\n",
            "\n",
            "           0       0.83      0.96      0.89      4753\n",
            "           1       0.67      0.29      0.40      1311\n",
            "\n",
            "    accuracy                           0.82      6064\n",
            "   macro avg       0.75      0.62      0.65      6064\n",
            "weighted avg       0.80      0.82      0.79      6064\n",
            "\n",
            "Accuracy score of Logistic Regression is:\n",
            "0.8059036939313984\n",
            "[[4488  237]\n",
            " [ 940  399]]\n",
            "              precision    recall  f1-score   support\n",
            "\n",
            "           0       0.83      0.95      0.88      4725\n",
            "           1       0.63      0.30      0.40      1339\n",
            "\n",
            "    accuracy                           0.81      6064\n",
            "   macro avg       0.73      0.62      0.64      6064\n",
            "weighted avg       0.78      0.81      0.78      6064\n",
            "\n",
            "Accuracy score of Logistic Regression is:\n",
            "0.7978232189973615\n",
            "[[4469  247]\n",
            " [ 979  369]]\n",
            "              precision    recall  f1-score   support\n",
            "\n",
            "           0       0.82      0.95      0.88      4716\n",
            "           1       0.60      0.27      0.38      1348\n",
            "\n",
            "    accuracy                           0.80      6064\n",
            "   macro avg       0.71      0.61      0.63      6064\n",
            "weighted avg       0.77      0.80      0.77      6064\n",
            "\n",
            "Accuracy score of Logistic Regression is:\n",
            "0.7983179419525066\n",
            "[[4472  211]\n",
            " [1012  369]]\n",
            "              precision    recall  f1-score   support\n",
            "\n",
            "           0       0.82      0.95      0.88      4683\n",
            "           1       0.64      0.27      0.38      1381\n",
            "\n",
            "    accuracy                           0.80      6064\n",
            "   macro avg       0.73      0.61      0.63      6064\n",
            "weighted avg       0.77      0.80      0.77      6064\n",
            "\n",
            "Accuracy score of Logistic Regression is:\n",
            "0.8022757255936676\n",
            "[[4492  215]\n",
            " [ 984  373]]\n",
            "              precision    recall  f1-score   support\n",
            "\n",
            "           0       0.82      0.95      0.88      4707\n",
            "           1       0.63      0.27      0.38      1357\n",
            "\n",
            "    accuracy                           0.80      6064\n",
            "   macro avg       0.73      0.61      0.63      6064\n",
            "weighted avg       0.78      0.80      0.77      6064\n",
            "\n",
            "Accuracy score of Logistic Regression is:\n",
            "0.8022757255936676\n",
            "[[4456  217]\n",
            " [ 982  409]]\n",
            "              precision    recall  f1-score   support\n",
            "\n",
            "           0       0.82      0.95      0.88      4673\n",
            "           1       0.65      0.29      0.41      1391\n",
            "\n",
            "    accuracy                           0.80      6064\n",
            "   macro avg       0.74      0.62      0.64      6064\n",
            "weighted avg       0.78      0.80      0.77      6064\n",
            "\n",
            "Accuracy score of Logistic Regression is:\n",
            "0.8082124010554089\n",
            "[[4502  222]\n",
            " [ 941  399]]\n",
            "              precision    recall  f1-score   support\n",
            "\n",
            "           0       0.83      0.95      0.89      4724\n",
            "           1       0.64      0.30      0.41      1340\n",
            "\n",
            "    accuracy                           0.81      6064\n",
            "   macro avg       0.73      0.63      0.65      6064\n",
            "weighted avg       0.79      0.81      0.78      6064\n",
            "\n",
            "Accuracy score of Logistic Regression is:\n",
            "0.8021108179419525\n",
            "[[4480  236]\n",
            " [ 964  384]]\n",
            "              precision    recall  f1-score   support\n",
            "\n",
            "           0       0.82      0.95      0.88      4716\n",
            "           1       0.62      0.28      0.39      1348\n",
            "\n",
            "    accuracy                           0.80      6064\n",
            "   macro avg       0.72      0.62      0.64      6064\n",
            "weighted avg       0.78      0.80      0.77      6064\n",
            "\n",
            "Accuracy score of Logistic Regression is:\n",
            "0.8022757255936676\n",
            "[[4477  223]\n",
            " [ 976  388]]\n",
            "              precision    recall  f1-score   support\n",
            "\n",
            "           0       0.82      0.95      0.88      4700\n",
            "           1       0.64      0.28      0.39      1364\n",
            "\n",
            "    accuracy                           0.80      6064\n",
            "   macro avg       0.73      0.62      0.64      6064\n",
            "weighted avg       0.78      0.80      0.77      6064\n",
            "\n",
            "Accuracy score of Logistic Regression is:\n",
            "0.7935356200527705\n",
            "[[4420  240]\n",
            " [1012  392]]\n",
            "              precision    recall  f1-score   support\n",
            "\n",
            "           0       0.81      0.95      0.88      4660\n",
            "           1       0.62      0.28      0.39      1404\n",
            "\n",
            "    accuracy                           0.79      6064\n",
            "   macro avg       0.72      0.61      0.63      6064\n",
            "weighted avg       0.77      0.79      0.76      6064\n",
            "\n",
            "Accuracy score of Logistic Regression is:\n",
            "0.804419525065963\n",
            "[[4482  251]\n",
            " [ 935  396]]\n",
            "              precision    recall  f1-score   support\n",
            "\n",
            "           0       0.83      0.95      0.88      4733\n",
            "           1       0.61      0.30      0.40      1331\n",
            "\n",
            "    accuracy                           0.80      6064\n",
            "   macro avg       0.72      0.62      0.64      6064\n",
            "weighted avg       0.78      0.80      0.78      6064\n",
            "\n",
            "Accuracy score of Logistic Regression is:\n",
            "0.7955145118733509\n",
            "[[4466  235]\n",
            " [1005  358]]\n",
            "              precision    recall  f1-score   support\n",
            "\n",
            "           0       0.82      0.95      0.88      4701\n",
            "           1       0.60      0.26      0.37      1363\n",
            "\n",
            "    accuracy                           0.80      6064\n",
            "   macro avg       0.71      0.61      0.62      6064\n",
            "weighted avg       0.77      0.80      0.76      6064\n",
            "\n",
            "Accuracy score of Logistic Regression is:\n",
            "0.7969986807387863\n",
            "[[4477  217]\n",
            " [1014  356]]\n",
            "              precision    recall  f1-score   support\n",
            "\n",
            "           0       0.82      0.95      0.88      4694\n",
            "           1       0.62      0.26      0.37      1370\n",
            "\n",
            "    accuracy                           0.80      6064\n",
            "   macro avg       0.72      0.61      0.62      6064\n",
            "weighted avg       0.77      0.80      0.76      6064\n",
            "\n",
            "Accuracy score of Logistic Regression is:\n",
            "0.7973284960422163\n",
            "[[4466  206]\n",
            " [1023  369]]\n",
            "              precision    recall  f1-score   support\n",
            "\n",
            "           0       0.81      0.96      0.88      4672\n",
            "           1       0.64      0.27      0.38      1392\n",
            "\n",
            "    accuracy                           0.80      6064\n",
            "   macro avg       0.73      0.61      0.63      6064\n",
            "weighted avg       0.77      0.80      0.76      6064\n",
            "\n",
            "Accuracy score of Logistic Regression is:\n",
            "0.7960092348284961\n",
            "[[4456  249]\n",
            " [ 988  371]]\n",
            "              precision    recall  f1-score   support\n",
            "\n",
            "           0       0.82      0.95      0.88      4705\n",
            "           1       0.60      0.27      0.37      1359\n",
            "\n",
            "    accuracy                           0.80      6064\n",
            "   macro avg       0.71      0.61      0.63      6064\n",
            "weighted avg       0.77      0.80      0.77      6064\n",
            "\n",
            "Accuracy score of Logistic Regression is:\n",
            "0.8009564643799473\n",
            "[[4503  187]\n",
            " [1020  354]]\n",
            "              precision    recall  f1-score   support\n",
            "\n",
            "           0       0.82      0.96      0.88      4690\n",
            "           1       0.65      0.26      0.37      1374\n",
            "\n",
            "    accuracy                           0.80      6064\n",
            "   macro avg       0.73      0.61      0.63      6064\n",
            "weighted avg       0.78      0.80      0.77      6064\n",
            "\n",
            "Accuracy score of Logistic Regression is:\n",
            "0.7925461741424802\n",
            "[[4454  231]\n",
            " [1027  352]]\n",
            "              precision    recall  f1-score   support\n",
            "\n",
            "           0       0.81      0.95      0.88      4685\n",
            "           1       0.60      0.26      0.36      1379\n",
            "\n",
            "    accuracy                           0.79      6064\n",
            "   macro avg       0.71      0.60      0.62      6064\n",
            "weighted avg       0.77      0.79      0.76      6064\n",
            "\n",
            "Accuracy score of Logistic Regression is:\n",
            "0.8007915567282322\n",
            "[[4467  230]\n",
            " [ 978  389]]\n",
            "              precision    recall  f1-score   support\n",
            "\n",
            "           0       0.82      0.95      0.88      4697\n",
            "           1       0.63      0.28      0.39      1367\n",
            "\n",
            "    accuracy                           0.80      6064\n",
            "   macro avg       0.72      0.62      0.64      6064\n",
            "weighted avg       0.78      0.80      0.77      6064\n",
            "\n",
            "Accuracy score of Logistic Regression is:\n",
            "0.7971635883905013\n",
            "[[4451  244]\n",
            " [ 986  383]]\n",
            "              precision    recall  f1-score   support\n",
            "\n",
            "           0       0.82      0.95      0.88      4695\n",
            "           1       0.61      0.28      0.38      1369\n",
            "\n",
            "    accuracy                           0.80      6064\n",
            "   macro avg       0.71      0.61      0.63      6064\n",
            "weighted avg       0.77      0.80      0.77      6064\n",
            "\n",
            "Accuracy score of Logistic Regression is:\n",
            "0.8088720316622692\n",
            "[[4519  240]\n",
            " [ 919  386]]\n",
            "              precision    recall  f1-score   support\n",
            "\n",
            "           0       0.83      0.95      0.89      4759\n",
            "           1       0.62      0.30      0.40      1305\n",
            "\n",
            "    accuracy                           0.81      6064\n",
            "   macro avg       0.72      0.62      0.64      6064\n",
            "weighted avg       0.78      0.81      0.78      6064\n",
            "\n",
            "Accuracy score of Logistic Regression is:\n",
            "0.8016160949868074\n",
            "[[4477  242]\n",
            " [ 961  384]]\n",
            "              precision    recall  f1-score   support\n",
            "\n",
            "           0       0.82      0.95      0.88      4719\n",
            "           1       0.61      0.29      0.39      1345\n",
            "\n",
            "    accuracy                           0.80      6064\n",
            "   macro avg       0.72      0.62      0.64      6064\n",
            "weighted avg       0.78      0.80      0.77      6064\n",
            "\n",
            "Accuracy score of Logistic Regression is:\n",
            "0.8022757255936676\n",
            "[[4484  187]\n",
            " [1012  381]]\n",
            "              precision    recall  f1-score   support\n",
            "\n",
            "           0       0.82      0.96      0.88      4671\n",
            "           1       0.67      0.27      0.39      1393\n",
            "\n",
            "    accuracy                           0.80      6064\n",
            "   macro avg       0.74      0.62      0.64      6064\n",
            "weighted avg       0.78      0.80      0.77      6064\n",
            "\n",
            "Accuracy score of Logistic Regression is:\n",
            "0.8050791556728232\n",
            "[[4497  213]\n",
            " [ 969  385]]\n",
            "              precision    recall  f1-score   support\n",
            "\n",
            "           0       0.82      0.95      0.88      4710\n",
            "           1       0.64      0.28      0.39      1354\n",
            "\n",
            "    accuracy                           0.81      6064\n",
            "   macro avg       0.73      0.62      0.64      6064\n",
            "weighted avg       0.78      0.81      0.77      6064\n",
            "\n",
            "Accuracy score of Logistic Regression is:\n",
            "0.7989775725593667\n",
            "[[4474  242]\n",
            " [ 977  371]]\n",
            "              precision    recall  f1-score   support\n",
            "\n",
            "           0       0.82      0.95      0.88      4716\n",
            "           1       0.61      0.28      0.38      1348\n",
            "\n",
            "    accuracy                           0.80      6064\n",
            "   macro avg       0.71      0.61      0.63      6064\n",
            "weighted avg       0.77      0.80      0.77      6064\n",
            "\n",
            "Accuracy score of Logistic Regression is:\n",
            "0.7956794195250659\n",
            "[[4442  195]\n",
            " [1044  383]]\n",
            "              precision    recall  f1-score   support\n",
            "\n",
            "           0       0.81      0.96      0.88      4637\n",
            "           1       0.66      0.27      0.38      1427\n",
            "\n",
            "    accuracy                           0.80      6064\n",
            "   macro avg       0.74      0.61      0.63      6064\n",
            "weighted avg       0.78      0.80      0.76      6064\n",
            "\n",
            "Accuracy score of Logistic Regression is:\n",
            "0.8115105540897097\n",
            "[[4527  215]\n",
            " [ 928  394]]\n",
            "              precision    recall  f1-score   support\n",
            "\n",
            "           0       0.83      0.95      0.89      4742\n",
            "           1       0.65      0.30      0.41      1322\n",
            "\n",
            "    accuracy                           0.81      6064\n",
            "   macro avg       0.74      0.63      0.65      6064\n",
            "weighted avg       0.79      0.81      0.78      6064\n",
            "\n",
            "Accuracy score of Logistic Regression is:\n",
            "0.8063984168865436\n",
            "[[4510  217]\n",
            " [ 957  380]]\n",
            "              precision    recall  f1-score   support\n",
            "\n",
            "           0       0.82      0.95      0.88      4727\n",
            "           1       0.64      0.28      0.39      1337\n",
            "\n",
            "    accuracy                           0.81      6064\n",
            "   macro avg       0.73      0.62      0.64      6064\n",
            "weighted avg       0.78      0.81      0.78      6064\n",
            "\n",
            "Accuracy score of Logistic Regression is:\n",
            "0.8026055408970977\n",
            "[[4479  244]\n",
            " [ 953  388]]\n",
            "              precision    recall  f1-score   support\n",
            "\n",
            "           0       0.82      0.95      0.88      4723\n",
            "           1       0.61      0.29      0.39      1341\n",
            "\n",
            "    accuracy                           0.80      6064\n",
            "   macro avg       0.72      0.62      0.64      6064\n",
            "weighted avg       0.78      0.80      0.77      6064\n",
            "\n",
            "Accuracy score of Logistic Regression is:\n",
            "0.8060686015831134\n",
            "[[4502  210]\n",
            " [ 966  386]]\n",
            "              precision    recall  f1-score   support\n",
            "\n",
            "           0       0.82      0.96      0.88      4712\n",
            "           1       0.65      0.29      0.40      1352\n",
            "\n",
            "    accuracy                           0.81      6064\n",
            "   macro avg       0.74      0.62      0.64      6064\n",
            "weighted avg       0.78      0.81      0.78      6064\n",
            "\n",
            "Accuracy score of Logistic Regression is:\n",
            "0.8068931398416886\n",
            "[[4520  236]\n",
            " [ 935  373]]\n",
            "              precision    recall  f1-score   support\n",
            "\n",
            "           0       0.83      0.95      0.89      4756\n",
            "           1       0.61      0.29      0.39      1308\n",
            "\n",
            "    accuracy                           0.81      6064\n",
            "   macro avg       0.72      0.62      0.64      6064\n",
            "weighted avg       0.78      0.81      0.78      6064\n",
            "\n",
            "Accuracy score of Logistic Regression is:\n",
            "0.8011213720316622\n",
            "[[4472  223]\n",
            " [ 983  386]]\n",
            "              precision    recall  f1-score   support\n",
            "\n",
            "           0       0.82      0.95      0.88      4695\n",
            "           1       0.63      0.28      0.39      1369\n",
            "\n",
            "    accuracy                           0.80      6064\n",
            "   macro avg       0.73      0.62      0.64      6064\n",
            "weighted avg       0.78      0.80      0.77      6064\n",
            "\n",
            "Accuracy score of Logistic Regression is:\n",
            "0.8063984168865436\n",
            "[[4505  270]\n",
            " [ 904  385]]\n",
            "              precision    recall  f1-score   support\n",
            "\n",
            "           0       0.83      0.94      0.88      4775\n",
            "           1       0.59      0.30      0.40      1289\n",
            "\n",
            "    accuracy                           0.81      6064\n",
            "   macro avg       0.71      0.62      0.64      6064\n",
            "weighted avg       0.78      0.81      0.78      6064\n",
            "\n",
            "Accuracy score of Logistic Regression is:\n",
            "0.8073878627968337\n",
            "[[4544  211]\n",
            " [ 957  352]]\n",
            "              precision    recall  f1-score   support\n",
            "\n",
            "           0       0.83      0.96      0.89      4755\n",
            "           1       0.63      0.27      0.38      1309\n",
            "\n",
            "    accuracy                           0.81      6064\n",
            "   macro avg       0.73      0.61      0.63      6064\n",
            "weighted avg       0.78      0.81      0.78      6064\n",
            "\n",
            "Accuracy score of Logistic Regression is:\n",
            "0.7979881266490765\n",
            "[[4424  268]\n",
            " [ 957  415]]\n",
            "              precision    recall  f1-score   support\n",
            "\n",
            "           0       0.82      0.94      0.88      4692\n",
            "           1       0.61      0.30      0.40      1372\n",
            "\n",
            "    accuracy                           0.80      6064\n",
            "   macro avg       0.71      0.62      0.64      6064\n",
            "weighted avg       0.77      0.80      0.77      6064\n",
            "\n",
            "Accuracy score of Logistic Regression is:\n",
            "0.8070580474934037\n",
            "[[4512  214]\n",
            " [ 956  382]]\n",
            "              precision    recall  f1-score   support\n",
            "\n",
            "           0       0.83      0.95      0.89      4726\n",
            "           1       0.64      0.29      0.40      1338\n",
            "\n",
            "    accuracy                           0.81      6064\n",
            "   macro avg       0.73      0.62      0.64      6064\n",
            "weighted avg       0.78      0.81      0.78      6064\n",
            "\n",
            "Accuracy score of Logistic Regression is:\n",
            "0.7981530343007915\n",
            "[[4445  263]\n",
            " [ 961  395]]\n",
            "              precision    recall  f1-score   support\n",
            "\n",
            "           0       0.82      0.94      0.88      4708\n",
            "           1       0.60      0.29      0.39      1356\n",
            "\n",
            "    accuracy                           0.80      6064\n",
            "   macro avg       0.71      0.62      0.64      6064\n",
            "weighted avg       0.77      0.80      0.77      6064\n",
            "\n",
            "Accuracy score of Logistic Regression is:\n",
            "0.804089709762533\n",
            "[[4532  256]\n",
            " [ 932  344]]\n",
            "              precision    recall  f1-score   support\n",
            "\n",
            "           0       0.83      0.95      0.88      4788\n",
            "           1       0.57      0.27      0.37      1276\n",
            "\n",
            "    accuracy                           0.80      6064\n",
            "   macro avg       0.70      0.61      0.63      6064\n",
            "weighted avg       0.78      0.80      0.78      6064\n",
            "\n",
            "Accuracy score of Logistic Regression is:\n",
            "0.8063984168865436\n",
            "[[4514  191]\n",
            " [ 983  376]]\n",
            "              precision    recall  f1-score   support\n",
            "\n",
            "           0       0.82      0.96      0.88      4705\n",
            "           1       0.66      0.28      0.39      1359\n",
            "\n",
            "    accuracy                           0.81      6064\n",
            "   macro avg       0.74      0.62      0.64      6064\n",
            "weighted avg       0.79      0.81      0.77      6064\n",
            "\n",
            "Accuracy score of Logistic Regression is:\n",
            "0.8012862796833773\n",
            "[[4481  245]\n",
            " [ 960  378]]\n",
            "              precision    recall  f1-score   support\n",
            "\n",
            "           0       0.82      0.95      0.88      4726\n",
            "           1       0.61      0.28      0.39      1338\n",
            "\n",
            "    accuracy                           0.80      6064\n",
            "   macro avg       0.72      0.62      0.63      6064\n",
            "weighted avg       0.78      0.80      0.77      6064\n",
            "\n",
            "Accuracy score of Logistic Regression is:\n",
            "0.8067282321899736\n",
            "[[4532  187]\n",
            " [ 985  360]]\n",
            "              precision    recall  f1-score   support\n",
            "\n",
            "           0       0.82      0.96      0.89      4719\n",
            "           1       0.66      0.27      0.38      1345\n",
            "\n",
            "    accuracy                           0.81      6064\n",
            "   macro avg       0.74      0.61      0.63      6064\n",
            "weighted avg       0.79      0.81      0.77      6064\n",
            "\n",
            "Accuracy score of Logistic Regression is:\n",
            "0.8019459102902374\n",
            "[[4481  216]\n",
            " [ 985  382]]\n",
            "              precision    recall  f1-score   support\n",
            "\n",
            "           0       0.82      0.95      0.88      4697\n",
            "           1       0.64      0.28      0.39      1367\n",
            "\n",
            "    accuracy                           0.80      6064\n",
            "   macro avg       0.73      0.62      0.64      6064\n",
            "weighted avg       0.78      0.80      0.77      6064\n",
            "\n",
            "Accuracy score of Logistic Regression is:\n",
            "0.800296833773087\n",
            "[[4468  215]\n",
            " [ 996  385]]\n",
            "              precision    recall  f1-score   support\n",
            "\n",
            "           0       0.82      0.95      0.88      4683\n",
            "           1       0.64      0.28      0.39      1381\n",
            "\n",
            "    accuracy                           0.80      6064\n",
            "   macro avg       0.73      0.62      0.63      6064\n",
            "weighted avg       0.78      0.80      0.77      6064\n",
            "\n",
            "Accuracy score of Logistic Regression is:\n",
            "0.7965039577836411\n",
            "[[4437  215]\n",
            " [1019  393]]\n",
            "              precision    recall  f1-score   support\n",
            "\n",
            "           0       0.81      0.95      0.88      4652\n",
            "           1       0.65      0.28      0.39      1412\n",
            "\n",
            "    accuracy                           0.80      6064\n",
            "   macro avg       0.73      0.62      0.63      6064\n",
            "weighted avg       0.77      0.80      0.76      6064\n",
            "\n",
            "Accuracy score of Logistic Regression is:\n",
            "0.799967018469657\n",
            "[[4492  213]\n",
            " [1000  359]]\n",
            "              precision    recall  f1-score   support\n",
            "\n",
            "           0       0.82      0.95      0.88      4705\n",
            "           1       0.63      0.26      0.37      1359\n",
            "\n",
            "    accuracy                           0.80      6064\n",
            "   macro avg       0.72      0.61      0.63      6064\n",
            "weighted avg       0.78      0.80      0.77      6064\n",
            "\n",
            "Accuracy score of Logistic Regression is:\n",
            "0.8060686015831134\n",
            "[[4506  232]\n",
            " [ 944  382]]\n",
            "              precision    recall  f1-score   support\n",
            "\n",
            "           0       0.83      0.95      0.88      4738\n",
            "           1       0.62      0.29      0.39      1326\n",
            "\n",
            "    accuracy                           0.81      6064\n",
            "   macro avg       0.72      0.62      0.64      6064\n",
            "weighted avg       0.78      0.81      0.78      6064\n",
            "\n",
            "Accuracy score of Logistic Regression is:\n",
            "0.8034300791556728\n",
            "[[4504  192]\n",
            " [1000  368]]\n",
            "              precision    recall  f1-score   support\n",
            "\n",
            "           0       0.82      0.96      0.88      4696\n",
            "           1       0.66      0.27      0.38      1368\n",
            "\n",
            "    accuracy                           0.80      6064\n",
            "   macro avg       0.74      0.61      0.63      6064\n",
            "weighted avg       0.78      0.80      0.77      6064\n",
            "\n",
            "Accuracy score of Logistic Regression is:\n",
            "0.8067282321899736\n",
            "[[4549  210]\n",
            " [ 962  343]]\n",
            "              precision    recall  f1-score   support\n",
            "\n",
            "           0       0.83      0.96      0.89      4759\n",
            "           1       0.62      0.26      0.37      1305\n",
            "\n",
            "    accuracy                           0.81      6064\n",
            "   macro avg       0.72      0.61      0.63      6064\n",
            "weighted avg       0.78      0.81      0.77      6064\n",
            "\n",
            "Accuracy score of Logistic Regression is:\n",
            "0.8024406332453826\n",
            "[[4513  237]\n",
            " [ 961  353]]\n",
            "              precision    recall  f1-score   support\n",
            "\n",
            "           0       0.82      0.95      0.88      4750\n",
            "           1       0.60      0.27      0.37      1314\n",
            "\n",
            "    accuracy                           0.80      6064\n",
            "   macro avg       0.71      0.61      0.63      6064\n",
            "weighted avg       0.78      0.80      0.77      6064\n",
            "\n",
            "Accuracy score of Logistic Regression is:\n",
            "0.7981530343007915\n",
            "[[4479  212]\n",
            " [1012  361]]\n",
            "              precision    recall  f1-score   support\n",
            "\n",
            "           0       0.82      0.95      0.88      4691\n",
            "           1       0.63      0.26      0.37      1373\n",
            "\n",
            "    accuracy                           0.80      6064\n",
            "   macro avg       0.72      0.61      0.63      6064\n",
            "weighted avg       0.77      0.80      0.76      6064\n",
            "\n",
            "Accuracy score of Logistic Regression is:\n",
            "0.7994722955145118\n",
            "[[4465  238]\n",
            " [ 978  383]]\n",
            "              precision    recall  f1-score   support\n",
            "\n",
            "           0       0.82      0.95      0.88      4703\n",
            "           1       0.62      0.28      0.39      1361\n",
            "\n",
            "    accuracy                           0.80      6064\n",
            "   macro avg       0.72      0.62      0.63      6064\n",
            "weighted avg       0.77      0.80      0.77      6064\n",
            "\n",
            "Accuracy score of Logistic Regression is:\n",
            "0.8049142480211082\n",
            "[[4527  206]\n",
            " [ 977  354]]\n",
            "              precision    recall  f1-score   support\n",
            "\n",
            "           0       0.82      0.96      0.88      4733\n",
            "           1       0.63      0.27      0.37      1331\n",
            "\n",
            "    accuracy                           0.80      6064\n",
            "   macro avg       0.73      0.61      0.63      6064\n",
            "weighted avg       0.78      0.80      0.77      6064\n",
            "\n",
            "Accuracy score of Logistic Regression is:\n",
            "0.7994722955145118\n",
            "[[4462  228]\n",
            " [ 988  386]]\n",
            "              precision    recall  f1-score   support\n",
            "\n",
            "           0       0.82      0.95      0.88      4690\n",
            "           1       0.63      0.28      0.39      1374\n",
            "\n",
            "    accuracy                           0.80      6064\n",
            "   macro avg       0.72      0.62      0.63      6064\n",
            "weighted avg       0.78      0.80      0.77      6064\n",
            "\n",
            "Accuracy score of Logistic Regression is:\n",
            "0.804254617414248\n",
            "[[4518  236]\n",
            " [ 951  359]]\n",
            "              precision    recall  f1-score   support\n",
            "\n",
            "           0       0.83      0.95      0.88      4754\n",
            "           1       0.60      0.27      0.38      1310\n",
            "\n",
            "    accuracy                           0.80      6064\n",
            "   macro avg       0.71      0.61      0.63      6064\n",
            "weighted avg       0.78      0.80      0.77      6064\n",
            "\n",
            "Accuracy score of Logistic Regression is:\n",
            "0.8105211081794196\n",
            "[[4522  219]\n",
            " [ 930  393]]\n",
            "              precision    recall  f1-score   support\n",
            "\n",
            "           0       0.83      0.95      0.89      4741\n",
            "           1       0.64      0.30      0.41      1323\n",
            "\n",
            "    accuracy                           0.81      6064\n",
            "   macro avg       0.74      0.63      0.65      6064\n",
            "weighted avg       0.79      0.81      0.78      6064\n",
            "\n",
            "Accuracy score of Logistic Regression is:\n",
            "0.8049142480211082\n",
            "[[4498  207]\n",
            " [ 976  383]]\n",
            "              precision    recall  f1-score   support\n",
            "\n",
            "           0       0.82      0.96      0.88      4705\n",
            "           1       0.65      0.28      0.39      1359\n",
            "\n",
            "    accuracy                           0.80      6064\n",
            "   macro avg       0.74      0.62      0.64      6064\n",
            "weighted avg       0.78      0.80      0.77      6064\n",
            "\n",
            "Accuracy score of Logistic Regression is:\n",
            "0.7953496042216359\n",
            "[[4432  253]\n",
            " [ 988  391]]\n",
            "              precision    recall  f1-score   support\n",
            "\n",
            "           0       0.82      0.95      0.88      4685\n",
            "           1       0.61      0.28      0.39      1379\n",
            "\n",
            "    accuracy                           0.80      6064\n",
            "   macro avg       0.71      0.61      0.63      6064\n",
            "weighted avg       0.77      0.80      0.77      6064\n",
            "\n",
            "Accuracy score of Logistic Regression is:\n",
            "0.7984828496042217\n",
            "[[4443  234]\n",
            " [ 988  399]]\n",
            "              precision    recall  f1-score   support\n",
            "\n",
            "           0       0.82      0.95      0.88      4677\n",
            "           1       0.63      0.29      0.40      1387\n",
            "\n",
            "    accuracy                           0.80      6064\n",
            "   macro avg       0.72      0.62      0.64      6064\n",
            "weighted avg       0.78      0.80      0.77      6064\n",
            "\n",
            "Accuracy score of Logistic Regression is:\n",
            "0.8012862796833773\n",
            "[[4489  185]\n",
            " [1020  370]]\n",
            "              precision    recall  f1-score   support\n",
            "\n",
            "           0       0.81      0.96      0.88      4674\n",
            "           1       0.67      0.27      0.38      1390\n",
            "\n",
            "    accuracy                           0.80      6064\n",
            "   macro avg       0.74      0.61      0.63      6064\n",
            "weighted avg       0.78      0.80      0.77      6064\n",
            "\n",
            "Accuracy score of Logistic Regression is:\n",
            "0.8070580474934037\n",
            "[[4521  238]\n",
            " [ 932  373]]\n",
            "              precision    recall  f1-score   support\n",
            "\n",
            "           0       0.83      0.95      0.89      4759\n",
            "           1       0.61      0.29      0.39      1305\n",
            "\n",
            "    accuracy                           0.81      6064\n",
            "   macro avg       0.72      0.62      0.64      6064\n",
            "weighted avg       0.78      0.81      0.78      6064\n",
            "\n",
            "Accuracy score of Logistic Regression is:\n",
            "0.8001319261213721\n",
            "[[4510  207]\n",
            " [1005  342]]\n",
            "              precision    recall  f1-score   support\n",
            "\n",
            "           0       0.82      0.96      0.88      4717\n",
            "           1       0.62      0.25      0.36      1347\n",
            "\n",
            "    accuracy                           0.80      6064\n",
            "   macro avg       0.72      0.61      0.62      6064\n",
            "weighted avg       0.77      0.80      0.77      6064\n",
            "\n",
            "Accuracy score of Logistic Regression is:\n",
            "0.8016160949868074\n",
            "[[4494  226]\n",
            " [ 977  367]]\n",
            "              precision    recall  f1-score   support\n",
            "\n",
            "           0       0.82      0.95      0.88      4720\n",
            "           1       0.62      0.27      0.38      1344\n",
            "\n",
            "    accuracy                           0.80      6064\n",
            "   macro avg       0.72      0.61      0.63      6064\n",
            "weighted avg       0.78      0.80      0.77      6064\n",
            "\n",
            "Accuracy score of Logistic Regression is:\n",
            "0.8047493403693932\n",
            "[[4513  205]\n",
            " [ 979  367]]\n",
            "              precision    recall  f1-score   support\n",
            "\n",
            "           0       0.82      0.96      0.88      4718\n",
            "           1       0.64      0.27      0.38      1346\n",
            "\n",
            "    accuracy                           0.80      6064\n",
            "   macro avg       0.73      0.61      0.63      6064\n",
            "weighted avg       0.78      0.80      0.77      6064\n",
            "\n",
            "Accuracy score of Logistic Regression is:\n",
            "0.8006266490765171\n",
            "[[4477  258]\n",
            " [ 951  378]]\n",
            "              precision    recall  f1-score   support\n",
            "\n",
            "           0       0.82      0.95      0.88      4735\n",
            "           1       0.59      0.28      0.38      1329\n",
            "\n",
            "    accuracy                           0.80      6064\n",
            "   macro avg       0.71      0.61      0.63      6064\n",
            "weighted avg       0.77      0.80      0.77      6064\n",
            "\n",
            "Accuracy score of Logistic Regression is:\n",
            "0.808377308707124\n",
            "[[4519  222]\n",
            " [ 940  383]]\n",
            "              precision    recall  f1-score   support\n",
            "\n",
            "           0       0.83      0.95      0.89      4741\n",
            "           1       0.63      0.29      0.40      1323\n",
            "\n",
            "    accuracy                           0.81      6064\n",
            "   macro avg       0.73      0.62      0.64      6064\n",
            "weighted avg       0.79      0.81      0.78      6064\n",
            "\n",
            "Accuracy score of Logistic Regression is:\n",
            "0.8077176781002638\n",
            "[[4531  229]\n",
            " [ 937  367]]\n",
            "              precision    recall  f1-score   support\n",
            "\n",
            "           0       0.83      0.95      0.89      4760\n",
            "           1       0.62      0.28      0.39      1304\n",
            "\n",
            "    accuracy                           0.81      6064\n",
            "   macro avg       0.72      0.62      0.64      6064\n",
            "weighted avg       0.78      0.81      0.78      6064\n",
            "\n",
            "Accuracy score of Logistic Regression is:\n",
            "0.8092018469656992\n",
            "[[4529  227]\n",
            " [ 930  378]]\n",
            "              precision    recall  f1-score   support\n",
            "\n",
            "           0       0.83      0.95      0.89      4756\n",
            "           1       0.62      0.29      0.40      1308\n",
            "\n",
            "    accuracy                           0.81      6064\n",
            "   macro avg       0.73      0.62      0.64      6064\n",
            "weighted avg       0.79      0.81      0.78      6064\n",
            "\n",
            "Accuracy score of Logistic Regression is:\n",
            "0.8120052770448549\n",
            "[[4524  239]\n",
            " [ 901  400]]\n",
            "              precision    recall  f1-score   support\n",
            "\n",
            "           0       0.83      0.95      0.89      4763\n",
            "           1       0.63      0.31      0.41      1301\n",
            "\n",
            "    accuracy                           0.81      6064\n",
            "   macro avg       0.73      0.63      0.65      6064\n",
            "weighted avg       0.79      0.81      0.79      6064\n",
            "\n",
            "Accuracy score of Logistic Regression is:\n",
            "0.8022757255936676\n",
            "[[4507  224]\n",
            " [ 975  358]]\n",
            "              precision    recall  f1-score   support\n",
            "\n",
            "           0       0.82      0.95      0.88      4731\n",
            "           1       0.62      0.27      0.37      1333\n",
            "\n",
            "    accuracy                           0.80      6064\n",
            "   macro avg       0.72      0.61      0.63      6064\n",
            "weighted avg       0.78      0.80      0.77      6064\n",
            "\n",
            "Accuracy score of Logistic Regression is:\n",
            "0.7994722955145118\n",
            "[[4459  227]\n",
            " [ 989  389]]\n",
            "              precision    recall  f1-score   support\n",
            "\n",
            "           0       0.82      0.95      0.88      4686\n",
            "           1       0.63      0.28      0.39      1378\n",
            "\n",
            "    accuracy                           0.80      6064\n",
            "   macro avg       0.72      0.62      0.64      6064\n",
            "weighted avg       0.78      0.80      0.77      6064\n",
            "\n",
            "Accuracy score of Logistic Regression is:\n",
            "0.8006266490765171\n",
            "[[4464  220]\n",
            " [ 989  391]]\n",
            "              precision    recall  f1-score   support\n",
            "\n",
            "           0       0.82      0.95      0.88      4684\n",
            "           1       0.64      0.28      0.39      1380\n",
            "\n",
            "    accuracy                           0.80      6064\n",
            "   macro avg       0.73      0.62      0.64      6064\n",
            "weighted avg       0.78      0.80      0.77      6064\n",
            "\n",
            "Accuracy score of Logistic Regression is:\n",
            "0.8007915567282322\n",
            "[[4500  239]\n",
            " [ 969  356]]\n",
            "              precision    recall  f1-score   support\n",
            "\n",
            "           0       0.82      0.95      0.88      4739\n",
            "           1       0.60      0.27      0.37      1325\n",
            "\n",
            "    accuracy                           0.80      6064\n",
            "   macro avg       0.71      0.61      0.63      6064\n",
            "weighted avg       0.77      0.80      0.77      6064\n",
            "\n",
            "Accuracy score of Logistic Regression is:\n",
            "0.8068931398416886\n",
            "[[4505  223]\n",
            " [ 948  388]]\n",
            "              precision    recall  f1-score   support\n",
            "\n",
            "           0       0.83      0.95      0.88      4728\n",
            "           1       0.64      0.29      0.40      1336\n",
            "\n",
            "    accuracy                           0.81      6064\n",
            "   macro avg       0.73      0.62      0.64      6064\n",
            "weighted avg       0.78      0.81      0.78      6064\n",
            "\n",
            "Accuracy score of Logistic Regression is:\n",
            "0.8017810026385225\n",
            "[[4495  198]\n",
            " [1004  367]]\n",
            "              precision    recall  f1-score   support\n",
            "\n",
            "           0       0.82      0.96      0.88      4693\n",
            "           1       0.65      0.27      0.38      1371\n",
            "\n",
            "    accuracy                           0.80      6064\n",
            "   macro avg       0.73      0.61      0.63      6064\n",
            "weighted avg       0.78      0.80      0.77      6064\n",
            "\n",
            "Accuracy score of Logistic Regression is:\n",
            "0.8032651715039578\n",
            "[[4475  243]\n",
            " [ 950  396]]\n",
            "              precision    recall  f1-score   support\n",
            "\n",
            "           0       0.82      0.95      0.88      4718\n",
            "           1       0.62      0.29      0.40      1346\n",
            "\n",
            "    accuracy                           0.80      6064\n",
            "   macro avg       0.72      0.62      0.64      6064\n",
            "weighted avg       0.78      0.80      0.78      6064\n",
            "\n",
            "Accuracy score of Logistic Regression is:\n",
            "0.8006266490765171\n",
            "[[4470  239]\n",
            " [ 970  385]]\n",
            "              precision    recall  f1-score   support\n",
            "\n",
            "           0       0.82      0.95      0.88      4709\n",
            "           1       0.62      0.28      0.39      1355\n",
            "\n",
            "    accuracy                           0.80      6064\n",
            "   macro avg       0.72      0.62      0.63      6064\n",
            "weighted avg       0.78      0.80      0.77      6064\n",
            "\n",
            "Accuracy score of Logistic Regression is:\n",
            "0.8055738786279684\n",
            "[[4494  216]\n",
            " [ 963  391]]\n",
            "              precision    recall  f1-score   support\n",
            "\n",
            "           0       0.82      0.95      0.88      4710\n",
            "           1       0.64      0.29      0.40      1354\n",
            "\n",
            "    accuracy                           0.81      6064\n",
            "   macro avg       0.73      0.62      0.64      6064\n",
            "weighted avg       0.78      0.81      0.78      6064\n",
            "\n",
            "Accuracy score of Logistic Regression is:\n",
            "0.799802110817942\n",
            "[[4483  216]\n",
            " [ 998  367]]\n",
            "              precision    recall  f1-score   support\n",
            "\n",
            "           0       0.82      0.95      0.88      4699\n",
            "           1       0.63      0.27      0.38      1365\n",
            "\n",
            "    accuracy                           0.80      6064\n",
            "   macro avg       0.72      0.61      0.63      6064\n",
            "weighted avg       0.78      0.80      0.77      6064\n",
            "\n",
            "Accuracy score of Logistic Regression is:\n",
            "0.8006266490765171\n",
            "[[4495  232]\n",
            " [ 977  360]]\n",
            "              precision    recall  f1-score   support\n",
            "\n",
            "           0       0.82      0.95      0.88      4727\n",
            "           1       0.61      0.27      0.37      1337\n",
            "\n",
            "    accuracy                           0.80      6064\n",
            "   macro avg       0.71      0.61      0.63      6064\n",
            "weighted avg       0.77      0.80      0.77      6064\n",
            "\n",
            "Accuracy score of Logistic Regression is:\n",
            "0.803924802110818\n",
            "[[4500  254]\n",
            " [ 935  375]]\n",
            "              precision    recall  f1-score   support\n",
            "\n",
            "           0       0.83      0.95      0.88      4754\n",
            "           1       0.60      0.29      0.39      1310\n",
            "\n",
            "    accuracy                           0.80      6064\n",
            "   macro avg       0.71      0.62      0.64      6064\n",
            "weighted avg       0.78      0.80      0.78      6064\n",
            "\n",
            "Accuracy score of Logistic Regression is:\n",
            "0.8016160949868074\n",
            "[[4478  230]\n",
            " [ 973  383]]\n",
            "              precision    recall  f1-score   support\n",
            "\n",
            "           0       0.82      0.95      0.88      4708\n",
            "           1       0.62      0.28      0.39      1356\n",
            "\n",
            "    accuracy                           0.80      6064\n",
            "   macro avg       0.72      0.62      0.64      6064\n",
            "weighted avg       0.78      0.80      0.77      6064\n",
            "\n",
            "Accuracy score of Logistic Regression is:\n",
            "0.7979881266490765\n",
            "[[4481  240]\n",
            " [ 985  358]]\n",
            "              precision    recall  f1-score   support\n",
            "\n",
            "           0       0.82      0.95      0.88      4721\n",
            "           1       0.60      0.27      0.37      1343\n",
            "\n",
            "    accuracy                           0.80      6064\n",
            "   macro avg       0.71      0.61      0.62      6064\n",
            "weighted avg       0.77      0.80      0.77      6064\n",
            "\n",
            "Accuracy score of Logistic Regression is:\n",
            "0.804419525065963\n",
            "[[4486  248]\n",
            " [ 938  392]]\n",
            "              precision    recall  f1-score   support\n",
            "\n",
            "           0       0.83      0.95      0.88      4734\n",
            "           1       0.61      0.29      0.40      1330\n",
            "\n",
            "    accuracy                           0.80      6064\n",
            "   macro avg       0.72      0.62      0.64      6064\n",
            "weighted avg       0.78      0.80      0.78      6064\n",
            "\n",
            "Accuracy score of Logistic Regression is:\n",
            "0.8012862796833773\n",
            "[[4453  239]\n",
            " [ 966  406]]\n",
            "              precision    recall  f1-score   support\n",
            "\n",
            "           0       0.82      0.95      0.88      4692\n",
            "           1       0.63      0.30      0.40      1372\n",
            "\n",
            "    accuracy                           0.80      6064\n",
            "   macro avg       0.73      0.62      0.64      6064\n",
            "weighted avg       0.78      0.80      0.77      6064\n",
            "\n",
            "Accuracy score of Logistic Regression is:\n",
            "0.8078825857519789\n",
            "[[4500  229]\n",
            " [ 936  399]]\n",
            "              precision    recall  f1-score   support\n",
            "\n",
            "           0       0.83      0.95      0.89      4729\n",
            "           1       0.64      0.30      0.41      1335\n",
            "\n",
            "    accuracy                           0.81      6064\n",
            "   macro avg       0.73      0.63      0.65      6064\n",
            "weighted avg       0.79      0.81      0.78      6064\n",
            "\n",
            "Accuracy score of Logistic Regression is:\n",
            "0.7986477572559367\n",
            "[[4466  232]\n",
            " [ 989  377]]\n",
            "              precision    recall  f1-score   support\n",
            "\n",
            "           0       0.82      0.95      0.88      4698\n",
            "           1       0.62      0.28      0.38      1366\n",
            "\n",
            "    accuracy                           0.80      6064\n",
            "   macro avg       0.72      0.61      0.63      6064\n",
            "weighted avg       0.77      0.80      0.77      6064\n",
            "\n",
            "Accuracy score of Logistic Regression is:\n",
            "0.8090369393139841\n",
            "[[4524  216]\n",
            " [ 942  382]]\n",
            "              precision    recall  f1-score   support\n",
            "\n",
            "           0       0.83      0.95      0.89      4740\n",
            "           1       0.64      0.29      0.40      1324\n",
            "\n",
            "    accuracy                           0.81      6064\n",
            "   macro avg       0.73      0.62      0.64      6064\n",
            "weighted avg       0.79      0.81      0.78      6064\n",
            "\n",
            "Accuracy score of Logistic Regression is:\n",
            "0.8054089709762533\n",
            "[[4524  205]\n",
            " [ 975  360]]\n",
            "              precision    recall  f1-score   support\n",
            "\n",
            "           0       0.82      0.96      0.88      4729\n",
            "           1       0.64      0.27      0.38      1335\n",
            "\n",
            "    accuracy                           0.81      6064\n",
            "   macro avg       0.73      0.61      0.63      6064\n",
            "weighted avg       0.78      0.81      0.77      6064\n",
            "\n",
            "Accuracy score of Logistic Regression is:\n",
            "0.7986477572559367\n",
            "[[4486  226]\n",
            " [ 995  357]]\n",
            "              precision    recall  f1-score   support\n",
            "\n",
            "           0       0.82      0.95      0.88      4712\n",
            "           1       0.61      0.26      0.37      1352\n",
            "\n",
            "    accuracy                           0.80      6064\n",
            "   macro avg       0.72      0.61      0.62      6064\n",
            "weighted avg       0.77      0.80      0.77      6064\n",
            "\n",
            "Accuracy score of Logistic Regression is:\n",
            "0.8065633245382586\n",
            "[[4527  203]\n",
            " [ 970  364]]\n",
            "              precision    recall  f1-score   support\n",
            "\n",
            "           0       0.82      0.96      0.89      4730\n",
            "           1       0.64      0.27      0.38      1334\n",
            "\n",
            "    accuracy                           0.81      6064\n",
            "   macro avg       0.73      0.61      0.63      6064\n",
            "weighted avg       0.78      0.81      0.77      6064\n",
            "\n",
            "Accuracy score of Logistic Regression is:\n",
            "0.7857849604221636\n",
            "[[4389  218]\n",
            " [1081  376]]\n",
            "              precision    recall  f1-score   support\n",
            "\n",
            "           0       0.80      0.95      0.87      4607\n",
            "           1       0.63      0.26      0.37      1457\n",
            "\n",
            "    accuracy                           0.79      6064\n",
            "   macro avg       0.72      0.61      0.62      6064\n",
            "weighted avg       0.76      0.79      0.75      6064\n",
            "\n",
            "Accuracy score of Logistic Regression is:\n",
            "0.8007915567282322\n",
            "[[4465  226]\n",
            " [ 982  391]]\n",
            "              precision    recall  f1-score   support\n",
            "\n",
            "           0       0.82      0.95      0.88      4691\n",
            "           1       0.63      0.28      0.39      1373\n",
            "\n",
            "    accuracy                           0.80      6064\n",
            "   macro avg       0.73      0.62      0.64      6064\n",
            "weighted avg       0.78      0.80      0.77      6064\n",
            "\n",
            "Accuracy score of Logistic Regression is:\n",
            "0.8007915567282322\n",
            "[[4473  214]\n",
            " [ 994  383]]\n",
            "              precision    recall  f1-score   support\n",
            "\n",
            "           0       0.82      0.95      0.88      4687\n",
            "           1       0.64      0.28      0.39      1377\n",
            "\n",
            "    accuracy                           0.80      6064\n",
            "   macro avg       0.73      0.62      0.63      6064\n",
            "weighted avg       0.78      0.80      0.77      6064\n",
            "\n",
            "Accuracy score of Logistic Regression is:\n",
            "0.7971635883905013\n",
            "[[4457  228]\n",
            " [1002  377]]\n",
            "              precision    recall  f1-score   support\n",
            "\n",
            "           0       0.82      0.95      0.88      4685\n",
            "           1       0.62      0.27      0.38      1379\n",
            "\n",
            "    accuracy                           0.80      6064\n",
            "   macro avg       0.72      0.61      0.63      6064\n",
            "weighted avg       0.77      0.80      0.77      6064\n",
            "\n",
            "Accuracy score of Logistic Regression is:\n",
            "0.7976583113456465\n",
            "[[4481  222]\n",
            " [1005  356]]\n",
            "              precision    recall  f1-score   support\n",
            "\n",
            "           0       0.82      0.95      0.88      4703\n",
            "           1       0.62      0.26      0.37      1361\n",
            "\n",
            "    accuracy                           0.80      6064\n",
            "   macro avg       0.72      0.61      0.62      6064\n",
            "weighted avg       0.77      0.80      0.76      6064\n",
            "\n",
            "Accuracy score of Logistic Regression is:\n",
            "0.7965039577836411\n",
            "[[4455  196]\n",
            " [1038  375]]\n",
            "              precision    recall  f1-score   support\n",
            "\n",
            "           0       0.81      0.96      0.88      4651\n",
            "           1       0.66      0.27      0.38      1413\n",
            "\n",
            "    accuracy                           0.80      6064\n",
            "   macro avg       0.73      0.61      0.63      6064\n",
            "weighted avg       0.78      0.80      0.76      6064\n",
            "\n",
            "Accuracy score of Logistic Regression is:\n",
            "0.8078825857519789\n",
            "[[4541  235]\n",
            " [ 930  358]]\n",
            "              precision    recall  f1-score   support\n",
            "\n",
            "           0       0.83      0.95      0.89      4776\n",
            "           1       0.60      0.28      0.38      1288\n",
            "\n",
            "    accuracy                           0.81      6064\n",
            "   macro avg       0.72      0.61      0.63      6064\n",
            "weighted avg       0.78      0.81      0.78      6064\n",
            "\n",
            "Accuracy score of Logistic Regression is:\n",
            "0.8031002638522428\n",
            "[[4462  218]\n",
            " [ 976  408]]\n",
            "              precision    recall  f1-score   support\n",
            "\n",
            "           0       0.82      0.95      0.88      4680\n",
            "           1       0.65      0.29      0.41      1384\n",
            "\n",
            "    accuracy                           0.80      6064\n",
            "   macro avg       0.74      0.62      0.64      6064\n",
            "weighted avg       0.78      0.80      0.77      6064\n",
            "\n",
            "Accuracy score of Logistic Regression is:\n",
            "0.7994722955145118\n",
            "[[4479  216]\n",
            " [1000  369]]\n",
            "              precision    recall  f1-score   support\n",
            "\n",
            "           0       0.82      0.95      0.88      4695\n",
            "           1       0.63      0.27      0.38      1369\n",
            "\n",
            "    accuracy                           0.80      6064\n",
            "   macro avg       0.72      0.61      0.63      6064\n",
            "weighted avg       0.78      0.80      0.77      6064\n",
            "\n",
            "Accuracy score of Logistic Regression is:\n",
            "0.8016160949868074\n",
            "[[4484  228]\n",
            " [ 975  377]]\n",
            "              precision    recall  f1-score   support\n",
            "\n",
            "           0       0.82      0.95      0.88      4712\n",
            "           1       0.62      0.28      0.39      1352\n",
            "\n",
            "    accuracy                           0.80      6064\n",
            "   macro avg       0.72      0.62      0.63      6064\n",
            "weighted avg       0.78      0.80      0.77      6064\n",
            "\n",
            "Accuracy score of Logistic Regression is:\n",
            "0.7993073878627969\n",
            "[[4470  212]\n",
            " [1005  377]]\n",
            "              precision    recall  f1-score   support\n",
            "\n",
            "           0       0.82      0.95      0.88      4682\n",
            "           1       0.64      0.27      0.38      1382\n",
            "\n",
            "    accuracy                           0.80      6064\n",
            "   macro avg       0.73      0.61      0.63      6064\n",
            "weighted avg       0.78      0.80      0.77      6064\n",
            "\n",
            "Accuracy score of Logistic Regression is:\n",
            "0.7945250659630607\n",
            "[[4439  241]\n",
            " [1005  379]]\n",
            "              precision    recall  f1-score   support\n",
            "\n",
            "           0       0.82      0.95      0.88      4680\n",
            "           1       0.61      0.27      0.38      1384\n",
            "\n",
            "    accuracy                           0.79      6064\n",
            "   macro avg       0.71      0.61      0.63      6064\n",
            "weighted avg       0.77      0.79      0.76      6064\n",
            "\n",
            "Accuracy score of Logistic Regression is:\n",
            "0.8029353562005277\n",
            "[[4489  228]\n",
            " [ 967  380]]\n",
            "              precision    recall  f1-score   support\n",
            "\n",
            "           0       0.82      0.95      0.88      4717\n",
            "           1       0.62      0.28      0.39      1347\n",
            "\n",
            "    accuracy                           0.80      6064\n",
            "   macro avg       0.72      0.62      0.64      6064\n",
            "weighted avg       0.78      0.80      0.77      6064\n",
            "\n",
            "Accuracy score of Logistic Regression is:\n",
            "0.8026055408970977\n",
            "[[4472  218]\n",
            " [ 979  395]]\n",
            "              precision    recall  f1-score   support\n",
            "\n",
            "           0       0.82      0.95      0.88      4690\n",
            "           1       0.64      0.29      0.40      1374\n",
            "\n",
            "    accuracy                           0.80      6064\n",
            "   macro avg       0.73      0.62      0.64      6064\n",
            "weighted avg       0.78      0.80      0.77      6064\n",
            "\n",
            "Accuracy score of Logistic Regression is:\n",
            "0.8024406332453826\n",
            "[[4479  238]\n",
            " [ 960  387]]\n",
            "              precision    recall  f1-score   support\n",
            "\n",
            "           0       0.82      0.95      0.88      4717\n",
            "           1       0.62      0.29      0.39      1347\n",
            "\n",
            "    accuracy                           0.80      6064\n",
            "   macro avg       0.72      0.62      0.64      6064\n",
            "weighted avg       0.78      0.80      0.77      6064\n",
            "\n",
            "Accuracy score of Logistic Regression is:\n",
            "0.8031002638522428\n",
            "[[4487  220]\n",
            " [ 974  383]]\n",
            "              precision    recall  f1-score   support\n",
            "\n",
            "           0       0.82      0.95      0.88      4707\n",
            "           1       0.64      0.28      0.39      1357\n",
            "\n",
            "    accuracy                           0.80      6064\n",
            "   macro avg       0.73      0.62      0.64      6064\n",
            "weighted avg       0.78      0.80      0.77      6064\n",
            "\n",
            "Accuracy score of Logistic Regression is:\n",
            "0.8062335092348285\n",
            "[[4519  237]\n",
            " [ 938  370]]\n",
            "              precision    recall  f1-score   support\n",
            "\n",
            "           0       0.83      0.95      0.88      4756\n",
            "           1       0.61      0.28      0.39      1308\n",
            "\n",
            "    accuracy                           0.81      6064\n",
            "   macro avg       0.72      0.62      0.64      6064\n",
            "weighted avg       0.78      0.81      0.78      6064\n",
            "\n",
            "Accuracy score of Logistic Regression is:\n",
            "0.8062335092348285\n",
            "[[4503  193]\n",
            " [ 982  386]]\n",
            "              precision    recall  f1-score   support\n",
            "\n",
            "           0       0.82      0.96      0.88      4696\n",
            "           1       0.67      0.28      0.40      1368\n",
            "\n",
            "    accuracy                           0.81      6064\n",
            "   macro avg       0.74      0.62      0.64      6064\n",
            "weighted avg       0.79      0.81      0.77      6064\n",
            "\n",
            "Accuracy score of Logistic Regression is:\n",
            "0.7969986807387863\n",
            "[[4479  225]\n",
            " [1006  354]]\n",
            "              precision    recall  f1-score   support\n",
            "\n",
            "           0       0.82      0.95      0.88      4704\n",
            "           1       0.61      0.26      0.37      1360\n",
            "\n",
            "    accuracy                           0.80      6064\n",
            "   macro avg       0.71      0.61      0.62      6064\n",
            "weighted avg       0.77      0.80      0.76      6064\n",
            "\n",
            "Accuracy score of Logistic Regression is:\n",
            "0.8027704485488126\n",
            "[[4449  232]\n",
            " [ 964  419]]\n",
            "              precision    recall  f1-score   support\n",
            "\n",
            "           0       0.82      0.95      0.88      4681\n",
            "           1       0.64      0.30      0.41      1383\n",
            "\n",
            "    accuracy                           0.80      6064\n",
            "   macro avg       0.73      0.63      0.65      6064\n",
            "weighted avg       0.78      0.80      0.77      6064\n",
            "\n",
            "Accuracy score of Logistic Regression is:\n",
            "0.800296833773087\n",
            "[[4468  243]\n",
            " [ 968  385]]\n",
            "              precision    recall  f1-score   support\n",
            "\n",
            "           0       0.82      0.95      0.88      4711\n",
            "           1       0.61      0.28      0.39      1353\n",
            "\n",
            "    accuracy                           0.80      6064\n",
            "   macro avg       0.72      0.62      0.63      6064\n",
            "weighted avg       0.78      0.80      0.77      6064\n",
            "\n",
            "Accuracy score of Logistic Regression is:\n",
            "0.8095316622691293\n",
            "[[4533  227]\n",
            " [ 928  376]]\n",
            "              precision    recall  f1-score   support\n",
            "\n",
            "           0       0.83      0.95      0.89      4760\n",
            "           1       0.62      0.29      0.39      1304\n",
            "\n",
            "    accuracy                           0.81      6064\n",
            "   macro avg       0.73      0.62      0.64      6064\n",
            "weighted avg       0.79      0.81      0.78      6064\n",
            "\n",
            "Accuracy score of Logistic Regression is:\n",
            "0.8006266490765171\n",
            "[[4484  215]\n",
            " [ 994  371]]\n",
            "              precision    recall  f1-score   support\n",
            "\n",
            "           0       0.82      0.95      0.88      4699\n",
            "           1       0.63      0.27      0.38      1365\n",
            "\n",
            "    accuracy                           0.80      6064\n",
            "   macro avg       0.73      0.61      0.63      6064\n",
            "weighted avg       0.78      0.80      0.77      6064\n",
            "\n",
            "Accuracy score of Logistic Regression is:\n",
            "0.8026055408970977\n",
            "[[4496  242]\n",
            " [ 955  371]]\n",
            "              precision    recall  f1-score   support\n",
            "\n",
            "           0       0.82      0.95      0.88      4738\n",
            "           1       0.61      0.28      0.38      1326\n",
            "\n",
            "    accuracy                           0.80      6064\n",
            "   macro avg       0.72      0.61      0.63      6064\n",
            "weighted avg       0.78      0.80      0.77      6064\n",
            "\n",
            "Accuracy score of Logistic Regression is:\n",
            "0.8090369393139841\n",
            "[[4525  233]\n",
            " [ 925  381]]\n",
            "              precision    recall  f1-score   support\n",
            "\n",
            "           0       0.83      0.95      0.89      4758\n",
            "           1       0.62      0.29      0.40      1306\n",
            "\n",
            "    accuracy                           0.81      6064\n",
            "   macro avg       0.73      0.62      0.64      6064\n",
            "weighted avg       0.79      0.81      0.78      6064\n",
            "\n",
            "Accuracy score of Logistic Regression is:\n",
            "0.8077176781002638\n",
            "[[4530  222]\n",
            " [ 944  368]]\n",
            "              precision    recall  f1-score   support\n",
            "\n",
            "           0       0.83      0.95      0.89      4752\n",
            "           1       0.62      0.28      0.39      1312\n",
            "\n",
            "    accuracy                           0.81      6064\n",
            "   macro avg       0.73      0.62      0.64      6064\n",
            "weighted avg       0.78      0.81      0.78      6064\n",
            "\n",
            "Accuracy score of Logistic Regression is:\n",
            "0.804089709762533\n",
            "[[4496  244]\n",
            " [ 944  380]]\n",
            "              precision    recall  f1-score   support\n",
            "\n",
            "           0       0.83      0.95      0.88      4740\n",
            "           1       0.61      0.29      0.39      1324\n",
            "\n",
            "    accuracy                           0.80      6064\n",
            "   macro avg       0.72      0.62      0.64      6064\n",
            "weighted avg       0.78      0.80      0.78      6064\n",
            "\n",
            "Best accuracy is 0.8156332453825857 on Random_state 84\n"
          ],
          "name": "stdout"
        }
      ]
    },
    {
      "cell_type": "markdown",
      "metadata": {
        "id": "Cm_GUEw6bj_P"
      },
      "source": [
        "Best accuracy is 0.8156332453825857 on Random_state 84 "
      ]
    },
    {
      "cell_type": "code",
      "metadata": {
        "colab": {
          "base_uri": "https://localhost:8080/"
        },
        "id": "V-WQmgh9W2Oe",
        "outputId": "d399a08e-2058-44ba-f1f5-c63fa5fad7e0"
      },
      "source": [
        "x_train,x_test,y_train,y_test=train_test_split(x,y,test_size=0.22,random_state=184)\n",
        "lm=LogisticRegression()\n",
        "lm.fit(x_train,y_train)\n",
        "pred=lm.predict(x_test)\n",
        "print('Accuracy score of Logistic Regression','is:')\n",
        "accu_score=accuracy_score(y_test,pred)\n",
        "print(accuracy_score(y_test,pred))\n",
        "print(confusion_matrix(y_test,pred))\n",
        "print(classification_report(y_test,pred))"
      ],
      "execution_count": 295,
      "outputs": [
        {
          "output_type": "stream",
          "text": [
            "Accuracy score of Logistic Regression is:\n",
            "0.7945250659630607\n",
            "[[4439  241]\n",
            " [1005  379]]\n",
            "              precision    recall  f1-score   support\n",
            "\n",
            "           0       0.82      0.95      0.88      4680\n",
            "           1       0.61      0.27      0.38      1384\n",
            "\n",
            "    accuracy                           0.79      6064\n",
            "   macro avg       0.71      0.61      0.63      6064\n",
            "weighted avg       0.77      0.79      0.76      6064\n",
            "\n"
          ],
          "name": "stdout"
        }
      ]
    },
    {
      "cell_type": "code",
      "metadata": {
        "colab": {
          "base_uri": "https://localhost:8080/"
        },
        "id": "nHgUrWVEXDlI",
        "outputId": "04a0daf3-ba40-4ab3-bb36-eb63d7d348c6"
      },
      "source": [
        "dtc=DecisionTreeClassifier()\n",
        "dtc.fit(x_train,y_train)\n",
        "preddtc=dtc.predict(x_test)\n",
        "print('Accuracy score of DecisionTreeClassifier','is:')\n",
        "accu_score=accuracy_score(y_test,preddtc)\n",
        "print(accuracy_score(y_test,preddtc))\n",
        "print(confusion_matrix(y_test,preddtc))\n",
        "print(classification_report(y_test,preddtc))"
      ],
      "execution_count": 296,
      "outputs": [
        {
          "output_type": "stream",
          "text": [
            "Accuracy score of DecisionTreeClassifier is:\n",
            "0.8060686015831134\n",
            "[[4111  569]\n",
            " [ 607  777]]\n",
            "              precision    recall  f1-score   support\n",
            "\n",
            "           0       0.87      0.88      0.87      4680\n",
            "           1       0.58      0.56      0.57      1384\n",
            "\n",
            "    accuracy                           0.81      6064\n",
            "   macro avg       0.72      0.72      0.72      6064\n",
            "weighted avg       0.80      0.81      0.81      6064\n",
            "\n"
          ],
          "name": "stdout"
        }
      ]
    },
    {
      "cell_type": "code",
      "metadata": {
        "colab": {
          "base_uri": "https://localhost:8080/"
        },
        "id": "nvFv9hltXHAY",
        "outputId": "4b6c2f14-cdbf-4ebf-b276-09bd356f961e"
      },
      "source": [
        "knn=KNeighborsClassifier(n_neighbors=5)\n",
        "knn.fit(x_train,y_train)\n",
        "predknn=knn.predict(x_test)\n",
        "print('Accuracy score of knn','is:')\n",
        "accu_score=accuracy_score(y_test,pred)\n",
        "print(accuracy_score(y_test,pred))\n",
        "print(confusion_matrix(y_test,pred))\n",
        "print(classification_report(y_test,pred))"
      ],
      "execution_count": 297,
      "outputs": [
        {
          "output_type": "stream",
          "text": [
            "Accuracy score of knn is:\n",
            "0.7945250659630607\n",
            "[[4439  241]\n",
            " [1005  379]]\n",
            "              precision    recall  f1-score   support\n",
            "\n",
            "           0       0.82      0.95      0.88      4680\n",
            "           1       0.61      0.27      0.38      1384\n",
            "\n",
            "    accuracy                           0.79      6064\n",
            "   macro avg       0.71      0.61      0.63      6064\n",
            "weighted avg       0.77      0.79      0.76      6064\n",
            "\n"
          ],
          "name": "stdout"
        }
      ]
    },
    {
      "cell_type": "code",
      "metadata": {
        "colab": {
          "base_uri": "https://localhost:8080/"
        },
        "id": "gpzursCNXLeM",
        "outputId": "a5e171bf-bb21-4ee5-b125-f706c3b41230"
      },
      "source": [
        "svm=SVC()\n",
        "svm.fit(x_train,y_train)\n",
        "predsvc=svm.predict(x_test)\n",
        "print('Accuracy score of svm','is:')\n",
        "accu_score=accuracy_score(y_test,predsvc)\n",
        "print(accuracy_score(y_test,predsvc))\n",
        "print(confusion_matrix(y_test,predsvc))\n",
        "print(classification_report(y_test,predsvc))"
      ],
      "execution_count": 298,
      "outputs": [
        {
          "output_type": "stream",
          "text": [
            "Accuracy score of svm is:\n",
            "0.8248680738786279\n",
            "[[4518  162]\n",
            " [ 900  484]]\n",
            "              precision    recall  f1-score   support\n",
            "\n",
            "           0       0.83      0.97      0.89      4680\n",
            "           1       0.75      0.35      0.48      1384\n",
            "\n",
            "    accuracy                           0.82      6064\n",
            "   macro avg       0.79      0.66      0.69      6064\n",
            "weighted avg       0.81      0.82      0.80      6064\n",
            "\n"
          ],
          "name": "stdout"
        }
      ]
    },
    {
      "cell_type": "code",
      "metadata": {
        "colab": {
          "base_uri": "https://localhost:8080/"
        },
        "id": "DCYzzB7QXRKb",
        "outputId": "1c784b78-3693-4f65-97d9-324b488f37ae"
      },
      "source": [
        "bnb=GaussianNB()\n",
        "bnb.fit(x_train,y_train)\n",
        "predbnb=bnb.predict(x_test)\n",
        "print('Accuracy score of BinomialNB','is:')\n",
        "accu_score=accuracy_score(y_test,predbnb)\n",
        "print(accuracy_score(y_test,predbnb))\n",
        "print(confusion_matrix(y_test,predbnb))\n",
        "print(classification_report(y_test,predbnb))"
      ],
      "execution_count": 299,
      "outputs": [
        {
          "output_type": "stream",
          "text": [
            "Accuracy score of BinomialNB is:\n",
            "0.7697889182058048\n",
            "[[3651 1029]\n",
            " [ 367 1017]]\n",
            "              precision    recall  f1-score   support\n",
            "\n",
            "           0       0.91      0.78      0.84      4680\n",
            "           1       0.50      0.73      0.59      1384\n",
            "\n",
            "    accuracy                           0.77      6064\n",
            "   macro avg       0.70      0.76      0.72      6064\n",
            "weighted avg       0.81      0.77      0.78      6064\n",
            "\n"
          ],
          "name": "stdout"
        }
      ]
    },
    {
      "cell_type": "code",
      "metadata": {
        "colab": {
          "base_uri": "https://localhost:8080/"
        },
        "id": "4QkI_JwhXYqn",
        "outputId": "ccef5325-3004-4628-8912-db0278130364"
      },
      "source": [
        "from sklearn.ensemble import RandomForestClassifier\n",
        "\n",
        "rf=RandomForestClassifier()\n",
        "rf.fit(x_train,y_train)\n",
        "predrf=rf.predict(x_test)\n",
        "print('Accuracy score of RandomForestClassifier','is:')\n",
        "accu_score=accuracy_score(y_test,predrf)\n",
        "print(accuracy_score(y_test,predrf))\n",
        "print(confusion_matrix(y_test,predrf))\n",
        "print(classification_report(y_test,predrf))"
      ],
      "execution_count": 300,
      "outputs": [
        {
          "output_type": "stream",
          "text": [
            "Accuracy score of RandomForestClassifier is:\n",
            "0.8514182058047494\n",
            "[[4388  292]\n",
            " [ 609  775]]\n",
            "              precision    recall  f1-score   support\n",
            "\n",
            "           0       0.88      0.94      0.91      4680\n",
            "           1       0.73      0.56      0.63      1384\n",
            "\n",
            "    accuracy                           0.85      6064\n",
            "   macro avg       0.80      0.75      0.77      6064\n",
            "weighted avg       0.84      0.85      0.84      6064\n",
            "\n"
          ],
          "name": "stdout"
        }
      ]
    },
    {
      "cell_type": "code",
      "metadata": {
        "colab": {
          "base_uri": "https://localhost:8080/"
        },
        "id": "l6sfTn7wXbiM",
        "outputId": "92cd951e-9e03-466c-8751-4ddac92f249c"
      },
      "source": [
        "from sklearn.ensemble import AdaBoostClassifier\n",
        "\n",
        "ad=AdaBoostClassifier()\n",
        "ad.fit(x_train,y_train)\n",
        "predad=ad.predict(x_test)\n",
        "print('Accuracy score of AdaBoostClassifier','is:')\n",
        "accu_score=accuracy_score(y_test,predad)\n",
        "print(accuracy_score(y_test,predad))\n",
        "print(confusion_matrix(y_test,predad))\n",
        "print(classification_report(y_test,predad))"
      ],
      "execution_count": 301,
      "outputs": [
        {
          "output_type": "stream",
          "text": [
            "Accuracy score of AdaBoostClassifier is:\n",
            "0.8590039577836411\n",
            "[[4395  285]\n",
            " [ 570  814]]\n",
            "              precision    recall  f1-score   support\n",
            "\n",
            "           0       0.89      0.94      0.91      4680\n",
            "           1       0.74      0.59      0.66      1384\n",
            "\n",
            "    accuracy                           0.86      6064\n",
            "   macro avg       0.81      0.76      0.78      6064\n",
            "weighted avg       0.85      0.86      0.85      6064\n",
            "\n"
          ],
          "name": "stdout"
        }
      ]
    },
    {
      "cell_type": "markdown",
      "metadata": {
        "id": "AONQcN9Db5xv"
      },
      "source": [
        "Random Forest Classifier is the best algorithm."
      ]
    },
    {
      "cell_type": "markdown",
      "metadata": {
        "id": "lsSNG3S0cC7c"
      },
      "source": [
        "\n",
        "## Cross - Validation Scores"
      ]
    },
    {
      "cell_type": "code",
      "metadata": {
        "colab": {
          "base_uri": "https://localhost:8080/"
        },
        "id": "_fPDnoMLXfId",
        "outputId": "61c008dc-8942-4db3-cb71-48cdce958b4b"
      },
      "source": [
        "from sklearn.model_selection import cross_val_score\n",
        "rfscores=cross_val_score(rf,x,y,cv=5)\n",
        "print(rfscores)\n",
        "print(rfscores.mean(),rfscores.std())"
      ],
      "execution_count": 302,
      "outputs": [
        {
          "output_type": "stream",
          "text": [
            "[0.85234899 0.85177794 0.85177794 0.85703919 0.85595065]\n",
            "0.8537789423442204 0.0022538104236587866\n"
          ],
          "name": "stdout"
        }
      ]
    },
    {
      "cell_type": "code",
      "metadata": {
        "colab": {
          "base_uri": "https://localhost:8080/"
        },
        "id": "lHoUuEKJXjsD",
        "outputId": "0fb4a2cf-0d45-48dc-c42c-ae9c44398160"
      },
      "source": [
        "list1=[0.8512532981530343]\n",
        "list2=[0.8533435945174579]\n",
        "difference=[]\n",
        "zip_object = zip(list1, list2)\n",
        "for list1_i, list2_i in zip_object:\n",
        "    difference.append(list1_i-list2_i)\n",
        "\n",
        "\n",
        "print(difference)"
      ],
      "execution_count": 303,
      "outputs": [
        {
          "output_type": "stream",
          "text": [
            "[-0.002090296364423594]\n"
          ],
          "name": "stdout"
        }
      ]
    },
    {
      "cell_type": "markdown",
      "metadata": {
        "id": "Wemx_w_CcJ40"
      },
      "source": [
        "\n",
        "As the difference between accuracy scores and cross validation scores of Random Forest Classifier is approximately 0%. So, It is verified that Random Forest Classifier is the best algorithm for this model with accuracy of 85.14% ."
      ]
    },
    {
      "cell_type": "markdown",
      "metadata": {
        "id": "FbiVHXJfYeRo"
      },
      "source": [
        "## Hyper Parameter Tuning"
      ]
    },
    {
      "cell_type": "code",
      "metadata": {
        "colab": {
          "base_uri": "https://localhost:8080/"
        },
        "id": "8pCb_RIDYiFw",
        "outputId": "60ba93f3-4e54-49bc-9491-15061d3fa20b"
      },
      "source": [
        "rf=RandomForestClassifier()\n",
        "grid_param={'criterion':['gini','entropy'],'max_features':['auto','sqrt','log2'],'n_estimators':[25,50,75,100],'max_depth':[None,int]}\n",
        "gd_sr=GridSearchCV(estimator=rf,param_grid=grid_param,scoring='accuracy',cv=5)\n",
        "gd_sr.fit(x_train,y_train)"
      ],
      "execution_count": 304,
      "outputs": [
        {
          "output_type": "execute_result",
          "data": {
            "text/plain": [
              "GridSearchCV(cv=5, error_score=nan,\n",
              "             estimator=RandomForestClassifier(bootstrap=True, ccp_alpha=0.0,\n",
              "                                              class_weight=None,\n",
              "                                              criterion='gini', max_depth=None,\n",
              "                                              max_features='auto',\n",
              "                                              max_leaf_nodes=None,\n",
              "                                              max_samples=None,\n",
              "                                              min_impurity_decrease=0.0,\n",
              "                                              min_impurity_split=None,\n",
              "                                              min_samples_leaf=1,\n",
              "                                              min_samples_split=2,\n",
              "                                              min_weight_fraction_leaf=0.0,\n",
              "                                              n_estimators=100, n_jobs=None,\n",
              "                                              oob_score=False,\n",
              "                                              random_state=None, verbose=0,\n",
              "                                              warm_start=False),\n",
              "             iid='deprecated', n_jobs=None,\n",
              "             param_grid={'criterion': ['gini', 'entropy'],\n",
              "                         'max_depth': [None, <class 'int'>],\n",
              "                         'max_features': ['auto', 'sqrt', 'log2'],\n",
              "                         'n_estimators': [25, 50, 75, 100]},\n",
              "             pre_dispatch='2*n_jobs', refit=True, return_train_score=False,\n",
              "             scoring='accuracy', verbose=0)"
            ]
          },
          "metadata": {
            "tags": []
          },
          "execution_count": 304
        }
      ]
    },
    {
      "cell_type": "code",
      "metadata": {
        "colab": {
          "base_uri": "https://localhost:8080/"
        },
        "id": "zfOWxIr_Yklb",
        "outputId": "686fa11f-eb2e-4e60-f764-e3abc6211057"
      },
      "source": [
        "gd_sr.best_params_"
      ],
      "execution_count": 305,
      "outputs": [
        {
          "output_type": "execute_result",
          "data": {
            "text/plain": [
              "{'criterion': 'gini',\n",
              " 'max_depth': None,\n",
              " 'max_features': 'sqrt',\n",
              " 'n_estimators': 100}"
            ]
          },
          "metadata": {
            "tags": []
          },
          "execution_count": 305
        }
      ]
    },
    {
      "cell_type": "code",
      "metadata": {
        "colab": {
          "base_uri": "https://localhost:8080/"
        },
        "id": "5xp2Rh3uYoLd",
        "outputId": "4faa212a-bb3c-4395-f2ed-685cb768ac25"
      },
      "source": [
        "rf=RandomForestClassifier(criterion= 'gini',\n",
        " max_depth=None,\n",
        " max_features= 'log2',\n",
        " n_estimators= 100)\n",
        "rf.fit(x_train,y_train)\n",
        "predrf=rf.predict(x_test)\n",
        "print('Accuracy score of RandomForestClassifier','is:')\n",
        "accu_score=accuracy_score(y_test,predrf)\n",
        "print(accuracy_score(y_test,predrf))\n",
        "print(confusion_matrix(y_test,predrf))\n",
        "print(classification_report(y_test,predrf))"
      ],
      "execution_count": 306,
      "outputs": [
        {
          "output_type": "stream",
          "text": [
            "Accuracy score of RandomForestClassifier is:\n",
            "0.8494393139841688\n",
            "[[4374  306]\n",
            " [ 607  777]]\n",
            "              precision    recall  f1-score   support\n",
            "\n",
            "           0       0.88      0.93      0.91      4680\n",
            "           1       0.72      0.56      0.63      1384\n",
            "\n",
            "    accuracy                           0.85      6064\n",
            "   macro avg       0.80      0.75      0.77      6064\n",
            "weighted avg       0.84      0.85      0.84      6064\n",
            "\n"
          ],
          "name": "stdout"
        }
      ]
    },
    {
      "cell_type": "markdown",
      "metadata": {
        "id": "g7CxMGfOZq0K"
      },
      "source": [
        "There is no change in Random forest accuracy while using Hyper parameter tunning."
      ]
    },
    {
      "cell_type": "markdown",
      "metadata": {
        "id": "337HwNpLZ6vm"
      },
      "source": [
        "\n",
        "## AOC - ROC Curve"
      ]
    },
    {
      "cell_type": "code",
      "metadata": {
        "id": "usQbX7hCYxCM"
      },
      "source": [
        "from sklearn.metrics import roc_curve\n",
        "from sklearn.metrics import roc_auc_score"
      ],
      "execution_count": 307,
      "outputs": []
    },
    {
      "cell_type": "code",
      "metadata": {
        "id": "xMdy7ZTsZ_36"
      },
      "source": [
        "y_pred_prob=rf.predict_proba(x_test)[:,1]"
      ],
      "execution_count": 308,
      "outputs": []
    },
    {
      "cell_type": "code",
      "metadata": {
        "colab": {
          "base_uri": "https://localhost:8080/"
        },
        "id": "ipAw9miXaD9q",
        "outputId": "cd94feb5-294d-437a-b355-5673993b11e7"
      },
      "source": [
        "y_pred_prob"
      ],
      "execution_count": 309,
      "outputs": [
        {
          "output_type": "execute_result",
          "data": {
            "text/plain": [
              "array([0.03, 0.21, 0.1 , ..., 0.41, 0.  , 0.  ])"
            ]
          },
          "metadata": {
            "tags": []
          },
          "execution_count": 309
        }
      ]
    },
    {
      "cell_type": "code",
      "metadata": {
        "id": "nszaS9EWaHEq"
      },
      "source": [
        "fpr,tpr,thresholds=roc_curve(y_test,y_pred_prob)"
      ],
      "execution_count": 310,
      "outputs": []
    },
    {
      "cell_type": "code",
      "metadata": {
        "colab": {
          "base_uri": "https://localhost:8080/"
        },
        "id": "gEIMVfFHaMSF",
        "outputId": "ddb974b7-83bc-4b28-ccbb-8e6ed771504c"
      },
      "source": [
        "fpr"
      ],
      "execution_count": 311,
      "outputs": [
        {
          "output_type": "execute_result",
          "data": {
            "text/plain": [
              "array([0.00000000e+00, 0.00000000e+00, 2.13675214e-04, 2.13675214e-04,\n",
              "       4.27350427e-04, 4.27350427e-04, 6.41025641e-04, 8.54700855e-04,\n",
              "       1.06837607e-03, 1.28205128e-03, 1.28205128e-03, 2.35042735e-03,\n",
              "       2.77777778e-03, 3.41880342e-03, 4.27350427e-03, 4.91452991e-03,\n",
              "       5.34188034e-03, 6.62393162e-03, 7.05128205e-03, 7.05128205e-03,\n",
              "       8.33333333e-03, 9.61538462e-03, 1.15384615e-02, 1.30341880e-02,\n",
              "       1.43162393e-02, 1.51709402e-02, 1.66666667e-02, 1.73076923e-02,\n",
              "       1.98717949e-02, 2.02991453e-02, 2.13675214e-02, 2.20085470e-02,\n",
              "       2.47863248e-02, 2.64957265e-02, 2.75641026e-02, 2.92735043e-02,\n",
              "       3.09829060e-02, 3.31196581e-02, 3.31196581e-02, 3.46153846e-02,\n",
              "       3.65384615e-02, 3.91025641e-02, 4.10256410e-02, 4.40170940e-02,\n",
              "       4.50854701e-02, 4.78632479e-02, 5.08547009e-02, 5.27777778e-02,\n",
              "       5.57692308e-02, 5.98290598e-02, 6.26068376e-02, 6.53846154e-02,\n",
              "       6.88034188e-02, 6.88034188e-02, 7.13675214e-02, 7.45726496e-02,\n",
              "       7.69230769e-02, 8.09829060e-02, 8.09829060e-02, 8.52564103e-02,\n",
              "       8.84615385e-02, 9.33760684e-02, 9.70085470e-02, 1.01068376e-01,\n",
              "       1.06410256e-01, 1.13247863e-01, 1.17307692e-01, 1.21367521e-01,\n",
              "       1.26068376e-01, 1.33333333e-01, 1.39743590e-01, 1.46581197e-01,\n",
              "       1.52777778e-01, 1.57905983e-01, 1.63675214e-01, 1.68803419e-01,\n",
              "       1.75854701e-01, 1.82478632e-01, 1.89316239e-01, 1.96794872e-01,\n",
              "       2.05982906e-01, 2.13034188e-01, 2.22435897e-01, 2.32905983e-01,\n",
              "       2.42094017e-01, 2.51709402e-01, 2.62606838e-01, 2.72008547e-01,\n",
              "       2.83760684e-01, 2.96367521e-01, 3.08333333e-01, 3.20726496e-01,\n",
              "       3.31623932e-01, 3.43589744e-01, 3.57692308e-01, 3.78846154e-01,\n",
              "       3.98076923e-01, 4.17521368e-01, 4.39102564e-01, 4.62179487e-01,\n",
              "       4.98290598e-01, 5.41239316e-01, 5.92307692e-01, 6.82905983e-01,\n",
              "       1.00000000e+00])"
            ]
          },
          "metadata": {
            "tags": []
          },
          "execution_count": 311
        }
      ]
    },
    {
      "cell_type": "code",
      "metadata": {
        "colab": {
          "base_uri": "https://localhost:8080/"
        },
        "id": "nVbH4ux1aOjJ",
        "outputId": "b12df114-3e4c-4a32-ea16-c6f7f4e2e568"
      },
      "source": [
        "tpr"
      ],
      "execution_count": 312,
      "outputs": [
        {
          "output_type": "execute_result",
          "data": {
            "text/plain": [
              "array([0.        , 0.06286127, 0.08959538, 0.10549133, 0.11849711,\n",
              "       0.13728324, 0.14595376, 0.15606936, 0.16473988, 0.17268786,\n",
              "       0.18208092, 0.19653179, 0.20303468, 0.21604046, 0.2232659 ,\n",
              "       0.2283237 , 0.23699422, 0.24349711, 0.25361272, 0.26228324,\n",
              "       0.27312139, 0.28034682, 0.28540462, 0.29768786, 0.30780347,\n",
              "       0.31430636, 0.32442197, 0.33598266, 0.34609827, 0.35476879,\n",
              "       0.36632948, 0.3800578 , 0.3916185 , 0.40245665, 0.40679191,\n",
              "       0.4132948 , 0.42196532, 0.43135838, 0.43208092, 0.44147399,\n",
              "       0.45592486, 0.46459538, 0.4732659 , 0.47760116, 0.48843931,\n",
              "       0.49566474, 0.51011561, 0.51950867, 0.5267341 , 0.53757225,\n",
              "       0.5484104 , 0.56141618, 0.57369942, 0.57442197, 0.57947977,\n",
              "       0.58959538, 0.59971098, 0.61488439, 0.61560694, 0.62861272,\n",
              "       0.63800578, 0.64450867, 0.65101156, 0.66112717, 0.66979769,\n",
              "       0.67702312, 0.68786127, 0.70014451, 0.70447977, 0.71676301,\n",
              "       0.72976879, 0.74277457, 0.75      , 0.75722543, 0.76806358,\n",
              "       0.77312139, 0.77890173, 0.7882948 , 0.79624277, 0.80491329,\n",
              "       0.82008671, 0.8265896 , 0.83742775, 0.84754335, 0.85549133,\n",
              "       0.86777457, 0.87355491, 0.88078035, 0.88583815, 0.89450867,\n",
              "       0.90028902, 0.90895954, 0.91907514, 0.92557803, 0.93424855,\n",
              "       0.94147399, 0.95086705, 0.95520231, 0.96098266, 0.96748555,\n",
              "       0.9732659 , 0.97760116, 0.9833815 , 0.99060694, 1.        ])"
            ]
          },
          "metadata": {
            "tags": []
          },
          "execution_count": 312
        }
      ]
    },
    {
      "cell_type": "code",
      "metadata": {
        "colab": {
          "base_uri": "https://localhost:8080/"
        },
        "id": "9SEVE_4UaSSD",
        "outputId": "6560e8fc-e538-42bd-f920-b354d7bfec54"
      },
      "source": [
        "thresholds"
      ],
      "execution_count": 317,
      "outputs": [
        {
          "output_type": "execute_result",
          "data": {
            "text/plain": [
              "array([2.        , 1.        , 0.99      , 0.98      , 0.97      ,\n",
              "       0.96      , 0.95      , 0.94      , 0.93      , 0.92      ,\n",
              "       0.91      , 0.9       , 0.89      , 0.88      , 0.87      ,\n",
              "       0.86      , 0.85      , 0.84      , 0.83      , 0.82      ,\n",
              "       0.81      , 0.8       , 0.79      , 0.78      , 0.77      ,\n",
              "       0.76      , 0.75      , 0.74      , 0.73      , 0.72      ,\n",
              "       0.71      , 0.7       , 0.69      , 0.68      , 0.67      ,\n",
              "       0.66      , 0.65      , 0.64      , 0.63333333, 0.63      ,\n",
              "       0.62      , 0.61      , 0.6       , 0.59      , 0.58      ,\n",
              "       0.57      , 0.56      , 0.55      , 0.54      , 0.53      ,\n",
              "       0.52      , 0.51      , 0.5       , 0.49333333, 0.49      ,\n",
              "       0.48      , 0.47      , 0.46      , 0.45666667, 0.45      ,\n",
              "       0.44      , 0.43      , 0.42      , 0.41      , 0.4       ,\n",
              "       0.39      , 0.38      , 0.37      , 0.36      , 0.35      ,\n",
              "       0.34      , 0.33      , 0.32      , 0.31      , 0.3       ,\n",
              "       0.29      , 0.28      , 0.27      , 0.26      , 0.25      ,\n",
              "       0.24      , 0.23      , 0.22      , 0.21      , 0.2       ,\n",
              "       0.19      , 0.18      , 0.17      , 0.16      , 0.15      ,\n",
              "       0.14      , 0.13      , 0.12      , 0.11      , 0.1       ,\n",
              "       0.09      , 0.08      , 0.07      , 0.06      , 0.05      ,\n",
              "       0.04      , 0.03      , 0.02      , 0.01      , 0.        ])"
            ]
          },
          "metadata": {
            "tags": []
          },
          "execution_count": 317
        }
      ]
    },
    {
      "cell_type": "code",
      "metadata": {
        "colab": {
          "base_uri": "https://localhost:8080/",
          "height": 295
        },
        "id": "EyuRu-O_aWIX",
        "outputId": "3830cd8b-c23d-4cf0-94dc-fa6d467b5d6c"
      },
      "source": [
        "plt.plot([0,1],[0,1],'k--')\n",
        "plt.plot(fpr,tpr,label='Random Forest')\n",
        "plt.xlabel('False positive rate')\n",
        "plt.ylabel('True positive rate')\n",
        "plt.title('Random Forest Classifier')\n",
        "plt.show()"
      ],
      "execution_count": 314,
      "outputs": [
        {
          "output_type": "display_data",
          "data": {
            "image/png": "[encoded data removed]",
            "text/plain": [
              "<Figure size 432x288 with 1 Axes>"
            ]
          },
          "metadata": {
            "tags": []
          }
        }
      ]
    },
    {
      "cell_type": "markdown",
      "metadata": {
        "id": "7fj_q8PcajX1"
      },
      "source": [
        " Observations :-\n",
        "\n",
        "As the line is moving towards 1, so we can conclude that we have developed good model."
      ]
    },
    {
      "cell_type": "markdown",
      "metadata": {
        "id": "eHrLFpj7ash1"
      },
      "source": [
        "\n",
        "## Saving the model"
      ]
    },
    {
      "cell_type": "code",
      "metadata": {
        "id": "bUAn_EbCad8U"
      },
      "source": [
        "import joblib"
      ],
      "execution_count": 315,
      "outputs": []
    },
    {
      "cell_type": "code",
      "metadata": {
        "colab": {
          "base_uri": "https://localhost:8080/"
        },
        "id": "14oyeoxAazwf",
        "outputId": "fa5fa74f-7387-4c99-fdaf-f8fd4e6a9724"
      },
      "source": [
        "joblib.dump(rf,\"rf_census_income.obj\")"
      ],
      "execution_count": 316,
      "outputs": [
        {
          "output_type": "execute_result",
          "data": {
            "text/plain": [
              "['rf_census_income.obj']"
            ]
          },
          "metadata": {
            "tags": []
          },
          "execution_count": 316
        }
      ]
    },
    {
      "cell_type": "code",
      "metadata": {
        "id": "-kYBuAMRa2Yp"
      },
      "source": [
        ""
      ],
      "execution_count": 316,
      "outputs": []
    }
  ]
}