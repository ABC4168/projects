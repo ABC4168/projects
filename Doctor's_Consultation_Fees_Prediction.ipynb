{
  "nbformat": 4,
  "nbformat_minor": 0,
  "metadata": {
    "colab": {
      "name": "Doctor's Consultation Fees Prediction",
      "provenance": [],
      "collapsed_sections": []
    },
    "kernelspec": {
      "name": "python3",
      "display_name": "Python 3"
    },
    "language_info": {
      "name": "python"
    }
  },
  "cells": [
    {
      "cell_type": "markdown",
      "metadata": {
        "id": "DcWp-2chGU_J"
      },
      "source": [
        "# Doctor's Consultation Fees Prediction\n",
        "\n",
        "**Problem Statement :-**\n",
        "\n",
        "Predict A Doctor's Consultation Fee \n",
        "\n",
        "\n",
        "\n",
        "We have all been in situation where we go to a doctor in emergency and find that the consultation fees are too high. As a data scientist we all should do better. What if you have data that records important details about a doctor and you get to build a model to predict the doctor’s consulting fee.? This is the use case that let's you do that. \n",
        "\n",
        "Size of training set: 5961 records\n",
        "\n",
        "Size of test set: 1987 records\n",
        "\n",
        "\n",
        "\n",
        "FEATURES:\n",
        "\n",
        "Qualification: Qualification and degrees held by the doctor\n",
        "\n",
        "Experience: Experience of the doctor in number of years\n",
        "\n",
        "Rating: Rating given by patients\n",
        "\n",
        "Profile: Type of the doctor\n",
        "\n",
        "Miscellaneous_Info: Extra information about the doctor\n",
        "\n",
        "Fees: Fees charged by the doctor (Target Variable)\n",
        "\n",
        "Place: Area and the city where the doctor is located."
      ]
    },
    {
      "cell_type": "markdown",
      "metadata": {
        "id": "hcDeyL8mGMkH"
      },
      "source": [
        "## Importing the Neccesary libraries"
      ]
    },
    {
      "cell_type": "code",
      "metadata": {
        "id": "d2D6ThCPDmvM"
      },
      "source": [
        "import pandas as pd\n",
        "import numpy as np\n",
        "import seaborn as sns\n",
        "import matplotlib.pyplot as plt\n",
        "from sklearn.linear_model import LinearRegression\n",
        "from sklearn.metrics import r2_score,mean_squared_error,mean_absolute_error\n",
        "from sklearn.metrics import accuracy_score,classification_report,confusion_matrix\n",
        "from sklearn.naive_bayes import GaussianNB\n",
        "from sklearn.svm import SVR\n",
        "from sklearn.tree import DecisionTreeRegressor\n",
        "from sklearn.neighbors import KNeighborsRegressor\n",
        "from sklearn.model_selection import GridSearchCV\n",
        "from sklearn.model_selection import cross_val_score\n",
        "from sklearn.model_selection import train_test_split\n",
        "import warnings\n",
        "warnings.filterwarnings('ignore')"
      ],
      "execution_count": 214,
      "outputs": []
    },
    {
      "cell_type": "code",
      "metadata": {
        "colab": {
          "base_uri": "https://localhost:8080/",
          "height": 408
        },
        "id": "kJcNC_7SECrH",
        "outputId": "82411eb4-e9a7-49c4-d309-3a214e35fd22"
      },
      "source": [
        "df=pd.read_excel('/content/Final_Train.xlsx')\n",
        "df\n"
      ],
      "execution_count": 215,
      "outputs": [
        {
          "output_type": "execute_result",
          "data": {
            "text/html": [
              "<div>\n",
              "<style scoped>\n",
              "    .dataframe tbody tr th:only-of-type {\n",
              "        vertical-align: middle;\n",
              "    }\n",
              "\n",
              "    .dataframe tbody tr th {\n",
              "        vertical-align: top;\n",
              "    }\n",
              "\n",
              "    .dataframe thead th {\n",
              "        text-align: right;\n",
              "    }\n",
              "</style>\n",
              "<table border=\"1\" class=\"dataframe\">\n",
              "  <thead>\n",
              "    <tr style=\"text-align: right;\">\n",
              "      <th></th>\n",
              "      <th>Qualification</th>\n",
              "      <th>Experience</th>\n",
              "      <th>Rating</th>\n",
              "      <th>Place</th>\n",
              "      <th>Profile</th>\n",
              "      <th>Miscellaneous_Info</th>\n",
              "      <th>Fees</th>\n",
              "    </tr>\n",
              "  </thead>\n",
              "  <tbody>\n",
              "    <tr>\n",
              "      <th>0</th>\n",
              "      <td>BHMS, MD - Homeopathy</td>\n",
              "      <td>24 years experience</td>\n",
              "      <td>100%</td>\n",
              "      <td>Kakkanad, Ernakulam</td>\n",
              "      <td>Homeopath</td>\n",
              "      <td>100% 16 Feedback Kakkanad, Ernakulam</td>\n",
              "      <td>100</td>\n",
              "    </tr>\n",
              "    <tr>\n",
              "      <th>1</th>\n",
              "      <td>BAMS, MD - Ayurveda Medicine</td>\n",
              "      <td>12 years experience</td>\n",
              "      <td>98%</td>\n",
              "      <td>Whitefield, Bangalore</td>\n",
              "      <td>Ayurveda</td>\n",
              "      <td>98% 76 Feedback Whitefield, Bangalore</td>\n",
              "      <td>350</td>\n",
              "    </tr>\n",
              "    <tr>\n",
              "      <th>2</th>\n",
              "      <td>MBBS, MS - Otorhinolaryngology</td>\n",
              "      <td>9 years experience</td>\n",
              "      <td>NaN</td>\n",
              "      <td>Mathikere - BEL, Bangalore</td>\n",
              "      <td>ENT Specialist</td>\n",
              "      <td>NaN</td>\n",
              "      <td>300</td>\n",
              "    </tr>\n",
              "    <tr>\n",
              "      <th>3</th>\n",
              "      <td>BSc - Zoology, BAMS</td>\n",
              "      <td>12 years experience</td>\n",
              "      <td>NaN</td>\n",
              "      <td>Bannerghatta Road, Bangalore</td>\n",
              "      <td>Ayurveda</td>\n",
              "      <td>Bannerghatta Road, Bangalore ₹250 Available on...</td>\n",
              "      <td>250</td>\n",
              "    </tr>\n",
              "    <tr>\n",
              "      <th>4</th>\n",
              "      <td>BAMS</td>\n",
              "      <td>20 years experience</td>\n",
              "      <td>100%</td>\n",
              "      <td>Keelkattalai, Chennai</td>\n",
              "      <td>Ayurveda</td>\n",
              "      <td>100% 4 Feedback Keelkattalai, Chennai</td>\n",
              "      <td>250</td>\n",
              "    </tr>\n",
              "    <tr>\n",
              "      <th>...</th>\n",
              "      <td>...</td>\n",
              "      <td>...</td>\n",
              "      <td>...</td>\n",
              "      <td>...</td>\n",
              "      <td>...</td>\n",
              "      <td>...</td>\n",
              "      <td>...</td>\n",
              "    </tr>\n",
              "    <tr>\n",
              "      <th>5956</th>\n",
              "      <td>MBBS, MS - ENT</td>\n",
              "      <td>19 years experience</td>\n",
              "      <td>98%</td>\n",
              "      <td>Basavanagudi, Bangalore</td>\n",
              "      <td>ENT Specialist</td>\n",
              "      <td>98% 45 Feedback Basavanagudi, Bangalore</td>\n",
              "      <td>300</td>\n",
              "    </tr>\n",
              "    <tr>\n",
              "      <th>5957</th>\n",
              "      <td>MBBS</td>\n",
              "      <td>33 years experience</td>\n",
              "      <td>NaN</td>\n",
              "      <td>Nungambakkam, Chennai</td>\n",
              "      <td>General Medicine</td>\n",
              "      <td>NaN</td>\n",
              "      <td>100</td>\n",
              "    </tr>\n",
              "    <tr>\n",
              "      <th>5958</th>\n",
              "      <td>MBBS</td>\n",
              "      <td>41 years experience</td>\n",
              "      <td>97%</td>\n",
              "      <td>Greater Kailash Part 2, Delhi</td>\n",
              "      <td>General Medicine</td>\n",
              "      <td>97% 11 Feedback Greater Kailash Part 2, Delhi</td>\n",
              "      <td>600</td>\n",
              "    </tr>\n",
              "    <tr>\n",
              "      <th>5959</th>\n",
              "      <td>MBBS, MD - General Medicine</td>\n",
              "      <td>15 years experience</td>\n",
              "      <td>90%</td>\n",
              "      <td>Vileparle West, Mumbai</td>\n",
              "      <td>General Medicine</td>\n",
              "      <td>General Medical Consultation Viral Fever Treat...</td>\n",
              "      <td>100</td>\n",
              "    </tr>\n",
              "    <tr>\n",
              "      <th>5960</th>\n",
              "      <td>BDS, MDS - Orthodontics</td>\n",
              "      <td>17 years experience</td>\n",
              "      <td>100%</td>\n",
              "      <td>Pitampura, Delhi</td>\n",
              "      <td>Dentist</td>\n",
              "      <td>Acrylic Partial Denture Crowns and Bridges Fix...</td>\n",
              "      <td>200</td>\n",
              "    </tr>\n",
              "  </tbody>\n",
              "</table>\n",
              "<p>5961 rows × 7 columns</p>\n",
              "</div>"
            ],
            "text/plain": [
              "                       Qualification  ... Fees\n",
              "0              BHMS, MD - Homeopathy  ...  100\n",
              "1       BAMS, MD - Ayurveda Medicine  ...  350\n",
              "2     MBBS, MS - Otorhinolaryngology  ...  300\n",
              "3                BSc - Zoology, BAMS  ...  250\n",
              "4                               BAMS  ...  250\n",
              "...                              ...  ...  ...\n",
              "5956                  MBBS, MS - ENT  ...  300\n",
              "5957                            MBBS  ...  100\n",
              "5958                            MBBS  ...  600\n",
              "5959     MBBS, MD - General Medicine  ...  100\n",
              "5960         BDS, MDS - Orthodontics  ...  200\n",
              "\n",
              "[5961 rows x 7 columns]"
            ]
          },
          "metadata": {
            "tags": []
          },
          "execution_count": 215
        }
      ]
    },
    {
      "cell_type": "code",
      "metadata": {
        "colab": {
          "base_uri": "https://localhost:8080/"
        },
        "id": "tZvEqW0JEqwO",
        "outputId": "39498f24-61c6-4e36-fda4-d4f745fb88b0"
      },
      "source": [
        "df.shape"
      ],
      "execution_count": 216,
      "outputs": [
        {
          "output_type": "execute_result",
          "data": {
            "text/plain": [
              "(5961, 7)"
            ]
          },
          "metadata": {
            "tags": []
          },
          "execution_count": 216
        }
      ]
    },
    {
      "cell_type": "markdown",
      "metadata": {
        "id": "WSeKQ1xlG2rj"
      },
      "source": [
        "There are 5961 rows and 7 columns."
      ]
    },
    {
      "cell_type": "code",
      "metadata": {
        "colab": {
          "base_uri": "https://localhost:8080/",
          "height": 200
        },
        "id": "gEQx4Hv4EwPm",
        "outputId": "4e7a1eb6-b3e2-4d22-aa43-cbe7033965c7"
      },
      "source": [
        "df.head()"
      ],
      "execution_count": 217,
      "outputs": [
        {
          "output_type": "execute_result",
          "data": {
            "text/html": [
              "<div>\n",
              "<style scoped>\n",
              "    .dataframe tbody tr th:only-of-type {\n",
              "        vertical-align: middle;\n",
              "    }\n",
              "\n",
              "    .dataframe tbody tr th {\n",
              "        vertical-align: top;\n",
              "    }\n",
              "\n",
              "    .dataframe thead th {\n",
              "        text-align: right;\n",
              "    }\n",
              "</style>\n",
              "<table border=\"1\" class=\"dataframe\">\n",
              "  <thead>\n",
              "    <tr style=\"text-align: right;\">\n",
              "      <th></th>\n",
              "      <th>Qualification</th>\n",
              "      <th>Experience</th>\n",
              "      <th>Rating</th>\n",
              "      <th>Place</th>\n",
              "      <th>Profile</th>\n",
              "      <th>Miscellaneous_Info</th>\n",
              "      <th>Fees</th>\n",
              "    </tr>\n",
              "  </thead>\n",
              "  <tbody>\n",
              "    <tr>\n",
              "      <th>0</th>\n",
              "      <td>BHMS, MD - Homeopathy</td>\n",
              "      <td>24 years experience</td>\n",
              "      <td>100%</td>\n",
              "      <td>Kakkanad, Ernakulam</td>\n",
              "      <td>Homeopath</td>\n",
              "      <td>100% 16 Feedback Kakkanad, Ernakulam</td>\n",
              "      <td>100</td>\n",
              "    </tr>\n",
              "    <tr>\n",
              "      <th>1</th>\n",
              "      <td>BAMS, MD - Ayurveda Medicine</td>\n",
              "      <td>12 years experience</td>\n",
              "      <td>98%</td>\n",
              "      <td>Whitefield, Bangalore</td>\n",
              "      <td>Ayurveda</td>\n",
              "      <td>98% 76 Feedback Whitefield, Bangalore</td>\n",
              "      <td>350</td>\n",
              "    </tr>\n",
              "    <tr>\n",
              "      <th>2</th>\n",
              "      <td>MBBS, MS - Otorhinolaryngology</td>\n",
              "      <td>9 years experience</td>\n",
              "      <td>NaN</td>\n",
              "      <td>Mathikere - BEL, Bangalore</td>\n",
              "      <td>ENT Specialist</td>\n",
              "      <td>NaN</td>\n",
              "      <td>300</td>\n",
              "    </tr>\n",
              "    <tr>\n",
              "      <th>3</th>\n",
              "      <td>BSc - Zoology, BAMS</td>\n",
              "      <td>12 years experience</td>\n",
              "      <td>NaN</td>\n",
              "      <td>Bannerghatta Road, Bangalore</td>\n",
              "      <td>Ayurveda</td>\n",
              "      <td>Bannerghatta Road, Bangalore ₹250 Available on...</td>\n",
              "      <td>250</td>\n",
              "    </tr>\n",
              "    <tr>\n",
              "      <th>4</th>\n",
              "      <td>BAMS</td>\n",
              "      <td>20 years experience</td>\n",
              "      <td>100%</td>\n",
              "      <td>Keelkattalai, Chennai</td>\n",
              "      <td>Ayurveda</td>\n",
              "      <td>100% 4 Feedback Keelkattalai, Chennai</td>\n",
              "      <td>250</td>\n",
              "    </tr>\n",
              "  </tbody>\n",
              "</table>\n",
              "</div>"
            ],
            "text/plain": [
              "                    Qualification  ... Fees\n",
              "0           BHMS, MD - Homeopathy  ...  100\n",
              "1    BAMS, MD - Ayurveda Medicine  ...  350\n",
              "2  MBBS, MS - Otorhinolaryngology  ...  300\n",
              "3             BSc - Zoology, BAMS  ...  250\n",
              "4                            BAMS  ...  250\n",
              "\n",
              "[5 rows x 7 columns]"
            ]
          },
          "metadata": {
            "tags": []
          },
          "execution_count": 217
        }
      ]
    },
    {
      "cell_type": "markdown",
      "metadata": {
        "id": "KcMuT6vxG7_v"
      },
      "source": [
        "The first 5 rows of Dataset."
      ]
    },
    {
      "cell_type": "code",
      "metadata": {
        "colab": {
          "base_uri": "https://localhost:8080/"
        },
        "id": "P_aY7TfWE4v9",
        "outputId": "77998f49-849b-42c3-9e3a-980ce0e492aa"
      },
      "source": [
        "df.info()"
      ],
      "execution_count": 218,
      "outputs": [
        {
          "output_type": "stream",
          "text": [
            "<class 'pandas.core.frame.DataFrame'>\n",
            "RangeIndex: 5961 entries, 0 to 5960\n",
            "Data columns (total 7 columns):\n",
            " #   Column              Non-Null Count  Dtype \n",
            "---  ------              --------------  ----- \n",
            " 0   Qualification       5961 non-null   object\n",
            " 1   Experience          5961 non-null   object\n",
            " 2   Rating              2659 non-null   object\n",
            " 3   Place               5936 non-null   object\n",
            " 4   Profile             5961 non-null   object\n",
            " 5   Miscellaneous_Info  3341 non-null   object\n",
            " 6   Fees                5961 non-null   int64 \n",
            "dtypes: int64(1), object(6)\n",
            "memory usage: 326.1+ KB\n"
          ],
          "name": "stdout"
        }
      ]
    },
    {
      "cell_type": "markdown",
      "metadata": {
        "id": "sVnUVddHHHaU"
      },
      "source": [
        "## Satistical information"
      ]
    },
    {
      "cell_type": "code",
      "metadata": {
        "colab": {
          "base_uri": "https://localhost:8080/",
          "height": 290
        },
        "id": "iYKL9HVdGEH3",
        "outputId": "02f54070-8eda-44c9-b795-66a4f49fe0e0"
      },
      "source": [
        "df.describe()"
      ],
      "execution_count": 219,
      "outputs": [
        {
          "output_type": "execute_result",
          "data": {
            "text/html": [
              "<div>\n",
              "<style scoped>\n",
              "    .dataframe tbody tr th:only-of-type {\n",
              "        vertical-align: middle;\n",
              "    }\n",
              "\n",
              "    .dataframe tbody tr th {\n",
              "        vertical-align: top;\n",
              "    }\n",
              "\n",
              "    .dataframe thead th {\n",
              "        text-align: right;\n",
              "    }\n",
              "</style>\n",
              "<table border=\"1\" class=\"dataframe\">\n",
              "  <thead>\n",
              "    <tr style=\"text-align: right;\">\n",
              "      <th></th>\n",
              "      <th>Fees</th>\n",
              "    </tr>\n",
              "  </thead>\n",
              "  <tbody>\n",
              "    <tr>\n",
              "      <th>count</th>\n",
              "      <td>5961.000000</td>\n",
              "    </tr>\n",
              "    <tr>\n",
              "      <th>mean</th>\n",
              "      <td>307.944640</td>\n",
              "    </tr>\n",
              "    <tr>\n",
              "      <th>std</th>\n",
              "      <td>190.920373</td>\n",
              "    </tr>\n",
              "    <tr>\n",
              "      <th>min</th>\n",
              "      <td>5.000000</td>\n",
              "    </tr>\n",
              "    <tr>\n",
              "      <th>25%</th>\n",
              "      <td>150.000000</td>\n",
              "    </tr>\n",
              "    <tr>\n",
              "      <th>50%</th>\n",
              "      <td>300.000000</td>\n",
              "    </tr>\n",
              "    <tr>\n",
              "      <th>75%</th>\n",
              "      <td>500.000000</td>\n",
              "    </tr>\n",
              "    <tr>\n",
              "      <th>max</th>\n",
              "      <td>950.000000</td>\n",
              "    </tr>\n",
              "  </tbody>\n",
              "</table>\n",
              "</div>"
            ],
            "text/plain": [
              "              Fees\n",
              "count  5961.000000\n",
              "mean    307.944640\n",
              "std     190.920373\n",
              "min       5.000000\n",
              "25%     150.000000\n",
              "50%     300.000000\n",
              "75%     500.000000\n",
              "max     950.000000"
            ]
          },
          "metadata": {
            "tags": []
          },
          "execution_count": 219
        }
      ]
    },
    {
      "cell_type": "markdown",
      "metadata": {
        "id": "WvdtDsBDHSm2"
      },
      "source": [
        "\n",
        "Observations :-\n",
        "\n",
        "1) Mean is greater than median for fees column.\n",
        "\n",
        "2) There is difference between standard deviation and 75 % for fees column."
      ]
    },
    {
      "cell_type": "markdown",
      "metadata": {
        "id": "YAKtTx28HZ0d"
      },
      "source": [
        "## Exploring Target Variable"
      ]
    },
    {
      "cell_type": "code",
      "metadata": {
        "colab": {
          "base_uri": "https://localhost:8080/"
        },
        "id": "g9X4PD0PHN-D",
        "outputId": "7917956e-6683-469a-bf99-2d59f65bf973"
      },
      "source": [
        "df['Fees'].value_counts()"
      ],
      "execution_count": 220,
      "outputs": [
        {
          "output_type": "execute_result",
          "data": {
            "text/plain": [
              "100    1306\n",
              "500     938\n",
              "200     904\n",
              "300     864\n",
              "400     424\n",
              "250     307\n",
              "150     253\n",
              "600     215\n",
              "700     153\n",
              "800     143\n",
              "350     143\n",
              "50       81\n",
              "450      65\n",
              "750      34\n",
              "550      22\n",
              "650      21\n",
              "900      18\n",
              "70       18\n",
              "80       12\n",
              "60       11\n",
              "30        4\n",
              "10        2\n",
              "260       2\n",
              "130       2\n",
              "180       2\n",
              "40        2\n",
              "380       2\n",
              "220       1\n",
              "280       1\n",
              "499       1\n",
              "5         1\n",
              "920       1\n",
              "299       1\n",
              "125       1\n",
              "230       1\n",
              "430       1\n",
              "630       1\n",
              "850       1\n",
              "950       1\n",
              "20        1\n",
              "Name: Fees, dtype: int64"
            ]
          },
          "metadata": {
            "tags": []
          },
          "execution_count": 220
        }
      ]
    },
    {
      "cell_type": "markdown",
      "metadata": {
        "id": "7WBdQUMHHipu"
      },
      "source": [
        " As we have continuos values in sales column, so, this is a regression problem."
      ]
    },
    {
      "cell_type": "code",
      "metadata": {
        "colab": {
          "base_uri": "https://localhost:8080/",
          "height": 730
        },
        "id": "pG3jyiQNHdHE",
        "outputId": "6367afcf-9a10-43ab-cc0e-645722c113cb"
      },
      "source": [
        "plt.figure(figsize=(18,12))\n",
        "sns.countplot(df['Fees'])"
      ],
      "execution_count": 221,
      "outputs": [
        {
          "output_type": "execute_result",
          "data": {
            "text/plain": [
              "<matplotlib.axes._subplots.AxesSubplot at 0x7fe20326b6d0>"
            ]
          },
          "metadata": {
            "tags": []
          },
          "execution_count": 221
        },
        {
          "output_type": "display_data",
          "data": {
            "image/png": "[encoded data removed]",
            "text/plain": [
              "<Figure size 1296x864 with 1 Axes>"
            ]
          },
          "metadata": {
            "tags": [],
            "needs_background": "light"
          }
        }
      ]
    },
    {
      "cell_type": "markdown",
      "metadata": {
        "id": "eVofo69QHxHA"
      },
      "source": [
        "\n",
        "**Observations :-**\n",
        "\n",
        "1) More than 1200 doctors are taking 100 as their fees.\n",
        "\n",
        "2) Few doctors are taking less than 60 as their fees.\n",
        "\n",
        "3) 5 is the least fees taken by a doctor.\n",
        "\n",
        "4) Mostly doctors are taking more than and equal to 350 as their fees."
      ]
    },
    {
      "cell_type": "markdown",
      "metadata": {
        "id": "831ZoGc_H8wo"
      },
      "source": [
        "\n",
        "## Data Visualizations"
      ]
    },
    {
      "cell_type": "markdown",
      "metadata": {
        "id": "8ONMkW_KII8E"
      },
      "source": [
        "To check missing values"
      ]
    },
    {
      "cell_type": "code",
      "metadata": {
        "colab": {
          "base_uri": "https://localhost:8080/",
          "height": 370
        },
        "id": "EHIMpDwVH6DK",
        "outputId": "392576c0-1e6f-4379-b33b-180963308439"
      },
      "source": [
        "sns.heatmap(df.isnull())"
      ],
      "execution_count": 222,
      "outputs": [
        {
          "output_type": "execute_result",
          "data": {
            "text/plain": [
              "<matplotlib.axes._subplots.AxesSubplot at 0x7fe2031b4e10>"
            ]
          },
          "metadata": {
            "tags": []
          },
          "execution_count": 222
        },
        {
          "output_type": "display_data",
          "data": {
            "image/png": "[encoded data removed]",
            "text/plain": [
              "<Figure size 432x288 with 2 Axes>"
            ]
          },
          "metadata": {
            "tags": [],
            "needs_background": "light"
          }
        }
      ]
    },
    {
      "cell_type": "markdown",
      "metadata": {
        "id": "NYv6bLOBIB8G"
      },
      "source": [
        "\n",
        "Observations :-\n",
        "\n",
        "Ratings and Miscellaneous_Info columns have null values."
      ]
    },
    {
      "cell_type": "code",
      "metadata": {
        "colab": {
          "base_uri": "https://localhost:8080/",
          "height": 35
        },
        "id": "BFUW279mIG0A",
        "outputId": "912c1647-7237-4d6a-c35c-22a953f8f756"
      },
      "source": [
        "df['Rating'].mode()[0]"
      ],
      "execution_count": 223,
      "outputs": [
        {
          "output_type": "execute_result",
          "data": {
            "application/vnd.google.colaboratory.intrinsic+json": {
              "type": "string"
            },
            "text/plain": [
              "'100%'"
            ]
          },
          "metadata": {
            "tags": []
          },
          "execution_count": 223
        }
      ]
    },
    {
      "cell_type": "code",
      "metadata": {
        "id": "M0PUDuuHIQDl"
      },
      "source": [
        "df['Rating']=df['Rating'].fillna(df['Rating'].mode()[0])"
      ],
      "execution_count": 224,
      "outputs": []
    },
    {
      "cell_type": "code",
      "metadata": {
        "colab": {
          "base_uri": "https://localhost:8080/"
        },
        "id": "8nfNH_f5ITJ1",
        "outputId": "185e079f-a191-4824-a16f-366cf2ebbf69"
      },
      "source": [
        "df['Rating'].isnull().sum()"
      ],
      "execution_count": 225,
      "outputs": [
        {
          "output_type": "execute_result",
          "data": {
            "text/plain": [
              "0"
            ]
          },
          "metadata": {
            "tags": []
          },
          "execution_count": 225
        }
      ]
    },
    {
      "cell_type": "code",
      "metadata": {
        "colab": {
          "base_uri": "https://localhost:8080/"
        },
        "id": "OBM2PkEDIWAu",
        "outputId": "7eaaa69e-5a5c-49f8-d3aa-83f0c43b3c01"
      },
      "source": [
        "df['Miscellaneous_Info'].isnull().sum()"
      ],
      "execution_count": 226,
      "outputs": [
        {
          "output_type": "execute_result",
          "data": {
            "text/plain": [
              "2620"
            ]
          },
          "metadata": {
            "tags": []
          },
          "execution_count": 226
        }
      ]
    },
    {
      "cell_type": "code",
      "metadata": {
        "colab": {
          "base_uri": "https://localhost:8080/"
        },
        "id": "WiEht4qDIYob",
        "outputId": "8434db02-d27e-46f5-97f0-5eb03977ea0d"
      },
      "source": [
        "((5961-2620)/5961)*100"
      ],
      "execution_count": 227,
      "outputs": [
        {
          "output_type": "execute_result",
          "data": {
            "text/plain": [
              "56.04764301291729"
            ]
          },
          "metadata": {
            "tags": []
          },
          "execution_count": 227
        }
      ]
    },
    {
      "cell_type": "markdown",
      "metadata": {
        "id": "Yof2fXc9Ifh5"
      },
      "source": [
        " 1) 56% null vales are present in 'Miscellaneous_Info' column.\n",
        "\n",
        " 2) 'Miscellaneous_Info' column is not so relevant for prediction of fees."
      ]
    },
    {
      "cell_type": "markdown",
      "metadata": {
        "id": "q1erSVOOInrh"
      },
      "source": [
        "We will drop 'Miscellaneous_Info' column from dataset"
      ]
    },
    {
      "cell_type": "code",
      "metadata": {
        "id": "glZBlv9MIbXq"
      },
      "source": [
        "df.drop('Miscellaneous_Info',axis=1,inplace=True)\n"
      ],
      "execution_count": 228,
      "outputs": []
    },
    {
      "cell_type": "code",
      "metadata": {
        "colab": {
          "base_uri": "https://localhost:8080/",
          "height": 35
        },
        "id": "gBiCOgg2IspL",
        "outputId": "c7eae560-8399-417a-9bf2-01fdf424536c"
      },
      "source": [
        "df['Place'].mode()[0]"
      ],
      "execution_count": 229,
      "outputs": [
        {
          "output_type": "execute_result",
          "data": {
            "application/vnd.google.colaboratory.intrinsic+json": {
              "type": "string"
            },
            "text/plain": [
              "'HSR Layout, Bangalore'"
            ]
          },
          "metadata": {
            "tags": []
          },
          "execution_count": 229
        }
      ]
    },
    {
      "cell_type": "code",
      "metadata": {
        "id": "i5-szkm-Iuxc"
      },
      "source": [
        "df['Place']=df['Place'].fillna(df['Place'].mode()[0])"
      ],
      "execution_count": 230,
      "outputs": []
    },
    {
      "cell_type": "markdown",
      "metadata": {
        "id": "6ldoGAfMI3TX"
      },
      "source": [
        "\n",
        "## Feature Engineering"
      ]
    },
    {
      "cell_type": "code",
      "metadata": {
        "colab": {
          "base_uri": "https://localhost:8080/"
        },
        "id": "X-JEjT5yIzUC",
        "outputId": "da481ba4-5bbd-47af-8992-3b35d2fc3c08"
      },
      "source": [
        "# Experience\n",
        "df['Experience'] = df['Experience'].str.split().str[0]\n",
        "df['Experience']"
      ],
      "execution_count": 231,
      "outputs": [
        {
          "output_type": "execute_result",
          "data": {
            "text/plain": [
              "0       24\n",
              "1       12\n",
              "2        9\n",
              "3       12\n",
              "4       20\n",
              "        ..\n",
              "5956    19\n",
              "5957    33\n",
              "5958    41\n",
              "5959    15\n",
              "5960    17\n",
              "Name: Experience, Length: 5961, dtype: object"
            ]
          },
          "metadata": {
            "tags": []
          },
          "execution_count": 231
        }
      ]
    },
    {
      "cell_type": "code",
      "metadata": {
        "id": "7J_oPV5_I7RN"
      },
      "source": [
        "df['Experience'] = df['Experience'].astype(int)"
      ],
      "execution_count": 232,
      "outputs": []
    },
    {
      "cell_type": "code",
      "metadata": {
        "colab": {
          "base_uri": "https://localhost:8080/",
          "height": 108
        },
        "id": "9xPE28E-I-Lu",
        "outputId": "39c667a8-687b-471d-b52d-aa43d37cc7e1"
      },
      "source": [
        "df.head(2)"
      ],
      "execution_count": 233,
      "outputs": [
        {
          "output_type": "execute_result",
          "data": {
            "text/html": [
              "<div>\n",
              "<style scoped>\n",
              "    .dataframe tbody tr th:only-of-type {\n",
              "        vertical-align: middle;\n",
              "    }\n",
              "\n",
              "    .dataframe tbody tr th {\n",
              "        vertical-align: top;\n",
              "    }\n",
              "\n",
              "    .dataframe thead th {\n",
              "        text-align: right;\n",
              "    }\n",
              "</style>\n",
              "<table border=\"1\" class=\"dataframe\">\n",
              "  <thead>\n",
              "    <tr style=\"text-align: right;\">\n",
              "      <th></th>\n",
              "      <th>Qualification</th>\n",
              "      <th>Experience</th>\n",
              "      <th>Rating</th>\n",
              "      <th>Place</th>\n",
              "      <th>Profile</th>\n",
              "      <th>Fees</th>\n",
              "    </tr>\n",
              "  </thead>\n",
              "  <tbody>\n",
              "    <tr>\n",
              "      <th>0</th>\n",
              "      <td>BHMS, MD - Homeopathy</td>\n",
              "      <td>24</td>\n",
              "      <td>100%</td>\n",
              "      <td>Kakkanad, Ernakulam</td>\n",
              "      <td>Homeopath</td>\n",
              "      <td>100</td>\n",
              "    </tr>\n",
              "    <tr>\n",
              "      <th>1</th>\n",
              "      <td>BAMS, MD - Ayurveda Medicine</td>\n",
              "      <td>12</td>\n",
              "      <td>98%</td>\n",
              "      <td>Whitefield, Bangalore</td>\n",
              "      <td>Ayurveda</td>\n",
              "      <td>350</td>\n",
              "    </tr>\n",
              "  </tbody>\n",
              "</table>\n",
              "</div>"
            ],
            "text/plain": [
              "                  Qualification  Experience  ...    Profile Fees\n",
              "0         BHMS, MD - Homeopathy          24  ...  Homeopath  100\n",
              "1  BAMS, MD - Ayurveda Medicine          12  ...   Ayurveda  350\n",
              "\n",
              "[2 rows x 6 columns]"
            ]
          },
          "metadata": {
            "tags": []
          },
          "execution_count": 233
        }
      ]
    },
    {
      "cell_type": "code",
      "metadata": {
        "id": "Nnp4b5HSJSkO"
      },
      "source": [
        "df['locality'] = df['Place'].str.split(\",\").str[0]\n",
        "df['city'] = df['Place'].str.split(\",\").str[1]\n",
        "\n",
        "#Now we can drop the place variable\n",
        "df.drop('Place',axis=1,inplace=True)"
      ],
      "execution_count": 234,
      "outputs": []
    },
    {
      "cell_type": "code",
      "metadata": {
        "colab": {
          "base_uri": "https://localhost:8080/",
          "height": 200
        },
        "id": "UK5ZfF33JdrG",
        "outputId": "33f9c171-b857-4934-842e-561a31dd8e67"
      },
      "source": [
        "df.head()"
      ],
      "execution_count": 235,
      "outputs": [
        {
          "output_type": "execute_result",
          "data": {
            "text/html": [
              "<div>\n",
              "<style scoped>\n",
              "    .dataframe tbody tr th:only-of-type {\n",
              "        vertical-align: middle;\n",
              "    }\n",
              "\n",
              "    .dataframe tbody tr th {\n",
              "        vertical-align: top;\n",
              "    }\n",
              "\n",
              "    .dataframe thead th {\n",
              "        text-align: right;\n",
              "    }\n",
              "</style>\n",
              "<table border=\"1\" class=\"dataframe\">\n",
              "  <thead>\n",
              "    <tr style=\"text-align: right;\">\n",
              "      <th></th>\n",
              "      <th>Qualification</th>\n",
              "      <th>Experience</th>\n",
              "      <th>Rating</th>\n",
              "      <th>Profile</th>\n",
              "      <th>Fees</th>\n",
              "      <th>locality</th>\n",
              "      <th>city</th>\n",
              "    </tr>\n",
              "  </thead>\n",
              "  <tbody>\n",
              "    <tr>\n",
              "      <th>0</th>\n",
              "      <td>BHMS, MD - Homeopathy</td>\n",
              "      <td>24</td>\n",
              "      <td>100%</td>\n",
              "      <td>Homeopath</td>\n",
              "      <td>100</td>\n",
              "      <td>Kakkanad</td>\n",
              "      <td>Ernakulam</td>\n",
              "    </tr>\n",
              "    <tr>\n",
              "      <th>1</th>\n",
              "      <td>BAMS, MD - Ayurveda Medicine</td>\n",
              "      <td>12</td>\n",
              "      <td>98%</td>\n",
              "      <td>Ayurveda</td>\n",
              "      <td>350</td>\n",
              "      <td>Whitefield</td>\n",
              "      <td>Bangalore</td>\n",
              "    </tr>\n",
              "    <tr>\n",
              "      <th>2</th>\n",
              "      <td>MBBS, MS - Otorhinolaryngology</td>\n",
              "      <td>9</td>\n",
              "      <td>100%</td>\n",
              "      <td>ENT Specialist</td>\n",
              "      <td>300</td>\n",
              "      <td>Mathikere - BEL</td>\n",
              "      <td>Bangalore</td>\n",
              "    </tr>\n",
              "    <tr>\n",
              "      <th>3</th>\n",
              "      <td>BSc - Zoology, BAMS</td>\n",
              "      <td>12</td>\n",
              "      <td>100%</td>\n",
              "      <td>Ayurveda</td>\n",
              "      <td>250</td>\n",
              "      <td>Bannerghatta Road</td>\n",
              "      <td>Bangalore</td>\n",
              "    </tr>\n",
              "    <tr>\n",
              "      <th>4</th>\n",
              "      <td>BAMS</td>\n",
              "      <td>20</td>\n",
              "      <td>100%</td>\n",
              "      <td>Ayurveda</td>\n",
              "      <td>250</td>\n",
              "      <td>Keelkattalai</td>\n",
              "      <td>Chennai</td>\n",
              "    </tr>\n",
              "  </tbody>\n",
              "</table>\n",
              "</div>"
            ],
            "text/plain": [
              "                    Qualification  Experience  ...           locality        city\n",
              "0           BHMS, MD - Homeopathy          24  ...           Kakkanad   Ernakulam\n",
              "1    BAMS, MD - Ayurveda Medicine          12  ...         Whitefield   Bangalore\n",
              "2  MBBS, MS - Otorhinolaryngology           9  ...    Mathikere - BEL   Bangalore\n",
              "3             BSc - Zoology, BAMS          12  ...  Bannerghatta Road   Bangalore\n",
              "4                            BAMS          20  ...       Keelkattalai     Chennai\n",
              "\n",
              "[5 rows x 7 columns]"
            ]
          },
          "metadata": {
            "tags": []
          },
          "execution_count": 235
        }
      ]
    },
    {
      "cell_type": "code",
      "metadata": {
        "colab": {
          "base_uri": "https://localhost:8080/"
        },
        "id": "gJSUh5X6JgQb",
        "outputId": "666201f9-aff4-478f-bed7-73183a709fa4"
      },
      "source": [
        "df['Rating'].value_counts()"
      ],
      "execution_count": 236,
      "outputs": [
        {
          "output_type": "execute_result",
          "data": {
            "text/plain": [
              "100%    3986\n",
              "98%      290\n",
              "99%      259\n",
              "97%      241\n",
              "96%      220\n",
              "95%      178\n",
              "94%      115\n",
              "93%      109\n",
              "92%       66\n",
              "90%       66\n",
              "91%       60\n",
              "89%       42\n",
              "88%       41\n",
              "85%       27\n",
              "82%       23\n",
              "86%       21\n",
              "83%       21\n",
              "80%       19\n",
              "77%       16\n",
              "87%       14\n",
              "79%       13\n",
              "84%       13\n",
              "67%       12\n",
              "81%       12\n",
              "71%        9\n",
              "76%        9\n",
              "75%        8\n",
              "73%        8\n",
              "60%        7\n",
              "74%        7\n",
              "78%        6\n",
              "56%        5\n",
              "68%        5\n",
              "69%        4\n",
              "70%        4\n",
              "57%        3\n",
              "72%        3\n",
              "33%        2\n",
              "55%        2\n",
              "62%        2\n",
              "63%        2\n",
              "64%        2\n",
              "7%         1\n",
              "47%        1\n",
              "45%        1\n",
              "65%        1\n",
              "40%        1\n",
              "53%        1\n",
              "36%        1\n",
              "58%        1\n",
              "48%        1\n",
              "Name: Rating, dtype: int64"
            ]
          },
          "metadata": {
            "tags": []
          },
          "execution_count": 236
        }
      ]
    },
    {
      "cell_type": "code",
      "metadata": {
        "id": "kY9uaJMFJnGT"
      },
      "source": [
        "df['Rating'] = df['Rating'].str.slice(stop=-1).astype(int)"
      ],
      "execution_count": 237,
      "outputs": []
    },
    {
      "cell_type": "markdown",
      "metadata": {
        "id": "ZEldM9UXJumc"
      },
      "source": [
        "\n",
        "extract value of rating to avoid '%' and convert to numeric"
      ]
    },
    {
      "cell_type": "code",
      "metadata": {
        "colab": {
          "base_uri": "https://localhost:8080/"
        },
        "id": "9wBgckasJrKc",
        "outputId": "1a5f86f2-2b48-4282-95b0-5160353b4068"
      },
      "source": [
        "df['Rating'].value_counts()"
      ],
      "execution_count": 238,
      "outputs": [
        {
          "output_type": "execute_result",
          "data": {
            "text/plain": [
              "100    3986\n",
              "98      290\n",
              "99      259\n",
              "97      241\n",
              "96      220\n",
              "95      178\n",
              "94      115\n",
              "93      109\n",
              "92       66\n",
              "90       66\n",
              "91       60\n",
              "89       42\n",
              "88       41\n",
              "85       27\n",
              "82       23\n",
              "83       21\n",
              "86       21\n",
              "80       19\n",
              "77       16\n",
              "87       14\n",
              "84       13\n",
              "79       13\n",
              "67       12\n",
              "81       12\n",
              "71        9\n",
              "76        9\n",
              "75        8\n",
              "73        8\n",
              "74        7\n",
              "60        7\n",
              "78        6\n",
              "56        5\n",
              "68        5\n",
              "69        4\n",
              "70        4\n",
              "57        3\n",
              "72        3\n",
              "33        2\n",
              "64        2\n",
              "62        2\n",
              "63        2\n",
              "55        2\n",
              "48        1\n",
              "40        1\n",
              "7         1\n",
              "65        1\n",
              "45        1\n",
              "53        1\n",
              "47        1\n",
              "58        1\n",
              "36        1\n",
              "Name: Rating, dtype: int64"
            ]
          },
          "metadata": {
            "tags": []
          },
          "execution_count": 238
        }
      ]
    },
    {
      "cell_type": "code",
      "metadata": {
        "colab": {
          "base_uri": "https://localhost:8080/",
          "height": 200
        },
        "id": "24HG3uqFJy9M",
        "outputId": "5913c187-2540-431f-ff14-e2c0179d9068"
      },
      "source": [
        "df.head()"
      ],
      "execution_count": 239,
      "outputs": [
        {
          "output_type": "execute_result",
          "data": {
            "text/html": [
              "<div>\n",
              "<style scoped>\n",
              "    .dataframe tbody tr th:only-of-type {\n",
              "        vertical-align: middle;\n",
              "    }\n",
              "\n",
              "    .dataframe tbody tr th {\n",
              "        vertical-align: top;\n",
              "    }\n",
              "\n",
              "    .dataframe thead th {\n",
              "        text-align: right;\n",
              "    }\n",
              "</style>\n",
              "<table border=\"1\" class=\"dataframe\">\n",
              "  <thead>\n",
              "    <tr style=\"text-align: right;\">\n",
              "      <th></th>\n",
              "      <th>Qualification</th>\n",
              "      <th>Experience</th>\n",
              "      <th>Rating</th>\n",
              "      <th>Profile</th>\n",
              "      <th>Fees</th>\n",
              "      <th>locality</th>\n",
              "      <th>city</th>\n",
              "    </tr>\n",
              "  </thead>\n",
              "  <tbody>\n",
              "    <tr>\n",
              "      <th>0</th>\n",
              "      <td>BHMS, MD - Homeopathy</td>\n",
              "      <td>24</td>\n",
              "      <td>100</td>\n",
              "      <td>Homeopath</td>\n",
              "      <td>100</td>\n",
              "      <td>Kakkanad</td>\n",
              "      <td>Ernakulam</td>\n",
              "    </tr>\n",
              "    <tr>\n",
              "      <th>1</th>\n",
              "      <td>BAMS, MD - Ayurveda Medicine</td>\n",
              "      <td>12</td>\n",
              "      <td>98</td>\n",
              "      <td>Ayurveda</td>\n",
              "      <td>350</td>\n",
              "      <td>Whitefield</td>\n",
              "      <td>Bangalore</td>\n",
              "    </tr>\n",
              "    <tr>\n",
              "      <th>2</th>\n",
              "      <td>MBBS, MS - Otorhinolaryngology</td>\n",
              "      <td>9</td>\n",
              "      <td>100</td>\n",
              "      <td>ENT Specialist</td>\n",
              "      <td>300</td>\n",
              "      <td>Mathikere - BEL</td>\n",
              "      <td>Bangalore</td>\n",
              "    </tr>\n",
              "    <tr>\n",
              "      <th>3</th>\n",
              "      <td>BSc - Zoology, BAMS</td>\n",
              "      <td>12</td>\n",
              "      <td>100</td>\n",
              "      <td>Ayurveda</td>\n",
              "      <td>250</td>\n",
              "      <td>Bannerghatta Road</td>\n",
              "      <td>Bangalore</td>\n",
              "    </tr>\n",
              "    <tr>\n",
              "      <th>4</th>\n",
              "      <td>BAMS</td>\n",
              "      <td>20</td>\n",
              "      <td>100</td>\n",
              "      <td>Ayurveda</td>\n",
              "      <td>250</td>\n",
              "      <td>Keelkattalai</td>\n",
              "      <td>Chennai</td>\n",
              "    </tr>\n",
              "  </tbody>\n",
              "</table>\n",
              "</div>"
            ],
            "text/plain": [
              "                    Qualification  Experience  ...           locality        city\n",
              "0           BHMS, MD - Homeopathy          24  ...           Kakkanad   Ernakulam\n",
              "1    BAMS, MD - Ayurveda Medicine          12  ...         Whitefield   Bangalore\n",
              "2  MBBS, MS - Otorhinolaryngology           9  ...    Mathikere - BEL   Bangalore\n",
              "3             BSc - Zoology, BAMS          12  ...  Bannerghatta Road   Bangalore\n",
              "4                            BAMS          20  ...       Keelkattalai     Chennai\n",
              "\n",
              "[5 rows x 7 columns]"
            ]
          },
          "metadata": {
            "tags": []
          },
          "execution_count": 239
        }
      ]
    },
    {
      "cell_type": "code",
      "metadata": {
        "colab": {
          "base_uri": "https://localhost:8080/"
        },
        "id": "BVaiXiKiJ32v",
        "outputId": "ed3df029-7bcf-4695-89ac-db0ab3228cfb"
      },
      "source": [
        "print(\"0-9% \",len((df[(df['Rating']>0) & (df['Rating']<10)])))\n",
        "print(\"10-19% \",len(df[(df['Rating']>=10) & (df['Rating']<20)]))\n",
        "print(\"20-29% \",len(df[(df['Rating']>=20) & (df['Rating']<30)]))\n",
        "print(\"30-39% \",len(df[(df['Rating']>=30) & (df['Rating']<40)]))\n",
        "print(\"40-49% \",len(df[(df['Rating']>=40) & (df['Rating']<50)]))\n",
        "print(\"50-59% \",len(df[(df['Rating']>=50) & (df['Rating']<60)]))\n",
        "print(\"60-69% \",len(df[(df['Rating']>=60) & (df['Rating']<70)]))\n",
        "print(\"70-79% \",len(df[(df['Rating']>=70) & (df['Rating']<80)]))\n",
        "print(\"80-89% \",len(df[(df['Rating']>=80) & (df['Rating']<90)]))\n",
        "print(\"90-99% \",len(df[(df['Rating']>=90) & (df['Rating']<100)]))\n",
        "print(\"100-109% \",len(df[(df['Rating']>=100) & (df['Rating']<110)]))"
      ],
      "execution_count": 240,
      "outputs": [
        {
          "output_type": "stream",
          "text": [
            "0-9%  1\n",
            "10-19%  0\n",
            "20-29%  0\n",
            "30-39%  3\n",
            "40-49%  4\n",
            "50-59%  12\n",
            "60-69%  35\n",
            "70-79%  83\n",
            "80-89%  233\n",
            "90-99%  1604\n",
            "100-109%  3986\n"
          ],
          "name": "stdout"
        }
      ]
    },
    {
      "cell_type": "code",
      "metadata": {
        "id": "ZceTXJTnJ9Fi"
      },
      "source": [
        "bins = [0,10,20,30,40,50,60,70,80,90,100]\n",
        "labels = [i for i in range(10)]\n",
        "df['Rating'] = pd.cut(df['Rating'], bins=bins, labels=labels, include_lowest=True)"
      ],
      "execution_count": 241,
      "outputs": []
    },
    {
      "cell_type": "code",
      "metadata": {
        "colab": {
          "base_uri": "https://localhost:8080/"
        },
        "id": "URJSyQlkKAF8",
        "outputId": "765333d7-fe0c-4625-8f73-7f9f5cab1b59"
      },
      "source": [
        "len(bins)"
      ],
      "execution_count": 242,
      "outputs": [
        {
          "output_type": "execute_result",
          "data": {
            "text/plain": [
              "11"
            ]
          },
          "metadata": {
            "tags": []
          },
          "execution_count": 242
        }
      ]
    },
    {
      "cell_type": "code",
      "metadata": {
        "colab": {
          "base_uri": "https://localhost:8080/"
        },
        "id": "cfQt6UVlKCdJ",
        "outputId": "923d4573-71bc-4666-929a-dee46e79fa07"
      },
      "source": [
        "len(labels)"
      ],
      "execution_count": 243,
      "outputs": [
        {
          "output_type": "execute_result",
          "data": {
            "text/plain": [
              "10"
            ]
          },
          "metadata": {
            "tags": []
          },
          "execution_count": 243
        }
      ]
    },
    {
      "cell_type": "code",
      "metadata": {
        "colab": {
          "base_uri": "https://localhost:8080/"
        },
        "id": "uUBwWFLwKFD1",
        "outputId": "1f4e131c-64d6-42fd-bc90-87205ac13b75"
      },
      "source": [
        "df['Rating'].value_counts().sort_index()"
      ],
      "execution_count": 244,
      "outputs": [
        {
          "output_type": "execute_result",
          "data": {
            "text/plain": [
              "0       1\n",
              "1       0\n",
              "2       0\n",
              "3       4\n",
              "4       3\n",
              "5      19\n",
              "6      32\n",
              "7      98\n",
              "8     280\n",
              "9    5524\n",
              "Name: Rating, dtype: int64"
            ]
          },
          "metadata": {
            "tags": []
          },
          "execution_count": 244
        }
      ]
    },
    {
      "cell_type": "markdown",
      "metadata": {
        "id": "qeS8BCcOKPKq"
      },
      "source": [
        " now it is exactly being grouped."
      ]
    },
    {
      "cell_type": "code",
      "metadata": {
        "colab": {
          "base_uri": "https://localhost:8080/",
          "height": 200
        },
        "id": "jfz9gQ3CKIgV",
        "outputId": "93c5dd15-d501-44a8-f93a-7dcc846140e7"
      },
      "source": [
        "df.head()"
      ],
      "execution_count": 245,
      "outputs": [
        {
          "output_type": "execute_result",
          "data": {
            "text/html": [
              "<div>\n",
              "<style scoped>\n",
              "    .dataframe tbody tr th:only-of-type {\n",
              "        vertical-align: middle;\n",
              "    }\n",
              "\n",
              "    .dataframe tbody tr th {\n",
              "        vertical-align: top;\n",
              "    }\n",
              "\n",
              "    .dataframe thead th {\n",
              "        text-align: right;\n",
              "    }\n",
              "</style>\n",
              "<table border=\"1\" class=\"dataframe\">\n",
              "  <thead>\n",
              "    <tr style=\"text-align: right;\">\n",
              "      <th></th>\n",
              "      <th>Qualification</th>\n",
              "      <th>Experience</th>\n",
              "      <th>Rating</th>\n",
              "      <th>Profile</th>\n",
              "      <th>Fees</th>\n",
              "      <th>locality</th>\n",
              "      <th>city</th>\n",
              "    </tr>\n",
              "  </thead>\n",
              "  <tbody>\n",
              "    <tr>\n",
              "      <th>0</th>\n",
              "      <td>BHMS, MD - Homeopathy</td>\n",
              "      <td>24</td>\n",
              "      <td>9</td>\n",
              "      <td>Homeopath</td>\n",
              "      <td>100</td>\n",
              "      <td>Kakkanad</td>\n",
              "      <td>Ernakulam</td>\n",
              "    </tr>\n",
              "    <tr>\n",
              "      <th>1</th>\n",
              "      <td>BAMS, MD - Ayurveda Medicine</td>\n",
              "      <td>12</td>\n",
              "      <td>9</td>\n",
              "      <td>Ayurveda</td>\n",
              "      <td>350</td>\n",
              "      <td>Whitefield</td>\n",
              "      <td>Bangalore</td>\n",
              "    </tr>\n",
              "    <tr>\n",
              "      <th>2</th>\n",
              "      <td>MBBS, MS - Otorhinolaryngology</td>\n",
              "      <td>9</td>\n",
              "      <td>9</td>\n",
              "      <td>ENT Specialist</td>\n",
              "      <td>300</td>\n",
              "      <td>Mathikere - BEL</td>\n",
              "      <td>Bangalore</td>\n",
              "    </tr>\n",
              "    <tr>\n",
              "      <th>3</th>\n",
              "      <td>BSc - Zoology, BAMS</td>\n",
              "      <td>12</td>\n",
              "      <td>9</td>\n",
              "      <td>Ayurveda</td>\n",
              "      <td>250</td>\n",
              "      <td>Bannerghatta Road</td>\n",
              "      <td>Bangalore</td>\n",
              "    </tr>\n",
              "    <tr>\n",
              "      <th>4</th>\n",
              "      <td>BAMS</td>\n",
              "      <td>20</td>\n",
              "      <td>9</td>\n",
              "      <td>Ayurveda</td>\n",
              "      <td>250</td>\n",
              "      <td>Keelkattalai</td>\n",
              "      <td>Chennai</td>\n",
              "    </tr>\n",
              "  </tbody>\n",
              "</table>\n",
              "</div>"
            ],
            "text/plain": [
              "                    Qualification  Experience  ...           locality        city\n",
              "0           BHMS, MD - Homeopathy          24  ...           Kakkanad   Ernakulam\n",
              "1    BAMS, MD - Ayurveda Medicine          12  ...         Whitefield   Bangalore\n",
              "2  MBBS, MS - Otorhinolaryngology           9  ...    Mathikere - BEL   Bangalore\n",
              "3             BSc - Zoology, BAMS          12  ...  Bannerghatta Road   Bangalore\n",
              "4                            BAMS          20  ...       Keelkattalai     Chennai\n",
              "\n",
              "[5 rows x 7 columns]"
            ]
          },
          "metadata": {
            "tags": []
          },
          "execution_count": 245
        }
      ]
    },
    {
      "cell_type": "code",
      "metadata": {
        "colab": {
          "base_uri": "https://localhost:8080/"
        },
        "id": "QNOG1ZnnKUzf",
        "outputId": "187dfe58-c6d7-44cd-9037-df336fd6895a"
      },
      "source": [
        "df['Qualification_count'] = df['Qualification'].apply(lambda x: len(x.split(\",\")))\n",
        "df['Qualification_count'].value_counts()"
      ],
      "execution_count": 246,
      "outputs": [
        {
          "output_type": "execute_result",
          "data": {
            "text/plain": [
              "2     2628\n",
              "1     1962\n",
              "3      995\n",
              "4      257\n",
              "5       84\n",
              "6       23\n",
              "7        6\n",
              "9        3\n",
              "8        2\n",
              "10       1\n",
              "Name: Qualification_count, dtype: int64"
            ]
          },
          "metadata": {
            "tags": []
          },
          "execution_count": 246
        }
      ]
    },
    {
      "cell_type": "code",
      "metadata": {
        "colab": {
          "base_uri": "https://localhost:8080/",
          "height": 200
        },
        "id": "PYoHD5x0KYAy",
        "outputId": "77bd7d0e-5d3c-4246-8e33-c46c2e01e400"
      },
      "source": [
        "df.head()"
      ],
      "execution_count": 247,
      "outputs": [
        {
          "output_type": "execute_result",
          "data": {
            "text/html": [
              "<div>\n",
              "<style scoped>\n",
              "    .dataframe tbody tr th:only-of-type {\n",
              "        vertical-align: middle;\n",
              "    }\n",
              "\n",
              "    .dataframe tbody tr th {\n",
              "        vertical-align: top;\n",
              "    }\n",
              "\n",
              "    .dataframe thead th {\n",
              "        text-align: right;\n",
              "    }\n",
              "</style>\n",
              "<table border=\"1\" class=\"dataframe\">\n",
              "  <thead>\n",
              "    <tr style=\"text-align: right;\">\n",
              "      <th></th>\n",
              "      <th>Qualification</th>\n",
              "      <th>Experience</th>\n",
              "      <th>Rating</th>\n",
              "      <th>Profile</th>\n",
              "      <th>Fees</th>\n",
              "      <th>locality</th>\n",
              "      <th>city</th>\n",
              "      <th>Qualification_count</th>\n",
              "    </tr>\n",
              "  </thead>\n",
              "  <tbody>\n",
              "    <tr>\n",
              "      <th>0</th>\n",
              "      <td>BHMS, MD - Homeopathy</td>\n",
              "      <td>24</td>\n",
              "      <td>9</td>\n",
              "      <td>Homeopath</td>\n",
              "      <td>100</td>\n",
              "      <td>Kakkanad</td>\n",
              "      <td>Ernakulam</td>\n",
              "      <td>2</td>\n",
              "    </tr>\n",
              "    <tr>\n",
              "      <th>1</th>\n",
              "      <td>BAMS, MD - Ayurveda Medicine</td>\n",
              "      <td>12</td>\n",
              "      <td>9</td>\n",
              "      <td>Ayurveda</td>\n",
              "      <td>350</td>\n",
              "      <td>Whitefield</td>\n",
              "      <td>Bangalore</td>\n",
              "      <td>2</td>\n",
              "    </tr>\n",
              "    <tr>\n",
              "      <th>2</th>\n",
              "      <td>MBBS, MS - Otorhinolaryngology</td>\n",
              "      <td>9</td>\n",
              "      <td>9</td>\n",
              "      <td>ENT Specialist</td>\n",
              "      <td>300</td>\n",
              "      <td>Mathikere - BEL</td>\n",
              "      <td>Bangalore</td>\n",
              "      <td>2</td>\n",
              "    </tr>\n",
              "    <tr>\n",
              "      <th>3</th>\n",
              "      <td>BSc - Zoology, BAMS</td>\n",
              "      <td>12</td>\n",
              "      <td>9</td>\n",
              "      <td>Ayurveda</td>\n",
              "      <td>250</td>\n",
              "      <td>Bannerghatta Road</td>\n",
              "      <td>Bangalore</td>\n",
              "      <td>2</td>\n",
              "    </tr>\n",
              "    <tr>\n",
              "      <th>4</th>\n",
              "      <td>BAMS</td>\n",
              "      <td>20</td>\n",
              "      <td>9</td>\n",
              "      <td>Ayurveda</td>\n",
              "      <td>250</td>\n",
              "      <td>Keelkattalai</td>\n",
              "      <td>Chennai</td>\n",
              "      <td>1</td>\n",
              "    </tr>\n",
              "  </tbody>\n",
              "</table>\n",
              "</div>"
            ],
            "text/plain": [
              "                    Qualification  Experience  ...        city Qualification_count\n",
              "0           BHMS, MD - Homeopathy          24  ...   Ernakulam                   2\n",
              "1    BAMS, MD - Ayurveda Medicine          12  ...   Bangalore                   2\n",
              "2  MBBS, MS - Otorhinolaryngology           9  ...   Bangalore                   2\n",
              "3             BSc - Zoology, BAMS          12  ...   Bangalore                   2\n",
              "4                            BAMS          20  ...     Chennai                   1\n",
              "\n",
              "[5 rows x 8 columns]"
            ]
          },
          "metadata": {
            "tags": []
          },
          "execution_count": 247
        }
      ]
    },
    {
      "cell_type": "code",
      "metadata": {
        "colab": {
          "base_uri": "https://localhost:8080/"
        },
        "id": "OL595hV3KamB",
        "outputId": "692ff2ff-1837-4e0a-8796-4e33ec428943"
      },
      "source": [
        "df['Qualification'].unique()"
      ],
      "execution_count": 248,
      "outputs": [
        {
          "output_type": "execute_result",
          "data": {
            "text/plain": [
              "array(['BHMS, MD - Homeopathy', 'BAMS, MD - Ayurveda Medicine',\n",
              "       'MBBS, MS - Otorhinolaryngology', ...,\n",
              "       'MD - Dermatology , Venereology & Leprosy, MBBS, Fellowship In Dermatosurgery',\n",
              "       'BDS, certification in smile designing',\n",
              "       'MD - Homeopathy, Post Graduate Diploma in Healthcare Management(PGDHM), DHMS (Diploma in Homeopathic Medicine and Surgery)'],\n",
              "      dtype=object)"
            ]
          },
          "metadata": {
            "tags": []
          },
          "execution_count": 248
        }
      ]
    },
    {
      "cell_type": "code",
      "metadata": {
        "id": "h_Q7tTRTKdTo"
      },
      "source": [
        "# Extract relevant qualification\n",
        "# DICT of qualification with there counts\n",
        "df[\"Qualification\"]=df[\"Qualification\"].str.split(\",\")\n",
        "Qualification ={}\n",
        "for x in df[\"Qualification\"].values:\n",
        "    for each in x:\n",
        "        each = each.strip()\n",
        "        if each in Qualification:\n",
        "            Qualification[each]+=1\n",
        "        else:\n",
        "            Qualification[each]=1\n",
        "            \n",
        "#print(Qualification)"
      ],
      "execution_count": 249,
      "outputs": []
    },
    {
      "cell_type": "code",
      "metadata": {
        "colab": {
          "base_uri": "https://localhost:8080/"
        },
        "id": "bueD7O4vKjb5",
        "outputId": "079cd0f8-6edc-4a72-f982-45d6cc1d53d7"
      },
      "source": [
        "df[\"Qualification\"]"
      ],
      "execution_count": 250,
      "outputs": [
        {
          "output_type": "execute_result",
          "data": {
            "text/plain": [
              "0                [BHMS,  MD - Homeopathy]\n",
              "1         [BAMS,  MD - Ayurveda Medicine]\n",
              "2       [MBBS,  MS - Otorhinolaryngology]\n",
              "3                  [BSc - Zoology,  BAMS]\n",
              "4                                  [BAMS]\n",
              "                      ...                \n",
              "5956                    [MBBS,  MS - ENT]\n",
              "5957                               [MBBS]\n",
              "5958                               [MBBS]\n",
              "5959       [MBBS,  MD - General Medicine]\n",
              "5960           [BDS,  MDS - Orthodontics]\n",
              "Name: Qualification, Length: 5961, dtype: object"
            ]
          },
          "metadata": {
            "tags": []
          },
          "execution_count": 250
        }
      ]
    },
    {
      "cell_type": "code",
      "metadata": {
        "colab": {
          "base_uri": "https://localhost:8080/",
          "height": 200
        },
        "id": "SbIW1p7aKmIN",
        "outputId": "42f4fea2-439c-440b-c299-a4a23997564c"
      },
      "source": [
        "df.head()"
      ],
      "execution_count": 251,
      "outputs": [
        {
          "output_type": "execute_result",
          "data": {
            "text/html": [
              "<div>\n",
              "<style scoped>\n",
              "    .dataframe tbody tr th:only-of-type {\n",
              "        vertical-align: middle;\n",
              "    }\n",
              "\n",
              "    .dataframe tbody tr th {\n",
              "        vertical-align: top;\n",
              "    }\n",
              "\n",
              "    .dataframe thead th {\n",
              "        text-align: right;\n",
              "    }\n",
              "</style>\n",
              "<table border=\"1\" class=\"dataframe\">\n",
              "  <thead>\n",
              "    <tr style=\"text-align: right;\">\n",
              "      <th></th>\n",
              "      <th>Qualification</th>\n",
              "      <th>Experience</th>\n",
              "      <th>Rating</th>\n",
              "      <th>Profile</th>\n",
              "      <th>Fees</th>\n",
              "      <th>locality</th>\n",
              "      <th>city</th>\n",
              "      <th>Qualification_count</th>\n",
              "    </tr>\n",
              "  </thead>\n",
              "  <tbody>\n",
              "    <tr>\n",
              "      <th>0</th>\n",
              "      <td>[BHMS,  MD - Homeopathy]</td>\n",
              "      <td>24</td>\n",
              "      <td>9</td>\n",
              "      <td>Homeopath</td>\n",
              "      <td>100</td>\n",
              "      <td>Kakkanad</td>\n",
              "      <td>Ernakulam</td>\n",
              "      <td>2</td>\n",
              "    </tr>\n",
              "    <tr>\n",
              "      <th>1</th>\n",
              "      <td>[BAMS,  MD - Ayurveda Medicine]</td>\n",
              "      <td>12</td>\n",
              "      <td>9</td>\n",
              "      <td>Ayurveda</td>\n",
              "      <td>350</td>\n",
              "      <td>Whitefield</td>\n",
              "      <td>Bangalore</td>\n",
              "      <td>2</td>\n",
              "    </tr>\n",
              "    <tr>\n",
              "      <th>2</th>\n",
              "      <td>[MBBS,  MS - Otorhinolaryngology]</td>\n",
              "      <td>9</td>\n",
              "      <td>9</td>\n",
              "      <td>ENT Specialist</td>\n",
              "      <td>300</td>\n",
              "      <td>Mathikere - BEL</td>\n",
              "      <td>Bangalore</td>\n",
              "      <td>2</td>\n",
              "    </tr>\n",
              "    <tr>\n",
              "      <th>3</th>\n",
              "      <td>[BSc - Zoology,  BAMS]</td>\n",
              "      <td>12</td>\n",
              "      <td>9</td>\n",
              "      <td>Ayurveda</td>\n",
              "      <td>250</td>\n",
              "      <td>Bannerghatta Road</td>\n",
              "      <td>Bangalore</td>\n",
              "      <td>2</td>\n",
              "    </tr>\n",
              "    <tr>\n",
              "      <th>4</th>\n",
              "      <td>[BAMS]</td>\n",
              "      <td>20</td>\n",
              "      <td>9</td>\n",
              "      <td>Ayurveda</td>\n",
              "      <td>250</td>\n",
              "      <td>Keelkattalai</td>\n",
              "      <td>Chennai</td>\n",
              "      <td>1</td>\n",
              "    </tr>\n",
              "  </tbody>\n",
              "</table>\n",
              "</div>"
            ],
            "text/plain": [
              "                       Qualification  ...  Qualification_count\n",
              "0           [BHMS,  MD - Homeopathy]  ...                    2\n",
              "1    [BAMS,  MD - Ayurveda Medicine]  ...                    2\n",
              "2  [MBBS,  MS - Otorhinolaryngology]  ...                    2\n",
              "3             [BSc - Zoology,  BAMS]  ...                    2\n",
              "4                             [BAMS]  ...                    1\n",
              "\n",
              "[5 rows x 8 columns]"
            ]
          },
          "metadata": {
            "tags": []
          },
          "execution_count": 251
        }
      ]
    },
    {
      "cell_type": "code",
      "metadata": {
        "colab": {
          "base_uri": "https://localhost:8080/"
        },
        "id": "S5_zaiyVKo5l",
        "outputId": "565243a1-8249-40b5-b826-80ef6939b651"
      },
      "source": [
        "#Extract top 10 qual\n",
        "most_qual = sorted(Qualification.items(),key=lambda x:x[1],reverse=True)[:10]\n",
        "final_qual = []\n",
        "for qual in most_qual:\n",
        "    final_qual.append(qual[0])\n",
        "    \n",
        "print(final_qual)"
      ],
      "execution_count": 252,
      "outputs": [
        {
          "output_type": "stream",
          "text": [
            "['MBBS', 'BDS', 'BAMS', 'BHMS', 'MD - Dermatology', 'MS - ENT', 'Venereology & Leprosy', 'MD - General Medicine', 'Diploma in Otorhinolaryngology (DLO)', 'MD - Homeopathy']\n"
          ],
          "name": "stdout"
        }
      ]
    },
    {
      "cell_type": "code",
      "metadata": {
        "colab": {
          "base_uri": "https://localhost:8080/",
          "height": 200
        },
        "id": "7GZAD7npKrJW",
        "outputId": "663c333a-c147-4d5b-f58a-348a62b23e6a"
      },
      "source": [
        "df.head()"
      ],
      "execution_count": 253,
      "outputs": [
        {
          "output_type": "execute_result",
          "data": {
            "text/html": [
              "<div>\n",
              "<style scoped>\n",
              "    .dataframe tbody tr th:only-of-type {\n",
              "        vertical-align: middle;\n",
              "    }\n",
              "\n",
              "    .dataframe tbody tr th {\n",
              "        vertical-align: top;\n",
              "    }\n",
              "\n",
              "    .dataframe thead th {\n",
              "        text-align: right;\n",
              "    }\n",
              "</style>\n",
              "<table border=\"1\" class=\"dataframe\">\n",
              "  <thead>\n",
              "    <tr style=\"text-align: right;\">\n",
              "      <th></th>\n",
              "      <th>Qualification</th>\n",
              "      <th>Experience</th>\n",
              "      <th>Rating</th>\n",
              "      <th>Profile</th>\n",
              "      <th>Fees</th>\n",
              "      <th>locality</th>\n",
              "      <th>city</th>\n",
              "      <th>Qualification_count</th>\n",
              "    </tr>\n",
              "  </thead>\n",
              "  <tbody>\n",
              "    <tr>\n",
              "      <th>0</th>\n",
              "      <td>[BHMS,  MD - Homeopathy]</td>\n",
              "      <td>24</td>\n",
              "      <td>9</td>\n",
              "      <td>Homeopath</td>\n",
              "      <td>100</td>\n",
              "      <td>Kakkanad</td>\n",
              "      <td>Ernakulam</td>\n",
              "      <td>2</td>\n",
              "    </tr>\n",
              "    <tr>\n",
              "      <th>1</th>\n",
              "      <td>[BAMS,  MD - Ayurveda Medicine]</td>\n",
              "      <td>12</td>\n",
              "      <td>9</td>\n",
              "      <td>Ayurveda</td>\n",
              "      <td>350</td>\n",
              "      <td>Whitefield</td>\n",
              "      <td>Bangalore</td>\n",
              "      <td>2</td>\n",
              "    </tr>\n",
              "    <tr>\n",
              "      <th>2</th>\n",
              "      <td>[MBBS,  MS - Otorhinolaryngology]</td>\n",
              "      <td>9</td>\n",
              "      <td>9</td>\n",
              "      <td>ENT Specialist</td>\n",
              "      <td>300</td>\n",
              "      <td>Mathikere - BEL</td>\n",
              "      <td>Bangalore</td>\n",
              "      <td>2</td>\n",
              "    </tr>\n",
              "    <tr>\n",
              "      <th>3</th>\n",
              "      <td>[BSc - Zoology,  BAMS]</td>\n",
              "      <td>12</td>\n",
              "      <td>9</td>\n",
              "      <td>Ayurveda</td>\n",
              "      <td>250</td>\n",
              "      <td>Bannerghatta Road</td>\n",
              "      <td>Bangalore</td>\n",
              "      <td>2</td>\n",
              "    </tr>\n",
              "    <tr>\n",
              "      <th>4</th>\n",
              "      <td>[BAMS]</td>\n",
              "      <td>20</td>\n",
              "      <td>9</td>\n",
              "      <td>Ayurveda</td>\n",
              "      <td>250</td>\n",
              "      <td>Keelkattalai</td>\n",
              "      <td>Chennai</td>\n",
              "      <td>1</td>\n",
              "    </tr>\n",
              "  </tbody>\n",
              "</table>\n",
              "</div>"
            ],
            "text/plain": [
              "                       Qualification  ...  Qualification_count\n",
              "0           [BHMS,  MD - Homeopathy]  ...                    2\n",
              "1    [BAMS,  MD - Ayurveda Medicine]  ...                    2\n",
              "2  [MBBS,  MS - Otorhinolaryngology]  ...                    2\n",
              "3             [BSc - Zoology,  BAMS]  ...                    2\n",
              "4                             [BAMS]  ...                    1\n",
              "\n",
              "[5 rows x 8 columns]"
            ]
          },
          "metadata": {
            "tags": []
          },
          "execution_count": 253
        }
      ]
    },
    {
      "cell_type": "code",
      "metadata": {
        "id": "Zp7lukfwKuJW"
      },
      "source": [
        "#Encode extracted top 10 qualification into train dataset as new column.\n",
        "for qual in final_qual:\n",
        "    df[qual] = 0\n",
        "\n",
        "for x,y in zip(df['Qualification'].values, np.array([i for i in range(len(df))])):\n",
        "    for c in x:\n",
        "        c = c.strip()\n",
        "        if c in final_qual:\n",
        "            df[c][y] = 1"
      ],
      "execution_count": 254,
      "outputs": []
    },
    {
      "cell_type": "code",
      "metadata": {
        "colab": {
          "base_uri": "https://localhost:8080/",
          "height": 317
        },
        "id": "i2cy4bMEKwz-",
        "outputId": "a2c71533-8765-47f9-a1a9-7364e768f0e4"
      },
      "source": [
        "df.head()"
      ],
      "execution_count": 255,
      "outputs": [
        {
          "output_type": "execute_result",
          "data": {
            "text/html": [
              "<div>\n",
              "<style scoped>\n",
              "    .dataframe tbody tr th:only-of-type {\n",
              "        vertical-align: middle;\n",
              "    }\n",
              "\n",
              "    .dataframe tbody tr th {\n",
              "        vertical-align: top;\n",
              "    }\n",
              "\n",
              "    .dataframe thead th {\n",
              "        text-align: right;\n",
              "    }\n",
              "</style>\n",
              "<table border=\"1\" class=\"dataframe\">\n",
              "  <thead>\n",
              "    <tr style=\"text-align: right;\">\n",
              "      <th></th>\n",
              "      <th>Qualification</th>\n",
              "      <th>Experience</th>\n",
              "      <th>Rating</th>\n",
              "      <th>Profile</th>\n",
              "      <th>Fees</th>\n",
              "      <th>locality</th>\n",
              "      <th>city</th>\n",
              "      <th>Qualification_count</th>\n",
              "      <th>MBBS</th>\n",
              "      <th>BDS</th>\n",
              "      <th>BAMS</th>\n",
              "      <th>BHMS</th>\n",
              "      <th>MD - Dermatology</th>\n",
              "      <th>MS - ENT</th>\n",
              "      <th>Venereology &amp; Leprosy</th>\n",
              "      <th>MD - General Medicine</th>\n",
              "      <th>Diploma in Otorhinolaryngology (DLO)</th>\n",
              "      <th>MD - Homeopathy</th>\n",
              "    </tr>\n",
              "  </thead>\n",
              "  <tbody>\n",
              "    <tr>\n",
              "      <th>0</th>\n",
              "      <td>[BHMS,  MD - Homeopathy]</td>\n",
              "      <td>24</td>\n",
              "      <td>9</td>\n",
              "      <td>Homeopath</td>\n",
              "      <td>100</td>\n",
              "      <td>Kakkanad</td>\n",
              "      <td>Ernakulam</td>\n",
              "      <td>2</td>\n",
              "      <td>0</td>\n",
              "      <td>0</td>\n",
              "      <td>0</td>\n",
              "      <td>1</td>\n",
              "      <td>0</td>\n",
              "      <td>0</td>\n",
              "      <td>0</td>\n",
              "      <td>0</td>\n",
              "      <td>0</td>\n",
              "      <td>1</td>\n",
              "    </tr>\n",
              "    <tr>\n",
              "      <th>1</th>\n",
              "      <td>[BAMS,  MD - Ayurveda Medicine]</td>\n",
              "      <td>12</td>\n",
              "      <td>9</td>\n",
              "      <td>Ayurveda</td>\n",
              "      <td>350</td>\n",
              "      <td>Whitefield</td>\n",
              "      <td>Bangalore</td>\n",
              "      <td>2</td>\n",
              "      <td>0</td>\n",
              "      <td>0</td>\n",
              "      <td>1</td>\n",
              "      <td>0</td>\n",
              "      <td>0</td>\n",
              "      <td>0</td>\n",
              "      <td>0</td>\n",
              "      <td>0</td>\n",
              "      <td>0</td>\n",
              "      <td>0</td>\n",
              "    </tr>\n",
              "    <tr>\n",
              "      <th>2</th>\n",
              "      <td>[MBBS,  MS - Otorhinolaryngology]</td>\n",
              "      <td>9</td>\n",
              "      <td>9</td>\n",
              "      <td>ENT Specialist</td>\n",
              "      <td>300</td>\n",
              "      <td>Mathikere - BEL</td>\n",
              "      <td>Bangalore</td>\n",
              "      <td>2</td>\n",
              "      <td>1</td>\n",
              "      <td>0</td>\n",
              "      <td>0</td>\n",
              "      <td>0</td>\n",
              "      <td>0</td>\n",
              "      <td>0</td>\n",
              "      <td>0</td>\n",
              "      <td>0</td>\n",
              "      <td>0</td>\n",
              "      <td>0</td>\n",
              "    </tr>\n",
              "    <tr>\n",
              "      <th>3</th>\n",
              "      <td>[BSc - Zoology,  BAMS]</td>\n",
              "      <td>12</td>\n",
              "      <td>9</td>\n",
              "      <td>Ayurveda</td>\n",
              "      <td>250</td>\n",
              "      <td>Bannerghatta Road</td>\n",
              "      <td>Bangalore</td>\n",
              "      <td>2</td>\n",
              "      <td>0</td>\n",
              "      <td>0</td>\n",
              "      <td>1</td>\n",
              "      <td>0</td>\n",
              "      <td>0</td>\n",
              "      <td>0</td>\n",
              "      <td>0</td>\n",
              "      <td>0</td>\n",
              "      <td>0</td>\n",
              "      <td>0</td>\n",
              "    </tr>\n",
              "    <tr>\n",
              "      <th>4</th>\n",
              "      <td>[BAMS]</td>\n",
              "      <td>20</td>\n",
              "      <td>9</td>\n",
              "      <td>Ayurveda</td>\n",
              "      <td>250</td>\n",
              "      <td>Keelkattalai</td>\n",
              "      <td>Chennai</td>\n",
              "      <td>1</td>\n",
              "      <td>0</td>\n",
              "      <td>0</td>\n",
              "      <td>1</td>\n",
              "      <td>0</td>\n",
              "      <td>0</td>\n",
              "      <td>0</td>\n",
              "      <td>0</td>\n",
              "      <td>0</td>\n",
              "      <td>0</td>\n",
              "      <td>0</td>\n",
              "    </tr>\n",
              "  </tbody>\n",
              "</table>\n",
              "</div>"
            ],
            "text/plain": [
              "                       Qualification  ...  MD - Homeopathy\n",
              "0           [BHMS,  MD - Homeopathy]  ...                1\n",
              "1    [BAMS,  MD - Ayurveda Medicine]  ...                0\n",
              "2  [MBBS,  MS - Otorhinolaryngology]  ...                0\n",
              "3             [BSc - Zoology,  BAMS]  ...                0\n",
              "4                             [BAMS]  ...                0\n",
              "\n",
              "[5 rows x 18 columns]"
            ]
          },
          "metadata": {
            "tags": []
          },
          "execution_count": 255
        }
      ]
    },
    {
      "cell_type": "code",
      "metadata": {
        "id": "EiTY_1x_KzK9"
      },
      "source": [
        "# Now we can drop the extra quali which we added \n",
        "df.drop(['Qualification','Qualification_count'],axis=1,inplace=True)"
      ],
      "execution_count": 256,
      "outputs": []
    },
    {
      "cell_type": "code",
      "metadata": {
        "colab": {
          "base_uri": "https://localhost:8080/",
          "height": 265
        },
        "id": "K4plgTBEK4PE",
        "outputId": "5165f1c6-191d-4f5d-a0a0-024920ac087a"
      },
      "source": [
        "df.head()"
      ],
      "execution_count": 257,
      "outputs": [
        {
          "output_type": "execute_result",
          "data": {
            "text/html": [
              "<div>\n",
              "<style scoped>\n",
              "    .dataframe tbody tr th:only-of-type {\n",
              "        vertical-align: middle;\n",
              "    }\n",
              "\n",
              "    .dataframe tbody tr th {\n",
              "        vertical-align: top;\n",
              "    }\n",
              "\n",
              "    .dataframe thead th {\n",
              "        text-align: right;\n",
              "    }\n",
              "</style>\n",
              "<table border=\"1\" class=\"dataframe\">\n",
              "  <thead>\n",
              "    <tr style=\"text-align: right;\">\n",
              "      <th></th>\n",
              "      <th>Experience</th>\n",
              "      <th>Rating</th>\n",
              "      <th>Profile</th>\n",
              "      <th>Fees</th>\n",
              "      <th>locality</th>\n",
              "      <th>city</th>\n",
              "      <th>MBBS</th>\n",
              "      <th>BDS</th>\n",
              "      <th>BAMS</th>\n",
              "      <th>BHMS</th>\n",
              "      <th>MD - Dermatology</th>\n",
              "      <th>MS - ENT</th>\n",
              "      <th>Venereology &amp; Leprosy</th>\n",
              "      <th>MD - General Medicine</th>\n",
              "      <th>Diploma in Otorhinolaryngology (DLO)</th>\n",
              "      <th>MD - Homeopathy</th>\n",
              "    </tr>\n",
              "  </thead>\n",
              "  <tbody>\n",
              "    <tr>\n",
              "      <th>0</th>\n",
              "      <td>24</td>\n",
              "      <td>9</td>\n",
              "      <td>Homeopath</td>\n",
              "      <td>100</td>\n",
              "      <td>Kakkanad</td>\n",
              "      <td>Ernakulam</td>\n",
              "      <td>0</td>\n",
              "      <td>0</td>\n",
              "      <td>0</td>\n",
              "      <td>1</td>\n",
              "      <td>0</td>\n",
              "      <td>0</td>\n",
              "      <td>0</td>\n",
              "      <td>0</td>\n",
              "      <td>0</td>\n",
              "      <td>1</td>\n",
              "    </tr>\n",
              "    <tr>\n",
              "      <th>1</th>\n",
              "      <td>12</td>\n",
              "      <td>9</td>\n",
              "      <td>Ayurveda</td>\n",
              "      <td>350</td>\n",
              "      <td>Whitefield</td>\n",
              "      <td>Bangalore</td>\n",
              "      <td>0</td>\n",
              "      <td>0</td>\n",
              "      <td>1</td>\n",
              "      <td>0</td>\n",
              "      <td>0</td>\n",
              "      <td>0</td>\n",
              "      <td>0</td>\n",
              "      <td>0</td>\n",
              "      <td>0</td>\n",
              "      <td>0</td>\n",
              "    </tr>\n",
              "    <tr>\n",
              "      <th>2</th>\n",
              "      <td>9</td>\n",
              "      <td>9</td>\n",
              "      <td>ENT Specialist</td>\n",
              "      <td>300</td>\n",
              "      <td>Mathikere - BEL</td>\n",
              "      <td>Bangalore</td>\n",
              "      <td>1</td>\n",
              "      <td>0</td>\n",
              "      <td>0</td>\n",
              "      <td>0</td>\n",
              "      <td>0</td>\n",
              "      <td>0</td>\n",
              "      <td>0</td>\n",
              "      <td>0</td>\n",
              "      <td>0</td>\n",
              "      <td>0</td>\n",
              "    </tr>\n",
              "    <tr>\n",
              "      <th>3</th>\n",
              "      <td>12</td>\n",
              "      <td>9</td>\n",
              "      <td>Ayurveda</td>\n",
              "      <td>250</td>\n",
              "      <td>Bannerghatta Road</td>\n",
              "      <td>Bangalore</td>\n",
              "      <td>0</td>\n",
              "      <td>0</td>\n",
              "      <td>1</td>\n",
              "      <td>0</td>\n",
              "      <td>0</td>\n",
              "      <td>0</td>\n",
              "      <td>0</td>\n",
              "      <td>0</td>\n",
              "      <td>0</td>\n",
              "      <td>0</td>\n",
              "    </tr>\n",
              "    <tr>\n",
              "      <th>4</th>\n",
              "      <td>20</td>\n",
              "      <td>9</td>\n",
              "      <td>Ayurveda</td>\n",
              "      <td>250</td>\n",
              "      <td>Keelkattalai</td>\n",
              "      <td>Chennai</td>\n",
              "      <td>0</td>\n",
              "      <td>0</td>\n",
              "      <td>1</td>\n",
              "      <td>0</td>\n",
              "      <td>0</td>\n",
              "      <td>0</td>\n",
              "      <td>0</td>\n",
              "      <td>0</td>\n",
              "      <td>0</td>\n",
              "      <td>0</td>\n",
              "    </tr>\n",
              "  </tbody>\n",
              "</table>\n",
              "</div>"
            ],
            "text/plain": [
              "   Experience Rating  ... Diploma in Otorhinolaryngology (DLO)  MD - Homeopathy\n",
              "0          24      9  ...                                    0                1\n",
              "1          12      9  ...                                    0                0\n",
              "2           9      9  ...                                    0                0\n",
              "3          12      9  ...                                    0                0\n",
              "4          20      9  ...                                    0                0\n",
              "\n",
              "[5 rows x 16 columns]"
            ]
          },
          "metadata": {
            "tags": []
          },
          "execution_count": 257
        }
      ]
    },
    {
      "cell_type": "code",
      "metadata": {
        "colab": {
          "base_uri": "https://localhost:8080/"
        },
        "id": "nDffdFh0K7dD",
        "outputId": "18743c3a-e963-4667-b395-cb86cd188847"
      },
      "source": [
        "# CITY COLUMN\n",
        "df['city'].unique()"
      ],
      "execution_count": 258,
      "outputs": [
        {
          "output_type": "execute_result",
          "data": {
            "text/plain": [
              "array([' Ernakulam', ' Bangalore', ' Chennai', ' Delhi', ' Hyderabad',\n",
              "       ' Coimbatore', ' Mumbai', ' Thiruvananthapuram', ' Sector 5', nan],\n",
              "      dtype=object)"
            ]
          },
          "metadata": {
            "tags": []
          },
          "execution_count": 258
        }
      ]
    },
    {
      "cell_type": "code",
      "metadata": {
        "id": "b9wc3uPNK_2g"
      },
      "source": [
        "import re\n",
        "df['city'] = df['city'].apply(lambda x: re.sub(' +','',str(x)))"
      ],
      "execution_count": 259,
      "outputs": []
    },
    {
      "cell_type": "markdown",
      "metadata": {
        "id": "ViQkh9khLN_J"
      },
      "source": [
        "remove the extra spaces before the city."
      ]
    },
    {
      "cell_type": "code",
      "metadata": {
        "colab": {
          "base_uri": "https://localhost:8080/"
        },
        "id": "A8xgRo-qLD5a",
        "outputId": "5c131485-1bd3-479b-80b4-5dbfd5cafa55"
      },
      "source": [
        "df['city'].value_counts()"
      ],
      "execution_count": 260,
      "outputs": [
        {
          "output_type": "execute_result",
          "data": {
            "text/plain": [
              "Bangalore             1283\n",
              "Mumbai                1219\n",
              "Delhi                 1184\n",
              "Hyderabad              951\n",
              "Chennai                855\n",
              "Coimbatore             228\n",
              "Ernakulam              153\n",
              "Thiruvananthapuram      86\n",
              "nan                      1\n",
              "Sector5                  1\n",
              "Name: city, dtype: int64"
            ]
          },
          "metadata": {
            "tags": []
          },
          "execution_count": 260
        }
      ]
    },
    {
      "cell_type": "code",
      "metadata": {
        "colab": {
          "base_uri": "https://localhost:8080/",
          "height": 473
        },
        "id": "-uxpZhpULHA5",
        "outputId": "3921df65-fe2f-4c99-ddb0-9e3546181a34"
      },
      "source": [
        "df[df['locality'] == 'Dwarka']"
      ],
      "execution_count": 261,
      "outputs": [
        {
          "output_type": "execute_result",
          "data": {
            "text/html": [
              "<div>\n",
              "<style scoped>\n",
              "    .dataframe tbody tr th:only-of-type {\n",
              "        vertical-align: middle;\n",
              "    }\n",
              "\n",
              "    .dataframe tbody tr th {\n",
              "        vertical-align: top;\n",
              "    }\n",
              "\n",
              "    .dataframe thead th {\n",
              "        text-align: right;\n",
              "    }\n",
              "</style>\n",
              "<table border=\"1\" class=\"dataframe\">\n",
              "  <thead>\n",
              "    <tr style=\"text-align: right;\">\n",
              "      <th></th>\n",
              "      <th>Experience</th>\n",
              "      <th>Rating</th>\n",
              "      <th>Profile</th>\n",
              "      <th>Fees</th>\n",
              "      <th>locality</th>\n",
              "      <th>city</th>\n",
              "      <th>MBBS</th>\n",
              "      <th>BDS</th>\n",
              "      <th>BAMS</th>\n",
              "      <th>BHMS</th>\n",
              "      <th>MD - Dermatology</th>\n",
              "      <th>MS - ENT</th>\n",
              "      <th>Venereology &amp; Leprosy</th>\n",
              "      <th>MD - General Medicine</th>\n",
              "      <th>Diploma in Otorhinolaryngology (DLO)</th>\n",
              "      <th>MD - Homeopathy</th>\n",
              "    </tr>\n",
              "  </thead>\n",
              "  <tbody>\n",
              "    <tr>\n",
              "      <th>166</th>\n",
              "      <td>7</td>\n",
              "      <td>9</td>\n",
              "      <td>Dentist</td>\n",
              "      <td>300</td>\n",
              "      <td>Dwarka</td>\n",
              "      <td>Delhi</td>\n",
              "      <td>0</td>\n",
              "      <td>1</td>\n",
              "      <td>0</td>\n",
              "      <td>0</td>\n",
              "      <td>0</td>\n",
              "      <td>0</td>\n",
              "      <td>0</td>\n",
              "      <td>0</td>\n",
              "      <td>0</td>\n",
              "      <td>0</td>\n",
              "    </tr>\n",
              "    <tr>\n",
              "      <th>299</th>\n",
              "      <td>8</td>\n",
              "      <td>9</td>\n",
              "      <td>Homeopath</td>\n",
              "      <td>250</td>\n",
              "      <td>Dwarka</td>\n",
              "      <td>Delhi</td>\n",
              "      <td>0</td>\n",
              "      <td>0</td>\n",
              "      <td>0</td>\n",
              "      <td>1</td>\n",
              "      <td>0</td>\n",
              "      <td>0</td>\n",
              "      <td>0</td>\n",
              "      <td>0</td>\n",
              "      <td>0</td>\n",
              "      <td>0</td>\n",
              "    </tr>\n",
              "    <tr>\n",
              "      <th>306</th>\n",
              "      <td>31</td>\n",
              "      <td>9</td>\n",
              "      <td>General Medicine</td>\n",
              "      <td>300</td>\n",
              "      <td>Dwarka</td>\n",
              "      <td>Delhi</td>\n",
              "      <td>1</td>\n",
              "      <td>0</td>\n",
              "      <td>0</td>\n",
              "      <td>0</td>\n",
              "      <td>0</td>\n",
              "      <td>0</td>\n",
              "      <td>0</td>\n",
              "      <td>0</td>\n",
              "      <td>0</td>\n",
              "      <td>0</td>\n",
              "    </tr>\n",
              "    <tr>\n",
              "      <th>485</th>\n",
              "      <td>30</td>\n",
              "      <td>9</td>\n",
              "      <td>Ayurveda</td>\n",
              "      <td>200</td>\n",
              "      <td>Dwarka</td>\n",
              "      <td>Delhi</td>\n",
              "      <td>0</td>\n",
              "      <td>0</td>\n",
              "      <td>1</td>\n",
              "      <td>0</td>\n",
              "      <td>0</td>\n",
              "      <td>0</td>\n",
              "      <td>0</td>\n",
              "      <td>0</td>\n",
              "      <td>0</td>\n",
              "      <td>0</td>\n",
              "    </tr>\n",
              "    <tr>\n",
              "      <th>690</th>\n",
              "      <td>19</td>\n",
              "      <td>9</td>\n",
              "      <td>General Medicine</td>\n",
              "      <td>700</td>\n",
              "      <td>Dwarka</td>\n",
              "      <td>Delhi</td>\n",
              "      <td>1</td>\n",
              "      <td>0</td>\n",
              "      <td>0</td>\n",
              "      <td>0</td>\n",
              "      <td>0</td>\n",
              "      <td>0</td>\n",
              "      <td>0</td>\n",
              "      <td>0</td>\n",
              "      <td>0</td>\n",
              "      <td>0</td>\n",
              "    </tr>\n",
              "    <tr>\n",
              "      <th>...</th>\n",
              "      <td>...</td>\n",
              "      <td>...</td>\n",
              "      <td>...</td>\n",
              "      <td>...</td>\n",
              "      <td>...</td>\n",
              "      <td>...</td>\n",
              "      <td>...</td>\n",
              "      <td>...</td>\n",
              "      <td>...</td>\n",
              "      <td>...</td>\n",
              "      <td>...</td>\n",
              "      <td>...</td>\n",
              "      <td>...</td>\n",
              "      <td>...</td>\n",
              "      <td>...</td>\n",
              "      <td>...</td>\n",
              "    </tr>\n",
              "    <tr>\n",
              "      <th>5612</th>\n",
              "      <td>30</td>\n",
              "      <td>6</td>\n",
              "      <td>ENT Specialist</td>\n",
              "      <td>400</td>\n",
              "      <td>Dwarka</td>\n",
              "      <td>Delhi</td>\n",
              "      <td>1</td>\n",
              "      <td>0</td>\n",
              "      <td>0</td>\n",
              "      <td>0</td>\n",
              "      <td>0</td>\n",
              "      <td>1</td>\n",
              "      <td>0</td>\n",
              "      <td>0</td>\n",
              "      <td>0</td>\n",
              "      <td>0</td>\n",
              "    </tr>\n",
              "    <tr>\n",
              "      <th>5685</th>\n",
              "      <td>19</td>\n",
              "      <td>9</td>\n",
              "      <td>Dermatologists</td>\n",
              "      <td>400</td>\n",
              "      <td>Dwarka</td>\n",
              "      <td>Delhi</td>\n",
              "      <td>1</td>\n",
              "      <td>0</td>\n",
              "      <td>0</td>\n",
              "      <td>0</td>\n",
              "      <td>0</td>\n",
              "      <td>0</td>\n",
              "      <td>0</td>\n",
              "      <td>0</td>\n",
              "      <td>0</td>\n",
              "      <td>0</td>\n",
              "    </tr>\n",
              "    <tr>\n",
              "      <th>5724</th>\n",
              "      <td>11</td>\n",
              "      <td>9</td>\n",
              "      <td>Dentist</td>\n",
              "      <td>300</td>\n",
              "      <td>Dwarka</td>\n",
              "      <td>Delhi</td>\n",
              "      <td>0</td>\n",
              "      <td>1</td>\n",
              "      <td>0</td>\n",
              "      <td>0</td>\n",
              "      <td>0</td>\n",
              "      <td>0</td>\n",
              "      <td>0</td>\n",
              "      <td>0</td>\n",
              "      <td>0</td>\n",
              "      <td>0</td>\n",
              "    </tr>\n",
              "    <tr>\n",
              "      <th>5886</th>\n",
              "      <td>11</td>\n",
              "      <td>9</td>\n",
              "      <td>Dermatologists</td>\n",
              "      <td>600</td>\n",
              "      <td>Dwarka</td>\n",
              "      <td>Delhi</td>\n",
              "      <td>1</td>\n",
              "      <td>0</td>\n",
              "      <td>0</td>\n",
              "      <td>0</td>\n",
              "      <td>1</td>\n",
              "      <td>0</td>\n",
              "      <td>1</td>\n",
              "      <td>0</td>\n",
              "      <td>0</td>\n",
              "      <td>0</td>\n",
              "    </tr>\n",
              "    <tr>\n",
              "      <th>5946</th>\n",
              "      <td>12</td>\n",
              "      <td>9</td>\n",
              "      <td>Dentist</td>\n",
              "      <td>300</td>\n",
              "      <td>Dwarka</td>\n",
              "      <td>Delhi</td>\n",
              "      <td>0</td>\n",
              "      <td>1</td>\n",
              "      <td>0</td>\n",
              "      <td>0</td>\n",
              "      <td>0</td>\n",
              "      <td>0</td>\n",
              "      <td>0</td>\n",
              "      <td>0</td>\n",
              "      <td>0</td>\n",
              "      <td>0</td>\n",
              "    </tr>\n",
              "  </tbody>\n",
              "</table>\n",
              "<p>68 rows × 16 columns</p>\n",
              "</div>"
            ],
            "text/plain": [
              "      Experience Rating  ... Diploma in Otorhinolaryngology (DLO)  MD - Homeopathy\n",
              "166            7      9  ...                                    0                0\n",
              "299            8      9  ...                                    0                0\n",
              "306           31      9  ...                                    0                0\n",
              "485           30      9  ...                                    0                0\n",
              "690           19      9  ...                                    0                0\n",
              "...          ...    ...  ...                                  ...              ...\n",
              "5612          30      6  ...                                    0                0\n",
              "5685          19      9  ...                                    0                0\n",
              "5724          11      9  ...                                    0                0\n",
              "5886          11      9  ...                                    0                0\n",
              "5946          12      9  ...                                    0                0\n",
              "\n",
              "[68 rows x 16 columns]"
            ]
          },
          "metadata": {
            "tags": []
          },
          "execution_count": 261
        }
      ]
    },
    {
      "cell_type": "markdown",
      "metadata": {
        "id": "znjrn5C8LaWc"
      },
      "source": [
        "whereever the locality is Dwarka the city is Delhi, and this Sector5 is area of that so it's misclassified here. which we have to correct."
      ]
    },
    {
      "cell_type": "code",
      "metadata": {
        "id": "m-e17QPdLT8G"
      },
      "source": [
        "df['city'] = np.where(df['city']==\"Sector5\",\"Delhi\", df['city'])"
      ],
      "execution_count": 262,
      "outputs": []
    },
    {
      "cell_type": "code",
      "metadata": {
        "id": "fcCjrk2ULfkP"
      },
      "source": [
        "df['city']=df['city'].fillna(df['city'].mode()[0])"
      ],
      "execution_count": 263,
      "outputs": []
    },
    {
      "cell_type": "markdown",
      "metadata": {
        "id": "QbjcJxw5LmPP"
      },
      "source": [
        "Removing nan values from city column."
      ]
    },
    {
      "cell_type": "code",
      "metadata": {
        "colab": {
          "base_uri": "https://localhost:8080/",
          "height": 265
        },
        "id": "3InMH34FLirx",
        "outputId": "3ea3125c-a019-4027-9dce-51f2249fbc22"
      },
      "source": [
        "df.head()"
      ],
      "execution_count": 264,
      "outputs": [
        {
          "output_type": "execute_result",
          "data": {
            "text/html": [
              "<div>\n",
              "<style scoped>\n",
              "    .dataframe tbody tr th:only-of-type {\n",
              "        vertical-align: middle;\n",
              "    }\n",
              "\n",
              "    .dataframe tbody tr th {\n",
              "        vertical-align: top;\n",
              "    }\n",
              "\n",
              "    .dataframe thead th {\n",
              "        text-align: right;\n",
              "    }\n",
              "</style>\n",
              "<table border=\"1\" class=\"dataframe\">\n",
              "  <thead>\n",
              "    <tr style=\"text-align: right;\">\n",
              "      <th></th>\n",
              "      <th>Experience</th>\n",
              "      <th>Rating</th>\n",
              "      <th>Profile</th>\n",
              "      <th>Fees</th>\n",
              "      <th>locality</th>\n",
              "      <th>city</th>\n",
              "      <th>MBBS</th>\n",
              "      <th>BDS</th>\n",
              "      <th>BAMS</th>\n",
              "      <th>BHMS</th>\n",
              "      <th>MD - Dermatology</th>\n",
              "      <th>MS - ENT</th>\n",
              "      <th>Venereology &amp; Leprosy</th>\n",
              "      <th>MD - General Medicine</th>\n",
              "      <th>Diploma in Otorhinolaryngology (DLO)</th>\n",
              "      <th>MD - Homeopathy</th>\n",
              "    </tr>\n",
              "  </thead>\n",
              "  <tbody>\n",
              "    <tr>\n",
              "      <th>0</th>\n",
              "      <td>24</td>\n",
              "      <td>9</td>\n",
              "      <td>Homeopath</td>\n",
              "      <td>100</td>\n",
              "      <td>Kakkanad</td>\n",
              "      <td>Ernakulam</td>\n",
              "      <td>0</td>\n",
              "      <td>0</td>\n",
              "      <td>0</td>\n",
              "      <td>1</td>\n",
              "      <td>0</td>\n",
              "      <td>0</td>\n",
              "      <td>0</td>\n",
              "      <td>0</td>\n",
              "      <td>0</td>\n",
              "      <td>1</td>\n",
              "    </tr>\n",
              "    <tr>\n",
              "      <th>1</th>\n",
              "      <td>12</td>\n",
              "      <td>9</td>\n",
              "      <td>Ayurveda</td>\n",
              "      <td>350</td>\n",
              "      <td>Whitefield</td>\n",
              "      <td>Bangalore</td>\n",
              "      <td>0</td>\n",
              "      <td>0</td>\n",
              "      <td>1</td>\n",
              "      <td>0</td>\n",
              "      <td>0</td>\n",
              "      <td>0</td>\n",
              "      <td>0</td>\n",
              "      <td>0</td>\n",
              "      <td>0</td>\n",
              "      <td>0</td>\n",
              "    </tr>\n",
              "    <tr>\n",
              "      <th>2</th>\n",
              "      <td>9</td>\n",
              "      <td>9</td>\n",
              "      <td>ENT Specialist</td>\n",
              "      <td>300</td>\n",
              "      <td>Mathikere - BEL</td>\n",
              "      <td>Bangalore</td>\n",
              "      <td>1</td>\n",
              "      <td>0</td>\n",
              "      <td>0</td>\n",
              "      <td>0</td>\n",
              "      <td>0</td>\n",
              "      <td>0</td>\n",
              "      <td>0</td>\n",
              "      <td>0</td>\n",
              "      <td>0</td>\n",
              "      <td>0</td>\n",
              "    </tr>\n",
              "    <tr>\n",
              "      <th>3</th>\n",
              "      <td>12</td>\n",
              "      <td>9</td>\n",
              "      <td>Ayurveda</td>\n",
              "      <td>250</td>\n",
              "      <td>Bannerghatta Road</td>\n",
              "      <td>Bangalore</td>\n",
              "      <td>0</td>\n",
              "      <td>0</td>\n",
              "      <td>1</td>\n",
              "      <td>0</td>\n",
              "      <td>0</td>\n",
              "      <td>0</td>\n",
              "      <td>0</td>\n",
              "      <td>0</td>\n",
              "      <td>0</td>\n",
              "      <td>0</td>\n",
              "    </tr>\n",
              "    <tr>\n",
              "      <th>4</th>\n",
              "      <td>20</td>\n",
              "      <td>9</td>\n",
              "      <td>Ayurveda</td>\n",
              "      <td>250</td>\n",
              "      <td>Keelkattalai</td>\n",
              "      <td>Chennai</td>\n",
              "      <td>0</td>\n",
              "      <td>0</td>\n",
              "      <td>1</td>\n",
              "      <td>0</td>\n",
              "      <td>0</td>\n",
              "      <td>0</td>\n",
              "      <td>0</td>\n",
              "      <td>0</td>\n",
              "      <td>0</td>\n",
              "      <td>0</td>\n",
              "    </tr>\n",
              "  </tbody>\n",
              "</table>\n",
              "</div>"
            ],
            "text/plain": [
              "   Experience Rating  ... Diploma in Otorhinolaryngology (DLO)  MD - Homeopathy\n",
              "0          24      9  ...                                    0                1\n",
              "1          12      9  ...                                    0                0\n",
              "2           9      9  ...                                    0                0\n",
              "3          12      9  ...                                    0                0\n",
              "4          20      9  ...                                    0                0\n",
              "\n",
              "[5 rows x 16 columns]"
            ]
          },
          "metadata": {
            "tags": []
          },
          "execution_count": 264
        }
      ]
    },
    {
      "cell_type": "code",
      "metadata": {
        "colab": {
          "base_uri": "https://localhost:8080/"
        },
        "id": "1sv4dTrnLq2w",
        "outputId": "9a4cad99-a5e8-4d3b-d06d-e5b1a32e99a6"
      },
      "source": [
        "df.isnull().sum()"
      ],
      "execution_count": 265,
      "outputs": [
        {
          "output_type": "execute_result",
          "data": {
            "text/plain": [
              "Experience                              0\n",
              "Rating                                  0\n",
              "Profile                                 0\n",
              "Fees                                    0\n",
              "locality                                0\n",
              "city                                    0\n",
              "MBBS                                    0\n",
              "BDS                                     0\n",
              "BAMS                                    0\n",
              "BHMS                                    0\n",
              "MD - Dermatology                        0\n",
              "MS - ENT                                0\n",
              "Venereology & Leprosy                   0\n",
              "MD - General Medicine                   0\n",
              "Diploma in Otorhinolaryngology (DLO)    0\n",
              "MD - Homeopathy                         0\n",
              "dtype: int64"
            ]
          },
          "metadata": {
            "tags": []
          },
          "execution_count": 265
        }
      ]
    },
    {
      "cell_type": "code",
      "metadata": {
        "colab": {
          "base_uri": "https://localhost:8080/"
        },
        "id": "_nCzq4RQLtiA",
        "outputId": "eb2f8edb-be3c-4cdd-e04a-05470392254d"
      },
      "source": [
        "df.groupby('city')['locality'].nunique()"
      ],
      "execution_count": 266,
      "outputs": [
        {
          "output_type": "execute_result",
          "data": {
            "text/plain": [
              "city\n",
              "Bangalore             153\n",
              "Chennai               124\n",
              "Coimbatore             48\n",
              "Delhi                 200\n",
              "Ernakulam              52\n",
              "Hyderabad             135\n",
              "Mumbai                115\n",
              "Thiruvananthapuram     48\n",
              "nan                     1\n",
              "Name: locality, dtype: int64"
            ]
          },
          "metadata": {
            "tags": []
          },
          "execution_count": 266
        }
      ]
    },
    {
      "cell_type": "markdown",
      "metadata": {
        "id": "lXgiYDDHLynN"
      },
      "source": [
        "let's see for each city how much locality data is there."
      ]
    },
    {
      "cell_type": "code",
      "metadata": {
        "colab": {
          "base_uri": "https://localhost:8080/",
          "height": 265
        },
        "id": "4iOHbTgqLxG3",
        "outputId": "41d950b4-ee4c-4839-d211-13fdf5c11c3d"
      },
      "source": [
        "df.head()"
      ],
      "execution_count": 267,
      "outputs": [
        {
          "output_type": "execute_result",
          "data": {
            "text/html": [
              "<div>\n",
              "<style scoped>\n",
              "    .dataframe tbody tr th:only-of-type {\n",
              "        vertical-align: middle;\n",
              "    }\n",
              "\n",
              "    .dataframe tbody tr th {\n",
              "        vertical-align: top;\n",
              "    }\n",
              "\n",
              "    .dataframe thead th {\n",
              "        text-align: right;\n",
              "    }\n",
              "</style>\n",
              "<table border=\"1\" class=\"dataframe\">\n",
              "  <thead>\n",
              "    <tr style=\"text-align: right;\">\n",
              "      <th></th>\n",
              "      <th>Experience</th>\n",
              "      <th>Rating</th>\n",
              "      <th>Profile</th>\n",
              "      <th>Fees</th>\n",
              "      <th>locality</th>\n",
              "      <th>city</th>\n",
              "      <th>MBBS</th>\n",
              "      <th>BDS</th>\n",
              "      <th>BAMS</th>\n",
              "      <th>BHMS</th>\n",
              "      <th>MD - Dermatology</th>\n",
              "      <th>MS - ENT</th>\n",
              "      <th>Venereology &amp; Leprosy</th>\n",
              "      <th>MD - General Medicine</th>\n",
              "      <th>Diploma in Otorhinolaryngology (DLO)</th>\n",
              "      <th>MD - Homeopathy</th>\n",
              "    </tr>\n",
              "  </thead>\n",
              "  <tbody>\n",
              "    <tr>\n",
              "      <th>0</th>\n",
              "      <td>24</td>\n",
              "      <td>9</td>\n",
              "      <td>Homeopath</td>\n",
              "      <td>100</td>\n",
              "      <td>Kakkanad</td>\n",
              "      <td>Ernakulam</td>\n",
              "      <td>0</td>\n",
              "      <td>0</td>\n",
              "      <td>0</td>\n",
              "      <td>1</td>\n",
              "      <td>0</td>\n",
              "      <td>0</td>\n",
              "      <td>0</td>\n",
              "      <td>0</td>\n",
              "      <td>0</td>\n",
              "      <td>1</td>\n",
              "    </tr>\n",
              "    <tr>\n",
              "      <th>1</th>\n",
              "      <td>12</td>\n",
              "      <td>9</td>\n",
              "      <td>Ayurveda</td>\n",
              "      <td>350</td>\n",
              "      <td>Whitefield</td>\n",
              "      <td>Bangalore</td>\n",
              "      <td>0</td>\n",
              "      <td>0</td>\n",
              "      <td>1</td>\n",
              "      <td>0</td>\n",
              "      <td>0</td>\n",
              "      <td>0</td>\n",
              "      <td>0</td>\n",
              "      <td>0</td>\n",
              "      <td>0</td>\n",
              "      <td>0</td>\n",
              "    </tr>\n",
              "    <tr>\n",
              "      <th>2</th>\n",
              "      <td>9</td>\n",
              "      <td>9</td>\n",
              "      <td>ENT Specialist</td>\n",
              "      <td>300</td>\n",
              "      <td>Mathikere - BEL</td>\n",
              "      <td>Bangalore</td>\n",
              "      <td>1</td>\n",
              "      <td>0</td>\n",
              "      <td>0</td>\n",
              "      <td>0</td>\n",
              "      <td>0</td>\n",
              "      <td>0</td>\n",
              "      <td>0</td>\n",
              "      <td>0</td>\n",
              "      <td>0</td>\n",
              "      <td>0</td>\n",
              "    </tr>\n",
              "    <tr>\n",
              "      <th>3</th>\n",
              "      <td>12</td>\n",
              "      <td>9</td>\n",
              "      <td>Ayurveda</td>\n",
              "      <td>250</td>\n",
              "      <td>Bannerghatta Road</td>\n",
              "      <td>Bangalore</td>\n",
              "      <td>0</td>\n",
              "      <td>0</td>\n",
              "      <td>1</td>\n",
              "      <td>0</td>\n",
              "      <td>0</td>\n",
              "      <td>0</td>\n",
              "      <td>0</td>\n",
              "      <td>0</td>\n",
              "      <td>0</td>\n",
              "      <td>0</td>\n",
              "    </tr>\n",
              "    <tr>\n",
              "      <th>4</th>\n",
              "      <td>20</td>\n",
              "      <td>9</td>\n",
              "      <td>Ayurveda</td>\n",
              "      <td>250</td>\n",
              "      <td>Keelkattalai</td>\n",
              "      <td>Chennai</td>\n",
              "      <td>0</td>\n",
              "      <td>0</td>\n",
              "      <td>1</td>\n",
              "      <td>0</td>\n",
              "      <td>0</td>\n",
              "      <td>0</td>\n",
              "      <td>0</td>\n",
              "      <td>0</td>\n",
              "      <td>0</td>\n",
              "      <td>0</td>\n",
              "    </tr>\n",
              "  </tbody>\n",
              "</table>\n",
              "</div>"
            ],
            "text/plain": [
              "   Experience Rating  ... Diploma in Otorhinolaryngology (DLO)  MD - Homeopathy\n",
              "0          24      9  ...                                    0                1\n",
              "1          12      9  ...                                    0                0\n",
              "2           9      9  ...                                    0                0\n",
              "3          12      9  ...                                    0                0\n",
              "4          20      9  ...                                    0                0\n",
              "\n",
              "[5 rows x 16 columns]"
            ]
          },
          "metadata": {
            "tags": []
          },
          "execution_count": 267
        }
      ]
    },
    {
      "cell_type": "code",
      "metadata": {
        "id": "NBuc-R_LL6Jx"
      },
      "source": [
        "df.drop(['locality'],axis=1,inplace=True)"
      ],
      "execution_count": 268,
      "outputs": []
    },
    {
      "cell_type": "code",
      "metadata": {
        "colab": {
          "base_uri": "https://localhost:8080/",
          "height": 232
        },
        "id": "M3qDjzE0MC4u",
        "outputId": "4f5213d9-316b-45b4-9da2-6a114c9259dc"
      },
      "source": [
        "df.head()"
      ],
      "execution_count": 269,
      "outputs": [
        {
          "output_type": "execute_result",
          "data": {
            "text/html": [
              "<div>\n",
              "<style scoped>\n",
              "    .dataframe tbody tr th:only-of-type {\n",
              "        vertical-align: middle;\n",
              "    }\n",
              "\n",
              "    .dataframe tbody tr th {\n",
              "        vertical-align: top;\n",
              "    }\n",
              "\n",
              "    .dataframe thead th {\n",
              "        text-align: right;\n",
              "    }\n",
              "</style>\n",
              "<table border=\"1\" class=\"dataframe\">\n",
              "  <thead>\n",
              "    <tr style=\"text-align: right;\">\n",
              "      <th></th>\n",
              "      <th>Experience</th>\n",
              "      <th>Rating</th>\n",
              "      <th>Profile</th>\n",
              "      <th>Fees</th>\n",
              "      <th>city</th>\n",
              "      <th>MBBS</th>\n",
              "      <th>BDS</th>\n",
              "      <th>BAMS</th>\n",
              "      <th>BHMS</th>\n",
              "      <th>MD - Dermatology</th>\n",
              "      <th>MS - ENT</th>\n",
              "      <th>Venereology &amp; Leprosy</th>\n",
              "      <th>MD - General Medicine</th>\n",
              "      <th>Diploma in Otorhinolaryngology (DLO)</th>\n",
              "      <th>MD - Homeopathy</th>\n",
              "    </tr>\n",
              "  </thead>\n",
              "  <tbody>\n",
              "    <tr>\n",
              "      <th>0</th>\n",
              "      <td>24</td>\n",
              "      <td>9</td>\n",
              "      <td>Homeopath</td>\n",
              "      <td>100</td>\n",
              "      <td>Ernakulam</td>\n",
              "      <td>0</td>\n",
              "      <td>0</td>\n",
              "      <td>0</td>\n",
              "      <td>1</td>\n",
              "      <td>0</td>\n",
              "      <td>0</td>\n",
              "      <td>0</td>\n",
              "      <td>0</td>\n",
              "      <td>0</td>\n",
              "      <td>1</td>\n",
              "    </tr>\n",
              "    <tr>\n",
              "      <th>1</th>\n",
              "      <td>12</td>\n",
              "      <td>9</td>\n",
              "      <td>Ayurveda</td>\n",
              "      <td>350</td>\n",
              "      <td>Bangalore</td>\n",
              "      <td>0</td>\n",
              "      <td>0</td>\n",
              "      <td>1</td>\n",
              "      <td>0</td>\n",
              "      <td>0</td>\n",
              "      <td>0</td>\n",
              "      <td>0</td>\n",
              "      <td>0</td>\n",
              "      <td>0</td>\n",
              "      <td>0</td>\n",
              "    </tr>\n",
              "    <tr>\n",
              "      <th>2</th>\n",
              "      <td>9</td>\n",
              "      <td>9</td>\n",
              "      <td>ENT Specialist</td>\n",
              "      <td>300</td>\n",
              "      <td>Bangalore</td>\n",
              "      <td>1</td>\n",
              "      <td>0</td>\n",
              "      <td>0</td>\n",
              "      <td>0</td>\n",
              "      <td>0</td>\n",
              "      <td>0</td>\n",
              "      <td>0</td>\n",
              "      <td>0</td>\n",
              "      <td>0</td>\n",
              "      <td>0</td>\n",
              "    </tr>\n",
              "    <tr>\n",
              "      <th>3</th>\n",
              "      <td>12</td>\n",
              "      <td>9</td>\n",
              "      <td>Ayurveda</td>\n",
              "      <td>250</td>\n",
              "      <td>Bangalore</td>\n",
              "      <td>0</td>\n",
              "      <td>0</td>\n",
              "      <td>1</td>\n",
              "      <td>0</td>\n",
              "      <td>0</td>\n",
              "      <td>0</td>\n",
              "      <td>0</td>\n",
              "      <td>0</td>\n",
              "      <td>0</td>\n",
              "      <td>0</td>\n",
              "    </tr>\n",
              "    <tr>\n",
              "      <th>4</th>\n",
              "      <td>20</td>\n",
              "      <td>9</td>\n",
              "      <td>Ayurveda</td>\n",
              "      <td>250</td>\n",
              "      <td>Chennai</td>\n",
              "      <td>0</td>\n",
              "      <td>0</td>\n",
              "      <td>1</td>\n",
              "      <td>0</td>\n",
              "      <td>0</td>\n",
              "      <td>0</td>\n",
              "      <td>0</td>\n",
              "      <td>0</td>\n",
              "      <td>0</td>\n",
              "      <td>0</td>\n",
              "    </tr>\n",
              "  </tbody>\n",
              "</table>\n",
              "</div>"
            ],
            "text/plain": [
              "   Experience Rating  ... Diploma in Otorhinolaryngology (DLO)  MD - Homeopathy\n",
              "0          24      9  ...                                    0                1\n",
              "1          12      9  ...                                    0                0\n",
              "2           9      9  ...                                    0                0\n",
              "3          12      9  ...                                    0                0\n",
              "4          20      9  ...                                    0                0\n",
              "\n",
              "[5 rows x 15 columns]"
            ]
          },
          "metadata": {
            "tags": []
          },
          "execution_count": 269
        }
      ]
    },
    {
      "cell_type": "markdown",
      "metadata": {
        "id": "O5Bc_FGhMMd1"
      },
      "source": [
        "## Bivariate Analysis"
      ]
    },
    {
      "cell_type": "code",
      "metadata": {
        "colab": {
          "base_uri": "https://localhost:8080/",
          "height": 572
        },
        "id": "1zfCRFubMFmN",
        "outputId": "4ed50321-3400-4f47-e453-cdabefd9ee45"
      },
      "source": [
        "plt.figure(figsize=(8,8))\n",
        "sns.barplot(x='Profile',y='Fees',data=df)\n",
        "plt.title(\"Doctor Fees wrt Profile\")\n",
        "plt.xticks(rotation=45)\n",
        "plt.show()"
      ],
      "execution_count": 270,
      "outputs": [
        {
          "output_type": "display_data",
          "data": {
            "image/png": "[encoded data removed]",
            "text/plain": [
              "<Figure size 576x576 with 1 Axes>"
            ]
          },
          "metadata": {
            "tags": [],
            "needs_background": "light"
          }
        }
      ]
    },
    {
      "cell_type": "markdown",
      "metadata": {
        "id": "b-MNlxz2MT3V"
      },
      "source": [
        "\n",
        "**Observations :-**\n",
        "\n",
        "1) Highest Fees is taken by Dermatologists and ENT Specialist.\n",
        "\n",
        "2) Lowest Fees is taken by Ayurveda and Dentist.\n",
        "\n",
        "3) Doctors of Homeopath and General Medicine Profiles take almost equal fees around 300."
      ]
    },
    {
      "cell_type": "code",
      "metadata": {
        "colab": {
          "base_uri": "https://localhost:8080/",
          "height": 583
        },
        "id": "HIZasYQRMP0m",
        "outputId": "c07334df-92d3-4335-9934-f2473d98b221"
      },
      "source": [
        "plt.figure(figsize=(10,8))\n",
        "sns.barplot(x='city',y='Fees',data=df)\n",
        "plt.title(\"Doctor Fees rate in different city\")\n",
        "plt.xticks(rotation=45)\n",
        "plt.show()"
      ],
      "execution_count": 271,
      "outputs": [
        {
          "output_type": "display_data",
          "data": {
            "image/png": "[encoded data removed]",
            "text/plain": [
              "<Figure size 720x576 with 1 Axes>"
            ]
          },
          "metadata": {
            "tags": [],
            "needs_background": "light"
          }
        }
      ]
    },
    {
      "cell_type": "markdown",
      "metadata": {
        "id": "0gaNTHZjMlia"
      },
      "source": [
        "**Observations :-**\n",
        "\n",
        "1) Highest fees is taken by doctors in Delhi.\n",
        "\n",
        "2) Lowest fees is taken by doctors in Coimbatore.\n",
        "\n",
        "3) Doctors of Hyderabad and Mumbai charges equal fees."
      ]
    },
    {
      "cell_type": "code",
      "metadata": {
        "colab": {
          "base_uri": "https://localhost:8080/",
          "height": 512
        },
        "id": "Iw5B8Wp2Mfsl",
        "outputId": "e730009b-c148-4444-bfbe-97607243e1bb"
      },
      "source": [
        "plt.figure(figsize=(10,8))\n",
        "ax = sns.lineplot(x='Experience',y='Fees',data=df)\n",
        "ax.set_title(\"Experience wrt doctor Fees\")\n",
        "plt.show()"
      ],
      "execution_count": 272,
      "outputs": [
        {
          "output_type": "display_data",
          "data": {
            "image/png": "[encoded data removed]",
            "text/plain": [
              "<Figure size 720x576 with 1 Axes>"
            ]
          },
          "metadata": {
            "tags": [],
            "needs_background": "light"
          }
        }
      ]
    },
    {
      "cell_type": "markdown",
      "metadata": {
        "id": "l-jb9K7RMz3u"
      },
      "source": [
        "**Observations :-**\n",
        "\n",
        "1) Fees of the doctors approximately increase in the range of 0-15 years of experience.\n",
        "\n",
        "2) Fees of the doctors approximately remains constant in the range of 15 - 35 years of experience.\n",
        "\n",
        "3) Fees of the doctors approximately decrease in the range of 35-45 years.\n",
        "\n",
        "4) The doctors' fees become unconstant ( sometimes it increases and sometimes it decreases ) after 45 years of experience."
      ]
    },
    {
      "cell_type": "code",
      "metadata": {
        "colab": {
          "base_uri": "https://localhost:8080/",
          "height": 512
        },
        "id": "2dF7XGMEMvv6",
        "outputId": "377a8c76-9f22-46f0-a246-67355da7c5c8"
      },
      "source": [
        "plt.figure(figsize=(8,8))\n",
        "sns.barplot(x='Rating',y='Fees',data=df,palette='magma')\n",
        "plt.title(\"Rating Vs Doctor_Fees\")\n",
        "plt.show()"
      ],
      "execution_count": 273,
      "outputs": [
        {
          "output_type": "display_data",
          "data": {
            "image/png": "[encoded data removed]",
            "text/plain": [
              "<Figure size 576x576 with 1 Axes>"
            ]
          },
          "metadata": {
            "tags": [],
            "needs_background": "light"
          }
        }
      ]
    },
    {
      "cell_type": "markdown",
      "metadata": {
        "id": "hY3V5ttzNDrz"
      },
      "source": [
        "\n",
        "Observations :-\n",
        "\n",
        "As, we can see that High rating does not relate to high fees charged(infact low fees can be reason of high rating) and where fees are charged so high, there rating is between 30-60%."
      ]
    },
    {
      "cell_type": "code",
      "metadata": {
        "colab": {
          "base_uri": "https://localhost:8080/",
          "height": 497
        },
        "id": "YDzdkzeOM9ww",
        "outputId": "553d6fd9-64f3-4fb5-c299-1a248f964559"
      },
      "source": [
        "plt.figure(figsize=(8,8))\n",
        "sns.barplot(x='Rating',y='Experience',data=df,palette='magma')\n",
        "plt.show()"
      ],
      "execution_count": 274,
      "outputs": [
        {
          "output_type": "display_data",
          "data": {
            "image/png": "[encoded data removed]",
            "text/plain": [
              "<Figure size 576x576 with 1 Axes>"
            ]
          },
          "metadata": {
            "tags": [],
            "needs_background": "light"
          }
        }
      ]
    },
    {
      "cell_type": "markdown",
      "metadata": {
        "id": "A6Zp2zfQNTRc"
      },
      "source": [
        "\n",
        "Observations :-\n",
        "\n",
        "The median of experience in bin 4 & 5 is 27 and 31 years respectively. whereas in highest rating of 10th bin the median experience is 14 years."
      ]
    },
    {
      "cell_type": "markdown",
      "metadata": {
        "id": "brJh_WcpNXzp"
      },
      "source": [
        "## To check correlation"
      ]
    },
    {
      "cell_type": "code",
      "metadata": {
        "colab": {
          "base_uri": "https://localhost:8080/",
          "height": 492
        },
        "id": "PKnFb0LFNQco",
        "outputId": "b974f09e-5e48-4a0e-a231-f9a31981d49b"
      },
      "source": [
        "dfcor=df.corr()\n",
        "dfcor"
      ],
      "execution_count": 275,
      "outputs": [
        {
          "output_type": "execute_result",
          "data": {
            "text/html": [
              "<div>\n",
              "<style scoped>\n",
              "    .dataframe tbody tr th:only-of-type {\n",
              "        vertical-align: middle;\n",
              "    }\n",
              "\n",
              "    .dataframe tbody tr th {\n",
              "        vertical-align: top;\n",
              "    }\n",
              "\n",
              "    .dataframe thead th {\n",
              "        text-align: right;\n",
              "    }\n",
              "</style>\n",
              "<table border=\"1\" class=\"dataframe\">\n",
              "  <thead>\n",
              "    <tr style=\"text-align: right;\">\n",
              "      <th></th>\n",
              "      <th>Experience</th>\n",
              "      <th>Fees</th>\n",
              "      <th>MBBS</th>\n",
              "      <th>BDS</th>\n",
              "      <th>BAMS</th>\n",
              "      <th>BHMS</th>\n",
              "      <th>MD - Dermatology</th>\n",
              "      <th>MS - ENT</th>\n",
              "      <th>Venereology &amp; Leprosy</th>\n",
              "      <th>MD - General Medicine</th>\n",
              "      <th>Diploma in Otorhinolaryngology (DLO)</th>\n",
              "      <th>MD - Homeopathy</th>\n",
              "    </tr>\n",
              "  </thead>\n",
              "  <tbody>\n",
              "    <tr>\n",
              "      <th>Experience</th>\n",
              "      <td>1.000000</td>\n",
              "      <td>0.002117</td>\n",
              "      <td>0.271347</td>\n",
              "      <td>-0.196268</td>\n",
              "      <td>-0.047150</td>\n",
              "      <td>-0.114191</td>\n",
              "      <td>-0.067704</td>\n",
              "      <td>0.093778</td>\n",
              "      <td>-0.120213</td>\n",
              "      <td>0.097549</td>\n",
              "      <td>0.111103</td>\n",
              "      <td>0.008510</td>\n",
              "    </tr>\n",
              "    <tr>\n",
              "      <th>Fees</th>\n",
              "      <td>0.002117</td>\n",
              "      <td>1.000000</td>\n",
              "      <td>0.271038</td>\n",
              "      <td>-0.198635</td>\n",
              "      <td>-0.139891</td>\n",
              "      <td>-0.002423</td>\n",
              "      <td>0.163811</td>\n",
              "      <td>0.128413</td>\n",
              "      <td>0.113091</td>\n",
              "      <td>0.040921</td>\n",
              "      <td>0.011560</td>\n",
              "      <td>0.018601</td>\n",
              "    </tr>\n",
              "    <tr>\n",
              "      <th>MBBS</th>\n",
              "      <td>0.271347</td>\n",
              "      <td>0.271038</td>\n",
              "      <td>1.000000</td>\n",
              "      <td>-0.512244</td>\n",
              "      <td>-0.358911</td>\n",
              "      <td>-0.355083</td>\n",
              "      <td>0.314207</td>\n",
              "      <td>0.263449</td>\n",
              "      <td>0.213185</td>\n",
              "      <td>0.220358</td>\n",
              "      <td>0.206347</td>\n",
              "      <td>-0.164871</td>\n",
              "    </tr>\n",
              "    <tr>\n",
              "      <th>BDS</th>\n",
              "      <td>-0.196268</td>\n",
              "      <td>-0.198635</td>\n",
              "      <td>-0.512244</td>\n",
              "      <td>1.000000</td>\n",
              "      <td>-0.208341</td>\n",
              "      <td>-0.206141</td>\n",
              "      <td>-0.182900</td>\n",
              "      <td>-0.148092</td>\n",
              "      <td>-0.123730</td>\n",
              "      <td>-0.121943</td>\n",
              "      <td>-0.113622</td>\n",
              "      <td>-0.096301</td>\n",
              "    </tr>\n",
              "    <tr>\n",
              "      <th>BAMS</th>\n",
              "      <td>-0.047150</td>\n",
              "      <td>-0.139891</td>\n",
              "      <td>-0.358911</td>\n",
              "      <td>-0.208341</td>\n",
              "      <td>1.000000</td>\n",
              "      <td>-0.145019</td>\n",
              "      <td>-0.128669</td>\n",
              "      <td>-0.104182</td>\n",
              "      <td>-0.087044</td>\n",
              "      <td>-0.078722</td>\n",
              "      <td>-0.079932</td>\n",
              "      <td>-0.067747</td>\n",
              "    </tr>\n",
              "    <tr>\n",
              "      <th>BHMS</th>\n",
              "      <td>-0.114191</td>\n",
              "      <td>-0.002423</td>\n",
              "      <td>-0.355083</td>\n",
              "      <td>-0.206141</td>\n",
              "      <td>-0.145019</td>\n",
              "      <td>1.000000</td>\n",
              "      <td>-0.127311</td>\n",
              "      <td>-0.103082</td>\n",
              "      <td>-0.086124</td>\n",
              "      <td>-0.077760</td>\n",
              "      <td>-0.079088</td>\n",
              "      <td>0.349109</td>\n",
              "    </tr>\n",
              "    <tr>\n",
              "      <th>MD - Dermatology</th>\n",
              "      <td>-0.067704</td>\n",
              "      <td>0.163811</td>\n",
              "      <td>0.314207</td>\n",
              "      <td>-0.182900</td>\n",
              "      <td>-0.128669</td>\n",
              "      <td>-0.127311</td>\n",
              "      <td>1.000000</td>\n",
              "      <td>-0.091460</td>\n",
              "      <td>0.637946</td>\n",
              "      <td>-0.075311</td>\n",
              "      <td>-0.064618</td>\n",
              "      <td>-0.059475</td>\n",
              "    </tr>\n",
              "    <tr>\n",
              "      <th>MS - ENT</th>\n",
              "      <td>0.093778</td>\n",
              "      <td>0.128413</td>\n",
              "      <td>0.263449</td>\n",
              "      <td>-0.148092</td>\n",
              "      <td>-0.104182</td>\n",
              "      <td>-0.103082</td>\n",
              "      <td>-0.091460</td>\n",
              "      <td>1.000000</td>\n",
              "      <td>-0.061872</td>\n",
              "      <td>-0.060978</td>\n",
              "      <td>0.168226</td>\n",
              "      <td>-0.048156</td>\n",
              "    </tr>\n",
              "    <tr>\n",
              "      <th>Venereology &amp; Leprosy</th>\n",
              "      <td>-0.120213</td>\n",
              "      <td>0.113091</td>\n",
              "      <td>0.213185</td>\n",
              "      <td>-0.123730</td>\n",
              "      <td>-0.087044</td>\n",
              "      <td>-0.086124</td>\n",
              "      <td>0.637946</td>\n",
              "      <td>-0.061872</td>\n",
              "      <td>1.000000</td>\n",
              "      <td>-0.050947</td>\n",
              "      <td>-0.039713</td>\n",
              "      <td>-0.040234</td>\n",
              "    </tr>\n",
              "    <tr>\n",
              "      <th>MD - General Medicine</th>\n",
              "      <td>0.097549</td>\n",
              "      <td>0.040921</td>\n",
              "      <td>0.220358</td>\n",
              "      <td>-0.121943</td>\n",
              "      <td>-0.078722</td>\n",
              "      <td>-0.077760</td>\n",
              "      <td>-0.075311</td>\n",
              "      <td>-0.060978</td>\n",
              "      <td>-0.050947</td>\n",
              "      <td>1.000000</td>\n",
              "      <td>-0.046785</td>\n",
              "      <td>-0.039653</td>\n",
              "    </tr>\n",
              "    <tr>\n",
              "      <th>Diploma in Otorhinolaryngology (DLO)</th>\n",
              "      <td>0.111103</td>\n",
              "      <td>0.011560</td>\n",
              "      <td>0.206347</td>\n",
              "      <td>-0.113622</td>\n",
              "      <td>-0.079932</td>\n",
              "      <td>-0.079088</td>\n",
              "      <td>-0.064618</td>\n",
              "      <td>0.168226</td>\n",
              "      <td>-0.039713</td>\n",
              "      <td>-0.046785</td>\n",
              "      <td>1.000000</td>\n",
              "      <td>-0.036947</td>\n",
              "    </tr>\n",
              "    <tr>\n",
              "      <th>MD - Homeopathy</th>\n",
              "      <td>0.008510</td>\n",
              "      <td>0.018601</td>\n",
              "      <td>-0.164871</td>\n",
              "      <td>-0.096301</td>\n",
              "      <td>-0.067747</td>\n",
              "      <td>0.349109</td>\n",
              "      <td>-0.059475</td>\n",
              "      <td>-0.048156</td>\n",
              "      <td>-0.040234</td>\n",
              "      <td>-0.039653</td>\n",
              "      <td>-0.036947</td>\n",
              "      <td>1.000000</td>\n",
              "    </tr>\n",
              "  </tbody>\n",
              "</table>\n",
              "</div>"
            ],
            "text/plain": [
              "                                      Experience  ...  MD - Homeopathy\n",
              "Experience                              1.000000  ...         0.008510\n",
              "Fees                                    0.002117  ...         0.018601\n",
              "MBBS                                    0.271347  ...        -0.164871\n",
              "BDS                                    -0.196268  ...        -0.096301\n",
              "BAMS                                   -0.047150  ...        -0.067747\n",
              "BHMS                                   -0.114191  ...         0.349109\n",
              "MD - Dermatology                       -0.067704  ...        -0.059475\n",
              "MS - ENT                                0.093778  ...        -0.048156\n",
              "Venereology & Leprosy                  -0.120213  ...        -0.040234\n",
              "MD - General Medicine                   0.097549  ...        -0.039653\n",
              "Diploma in Otorhinolaryngology (DLO)    0.111103  ...        -0.036947\n",
              "MD - Homeopathy                         0.008510  ...         1.000000\n",
              "\n",
              "[12 rows x 12 columns]"
            ]
          },
          "metadata": {
            "tags": []
          },
          "execution_count": 275
        }
      ]
    },
    {
      "cell_type": "markdown",
      "metadata": {
        "id": "rPYmEftFNjh3"
      },
      "source": [
        "## Multivariate Analysis"
      ]
    },
    {
      "cell_type": "code",
      "metadata": {
        "colab": {
          "base_uri": "https://localhost:8080/",
          "height": 683
        },
        "id": "oCgcChBGNboR",
        "outputId": "9a78390a-1aef-4147-d23f-b19a8c4097cd"
      },
      "source": [
        "plt.figure(figsize=(10,8))\n",
        "sns.heatmap(dfcor,cmap='YlOrRd_r',annot=True)"
      ],
      "execution_count": 276,
      "outputs": [
        {
          "output_type": "execute_result",
          "data": {
            "text/plain": [
              "<matplotlib.axes._subplots.AxesSubplot at 0x7fe2035fc6d0>"
            ]
          },
          "metadata": {
            "tags": []
          },
          "execution_count": 276
        },
        {
          "output_type": "display_data",
          "data": {
            "image/png": "[encoded data removed]",
            "text/plain": [
              "<Figure size 720x576 with 2 Axes>"
            ]
          },
          "metadata": {
            "tags": [],
            "needs_background": "light"
          }
        }
      ]
    },
    {
      "cell_type": "markdown",
      "metadata": {
        "id": "4rfwwX3sNq-n"
      },
      "source": [
        "\n",
        "**Observations :-**\n",
        "\n",
        "1) Fees is highly positively correlated to MBBS.\n",
        "\n",
        "2) MBBS is highly negatively correlated to BDS.\n",
        "\n",
        "3) BDS is highly positively correlated to MD-homeopathy.\n",
        "\n",
        "4) BDS is highly negatively correlated to fees."
      ]
    },
    {
      "cell_type": "markdown",
      "metadata": {
        "id": "LJogBDq6N1VV"
      },
      "source": [
        "\n",
        "## Encoding"
      ]
    },
    {
      "cell_type": "code",
      "metadata": {
        "id": "Ub5LAjq0Nn0S"
      },
      "source": [
        "df = pd.get_dummies(df,columns=['city','Profile'], prefix=['city','Profile'])"
      ],
      "execution_count": 277,
      "outputs": []
    },
    {
      "cell_type": "code",
      "metadata": {
        "colab": {
          "base_uri": "https://localhost:8080/",
          "height": 252
        },
        "id": "to8l5KKyN4og",
        "outputId": "b0053756-cf55-44f8-c4c5-d48378424db6"
      },
      "source": [
        "df.head()"
      ],
      "execution_count": 278,
      "outputs": [
        {
          "output_type": "execute_result",
          "data": {
            "text/html": [
              "<div>\n",
              "<style scoped>\n",
              "    .dataframe tbody tr th:only-of-type {\n",
              "        vertical-align: middle;\n",
              "    }\n",
              "\n",
              "    .dataframe tbody tr th {\n",
              "        vertical-align: top;\n",
              "    }\n",
              "\n",
              "    .dataframe thead th {\n",
              "        text-align: right;\n",
              "    }\n",
              "</style>\n",
              "<table border=\"1\" class=\"dataframe\">\n",
              "  <thead>\n",
              "    <tr style=\"text-align: right;\">\n",
              "      <th></th>\n",
              "      <th>Experience</th>\n",
              "      <th>Rating</th>\n",
              "      <th>Fees</th>\n",
              "      <th>MBBS</th>\n",
              "      <th>BDS</th>\n",
              "      <th>BAMS</th>\n",
              "      <th>BHMS</th>\n",
              "      <th>MD - Dermatology</th>\n",
              "      <th>MS - ENT</th>\n",
              "      <th>Venereology &amp; Leprosy</th>\n",
              "      <th>MD - General Medicine</th>\n",
              "      <th>Diploma in Otorhinolaryngology (DLO)</th>\n",
              "      <th>MD - Homeopathy</th>\n",
              "      <th>city_Bangalore</th>\n",
              "      <th>city_Chennai</th>\n",
              "      <th>city_Coimbatore</th>\n",
              "      <th>city_Delhi</th>\n",
              "      <th>city_Ernakulam</th>\n",
              "      <th>city_Hyderabad</th>\n",
              "      <th>city_Mumbai</th>\n",
              "      <th>city_Thiruvananthapuram</th>\n",
              "      <th>city_nan</th>\n",
              "      <th>Profile_Ayurveda</th>\n",
              "      <th>Profile_Dentist</th>\n",
              "      <th>Profile_Dermatologists</th>\n",
              "      <th>Profile_ENT Specialist</th>\n",
              "      <th>Profile_General Medicine</th>\n",
              "      <th>Profile_Homeopath</th>\n",
              "    </tr>\n",
              "  </thead>\n",
              "  <tbody>\n",
              "    <tr>\n",
              "      <th>0</th>\n",
              "      <td>24</td>\n",
              "      <td>9</td>\n",
              "      <td>100</td>\n",
              "      <td>0</td>\n",
              "      <td>0</td>\n",
              "      <td>0</td>\n",
              "      <td>1</td>\n",
              "      <td>0</td>\n",
              "      <td>0</td>\n",
              "      <td>0</td>\n",
              "      <td>0</td>\n",
              "      <td>0</td>\n",
              "      <td>1</td>\n",
              "      <td>0</td>\n",
              "      <td>0</td>\n",
              "      <td>0</td>\n",
              "      <td>0</td>\n",
              "      <td>1</td>\n",
              "      <td>0</td>\n",
              "      <td>0</td>\n",
              "      <td>0</td>\n",
              "      <td>0</td>\n",
              "      <td>0</td>\n",
              "      <td>0</td>\n",
              "      <td>0</td>\n",
              "      <td>0</td>\n",
              "      <td>0</td>\n",
              "      <td>1</td>\n",
              "    </tr>\n",
              "    <tr>\n",
              "      <th>1</th>\n",
              "      <td>12</td>\n",
              "      <td>9</td>\n",
              "      <td>350</td>\n",
              "      <td>0</td>\n",
              "      <td>0</td>\n",
              "      <td>1</td>\n",
              "      <td>0</td>\n",
              "      <td>0</td>\n",
              "      <td>0</td>\n",
              "      <td>0</td>\n",
              "      <td>0</td>\n",
              "      <td>0</td>\n",
              "      <td>0</td>\n",
              "      <td>1</td>\n",
              "      <td>0</td>\n",
              "      <td>0</td>\n",
              "      <td>0</td>\n",
              "      <td>0</td>\n",
              "      <td>0</td>\n",
              "      <td>0</td>\n",
              "      <td>0</td>\n",
              "      <td>0</td>\n",
              "      <td>1</td>\n",
              "      <td>0</td>\n",
              "      <td>0</td>\n",
              "      <td>0</td>\n",
              "      <td>0</td>\n",
              "      <td>0</td>\n",
              "    </tr>\n",
              "    <tr>\n",
              "      <th>2</th>\n",
              "      <td>9</td>\n",
              "      <td>9</td>\n",
              "      <td>300</td>\n",
              "      <td>1</td>\n",
              "      <td>0</td>\n",
              "      <td>0</td>\n",
              "      <td>0</td>\n",
              "      <td>0</td>\n",
              "      <td>0</td>\n",
              "      <td>0</td>\n",
              "      <td>0</td>\n",
              "      <td>0</td>\n",
              "      <td>0</td>\n",
              "      <td>1</td>\n",
              "      <td>0</td>\n",
              "      <td>0</td>\n",
              "      <td>0</td>\n",
              "      <td>0</td>\n",
              "      <td>0</td>\n",
              "      <td>0</td>\n",
              "      <td>0</td>\n",
              "      <td>0</td>\n",
              "      <td>0</td>\n",
              "      <td>0</td>\n",
              "      <td>0</td>\n",
              "      <td>1</td>\n",
              "      <td>0</td>\n",
              "      <td>0</td>\n",
              "    </tr>\n",
              "    <tr>\n",
              "      <th>3</th>\n",
              "      <td>12</td>\n",
              "      <td>9</td>\n",
              "      <td>250</td>\n",
              "      <td>0</td>\n",
              "      <td>0</td>\n",
              "      <td>1</td>\n",
              "      <td>0</td>\n",
              "      <td>0</td>\n",
              "      <td>0</td>\n",
              "      <td>0</td>\n",
              "      <td>0</td>\n",
              "      <td>0</td>\n",
              "      <td>0</td>\n",
              "      <td>1</td>\n",
              "      <td>0</td>\n",
              "      <td>0</td>\n",
              "      <td>0</td>\n",
              "      <td>0</td>\n",
              "      <td>0</td>\n",
              "      <td>0</td>\n",
              "      <td>0</td>\n",
              "      <td>0</td>\n",
              "      <td>1</td>\n",
              "      <td>0</td>\n",
              "      <td>0</td>\n",
              "      <td>0</td>\n",
              "      <td>0</td>\n",
              "      <td>0</td>\n",
              "    </tr>\n",
              "    <tr>\n",
              "      <th>4</th>\n",
              "      <td>20</td>\n",
              "      <td>9</td>\n",
              "      <td>250</td>\n",
              "      <td>0</td>\n",
              "      <td>0</td>\n",
              "      <td>1</td>\n",
              "      <td>0</td>\n",
              "      <td>0</td>\n",
              "      <td>0</td>\n",
              "      <td>0</td>\n",
              "      <td>0</td>\n",
              "      <td>0</td>\n",
              "      <td>0</td>\n",
              "      <td>0</td>\n",
              "      <td>1</td>\n",
              "      <td>0</td>\n",
              "      <td>0</td>\n",
              "      <td>0</td>\n",
              "      <td>0</td>\n",
              "      <td>0</td>\n",
              "      <td>0</td>\n",
              "      <td>0</td>\n",
              "      <td>1</td>\n",
              "      <td>0</td>\n",
              "      <td>0</td>\n",
              "      <td>0</td>\n",
              "      <td>0</td>\n",
              "      <td>0</td>\n",
              "    </tr>\n",
              "  </tbody>\n",
              "</table>\n",
              "</div>"
            ],
            "text/plain": [
              "   Experience Rating  ...  Profile_General Medicine  Profile_Homeopath\n",
              "0          24      9  ...                         0                  1\n",
              "1          12      9  ...                         0                  0\n",
              "2           9      9  ...                         0                  0\n",
              "3          12      9  ...                         0                  0\n",
              "4          20      9  ...                         0                  0\n",
              "\n",
              "[5 rows x 28 columns]"
            ]
          },
          "metadata": {
            "tags": []
          },
          "execution_count": 278
        }
      ]
    },
    {
      "cell_type": "markdown",
      "metadata": {
        "id": "tR7WCK6jOEDL"
      },
      "source": [
        "\n",
        "## Plotting Outliers"
      ]
    },
    {
      "cell_type": "code",
      "metadata": {
        "colab": {
          "base_uri": "https://localhost:8080/",
          "height": 1000
        },
        "id": "mXOsryB0N8i0",
        "outputId": "7aaf74f0-f79d-43e0-82a8-a65bd9b2a2d1"
      },
      "source": [
        "df.plot(kind='box',subplots=True,layout=(7,4),sharex=False,fontsize=1,figsize=(18,12))"
      ],
      "execution_count": 279,
      "outputs": [
        {
          "output_type": "execute_result",
          "data": {
            "text/plain": [
              "Experience                                 AxesSubplot(0.125,0.787927;0.168478x0.0920732)\n",
              "Fees                                    AxesSubplot(0.327174,0.787927;0.168478x0.0920732)\n",
              "MBBS                                    AxesSubplot(0.529348,0.787927;0.168478x0.0920732)\n",
              "BDS                                     AxesSubplot(0.731522,0.787927;0.168478x0.0920732)\n",
              "BAMS                                       AxesSubplot(0.125,0.677439;0.168478x0.0920732)\n",
              "BHMS                                    AxesSubplot(0.327174,0.677439;0.168478x0.0920732)\n",
              "MD - Dermatology                        AxesSubplot(0.529348,0.677439;0.168478x0.0920732)\n",
              "MS - ENT                                AxesSubplot(0.731522,0.677439;0.168478x0.0920732)\n",
              "Venereology & Leprosy                      AxesSubplot(0.125,0.566951;0.168478x0.0920732)\n",
              "MD - General Medicine                   AxesSubplot(0.327174,0.566951;0.168478x0.0920732)\n",
              "Diploma in Otorhinolaryngology (DLO)    AxesSubplot(0.529348,0.566951;0.168478x0.0920732)\n",
              "MD - Homeopathy                         AxesSubplot(0.731522,0.566951;0.168478x0.0920732)\n",
              "city_Bangalore                             AxesSubplot(0.125,0.456463;0.168478x0.0920732)\n",
              "city_Chennai                            AxesSubplot(0.327174,0.456463;0.168478x0.0920732)\n",
              "city_Coimbatore                         AxesSubplot(0.529348,0.456463;0.168478x0.0920732)\n",
              "city_Delhi                              AxesSubplot(0.731522,0.456463;0.168478x0.0920732)\n",
              "city_Ernakulam                             AxesSubplot(0.125,0.345976;0.168478x0.0920732)\n",
              "city_Hyderabad                          AxesSubplot(0.327174,0.345976;0.168478x0.0920732)\n",
              "city_Mumbai                             AxesSubplot(0.529348,0.345976;0.168478x0.0920732)\n",
              "city_Thiruvananthapuram                 AxesSubplot(0.731522,0.345976;0.168478x0.0920732)\n",
              "city_nan                                   AxesSubplot(0.125,0.235488;0.168478x0.0920732)\n",
              "Profile_Ayurveda                        AxesSubplot(0.327174,0.235488;0.168478x0.0920732)\n",
              "Profile_Dentist                         AxesSubplot(0.529348,0.235488;0.168478x0.0920732)\n",
              "Profile_Dermatologists                  AxesSubplot(0.731522,0.235488;0.168478x0.0920732)\n",
              "Profile_ENT Specialist                        AxesSubplot(0.125,0.125;0.168478x0.0920732)\n",
              "Profile_General Medicine                   AxesSubplot(0.327174,0.125;0.168478x0.0920732)\n",
              "Profile_Homeopath                          AxesSubplot(0.529348,0.125;0.168478x0.0920732)\n",
              "dtype: object"
            ]
          },
          "metadata": {
            "tags": []
          },
          "execution_count": 279
        },
        {
          "output_type": "display_data",
          "data": {
            "image/png": "[encoded data removed]",
            "text/plain": [
              "<Figure size 1296x864 with 28 Axes>"
            ]
          },
          "metadata": {
            "tags": [],
            "needs_background": "light"
          }
        }
      ]
    },
    {
      "cell_type": "markdown",
      "metadata": {
        "id": "OC4nFZ9nOLQE"
      },
      "source": [
        "Observations :-\n",
        "\n",
        "All columns have outliers except Fees and MBBS columns."
      ]
    },
    {
      "cell_type": "markdown",
      "metadata": {
        "id": "JbVJrMyBPADB"
      },
      "source": [
        "\n",
        "## Removing Outliers"
      ]
    },
    {
      "cell_type": "code",
      "metadata": {
        "colab": {
          "base_uri": "https://localhost:8080/"
        },
        "id": "OQ5pyg5bOv1l",
        "outputId": "11b5552f-f640-4cd2-de32-846cd8eaeb9f"
      },
      "source": [
        "from scipy.stats import zscore\n",
        "z=np.abs(zscore(df))\n",
        "z"
      ],
      "execution_count": 280,
      "outputs": [
        {
          "output_type": "execute_result",
          "data": {
            "text/plain": [
              "array([[0.60097885, 0.23410883, 1.08926083, ..., 0.3729841 , 0.49496209,\n",
              "        2.46397532],\n",
              "       [0.47604029, 0.23410883, 0.22029544, ..., 0.3729841 , 0.49496209,\n",
              "        0.40584822],\n",
              "       [0.74529508, 0.23410883, 0.04161581, ..., 2.68107941, 0.49496209,\n",
              "        0.40584822],\n",
              "       ...,\n",
              "       [2.12675597, 0.23410883, 1.52985171, ..., 0.3729841 , 2.02035676,\n",
              "        0.40584822],\n",
              "       [0.20678551, 1.77095257, 1.08926083, ..., 0.3729841 , 2.02035676,\n",
              "        0.40584822],\n",
              "       [0.02728232, 0.23410883, 0.56543832, ..., 0.3729841 , 0.49496209,\n",
              "        0.40584822]])"
            ]
          },
          "metadata": {
            "tags": []
          },
          "execution_count": 280
        }
      ]
    },
    {
      "cell_type": "code",
      "metadata": {
        "id": "6nZWvRVMPDnQ"
      },
      "source": [
        "threshold=3\n",
        "df_new=df[(z<3).all(axis=1)]"
      ],
      "execution_count": 281,
      "outputs": []
    },
    {
      "cell_type": "code",
      "metadata": {
        "colab": {
          "base_uri": "https://localhost:8080/"
        },
        "id": "GY1_eM_CPHGo",
        "outputId": "d993b57a-a17f-467a-b7fe-e6eb587c23d7"
      },
      "source": [
        "df_new.shape"
      ],
      "execution_count": 282,
      "outputs": [
        {
          "output_type": "execute_result",
          "data": {
            "text/plain": [
              "(4097, 28)"
            ]
          },
          "metadata": {
            "tags": []
          },
          "execution_count": 282
        }
      ]
    },
    {
      "cell_type": "code",
      "metadata": {
        "colab": {
          "base_uri": "https://localhost:8080/"
        },
        "id": "6uATiogKPJGr",
        "outputId": "3a421674-0b92-4829-80bc-633643cb227a"
      },
      "source": [
        "df.shape"
      ],
      "execution_count": 283,
      "outputs": [
        {
          "output_type": "execute_result",
          "data": {
            "text/plain": [
              "(5961, 28)"
            ]
          },
          "metadata": {
            "tags": []
          },
          "execution_count": 283
        }
      ]
    },
    {
      "cell_type": "code",
      "metadata": {
        "colab": {
          "base_uri": "https://localhost:8080/"
        },
        "id": "uLFVjN_SPLcd",
        "outputId": "e415e94a-8def-4a1a-c9ec-e6f04387ac80"
      },
      "source": [
        "((5961-4097)/5961)*100"
      ],
      "execution_count": 284,
      "outputs": [
        {
          "output_type": "execute_result",
          "data": {
            "text/plain": [
              "31.269921154168763"
            ]
          },
          "metadata": {
            "tags": []
          },
          "execution_count": 284
        }
      ]
    },
    {
      "cell_type": "markdown",
      "metadata": {
        "id": "G2sQm9KvPQb1"
      },
      "source": [
        "31.26 % of data has removed using z-score method."
      ]
    },
    {
      "cell_type": "code",
      "metadata": {
        "colab": {
          "base_uri": "https://localhost:8080/"
        },
        "id": "ESwb0BGZPsQO",
        "outputId": "d6e46fea-6ae0-4baa-de07-55e3114f6976"
      },
      "source": [
        "df.columns"
      ],
      "execution_count": 285,
      "outputs": [
        {
          "output_type": "execute_result",
          "data": {
            "text/plain": [
              "Index(['Experience', 'Rating', 'Fees', 'MBBS', 'BDS', 'BAMS', 'BHMS',\n",
              "       'MD - Dermatology', 'MS - ENT', 'Venereology & Leprosy',\n",
              "       'MD - General Medicine', 'Diploma in Otorhinolaryngology (DLO)',\n",
              "       'MD - Homeopathy', 'city_Bangalore', 'city_Chennai', 'city_Coimbatore',\n",
              "       'city_Delhi', 'city_Ernakulam', 'city_Hyderabad', 'city_Mumbai',\n",
              "       'city_Thiruvananthapuram', 'city_nan', 'Profile_Ayurveda',\n",
              "       'Profile_Dentist', 'Profile_Dermatologists', 'Profile_ENT Specialist',\n",
              "       'Profile_General Medicine', 'Profile_Homeopath'],\n",
              "      dtype='object')"
            ]
          },
          "metadata": {
            "tags": []
          },
          "execution_count": 285
        }
      ]
    },
    {
      "cell_type": "code",
      "metadata": {
        "id": "IFPy0LO1QTjH"
      },
      "source": [
        "df=df_new"
      ],
      "execution_count": 286,
      "outputs": []
    },
    {
      "cell_type": "code",
      "metadata": {
        "colab": {
          "base_uri": "https://localhost:8080/"
        },
        "id": "FwD9jpI7QV3Q",
        "outputId": "33f0fb98-ea5a-4c1f-a241-3cee573b02fd"
      },
      "source": [
        "df.shape"
      ],
      "execution_count": 287,
      "outputs": [
        {
          "output_type": "execute_result",
          "data": {
            "text/plain": [
              "(4097, 28)"
            ]
          },
          "metadata": {
            "tags": []
          },
          "execution_count": 287
        }
      ]
    },
    {
      "cell_type": "markdown",
      "metadata": {
        "id": "Mu7m0oISQcRq"
      },
      "source": [
        "# To Check Skewness"
      ]
    },
    {
      "cell_type": "code",
      "metadata": {
        "colab": {
          "base_uri": "https://localhost:8080/"
        },
        "id": "ieE3LUzPQYfS",
        "outputId": "82dc149b-7e62-4884-c09d-9ded4e2eb48e"
      },
      "source": [
        "df.skew()"
      ],
      "execution_count": 288,
      "outputs": [
        {
          "output_type": "execute_result",
          "data": {
            "text/plain": [
              "Experience                              0.956205\n",
              "Fees                                    0.727408\n",
              "MBBS                                    0.558197\n",
              "BDS                                     1.039569\n",
              "BAMS                                    1.689173\n",
              "BHMS                                    2.042803\n",
              "MD - Dermatology                        3.334022\n",
              "MS - ENT                                0.000000\n",
              "Venereology & Leprosy                   0.000000\n",
              "MD - General Medicine                   0.000000\n",
              "Diploma in Otorhinolaryngology (DLO)    0.000000\n",
              "MD - Homeopathy                         0.000000\n",
              "city_Bangalore                          1.259772\n",
              "city_Chennai                            1.954556\n",
              "city_Coimbatore                         0.000000\n",
              "city_Delhi                              1.436061\n",
              "city_Ernakulam                          0.000000\n",
              "city_Hyderabad                          1.740490\n",
              "city_Mumbai                             1.246934\n",
              "city_Thiruvananthapuram                 0.000000\n",
              "city_nan                                0.000000\n",
              "Profile_Ayurveda                        1.639731\n",
              "Profile_Dentist                         1.002255\n",
              "Profile_Dermatologists                  1.805725\n",
              "Profile_ENT Specialist                  4.973733\n",
              "Profile_General Medicine                1.631313\n",
              "Profile_Homeopath                       1.899663\n",
              "dtype: float64"
            ]
          },
          "metadata": {
            "tags": []
          },
          "execution_count": 288
        }
      ]
    },
    {
      "cell_type": "code",
      "metadata": {
        "id": "H_pvhlSnQi1J"
      },
      "source": [
        "df_list=['Experience',    'BDS', 'BAMS', 'BHMS',\n",
        "       'MD - Dermatology', 'city_Bangalore', 'city_Chennai', \n",
        "       'city_Delhi',  'city_Hyderabad', 'city_Mumbai',\n",
        "       'Profile_Ayurveda',\n",
        "       'Profile_Dentist', 'Profile_Dermatologists', 'Profile_ENT Specialist',\n",
        "       'Profile_General Medicine', 'Profile_Homeopath']\n",
        "for val in df_list:\n",
        "    if df.skew().loc[val]>0.55:\n",
        "        df[val]=np.sqrt(df[val])"
      ],
      "execution_count": 289,
      "outputs": []
    },
    {
      "cell_type": "code",
      "metadata": {
        "colab": {
          "base_uri": "https://localhost:8080/"
        },
        "id": "Qp4WuzPxQlb3",
        "outputId": "ab4dc5d0-4f94-4f69-aaef-56d9b1aeff30"
      },
      "source": [
        "df.skew()"
      ],
      "execution_count": 290,
      "outputs": [
        {
          "output_type": "execute_result",
          "data": {
            "text/plain": [
              "Experience                              0.037297\n",
              "Fees                                    0.727408\n",
              "MBBS                                    0.558197\n",
              "BDS                                     1.039569\n",
              "BAMS                                    1.689173\n",
              "BHMS                                    2.042803\n",
              "MD - Dermatology                        3.334022\n",
              "MS - ENT                                0.000000\n",
              "Venereology & Leprosy                   0.000000\n",
              "MD - General Medicine                   0.000000\n",
              "Diploma in Otorhinolaryngology (DLO)    0.000000\n",
              "MD - Homeopathy                         0.000000\n",
              "city_Bangalore                          1.258789\n",
              "city_Chennai                            1.954102\n",
              "city_Coimbatore                         0.000000\n",
              "city_Delhi                              1.435547\n",
              "city_Ernakulam                          0.000000\n",
              "city_Hyderabad                          1.740234\n",
              "city_Mumbai                             1.246094\n",
              "city_Thiruvananthapuram                 0.000000\n",
              "city_nan                                0.000000\n",
              "Profile_Ayurveda                        1.639648\n",
              "Profile_Dentist                         1.001953\n",
              "Profile_Dermatologists                  1.805664\n",
              "Profile_ENT Specialist                  4.972656\n",
              "Profile_General Medicine                1.630859\n",
              "Profile_Homeopath                       1.899414\n",
              "dtype: float64"
            ]
          },
          "metadata": {
            "tags": []
          },
          "execution_count": 290
        }
      ]
    },
    {
      "cell_type": "code",
      "metadata": {
        "colab": {
          "base_uri": "https://localhost:8080/"
        },
        "id": "Hl4WTumCQoA7",
        "outputId": "db61781f-9020-49d9-9331-e5f5b9e65d1e"
      },
      "source": [
        "df.columns"
      ],
      "execution_count": 291,
      "outputs": [
        {
          "output_type": "execute_result",
          "data": {
            "text/plain": [
              "Index(['Experience', 'Rating', 'Fees', 'MBBS', 'BDS', 'BAMS', 'BHMS',\n",
              "       'MD - Dermatology', 'MS - ENT', 'Venereology & Leprosy',\n",
              "       'MD - General Medicine', 'Diploma in Otorhinolaryngology (DLO)',\n",
              "       'MD - Homeopathy', 'city_Bangalore', 'city_Chennai', 'city_Coimbatore',\n",
              "       'city_Delhi', 'city_Ernakulam', 'city_Hyderabad', 'city_Mumbai',\n",
              "       'city_Thiruvananthapuram', 'city_nan', 'Profile_Ayurveda',\n",
              "       'Profile_Dentist', 'Profile_Dermatologists', 'Profile_ENT Specialist',\n",
              "       'Profile_General Medicine', 'Profile_Homeopath'],\n",
              "      dtype='object')"
            ]
          },
          "metadata": {
            "tags": []
          },
          "execution_count": 291
        }
      ]
    },
    {
      "cell_type": "markdown",
      "metadata": {
        "id": "a8_4ZuX_Qtz4"
      },
      "source": [
        "\n",
        "## Train Test Split"
      ]
    },
    {
      "cell_type": "code",
      "metadata": {
        "id": "aYz-T6wbQrQQ"
      },
      "source": [
        "x=df[['Experience', 'Rating', 'MBBS', 'BDS', 'BAMS', 'BHMS',\n",
        "       'MD - Dermatology', 'MS - ENT', 'Venereology & Leprosy',\n",
        "       'MD - General Medicine', 'Diploma in Otorhinolaryngology (DLO)',\n",
        "       'MD - Homeopathy', 'city_Bangalore', 'city_Chennai', 'city_Coimbatore',\n",
        "       'city_Delhi', 'city_Ernakulam', 'city_Hyderabad', 'city_Mumbai',\n",
        "       'city_Thiruvananthapuram', 'city_nan', 'Profile_Ayurveda',\n",
        "       'Profile_Dentist', 'Profile_Dermatologists', 'Profile_ENT Specialist',\n",
        "       'Profile_General Medicine', 'Profile_Homeopath']]\n",
        "\n",
        "y=df['Fees']"
      ],
      "execution_count": 292,
      "outputs": []
    },
    {
      "cell_type": "markdown",
      "metadata": {
        "id": "U8Dw1uK6Qzok"
      },
      "source": [
        "\n",
        "## Scaling of Data"
      ]
    },
    {
      "cell_type": "code",
      "metadata": {
        "id": "KBAAObqfQw3F"
      },
      "source": [
        "from sklearn.preprocessing import StandardScaler\n",
        "sc=StandardScaler()\n",
        "x=sc.fit_transform(x)"
      ],
      "execution_count": 293,
      "outputs": []
    },
    {
      "cell_type": "code",
      "metadata": {
        "id": "VDBz6hE4Q2kb"
      },
      "source": [
        "x=pd.DataFrame(x)"
      ],
      "execution_count": 294,
      "outputs": []
    },
    {
      "cell_type": "code",
      "metadata": {
        "id": "sp3TwJOXQ4hz"
      },
      "source": [
        "x.columns=['Experience', 'Rating',  'MBBS', 'BDS', 'BAMS', 'BHMS',\n",
        "       'MD - Dermatology', 'MS - ENT', 'Venereology & Leprosy',\n",
        "       'MD - General Medicine', 'Diploma in Otorhinolaryngology (DLO)',\n",
        "       'MD - Homeopathy', 'city_Bangalore', 'city_Chennai', 'city_Coimbatore',\n",
        "       'city_Delhi', 'city_Ernakulam', 'city_Hyderabad', 'city_Mumbai',\n",
        "       'city_Thiruvananthapuram', 'city_nan', 'Profile_Ayurveda',\n",
        "       'Profile_Dentist', 'Profile_Dermatologists', 'Profile_ENT Specialist',\n",
        "       'Profile_General Medicine', 'Profile_Homeopath']"
      ],
      "execution_count": 295,
      "outputs": []
    },
    {
      "cell_type": "markdown",
      "metadata": {
        "id": "KSwMUouEQ8nR"
      },
      "source": [
        "\n",
        "## Algorithms"
      ]
    },
    {
      "cell_type": "code",
      "metadata": {
        "colab": {
          "base_uri": "https://localhost:8080/"
        },
        "id": "FvAzTYZQQ6n6",
        "outputId": "15f423a4-1f77-474a-bf0c-7bde9a63fd65"
      },
      "source": [
        "from sklearn.model_selection import train_test_split\n",
        "maxAccu=0\n",
        "maxRS=0\n",
        "for i in range(1,200):\n",
        "    x_train,x_test,y_train,y_test=train_test_split(x,y,test_size=0.22,random_state=i)\n",
        "    lm=LinearRegression()\n",
        "    lm.fit(x_train,y_train)\n",
        "    pred=lm.predict(x_test)\n",
        "    r2score=r2_score(y_test,pred)\n",
        "    print(r2_score(y_test,pred))\n",
        "    print('error:')\n",
        "    print('Mean absolute error:',mean_absolute_error(y_test,pred))\n",
        "    print('Mean squared error:',mean_squared_error(y_test,pred))\n",
        "    print('Root Mean squared error:',np.sqrt(mean_squared_error(y_test,pred)))\n",
        "    if r2score>maxAccu:\n",
        "        maxAccu=r2score\n",
        "        maxRS=i\n",
        "        \n",
        "print(\"Best accuracy is\",maxAccu,\"on Random_state\",maxRS)"
      ],
      "execution_count": 296,
      "outputs": [
        {
          "output_type": "stream",
          "text": [
            "0.1285243605498474\n",
            "error:\n",
            "Mean absolute error: 135.9726824994385\n",
            "Mean squared error: 28748.97752528479\n",
            "Root Mean squared error: 169.555234437881\n",
            "0.11510024131034535\n",
            "error:\n",
            "Mean absolute error: 131.66548644783919\n",
            "Mean squared error: 26718.00356322386\n",
            "Root Mean squared error: 163.45642710895115\n",
            "0.1186428977543883\n",
            "error:\n",
            "Mean absolute error: 138.11161103466625\n",
            "Mean squared error: 29139.143973776012\n",
            "Root Mean squared error: 170.70191555391526\n",
            "0.08172176510050677\n",
            "error:\n",
            "Mean absolute error: 135.09204493865062\n",
            "Mean squared error: 28657.045659264404\n",
            "Root Mean squared error: 169.28392026198\n",
            "0.1227283982824906\n",
            "error:\n",
            "Mean absolute error: 136.54414468355424\n",
            "Mean squared error: 29450.63420088595\n",
            "Root Mean squared error: 171.61187080410826\n",
            "0.10839778335680428\n",
            "error:\n",
            "Mean absolute error: 134.39791588262605\n",
            "Mean squared error: 27974.26655572451\n",
            "Root Mean squared error: 167.25509425941115\n",
            "0.09531331335216409\n",
            "error:\n",
            "Mean absolute error: 136.74977428437364\n",
            "Mean squared error: 28587.90804273105\n",
            "Root Mean squared error: 169.0795908521518\n",
            "0.10270974220440265\n",
            "error:\n",
            "Mean absolute error: 134.62585075909737\n",
            "Mean squared error: 28312.4404170925\n",
            "Root Mean squared error: 168.26300965183196\n",
            "0.07858111752850094\n",
            "error:\n",
            "Mean absolute error: 136.3890627949761\n",
            "Mean squared error: 28158.63144547275\n",
            "Root Mean squared error: 167.8053379528576\n",
            "0.12391621772194183\n",
            "error:\n",
            "Mean absolute error: 138.60805066014092\n",
            "Mean squared error: 29170.581884248724\n",
            "Root Mean squared error: 170.79397496471802\n",
            "0.12167815045287311\n",
            "error:\n",
            "Mean absolute error: 137.1522812334351\n",
            "Mean squared error: 29366.178084249423\n",
            "Root Mean squared error: 171.3656269041415\n",
            "0.06494778924768885\n",
            "error:\n",
            "Mean absolute error: 139.93048252791624\n",
            "Mean squared error: 29682.94593983416\n",
            "Root Mean squared error: 172.2873934443091\n",
            "0.14683935061408937\n",
            "error:\n",
            "Mean absolute error: 131.81187196022069\n",
            "Mean squared error: 27246.741508289673\n",
            "Root Mean squared error: 165.0658702103184\n",
            "0.09707961999083692\n",
            "error:\n",
            "Mean absolute error: 137.64421359547538\n",
            "Mean squared error: 28757.92254655005\n",
            "Root Mean squared error: 169.58161028410495\n",
            "0.09035853137380478\n",
            "error:\n",
            "Mean absolute error: 137.4802614169922\n",
            "Mean squared error: 28716.760944374382\n",
            "Root Mean squared error: 169.46020460383724\n",
            "0.10746573507749946\n",
            "error:\n",
            "Mean absolute error: 135.74114561452365\n",
            "Mean squared error: 28673.476411739633\n",
            "Root Mean squared error: 169.33244347064633\n",
            "0.11319394930173765\n",
            "error:\n",
            "Mean absolute error: 133.21513700151783\n",
            "Mean squared error: 27792.941433909404\n",
            "Root Mean squared error: 166.7121514284709\n",
            "0.10181771465069356\n",
            "error:\n",
            "Mean absolute error: 142.48266230232863\n",
            "Mean squared error: 29932.32498098385\n",
            "Root Mean squared error: 173.00960950474354\n",
            "0.10562984931693042\n",
            "error:\n",
            "Mean absolute error: 134.86345741596458\n",
            "Mean squared error: 27817.848494929956\n",
            "Root Mean squared error: 166.78683549648022\n",
            "0.09386800737774725\n",
            "error:\n",
            "Mean absolute error: 138.1015890933983\n",
            "Mean squared error: 29612.10726901845\n",
            "Root Mean squared error: 172.08168777943354\n",
            "0.14064762624339477\n",
            "error:\n",
            "Mean absolute error: 131.95718278594254\n",
            "Mean squared error: 26062.33389504726\n",
            "Root Mean squared error: 161.43832845717668\n",
            "0.10264768792275225\n",
            "error:\n",
            "Mean absolute error: 141.57637666811186\n",
            "Mean squared error: 30735.099001530518\n",
            "Root Mean squared error: 175.31428635890038\n",
            "0.08778249001927774\n",
            "error:\n",
            "Mean absolute error: 135.19017103065607\n",
            "Mean squared error: 28125.353000744013\n",
            "Root Mean squared error: 167.70615075406153\n",
            "0.13781607018810504\n",
            "error:\n",
            "Mean absolute error: 137.05927052017768\n",
            "Mean squared error: 29121.052306449852\n",
            "Root Mean squared error: 170.6489153392129\n",
            "0.11764155019661948\n",
            "error:\n",
            "Mean absolute error: 135.5680406568073\n",
            "Mean squared error: 28732.540196836595\n",
            "Root Mean squared error: 169.50675560825474\n",
            "0.10651052404696948\n",
            "error:\n",
            "Mean absolute error: 143.12161504132249\n",
            "Mean squared error: 30846.753229133992\n",
            "Root Mean squared error: 175.63243786138707\n",
            "0.1024598852108547\n",
            "error:\n",
            "Mean absolute error: 140.45485615785208\n",
            "Mean squared error: 29903.46940459695\n",
            "Root Mean squared error: 172.92619640932645\n",
            "0.11413610024260001\n",
            "error:\n",
            "Mean absolute error: 132.62334873188126\n",
            "Mean squared error: 28142.470749898654\n",
            "Root Mean squared error: 167.75717793852712\n",
            "0.10665111492233137\n",
            "error:\n",
            "Mean absolute error: 140.08172328848443\n",
            "Mean squared error: 30169.315126535683\n",
            "Root Mean squared error: 173.6931637299974\n",
            "0.13961063305832289\n",
            "error:\n",
            "Mean absolute error: 134.0322482675057\n",
            "Mean squared error: 27668.456325278712\n",
            "Root Mean squared error: 166.33837899077506\n",
            "0.12518134909818546\n",
            "error:\n",
            "Mean absolute error: 135.57842945158322\n",
            "Mean squared error: 27358.41081334677\n",
            "Root Mean squared error: 165.40378113376602\n",
            "0.06549191801806187\n",
            "error:\n",
            "Mean absolute error: 139.97605328731973\n",
            "Mean squared error: 30145.858471376767\n",
            "Root Mean squared error: 173.62562734624393\n",
            "0.09197571171104602\n",
            "error:\n",
            "Mean absolute error: 137.21019762402392\n",
            "Mean squared error: 28437.52134449328\n",
            "Root Mean squared error: 168.6342828267529\n",
            "0.12142136456552999\n",
            "error:\n",
            "Mean absolute error: 136.90335620692937\n",
            "Mean squared error: 28773.106617951333\n",
            "Root Mean squared error: 169.62637359193687\n",
            "0.10810657953745795\n",
            "error:\n",
            "Mean absolute error: 134.72267376892611\n",
            "Mean squared error: 28218.939912872196\n",
            "Root Mean squared error: 167.98493954182976\n",
            "0.0811036831695301\n",
            "error:\n",
            "Mean absolute error: 133.32411346204833\n",
            "Mean squared error: 27726.89007120576\n",
            "Root Mean squared error: 166.51393356474935\n",
            "0.10624118845197406\n",
            "error:\n",
            "Mean absolute error: 135.04344515021492\n",
            "Mean squared error: 28957.507592117232\n",
            "Root Mean squared error: 170.16905591827566\n",
            "0.08431098833297335\n",
            "error:\n",
            "Mean absolute error: 134.6264207324246\n",
            "Mean squared error: 27979.471191805565\n",
            "Root Mean squared error: 167.27065251204579\n",
            "0.08060943168830137\n",
            "error:\n",
            "Mean absolute error: 138.621514370843\n",
            "Mean squared error: 29950.580404877393\n",
            "Root Mean squared error: 173.06235987318962\n",
            "0.12665094497590046\n",
            "error:\n",
            "Mean absolute error: 135.60016837253283\n",
            "Mean squared error: 27777.42671019474\n",
            "Root Mean squared error: 166.66561346058984\n",
            "0.1355812297676917\n",
            "error:\n",
            "Mean absolute error: 137.97936879401246\n",
            "Mean squared error: 29254.98230974145\n",
            "Root Mean squared error: 171.0408790603622\n",
            "0.0691943447254525\n",
            "error:\n",
            "Mean absolute error: 143.1885661958341\n",
            "Mean squared error: 31871.54284030379\n",
            "Root Mean squared error: 178.52602846729042\n",
            "0.11774011615610736\n",
            "error:\n",
            "Mean absolute error: 142.5273728170546\n",
            "Mean squared error: 30714.4134376069\n",
            "Root Mean squared error: 175.25528076953032\n",
            "0.09240909865347235\n",
            "error:\n",
            "Mean absolute error: 135.19738662276472\n",
            "Mean squared error: 28813.624687479973\n",
            "Root Mean squared error: 169.74576485874388\n",
            "0.08789321529927452\n",
            "error:\n",
            "Mean absolute error: 140.33278491321428\n",
            "Mean squared error: 29670.59018755637\n",
            "Root Mean squared error: 172.25153174226455\n",
            "0.11012828931397745\n",
            "error:\n",
            "Mean absolute error: 137.57160301833775\n",
            "Mean squared error: 29292.038516863693\n",
            "Root Mean squared error: 171.14917036568917\n",
            "0.11176818715131798\n",
            "error:\n",
            "Mean absolute error: 146.25052647532743\n",
            "Mean squared error: 32689.07453318008\n",
            "Root Mean squared error: 180.80120169174782\n",
            "0.13910393282246236\n",
            "error:\n",
            "Mean absolute error: 134.77330101554196\n",
            "Mean squared error: 27815.04483389507\n",
            "Root Mean squared error: 166.778430361648\n",
            "0.10827664271213788\n",
            "error:\n",
            "Mean absolute error: 139.79141626034087\n",
            "Mean squared error: 29984.139032721694\n",
            "Root Mean squared error: 173.15928803480827\n",
            "0.1233331673612269\n",
            "error:\n",
            "Mean absolute error: 141.6677025993646\n",
            "Mean squared error: 30956.501512383104\n",
            "Root Mean squared error: 175.94459784938866\n",
            "0.1348316493587407\n",
            "error:\n",
            "Mean absolute error: 141.16939555464228\n",
            "Mean squared error: 29793.352737561374\n",
            "Root Mean squared error: 172.60751066382184\n",
            "0.1290870789018801\n",
            "error:\n",
            "Mean absolute error: 137.91857190768994\n",
            "Mean squared error: 28537.666701588332\n",
            "Root Mean squared error: 168.9309524675343\n",
            "0.09421487817145713\n",
            "error:\n",
            "Mean absolute error: 137.13883954565944\n",
            "Mean squared error: 28500.319825175884\n",
            "Root Mean squared error: 168.82037739910393\n",
            "0.10995417883075798\n",
            "error:\n",
            "Mean absolute error: 140.68632653143794\n",
            "Mean squared error: 30345.69748457137\n",
            "Root Mean squared error: 174.20016499582132\n",
            "0.1423295991575242\n",
            "error:\n",
            "Mean absolute error: 135.858261518709\n",
            "Mean squared error: 28800.855503362618\n",
            "Root Mean squared error: 169.70814801700777\n",
            "0.1293773124298081\n",
            "error:\n",
            "Mean absolute error: 139.61343154355194\n",
            "Mean squared error: 30163.330705941822\n",
            "Root Mean squared error: 173.6759358861838\n",
            "0.11434400302927661\n",
            "error:\n",
            "Mean absolute error: 136.19611499702953\n",
            "Mean squared error: 28648.21951586967\n",
            "Root Mean squared error: 169.25784920017645\n",
            "0.13454240974866194\n",
            "error:\n",
            "Mean absolute error: 138.27826196279412\n",
            "Mean squared error: 29112.929858146308\n",
            "Root Mean squared error: 170.62511496888817\n",
            "0.14763248978767995\n",
            "error:\n",
            "Mean absolute error: 137.25939622367443\n",
            "Mean squared error: 28924.70404127824\n",
            "Root Mean squared error: 170.0726434241505\n",
            "0.11070480448912534\n",
            "error:\n",
            "Mean absolute error: 136.8683235075813\n",
            "Mean squared error: 28827.17444800432\n",
            "Root Mean squared error: 169.78567209280152\n",
            "0.11386426350913792\n",
            "error:\n",
            "Mean absolute error: 134.79611964191005\n",
            "Mean squared error: 28293.18440657042\n",
            "Root Mean squared error: 168.20577994400318\n",
            "0.1306367787828312\n",
            "error:\n",
            "Mean absolute error: 133.16698970235316\n",
            "Mean squared error: 27788.43386504256\n",
            "Root Mean squared error: 166.69863186313967\n",
            "0.106072703866956\n",
            "error:\n",
            "Mean absolute error: 135.7532014595786\n",
            "Mean squared error: 29069.870987685248\n",
            "Root Mean squared error: 170.49888852331338\n",
            "0.11083232593675163\n",
            "error:\n",
            "Mean absolute error: 138.47549716673154\n",
            "Mean squared error: 29472.54310444253\n",
            "Root Mean squared error: 171.67569165272798\n",
            "0.11085648867766673\n",
            "error:\n",
            "Mean absolute error: 137.83431362785464\n",
            "Mean squared error: 29664.153004852935\n",
            "Root Mean squared error: 172.23284531370007\n",
            "0.1225825801928071\n",
            "error:\n",
            "Mean absolute error: 139.45841274659819\n",
            "Mean squared error: 30564.26377497178\n",
            "Root Mean squared error: 174.82638180484025\n",
            "0.13496691401667593\n",
            "error:\n",
            "Mean absolute error: 141.30394607784447\n",
            "Mean squared error: 30660.266030208582\n",
            "Root Mean squared error: 175.10073109558562\n",
            "0.10254962465569606\n",
            "error:\n",
            "Mean absolute error: 135.58407163507977\n",
            "Mean squared error: 28754.406587510864\n",
            "Root Mean squared error: 169.571243397903\n",
            "0.08222817870546595\n",
            "error:\n",
            "Mean absolute error: 139.38691593010446\n",
            "Mean squared error: 31047.223957731367\n",
            "Root Mean squared error: 176.20222461061996\n",
            "0.07904033593033288\n",
            "error:\n",
            "Mean absolute error: 137.8702513198122\n",
            "Mean squared error: 28839.364762312416\n",
            "Root Mean squared error: 169.8215674239065\n",
            "0.1029979744982753\n",
            "error:\n",
            "Mean absolute error: 135.754337778509\n",
            "Mean squared error: 28574.93420357481\n",
            "Root Mean squared error: 169.04122042737035\n",
            "0.10438639241588255\n",
            "error:\n",
            "Mean absolute error: 139.1068290503486\n",
            "Mean squared error: 30969.349055496627\n",
            "Root Mean squared error: 175.9811042569532\n",
            "0.0952650808616281\n",
            "error:\n",
            "Mean absolute error: 139.8465184314617\n",
            "Mean squared error: 29603.32645486143\n",
            "Root Mean squared error: 172.0561723823398\n",
            "0.11193730287731829\n",
            "error:\n",
            "Mean absolute error: 137.68210045298932\n",
            "Mean squared error: 29750.400063472913\n",
            "Root Mean squared error: 172.48304282877467\n",
            "0.14754417016872978\n",
            "error:\n",
            "Mean absolute error: 134.74819694172072\n",
            "Mean squared error: 28402.849905607218\n",
            "Root Mean squared error: 168.5314507906676\n",
            "0.14536349701336548\n",
            "error:\n",
            "Mean absolute error: 139.087264595276\n",
            "Mean squared error: 29055.93101865574\n",
            "Root Mean squared error: 170.45800368024888\n",
            "0.07024360171743038\n",
            "error:\n",
            "Mean absolute error: 140.0959784883598\n",
            "Mean squared error: 29408.84394524476\n",
            "Root Mean squared error: 171.4900695237038\n",
            "0.12889059804739356\n",
            "error:\n",
            "Mean absolute error: 138.90685891645816\n",
            "Mean squared error: 29609.755628521863\n",
            "Root Mean squared error: 172.07485472468622\n",
            "0.16733807477546392\n",
            "error:\n",
            "Mean absolute error: 135.16860644728766\n",
            "Mean squared error: 27402.299669180604\n",
            "Root Mean squared error: 165.53639983151925\n",
            "0.12838633499398888\n",
            "error:\n",
            "Mean absolute error: 135.37959446755488\n",
            "Mean squared error: 27945.909024893026\n",
            "Root Mean squared error: 167.1702994700106\n",
            "0.10880924058947006\n",
            "error:\n",
            "Mean absolute error: 139.2279991786007\n",
            "Mean squared error: 29903.108175624293\n",
            "Root Mean squared error: 172.92515194622294\n",
            "0.10117615643356259\n",
            "error:\n",
            "Mean absolute error: 139.78880311604738\n",
            "Mean squared error: 29987.967996544136\n",
            "Root Mean squared error: 173.17034387141504\n",
            "0.0764268475962423\n",
            "error:\n",
            "Mean absolute error: 138.42414855973132\n",
            "Mean squared error: 30266.94964571469\n",
            "Root Mean squared error: 173.973991290982\n",
            "0.1429410767944873\n",
            "error:\n",
            "Mean absolute error: 134.67440056692604\n",
            "Mean squared error: 27505.16017578353\n",
            "Root Mean squared error: 165.8467973033653\n",
            "0.0801021388707921\n",
            "error:\n",
            "Mean absolute error: 132.40994932634322\n",
            "Mean squared error: 26942.760329843055\n",
            "Root Mean squared error: 164.1425000718676\n",
            "0.15981987599814096\n",
            "error:\n",
            "Mean absolute error: 134.8567804088814\n",
            "Mean squared error: 27165.711930852212\n",
            "Root Mean squared error: 164.82024126560492\n",
            "0.05498781862519575\n",
            "error:\n",
            "Mean absolute error: 143.16803797684182\n",
            "Mean squared error: 31360.764529474378\n",
            "Root Mean squared error: 177.08970757634216\n",
            "0.09498313347872378\n",
            "error:\n",
            "Mean absolute error: 140.51650440310593\n",
            "Mean squared error: 31030.270313212834\n",
            "Root Mean squared error: 176.15410955527787\n",
            "0.1550297983267367\n",
            "error:\n",
            "Mean absolute error: 134.53334615922296\n",
            "Mean squared error: 28160.327470534627\n",
            "Root Mean squared error: 167.81039142596214\n",
            "0.10066826503806559\n",
            "error:\n",
            "Mean absolute error: 134.48836829852328\n",
            "Mean squared error: 27491.457657603634\n",
            "Root Mean squared error: 165.8054813858807\n",
            "0.0935980014708172\n",
            "error:\n",
            "Mean absolute error: 138.02713614234145\n",
            "Mean squared error: 29310.787077034962\n",
            "Root Mean squared error: 171.2039341751087\n",
            "0.09964727586897903\n",
            "error:\n",
            "Mean absolute error: 142.87355601950455\n",
            "Mean squared error: 30844.800491371323\n",
            "Root Mean squared error: 175.6268786130737\n",
            "0.06415681426700992\n",
            "error:\n",
            "Mean absolute error: 136.20856150385896\n",
            "Mean squared error: 28771.14067632881\n",
            "Root Mean squared error: 169.62057857562215\n",
            "0.08017925610593368\n",
            "error:\n",
            "Mean absolute error: 139.71449194447487\n",
            "Mean squared error: 29939.39123859776\n",
            "Root Mean squared error: 173.0300298751571\n",
            "0.10194963396601342\n",
            "error:\n",
            "Mean absolute error: 141.5135900365514\n",
            "Mean squared error: 30535.32795652929\n",
            "Root Mean squared error: 174.74360633948612\n",
            "0.11161030138360195\n",
            "error:\n",
            "Mean absolute error: 137.9416951277455\n",
            "Mean squared error: 29194.27989186194\n",
            "Root Mean squared error: 170.86333688612646\n",
            "0.08021086747321537\n",
            "error:\n",
            "Mean absolute error: 142.25193844666845\n",
            "Mean squared error: 30374.70128463032\n",
            "Root Mean squared error: 174.28339359970678\n",
            "0.10797249073876825\n",
            "error:\n",
            "Mean absolute error: 139.49725379224748\n",
            "Mean squared error: 29606.50446948733\n",
            "Root Mean squared error: 172.06540753297082\n",
            "0.08891004018061366\n",
            "error:\n",
            "Mean absolute error: 143.05956042808114\n",
            "Mean squared error: 30595.441141036994\n",
            "Root Mean squared error: 174.9155257289558\n",
            "0.14670098064674963\n",
            "error:\n",
            "Mean absolute error: 135.22811716458466\n",
            "Mean squared error: 27280.391807318098\n",
            "Root Mean squared error: 165.16776866967143\n",
            "0.10262202678680588\n",
            "error:\n",
            "Mean absolute error: 137.2997367277208\n",
            "Mean squared error: 28752.788126775544\n",
            "Root Mean squared error: 169.5664711161247\n",
            "0.13336662493932772\n",
            "error:\n",
            "Mean absolute error: 134.21813158726565\n",
            "Mean squared error: 27781.621061122627\n",
            "Root Mean squared error: 166.67819611791649\n",
            "0.13041769313847262\n",
            "error:\n",
            "Mean absolute error: 140.49426974667898\n",
            "Mean squared error: 30391.641644920106\n",
            "Root Mean squared error: 174.33198686678273\n",
            "0.1235937837972314\n",
            "error:\n",
            "Mean absolute error: 136.77230489250266\n",
            "Mean squared error: 28137.539312941597\n",
            "Root Mean squared error: 167.74247915463036\n",
            "0.11841238404254895\n",
            "error:\n",
            "Mean absolute error: 138.35744820949586\n",
            "Mean squared error: 29598.169178131782\n",
            "Root Mean squared error: 172.0411845405971\n",
            "0.12206949054548355\n",
            "error:\n",
            "Mean absolute error: 137.54905414767458\n",
            "Mean squared error: 29977.83976985284\n",
            "Root Mean squared error: 173.141097864871\n",
            "0.08790624097316502\n",
            "error:\n",
            "Mean absolute error: 137.47823585697128\n",
            "Mean squared error: 28582.537673052608\n",
            "Root Mean squared error: 169.0637089178296\n",
            "0.10726492181222802\n",
            "error:\n",
            "Mean absolute error: 143.01988123758784\n",
            "Mean squared error: 30032.00824482805\n",
            "Root Mean squared error: 173.297455967559\n",
            "0.1431993402802091\n",
            "error:\n",
            "Mean absolute error: 135.4504757865656\n",
            "Mean squared error: 27992.020040997144\n",
            "Root Mean squared error: 167.30815891939383\n",
            "0.09937345329031555\n",
            "error:\n",
            "Mean absolute error: 142.86206285524\n",
            "Mean squared error: 31542.357322257663\n",
            "Root Mean squared error: 177.6016816425387\n",
            "0.09534909746759834\n",
            "error:\n",
            "Mean absolute error: 140.35491976615745\n",
            "Mean squared error: 29516.669879017205\n",
            "Root Mean squared error: 171.80416141356181\n",
            "0.1472084419293458\n",
            "error:\n",
            "Mean absolute error: 137.9750092518714\n",
            "Mean squared error: 28684.017055843935\n",
            "Root Mean squared error: 169.36356472347862\n",
            "0.08792849746803022\n",
            "error:\n",
            "Mean absolute error: 138.77735834074227\n",
            "Mean squared error: 29334.146095971653\n",
            "Root Mean squared error: 171.27214045480852\n",
            "0.1235666523933765\n",
            "error:\n",
            "Mean absolute error: 137.7368796172881\n",
            "Mean squared error: 28859.80028785613\n",
            "Root Mean squared error: 169.88172440806025\n",
            "0.1092990965514995\n",
            "error:\n",
            "Mean absolute error: 132.56120831404303\n",
            "Mean squared error: 27185.664265945587\n",
            "Root Mean squared error: 164.88075771886054\n",
            "0.11661855728147408\n",
            "error:\n",
            "Mean absolute error: 136.17819539456914\n",
            "Mean squared error: 29090.099765586227\n",
            "Root Mean squared error: 170.558200522831\n",
            "0.05624667158357366\n",
            "error:\n",
            "Mean absolute error: 141.7901574271855\n",
            "Mean squared error: 31228.706278343416\n",
            "Root Mean squared error: 176.71645729343777\n",
            "0.11753497513958111\n",
            "error:\n",
            "Mean absolute error: 136.2457245290283\n",
            "Mean squared error: 29183.127613241533\n",
            "Root Mean squared error: 170.83069868510617\n",
            "0.11154954022643448\n",
            "error:\n",
            "Mean absolute error: 138.93510059647852\n",
            "Mean squared error: 29477.273631043878\n",
            "Root Mean squared error: 171.68946860842652\n",
            "0.13940455015062692\n",
            "error:\n",
            "Mean absolute error: 136.21852407115574\n",
            "Mean squared error: 27965.59848374345\n",
            "Root Mean squared error: 167.229179522425\n",
            "0.1293973621548652\n",
            "error:\n",
            "Mean absolute error: 132.31826811812815\n",
            "Mean squared error: 26890.15520685704\n",
            "Root Mean squared error: 163.98217954051302\n",
            "0.14619481767664444\n",
            "error:\n",
            "Mean absolute error: 131.46497584508063\n",
            "Mean squared error: 26619.245796466173\n",
            "Root Mean squared error: 163.15405540919346\n",
            "0.118677844835124\n",
            "error:\n",
            "Mean absolute error: 138.39780245639307\n",
            "Mean squared error: 29947.366782110756\n",
            "Root Mean squared error: 173.05307504378752\n",
            "0.09726801186564182\n",
            "error:\n",
            "Mean absolute error: 135.82309807271542\n",
            "Mean squared error: 27949.665072035637\n",
            "Root Mean squared error: 167.1815332865315\n",
            "0.11267480386244311\n",
            "error:\n",
            "Mean absolute error: 136.27099121313623\n",
            "Mean squared error: 28417.897266609787\n",
            "Root Mean squared error: 168.5760874697529\n",
            "0.09039498346524322\n",
            "error:\n",
            "Mean absolute error: 140.43216468213373\n",
            "Mean squared error: 30771.907278671184\n",
            "Root Mean squared error: 175.41923292122556\n",
            "0.1512864384705428\n",
            "error:\n",
            "Mean absolute error: 141.14244636807555\n",
            "Mean squared error: 30386.849641076526\n",
            "Root Mean squared error: 174.31824242194654\n",
            "0.12064754541669365\n",
            "error:\n",
            "Mean absolute error: 134.8541023619056\n",
            "Mean squared error: 27728.200155922757\n",
            "Root Mean squared error: 166.51786737741617\n",
            "0.13008504008722388\n",
            "error:\n",
            "Mean absolute error: 139.16086019560467\n",
            "Mean squared error: 29371.533538434804\n",
            "Root Mean squared error: 171.3812520039307\n",
            "0.1289569061318273\n",
            "error:\n",
            "Mean absolute error: 138.2642778390135\n",
            "Mean squared error: 29858.915337287734\n",
            "Root Mean squared error: 172.79732445060523\n",
            "0.11862185386768898\n",
            "error:\n",
            "Mean absolute error: 135.23599406802074\n",
            "Mean squared error: 27660.921456652726\n",
            "Root Mean squared error: 166.31572822993238\n",
            "0.09241943070663805\n",
            "error:\n",
            "Mean absolute error: 139.9296079014948\n",
            "Mean squared error: 29936.62010711029\n",
            "Root Mean squared error: 173.02202202930786\n",
            "0.1234950853949337\n",
            "error:\n",
            "Mean absolute error: 136.83205714730124\n",
            "Mean squared error: 28630.927717605977\n",
            "Root Mean squared error: 169.20676025976616\n",
            "0.1048043805003499\n",
            "error:\n",
            "Mean absolute error: 139.071607590625\n",
            "Mean squared error: 28997.607413331225\n",
            "Root Mean squared error: 170.28683863802047\n",
            "0.12261509534364456\n",
            "error:\n",
            "Mean absolute error: 136.2506652607892\n",
            "Mean squared error: 28533.717930238803\n",
            "Root Mean squared error: 168.91926453261274\n",
            "0.10505147861243391\n",
            "error:\n",
            "Mean absolute error: 138.82397579524473\n",
            "Mean squared error: 29407.686432008162\n",
            "Root Mean squared error: 171.4866946209185\n",
            "0.09738403840601684\n",
            "error:\n",
            "Mean absolute error: 134.46816404563833\n",
            "Mean squared error: 27769.572635773482\n",
            "Root Mean squared error: 166.64204942262768\n",
            "0.13623710267244682\n",
            "error:\n",
            "Mean absolute error: 134.80502663963443\n",
            "Mean squared error: 28010.17310492639\n",
            "Root Mean squared error: 167.36240051136454\n",
            "0.06649378123882077\n",
            "error:\n",
            "Mean absolute error: 137.19395672624628\n",
            "Mean squared error: 29023.87409504475\n",
            "Root Mean squared error: 170.36394599516868\n",
            "0.09448585878400084\n",
            "error:\n",
            "Mean absolute error: 131.15103952463247\n",
            "Mean squared error: 26635.52466410512\n",
            "Root Mean squared error: 163.20393581070624\n",
            "0.09084572541922042\n",
            "error:\n",
            "Mean absolute error: 134.512274866959\n",
            "Mean squared error: 28696.625832217924\n",
            "Root Mean squared error: 169.4007846269253\n",
            "0.09111991505942618\n",
            "error:\n",
            "Mean absolute error: 139.08737986232825\n",
            "Mean squared error: 30030.846041010267\n",
            "Root Mean squared error: 173.29410273004177\n",
            "0.09196256323908558\n",
            "error:\n",
            "Mean absolute error: 137.5272382849838\n",
            "Mean squared error: 28942.30423844839\n",
            "Root Mean squared error: 170.12437873052878\n",
            "0.07648420451690152\n",
            "error:\n",
            "Mean absolute error: 139.11729115861897\n",
            "Mean squared error: 29711.250480513558\n",
            "Root Mean squared error: 172.3695172601976\n",
            "0.12905755576731381\n",
            "error:\n",
            "Mean absolute error: 132.95676047750956\n",
            "Mean squared error: 26930.72819573819\n",
            "Root Mean squared error: 164.10584448988462\n",
            "0.08389294999818953\n",
            "error:\n",
            "Mean absolute error: 139.2481278241293\n",
            "Mean squared error: 30278.594717121974\n",
            "Root Mean squared error: 174.00745592394014\n",
            "0.08837267451036357\n",
            "error:\n",
            "Mean absolute error: 134.16475643407637\n",
            "Mean squared error: 28385.574832677048\n",
            "Root Mean squared error: 168.48019121747532\n",
            "0.12603778939306898\n",
            "error:\n",
            "Mean absolute error: 142.38661715952261\n",
            "Mean squared error: 30639.785112018737\n",
            "Root Mean squared error: 175.04223807989527\n",
            "0.1105410805504482\n",
            "error:\n",
            "Mean absolute error: 140.78361511529747\n",
            "Mean squared error: 30725.500643466246\n",
            "Root Mean squared error: 175.28690950400787\n",
            "0.10351647583325818\n",
            "error:\n",
            "Mean absolute error: 135.74272457533903\n",
            "Mean squared error: 28937.451611633085\n",
            "Root Mean squared error: 170.11011613549937\n",
            "0.124537527536834\n",
            "error:\n",
            "Mean absolute error: 139.9166700197555\n",
            "Mean squared error: 30417.326631538304\n",
            "Root Mean squared error: 174.4056381873542\n",
            "0.06522405797106146\n",
            "error:\n",
            "Mean absolute error: 136.0102452454324\n",
            "Mean squared error: 28695.472457252377\n",
            "Root Mean squared error: 169.39738031401896\n",
            "0.10831849338608068\n",
            "error:\n",
            "Mean absolute error: 138.0282578665534\n",
            "Mean squared error: 28860.063757912118\n",
            "Root Mean squared error: 169.88249985773143\n",
            "0.0858904306577668\n",
            "error:\n",
            "Mean absolute error: 139.20918003897873\n",
            "Mean squared error: 29785.357627019584\n",
            "Root Mean squared error: 172.58434931076334\n",
            "0.13542914638856962\n",
            "error:\n",
            "Mean absolute error: 134.83950907593808\n",
            "Mean squared error: 27852.823701196863\n",
            "Root Mean squared error: 166.89165258093905\n",
            "0.10320624079387497\n",
            "error:\n",
            "Mean absolute error: 141.25302090373404\n",
            "Mean squared error: 30376.77324713773\n",
            "Root Mean squared error: 174.28933773222542\n",
            "0.14313550519762874\n",
            "error:\n",
            "Mean absolute error: 133.75711121035673\n",
            "Mean squared error: 27471.502300986776\n",
            "Root Mean squared error: 165.74529345048316\n",
            "0.10970667048028138\n",
            "error:\n",
            "Mean absolute error: 136.84149096422874\n",
            "Mean squared error: 29252.714777426947\n",
            "Root Mean squared error: 171.03425030509808\n",
            "0.08358756368691744\n",
            "error:\n",
            "Mean absolute error: 138.36815439883333\n",
            "Mean squared error: 30060.259396221332\n",
            "Root Mean squared error: 173.3789473846849\n",
            "0.10811729423904426\n",
            "error:\n",
            "Mean absolute error: 138.73356850126933\n",
            "Mean squared error: 30076.616174865434\n",
            "Root Mean squared error: 173.42611157165877\n",
            "0.09131053192045158\n",
            "error:\n",
            "Mean absolute error: 137.90776071495563\n",
            "Mean squared error: 28976.01997606648\n",
            "Root Mean squared error: 170.2234413236511\n",
            "0.08278364921306947\n",
            "error:\n",
            "Mean absolute error: 135.18989621273585\n",
            "Mean squared error: 28988.304944150033\n",
            "Root Mean squared error: 170.25952233032382\n",
            "0.07648606109445277\n",
            "error:\n",
            "Mean absolute error: 142.31895923054498\n",
            "Mean squared error: 31026.87556547095\n",
            "Root Mean squared error: 176.14447355926598\n",
            "0.1184393944196589\n",
            "error:\n",
            "Mean absolute error: 136.1411033014507\n",
            "Mean squared error: 29076.114031718404\n",
            "Root Mean squared error: 170.51719570682133\n",
            "0.0914972153511382\n",
            "error:\n",
            "Mean absolute error: 140.3446103166191\n",
            "Mean squared error: 30007.880258407622\n",
            "Root Mean squared error: 173.22782760979143\n",
            "0.08061423963580161\n",
            "error:\n",
            "Mean absolute error: 136.57281247364782\n",
            "Mean squared error: 28985.666374250035\n",
            "Root Mean squared error: 170.25177348342083\n",
            "0.10403503995461072\n",
            "error:\n",
            "Mean absolute error: 141.70071902216748\n",
            "Mean squared error: 31252.57419444658\n",
            "Root Mean squared error: 176.7839760681001\n",
            "0.09766103884009047\n",
            "error:\n",
            "Mean absolute error: 135.89321808562804\n",
            "Mean squared error: 28176.410777363137\n",
            "Root Mean squared error: 167.85830565498728\n",
            "0.10010559988308887\n",
            "error:\n",
            "Mean absolute error: 138.03647543158598\n",
            "Mean squared error: 30180.945494292926\n",
            "Root Mean squared error: 173.7266401398845\n",
            "0.1002027998178876\n",
            "error:\n",
            "Mean absolute error: 134.8900788307669\n",
            "Mean squared error: 28157.64235600874\n",
            "Root Mean squared error: 167.80239079348286\n",
            "0.11518471135826114\n",
            "error:\n",
            "Mean absolute error: 140.4326690507418\n",
            "Mean squared error: 30245.431515032946\n",
            "Root Mean squared error: 173.91213734248953\n",
            "0.05612611272744017\n",
            "error:\n",
            "Mean absolute error: 138.4041202817339\n",
            "Mean squared error: 30171.132013502604\n",
            "Root Mean squared error: 173.6983938138249\n",
            "0.1277356692097572\n",
            "error:\n",
            "Mean absolute error: 138.6848262787954\n",
            "Mean squared error: 29438.246304423665\n",
            "Root Mean squared error: 171.57577423524472\n",
            "0.09590956364405612\n",
            "error:\n",
            "Mean absolute error: 137.39787157615052\n",
            "Mean squared error: 28928.624858677053\n",
            "Root Mean squared error: 170.0841699238264\n",
            "0.08274154470069983\n",
            "error:\n",
            "Mean absolute error: 139.60002505845713\n",
            "Mean squared error: 30252.61904365088\n",
            "Root Mean squared error: 173.93280036741453\n",
            "0.1218330973680809\n",
            "error:\n",
            "Mean absolute error: 141.28682932759233\n",
            "Mean squared error: 30871.07690327356\n",
            "Root Mean squared error: 175.70167017781463\n",
            "0.14585116013012744\n",
            "error:\n",
            "Mean absolute error: 132.9155162646584\n",
            "Mean squared error: 27177.753680717175\n",
            "Root Mean squared error: 164.85676716688695\n",
            "0.08578216964258545\n",
            "error:\n",
            "Mean absolute error: 139.08912167489274\n",
            "Mean squared error: 29477.198686227548\n",
            "Root Mean squared error: 171.68925035140538\n",
            "0.0717622360981367\n",
            "error:\n",
            "Mean absolute error: 141.98240258697783\n",
            "Mean squared error: 31548.412147525054\n",
            "Root Mean squared error: 177.6187269054844\n",
            "0.12930989547464866\n",
            "error:\n",
            "Mean absolute error: 131.56618494261434\n",
            "Mean squared error: 26702.578957430967\n",
            "Root Mean squared error: 163.40923767471338\n",
            "0.117554764418345\n",
            "error:\n",
            "Mean absolute error: 133.78182343827586\n",
            "Mean squared error: 28541.74449491934\n",
            "Root Mean squared error: 168.94302144486272\n",
            "0.10289068331764017\n",
            "error:\n",
            "Mean absolute error: 139.0960673987694\n",
            "Mean squared error: 30403.28122678973\n",
            "Root Mean squared error: 174.36536705088466\n",
            "0.1023162291996812\n",
            "error:\n",
            "Mean absolute error: 138.9197633995238\n",
            "Mean squared error: 30180.993416796657\n",
            "Root Mean squared error: 173.72677806485865\n",
            "0.08699690809535476\n",
            "error:\n",
            "Mean absolute error: 139.07529005832538\n",
            "Mean squared error: 29903.009195366303\n",
            "Root Mean squared error: 172.92486575205518\n",
            "0.10458331213772099\n",
            "error:\n",
            "Mean absolute error: 134.51832540409114\n",
            "Mean squared error: 27261.326358483617\n",
            "Root Mean squared error: 165.11004317873463\n",
            "0.11034601041227798\n",
            "error:\n",
            "Mean absolute error: 132.7483364198578\n",
            "Mean squared error: 27886.073436781026\n",
            "Root Mean squared error: 166.99123760479478\n",
            "0.11764338348688608\n",
            "error:\n",
            "Mean absolute error: 142.66471683004852\n",
            "Mean squared error: 30786.7230389106\n",
            "Root Mean squared error: 175.46145741703674\n",
            "0.09141814757805067\n",
            "error:\n",
            "Mean absolute error: 140.83174153094598\n",
            "Mean squared error: 29856.960606194323\n",
            "Root Mean squared error: 172.79166821983728\n",
            "0.10881579700228261\n",
            "error:\n",
            "Mean absolute error: 142.45709683439583\n",
            "Mean squared error: 30838.574663197163\n",
            "Root Mean squared error: 175.60915313045948\n",
            "0.10087859931218035\n",
            "error:\n",
            "Mean absolute error: 139.68456798942196\n",
            "Mean squared error: 30294.837449537612\n",
            "Root Mean squared error: 174.0541221848469\n",
            "0.06342297227597116\n",
            "error:\n",
            "Mean absolute error: 132.9824759274188\n",
            "Mean squared error: 27154.811780359454\n",
            "Root Mean squared error: 164.78717116438239\n",
            "0.12915507339095988\n",
            "error:\n",
            "Mean absolute error: 142.19111139914918\n",
            "Mean squared error: 30595.391005725603\n",
            "Root Mean squared error: 174.91538241597164\n",
            "0.10937146158659272\n",
            "error:\n",
            "Mean absolute error: 136.73979696918173\n",
            "Mean squared error: 28523.6491986812\n",
            "Root Mean squared error: 168.88945851852685\n",
            "0.10514277665901794\n",
            "error:\n",
            "Mean absolute error: 142.9663506556323\n",
            "Mean squared error: 31614.49485575143\n",
            "Root Mean squared error: 177.80465363918748\n",
            "0.117267230876686\n",
            "error:\n",
            "Mean absolute error: 138.32067883880293\n",
            "Mean squared error: 29526.823401031626\n",
            "Root Mean squared error: 171.8337085703257\n",
            "0.08167340807144896\n",
            "error:\n",
            "Mean absolute error: 139.7446392324771\n",
            "Mean squared error: 29473.72441284373\n",
            "Root Mean squared error: 171.67913214145665\n",
            "0.12068957127286395\n",
            "error:\n",
            "Mean absolute error: 137.29345605634876\n",
            "Mean squared error: 29243.28331357432\n",
            "Root Mean squared error: 171.00667622515303\n",
            "0.1053582898883123\n",
            "error:\n",
            "Mean absolute error: 133.60688357576808\n",
            "Mean squared error: 27794.03815710492\n",
            "Root Mean squared error: 166.71544066793848\n",
            "0.12999476198102966\n",
            "error:\n",
            "Mean absolute error: 132.06352133189094\n",
            "Mean squared error: 27049.03562202872\n",
            "Root Mean squared error: 164.46591021250794\n",
            "Best accuracy is 0.16733807477546392 on Random_state 79\n"
          ],
          "name": "stdout"
        }
      ]
    },
    {
      "cell_type": "code",
      "metadata": {
        "id": "GdeLWWnSRJEh"
      },
      "source": [
        "from sklearn.metrics import make_scorer"
      ],
      "execution_count": 297,
      "outputs": []
    },
    {
      "cell_type": "markdown",
      "metadata": {
        "id": "RY0pnYjxROI5"
      },
      "source": [
        "**To use RMSLE we will create our own scorer .**"
      ]
    },
    {
      "cell_type": "code",
      "metadata": {
        "id": "TMJ0-BRPRLxd"
      },
      "source": [
        "# calculate RMSLE.\n",
        "def score(y_pred,y):\n",
        "    y_pred = np.log(y_pred)\n",
        "    y = np.log(y)\n",
        "    return 1 - ((np.sum((y_pred-y)**2))/len(y))**1/2    # 1-RMSLE\n",
        "\n",
        "# make our own scorer\n",
        "scorer = make_scorer(score,greater_is_better=True, needs_proba=False)"
      ],
      "execution_count": 298,
      "outputs": []
    },
    {
      "cell_type": "code",
      "metadata": {
        "colab": {
          "base_uri": "https://localhost:8080/"
        },
        "id": "gXONLeEzRZRF",
        "outputId": "eaa12ddb-d288-46c9-c1cc-63e3b993f35a"
      },
      "source": [
        "x_train,x_test,y_train,y_test=train_test_split(x,y,test_size=0.22,random_state=79)\n",
        "lm=LinearRegression()\n",
        "lm.fit(x_train,y_train)\n",
        "pred=lm.predict(x_test)\n",
        "print(lm, score(y_test,pred))\n",
        "print('error:')\n",
        "print('Mean absolute error:',mean_absolute_error(y_test,pred))\n",
        "print('Mean squared error:',mean_squared_error(y_test,pred))\n",
        "print('Root Mean squared error:',np.sqrt(mean_squared_error(y_test,pred)))"
      ],
      "execution_count": 299,
      "outputs": [
        {
          "output_type": "stream",
          "text": [
            "LinearRegression(copy_X=True, fit_intercept=True, n_jobs=None, normalize=False) 0.7914457986125603\n",
            "error:\n",
            "Mean absolute error: 135.16860644728766\n",
            "Mean squared error: 27402.299669180604\n",
            "Root Mean squared error: 165.53639983151925\n"
          ],
          "name": "stdout"
        }
      ]
    },
    {
      "cell_type": "code",
      "metadata": {
        "colab": {
          "base_uri": "https://localhost:8080/"
        },
        "id": "-HVQ1zIJRcGf",
        "outputId": "22d651b4-403e-4cba-ef10-6bb905c4a54b"
      },
      "source": [
        "dtr=DecisionTreeRegressor()\n",
        "dtr.fit(x_train,y_train)\n",
        "preddtr=dtr.predict(x_test)\n",
        "print(lm, score(y_test,preddtr))\n",
        "print('error:')\n",
        "print('Mean absolute error:',mean_absolute_error(y_test,preddtr))\n",
        "print('Mean squared error:',mean_squared_error(y_test,preddtr))\n",
        "print('Root Mean squared error:',np.sqrt(mean_squared_error(y_test,preddtr)))"
      ],
      "execution_count": 300,
      "outputs": [
        {
          "output_type": "stream",
          "text": [
            "LinearRegression(copy_X=True, fit_intercept=True, n_jobs=None, normalize=False) 0.737928546704964\n",
            "error:\n",
            "Mean absolute error: 146.50507973017892\n",
            "Mean squared error: 37924.70360469905\n",
            "Root Mean squared error: 194.74265995076436\n"
          ],
          "name": "stdout"
        }
      ]
    },
    {
      "cell_type": "code",
      "metadata": {
        "colab": {
          "base_uri": "https://localhost:8080/"
        },
        "id": "iH7gOUkHRiwD",
        "outputId": "123469b0-e719-45ec-daca-c17043dd549f"
      },
      "source": [
        "knn=KNeighborsRegressor(n_neighbors=5)\n",
        "knn.fit(x_train,y_train)\n",
        "predknn=knn.predict(x_test)\n",
        "predknn=knn.predict(x_test)\n",
        "print(lm, score(y_test,predknn))\n",
        "print('error:')\n",
        "print('Mean absolute error:',mean_absolute_error(y_test,predknn))\n",
        "print('Mean squared error:',mean_squared_error(y_test,predknn))\n",
        "print('Root Mean squared error:',np.sqrt(mean_squared_error(y_test,predknn)))"
      ],
      "execution_count": 301,
      "outputs": [
        {
          "output_type": "stream",
          "text": [
            "LinearRegression(copy_X=True, fit_intercept=True, n_jobs=None, normalize=False) 0.7822264670419941\n",
            "error:\n",
            "Mean absolute error: 137.22838137472283\n",
            "Mean squared error: 30424.019157427938\n",
            "Root Mean squared error: 174.4248237993318\n"
          ],
          "name": "stdout"
        }
      ]
    },
    {
      "cell_type": "code",
      "metadata": {
        "colab": {
          "base_uri": "https://localhost:8080/"
        },
        "id": "URKYK7vPRojw",
        "outputId": "ab564688-c92d-4585-b1d9-317784e1e56f"
      },
      "source": [
        "svm=SVR()\n",
        "svm.fit(x_train,y_train)\n",
        "predsvr=svm.predict(x_test)\n",
        "print(lm, score(y_test,predsvr))\n",
        "print('error:')\n",
        "print('Mean absolute error:',mean_absolute_error(y_test,predsvr))\n",
        "print('Mean squared error:',mean_squared_error(y_test,predsvr))\n",
        "print('Root Mean squared error:',np.sqrt(mean_squared_error(y_test,predsvr)))"
      ],
      "execution_count": 302,
      "outputs": [
        {
          "output_type": "stream",
          "text": [
            "LinearRegression(copy_X=True, fit_intercept=True, n_jobs=None, normalize=False) 0.800720856159752\n",
            "error:\n",
            "Mean absolute error: 136.92186051510424\n",
            "Mean squared error: 30172.09291444758\n",
            "Root Mean squared error: 173.70115979591955\n"
          ],
          "name": "stdout"
        }
      ]
    },
    {
      "cell_type": "code",
      "metadata": {
        "id": "ACQ7LeEARrdl"
      },
      "source": [
        "from sklearn.linear_model import Lasso,Ridge,ElasticNet"
      ],
      "execution_count": 303,
      "outputs": []
    },
    {
      "cell_type": "code",
      "metadata": {
        "colab": {
          "base_uri": "https://localhost:8080/"
        },
        "id": "tu_4MXUtRui8",
        "outputId": "4f04f361-21bf-4b24-d610-c6064af7ff59"
      },
      "source": [
        "ls=Lasso(alpha=.0001)\n",
        "ls.fit(x_train,y_train)\n",
        "ls.score(x_train,y_train)\n",
        "predls=ls.predict(x_test)\n",
        "print(lm, score(y_test,predls))\n",
        "print('error:')\n",
        "print('Mean absolute error:',mean_absolute_error(y_test,predls))\n",
        "print('Mean squared error:',mean_squared_error(y_test,predls))\n",
        "print('Root Mean squared error:',np.sqrt(mean_squared_error(y_test,predls)))"
      ],
      "execution_count": 304,
      "outputs": [
        {
          "output_type": "stream",
          "text": [
            "LinearRegression(copy_X=True, fit_intercept=True, n_jobs=None, normalize=False) 0.7910441663985767\n",
            "error:\n",
            "Mean absolute error: 135.40471961720826\n",
            "Mean squared error: 27465.879659104554\n",
            "Root Mean squared error: 165.72833088854952\n"
          ],
          "name": "stdout"
        }
      ]
    },
    {
      "cell_type": "code",
      "metadata": {
        "colab": {
          "base_uri": "https://localhost:8080/"
        },
        "id": "NfOCiAaCRxO_",
        "outputId": "74a65eb1-d3ee-4c64-cd38-77801e839ee3"
      },
      "source": [
        "el=ElasticNet(alpha=.0001)\n",
        "el.fit(x_train,y_train)\n",
        "el.score(x_train,y_train)\n",
        "predel=el.predict(x_test)\n",
        "print(lm, score(y_test,predel))\n",
        "print('error:')\n",
        "print('Mean absolute error:',mean_absolute_error(y_test,pred))\n",
        "print('Mean squared error:',mean_squared_error(y_test,pred))\n",
        "print('Root Mean squared error:',np.sqrt(mean_squared_error(y_test,pred)))"
      ],
      "execution_count": 305,
      "outputs": [
        {
          "output_type": "stream",
          "text": [
            "LinearRegression(copy_X=True, fit_intercept=True, n_jobs=None, normalize=False) 0.7910438166521276\n",
            "error:\n",
            "Mean absolute error: 135.16860644728766\n",
            "Mean squared error: 27402.299669180604\n",
            "Root Mean squared error: 165.53639983151925\n"
          ],
          "name": "stdout"
        }
      ]
    },
    {
      "cell_type": "markdown",
      "metadata": {
        "id": "PbcHH1t_R6FO"
      },
      "source": [
        "## Ensembler Techniques"
      ]
    },
    {
      "cell_type": "code",
      "metadata": {
        "colab": {
          "base_uri": "https://localhost:8080/"
        },
        "id": "u6jtzuWpR2fB",
        "outputId": "aa28fa35-3b8c-4227-97e9-795896d96eaa"
      },
      "source": [
        "from sklearn.ensemble import RandomForestRegressor\n",
        "rf=RandomForestRegressor()\n",
        "rf.fit(x_train,y_train)\n",
        "predrf=rf.predict(x_test)\n",
        "print(lm, score(y_test,predrf))\n",
        "print('error:')\n",
        "print('Mean absolute error:',mean_absolute_error(y_test,predrf))\n",
        "print('Mean squared error:',mean_squared_error(y_test,predrf))\n",
        "print('Root Mean squared error:',np.sqrt(mean_squared_error(y_test,predrf)))"
      ],
      "execution_count": 306,
      "outputs": [
        {
          "output_type": "stream",
          "text": [
            "LinearRegression(copy_X=True, fit_intercept=True, n_jobs=None, normalize=False) 0.7764934859225094\n",
            "error:\n",
            "Mean absolute error: 139.7384562719918\n",
            "Mean squared error: 32104.20712741567\n",
            "Root Mean squared error: 179.17646923470633\n"
          ],
          "name": "stdout"
        }
      ]
    },
    {
      "cell_type": "code",
      "metadata": {
        "colab": {
          "base_uri": "https://localhost:8080/"
        },
        "id": "LStsWP6AR--_",
        "outputId": "69a5bef9-d324-4eb9-f44c-44233323b817"
      },
      "source": [
        "from sklearn.ensemble import AdaBoostRegressor\n",
        "\n",
        "ad=AdaBoostRegressor()\n",
        "ad.fit(x_train,y_train)\n",
        "predad=ad.predict(x_test)\n",
        "print(lm, score(y_test,predad))\n",
        "print('error:')\n",
        "print('Mean absolute error:',mean_absolute_error(y_test,predad))\n",
        "print('Mean squared error:',mean_squared_error(y_test,predad))\n",
        "print('Root Mean squared error:',np.sqrt(mean_squared_error(y_test,predad)))"
      ],
      "execution_count": 307,
      "outputs": [
        {
          "output_type": "stream",
          "text": [
            "LinearRegression(copy_X=True, fit_intercept=True, n_jobs=None, normalize=False) 0.775973896832138\n",
            "error:\n",
            "Mean absolute error: 138.40694270616643\n",
            "Mean squared error: 27914.245825837777\n",
            "Root Mean squared error: 167.07556920698423\n"
          ],
          "name": "stdout"
        }
      ]
    },
    {
      "cell_type": "markdown",
      "metadata": {
        "id": "X33nBVHmSGYm"
      },
      "source": [
        "**Support Vector Regressor is the best algorithm.**"
      ]
    },
    {
      "cell_type": "markdown",
      "metadata": {
        "id": "QXIa6z1wSLty"
      },
      "source": [
        "\n",
        "## Cross - Validation Scores"
      ]
    },
    {
      "cell_type": "code",
      "metadata": {
        "colab": {
          "base_uri": "https://localhost:8080/"
        },
        "id": "d4YZT-DoSCF2",
        "outputId": "303f433b-bd73-405a-d2ed-0adc83d210ee"
      },
      "source": [
        "from sklearn.model_selection import cross_val_score\n",
        "svmscores=cross_val_score(svm,x,y,cv=5)\n",
        "print(svmscores)\n",
        "print(svmscores.mean(),svmscores.std())"
      ],
      "execution_count": 308,
      "outputs": [
        {
          "output_type": "stream",
          "text": [
            "[0.05323824 0.03473653 0.07383077 0.02192753 0.0642827 ]\n",
            "0.049603153347756626 0.018987558261094925\n"
          ],
          "name": "stdout"
        }
      ]
    },
    {
      "cell_type": "code",
      "metadata": {
        "colab": {
          "base_uri": "https://localhost:8080/"
        },
        "id": "B-KbyaxPSOmR",
        "outputId": "3fa1b20b-2448-4fd2-a0e7-fda2b45c5cd4"
      },
      "source": [
        "list1=[0.800720856159752]\n",
        "list2=[0.04960315334775665]\n",
        "difference=[]\n",
        "zip_object = zip(list1, list2)\n",
        "for list1_i, list2_i in zip_object:\n",
        "    difference.append(list1_i-list2_i)\n",
        "\n",
        "\n",
        "print(difference)"
      ],
      "execution_count": 309,
      "outputs": [
        {
          "output_type": "stream",
          "text": [
            "[0.7511177028119953]\n"
          ],
          "name": "stdout"
        }
      ]
    },
    {
      "cell_type": "markdown",
      "metadata": {
        "id": "RWp7rEdNST3d"
      },
      "source": [
        "\n",
        "As the difference between accuracy score and cross validation score of Support Vector Regressor is only 7 %. So, It is verified that Support Vector Regressor is the best algorithm for this model with accuracy of 80.072 % ."
      ]
    },
    {
      "cell_type": "markdown",
      "metadata": {
        "id": "62AbDR1ZTJij"
      },
      "source": [
        "\n",
        "## Saving the model"
      ]
    },
    {
      "cell_type": "code",
      "metadata": {
        "colab": {
          "base_uri": "https://localhost:8080/"
        },
        "id": "rZhPOQ81TKZG",
        "outputId": "91f3bb8c-79eb-4e47-9056-3321863c3992"
      },
      "source": [
        "import joblib\n",
        "joblib.dump(svm,\"svm_doctor_fees.obj\")"
      ],
      "execution_count": 310,
      "outputs": [
        {
          "output_type": "execute_result",
          "data": {
            "text/plain": [
              "['svm_doctor_fees.obj']"
            ]
          },
          "metadata": {
            "tags": []
          },
          "execution_count": 310
        }
      ]
    },
    {
      "cell_type": "markdown",
      "metadata": {
        "id": "TfqqPpj9TQvo"
      },
      "source": [
        "## Making Predictions"
      ]
    },
    {
      "cell_type": "code",
      "metadata": {
        "id": "K68vQJ0ITOpN"
      },
      "source": [
        "a=joblib.load(\"svm_doctor_fees.obj\")"
      ],
      "execution_count": 311,
      "outputs": []
    },
    {
      "cell_type": "code",
      "metadata": {
        "colab": {
          "base_uri": "https://localhost:8080/"
        },
        "id": "dlkNN2OvTVY4",
        "outputId": "c4cec20d-2f4a-4706-e00c-76dd9da962b4"
      },
      "source": [
        "pred"
      ],
      "execution_count": 312,
      "outputs": [
        {
          "output_type": "execute_result",
          "data": {
            "text/plain": [
              "array([350.47009425, 263.84509425, 360.90759425, 297.65759425,\n",
              "       321.47009425, 429.84509425, 293.90759425, 291.40759425,\n",
              "       260.34509425, 332.97009425, 291.90759425, 314.47009425,\n",
              "       335.65759425, 240.72009425, 259.97009425, 290.72009425,\n",
              "       397.84509425, 390.97009425, 259.59509425, 374.22009425,\n",
              "       472.22009425, 332.97009425, 394.22009425, 271.09509425,\n",
              "       284.22009425, 318.97009425, 391.84509425, 239.47009425,\n",
              "       254.97009425, 258.59509425, 256.97009425, 302.22009425,\n",
              "       289.90759425, 332.90759425, 239.97009425, 265.90759425,\n",
              "       277.59509425, 296.22009425, 224.97009425, 235.84509425,\n",
              "       274.72009425, 300.59509425, 253.59509425, 260.47009425,\n",
              "       301.47009425, 322.22009425, 276.22009425, 301.72009425,\n",
              "       422.84509425, 245.84509425, 256.09509425, 300.47009425,\n",
              "       291.40759425, 256.97009425, 237.72009425, 471.72009425,\n",
              "       464.72009425, 332.97009425, 242.47009425, 252.22009425,\n",
              "       242.47009425, 290.72009425, 377.22009425, 248.34509425,\n",
              "       389.22009425, 366.72009425, 257.84509425, 231.84509425,\n",
              "       280.40759425, 297.65759425, 220.47009425, 388.72009425,\n",
              "       358.22009425, 262.34509425, 288.97009425, 247.59509425,\n",
              "       246.34509425, 259.09509425, 269.34509425, 394.22009425,\n",
              "       230.09509425, 237.59509425, 296.65759425, 291.40759425,\n",
              "       350.97009425, 255.34509425, 332.97009425, 375.22009425,\n",
              "       319.22009425, 310.22009425, 258.84509425, 317.97009425,\n",
              "       232.97009425, 232.47009425, 303.97009425, 385.72009425,\n",
              "       291.90759425, 381.22009425, 332.40759425, 294.22009425,\n",
              "       231.97009425, 257.34509425, 319.47009425, 318.97009425,\n",
              "       407.47009425, 262.84509425, 249.09509425, 324.90759425,\n",
              "       242.09509425, 356.90759425, 266.40759425, 260.84509425,\n",
              "       235.59509425, 293.40759425, 408.22009425, 321.22009425,\n",
              "       296.84509425, 256.34509425, 295.72009425, 284.97009425,\n",
              "       294.34509425, 236.47009425, 243.34509425, 291.22009425,\n",
              "       389.22009425, 235.22009425, 322.22009425, 317.90759425,\n",
              "       422.09509425, 296.97009425, 256.59509425, 247.34509425,\n",
              "       299.34509425, 403.72009425, 259.59509425, 303.22009425,\n",
              "       231.72009425, 295.15759425, 379.97009425, 316.97009425,\n",
              "       298.72009425, 235.72009425, 246.84509425, 328.40759425,\n",
              "       322.47009425, 362.97009425, 322.72009425, 261.59509425,\n",
              "       329.90759425, 257.47009425, 237.84509425, 304.59509425,\n",
              "       359.72009425, 429.47009425, 259.59509425, 356.97009425,\n",
              "       234.72009425, 287.22009425, 256.34509425, 319.47009425,\n",
              "       372.72009425, 265.40759425, 293.47009425, 313.72009425,\n",
              "       265.22009425, 354.90759425, 235.59509425, 255.72009425,\n",
              "       357.72009425, 278.59509425, 326.90759425, 233.47009425,\n",
              "       296.72009425, 378.72009425, 273.59509425, 374.72009425,\n",
              "       237.84509425, 236.34509425, 298.47009425, 306.97009425,\n",
              "       361.47009425, 317.97009425, 295.40759425, 291.90759425,\n",
              "       246.34509425, 294.40759425, 259.34509425, 242.59509425,\n",
              "       296.34509425, 322.72009425, 419.97009425, 291.59509425,\n",
              "       353.72009425, 372.97009425, 257.34509425, 230.09509425,\n",
              "       297.47009425, 282.34509425, 293.90759425, 468.72009425,\n",
              "       324.72009425, 296.84509425, 274.72009425, 420.09509425,\n",
              "       295.40759425, 259.09509425, 312.22009425, 274.72009425,\n",
              "       270.90759425, 238.72009425, 257.84509425, 342.72009425,\n",
              "       303.97009425, 258.34509425, 388.22009425, 297.97009425,\n",
              "       257.34509425, 278.40759425, 240.72009425, 295.40759425,\n",
              "       248.34509425, 245.34509425, 237.84509425, 273.47009425,\n",
              "       262.09509425, 353.97009425, 212.59509425, 365.84509425,\n",
              "       315.47009425, 242.97009425, 240.22009425, 374.22009425,\n",
              "       262.09509425, 330.90759425, 429.84509425, 222.22009425,\n",
              "       301.47009425, 418.22009425, 294.40759425, 232.97009425,\n",
              "       317.72009425, 302.59509425, 258.84509425, 270.90759425,\n",
              "       294.40759425, 391.22009425, 320.47009425, 227.59509425,\n",
              "       365.22009425, 259.59509425, 431.59509425, 224.22009425,\n",
              "       228.47009425, 310.97009425, 406.97009425, 236.47009425,\n",
              "       312.72009425, 301.84509425, 235.22009425, 248.34509425,\n",
              "       257.84509425, 239.59509425, 459.22009425, 389.97009425,\n",
              "       330.40759425, 410.72009425, 402.22009425, 317.72009425,\n",
              "       370.72009425, 234.09509425, 257.34509425, 238.22009425,\n",
              "       279.22009425, 240.97009425, 295.09509425, 258.34509425,\n",
              "       265.47009425, 256.09509425, 306.47009425, 369.47009425,\n",
              "       277.22009425, 234.84509425, 259.84509425, 294.97009425,\n",
              "       329.15759425, 367.47009425, 212.22009425, 210.22009425,\n",
              "       322.97009425, 339.72009425, 323.97009425, 297.97009425,\n",
              "       244.22009425, 352.22009425, 261.59509425, 281.34509425,\n",
              "       422.97009425, 292.40759425, 279.22009425, 274.72009425,\n",
              "       275.22009425, 264.15759425, 294.65759425, 397.22009425,\n",
              "       318.97009425, 233.22009425, 279.97009425, 237.34509425,\n",
              "       365.72009425, 414.59509425, 240.59509425, 286.90759425,\n",
              "       399.47009425, 243.97009425, 301.72009425, 286.22009425,\n",
              "       256.34509425, 232.72009425, 283.40759425, 319.47009425,\n",
              "       390.47009425, 261.72009425, 388.72009425, 276.90759425,\n",
              "       239.09509425, 390.47009425, 392.22009425, 245.22009425,\n",
              "       385.59509425, 317.72009425, 249.84509425, 244.34509425,\n",
              "       418.22009425, 367.72009425, 236.84509425, 231.34509425,\n",
              "       298.22009425, 234.72009425, 248.34509425, 391.84509425,\n",
              "       463.72009425, 319.72009425, 299.34509425, 393.47009425,\n",
              "       430.84509425, 288.40759425, 368.72009425, 300.65759425,\n",
              "       321.22009425, 279.59509425, 247.47009425, 420.47009425,\n",
              "       274.09509425, 296.72009425, 244.34509425, 257.34509425,\n",
              "       332.40759425, 227.72009425, 231.84509425, 411.22009425,\n",
              "       382.34509425, 269.40759425, 390.47009425, 389.47009425,\n",
              "       245.84509425, 391.47009425, 253.84509425, 266.09509425,\n",
              "       236.22009425, 311.40759425, 292.40759425, 231.84509425,\n",
              "       259.09509425, 414.59509425, 419.22009425, 217.97009425,\n",
              "       394.34509425, 290.97009425, 249.09509425, 265.90759425,\n",
              "       262.84509425, 281.40759425, 384.72009425, 374.22009425,\n",
              "       463.72009425, 264.90759425, 237.84509425, 379.34509425,\n",
              "       297.47009425, 364.34509425, 258.09509425, 240.97009425,\n",
              "       236.84509425, 234.34509425, 239.84509425, 374.72009425,\n",
              "       299.34509425, 242.59509425, 302.15759425, 243.84509425,\n",
              "       239.97009425, 255.34509425, 299.22009425, 332.90759425,\n",
              "       279.97009425, 223.22009425, 231.84509425, 284.72009425,\n",
              "       229.72009425, 276.59509425, 232.72009425, 275.22009425,\n",
              "       384.72009425, 424.34509425, 292.22009425, 257.84509425,\n",
              "       234.47009425, 468.59509425, 244.22009425, 242.09509425,\n",
              "       258.84509425, 279.90759425, 289.40759425, 322.97009425,\n",
              "       248.34509425, 258.59509425, 290.15759425, 240.97009425,\n",
              "       318.22009425, 235.59509425, 354.72009425, 288.40759425,\n",
              "       294.84509425, 239.09509425, 360.72009425, 287.65759425,\n",
              "       254.97009425, 246.34509425, 241.97009425, 231.34509425,\n",
              "       258.59509425, 381.97009425, 302.59509425, 297.22009425,\n",
              "       425.72009425, 332.40759425, 286.90759425, 222.22009425,\n",
              "       232.56636477, 295.27040075, 324.00386477, 276.15759425,\n",
              "       225.72009425, 262.84509425, 309.47009425, 285.47009425,\n",
              "       378.84509425, 272.84509425, 330.40759425, 274.09509425,\n",
              "       352.22009425, 234.34509425, 220.47009425, 282.90759425,\n",
              "       272.84509425, 292.90759425, 376.22009425, 238.22009425,\n",
              "       308.22009425, 230.72009425, 236.84509425, 238.22009425,\n",
              "       358.47009425, 298.40759425, 233.47009425, 374.72009425,\n",
              "       275.72009425, 260.84509425, 232.97009425, 418.22009425,\n",
              "       291.90759425, 335.40759425, 375.22009425, 353.72009425,\n",
              "       244.34509425, 334.15759425, 227.59509425, 231.47009425,\n",
              "       251.34509425, 242.59509425, 337.90759425, 329.90759425,\n",
              "       282.40759425, 399.72009425, 248.22009425, 243.34509425,\n",
              "       294.40759425, 235.84509425, 423.97009425, 265.90759425,\n",
              "       290.15759425, 286.22009425, 230.72009425, 212.22009425,\n",
              "       300.59509425, 361.97009425, 277.90759425, 212.22009425,\n",
              "       288.40759425, 295.15759425, 462.22009425, 243.72009425,\n",
              "       247.72009425, 321.72009425, 299.97009425, 262.09509425,\n",
              "       421.22009425, 249.59509425, 239.47009425, 267.90759425,\n",
              "       432.09509425, 237.34509425, 378.72009425, 288.40759425,\n",
              "       264.34509425, 348.47009425, 229.97009425, 298.47009425,\n",
              "       296.90759425, 361.97009425, 327.90759425, 395.34509425,\n",
              "       286.15759425, 258.34509425, 381.22009425, 423.59509425,\n",
              "       242.97009425, 268.09509425, 243.47009425, 295.72009425,\n",
              "       292.90759425, 319.72009425, 428.84509425, 315.72009425,\n",
              "       232.47009425, 231.84509425, 386.72009425, 257.84509425,\n",
              "       247.47009425, 264.22009425, 232.47009425, 227.47009425,\n",
              "       384.47009425, 291.40759425, 393.97009425, 294.34509425,\n",
              "       284.65759425, 393.47009425, 259.90759425, 231.97009425,\n",
              "       296.65759425, 264.90759425, 355.09509425, 406.97009425,\n",
              "       302.22009425, 322.72009425, 277.90759425, 235.72009425,\n",
              "       461.72009425, 310.22009425, 231.84509425, 418.72009425,\n",
              "       306.22009425, 207.84509425, 393.47009425, 381.47009425,\n",
              "       261.59509425, 324.22009425, 293.90759425, 258.34509425,\n",
              "       365.34509425, 240.22009425, 308.72009425, 259.59509425,\n",
              "       242.47009425, 301.47009425, 365.09509425, 452.22009425,\n",
              "       242.72009425, 296.97009425, 319.97009425, 242.59509425,\n",
              "       260.34509425, 223.72009425, 398.22009425, 419.22009425,\n",
              "       256.97009425, 334.40759425, 239.84509425, 317.47009425,\n",
              "       240.22009425, 246.47009425, 291.40759425, 332.97009425,\n",
              "       427.59509425, 362.97009425, 287.65759425, 353.15759425,\n",
              "       396.97009425, 295.15759425, 263.59509425, 303.72009425,\n",
              "       266.59509425, 305.47009425, 355.09509425, 236.34509425,\n",
              "       387.72009425, 245.84509425, 266.40759425, 227.97009425,\n",
              "       295.72009425, 253.22009425, 291.40759425, 241.84509425,\n",
              "       325.22009425, 365.34509425, 265.40759425, 236.34509425,\n",
              "       386.72009425, 295.09509425, 303.47009425, 275.72009425,\n",
              "       343.47009425, 293.90759425, 371.97009425, 242.72009425,\n",
              "       275.59509425, 275.72009425, 231.34509425, 314.47009425,\n",
              "       302.22009425, 230.72009425, 303.22009425, 286.22009425,\n",
              "       331.90759425, 287.15759425, 261.72009425, 288.40759425,\n",
              "       318.72009425, 263.47009425, 207.09509425, 334.15759425,\n",
              "       233.47009425, 299.47009425, 318.22009425, 430.84509425,\n",
              "       266.90759425, 311.97009425, 326.15759425, 275.22009425,\n",
              "       394.72009425, 427.84509425, 331.90759425, 274.90759425,\n",
              "       356.22009425, 469.22009425, 292.90759425, 360.22009425,\n",
              "       286.22009425, 273.47009425, 234.84509425, 220.47009425,\n",
              "       257.34509425, 235.34509425, 356.72009425, 430.84509425,\n",
              "       348.72009425, 234.72009425, 357.22009425, 286.22009425,\n",
              "       261.22009425, 281.90759425, 294.40759425, 263.84509425,\n",
              "       338.65759425, 405.47009425, 309.22009425, 286.90759425,\n",
              "       229.34509425, 243.84509425, 390.47009425, 386.47009425,\n",
              "       326.15759425, 293.90759425, 259.59509425, 266.40759425,\n",
              "       245.97009425, 281.34509425, 330.90759425, 394.72009425,\n",
              "       297.65759425, 240.72009425, 313.72009425, 337.90759425,\n",
              "       291.90759425, 278.47009425, 263.09509425, 258.84509425,\n",
              "       256.59509425, 356.72009425, 352.72009425, 261.22009425,\n",
              "       225.47009425, 293.47009425, 356.40759425, 332.97009425,\n",
              "       316.97009425, 296.65759425, 348.47009425, 424.22009425,\n",
              "       309.22009425, 418.72009425, 250.34509425, 210.22009425,\n",
              "       394.97009425, 257.84509425, 336.90759425, 463.72009425,\n",
              "       322.22009425, 414.59509425, 360.22009425, 418.72009425,\n",
              "       295.72009425, 351.72009425, 359.22009425, 405.72009425,\n",
              "       410.47009425, 219.22009425, 365.34509425, 229.34509425,\n",
              "       250.34509425, 268.09509425, 254.09509425, 326.15759425,\n",
              "       262.84509425, 230.22009425, 235.72009425, 362.97009425,\n",
              "       394.59509425, 353.72009425, 391.47009425, 243.84509425,\n",
              "       287.65759425, 408.72009425, 263.59509425, 277.22009425,\n",
              "       266.40759425, 240.84509425, 383.47009425, 245.34509425,\n",
              "       375.97009425, 260.84509425, 461.72009425, 357.47009425,\n",
              "       234.34509425, 232.22009425, 231.97009425, 329.15759425,\n",
              "       379.34509425, 364.84509425, 350.72009425, 221.22009425,\n",
              "       316.72009425, 291.22009425, 289.15759425, 303.72009425,\n",
              "       305.97009425, 280.90759425, 327.90759425, 355.72009425,\n",
              "       428.97009425, 300.47009425, 426.47009425, 332.40759425,\n",
              "       252.84509425, 314.72009425, 244.34509425, 358.47009425,\n",
              "       299.84509425, 292.47009425, 292.40759425, 242.09509425,\n",
              "       232.47009425, 226.97009425, 427.72009425, 272.84509425,\n",
              "       247.34509425, 373.47009425, 304.90759425, 352.22009425,\n",
              "       238.22009425, 462.22009425, 243.72009425, 281.15759425,\n",
              "       290.90759425, 385.59509425, 296.34509425, 245.22009425,\n",
              "       381.97009425, 281.34509425, 258.34509425, 393.09509425,\n",
              "       235.72009425, 323.97009425, 242.09509425, 358.47009425,\n",
              "       391.72009425, 257.47009425, 299.72009425, 235.84509425,\n",
              "       262.34509425, 294.47009425, 375.22009425, 323.97009425,\n",
              "       293.47009425, 329.90759425, 214.22009425, 216.47009425,\n",
              "       299.65759425, 222.22009425, 229.97009425, 378.34509425,\n",
              "       415.34509425, 232.47009425, 323.97009425, 261.34509425,\n",
              "       242.59509425, 316.97009425, 262.47009425, 245.84509425,\n",
              "       295.15759425, 337.40759425, 308.59509425, 272.09509425,\n",
              "       326.90759425, 224.22009425, 249.84509425, 258.84509425,\n",
              "       242.09509425, 247.34509425, 347.47009425, 299.34509425,\n",
              "       388.34509425, 316.22009425, 413.22009425, 407.47009425,\n",
              "       304.72009425, 235.22009425, 236.84509425, 277.59509425,\n",
              "       297.72009425, 339.40759425, 431.59509425, 316.22009425,\n",
              "       246.84509425, 381.59509425, 391.84509425, 274.09509425,\n",
              "       241.59509425, 235.72009425, 335.90759425, 388.97009425,\n",
              "       233.47009425, 372.40759425, 313.22009425, 429.09509425,\n",
              "       245.34509425, 234.34509425, 309.22009425, 381.22009425,\n",
              "       386.72009425, 281.09509425, 300.59509425, 296.65759425,\n",
              "       289.90759425, 290.90759425, 301.47009425, 248.34509425,\n",
              "       365.84509425, 239.47009425, 276.15759425, 238.72009425,\n",
              "       419.22009425, 234.72009425, 234.47009425, 233.47009425,\n",
              "       314.72009425, 262.84509425, 335.22009425, 240.06636477,\n",
              "       290.52040075, 260.56636477])"
            ]
          },
          "metadata": {
            "tags": []
          },
          "execution_count": 312
        }
      ]
    },
    {
      "cell_type": "code",
      "metadata": {
        "id": "7DIUy1FDTY3i"
      },
      "source": [
        "df_2=pd.DataFrame(pred)\n",
        "df_2.to_csv('doctor_fees_submission_final.csv')"
      ],
      "execution_count": 313,
      "outputs": []
    },
    {
      "cell_type": "code",
      "metadata": {
        "id": "S5fNrAZ-Tg6O"
      },
      "source": [
        ""
      ],
      "execution_count": 313,
      "outputs": []
    }
  ]
}