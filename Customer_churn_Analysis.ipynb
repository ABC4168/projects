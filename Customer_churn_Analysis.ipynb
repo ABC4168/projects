{
  "nbformat": 4,
  "nbformat_minor": 0,
  "metadata": {
    "colab": {
      "name": "Customer churn Analysis",
      "provenance": [],
      "collapsed_sections": []
    },
    "kernelspec": {
      "name": "python3",
      "display_name": "Python 3"
    },
    "language_info": {
      "name": "python"
    }
  },
  "cells": [
    {
      "cell_type": "markdown",
      "metadata": {
        "id": "pevV1l0TtDSw"
      },
      "source": [
        "# Customer Churn Analysis\n",
        "\n",
        "**Problem Statement:-**\n",
        "\n",
        "Customer churn is when a company’s customers stop doing business with that company. Businesses are very keen on measuring churn because keeping an existing customer is far less expensive than acquiring a new customer. New business involves working leads through a sales funnel, using marketing and sales budgets to gain additional customers. Existing customers will often have a higher volume of service consumption and can generate additional customer referrals.\n",
        "\n",
        "Customer retention can be achieved with good customer service and products. But the most effective way for a company to prevent attrition of customers is to truly know them. The vast volumes of data collected about customers can be used to build churn prediction models. Knowing who is most likely to defect means that a company can prioritise focused marketing efforts on that subset of their customer base.\n",
        "\n",
        "Preventing customer churn is critically important to the telecommunications sector, as the barriers to entry for switching services are so low. "
      ]
    },
    {
      "cell_type": "markdown",
      "metadata": {
        "id": "4wuLCaQg4cTE"
      },
      "source": [
        "## Importing the essential libraries"
      ]
    },
    {
      "cell_type": "code",
      "metadata": {
        "id": "ezlAhiCmsrXu"
      },
      "source": [
        "import numpy as np \n",
        "import pandas as pd\n",
        "import matplotlib.pyplot as plt\n",
        "import seaborn as sns\n",
        "import scipy\n",
        "import sklearn\n",
        "from sklearn.model_selection import train_test_split\n",
        "from sklearn.naive_bayes import GaussianNB\n",
        "from sklearn.linear_model import LogisticRegression\n",
        "from sklearn.metrics import accuracy_score, classification_report,confusion_matrix\n",
        "from sklearn.svm import SVC\n",
        "from sklearn.tree import DecisionTreeClassifier\n",
        "from sklearn.neighbors import KNeighborsClassifier\n",
        "from sklearn.model_selection import GridSearchCV\n",
        "from sklearn.model_selection import cross_val_score\n",
        "import warnings\n",
        "warnings.filterwarnings('ignore')"
      ],
      "execution_count": 1,
      "outputs": []
    },
    {
      "cell_type": "code",
      "metadata": {
        "colab": {
          "base_uri": "https://localhost:8080/",
          "height": 309
        },
        "id": "5zjA3FXJtkMX",
        "outputId": "9a993b31-3c76-4645-c3f0-00015f82dda0"
      },
      "source": [
        "df=pd.read_csv('/content/customer Churn analisys.csv')\n",
        "df.head()"
      ],
      "execution_count": 2,
      "outputs": [
        {
          "output_type": "execute_result",
          "data": {
            "text/html": [
              "<div>\n",
              "<style scoped>\n",
              "    .dataframe tbody tr th:only-of-type {\n",
              "        vertical-align: middle;\n",
              "    }\n",
              "\n",
              "    .dataframe tbody tr th {\n",
              "        vertical-align: top;\n",
              "    }\n",
              "\n",
              "    .dataframe thead th {\n",
              "        text-align: right;\n",
              "    }\n",
              "</style>\n",
              "<table border=\"1\" class=\"dataframe\">\n",
              "  <thead>\n",
              "    <tr style=\"text-align: right;\">\n",
              "      <th></th>\n",
              "      <th>customerID</th>\n",
              "      <th>gender</th>\n",
              "      <th>SeniorCitizen</th>\n",
              "      <th>Partner</th>\n",
              "      <th>Dependents</th>\n",
              "      <th>tenure</th>\n",
              "      <th>PhoneService</th>\n",
              "      <th>MultipleLines</th>\n",
              "      <th>InternetService</th>\n",
              "      <th>OnlineSecurity</th>\n",
              "      <th>OnlineBackup</th>\n",
              "      <th>DeviceProtection</th>\n",
              "      <th>TechSupport</th>\n",
              "      <th>StreamingTV</th>\n",
              "      <th>StreamingMovies</th>\n",
              "      <th>Contract</th>\n",
              "      <th>PaperlessBilling</th>\n",
              "      <th>PaymentMethod</th>\n",
              "      <th>MonthlyCharges</th>\n",
              "      <th>TotalCharges</th>\n",
              "      <th>Churn</th>\n",
              "    </tr>\n",
              "  </thead>\n",
              "  <tbody>\n",
              "    <tr>\n",
              "      <th>0</th>\n",
              "      <td>7590-VHVEG</td>\n",
              "      <td>Female</td>\n",
              "      <td>0</td>\n",
              "      <td>Yes</td>\n",
              "      <td>No</td>\n",
              "      <td>1</td>\n",
              "      <td>No</td>\n",
              "      <td>No phone service</td>\n",
              "      <td>DSL</td>\n",
              "      <td>No</td>\n",
              "      <td>Yes</td>\n",
              "      <td>No</td>\n",
              "      <td>No</td>\n",
              "      <td>No</td>\n",
              "      <td>No</td>\n",
              "      <td>Month-to-month</td>\n",
              "      <td>Yes</td>\n",
              "      <td>Electronic check</td>\n",
              "      <td>29.85</td>\n",
              "      <td>29.85</td>\n",
              "      <td>No</td>\n",
              "    </tr>\n",
              "    <tr>\n",
              "      <th>1</th>\n",
              "      <td>5575-GNVDE</td>\n",
              "      <td>Male</td>\n",
              "      <td>0</td>\n",
              "      <td>No</td>\n",
              "      <td>No</td>\n",
              "      <td>34</td>\n",
              "      <td>Yes</td>\n",
              "      <td>No</td>\n",
              "      <td>DSL</td>\n",
              "      <td>Yes</td>\n",
              "      <td>No</td>\n",
              "      <td>Yes</td>\n",
              "      <td>No</td>\n",
              "      <td>No</td>\n",
              "      <td>No</td>\n",
              "      <td>One year</td>\n",
              "      <td>No</td>\n",
              "      <td>Mailed check</td>\n",
              "      <td>56.95</td>\n",
              "      <td>1889.5</td>\n",
              "      <td>No</td>\n",
              "    </tr>\n",
              "    <tr>\n",
              "      <th>2</th>\n",
              "      <td>3668-QPYBK</td>\n",
              "      <td>Male</td>\n",
              "      <td>0</td>\n",
              "      <td>No</td>\n",
              "      <td>No</td>\n",
              "      <td>2</td>\n",
              "      <td>Yes</td>\n",
              "      <td>No</td>\n",
              "      <td>DSL</td>\n",
              "      <td>Yes</td>\n",
              "      <td>Yes</td>\n",
              "      <td>No</td>\n",
              "      <td>No</td>\n",
              "      <td>No</td>\n",
              "      <td>No</td>\n",
              "      <td>Month-to-month</td>\n",
              "      <td>Yes</td>\n",
              "      <td>Mailed check</td>\n",
              "      <td>53.85</td>\n",
              "      <td>108.15</td>\n",
              "      <td>Yes</td>\n",
              "    </tr>\n",
              "    <tr>\n",
              "      <th>3</th>\n",
              "      <td>7795-CFOCW</td>\n",
              "      <td>Male</td>\n",
              "      <td>0</td>\n",
              "      <td>No</td>\n",
              "      <td>No</td>\n",
              "      <td>45</td>\n",
              "      <td>No</td>\n",
              "      <td>No phone service</td>\n",
              "      <td>DSL</td>\n",
              "      <td>Yes</td>\n",
              "      <td>No</td>\n",
              "      <td>Yes</td>\n",
              "      <td>Yes</td>\n",
              "      <td>No</td>\n",
              "      <td>No</td>\n",
              "      <td>One year</td>\n",
              "      <td>No</td>\n",
              "      <td>Bank transfer (automatic)</td>\n",
              "      <td>42.30</td>\n",
              "      <td>1840.75</td>\n",
              "      <td>No</td>\n",
              "    </tr>\n",
              "    <tr>\n",
              "      <th>4</th>\n",
              "      <td>9237-HQITU</td>\n",
              "      <td>Female</td>\n",
              "      <td>0</td>\n",
              "      <td>No</td>\n",
              "      <td>No</td>\n",
              "      <td>2</td>\n",
              "      <td>Yes</td>\n",
              "      <td>No</td>\n",
              "      <td>Fiber optic</td>\n",
              "      <td>No</td>\n",
              "      <td>No</td>\n",
              "      <td>No</td>\n",
              "      <td>No</td>\n",
              "      <td>No</td>\n",
              "      <td>No</td>\n",
              "      <td>Month-to-month</td>\n",
              "      <td>Yes</td>\n",
              "      <td>Electronic check</td>\n",
              "      <td>70.70</td>\n",
              "      <td>151.65</td>\n",
              "      <td>Yes</td>\n",
              "    </tr>\n",
              "  </tbody>\n",
              "</table>\n",
              "</div>"
            ],
            "text/plain": [
              "   customerID  gender  SeniorCitizen  ... MonthlyCharges TotalCharges  Churn\n",
              "0  7590-VHVEG  Female              0  ...          29.85        29.85     No\n",
              "1  5575-GNVDE    Male              0  ...          56.95       1889.5     No\n",
              "2  3668-QPYBK    Male              0  ...          53.85       108.15    Yes\n",
              "3  7795-CFOCW    Male              0  ...          42.30      1840.75     No\n",
              "4  9237-HQITU  Female              0  ...          70.70       151.65    Yes\n",
              "\n",
              "[5 rows x 21 columns]"
            ]
          },
          "metadata": {
            "tags": []
          },
          "execution_count": 2
        }
      ]
    },
    {
      "cell_type": "markdown",
      "metadata": {
        "id": "Kd6Mrqbytty5"
      },
      "source": [
        "There are 5 rows and 21 columns ."
      ]
    },
    {
      "cell_type": "code",
      "metadata": {
        "colab": {
          "base_uri": "https://localhost:8080/"
        },
        "id": "sV_tiojhtqbI",
        "outputId": "e7a4b6d8-ea19-413e-8d7a-63f285b1dd95"
      },
      "source": [
        "df.shape"
      ],
      "execution_count": 3,
      "outputs": [
        {
          "output_type": "execute_result",
          "data": {
            "text/plain": [
              "(7043, 21)"
            ]
          },
          "metadata": {
            "tags": []
          },
          "execution_count": 3
        }
      ]
    },
    {
      "cell_type": "markdown",
      "metadata": {
        "id": "Z4jwvXVz4pjS"
      },
      "source": [
        "There are 7043 rows and 21 columns ."
      ]
    },
    {
      "cell_type": "code",
      "metadata": {
        "colab": {
          "base_uri": "https://localhost:8080/"
        },
        "id": "jCp3DMIAt4Bc",
        "outputId": "ffa08723-7ed8-4138-bd5c-1dc99d107e8d"
      },
      "source": [
        "df.dtypes"
      ],
      "execution_count": 4,
      "outputs": [
        {
          "output_type": "execute_result",
          "data": {
            "text/plain": [
              "customerID           object\n",
              "gender               object\n",
              "SeniorCitizen         int64\n",
              "Partner              object\n",
              "Dependents           object\n",
              "tenure                int64\n",
              "PhoneService         object\n",
              "MultipleLines        object\n",
              "InternetService      object\n",
              "OnlineSecurity       object\n",
              "OnlineBackup         object\n",
              "DeviceProtection     object\n",
              "TechSupport          object\n",
              "StreamingTV          object\n",
              "StreamingMovies      object\n",
              "Contract             object\n",
              "PaperlessBilling     object\n",
              "PaymentMethod        object\n",
              "MonthlyCharges      float64\n",
              "TotalCharges         object\n",
              "Churn                object\n",
              "dtype: object"
            ]
          },
          "metadata": {
            "tags": []
          },
          "execution_count": 4
        }
      ]
    },
    {
      "cell_type": "code",
      "metadata": {
        "colab": {
          "base_uri": "https://localhost:8080/"
        },
        "id": "nBoswgT6t7AN",
        "outputId": "18733d9e-fae8-4fc3-a222-029874545c45"
      },
      "source": [
        "df.columns"
      ],
      "execution_count": 5,
      "outputs": [
        {
          "output_type": "execute_result",
          "data": {
            "text/plain": [
              "Index(['customerID', 'gender', 'SeniorCitizen', 'Partner', 'Dependents',\n",
              "       'tenure', 'PhoneService', 'MultipleLines', 'InternetService',\n",
              "       'OnlineSecurity', 'OnlineBackup', 'DeviceProtection', 'TechSupport',\n",
              "       'StreamingTV', 'StreamingMovies', 'Contract', 'PaperlessBilling',\n",
              "       'PaymentMethod', 'MonthlyCharges', 'TotalCharges', 'Churn'],\n",
              "      dtype='object')"
            ]
          },
          "metadata": {
            "tags": []
          },
          "execution_count": 5
        }
      ]
    },
    {
      "cell_type": "code",
      "metadata": {
        "colab": {
          "base_uri": "https://localhost:8080/"
        },
        "id": "o1qx-poXt-H_",
        "outputId": "298a8d00-33ee-4309-ec50-570fb1b4b6a0"
      },
      "source": [
        "df.info()"
      ],
      "execution_count": 6,
      "outputs": [
        {
          "output_type": "stream",
          "text": [
            "<class 'pandas.core.frame.DataFrame'>\n",
            "RangeIndex: 7043 entries, 0 to 7042\n",
            "Data columns (total 21 columns):\n",
            " #   Column            Non-Null Count  Dtype  \n",
            "---  ------            --------------  -----  \n",
            " 0   customerID        7043 non-null   object \n",
            " 1   gender            7043 non-null   object \n",
            " 2   SeniorCitizen     7043 non-null   int64  \n",
            " 3   Partner           7043 non-null   object \n",
            " 4   Dependents        7043 non-null   object \n",
            " 5   tenure            7043 non-null   int64  \n",
            " 6   PhoneService      7043 non-null   object \n",
            " 7   MultipleLines     7043 non-null   object \n",
            " 8   InternetService   7043 non-null   object \n",
            " 9   OnlineSecurity    7043 non-null   object \n",
            " 10  OnlineBackup      7043 non-null   object \n",
            " 11  DeviceProtection  7043 non-null   object \n",
            " 12  TechSupport       7043 non-null   object \n",
            " 13  StreamingTV       7043 non-null   object \n",
            " 14  StreamingMovies   7043 non-null   object \n",
            " 15  Contract          7043 non-null   object \n",
            " 16  PaperlessBilling  7043 non-null   object \n",
            " 17  PaymentMethod     7043 non-null   object \n",
            " 18  MonthlyCharges    7043 non-null   float64\n",
            " 19  TotalCharges      7043 non-null   object \n",
            " 20  Churn             7043 non-null   object \n",
            "dtypes: float64(1), int64(2), object(18)\n",
            "memory usage: 1.1+ MB\n"
          ],
          "name": "stdout"
        }
      ]
    },
    {
      "cell_type": "markdown",
      "metadata": {
        "id": "wdUuH8l-uEDb"
      },
      "source": [
        "## Statistical Information"
      ]
    },
    {
      "cell_type": "code",
      "metadata": {
        "colab": {
          "base_uri": "https://localhost:8080/",
          "height": 297
        },
        "id": "J0BBCZlyuAwf",
        "outputId": "af39d887-4398-40d9-e387-f0370f3a1ed1"
      },
      "source": [
        "df.describe()"
      ],
      "execution_count": 7,
      "outputs": [
        {
          "output_type": "execute_result",
          "data": {
            "text/html": [
              "<div>\n",
              "<style scoped>\n",
              "    .dataframe tbody tr th:only-of-type {\n",
              "        vertical-align: middle;\n",
              "    }\n",
              "\n",
              "    .dataframe tbody tr th {\n",
              "        vertical-align: top;\n",
              "    }\n",
              "\n",
              "    .dataframe thead th {\n",
              "        text-align: right;\n",
              "    }\n",
              "</style>\n",
              "<table border=\"1\" class=\"dataframe\">\n",
              "  <thead>\n",
              "    <tr style=\"text-align: right;\">\n",
              "      <th></th>\n",
              "      <th>SeniorCitizen</th>\n",
              "      <th>tenure</th>\n",
              "      <th>MonthlyCharges</th>\n",
              "    </tr>\n",
              "  </thead>\n",
              "  <tbody>\n",
              "    <tr>\n",
              "      <th>count</th>\n",
              "      <td>7043.000000</td>\n",
              "      <td>7043.000000</td>\n",
              "      <td>7043.000000</td>\n",
              "    </tr>\n",
              "    <tr>\n",
              "      <th>mean</th>\n",
              "      <td>0.162147</td>\n",
              "      <td>32.371149</td>\n",
              "      <td>64.761692</td>\n",
              "    </tr>\n",
              "    <tr>\n",
              "      <th>std</th>\n",
              "      <td>0.368612</td>\n",
              "      <td>24.559481</td>\n",
              "      <td>30.090047</td>\n",
              "    </tr>\n",
              "    <tr>\n",
              "      <th>min</th>\n",
              "      <td>0.000000</td>\n",
              "      <td>0.000000</td>\n",
              "      <td>18.250000</td>\n",
              "    </tr>\n",
              "    <tr>\n",
              "      <th>25%</th>\n",
              "      <td>0.000000</td>\n",
              "      <td>9.000000</td>\n",
              "      <td>35.500000</td>\n",
              "    </tr>\n",
              "    <tr>\n",
              "      <th>50%</th>\n",
              "      <td>0.000000</td>\n",
              "      <td>29.000000</td>\n",
              "      <td>70.350000</td>\n",
              "    </tr>\n",
              "    <tr>\n",
              "      <th>75%</th>\n",
              "      <td>0.000000</td>\n",
              "      <td>55.000000</td>\n",
              "      <td>89.850000</td>\n",
              "    </tr>\n",
              "    <tr>\n",
              "      <th>max</th>\n",
              "      <td>1.000000</td>\n",
              "      <td>72.000000</td>\n",
              "      <td>118.750000</td>\n",
              "    </tr>\n",
              "  </tbody>\n",
              "</table>\n",
              "</div>"
            ],
            "text/plain": [
              "       SeniorCitizen       tenure  MonthlyCharges\n",
              "count    7043.000000  7043.000000     7043.000000\n",
              "mean        0.162147    32.371149       64.761692\n",
              "std         0.368612    24.559481       30.090047\n",
              "min         0.000000     0.000000       18.250000\n",
              "25%         0.000000     9.000000       35.500000\n",
              "50%         0.000000    29.000000       70.350000\n",
              "75%         0.000000    55.000000       89.850000\n",
              "max         1.000000    72.000000      118.750000"
            ]
          },
          "metadata": {
            "tags": []
          },
          "execution_count": 7
        }
      ]
    },
    {
      "cell_type": "markdown",
      "metadata": {
        "id": "WlJkFAfzuN-w"
      },
      "source": [
        "Observations :-\n",
        "\n",
        "1) The mean is more than median for Senior Citizen and Tenure.\n",
        "\n",
        "2) There is large difference between 75 % and max for Monthly Charges Column."
      ]
    },
    {
      "cell_type": "markdown",
      "metadata": {
        "id": "D9ee2KHTufzQ"
      },
      "source": [
        "\n",
        "## Exploring Target Variable"
      ]
    },
    {
      "cell_type": "code",
      "metadata": {
        "colab": {
          "base_uri": "https://localhost:8080/"
        },
        "id": "lVp3CVNhugvl",
        "outputId": "2252f50c-4fac-4085-c95b-c3fc6bdbf89f"
      },
      "source": [
        "df['Churn'].value_counts()"
      ],
      "execution_count": 8,
      "outputs": [
        {
          "output_type": "execute_result",
          "data": {
            "text/plain": [
              "No     5174\n",
              "Yes    1869\n",
              "Name: Churn, dtype: int64"
            ]
          },
          "metadata": {
            "tags": []
          },
          "execution_count": 8
        }
      ]
    },
    {
      "cell_type": "markdown",
      "metadata": {
        "id": "2RP8dLnuuqP_"
      },
      "source": [
        "\n",
        "As target variable has only 2 values, so , this is a classification problem."
      ]
    },
    {
      "cell_type": "code",
      "metadata": {
        "colab": {
          "base_uri": "https://localhost:8080/"
        },
        "id": "_UoObEDoup_T",
        "outputId": "729d1961-67bb-488d-b58b-6646dddef518"
      },
      "source": [
        "((7043-5174)/7043)*100"
      ],
      "execution_count": 9,
      "outputs": [
        {
          "output_type": "execute_result",
          "data": {
            "text/plain": [
              "26.536987079369588"
            ]
          },
          "metadata": {
            "tags": []
          },
          "execution_count": 9
        }
      ]
    },
    {
      "cell_type": "markdown",
      "metadata": {
        "id": "SJTA_Wzsuxis"
      },
      "source": [
        "Hence, there is no issue of class - imbalance."
      ]
    },
    {
      "cell_type": "markdown",
      "metadata": {
        "id": "3_HGTHtau29O"
      },
      "source": [
        "## Data Visualizations"
      ]
    },
    {
      "cell_type": "markdown",
      "metadata": {
        "id": "YzJLypFLu64F"
      },
      "source": [
        "To check missing values"
      ]
    },
    {
      "cell_type": "code",
      "metadata": {
        "colab": {
          "base_uri": "https://localhost:8080/",
          "height": 363
        },
        "id": "QoHz3fDguvnV",
        "outputId": "7d858a5f-c0df-4681-c820-ba3aab9de5ae"
      },
      "source": [
        "sns.heatmap(df.isnull())"
      ],
      "execution_count": 10,
      "outputs": [
        {
          "output_type": "execute_result",
          "data": {
            "text/plain": [
              "<matplotlib.axes._subplots.AxesSubplot at 0x7f39dd711fd0>"
            ]
          },
          "metadata": {
            "tags": []
          },
          "execution_count": 10
        },
        {
          "output_type": "display_data",
          "data": {
            "image/png": "[encoded data removed]",
            "text/plain": [
              "<Figure size 432x288 with 2 Axes>"
            ]
          },
          "metadata": {
            "tags": [],
            "needs_background": "light"
          }
        }
      ]
    },
    {
      "cell_type": "markdown",
      "metadata": {
        "id": "GhRcWjqFvCTK"
      },
      "source": [
        "Obsevations :-\n",
        "\n",
        "1) The data has no missing values."
      ]
    },
    {
      "cell_type": "markdown",
      "metadata": {
        "id": "cc4nf3WdvJ5f"
      },
      "source": [
        "\n",
        "## Univariate Analysis"
      ]
    },
    {
      "cell_type": "code",
      "metadata": {
        "colab": {
          "base_uri": "https://localhost:8080/",
          "height": 296
        },
        "id": "z_-jgzWmu_1S",
        "outputId": "11cde01b-1ab8-4d60-e583-4e95a761f141"
      },
      "source": [
        "sns.set_style('whitegrid')\n",
        "sns.countplot(df['Churn'])"
      ],
      "execution_count": 11,
      "outputs": [
        {
          "output_type": "execute_result",
          "data": {
            "text/plain": [
              "<matplotlib.axes._subplots.AxesSubplot at 0x7f39d55461d0>"
            ]
          },
          "metadata": {
            "tags": []
          },
          "execution_count": 11
        },
        {
          "output_type": "display_data",
          "data": {
            "image/png": "[encoded data removed]",
            "text/plain": [
              "<Figure size 432x288 with 1 Axes>"
            ]
          },
          "metadata": {
            "tags": []
          }
        }
      ]
    },
    {
      "cell_type": "markdown",
      "metadata": {
        "id": "2In-T6RLvROk"
      },
      "source": [
        "\n",
        "Observations :-\n",
        "\n",
        "Low Churn rate is present majorly in the dataset."
      ]
    },
    {
      "cell_type": "code",
      "metadata": {
        "colab": {
          "base_uri": "https://localhost:8080/",
          "height": 296
        },
        "id": "sOun6TTgvPGo",
        "outputId": "21b6c72b-fc7f-4d06-dc8e-f6693c0de7f0"
      },
      "source": [
        "sns.set_style('whitegrid')\n",
        "sns.countplot(x='Churn',hue='gender',data=df,palette='RdBu_r')"
      ],
      "execution_count": 12,
      "outputs": [
        {
          "output_type": "execute_result",
          "data": {
            "text/plain": [
              "<matplotlib.axes._subplots.AxesSubplot at 0x7f39de152e10>"
            ]
          },
          "metadata": {
            "tags": []
          },
          "execution_count": 12
        },
        {
          "output_type": "display_data",
          "data": {
            "image/png": "[encoded data removed]",
            "text/plain": [
              "<Figure size 432x288 with 1 Axes>"
            ]
          },
          "metadata": {
            "tags": []
          }
        }
      ]
    },
    {
      "cell_type": "markdown",
      "metadata": {
        "id": "sbEcg_QrveZd"
      },
      "source": [
        "Observations:-\n",
        "\n",
        "Male Customers have low churn rate than Female Customers."
      ]
    },
    {
      "cell_type": "code",
      "metadata": {
        "colab": {
          "base_uri": "https://localhost:8080/",
          "height": 296
        },
        "id": "PpGGPotBvZXw",
        "outputId": "8698b82b-b261-4732-ccf7-37c6af0a7193"
      },
      "source": [
        "sns.set_style('whitegrid')\n",
        "sns.countplot(x='Churn',hue='Partner',data=df,palette='RdBu_r')"
      ],
      "execution_count": 13,
      "outputs": [
        {
          "output_type": "execute_result",
          "data": {
            "text/plain": [
              "<matplotlib.axes._subplots.AxesSubplot at 0x7f39d503ce90>"
            ]
          },
          "metadata": {
            "tags": []
          },
          "execution_count": 13
        },
        {
          "output_type": "display_data",
          "data": {
            "image/png": "[encoded data removed]",
            "text/plain": [
              "<Figure size 432x288 with 1 Axes>"
            ]
          },
          "metadata": {
            "tags": []
          }
        }
      ]
    },
    {
      "cell_type": "markdown",
      "metadata": {
        "id": "JCgMIpslvmKS"
      },
      "source": [
        "Observations :-\n",
        "\n",
        "Customers with partner have low churn rate than customers without partner."
      ]
    },
    {
      "cell_type": "code",
      "metadata": {
        "colab": {
          "base_uri": "https://localhost:8080/",
          "height": 297
        },
        "id": "3W3_nPpMvjF1",
        "outputId": "15693617-eb11-4850-814c-7dc99e75475c"
      },
      "source": [
        "sns.set_style('whitegrid')\n",
        "sns.countplot(x='Churn',hue='Dependents',data=df,palette='RdBu_r')"
      ],
      "execution_count": 14,
      "outputs": [
        {
          "output_type": "execute_result",
          "data": {
            "text/plain": [
              "<matplotlib.axes._subplots.AxesSubplot at 0x7f39d4fa2d50>"
            ]
          },
          "metadata": {
            "tags": []
          },
          "execution_count": 14
        },
        {
          "output_type": "display_data",
          "data": {
            "image/png": "[encoded data removed]",
            "text/plain": [
              "<Figure size 432x288 with 1 Axes>"
            ]
          },
          "metadata": {
            "tags": []
          }
        }
      ]
    },
    {
      "cell_type": "markdown",
      "metadata": {
        "id": "faVXOpONvue0"
      },
      "source": [
        "Observations:-\n",
        "\n",
        "Customers with no dependents have low churn rate than customers with dependents."
      ]
    },
    {
      "cell_type": "code",
      "metadata": {
        "colab": {
          "base_uri": "https://localhost:8080/",
          "height": 296
        },
        "id": "sNnVu1kdvsDX",
        "outputId": "8c5b9c76-868c-40f6-ab3a-fa6e3c9ed82e"
      },
      "source": [
        "sns.set_style('whitegrid')\n",
        "sns.countplot(x='Churn',hue='MultipleLines',data=df,palette='RdBu_r')"
      ],
      "execution_count": 15,
      "outputs": [
        {
          "output_type": "execute_result",
          "data": {
            "text/plain": [
              "<matplotlib.axes._subplots.AxesSubplot at 0x7f39d4faa110>"
            ]
          },
          "metadata": {
            "tags": []
          },
          "execution_count": 15
        },
        {
          "output_type": "display_data",
          "data": {
            "image/png": "[encoded data removed]",
            "text/plain": [
              "<Figure size 432x288 with 1 Axes>"
            ]
          },
          "metadata": {
            "tags": []
          }
        }
      ]
    },
    {
      "cell_type": "markdown",
      "metadata": {
        "id": "--5DGCuRv1sS"
      },
      "source": [
        "**Observations:-**\n",
        "\n",
        "1) Customers with 0 multiple lines services have lowest churn rate.\n",
        "\n",
        "2) Customers with multiple lines services have lower churn rate than customers with no phone services."
      ]
    },
    {
      "cell_type": "code",
      "metadata": {
        "colab": {
          "base_uri": "https://localhost:8080/",
          "height": 296
        },
        "id": "JD5Cgzm-vzFb",
        "outputId": "7e999aea-4983-41e0-84bf-a6ae1c342b9e"
      },
      "source": [
        "sns.set_style('whitegrid')\n",
        "sns.countplot(x='Churn',hue='InternetService',data=df,palette='RdBu_r')"
      ],
      "execution_count": 17,
      "outputs": [
        {
          "output_type": "execute_result",
          "data": {
            "text/plain": [
              "<matplotlib.axes._subplots.AxesSubplot at 0x7f39d4f08950>"
            ]
          },
          "metadata": {
            "tags": []
          },
          "execution_count": 17
        },
        {
          "output_type": "display_data",
          "data": {
            "image/png": "[encoded data removed]",
            "text/plain": [
              "<Figure size 432x288 with 1 Axes>"
            ]
          },
          "metadata": {
            "tags": []
          }
        }
      ]
    },
    {
      "cell_type": "markdown",
      "metadata": {
        "id": "u4poMdJ1wE4Z"
      },
      "source": [
        "\n",
        "**Observations :-**\n",
        "\n",
        "1) Customers with internet services of DSL have the lowest churn rate.\n",
        "\n",
        "2) Customers with internet service of optic fiber have lower churn rate than customers with no internet services."
      ]
    },
    {
      "cell_type": "code",
      "metadata": {
        "colab": {
          "base_uri": "https://localhost:8080/",
          "height": 296
        },
        "id": "1eh-_GFIv_An",
        "outputId": "cd040ed4-d03b-4344-852c-b9498c013417"
      },
      "source": [
        "sns.set_style('whitegrid')\n",
        "sns.countplot(x='Churn',hue='OnlineSecurity',data=df,palette='RdBu_r')"
      ],
      "execution_count": 18,
      "outputs": [
        {
          "output_type": "execute_result",
          "data": {
            "text/plain": [
              "<matplotlib.axes._subplots.AxesSubplot at 0x7f39d4de73d0>"
            ]
          },
          "metadata": {
            "tags": []
          },
          "execution_count": 18
        },
        {
          "output_type": "display_data",
          "data": {
            "image/png": "[encoded data removed]",
            "text/plain": [
              "<Figure size 432x288 with 1 Axes>"
            ]
          },
          "metadata": {
            "tags": []
          }
        }
      ]
    },
    {
      "cell_type": "markdown",
      "metadata": {
        "id": "vPmIwwKgwSXc"
      },
      "source": [
        "\n",
        "**Observations :-**\n",
        "\n",
        "1) Customers have no online security have lowest churn rate.\n",
        "\n",
        "2) Customers with online security have lower churn rate than customers with no internet services."
      ]
    },
    {
      "cell_type": "code",
      "metadata": {
        "colab": {
          "base_uri": "https://localhost:8080/",
          "height": 300
        },
        "id": "Jk0tBJpkwPLl",
        "outputId": "f443064b-bbbe-4f4c-8c32-ee0e6aef3631"
      },
      "source": [
        "sns.set_style('whitegrid')\n",
        "sns.countplot(x='Churn',hue='OnlineBackup',data=df,palette='RdBu_r')"
      ],
      "execution_count": 19,
      "outputs": [
        {
          "output_type": "execute_result",
          "data": {
            "text/plain": [
              "<matplotlib.axes._subplots.AxesSubplot at 0x7f39d4dc1690>"
            ]
          },
          "metadata": {
            "tags": []
          },
          "execution_count": 19
        },
        {
          "output_type": "display_data",
          "data": {
            "image/png": "[encoded data removed]",
            "text/plain": [
              "<Figure size 432x288 with 1 Axes>"
            ]
          },
          "metadata": {
            "tags": []
          }
        }
      ]
    },
    {
      "cell_type": "markdown",
      "metadata": {
        "id": "DTLbqCmNwcYe"
      },
      "source": [
        "\n",
        "**Observations :-**\n",
        "\n",
        "1) Customers who keep online backup of the data have lowest churn rate.\n",
        "\n",
        "2) Customers who do not keep online backup of the data have lower churn rate than customers with no internet service."
      ]
    },
    {
      "cell_type": "code",
      "metadata": {
        "colab": {
          "base_uri": "https://localhost:8080/",
          "height": 296
        },
        "id": "wVzrmn9bwZnP",
        "outputId": "870ac7fe-c622-4f0e-ff5c-44c32a3550bb"
      },
      "source": [
        "sns.set_style('whitegrid')\n",
        "sns.countplot(x='Churn',hue='DeviceProtection',data=df,palette='RdBu_r')"
      ],
      "execution_count": 20,
      "outputs": [
        {
          "output_type": "execute_result",
          "data": {
            "text/plain": [
              "<matplotlib.axes._subplots.AxesSubplot at 0x7f39e2d7f650>"
            ]
          },
          "metadata": {
            "tags": []
          },
          "execution_count": 20
        },
        {
          "output_type": "display_data",
          "data": {
            "image/png": "[encoded data removed]",
            "text/plain": [
              "<Figure size 432x288 with 1 Axes>"
            ]
          },
          "metadata": {
            "tags": []
          }
        }
      ]
    },
    {
      "cell_type": "markdown",
      "metadata": {
        "id": "Ksf258z4wlRZ"
      },
      "source": [
        "**Observations :-**\n",
        "\n",
        "1) Customers who have used no device protection have lowest churn rate.\n",
        "\n",
        "2) Customers who have used device protection have lower churn rate than customers with no internet service."
      ]
    },
    {
      "cell_type": "code",
      "metadata": {
        "colab": {
          "base_uri": "https://localhost:8080/",
          "height": 296
        },
        "id": "s4u8VRP-wky7",
        "outputId": "342cd50d-8dc5-4ea5-8c6d-bac68d975529"
      },
      "source": [
        "sns.set_style('whitegrid')\n",
        "sns.countplot(x='Churn',hue='TechSupport',data=df,palette='RdBu_r')"
      ],
      "execution_count": 21,
      "outputs": [
        {
          "output_type": "execute_result",
          "data": {
            "text/plain": [
              "<matplotlib.axes._subplots.AxesSubplot at 0x7f39de136990>"
            ]
          },
          "metadata": {
            "tags": []
          },
          "execution_count": 21
        },
        {
          "output_type": "display_data",
          "data": {
            "image/png": "[encoded data removed]",
            "text/plain": [
              "<Figure size 432x288 with 1 Axes>"
            ]
          },
          "metadata": {
            "tags": []
          }
        }
      ]
    },
    {
      "cell_type": "markdown",
      "metadata": {
        "id": "9NVBLzVpwz-P"
      },
      "source": [
        "\n",
        "**Observations :-**\n",
        "\n",
        "1) Customers with no tech support have lowest churn rate.\n",
        "\n",
        "2) Customers with tech tech support have lower churn rate than customers with no internet services."
      ]
    },
    {
      "cell_type": "code",
      "metadata": {
        "colab": {
          "base_uri": "https://localhost:8080/",
          "height": 296
        },
        "id": "oYdnxuFxwx_n",
        "outputId": "f78ceaaf-0b7c-456e-cf86-1a5d926fe59e"
      },
      "source": [
        "sns.set_style('whitegrid')\n",
        "sns.countplot(x='Churn',hue='StreamingTV',data=df,palette='RdBu_r')"
      ],
      "execution_count": 22,
      "outputs": [
        {
          "output_type": "execute_result",
          "data": {
            "text/plain": [
              "<matplotlib.axes._subplots.AxesSubplot at 0x7f39d4cfc850>"
            ]
          },
          "metadata": {
            "tags": []
          },
          "execution_count": 22
        },
        {
          "output_type": "display_data",
          "data": {
            "image/png": "[encoded data removed]",
            "text/plain": [
              "<Figure size 432x288 with 1 Axes>"
            ]
          },
          "metadata": {
            "tags": []
          }
        }
      ]
    },
    {
      "cell_type": "markdown",
      "metadata": {
        "id": "jZ38vT1Bw-K-"
      },
      "source": [
        "\n",
        "**Observations :-**\n",
        "\n",
        "1) Customers with no streaming tv have the lowest churn rate.\n",
        "\n",
        "2) Customers with streaming tv have lower churn rate than customers with no internet services."
      ]
    },
    {
      "cell_type": "code",
      "metadata": {
        "colab": {
          "base_uri": "https://localhost:8080/",
          "height": 299
        },
        "id": "eXS73JjTw7s-",
        "outputId": "3d9e1233-ef7a-4cde-a06d-095694468856"
      },
      "source": [
        "sns.set_style('whitegrid')\n",
        "sns.countplot(x='Churn',hue='StreamingMovies',data=df,palette='RdBu_r')"
      ],
      "execution_count": 23,
      "outputs": [
        {
          "output_type": "execute_result",
          "data": {
            "text/plain": [
              "<matplotlib.axes._subplots.AxesSubplot at 0x7f39d4bef610>"
            ]
          },
          "metadata": {
            "tags": []
          },
          "execution_count": 23
        },
        {
          "output_type": "display_data",
          "data": {
            "image/png": "[encoded data removed]",
            "text/plain": [
              "<Figure size 432x288 with 1 Axes>"
            ]
          },
          "metadata": {
            "tags": []
          }
        }
      ]
    },
    {
      "cell_type": "markdown",
      "metadata": {
        "id": "n1dsm9usxQSQ"
      },
      "source": [
        "**observations :-**\n",
        "\n",
        "1) Customers with no streaming have the lowest churn rate.\n",
        "\n",
        "2) Customers with streaming tv have lower churn rate than customers with no internet services"
      ]
    },
    {
      "cell_type": "code",
      "metadata": {
        "colab": {
          "base_uri": "https://localhost:8080/",
          "height": 296
        },
        "id": "kSY8VUXjxJTW",
        "outputId": "c1e68796-bfae-41c0-d3a3-dd3ceaf9bce3"
      },
      "source": [
        "sns.set_style('whitegrid')\n",
        "sns.countplot(x='Churn',hue='Contract',data=df,palette='RdBu_r')"
      ],
      "execution_count": 24,
      "outputs": [
        {
          "output_type": "execute_result",
          "data": {
            "text/plain": [
              "<matplotlib.axes._subplots.AxesSubplot at 0x7f39d4b451d0>"
            ]
          },
          "metadata": {
            "tags": []
          },
          "execution_count": 24
        },
        {
          "output_type": "display_data",
          "data": {
            "image/png": "[encoded data removed]",
            "text/plain": [
              "<Figure size 432x288 with 1 Axes>"
            ]
          },
          "metadata": {
            "tags": []
          }
        }
      ]
    },
    {
      "cell_type": "markdown",
      "metadata": {
        "id": "XKJInT1kxgcA"
      },
      "source": [
        "\n",
        "**Observations :-**\n",
        "\n",
        "1) Customers who have month - to - month contract with company have the lowest churn rate.\n",
        "\n",
        "2) Customers who have two years contract with company have lower churn rate than with one year of contract."
      ]
    },
    {
      "cell_type": "code",
      "metadata": {
        "colab": {
          "base_uri": "https://localhost:8080/",
          "height": 296
        },
        "id": "0D3rGBQSxfv-",
        "outputId": "6d06356d-a418-444d-fb62-6e7b38add086"
      },
      "source": [
        "sns.set_style('whitegrid')\n",
        "sns.countplot(x='Churn',hue='PaperlessBilling',data=df,palette='RdBu_r')"
      ],
      "execution_count": 25,
      "outputs": [
        {
          "output_type": "execute_result",
          "data": {
            "text/plain": [
              "<matplotlib.axes._subplots.AxesSubplot at 0x7f39d4e9b650>"
            ]
          },
          "metadata": {
            "tags": []
          },
          "execution_count": 25
        },
        {
          "output_type": "display_data",
          "data": {
            "image/png": "[encoded data removed]",
            "text/plain": [
              "<Figure size 432x288 with 1 Axes>"
            ]
          },
          "metadata": {
            "tags": []
          }
        }
      ]
    },
    {
      "cell_type": "markdown",
      "metadata": {
        "id": "sa-7NAFnxr8u"
      },
      "source": [
        "\n",
        "Observations :-\n",
        "\n",
        "Customers who havemade paper less billing with company have lower churn rate than customers who have made paper used billing."
      ]
    },
    {
      "cell_type": "code",
      "metadata": {
        "colab": {
          "base_uri": "https://localhost:8080/",
          "height": 296
        },
        "id": "NnE26D7Sxcqy",
        "outputId": "824e313e-9ea5-4c6f-d94f-c4a706d67e6b"
      },
      "source": [
        "sns.set_style('whitegrid')\n",
        "sns.countplot(x='Churn',hue='PaymentMethod',data=df,palette='RdBu_r')"
      ],
      "execution_count": 26,
      "outputs": [
        {
          "output_type": "execute_result",
          "data": {
            "text/plain": [
              "<matplotlib.axes._subplots.AxesSubplot at 0x7f39d4cc1790>"
            ]
          },
          "metadata": {
            "tags": []
          },
          "execution_count": 26
        },
        {
          "output_type": "display_data",
          "data": {
            "image/png": "[encoded data removed]",
            "text/plain": [
              "<Figure size 432x288 with 1 Axes>"
            ]
          },
          "metadata": {
            "tags": []
          }
        }
      ]
    },
    {
      "cell_type": "markdown",
      "metadata": {
        "id": "nZf0HxLKxzmQ"
      },
      "source": [
        "**Observations :-**\n",
        "\n",
        "1) Customers who have used electronic check as payment method have the lowest churn rate.\n",
        "\n",
        "2) Customers who have used mailed check as payment method have lower churn rate than cusomers who have used bank transfer as payment method.\n",
        "\n",
        "3) Customers who have used credit card as payment method have the highest churn rate."
      ]
    },
    {
      "cell_type": "code",
      "metadata": {
        "colab": {
          "base_uri": "https://localhost:8080/",
          "height": 296
        },
        "id": "_lH_A-EMxw7s",
        "outputId": "6acf2056-1f31-4d3c-c36f-cfa8617f3364"
      },
      "source": [
        "sns.set_style('whitegrid')\n",
        "sns.countplot(hue='SeniorCitizen',x='Churn',data=df,palette='RdBu_r')"
      ],
      "execution_count": 27,
      "outputs": [
        {
          "output_type": "execute_result",
          "data": {
            "text/plain": [
              "<matplotlib.axes._subplots.AxesSubplot at 0x7f39d49b8f50>"
            ]
          },
          "metadata": {
            "tags": []
          },
          "execution_count": 27
        },
        {
          "output_type": "display_data",
          "data": {
            "image/png": "[encoded data removed]",
            "text/plain": [
              "<Figure size 432x288 with 1 Axes>"
            ]
          },
          "metadata": {
            "tags": []
          }
        }
      ]
    },
    {
      "cell_type": "markdown",
      "metadata": {
        "id": "0mKJDrnNx_9E"
      },
      "source": [
        "Observations :-\n",
        "\n",
        "Non Senior Citizen Customers have lower churn rate than Senior Citizen Customers."
      ]
    },
    {
      "cell_type": "code",
      "metadata": {
        "id": "W16w5aP8x8tO"
      },
      "source": [
        "df_int_types=[]\n",
        "for i in df.columns:\n",
        "    if df[i].dtypes == \"int64\":\n",
        "        df_int_types.append(i)"
      ],
      "execution_count": 30,
      "outputs": []
    },
    {
      "cell_type": "code",
      "metadata": {
        "colab": {
          "base_uri": "https://localhost:8080/"
        },
        "id": "MxauvzxqyH80",
        "outputId": "340375a5-7745-48a3-962a-94cead329b4b"
      },
      "source": [
        "df_int_types"
      ],
      "execution_count": 31,
      "outputs": [
        {
          "output_type": "execute_result",
          "data": {
            "text/plain": [
              "['SeniorCitizen', 'tenure']"
            ]
          },
          "metadata": {
            "tags": []
          },
          "execution_count": 31
        }
      ]
    },
    {
      "cell_type": "code",
      "metadata": {
        "colab": {
          "base_uri": "https://localhost:8080/",
          "height": 296
        },
        "id": "QN2Te2XhyLs4",
        "outputId": "f3678c66-1012-4cbc-dbda-994ad0222c65"
      },
      "source": [
        "sns.distplot(df['MonthlyCharges'])"
      ],
      "execution_count": 32,
      "outputs": [
        {
          "output_type": "execute_result",
          "data": {
            "text/plain": [
              "<matplotlib.axes._subplots.AxesSubplot at 0x7f39d36f91d0>"
            ]
          },
          "metadata": {
            "tags": []
          },
          "execution_count": 32
        },
        {
          "output_type": "display_data",
          "data": {
            "image/png": "[encoded data removed]",
            "text/plain": [
              "<Figure size 432x288 with 1 Axes>"
            ]
          },
          "metadata": {
            "tags": []
          }
        }
      ]
    },
    {
      "cell_type": "markdown",
      "metadata": {
        "id": "Nkbz0Yh1yRs3"
      },
      "source": [
        "Observations :-\n",
        "\n",
        "Majorly monthly charges are present in the range of 70 - 110."
      ]
    },
    {
      "cell_type": "code",
      "metadata": {
        "colab": {
          "base_uri": "https://localhost:8080/",
          "height": 279
        },
        "id": "CXDU3v76yPMI",
        "outputId": "14acd325-6646-44b7-e3a5-ceb1aabf5156"
      },
      "source": [
        "sns.violinplot(x='SeniorCitizen',y='tenure',data=df,hue='Churn',split=True)\n",
        "plt.show()"
      ],
      "execution_count": 33,
      "outputs": [
        {
          "output_type": "display_data",
          "data": {
            "image/png": "[encoded data removed]",
            "text/plain": [
              "<Figure size 432x288 with 1 Axes>"
            ]
          },
          "metadata": {
            "tags": []
          }
        }
      ]
    },
    {
      "cell_type": "markdown",
      "metadata": {
        "id": "C4vG46LByhQ9"
      },
      "source": [
        "\n",
        "Observations :-\n",
        "\n",
        "Non Senior Citizen customers and senior citizen customers both have high tenures."
      ]
    },
    {
      "cell_type": "code",
      "metadata": {
        "id": "hXrBjOhpyYhq"
      },
      "source": [
        "from sklearn.preprocessing import LabelEncoder\n",
        "LE=LabelEncoder()\n",
        "df['Churn']=LE.fit_transform(df['Churn'])"
      ],
      "execution_count": 34,
      "outputs": []
    },
    {
      "cell_type": "code",
      "metadata": {
        "colab": {
          "base_uri": "https://localhost:8080/"
        },
        "id": "bgldnYAcymHS",
        "outputId": "b2053a47-b2ba-43d4-ce9c-e7d6157bf907"
      },
      "source": [
        "df['TotalCharges'].value_counts()"
      ],
      "execution_count": 35,
      "outputs": [
        {
          "output_type": "execute_result",
          "data": {
            "text/plain": [
              "           11\n",
              "20.2       11\n",
              "19.75       9\n",
              "19.9        8\n",
              "20.05       8\n",
              "           ..\n",
              "7049.75     1\n",
              "239.75      1\n",
              "1778.7      1\n",
              "472.65      1\n",
              "702.05      1\n",
              "Name: TotalCharges, Length: 6531, dtype: int64"
            ]
          },
          "metadata": {
            "tags": []
          },
          "execution_count": 35
        }
      ]
    },
    {
      "cell_type": "code",
      "metadata": {
        "colab": {
          "base_uri": "https://localhost:8080/"
        },
        "id": "ZnPLzSNzypJq",
        "outputId": "f2aebde6-c81e-4395-de0a-cf2e34468627"
      },
      "source": [
        "pd.set_option('display.max_rows',None)\n",
        "df.dtypes"
      ],
      "execution_count": 36,
      "outputs": [
        {
          "output_type": "execute_result",
          "data": {
            "text/plain": [
              "customerID           object\n",
              "gender               object\n",
              "SeniorCitizen         int64\n",
              "Partner              object\n",
              "Dependents           object\n",
              "tenure                int64\n",
              "PhoneService         object\n",
              "MultipleLines        object\n",
              "InternetService      object\n",
              "OnlineSecurity       object\n",
              "OnlineBackup         object\n",
              "DeviceProtection     object\n",
              "TechSupport          object\n",
              "StreamingTV          object\n",
              "StreamingMovies      object\n",
              "Contract             object\n",
              "PaperlessBilling     object\n",
              "PaymentMethod        object\n",
              "MonthlyCharges      float64\n",
              "TotalCharges         object\n",
              "Churn                 int64\n",
              "dtype: object"
            ]
          },
          "metadata": {
            "tags": []
          },
          "execution_count": 36
        }
      ]
    },
    {
      "cell_type": "markdown",
      "metadata": {
        "id": "TapHRCi6yvVd"
      },
      "source": [
        "## Dropping of Columns"
      ]
    },
    {
      "cell_type": "code",
      "metadata": {
        "id": "rz68JJFLysmh"
      },
      "source": [
        "df.drop('customerID',axis=1,inplace=True)"
      ],
      "execution_count": 37,
      "outputs": []
    },
    {
      "cell_type": "markdown",
      "metadata": {
        "id": "il2SDA9sy3H6"
      },
      "source": [
        "## Label Encoding"
      ]
    },
    {
      "cell_type": "code",
      "metadata": {
        "id": "LR_h91jhy0Uz"
      },
      "source": [
        "df_str_types=[]\n",
        "for i in df.columns:\n",
        "    if df[i].dtypes == \"object\":\n",
        "        df_str_types.append(i)"
      ],
      "execution_count": 38,
      "outputs": []
    },
    {
      "cell_type": "code",
      "metadata": {
        "colab": {
          "base_uri": "https://localhost:8080/"
        },
        "id": "9cEAsA9gy7-Z",
        "outputId": "67a3844a-452d-407d-bf34-50b6970dd9bb"
      },
      "source": [
        "df_str_types"
      ],
      "execution_count": 39,
      "outputs": [
        {
          "output_type": "execute_result",
          "data": {
            "text/plain": [
              "['gender',\n",
              " 'Partner',\n",
              " 'Dependents',\n",
              " 'PhoneService',\n",
              " 'MultipleLines',\n",
              " 'InternetService',\n",
              " 'OnlineSecurity',\n",
              " 'OnlineBackup',\n",
              " 'DeviceProtection',\n",
              " 'TechSupport',\n",
              " 'StreamingTV',\n",
              " 'StreamingMovies',\n",
              " 'Contract',\n",
              " 'PaperlessBilling',\n",
              " 'PaymentMethod',\n",
              " 'TotalCharges']"
            ]
          },
          "metadata": {
            "tags": []
          },
          "execution_count": 39
        }
      ]
    },
    {
      "cell_type": "code",
      "metadata": {
        "colab": {
          "base_uri": "https://localhost:8080/",
          "height": 35
        },
        "id": "wpGHcm8Ry-zc",
        "outputId": "47f1c930-b48b-4e66-df94-5fb481cb287f"
      },
      "source": [
        "df_str_types.pop()"
      ],
      "execution_count": 40,
      "outputs": [
        {
          "output_type": "execute_result",
          "data": {
            "application/vnd.google.colaboratory.intrinsic+json": {
              "type": "string"
            },
            "text/plain": [
              "'TotalCharges'"
            ]
          },
          "metadata": {
            "tags": []
          },
          "execution_count": 40
        }
      ]
    },
    {
      "cell_type": "code",
      "metadata": {
        "colab": {
          "base_uri": "https://localhost:8080/"
        },
        "id": "C665fl_CzBhm",
        "outputId": "ba03e304-86fa-4f75-953d-42b46f6a5f8a"
      },
      "source": [
        "from sklearn.preprocessing import LabelEncoder\n",
        "LE=LabelEncoder()\n",
        "for value in df_str_types:\n",
        "    df[value]=LE.fit_transform(df[value])\n",
        "    print(df[value].value_counts())"
      ],
      "execution_count": 41,
      "outputs": [
        {
          "output_type": "stream",
          "text": [
            "1    3555\n",
            "0    3488\n",
            "Name: gender, dtype: int64\n",
            "0    3641\n",
            "1    3402\n",
            "Name: Partner, dtype: int64\n",
            "0    4933\n",
            "1    2110\n",
            "Name: Dependents, dtype: int64\n",
            "1    6361\n",
            "0     682\n",
            "Name: PhoneService, dtype: int64\n",
            "0    3390\n",
            "2    2971\n",
            "1     682\n",
            "Name: MultipleLines, dtype: int64\n",
            "1    3096\n",
            "0    2421\n",
            "2    1526\n",
            "Name: InternetService, dtype: int64\n",
            "0    3498\n",
            "2    2019\n",
            "1    1526\n",
            "Name: OnlineSecurity, dtype: int64\n",
            "0    3088\n",
            "2    2429\n",
            "1    1526\n",
            "Name: OnlineBackup, dtype: int64\n",
            "0    3095\n",
            "2    2422\n",
            "1    1526\n",
            "Name: DeviceProtection, dtype: int64\n",
            "0    3473\n",
            "2    2044\n",
            "1    1526\n",
            "Name: TechSupport, dtype: int64\n",
            "0    2810\n",
            "2    2707\n",
            "1    1526\n",
            "Name: StreamingTV, dtype: int64\n",
            "0    2785\n",
            "2    2732\n",
            "1    1526\n",
            "Name: StreamingMovies, dtype: int64\n",
            "0    3875\n",
            "2    1695\n",
            "1    1473\n",
            "Name: Contract, dtype: int64\n",
            "1    4171\n",
            "0    2872\n",
            "Name: PaperlessBilling, dtype: int64\n",
            "2    2365\n",
            "3    1612\n",
            "0    1544\n",
            "1    1522\n",
            "Name: PaymentMethod, dtype: int64\n"
          ],
          "name": "stdout"
        }
      ]
    },
    {
      "cell_type": "code",
      "metadata": {
        "colab": {
          "base_uri": "https://localhost:8080/",
          "height": 658
        },
        "id": "sEBoynH6zE56",
        "outputId": "62223d6f-4a25-4187-8810-e410334e0a76"
      },
      "source": [
        "dfcorr=df.corr()\n",
        "dfcorr"
      ],
      "execution_count": 42,
      "outputs": [
        {
          "output_type": "execute_result",
          "data": {
            "text/html": [
              "<div>\n",
              "<style scoped>\n",
              "    .dataframe tbody tr th:only-of-type {\n",
              "        vertical-align: middle;\n",
              "    }\n",
              "\n",
              "    .dataframe tbody tr th {\n",
              "        vertical-align: top;\n",
              "    }\n",
              "\n",
              "    .dataframe thead th {\n",
              "        text-align: right;\n",
              "    }\n",
              "</style>\n",
              "<table border=\"1\" class=\"dataframe\">\n",
              "  <thead>\n",
              "    <tr style=\"text-align: right;\">\n",
              "      <th></th>\n",
              "      <th>gender</th>\n",
              "      <th>SeniorCitizen</th>\n",
              "      <th>Partner</th>\n",
              "      <th>Dependents</th>\n",
              "      <th>tenure</th>\n",
              "      <th>PhoneService</th>\n",
              "      <th>MultipleLines</th>\n",
              "      <th>InternetService</th>\n",
              "      <th>OnlineSecurity</th>\n",
              "      <th>OnlineBackup</th>\n",
              "      <th>DeviceProtection</th>\n",
              "      <th>TechSupport</th>\n",
              "      <th>StreamingTV</th>\n",
              "      <th>StreamingMovies</th>\n",
              "      <th>Contract</th>\n",
              "      <th>PaperlessBilling</th>\n",
              "      <th>PaymentMethod</th>\n",
              "      <th>MonthlyCharges</th>\n",
              "      <th>Churn</th>\n",
              "    </tr>\n",
              "  </thead>\n",
              "  <tbody>\n",
              "    <tr>\n",
              "      <th>gender</th>\n",
              "      <td>1.000000</td>\n",
              "      <td>-0.001874</td>\n",
              "      <td>-0.001808</td>\n",
              "      <td>0.010517</td>\n",
              "      <td>0.005106</td>\n",
              "      <td>-0.006488</td>\n",
              "      <td>-0.006739</td>\n",
              "      <td>-0.000863</td>\n",
              "      <td>-0.015017</td>\n",
              "      <td>-0.012057</td>\n",
              "      <td>0.000549</td>\n",
              "      <td>-0.006825</td>\n",
              "      <td>-0.006421</td>\n",
              "      <td>-0.008743</td>\n",
              "      <td>0.000126</td>\n",
              "      <td>-0.011754</td>\n",
              "      <td>0.017352</td>\n",
              "      <td>-0.014569</td>\n",
              "      <td>-0.008612</td>\n",
              "    </tr>\n",
              "    <tr>\n",
              "      <th>SeniorCitizen</th>\n",
              "      <td>-0.001874</td>\n",
              "      <td>1.000000</td>\n",
              "      <td>0.016479</td>\n",
              "      <td>-0.211185</td>\n",
              "      <td>0.016567</td>\n",
              "      <td>0.008576</td>\n",
              "      <td>0.146185</td>\n",
              "      <td>-0.032310</td>\n",
              "      <td>-0.128221</td>\n",
              "      <td>-0.013632</td>\n",
              "      <td>-0.021398</td>\n",
              "      <td>-0.151268</td>\n",
              "      <td>0.030776</td>\n",
              "      <td>0.047266</td>\n",
              "      <td>-0.142554</td>\n",
              "      <td>0.156530</td>\n",
              "      <td>-0.038551</td>\n",
              "      <td>0.220173</td>\n",
              "      <td>0.150889</td>\n",
              "    </tr>\n",
              "    <tr>\n",
              "      <th>Partner</th>\n",
              "      <td>-0.001808</td>\n",
              "      <td>0.016479</td>\n",
              "      <td>1.000000</td>\n",
              "      <td>0.452676</td>\n",
              "      <td>0.379697</td>\n",
              "      <td>0.017706</td>\n",
              "      <td>0.142410</td>\n",
              "      <td>0.000891</td>\n",
              "      <td>0.150828</td>\n",
              "      <td>0.153130</td>\n",
              "      <td>0.166330</td>\n",
              "      <td>0.126733</td>\n",
              "      <td>0.137341</td>\n",
              "      <td>0.129574</td>\n",
              "      <td>0.294806</td>\n",
              "      <td>-0.014877</td>\n",
              "      <td>-0.154798</td>\n",
              "      <td>0.096848</td>\n",
              "      <td>-0.150448</td>\n",
              "    </tr>\n",
              "    <tr>\n",
              "      <th>Dependents</th>\n",
              "      <td>0.010517</td>\n",
              "      <td>-0.211185</td>\n",
              "      <td>0.452676</td>\n",
              "      <td>1.000000</td>\n",
              "      <td>0.159712</td>\n",
              "      <td>-0.001762</td>\n",
              "      <td>-0.024991</td>\n",
              "      <td>0.044590</td>\n",
              "      <td>0.152166</td>\n",
              "      <td>0.091015</td>\n",
              "      <td>0.080537</td>\n",
              "      <td>0.133524</td>\n",
              "      <td>0.046885</td>\n",
              "      <td>0.021321</td>\n",
              "      <td>0.243187</td>\n",
              "      <td>-0.111377</td>\n",
              "      <td>-0.040292</td>\n",
              "      <td>-0.113890</td>\n",
              "      <td>-0.164221</td>\n",
              "    </tr>\n",
              "    <tr>\n",
              "      <th>tenure</th>\n",
              "      <td>0.005106</td>\n",
              "      <td>0.016567</td>\n",
              "      <td>0.379697</td>\n",
              "      <td>0.159712</td>\n",
              "      <td>1.000000</td>\n",
              "      <td>0.008448</td>\n",
              "      <td>0.343032</td>\n",
              "      <td>-0.030359</td>\n",
              "      <td>0.325468</td>\n",
              "      <td>0.370876</td>\n",
              "      <td>0.371105</td>\n",
              "      <td>0.322942</td>\n",
              "      <td>0.289373</td>\n",
              "      <td>0.296866</td>\n",
              "      <td>0.671607</td>\n",
              "      <td>0.006152</td>\n",
              "      <td>-0.370436</td>\n",
              "      <td>0.247900</td>\n",
              "      <td>-0.352229</td>\n",
              "    </tr>\n",
              "    <tr>\n",
              "      <th>PhoneService</th>\n",
              "      <td>-0.006488</td>\n",
              "      <td>0.008576</td>\n",
              "      <td>0.017706</td>\n",
              "      <td>-0.001762</td>\n",
              "      <td>0.008448</td>\n",
              "      <td>1.000000</td>\n",
              "      <td>-0.020538</td>\n",
              "      <td>0.387436</td>\n",
              "      <td>-0.015198</td>\n",
              "      <td>0.024105</td>\n",
              "      <td>0.003727</td>\n",
              "      <td>-0.019158</td>\n",
              "      <td>0.055353</td>\n",
              "      <td>0.043870</td>\n",
              "      <td>0.002247</td>\n",
              "      <td>0.016505</td>\n",
              "      <td>-0.004184</td>\n",
              "      <td>0.247398</td>\n",
              "      <td>0.011942</td>\n",
              "    </tr>\n",
              "    <tr>\n",
              "      <th>MultipleLines</th>\n",
              "      <td>-0.006739</td>\n",
              "      <td>0.146185</td>\n",
              "      <td>0.142410</td>\n",
              "      <td>-0.024991</td>\n",
              "      <td>0.343032</td>\n",
              "      <td>-0.020538</td>\n",
              "      <td>1.000000</td>\n",
              "      <td>-0.109216</td>\n",
              "      <td>0.007141</td>\n",
              "      <td>0.117327</td>\n",
              "      <td>0.122318</td>\n",
              "      <td>0.011466</td>\n",
              "      <td>0.175059</td>\n",
              "      <td>0.180957</td>\n",
              "      <td>0.110842</td>\n",
              "      <td>0.165146</td>\n",
              "      <td>-0.176793</td>\n",
              "      <td>0.433576</td>\n",
              "      <td>0.038037</td>\n",
              "    </tr>\n",
              "    <tr>\n",
              "      <th>InternetService</th>\n",
              "      <td>-0.000863</td>\n",
              "      <td>-0.032310</td>\n",
              "      <td>0.000891</td>\n",
              "      <td>0.044590</td>\n",
              "      <td>-0.030359</td>\n",
              "      <td>0.387436</td>\n",
              "      <td>-0.109216</td>\n",
              "      <td>1.000000</td>\n",
              "      <td>-0.028416</td>\n",
              "      <td>0.036138</td>\n",
              "      <td>0.044944</td>\n",
              "      <td>-0.026047</td>\n",
              "      <td>0.107417</td>\n",
              "      <td>0.098350</td>\n",
              "      <td>0.099721</td>\n",
              "      <td>-0.138625</td>\n",
              "      <td>0.086140</td>\n",
              "      <td>-0.323260</td>\n",
              "      <td>-0.047291</td>\n",
              "    </tr>\n",
              "    <tr>\n",
              "      <th>OnlineSecurity</th>\n",
              "      <td>-0.015017</td>\n",
              "      <td>-0.128221</td>\n",
              "      <td>0.150828</td>\n",
              "      <td>0.152166</td>\n",
              "      <td>0.325468</td>\n",
              "      <td>-0.015198</td>\n",
              "      <td>0.007141</td>\n",
              "      <td>-0.028416</td>\n",
              "      <td>1.000000</td>\n",
              "      <td>0.185126</td>\n",
              "      <td>0.175985</td>\n",
              "      <td>0.285028</td>\n",
              "      <td>0.044669</td>\n",
              "      <td>0.055954</td>\n",
              "      <td>0.374416</td>\n",
              "      <td>-0.157641</td>\n",
              "      <td>-0.096726</td>\n",
              "      <td>-0.053878</td>\n",
              "      <td>-0.289309</td>\n",
              "    </tr>\n",
              "    <tr>\n",
              "      <th>OnlineBackup</th>\n",
              "      <td>-0.012057</td>\n",
              "      <td>-0.013632</td>\n",
              "      <td>0.153130</td>\n",
              "      <td>0.091015</td>\n",
              "      <td>0.370876</td>\n",
              "      <td>0.024105</td>\n",
              "      <td>0.117327</td>\n",
              "      <td>0.036138</td>\n",
              "      <td>0.185126</td>\n",
              "      <td>1.000000</td>\n",
              "      <td>0.187757</td>\n",
              "      <td>0.195748</td>\n",
              "      <td>0.147186</td>\n",
              "      <td>0.136722</td>\n",
              "      <td>0.280980</td>\n",
              "      <td>-0.013370</td>\n",
              "      <td>-0.124847</td>\n",
              "      <td>0.119777</td>\n",
              "      <td>-0.195525</td>\n",
              "    </tr>\n",
              "    <tr>\n",
              "      <th>DeviceProtection</th>\n",
              "      <td>0.000549</td>\n",
              "      <td>-0.021398</td>\n",
              "      <td>0.166330</td>\n",
              "      <td>0.080537</td>\n",
              "      <td>0.371105</td>\n",
              "      <td>0.003727</td>\n",
              "      <td>0.122318</td>\n",
              "      <td>0.044944</td>\n",
              "      <td>0.175985</td>\n",
              "      <td>0.187757</td>\n",
              "      <td>1.000000</td>\n",
              "      <td>0.240593</td>\n",
              "      <td>0.276652</td>\n",
              "      <td>0.288799</td>\n",
              "      <td>0.350277</td>\n",
              "      <td>-0.038234</td>\n",
              "      <td>-0.135750</td>\n",
              "      <td>0.163652</td>\n",
              "      <td>-0.178134</td>\n",
              "    </tr>\n",
              "    <tr>\n",
              "      <th>TechSupport</th>\n",
              "      <td>-0.006825</td>\n",
              "      <td>-0.151268</td>\n",
              "      <td>0.126733</td>\n",
              "      <td>0.133524</td>\n",
              "      <td>0.322942</td>\n",
              "      <td>-0.019158</td>\n",
              "      <td>0.011466</td>\n",
              "      <td>-0.026047</td>\n",
              "      <td>0.285028</td>\n",
              "      <td>0.195748</td>\n",
              "      <td>0.240593</td>\n",
              "      <td>1.000000</td>\n",
              "      <td>0.161305</td>\n",
              "      <td>0.161316</td>\n",
              "      <td>0.425367</td>\n",
              "      <td>-0.113600</td>\n",
              "      <td>-0.104670</td>\n",
              "      <td>-0.008682</td>\n",
              "      <td>-0.282492</td>\n",
              "    </tr>\n",
              "    <tr>\n",
              "      <th>StreamingTV</th>\n",
              "      <td>-0.006421</td>\n",
              "      <td>0.030776</td>\n",
              "      <td>0.137341</td>\n",
              "      <td>0.046885</td>\n",
              "      <td>0.289373</td>\n",
              "      <td>0.055353</td>\n",
              "      <td>0.175059</td>\n",
              "      <td>0.107417</td>\n",
              "      <td>0.044669</td>\n",
              "      <td>0.147186</td>\n",
              "      <td>0.276652</td>\n",
              "      <td>0.161305</td>\n",
              "      <td>1.000000</td>\n",
              "      <td>0.434772</td>\n",
              "      <td>0.227116</td>\n",
              "      <td>0.096642</td>\n",
              "      <td>-0.104234</td>\n",
              "      <td>0.336706</td>\n",
              "      <td>-0.036581</td>\n",
              "    </tr>\n",
              "    <tr>\n",
              "      <th>StreamingMovies</th>\n",
              "      <td>-0.008743</td>\n",
              "      <td>0.047266</td>\n",
              "      <td>0.129574</td>\n",
              "      <td>0.021321</td>\n",
              "      <td>0.296866</td>\n",
              "      <td>0.043870</td>\n",
              "      <td>0.180957</td>\n",
              "      <td>0.098350</td>\n",
              "      <td>0.055954</td>\n",
              "      <td>0.136722</td>\n",
              "      <td>0.288799</td>\n",
              "      <td>0.161316</td>\n",
              "      <td>0.434772</td>\n",
              "      <td>1.000000</td>\n",
              "      <td>0.231226</td>\n",
              "      <td>0.083700</td>\n",
              "      <td>-0.111241</td>\n",
              "      <td>0.335459</td>\n",
              "      <td>-0.038492</td>\n",
              "    </tr>\n",
              "    <tr>\n",
              "      <th>Contract</th>\n",
              "      <td>0.000126</td>\n",
              "      <td>-0.142554</td>\n",
              "      <td>0.294806</td>\n",
              "      <td>0.243187</td>\n",
              "      <td>0.671607</td>\n",
              "      <td>0.002247</td>\n",
              "      <td>0.110842</td>\n",
              "      <td>0.099721</td>\n",
              "      <td>0.374416</td>\n",
              "      <td>0.280980</td>\n",
              "      <td>0.350277</td>\n",
              "      <td>0.425367</td>\n",
              "      <td>0.227116</td>\n",
              "      <td>0.231226</td>\n",
              "      <td>1.000000</td>\n",
              "      <td>-0.176733</td>\n",
              "      <td>-0.227543</td>\n",
              "      <td>-0.074195</td>\n",
              "      <td>-0.396713</td>\n",
              "    </tr>\n",
              "    <tr>\n",
              "      <th>PaperlessBilling</th>\n",
              "      <td>-0.011754</td>\n",
              "      <td>0.156530</td>\n",
              "      <td>-0.014877</td>\n",
              "      <td>-0.111377</td>\n",
              "      <td>0.006152</td>\n",
              "      <td>0.016505</td>\n",
              "      <td>0.165146</td>\n",
              "      <td>-0.138625</td>\n",
              "      <td>-0.157641</td>\n",
              "      <td>-0.013370</td>\n",
              "      <td>-0.038234</td>\n",
              "      <td>-0.113600</td>\n",
              "      <td>0.096642</td>\n",
              "      <td>0.083700</td>\n",
              "      <td>-0.176733</td>\n",
              "      <td>1.000000</td>\n",
              "      <td>-0.062904</td>\n",
              "      <td>0.352150</td>\n",
              "      <td>0.191825</td>\n",
              "    </tr>\n",
              "    <tr>\n",
              "      <th>PaymentMethod</th>\n",
              "      <td>0.017352</td>\n",
              "      <td>-0.038551</td>\n",
              "      <td>-0.154798</td>\n",
              "      <td>-0.040292</td>\n",
              "      <td>-0.370436</td>\n",
              "      <td>-0.004184</td>\n",
              "      <td>-0.176793</td>\n",
              "      <td>0.086140</td>\n",
              "      <td>-0.096726</td>\n",
              "      <td>-0.124847</td>\n",
              "      <td>-0.135750</td>\n",
              "      <td>-0.104670</td>\n",
              "      <td>-0.104234</td>\n",
              "      <td>-0.111241</td>\n",
              "      <td>-0.227543</td>\n",
              "      <td>-0.062904</td>\n",
              "      <td>1.000000</td>\n",
              "      <td>-0.193407</td>\n",
              "      <td>0.107062</td>\n",
              "    </tr>\n",
              "    <tr>\n",
              "      <th>MonthlyCharges</th>\n",
              "      <td>-0.014569</td>\n",
              "      <td>0.220173</td>\n",
              "      <td>0.096848</td>\n",
              "      <td>-0.113890</td>\n",
              "      <td>0.247900</td>\n",
              "      <td>0.247398</td>\n",
              "      <td>0.433576</td>\n",
              "      <td>-0.323260</td>\n",
              "      <td>-0.053878</td>\n",
              "      <td>0.119777</td>\n",
              "      <td>0.163652</td>\n",
              "      <td>-0.008682</td>\n",
              "      <td>0.336706</td>\n",
              "      <td>0.335459</td>\n",
              "      <td>-0.074195</td>\n",
              "      <td>0.352150</td>\n",
              "      <td>-0.193407</td>\n",
              "      <td>1.000000</td>\n",
              "      <td>0.193356</td>\n",
              "    </tr>\n",
              "    <tr>\n",
              "      <th>Churn</th>\n",
              "      <td>-0.008612</td>\n",
              "      <td>0.150889</td>\n",
              "      <td>-0.150448</td>\n",
              "      <td>-0.164221</td>\n",
              "      <td>-0.352229</td>\n",
              "      <td>0.011942</td>\n",
              "      <td>0.038037</td>\n",
              "      <td>-0.047291</td>\n",
              "      <td>-0.289309</td>\n",
              "      <td>-0.195525</td>\n",
              "      <td>-0.178134</td>\n",
              "      <td>-0.282492</td>\n",
              "      <td>-0.036581</td>\n",
              "      <td>-0.038492</td>\n",
              "      <td>-0.396713</td>\n",
              "      <td>0.191825</td>\n",
              "      <td>0.107062</td>\n",
              "      <td>0.193356</td>\n",
              "      <td>1.000000</td>\n",
              "    </tr>\n",
              "  </tbody>\n",
              "</table>\n",
              "</div>"
            ],
            "text/plain": [
              "                    gender  SeniorCitizen  ...  MonthlyCharges     Churn\n",
              "gender            1.000000      -0.001874  ...       -0.014569 -0.008612\n",
              "SeniorCitizen    -0.001874       1.000000  ...        0.220173  0.150889\n",
              "Partner          -0.001808       0.016479  ...        0.096848 -0.150448\n",
              "Dependents        0.010517      -0.211185  ...       -0.113890 -0.164221\n",
              "tenure            0.005106       0.016567  ...        0.247900 -0.352229\n",
              "PhoneService     -0.006488       0.008576  ...        0.247398  0.011942\n",
              "MultipleLines    -0.006739       0.146185  ...        0.433576  0.038037\n",
              "InternetService  -0.000863      -0.032310  ...       -0.323260 -0.047291\n",
              "OnlineSecurity   -0.015017      -0.128221  ...       -0.053878 -0.289309\n",
              "OnlineBackup     -0.012057      -0.013632  ...        0.119777 -0.195525\n",
              "DeviceProtection  0.000549      -0.021398  ...        0.163652 -0.178134\n",
              "TechSupport      -0.006825      -0.151268  ...       -0.008682 -0.282492\n",
              "StreamingTV      -0.006421       0.030776  ...        0.336706 -0.036581\n",
              "StreamingMovies  -0.008743       0.047266  ...        0.335459 -0.038492\n",
              "Contract          0.000126      -0.142554  ...       -0.074195 -0.396713\n",
              "PaperlessBilling -0.011754       0.156530  ...        0.352150  0.191825\n",
              "PaymentMethod     0.017352      -0.038551  ...       -0.193407  0.107062\n",
              "MonthlyCharges   -0.014569       0.220173  ...        1.000000  0.193356\n",
              "Churn            -0.008612       0.150889  ...        0.193356  1.000000\n",
              "\n",
              "[19 rows x 19 columns]"
            ]
          },
          "metadata": {
            "tags": []
          },
          "execution_count": 42
        }
      ]
    },
    {
      "cell_type": "markdown",
      "metadata": {
        "id": "wlGIEdn1zPFB"
      },
      "source": [
        "## Multivariate Analysis"
      ]
    },
    {
      "cell_type": "code",
      "metadata": {
        "colab": {
          "base_uri": "https://localhost:8080/",
          "height": 852
        },
        "id": "25Mn9hPwzJ38",
        "outputId": "76cabacf-9713-402d-ddfc-01542f822a6f"
      },
      "source": [
        "plt.figure(figsize=(15,13))\n",
        "sns.heatmap(dfcorr,cmap='YlGnBu',annot=True)"
      ],
      "execution_count": 43,
      "outputs": [
        {
          "output_type": "execute_result",
          "data": {
            "text/plain": [
              "<matplotlib.axes._subplots.AxesSubplot at 0x7f39d15b58d0>"
            ]
          },
          "metadata": {
            "tags": []
          },
          "execution_count": 43
        },
        {
          "output_type": "display_data",
          "data": {
            "image/png": "[encoded data removed]",
            "text/plain": [
              "<Figure size 1080x936 with 2 Axes>"
            ]
          },
          "metadata": {
            "tags": []
          }
        }
      ]
    },
    {
      "cell_type": "markdown",
      "metadata": {
        "id": "8YxZL20AzXxi"
      },
      "source": [
        "**Observations :-**\n",
        "\n",
        "1) Churn is highly positively correlated with PaperlessBilling.\n",
        "\n",
        "2) PaperlessBilling is highly negatively correlated with Contract.\n",
        "\n",
        "3) Contract is highly positively correlated with tenure.\n",
        "\n",
        "4) Contract is highly negatively correlated with Churn."
      ]
    },
    {
      "cell_type": "markdown",
      "metadata": {
        "id": "M5PbAHATzrId"
      },
      "source": [
        "## Plotting Outliers"
      ]
    },
    {
      "cell_type": "code",
      "metadata": {
        "colab": {
          "base_uri": "https://localhost:8080/"
        },
        "id": "FQxo0t3dzThv",
        "outputId": "edfddd7a-b782-4e35-dfde-65dd4571abf8"
      },
      "source": [
        "df.shape"
      ],
      "execution_count": 44,
      "outputs": [
        {
          "output_type": "execute_result",
          "data": {
            "text/plain": [
              "(7043, 20)"
            ]
          },
          "metadata": {
            "tags": []
          },
          "execution_count": 44
        }
      ]
    },
    {
      "cell_type": "code",
      "metadata": {
        "colab": {
          "base_uri": "https://localhost:8080/",
          "height": 1000
        },
        "id": "idM4PG6vzuQI",
        "outputId": "008ab145-6bb4-4e2b-ab45-81b4bf458c49"
      },
      "source": [
        "df.plot(kind='box',subplots=True,layout=(4,5),sharex=False,fontsize=1,figsize=(18,12))"
      ],
      "execution_count": 45,
      "outputs": [
        {
          "output_type": "execute_result",
          "data": {
            "text/plain": [
              "gender                  AxesSubplot(0.125,0.71587;0.133621x0.16413)\n",
              "SeniorCitizen        AxesSubplot(0.285345,0.71587;0.133621x0.16413)\n",
              "Partner               AxesSubplot(0.44569,0.71587;0.133621x0.16413)\n",
              "Dependents           AxesSubplot(0.606034,0.71587;0.133621x0.16413)\n",
              "tenure               AxesSubplot(0.766379,0.71587;0.133621x0.16413)\n",
              "PhoneService           AxesSubplot(0.125,0.518913;0.133621x0.16413)\n",
              "MultipleLines       AxesSubplot(0.285345,0.518913;0.133621x0.16413)\n",
              "InternetService      AxesSubplot(0.44569,0.518913;0.133621x0.16413)\n",
              "OnlineSecurity      AxesSubplot(0.606034,0.518913;0.133621x0.16413)\n",
              "OnlineBackup        AxesSubplot(0.766379,0.518913;0.133621x0.16413)\n",
              "DeviceProtection       AxesSubplot(0.125,0.321957;0.133621x0.16413)\n",
              "TechSupport         AxesSubplot(0.285345,0.321957;0.133621x0.16413)\n",
              "StreamingTV          AxesSubplot(0.44569,0.321957;0.133621x0.16413)\n",
              "StreamingMovies     AxesSubplot(0.606034,0.321957;0.133621x0.16413)\n",
              "Contract            AxesSubplot(0.766379,0.321957;0.133621x0.16413)\n",
              "PaperlessBilling          AxesSubplot(0.125,0.125;0.133621x0.16413)\n",
              "PaymentMethod          AxesSubplot(0.285345,0.125;0.133621x0.16413)\n",
              "MonthlyCharges          AxesSubplot(0.44569,0.125;0.133621x0.16413)\n",
              "Churn                  AxesSubplot(0.606034,0.125;0.133621x0.16413)\n",
              "dtype: object"
            ]
          },
          "metadata": {
            "tags": []
          },
          "execution_count": 45
        },
        {
          "output_type": "display_data",
          "data": {
            "image/png": "[encoded data removed]",
            "text/plain": [
              "<Figure size 1296x864 with 20 Axes>"
            ]
          },
          "metadata": {
            "tags": []
          }
        }
      ]
    },
    {
      "cell_type": "markdown",
      "metadata": {
        "id": "qe3bPyfwz0_s"
      },
      "source": [
        "\n",
        "Observations :-\n",
        "\n",
        "Senior Citizen and Phone Service have outliers."
      ]
    },
    {
      "cell_type": "code",
      "metadata": {
        "colab": {
          "base_uri": "https://localhost:8080/"
        },
        "id": "LJQGJ8MWzx6D",
        "outputId": "1acda0b4-b392-464e-f2ec-a402682d0df6"
      },
      "source": [
        "pd.set_option('display.max_rows',None)\n",
        "df.dtypes"
      ],
      "execution_count": 46,
      "outputs": [
        {
          "output_type": "execute_result",
          "data": {
            "text/plain": [
              "gender                int64\n",
              "SeniorCitizen         int64\n",
              "Partner               int64\n",
              "Dependents            int64\n",
              "tenure                int64\n",
              "PhoneService          int64\n",
              "MultipleLines         int64\n",
              "InternetService       int64\n",
              "OnlineSecurity        int64\n",
              "OnlineBackup          int64\n",
              "DeviceProtection      int64\n",
              "TechSupport           int64\n",
              "StreamingTV           int64\n",
              "StreamingMovies       int64\n",
              "Contract              int64\n",
              "PaperlessBilling      int64\n",
              "PaymentMethod         int64\n",
              "MonthlyCharges      float64\n",
              "TotalCharges         object\n",
              "Churn                 int64\n",
              "dtype: object"
            ]
          },
          "metadata": {
            "tags": []
          },
          "execution_count": 46
        }
      ]
    },
    {
      "cell_type": "markdown",
      "metadata": {
        "id": "SXQpByhAz7zv"
      },
      "source": [
        "\n",
        "## Dropping of Column"
      ]
    },
    {
      "cell_type": "code",
      "metadata": {
        "id": "Cvb_5Y15z5Yh"
      },
      "source": [
        "df.drop('TotalCharges',axis=1,inplace=True)"
      ],
      "execution_count": 47,
      "outputs": []
    },
    {
      "cell_type": "markdown",
      "metadata": {
        "id": "op-W2PNs0EYZ"
      },
      "source": [
        "## Removing Outliers"
      ]
    },
    {
      "cell_type": "code",
      "metadata": {
        "id": "G1VbCSsj0Adn"
      },
      "source": [
        "from scipy.stats import zscore\n",
        "z=np.abs(zscore(df))"
      ],
      "execution_count": 48,
      "outputs": []
    },
    {
      "cell_type": "code",
      "metadata": {
        "id": "LWrO6pRK0JXT"
      },
      "source": [
        "threshold=3\n",
        "df_new=df[(z<3).all(axis=1)]"
      ],
      "execution_count": 49,
      "outputs": []
    },
    {
      "cell_type": "code",
      "metadata": {
        "colab": {
          "base_uri": "https://localhost:8080/"
        },
        "id": "-CMFQPuG0MIK",
        "outputId": "60b0c0e6-ba29-4220-c273-6c73941b8717"
      },
      "source": [
        "df_new.shape"
      ],
      "execution_count": 50,
      "outputs": [
        {
          "output_type": "execute_result",
          "data": {
            "text/plain": [
              "(6361, 19)"
            ]
          },
          "metadata": {
            "tags": []
          },
          "execution_count": 50
        }
      ]
    },
    {
      "cell_type": "code",
      "metadata": {
        "colab": {
          "base_uri": "https://localhost:8080/"
        },
        "id": "AuRpdZUo0P3P",
        "outputId": "f5cf20ff-e0a2-4dc6-96c5-3241fd9fc9dd"
      },
      "source": [
        "df.shape"
      ],
      "execution_count": 51,
      "outputs": [
        {
          "output_type": "execute_result",
          "data": {
            "text/plain": [
              "(7043, 19)"
            ]
          },
          "metadata": {
            "tags": []
          },
          "execution_count": 51
        }
      ]
    },
    {
      "cell_type": "markdown",
      "metadata": {
        "id": "YWKIUaC30Wd8"
      },
      "source": [
        "**682 rows are removed as outliers**"
      ]
    },
    {
      "cell_type": "code",
      "metadata": {
        "colab": {
          "base_uri": "https://localhost:8080/"
        },
        "id": "xcJ7-lZ90ZMw",
        "outputId": "05fb18f1-847e-4e9e-8ce8-df6a98f0e4d3"
      },
      "source": [
        "((7043-6361)/7043)*100"
      ],
      "execution_count": 52,
      "outputs": [
        {
          "output_type": "execute_result",
          "data": {
            "text/plain": [
              "9.683373562402386"
            ]
          },
          "metadata": {
            "tags": []
          },
          "execution_count": 52
        }
      ]
    },
    {
      "cell_type": "code",
      "metadata": {
        "id": "yFHz7hNG0bnV"
      },
      "source": [
        "df=df_new"
      ],
      "execution_count": 55,
      "outputs": []
    },
    {
      "cell_type": "code",
      "metadata": {
        "colab": {
          "base_uri": "https://localhost:8080/"
        },
        "id": "XFjDAlMG0dpZ",
        "outputId": "be821deb-a1ee-4279-ee14-829ac0af88f7"
      },
      "source": [
        "df.shape"
      ],
      "execution_count": 56,
      "outputs": [
        {
          "output_type": "execute_result",
          "data": {
            "text/plain": [
              "(6361, 19)"
            ]
          },
          "metadata": {
            "tags": []
          },
          "execution_count": 0
        }
      ]
    },
    {
      "cell_type": "markdown",
      "metadata": {
        "id": "Z1Q_j-gS0p-Z"
      },
      "source": [
        "\n",
        "## To check skewness"
      ]
    },
    {
      "cell_type": "code",
      "metadata": {
        "colab": {
          "base_uri": "https://localhost:8080/",
          "height": 273
        },
        "id": "_yoNC3oD0nHp",
        "outputId": "704b038c-acb8-4e08-c167-aed1e4f98bdf"
      },
      "source": [
        "df['SeniorCitizen'].plot(kind='density',sharex=False,fontsize=1)"
      ],
      "execution_count": 57,
      "outputs": [
        {
          "output_type": "execute_result",
          "data": {
            "text/plain": [
              "<matplotlib.axes._subplots.AxesSubplot at 0x7f39d1515c50>"
            ]
          },
          "metadata": {
            "tags": []
          },
          "execution_count": 57
        },
        {
          "output_type": "display_data",
          "data": {
            "image/png": "[encoded data removed]",
            "text/plain": [
              "<Figure size 432x288 with 1 Axes>"
            ]
          },
          "metadata": {
            "tags": []
          }
        }
      ]
    },
    {
      "cell_type": "markdown",
      "metadata": {
        "id": "_iADEZDJ00lQ"
      },
      "source": [
        "\n",
        "Observations :-\n",
        "\n",
        "Senior Citizen is right skewed."
      ]
    },
    {
      "cell_type": "code",
      "metadata": {
        "colab": {
          "base_uri": "https://localhost:8080/",
          "height": 273
        },
        "id": "HuHOYpCk0tdF",
        "outputId": "b129c6e6-d246-4ad1-d5d4-5b7db8afb352"
      },
      "source": [
        "df['Partner'].plot(kind='density',sharex=False,fontsize=1)"
      ],
      "execution_count": 58,
      "outputs": [
        {
          "output_type": "execute_result",
          "data": {
            "text/plain": [
              "<matplotlib.axes._subplots.AxesSubplot at 0x7f39cf2a28d0>"
            ]
          },
          "metadata": {
            "tags": []
          },
          "execution_count": 58
        },
        {
          "output_type": "display_data",
          "data": {
            "image/png": "[encoded data removed]",
            "text/plain": [
              "<Figure size 432x288 with 1 Axes>"
            ]
          },
          "metadata": {
            "tags": []
          }
        }
      ]
    },
    {
      "cell_type": "markdown",
      "metadata": {
        "id": "7I0CBZZG088e"
      },
      "source": [
        "\n",
        "Observations :-\n",
        "\n",
        "Partner is normally distributed."
      ]
    },
    {
      "cell_type": "code",
      "metadata": {
        "colab": {
          "base_uri": "https://localhost:8080/",
          "height": 273
        },
        "id": "NN2wVuhr06u7",
        "outputId": "1a6d9057-1c81-4186-f258-ed89c0e6435a"
      },
      "source": [
        "df['Dependents'].plot(kind='density',sharex=False,fontsize=1)"
      ],
      "execution_count": 59,
      "outputs": [
        {
          "output_type": "execute_result",
          "data": {
            "text/plain": [
              "<matplotlib.axes._subplots.AxesSubplot at 0x7f39cf19bd10>"
            ]
          },
          "metadata": {
            "tags": []
          },
          "execution_count": 59
        },
        {
          "output_type": "display_data",
          "data": {
            "image/png": "[encoded data removed]",
            "text/plain": [
              "<Figure size 432x288 with 1 Axes>"
            ]
          },
          "metadata": {
            "tags": []
          }
        }
      ]
    },
    {
      "cell_type": "markdown",
      "metadata": {
        "id": "OccUlK1e1GYk"
      },
      "source": [
        "Observations :-\n",
        "\n",
        "Dependents is right skewed."
      ]
    },
    {
      "cell_type": "code",
      "metadata": {
        "colab": {
          "base_uri": "https://localhost:8080/",
          "height": 273
        },
        "id": "q-CY6YBU1Fmt",
        "outputId": "f8275e43-f2bb-46b4-a1c3-5b99c0466e01"
      },
      "source": [
        "df['Contract'].plot(kind='density',sharex=False,fontsize=1)"
      ],
      "execution_count": 60,
      "outputs": [
        {
          "output_type": "execute_result",
          "data": {
            "text/plain": [
              "<matplotlib.axes._subplots.AxesSubplot at 0x7f39cf1848d0>"
            ]
          },
          "metadata": {
            "tags": []
          },
          "execution_count": 60
        },
        {
          "output_type": "display_data",
          "data": {
            "image/png": "[encoded data removed]",
            "text/plain": [
              "<Figure size 432x288 with 1 Axes>"
            ]
          },
          "metadata": {
            "tags": []
          }
        }
      ]
    },
    {
      "cell_type": "markdown",
      "metadata": {
        "id": "hblJEkMP1krb"
      },
      "source": [
        "Observations :-\n",
        "\n",
        "Contract is right skewed."
      ]
    },
    {
      "cell_type": "code",
      "metadata": {
        "id": "vFG1tasS1g93"
      },
      "source": [
        "df['tenure'].plot(kind='density',sharex=False,fontsize=1)"
      ],
      "execution_count": null,
      "outputs": []
    },
    {
      "cell_type": "markdown",
      "metadata": {
        "id": "UGduB9qQ1tr3"
      },
      "source": [
        "Observations :-\n",
        "\n",
        "tenure is normally distributed."
      ]
    },
    {
      "cell_type": "code",
      "metadata": {
        "colab": {
          "base_uri": "https://localhost:8080/"
        },
        "id": "LpCvIhHq1rZ-",
        "outputId": "931b9cde-eed2-4d6b-9a15-f22f0c982347"
      },
      "source": [
        "df.skew()"
      ],
      "execution_count": 61,
      "outputs": [
        {
          "output_type": "execute_result",
          "data": {
            "text/plain": [
              "gender             -0.014781\n",
              "SeniorCitizen       1.823376\n",
              "Partner             0.056316\n",
              "Dependents          0.876594\n",
              "tenure              0.237945\n",
              "PhoneService        0.000000\n",
              "MultipleLines       0.132058\n",
              "InternetService     0.049126\n",
              "OnlineSecurity      0.422032\n",
              "OnlineBackup        0.167910\n",
              "DeviceProtection    0.183254\n",
              "TechSupport         0.409833\n",
              "StreamingTV        -0.002734\n",
              "StreamingMovies    -0.010025\n",
              "Contract            0.629701\n",
              "PaperlessBilling   -0.386613\n",
              "PaymentMethod      -0.169889\n",
              "MonthlyCharges     -0.399139\n",
              "Churn               1.053055\n",
              "dtype: float64"
            ]
          },
          "metadata": {
            "tags": []
          },
          "execution_count": 61
        }
      ]
    },
    {
      "cell_type": "code",
      "metadata": {
        "colab": {
          "base_uri": "https://localhost:8080/"
        },
        "id": "71IBbZWO1y3-",
        "outputId": "48602738-3318-4c8a-a135-b287c7335acf"
      },
      "source": [
        "df.columns"
      ],
      "execution_count": 62,
      "outputs": [
        {
          "output_type": "execute_result",
          "data": {
            "text/plain": [
              "Index(['gender', 'SeniorCitizen', 'Partner', 'Dependents', 'tenure',\n",
              "       'PhoneService', 'MultipleLines', 'InternetService', 'OnlineSecurity',\n",
              "       'OnlineBackup', 'DeviceProtection', 'TechSupport', 'StreamingTV',\n",
              "       'StreamingMovies', 'Contract', 'PaperlessBilling', 'PaymentMethod',\n",
              "       'MonthlyCharges', 'Churn'],\n",
              "      dtype='object')"
            ]
          },
          "metadata": {
            "tags": []
          },
          "execution_count": 62
        }
      ]
    },
    {
      "cell_type": "code",
      "metadata": {
        "id": "05xIEGuW14IU"
      },
      "source": [
        "list=['SeniorCitizen','Dependents','Contract']\n",
        "for val in list:\n",
        "    if df.skew().loc[val]>0.55:\n",
        "        df[val]=np.sqrt(df[val])"
      ],
      "execution_count": 63,
      "outputs": []
    },
    {
      "cell_type": "code",
      "metadata": {
        "colab": {
          "base_uri": "https://localhost:8080/"
        },
        "id": "IMZLoFlW17Cq",
        "outputId": "d7bd2bd2-4569-40a8-a6de-86e15d7f8e66"
      },
      "source": [
        "df.skew()"
      ],
      "execution_count": 64,
      "outputs": [
        {
          "output_type": "execute_result",
          "data": {
            "text/plain": [
              "gender             -0.014781\n",
              "SeniorCitizen       1.823376\n",
              "Partner             0.056316\n",
              "Dependents          0.876594\n",
              "tenure              0.237945\n",
              "PhoneService        0.000000\n",
              "MultipleLines       0.132058\n",
              "InternetService     0.049126\n",
              "OnlineSecurity      0.422032\n",
              "OnlineBackup        0.167910\n",
              "DeviceProtection    0.183254\n",
              "TechSupport         0.409833\n",
              "StreamingTV        -0.002734\n",
              "StreamingMovies    -0.010025\n",
              "Contract            0.343999\n",
              "PaperlessBilling   -0.386613\n",
              "PaymentMethod      -0.169889\n",
              "MonthlyCharges     -0.399139\n",
              "Churn               1.053055\n",
              "dtype: float64"
            ]
          },
          "metadata": {
            "tags": []
          },
          "execution_count": 64
        }
      ]
    },
    {
      "cell_type": "markdown",
      "metadata": {
        "id": "dPSxbJty2Agn"
      },
      "source": [
        "## Train Test Split"
      ]
    },
    {
      "cell_type": "code",
      "metadata": {
        "id": "Voi5K06I19Pl"
      },
      "source": [
        "x=df[['gender', 'SeniorCitizen', 'Partner', 'Dependents', 'tenure',\n",
        "       'PhoneService', 'MultipleLines', 'InternetService', 'OnlineSecurity',\n",
        "       'OnlineBackup', 'DeviceProtection', 'TechSupport', 'StreamingTV',\n",
        "       'StreamingMovies', 'Contract', 'PaperlessBilling', 'PaymentMethod',\n",
        "       'MonthlyCharges']]\n",
        "y=df['Churn']"
      ],
      "execution_count": 65,
      "outputs": []
    },
    {
      "cell_type": "markdown",
      "metadata": {
        "id": "IUL9h2TG2IEc"
      },
      "source": [
        "## Scaling\n"
      ]
    },
    {
      "cell_type": "code",
      "metadata": {
        "id": "URULA0q72EN8"
      },
      "source": [
        "from sklearn.preprocessing import StandardScaler\n",
        "sc=StandardScaler()\n",
        "x=sc.fit_transform(x)"
      ],
      "execution_count": 66,
      "outputs": []
    },
    {
      "cell_type": "code",
      "metadata": {
        "id": "XLgJBrtD2Oax"
      },
      "source": [
        "x=pd.DataFrame(x)\n"
      ],
      "execution_count": 67,
      "outputs": []
    },
    {
      "cell_type": "code",
      "metadata": {
        "id": "TkwBX8Pe2Tx5"
      },
      "source": [
        "x.columns=['gender', 'SeniorCitizen', 'Partner', 'Dependents', 'tenure',\n",
        "       'PhoneService', 'MultipleLines', 'InternetService', 'OnlineSecurity',\n",
        "       'OnlineBackup', 'DeviceProtection', 'TechSupport', 'StreamingTV',\n",
        "       'StreamingMovies', 'Contract', 'PaperlessBilling', 'PaymentMethod',\n",
        "       'MonthlyCharges']"
      ],
      "execution_count": 68,
      "outputs": []
    },
    {
      "cell_type": "code",
      "metadata": {
        "colab": {
          "base_uri": "https://localhost:8080/"
        },
        "id": "31Yw-D202Vz4",
        "outputId": "e1d55efe-0daf-4d46-98b8-a28b8051177c"
      },
      "source": [
        "df.isnull().sum()"
      ],
      "execution_count": 69,
      "outputs": [
        {
          "output_type": "execute_result",
          "data": {
            "text/plain": [
              "gender              0\n",
              "SeniorCitizen       0\n",
              "Partner             0\n",
              "Dependents          0\n",
              "tenure              0\n",
              "PhoneService        0\n",
              "MultipleLines       0\n",
              "InternetService     0\n",
              "OnlineSecurity      0\n",
              "OnlineBackup        0\n",
              "DeviceProtection    0\n",
              "TechSupport         0\n",
              "StreamingTV         0\n",
              "StreamingMovies     0\n",
              "Contract            0\n",
              "PaperlessBilling    0\n",
              "PaymentMethod       0\n",
              "MonthlyCharges      0\n",
              "Churn               0\n",
              "dtype: int64"
            ]
          },
          "metadata": {
            "tags": []
          },
          "execution_count": 69
        }
      ]
    },
    {
      "cell_type": "code",
      "metadata": {
        "colab": {
          "base_uri": "https://localhost:8080/"
        },
        "id": "DB9EizO62Xsr",
        "outputId": "a3699759-b948-404e-90dc-de172fecd47d"
      },
      "source": [
        "from sklearn.model_selection import train_test_split\n",
        "maxAccu=0\n",
        "maxRS=0\n",
        "for i in range(1,200):\n",
        "    x_train,x_test,y_train,y_test=train_test_split(x,y,test_size=0.22,random_state=i)\n",
        "    lm=LogisticRegression()\n",
        "    lm.fit(x_train,y_train)\n",
        "    pred=lm.predict(x_test)\n",
        "    print('Accuracy score of Logistic Regression','is:')\n",
        "    accu_score=accuracy_score(y_test,pred)\n",
        "    print(accuracy_score(y_test,pred))\n",
        "    print(confusion_matrix(y_test,pred))\n",
        "    print(classification_report(y_test,pred))\n",
        "    if accu_score>maxAccu:\n",
        "        maxAccu=accu_score\n",
        "        maxRS=i\n",
        "        \n",
        "print(\"Best accuracy is\",maxAccu,\"on Random_state\",maxRS)"
      ],
      "execution_count": 70,
      "outputs": [
        {
          "output_type": "stream",
          "text": [
            "Accuracy score of Logistic Regression is:\n",
            "0.8014285714285714\n",
            "[[923 118]\n",
            " [160 199]]\n",
            "              precision    recall  f1-score   support\n",
            "\n",
            "           0       0.85      0.89      0.87      1041\n",
            "           1       0.63      0.55      0.59       359\n",
            "\n",
            "    accuracy                           0.80      1400\n",
            "   macro avg       0.74      0.72      0.73      1400\n",
            "weighted avg       0.79      0.80      0.80      1400\n",
            "\n",
            "Accuracy score of Logistic Regression is:\n",
            "0.7907142857142857\n",
            "[[904 119]\n",
            " [174 203]]\n",
            "              precision    recall  f1-score   support\n",
            "\n",
            "           0       0.84      0.88      0.86      1023\n",
            "           1       0.63      0.54      0.58       377\n",
            "\n",
            "    accuracy                           0.79      1400\n",
            "   macro avg       0.73      0.71      0.72      1400\n",
            "weighted avg       0.78      0.79      0.79      1400\n",
            "\n",
            "Accuracy score of Logistic Regression is:\n",
            "0.8078571428571428\n",
            "[[927 102]\n",
            " [167 204]]\n",
            "              precision    recall  f1-score   support\n",
            "\n",
            "           0       0.85      0.90      0.87      1029\n",
            "           1       0.67      0.55      0.60       371\n",
            "\n",
            "    accuracy                           0.81      1400\n",
            "   macro avg       0.76      0.73      0.74      1400\n",
            "weighted avg       0.80      0.81      0.80      1400\n",
            "\n",
            "Accuracy score of Logistic Regression is:\n",
            "0.8085714285714286\n",
            "[[932 101]\n",
            " [167 200]]\n",
            "              precision    recall  f1-score   support\n",
            "\n",
            "           0       0.85      0.90      0.87      1033\n",
            "           1       0.66      0.54      0.60       367\n",
            "\n",
            "    accuracy                           0.81      1400\n",
            "   macro avg       0.76      0.72      0.74      1400\n",
            "weighted avg       0.80      0.81      0.80      1400\n",
            "\n",
            "Accuracy score of Logistic Regression is:\n",
            "0.7964285714285714\n",
            "[[905 108]\n",
            " [177 210]]\n",
            "              precision    recall  f1-score   support\n",
            "\n",
            "           0       0.84      0.89      0.86      1013\n",
            "           1       0.66      0.54      0.60       387\n",
            "\n",
            "    accuracy                           0.80      1400\n",
            "   macro avg       0.75      0.72      0.73      1400\n",
            "weighted avg       0.79      0.80      0.79      1400\n",
            "\n",
            "Accuracy score of Logistic Regression is:\n",
            "0.795\n",
            "[[902 120]\n",
            " [167 211]]\n",
            "              precision    recall  f1-score   support\n",
            "\n",
            "           0       0.84      0.88      0.86      1022\n",
            "           1       0.64      0.56      0.60       378\n",
            "\n",
            "    accuracy                           0.80      1400\n",
            "   macro avg       0.74      0.72      0.73      1400\n",
            "weighted avg       0.79      0.80      0.79      1400\n",
            "\n",
            "Accuracy score of Logistic Regression is:\n",
            "0.7992857142857143\n",
            "[[926 120]\n",
            " [161 193]]\n",
            "              precision    recall  f1-score   support\n",
            "\n",
            "           0       0.85      0.89      0.87      1046\n",
            "           1       0.62      0.55      0.58       354\n",
            "\n",
            "    accuracy                           0.80      1400\n",
            "   macro avg       0.73      0.72      0.72      1400\n",
            "weighted avg       0.79      0.80      0.80      1400\n",
            "\n",
            "Accuracy score of Logistic Regression is:\n",
            "0.8042857142857143\n",
            "[[929 115]\n",
            " [159 197]]\n",
            "              precision    recall  f1-score   support\n",
            "\n",
            "           0       0.85      0.89      0.87      1044\n",
            "           1       0.63      0.55      0.59       356\n",
            "\n",
            "    accuracy                           0.80      1400\n",
            "   macro avg       0.74      0.72      0.73      1400\n",
            "weighted avg       0.80      0.80      0.80      1400\n",
            "\n",
            "Accuracy score of Logistic Regression is:\n",
            "0.8042857142857143\n",
            "[[933 106]\n",
            " [168 193]]\n",
            "              precision    recall  f1-score   support\n",
            "\n",
            "           0       0.85      0.90      0.87      1039\n",
            "           1       0.65      0.53      0.58       361\n",
            "\n",
            "    accuracy                           0.80      1400\n",
            "   macro avg       0.75      0.72      0.73      1400\n",
            "weighted avg       0.80      0.80      0.80      1400\n",
            "\n",
            "Accuracy score of Logistic Regression is:\n",
            "0.8128571428571428\n",
            "[[938 103]\n",
            " [159 200]]\n",
            "              precision    recall  f1-score   support\n",
            "\n",
            "           0       0.86      0.90      0.88      1041\n",
            "           1       0.66      0.56      0.60       359\n",
            "\n",
            "    accuracy                           0.81      1400\n",
            "   macro avg       0.76      0.73      0.74      1400\n",
            "weighted avg       0.81      0.81      0.81      1400\n",
            "\n",
            "Accuracy score of Logistic Regression is:\n",
            "0.8142857142857143\n",
            "[[933 109]\n",
            " [151 207]]\n",
            "              precision    recall  f1-score   support\n",
            "\n",
            "           0       0.86      0.90      0.88      1042\n",
            "           1       0.66      0.58      0.61       358\n",
            "\n",
            "    accuracy                           0.81      1400\n",
            "   macro avg       0.76      0.74      0.75      1400\n",
            "weighted avg       0.81      0.81      0.81      1400\n",
            "\n",
            "Accuracy score of Logistic Regression is:\n",
            "0.8107142857142857\n",
            "[[935 129]\n",
            " [136 200]]\n",
            "              precision    recall  f1-score   support\n",
            "\n",
            "           0       0.87      0.88      0.88      1064\n",
            "           1       0.61      0.60      0.60       336\n",
            "\n",
            "    accuracy                           0.81      1400\n",
            "   macro avg       0.74      0.74      0.74      1400\n",
            "weighted avg       0.81      0.81      0.81      1400\n",
            "\n",
            "Accuracy score of Logistic Regression is:\n",
            "0.8128571428571428\n",
            "[[923  96]\n",
            " [166 215]]\n",
            "              precision    recall  f1-score   support\n",
            "\n",
            "           0       0.85      0.91      0.88      1019\n",
            "           1       0.69      0.56      0.62       381\n",
            "\n",
            "    accuracy                           0.81      1400\n",
            "   macro avg       0.77      0.74      0.75      1400\n",
            "weighted avg       0.81      0.81      0.81      1400\n",
            "\n",
            "Accuracy score of Logistic Regression is:\n",
            "0.825\n",
            "[[945  95]\n",
            " [150 210]]\n",
            "              precision    recall  f1-score   support\n",
            "\n",
            "           0       0.86      0.91      0.89      1040\n",
            "           1       0.69      0.58      0.63       360\n",
            "\n",
            "    accuracy                           0.82      1400\n",
            "   macro avg       0.78      0.75      0.76      1400\n",
            "weighted avg       0.82      0.82      0.82      1400\n",
            "\n",
            "Accuracy score of Logistic Regression is:\n",
            "0.8314285714285714\n",
            "[[935  81]\n",
            " [155 229]]\n",
            "              precision    recall  f1-score   support\n",
            "\n",
            "           0       0.86      0.92      0.89      1016\n",
            "           1       0.74      0.60      0.66       384\n",
            "\n",
            "    accuracy                           0.83      1400\n",
            "   macro avg       0.80      0.76      0.77      1400\n",
            "weighted avg       0.83      0.83      0.83      1400\n",
            "\n",
            "Accuracy score of Logistic Regression is:\n",
            "0.8007142857142857\n",
            "[[933 125]\n",
            " [154 188]]\n",
            "              precision    recall  f1-score   support\n",
            "\n",
            "           0       0.86      0.88      0.87      1058\n",
            "           1       0.60      0.55      0.57       342\n",
            "\n",
            "    accuracy                           0.80      1400\n",
            "   macro avg       0.73      0.72      0.72      1400\n",
            "weighted avg       0.80      0.80      0.80      1400\n",
            "\n",
            "Accuracy score of Logistic Regression is:\n",
            "0.7907142857142857\n",
            "[[923 121]\n",
            " [172 184]]\n",
            "              precision    recall  f1-score   support\n",
            "\n",
            "           0       0.84      0.88      0.86      1044\n",
            "           1       0.60      0.52      0.56       356\n",
            "\n",
            "    accuracy                           0.79      1400\n",
            "   macro avg       0.72      0.70      0.71      1400\n",
            "weighted avg       0.78      0.79      0.79      1400\n",
            "\n",
            "Accuracy score of Logistic Regression is:\n",
            "0.8171428571428572\n",
            "[[917  94]\n",
            " [162 227]]\n",
            "              precision    recall  f1-score   support\n",
            "\n",
            "           0       0.85      0.91      0.88      1011\n",
            "           1       0.71      0.58      0.64       389\n",
            "\n",
            "    accuracy                           0.82      1400\n",
            "   macro avg       0.78      0.75      0.76      1400\n",
            "weighted avg       0.81      0.82      0.81      1400\n",
            "\n",
            "Accuracy score of Logistic Regression is:\n",
            "0.7971428571428572\n",
            "[[918  92]\n",
            " [192 198]]\n",
            "              precision    recall  f1-score   support\n",
            "\n",
            "           0       0.83      0.91      0.87      1010\n",
            "           1       0.68      0.51      0.58       390\n",
            "\n",
            "    accuracy                           0.80      1400\n",
            "   macro avg       0.75      0.71      0.72      1400\n",
            "weighted avg       0.79      0.80      0.79      1400\n",
            "\n",
            "Accuracy score of Logistic Regression is:\n",
            "0.815\n",
            "[[929 103]\n",
            " [156 212]]\n",
            "              precision    recall  f1-score   support\n",
            "\n",
            "           0       0.86      0.90      0.88      1032\n",
            "           1       0.67      0.58      0.62       368\n",
            "\n",
            "    accuracy                           0.81      1400\n",
            "   macro avg       0.76      0.74      0.75      1400\n",
            "weighted avg       0.81      0.81      0.81      1400\n",
            "\n",
            "Accuracy score of Logistic Regression is:\n",
            "0.7957142857142857\n",
            "[[906 112]\n",
            " [174 208]]\n",
            "              precision    recall  f1-score   support\n",
            "\n",
            "           0       0.84      0.89      0.86      1018\n",
            "           1       0.65      0.54      0.59       382\n",
            "\n",
            "    accuracy                           0.80      1400\n",
            "   macro avg       0.74      0.72      0.73      1400\n",
            "weighted avg       0.79      0.80      0.79      1400\n",
            "\n",
            "Accuracy score of Logistic Regression is:\n",
            "0.8107142857142857\n",
            "[[912 109]\n",
            " [156 223]]\n",
            "              precision    recall  f1-score   support\n",
            "\n",
            "           0       0.85      0.89      0.87      1021\n",
            "           1       0.67      0.59      0.63       379\n",
            "\n",
            "    accuracy                           0.81      1400\n",
            "   macro avg       0.76      0.74      0.75      1400\n",
            "weighted avg       0.80      0.81      0.81      1400\n",
            "\n",
            "Accuracy score of Logistic Regression is:\n",
            "0.8114285714285714\n",
            "[[939  93]\n",
            " [171 197]]\n",
            "              precision    recall  f1-score   support\n",
            "\n",
            "           0       0.85      0.91      0.88      1032\n",
            "           1       0.68      0.54      0.60       368\n",
            "\n",
            "    accuracy                           0.81      1400\n",
            "   macro avg       0.76      0.72      0.74      1400\n",
            "weighted avg       0.80      0.81      0.80      1400\n",
            "\n",
            "Accuracy score of Logistic Regression is:\n",
            "0.7914285714285715\n",
            "[[891 117]\n",
            " [175 217]]\n",
            "              precision    recall  f1-score   support\n",
            "\n",
            "           0       0.84      0.88      0.86      1008\n",
            "           1       0.65      0.55      0.60       392\n",
            "\n",
            "    accuracy                           0.79      1400\n",
            "   macro avg       0.74      0.72      0.73      1400\n",
            "weighted avg       0.78      0.79      0.79      1400\n",
            "\n",
            "Accuracy score of Logistic Regression is:\n",
            "0.7957142857142857\n",
            "[[898 119]\n",
            " [167 216]]\n",
            "              precision    recall  f1-score   support\n",
            "\n",
            "           0       0.84      0.88      0.86      1017\n",
            "           1       0.64      0.56      0.60       383\n",
            "\n",
            "    accuracy                           0.80      1400\n",
            "   macro avg       0.74      0.72      0.73      1400\n",
            "weighted avg       0.79      0.80      0.79      1400\n",
            "\n",
            "Accuracy score of Logistic Regression is:\n",
            "0.8014285714285714\n",
            "[[919 123]\n",
            " [155 203]]\n",
            "              precision    recall  f1-score   support\n",
            "\n",
            "           0       0.86      0.88      0.87      1042\n",
            "           1       0.62      0.57      0.59       358\n",
            "\n",
            "    accuracy                           0.80      1400\n",
            "   macro avg       0.74      0.72      0.73      1400\n",
            "weighted avg       0.80      0.80      0.80      1400\n",
            "\n",
            "Accuracy score of Logistic Regression is:\n",
            "0.805\n",
            "[[919 109]\n",
            " [164 208]]\n",
            "              precision    recall  f1-score   support\n",
            "\n",
            "           0       0.85      0.89      0.87      1028\n",
            "           1       0.66      0.56      0.60       372\n",
            "\n",
            "    accuracy                           0.81      1400\n",
            "   macro avg       0.75      0.73      0.74      1400\n",
            "weighted avg       0.80      0.81      0.80      1400\n",
            "\n",
            "Accuracy score of Logistic Regression is:\n",
            "0.8121428571428572\n",
            "[[929  95]\n",
            " [168 208]]\n",
            "              precision    recall  f1-score   support\n",
            "\n",
            "           0       0.85      0.91      0.88      1024\n",
            "           1       0.69      0.55      0.61       376\n",
            "\n",
            "    accuracy                           0.81      1400\n",
            "   macro avg       0.77      0.73      0.74      1400\n",
            "weighted avg       0.80      0.81      0.81      1400\n",
            "\n",
            "Accuracy score of Logistic Regression is:\n",
            "0.8057142857142857\n",
            "[[914  97]\n",
            " [175 214]]\n",
            "              precision    recall  f1-score   support\n",
            "\n",
            "           0       0.84      0.90      0.87      1011\n",
            "           1       0.69      0.55      0.61       389\n",
            "\n",
            "    accuracy                           0.81      1400\n",
            "   macro avg       0.76      0.73      0.74      1400\n",
            "weighted avg       0.80      0.81      0.80      1400\n",
            "\n",
            "Accuracy score of Logistic Regression is:\n",
            "0.8121428571428572\n",
            "[[950  95]\n",
            " [168 187]]\n",
            "              precision    recall  f1-score   support\n",
            "\n",
            "           0       0.85      0.91      0.88      1045\n",
            "           1       0.66      0.53      0.59       355\n",
            "\n",
            "    accuracy                           0.81      1400\n",
            "   macro avg       0.76      0.72      0.73      1400\n",
            "weighted avg       0.80      0.81      0.80      1400\n",
            "\n",
            "Accuracy score of Logistic Regression is:\n",
            "0.7964285714285714\n",
            "[[909 121]\n",
            " [164 206]]\n",
            "              precision    recall  f1-score   support\n",
            "\n",
            "           0       0.85      0.88      0.86      1030\n",
            "           1       0.63      0.56      0.59       370\n",
            "\n",
            "    accuracy                           0.80      1400\n",
            "   macro avg       0.74      0.72      0.73      1400\n",
            "weighted avg       0.79      0.80      0.79      1400\n",
            "\n",
            "Accuracy score of Logistic Regression is:\n",
            "0.7971428571428572\n",
            "[[909 130]\n",
            " [154 207]]\n",
            "              precision    recall  f1-score   support\n",
            "\n",
            "           0       0.86      0.87      0.86      1039\n",
            "           1       0.61      0.57      0.59       361\n",
            "\n",
            "    accuracy                           0.80      1400\n",
            "   macro avg       0.73      0.72      0.73      1400\n",
            "weighted avg       0.79      0.80      0.79      1400\n",
            "\n",
            "Accuracy score of Logistic Regression is:\n",
            "0.8121428571428572\n",
            "[[922 108]\n",
            " [155 215]]\n",
            "              precision    recall  f1-score   support\n",
            "\n",
            "           0       0.86      0.90      0.88      1030\n",
            "           1       0.67      0.58      0.62       370\n",
            "\n",
            "    accuracy                           0.81      1400\n",
            "   macro avg       0.76      0.74      0.75      1400\n",
            "weighted avg       0.81      0.81      0.81      1400\n",
            "\n",
            "Accuracy score of Logistic Regression is:\n",
            "0.7871428571428571\n",
            "[[898 117]\n",
            " [181 204]]\n",
            "              precision    recall  f1-score   support\n",
            "\n",
            "           0       0.83      0.88      0.86      1015\n",
            "           1       0.64      0.53      0.58       385\n",
            "\n",
            "    accuracy                           0.79      1400\n",
            "   macro avg       0.73      0.71      0.72      1400\n",
            "weighted avg       0.78      0.79      0.78      1400\n",
            "\n",
            "Accuracy score of Logistic Regression is:\n",
            "0.7992857142857143\n",
            "[[896 115]\n",
            " [166 223]]\n",
            "              precision    recall  f1-score   support\n",
            "\n",
            "           0       0.84      0.89      0.86      1011\n",
            "           1       0.66      0.57      0.61       389\n",
            "\n",
            "    accuracy                           0.80      1400\n",
            "   macro avg       0.75      0.73      0.74      1400\n",
            "weighted avg       0.79      0.80      0.79      1400\n",
            "\n",
            "Accuracy score of Logistic Regression is:\n",
            "0.805\n",
            "[[920 101]\n",
            " [172 207]]\n",
            "              precision    recall  f1-score   support\n",
            "\n",
            "           0       0.84      0.90      0.87      1021\n",
            "           1       0.67      0.55      0.60       379\n",
            "\n",
            "    accuracy                           0.81      1400\n",
            "   macro avg       0.76      0.72      0.74      1400\n",
            "weighted avg       0.80      0.81      0.80      1400\n",
            "\n",
            "Accuracy score of Logistic Regression is:\n",
            "0.7978571428571428\n",
            "[[914 113]\n",
            " [170 203]]\n",
            "              precision    recall  f1-score   support\n",
            "\n",
            "           0       0.84      0.89      0.87      1027\n",
            "           1       0.64      0.54      0.59       373\n",
            "\n",
            "    accuracy                           0.80      1400\n",
            "   macro avg       0.74      0.72      0.73      1400\n",
            "weighted avg       0.79      0.80      0.79      1400\n",
            "\n",
            "Accuracy score of Logistic Regression is:\n",
            "0.7957142857142857\n",
            "[[921 113]\n",
            " [173 193]]\n",
            "              precision    recall  f1-score   support\n",
            "\n",
            "           0       0.84      0.89      0.87      1034\n",
            "           1       0.63      0.53      0.57       366\n",
            "\n",
            "    accuracy                           0.80      1400\n",
            "   macro avg       0.74      0.71      0.72      1400\n",
            "weighted avg       0.79      0.80      0.79      1400\n",
            "\n",
            "Accuracy score of Logistic Regression is:\n",
            "0.8014285714285714\n",
            "[[921 108]\n",
            " [170 201]]\n",
            "              precision    recall  f1-score   support\n",
            "\n",
            "           0       0.84      0.90      0.87      1029\n",
            "           1       0.65      0.54      0.59       371\n",
            "\n",
            "    accuracy                           0.80      1400\n",
            "   macro avg       0.75      0.72      0.73      1400\n",
            "weighted avg       0.79      0.80      0.80      1400\n",
            "\n",
            "Accuracy score of Logistic Regression is:\n",
            "0.8064285714285714\n",
            "[[925 118]\n",
            " [153 204]]\n",
            "              precision    recall  f1-score   support\n",
            "\n",
            "           0       0.86      0.89      0.87      1043\n",
            "           1       0.63      0.57      0.60       357\n",
            "\n",
            "    accuracy                           0.81      1400\n",
            "   macro avg       0.75      0.73      0.74      1400\n",
            "weighted avg       0.80      0.81      0.80      1400\n",
            "\n",
            "Accuracy score of Logistic Regression is:\n",
            "0.8357142857142857\n",
            "[[937  85]\n",
            " [145 233]]\n",
            "              precision    recall  f1-score   support\n",
            "\n",
            "           0       0.87      0.92      0.89      1022\n",
            "           1       0.73      0.62      0.67       378\n",
            "\n",
            "    accuracy                           0.84      1400\n",
            "   macro avg       0.80      0.77      0.78      1400\n",
            "weighted avg       0.83      0.84      0.83      1400\n",
            "\n",
            "Accuracy score of Logistic Regression is:\n",
            "0.8064285714285714\n",
            "[[919 118]\n",
            " [153 210]]\n",
            "              precision    recall  f1-score   support\n",
            "\n",
            "           0       0.86      0.89      0.87      1037\n",
            "           1       0.64      0.58      0.61       363\n",
            "\n",
            "    accuracy                           0.81      1400\n",
            "   macro avg       0.75      0.73      0.74      1400\n",
            "weighted avg       0.80      0.81      0.80      1400\n",
            "\n",
            "Accuracy score of Logistic Regression is:\n",
            "0.8035714285714286\n",
            "[[911  92]\n",
            " [183 214]]\n",
            "              precision    recall  f1-score   support\n",
            "\n",
            "           0       0.83      0.91      0.87      1003\n",
            "           1       0.70      0.54      0.61       397\n",
            "\n",
            "    accuracy                           0.80      1400\n",
            "   macro avg       0.77      0.72      0.74      1400\n",
            "weighted avg       0.79      0.80      0.80      1400\n",
            "\n",
            "Accuracy score of Logistic Regression is:\n",
            "0.7992857142857143\n",
            "[[913 100]\n",
            " [181 206]]\n",
            "              precision    recall  f1-score   support\n",
            "\n",
            "           0       0.83      0.90      0.87      1013\n",
            "           1       0.67      0.53      0.59       387\n",
            "\n",
            "    accuracy                           0.80      1400\n",
            "   macro avg       0.75      0.72      0.73      1400\n",
            "weighted avg       0.79      0.80      0.79      1400\n",
            "\n",
            "Accuracy score of Logistic Regression is:\n",
            "0.795\n",
            "[[896 111]\n",
            " [176 217]]\n",
            "              precision    recall  f1-score   support\n",
            "\n",
            "           0       0.84      0.89      0.86      1007\n",
            "           1       0.66      0.55      0.60       393\n",
            "\n",
            "    accuracy                           0.80      1400\n",
            "   macro avg       0.75      0.72      0.73      1400\n",
            "weighted avg       0.79      0.80      0.79      1400\n",
            "\n",
            "Accuracy score of Logistic Regression is:\n",
            "0.785\n",
            "[[889 126]\n",
            " [175 210]]\n",
            "              precision    recall  f1-score   support\n",
            "\n",
            "           0       0.84      0.88      0.86      1015\n",
            "           1       0.62      0.55      0.58       385\n",
            "\n",
            "    accuracy                           0.79      1400\n",
            "   macro avg       0.73      0.71      0.72      1400\n",
            "weighted avg       0.78      0.79      0.78      1400\n",
            "\n",
            "Accuracy score of Logistic Regression is:\n",
            "0.7978571428571428\n",
            "[[887 111]\n",
            " [172 230]]\n",
            "              precision    recall  f1-score   support\n",
            "\n",
            "           0       0.84      0.89      0.86       998\n",
            "           1       0.67      0.57      0.62       402\n",
            "\n",
            "    accuracy                           0.80      1400\n",
            "   macro avg       0.76      0.73      0.74      1400\n",
            "weighted avg       0.79      0.80      0.79      1400\n",
            "\n",
            "Accuracy score of Logistic Regression is:\n",
            "0.8\n",
            "[[911 105]\n",
            " [175 209]]\n",
            "              precision    recall  f1-score   support\n",
            "\n",
            "           0       0.84      0.90      0.87      1016\n",
            "           1       0.67      0.54      0.60       384\n",
            "\n",
            "    accuracy                           0.80      1400\n",
            "   macro avg       0.75      0.72      0.73      1400\n",
            "weighted avg       0.79      0.80      0.79      1400\n",
            "\n",
            "Accuracy score of Logistic Regression is:\n",
            "0.8242857142857143\n",
            "[[944 100]\n",
            " [146 210]]\n",
            "              precision    recall  f1-score   support\n",
            "\n",
            "           0       0.87      0.90      0.88      1044\n",
            "           1       0.68      0.59      0.63       356\n",
            "\n",
            "    accuracy                           0.82      1400\n",
            "   macro avg       0.77      0.75      0.76      1400\n",
            "weighted avg       0.82      0.82      0.82      1400\n",
            "\n",
            "Accuracy score of Logistic Regression is:\n",
            "0.795\n",
            "[[896 120]\n",
            " [167 217]]\n",
            "              precision    recall  f1-score   support\n",
            "\n",
            "           0       0.84      0.88      0.86      1016\n",
            "           1       0.64      0.57      0.60       384\n",
            "\n",
            "    accuracy                           0.80      1400\n",
            "   macro avg       0.74      0.72      0.73      1400\n",
            "weighted avg       0.79      0.80      0.79      1400\n",
            "\n",
            "Accuracy score of Logistic Regression is:\n",
            "0.8092857142857143\n",
            "[[938 105]\n",
            " [162 195]]\n",
            "              precision    recall  f1-score   support\n",
            "\n",
            "           0       0.85      0.90      0.88      1043\n",
            "           1       0.65      0.55      0.59       357\n",
            "\n",
            "    accuracy                           0.81      1400\n",
            "   macro avg       0.75      0.72      0.73      1400\n",
            "weighted avg       0.80      0.81      0.80      1400\n",
            "\n",
            "Accuracy score of Logistic Regression is:\n",
            "0.7957142857142857\n",
            "[[909  87]\n",
            " [199 205]]\n",
            "              precision    recall  f1-score   support\n",
            "\n",
            "           0       0.82      0.91      0.86       996\n",
            "           1       0.70      0.51      0.59       404\n",
            "\n",
            "    accuracy                           0.80      1400\n",
            "   macro avg       0.76      0.71      0.73      1400\n",
            "weighted avg       0.79      0.80      0.78      1400\n",
            "\n",
            "Accuracy score of Logistic Regression is:\n",
            "0.7942857142857143\n",
            "[[917 129]\n",
            " [159 195]]\n",
            "              precision    recall  f1-score   support\n",
            "\n",
            "           0       0.85      0.88      0.86      1046\n",
            "           1       0.60      0.55      0.58       354\n",
            "\n",
            "    accuracy                           0.79      1400\n",
            "   macro avg       0.73      0.71      0.72      1400\n",
            "weighted avg       0.79      0.79      0.79      1400\n",
            "\n",
            "Accuracy score of Logistic Regression is:\n",
            "0.8107142857142857\n",
            "[[914 110]\n",
            " [155 221]]\n",
            "              precision    recall  f1-score   support\n",
            "\n",
            "           0       0.86      0.89      0.87      1024\n",
            "           1       0.67      0.59      0.63       376\n",
            "\n",
            "    accuracy                           0.81      1400\n",
            "   macro avg       0.76      0.74      0.75      1400\n",
            "weighted avg       0.80      0.81      0.81      1400\n",
            "\n",
            "Accuracy score of Logistic Regression is:\n",
            "0.7971428571428572\n",
            "[[906 141]\n",
            " [143 210]]\n",
            "              precision    recall  f1-score   support\n",
            "\n",
            "           0       0.86      0.87      0.86      1047\n",
            "           1       0.60      0.59      0.60       353\n",
            "\n",
            "    accuracy                           0.80      1400\n",
            "   macro avg       0.73      0.73      0.73      1400\n",
            "weighted avg       0.80      0.80      0.80      1400\n",
            "\n",
            "Accuracy score of Logistic Regression is:\n",
            "0.7935714285714286\n",
            "[[918 124]\n",
            " [165 193]]\n",
            "              precision    recall  f1-score   support\n",
            "\n",
            "           0       0.85      0.88      0.86      1042\n",
            "           1       0.61      0.54      0.57       358\n",
            "\n",
            "    accuracy                           0.79      1400\n",
            "   macro avg       0.73      0.71      0.72      1400\n",
            "weighted avg       0.79      0.79      0.79      1400\n",
            "\n",
            "Accuracy score of Logistic Regression is:\n",
            "0.8092857142857143\n",
            "[[930 106]\n",
            " [161 203]]\n",
            "              precision    recall  f1-score   support\n",
            "\n",
            "           0       0.85      0.90      0.87      1036\n",
            "           1       0.66      0.56      0.60       364\n",
            "\n",
            "    accuracy                           0.81      1400\n",
            "   macro avg       0.75      0.73      0.74      1400\n",
            "weighted avg       0.80      0.81      0.80      1400\n",
            "\n",
            "Accuracy score of Logistic Regression is:\n",
            "0.815\n",
            "[[926 110]\n",
            " [149 215]]\n",
            "              precision    recall  f1-score   support\n",
            "\n",
            "           0       0.86      0.89      0.88      1036\n",
            "           1       0.66      0.59      0.62       364\n",
            "\n",
            "    accuracy                           0.81      1400\n",
            "   macro avg       0.76      0.74      0.75      1400\n",
            "weighted avg       0.81      0.81      0.81      1400\n",
            "\n",
            "Accuracy score of Logistic Regression is:\n",
            "0.8085714285714286\n",
            "[[932 110]\n",
            " [158 200]]\n",
            "              precision    recall  f1-score   support\n",
            "\n",
            "           0       0.86      0.89      0.87      1042\n",
            "           1       0.65      0.56      0.60       358\n",
            "\n",
            "    accuracy                           0.81      1400\n",
            "   macro avg       0.75      0.73      0.74      1400\n",
            "weighted avg       0.80      0.81      0.80      1400\n",
            "\n",
            "Accuracy score of Logistic Regression is:\n",
            "0.825\n",
            "[[941  93]\n",
            " [152 214]]\n",
            "              precision    recall  f1-score   support\n",
            "\n",
            "           0       0.86      0.91      0.88      1034\n",
            "           1       0.70      0.58      0.64       366\n",
            "\n",
            "    accuracy                           0.82      1400\n",
            "   macro avg       0.78      0.75      0.76      1400\n",
            "weighted avg       0.82      0.82      0.82      1400\n",
            "\n",
            "Accuracy score of Logistic Regression is:\n",
            "0.7957142857142857\n",
            "[[923 104]\n",
            " [182 191]]\n",
            "              precision    recall  f1-score   support\n",
            "\n",
            "           0       0.84      0.90      0.87      1027\n",
            "           1       0.65      0.51      0.57       373\n",
            "\n",
            "    accuracy                           0.80      1400\n",
            "   macro avg       0.74      0.71      0.72      1400\n",
            "weighted avg       0.79      0.80      0.79      1400\n",
            "\n",
            "Accuracy score of Logistic Regression is:\n",
            "0.7921428571428571\n",
            "[[916 104]\n",
            " [187 193]]\n",
            "              precision    recall  f1-score   support\n",
            "\n",
            "           0       0.83      0.90      0.86      1020\n",
            "           1       0.65      0.51      0.57       380\n",
            "\n",
            "    accuracy                           0.79      1400\n",
            "   macro avg       0.74      0.70      0.72      1400\n",
            "weighted avg       0.78      0.79      0.78      1400\n",
            "\n",
            "Accuracy score of Logistic Regression is:\n",
            "0.8107142857142857\n",
            "[[936 116]\n",
            " [149 199]]\n",
            "              precision    recall  f1-score   support\n",
            "\n",
            "           0       0.86      0.89      0.88      1052\n",
            "           1       0.63      0.57      0.60       348\n",
            "\n",
            "    accuracy                           0.81      1400\n",
            "   macro avg       0.75      0.73      0.74      1400\n",
            "weighted avg       0.81      0.81      0.81      1400\n",
            "\n",
            "Accuracy score of Logistic Regression is:\n",
            "0.7957142857142857\n",
            "[[897 117]\n",
            " [169 217]]\n",
            "              precision    recall  f1-score   support\n",
            "\n",
            "           0       0.84      0.88      0.86      1014\n",
            "           1       0.65      0.56      0.60       386\n",
            "\n",
            "    accuracy                           0.80      1400\n",
            "   macro avg       0.75      0.72      0.73      1400\n",
            "weighted avg       0.79      0.80      0.79      1400\n",
            "\n",
            "Accuracy score of Logistic Regression is:\n",
            "0.8078571428571428\n",
            "[[952 100]\n",
            " [169 179]]\n",
            "              precision    recall  f1-score   support\n",
            "\n",
            "           0       0.85      0.90      0.88      1052\n",
            "           1       0.64      0.51      0.57       348\n",
            "\n",
            "    accuracy                           0.81      1400\n",
            "   macro avg       0.75      0.71      0.72      1400\n",
            "weighted avg       0.80      0.81      0.80      1400\n",
            "\n",
            "Accuracy score of Logistic Regression is:\n",
            "0.7785714285714286\n",
            "[[895 139]\n",
            " [171 195]]\n",
            "              precision    recall  f1-score   support\n",
            "\n",
            "           0       0.84      0.87      0.85      1034\n",
            "           1       0.58      0.53      0.56       366\n",
            "\n",
            "    accuracy                           0.78      1400\n",
            "   macro avg       0.71      0.70      0.70      1400\n",
            "weighted avg       0.77      0.78      0.78      1400\n",
            "\n",
            "Accuracy score of Logistic Regression is:\n",
            "0.7992857142857143\n",
            "[[897 116]\n",
            " [165 222]]\n",
            "              precision    recall  f1-score   support\n",
            "\n",
            "           0       0.84      0.89      0.86      1013\n",
            "           1       0.66      0.57      0.61       387\n",
            "\n",
            "    accuracy                           0.80      1400\n",
            "   macro avg       0.75      0.73      0.74      1400\n",
            "weighted avg       0.79      0.80      0.79      1400\n",
            "\n",
            "Accuracy score of Logistic Regression is:\n",
            "0.8078571428571428\n",
            "[[932 101]\n",
            " [168 199]]\n",
            "              precision    recall  f1-score   support\n",
            "\n",
            "           0       0.85      0.90      0.87      1033\n",
            "           1       0.66      0.54      0.60       367\n",
            "\n",
            "    accuracy                           0.81      1400\n",
            "   macro avg       0.76      0.72      0.74      1400\n",
            "weighted avg       0.80      0.81      0.80      1400\n",
            "\n",
            "Accuracy score of Logistic Regression is:\n",
            "0.7992857142857143\n",
            "[[897 107]\n",
            " [174 222]]\n",
            "              precision    recall  f1-score   support\n",
            "\n",
            "           0       0.84      0.89      0.86      1004\n",
            "           1       0.67      0.56      0.61       396\n",
            "\n",
            "    accuracy                           0.80      1400\n",
            "   macro avg       0.76      0.73      0.74      1400\n",
            "weighted avg       0.79      0.80      0.79      1400\n",
            "\n",
            "Accuracy score of Logistic Regression is:\n",
            "0.8\n",
            "[[910 117]\n",
            " [163 210]]\n",
            "              precision    recall  f1-score   support\n",
            "\n",
            "           0       0.85      0.89      0.87      1027\n",
            "           1       0.64      0.56      0.60       373\n",
            "\n",
            "    accuracy                           0.80      1400\n",
            "   macro avg       0.75      0.72      0.73      1400\n",
            "weighted avg       0.79      0.80      0.80      1400\n",
            "\n",
            "Accuracy score of Logistic Regression is:\n",
            "0.8\n",
            "[[901 100]\n",
            " [180 219]]\n",
            "              precision    recall  f1-score   support\n",
            "\n",
            "           0       0.83      0.90      0.87      1001\n",
            "           1       0.69      0.55      0.61       399\n",
            "\n",
            "    accuracy                           0.80      1400\n",
            "   macro avg       0.76      0.72      0.74      1400\n",
            "weighted avg       0.79      0.80      0.79      1400\n",
            "\n",
            "Accuracy score of Logistic Regression is:\n",
            "0.7992857142857143\n",
            "[[911 116]\n",
            " [165 208]]\n",
            "              precision    recall  f1-score   support\n",
            "\n",
            "           0       0.85      0.89      0.87      1027\n",
            "           1       0.64      0.56      0.60       373\n",
            "\n",
            "    accuracy                           0.80      1400\n",
            "   macro avg       0.74      0.72      0.73      1400\n",
            "weighted avg       0.79      0.80      0.79      1400\n",
            "\n",
            "Accuracy score of Logistic Regression is:\n",
            "0.7928571428571428\n",
            "[[899 122]\n",
            " [168 211]]\n",
            "              precision    recall  f1-score   support\n",
            "\n",
            "           0       0.84      0.88      0.86      1021\n",
            "           1       0.63      0.56      0.59       379\n",
            "\n",
            "    accuracy                           0.79      1400\n",
            "   macro avg       0.74      0.72      0.73      1400\n",
            "weighted avg       0.79      0.79      0.79      1400\n",
            "\n",
            "Accuracy score of Logistic Regression is:\n",
            "0.8057142857142857\n",
            "[[906 109]\n",
            " [163 222]]\n",
            "              precision    recall  f1-score   support\n",
            "\n",
            "           0       0.85      0.89      0.87      1015\n",
            "           1       0.67      0.58      0.62       385\n",
            "\n",
            "    accuracy                           0.81      1400\n",
            "   macro avg       0.76      0.73      0.74      1400\n",
            "weighted avg       0.80      0.81      0.80      1400\n",
            "\n",
            "Accuracy score of Logistic Regression is:\n",
            "0.7978571428571428\n",
            "[[911 131]\n",
            " [152 206]]\n",
            "              precision    recall  f1-score   support\n",
            "\n",
            "           0       0.86      0.87      0.87      1042\n",
            "           1       0.61      0.58      0.59       358\n",
            "\n",
            "    accuracy                           0.80      1400\n",
            "   macro avg       0.73      0.72      0.73      1400\n",
            "weighted avg       0.79      0.80      0.80      1400\n",
            "\n",
            "Accuracy score of Logistic Regression is:\n",
            "0.81\n",
            "[[949 101]\n",
            " [165 185]]\n",
            "              precision    recall  f1-score   support\n",
            "\n",
            "           0       0.85      0.90      0.88      1050\n",
            "           1       0.65      0.53      0.58       350\n",
            "\n",
            "    accuracy                           0.81      1400\n",
            "   macro avg       0.75      0.72      0.73      1400\n",
            "weighted avg       0.80      0.81      0.80      1400\n",
            "\n",
            "Accuracy score of Logistic Regression is:\n",
            "0.7921428571428571\n",
            "[[914  99]\n",
            " [192 195]]\n",
            "              precision    recall  f1-score   support\n",
            "\n",
            "           0       0.83      0.90      0.86      1013\n",
            "           1       0.66      0.50      0.57       387\n",
            "\n",
            "    accuracy                           0.79      1400\n",
            "   macro avg       0.74      0.70      0.72      1400\n",
            "weighted avg       0.78      0.79      0.78      1400\n",
            "\n",
            "Accuracy score of Logistic Regression is:\n",
            "0.8064285714285714\n",
            "[[912 104]\n",
            " [167 217]]\n",
            "              precision    recall  f1-score   support\n",
            "\n",
            "           0       0.85      0.90      0.87      1016\n",
            "           1       0.68      0.57      0.62       384\n",
            "\n",
            "    accuracy                           0.81      1400\n",
            "   macro avg       0.76      0.73      0.74      1400\n",
            "weighted avg       0.80      0.81      0.80      1400\n",
            "\n",
            "Accuracy score of Logistic Regression is:\n",
            "0.7992857142857143\n",
            "[[894 107]\n",
            " [174 225]]\n",
            "              precision    recall  f1-score   support\n",
            "\n",
            "           0       0.84      0.89      0.86      1001\n",
            "           1       0.68      0.56      0.62       399\n",
            "\n",
            "    accuracy                           0.80      1400\n",
            "   macro avg       0.76      0.73      0.74      1400\n",
            "weighted avg       0.79      0.80      0.79      1400\n",
            "\n",
            "Accuracy score of Logistic Regression is:\n",
            "0.8014285714285714\n",
            "[[919 105]\n",
            " [173 203]]\n",
            "              precision    recall  f1-score   support\n",
            "\n",
            "           0       0.84      0.90      0.87      1024\n",
            "           1       0.66      0.54      0.59       376\n",
            "\n",
            "    accuracy                           0.80      1400\n",
            "   macro avg       0.75      0.72      0.73      1400\n",
            "weighted avg       0.79      0.80      0.79      1400\n",
            "\n",
            "Accuracy score of Logistic Regression is:\n",
            "0.7857142857142857\n",
            "[[903 117]\n",
            " [183 197]]\n",
            "              precision    recall  f1-score   support\n",
            "\n",
            "           0       0.83      0.89      0.86      1020\n",
            "           1       0.63      0.52      0.57       380\n",
            "\n",
            "    accuracy                           0.79      1400\n",
            "   macro avg       0.73      0.70      0.71      1400\n",
            "weighted avg       0.78      0.79      0.78      1400\n",
            "\n",
            "Accuracy score of Logistic Regression is:\n",
            "0.7978571428571428\n",
            "[[907 114]\n",
            " [169 210]]\n",
            "              precision    recall  f1-score   support\n",
            "\n",
            "           0       0.84      0.89      0.87      1021\n",
            "           1       0.65      0.55      0.60       379\n",
            "\n",
            "    accuracy                           0.80      1400\n",
            "   macro avg       0.75      0.72      0.73      1400\n",
            "weighted avg       0.79      0.80      0.79      1400\n",
            "\n",
            "Accuracy score of Logistic Regression is:\n",
            "0.7871428571428571\n",
            "[[883 111]\n",
            " [187 219]]\n",
            "              precision    recall  f1-score   support\n",
            "\n",
            "           0       0.83      0.89      0.86       994\n",
            "           1       0.66      0.54      0.60       406\n",
            "\n",
            "    accuracy                           0.79      1400\n",
            "   macro avg       0.74      0.71      0.73      1400\n",
            "weighted avg       0.78      0.79      0.78      1400\n",
            "\n",
            "Accuracy score of Logistic Regression is:\n",
            "0.82\n",
            "[[950 102]\n",
            " [150 198]]\n",
            "              precision    recall  f1-score   support\n",
            "\n",
            "           0       0.86      0.90      0.88      1052\n",
            "           1       0.66      0.57      0.61       348\n",
            "\n",
            "    accuracy                           0.82      1400\n",
            "   macro avg       0.76      0.74      0.75      1400\n",
            "weighted avg       0.81      0.82      0.82      1400\n",
            "\n",
            "Accuracy score of Logistic Regression is:\n",
            "0.7842857142857143\n",
            "[[878 134]\n",
            " [168 220]]\n",
            "              precision    recall  f1-score   support\n",
            "\n",
            "           0       0.84      0.87      0.85      1012\n",
            "           1       0.62      0.57      0.59       388\n",
            "\n",
            "    accuracy                           0.78      1400\n",
            "   macro avg       0.73      0.72      0.72      1400\n",
            "weighted avg       0.78      0.78      0.78      1400\n",
            "\n",
            "Accuracy score of Logistic Regression is:\n",
            "0.7935714285714286\n",
            "[[900 124]\n",
            " [165 211]]\n",
            "              precision    recall  f1-score   support\n",
            "\n",
            "           0       0.85      0.88      0.86      1024\n",
            "           1       0.63      0.56      0.59       376\n",
            "\n",
            "    accuracy                           0.79      1400\n",
            "   macro avg       0.74      0.72      0.73      1400\n",
            "weighted avg       0.79      0.79      0.79      1400\n",
            "\n",
            "Accuracy score of Logistic Regression is:\n",
            "0.815\n",
            "[[919 117]\n",
            " [142 222]]\n",
            "              precision    recall  f1-score   support\n",
            "\n",
            "           0       0.87      0.89      0.88      1036\n",
            "           1       0.65      0.61      0.63       364\n",
            "\n",
            "    accuracy                           0.81      1400\n",
            "   macro avg       0.76      0.75      0.75      1400\n",
            "weighted avg       0.81      0.81      0.81      1400\n",
            "\n",
            "Accuracy score of Logistic Regression is:\n",
            "0.7985714285714286\n",
            "[[926  95]\n",
            " [187 192]]\n",
            "              precision    recall  f1-score   support\n",
            "\n",
            "           0       0.83      0.91      0.87      1021\n",
            "           1       0.67      0.51      0.58       379\n",
            "\n",
            "    accuracy                           0.80      1400\n",
            "   macro avg       0.75      0.71      0.72      1400\n",
            "weighted avg       0.79      0.80      0.79      1400\n",
            "\n",
            "Accuracy score of Logistic Regression is:\n",
            "0.8\n",
            "[[916 126]\n",
            " [154 204]]\n",
            "              precision    recall  f1-score   support\n",
            "\n",
            "           0       0.86      0.88      0.87      1042\n",
            "           1       0.62      0.57      0.59       358\n",
            "\n",
            "    accuracy                           0.80      1400\n",
            "   macro avg       0.74      0.72      0.73      1400\n",
            "weighted avg       0.80      0.80      0.80      1400\n",
            "\n",
            "Accuracy score of Logistic Regression is:\n",
            "0.8007142857142857\n",
            "[[901 117]\n",
            " [162 220]]\n",
            "              precision    recall  f1-score   support\n",
            "\n",
            "           0       0.85      0.89      0.87      1018\n",
            "           1       0.65      0.58      0.61       382\n",
            "\n",
            "    accuracy                           0.80      1400\n",
            "   macro avg       0.75      0.73      0.74      1400\n",
            "weighted avg       0.79      0.80      0.80      1400\n",
            "\n",
            "Accuracy score of Logistic Regression is:\n",
            "0.7971428571428572\n",
            "[[930 114]\n",
            " [170 186]]\n",
            "              precision    recall  f1-score   support\n",
            "\n",
            "           0       0.85      0.89      0.87      1044\n",
            "           1       0.62      0.52      0.57       356\n",
            "\n",
            "    accuracy                           0.80      1400\n",
            "   macro avg       0.73      0.71      0.72      1400\n",
            "weighted avg       0.79      0.80      0.79      1400\n",
            "\n",
            "Accuracy score of Logistic Regression is:\n",
            "0.7971428571428572\n",
            "[[925 124]\n",
            " [160 191]]\n",
            "              precision    recall  f1-score   support\n",
            "\n",
            "           0       0.85      0.88      0.87      1049\n",
            "           1       0.61      0.54      0.57       351\n",
            "\n",
            "    accuracy                           0.80      1400\n",
            "   macro avg       0.73      0.71      0.72      1400\n",
            "weighted avg       0.79      0.80      0.79      1400\n",
            "\n",
            "Accuracy score of Logistic Regression is:\n",
            "0.81\n",
            "[[931 115]\n",
            " [151 203]]\n",
            "              precision    recall  f1-score   support\n",
            "\n",
            "           0       0.86      0.89      0.88      1046\n",
            "           1       0.64      0.57      0.60       354\n",
            "\n",
            "    accuracy                           0.81      1400\n",
            "   macro avg       0.75      0.73      0.74      1400\n",
            "weighted avg       0.80      0.81      0.81      1400\n",
            "\n",
            "Accuracy score of Logistic Regression is:\n",
            "0.8021428571428572\n",
            "[[919 128]\n",
            " [149 204]]\n",
            "              precision    recall  f1-score   support\n",
            "\n",
            "           0       0.86      0.88      0.87      1047\n",
            "           1       0.61      0.58      0.60       353\n",
            "\n",
            "    accuracy                           0.80      1400\n",
            "   macro avg       0.74      0.73      0.73      1400\n",
            "weighted avg       0.80      0.80      0.80      1400\n",
            "\n",
            "Accuracy score of Logistic Regression is:\n",
            "0.81\n",
            "[[904 107]\n",
            " [159 230]]\n",
            "              precision    recall  f1-score   support\n",
            "\n",
            "           0       0.85      0.89      0.87      1011\n",
            "           1       0.68      0.59      0.63       389\n",
            "\n",
            "    accuracy                           0.81      1400\n",
            "   macro avg       0.77      0.74      0.75      1400\n",
            "weighted avg       0.80      0.81      0.81      1400\n",
            "\n",
            "Accuracy score of Logistic Regression is:\n",
            "0.7964285714285714\n",
            "[[927  84]\n",
            " [201 188]]\n",
            "              precision    recall  f1-score   support\n",
            "\n",
            "           0       0.82      0.92      0.87      1011\n",
            "           1       0.69      0.48      0.57       389\n",
            "\n",
            "    accuracy                           0.80      1400\n",
            "   macro avg       0.76      0.70      0.72      1400\n",
            "weighted avg       0.79      0.80      0.78      1400\n",
            "\n",
            "Accuracy score of Logistic Regression is:\n",
            "0.7935714285714286\n",
            "[[919 123]\n",
            " [166 192]]\n",
            "              precision    recall  f1-score   support\n",
            "\n",
            "           0       0.85      0.88      0.86      1042\n",
            "           1       0.61      0.54      0.57       358\n",
            "\n",
            "    accuracy                           0.79      1400\n",
            "   macro avg       0.73      0.71      0.72      1400\n",
            "weighted avg       0.79      0.79      0.79      1400\n",
            "\n",
            "Accuracy score of Logistic Regression is:\n",
            "0.7828571428571428\n",
            "[[915 120]\n",
            " [184 181]]\n",
            "              precision    recall  f1-score   support\n",
            "\n",
            "           0       0.83      0.88      0.86      1035\n",
            "           1       0.60      0.50      0.54       365\n",
            "\n",
            "    accuracy                           0.78      1400\n",
            "   macro avg       0.72      0.69      0.70      1400\n",
            "weighted avg       0.77      0.78      0.78      1400\n",
            "\n",
            "Accuracy score of Logistic Regression is:\n",
            "0.8042857142857143\n",
            "[[929 105]\n",
            " [169 197]]\n",
            "              precision    recall  f1-score   support\n",
            "\n",
            "           0       0.85      0.90      0.87      1034\n",
            "           1       0.65      0.54      0.59       366\n",
            "\n",
            "    accuracy                           0.80      1400\n",
            "   macro avg       0.75      0.72      0.73      1400\n",
            "weighted avg       0.80      0.80      0.80      1400\n",
            "\n",
            "Accuracy score of Logistic Regression is:\n",
            "0.8078571428571428\n",
            "[[935 107]\n",
            " [162 196]]\n",
            "              precision    recall  f1-score   support\n",
            "\n",
            "           0       0.85      0.90      0.87      1042\n",
            "           1       0.65      0.55      0.59       358\n",
            "\n",
            "    accuracy                           0.81      1400\n",
            "   macro avg       0.75      0.72      0.73      1400\n",
            "weighted avg       0.80      0.81      0.80      1400\n",
            "\n",
            "Accuracy score of Logistic Regression is:\n",
            "0.8085714285714286\n",
            "[[906 113]\n",
            " [155 226]]\n",
            "              precision    recall  f1-score   support\n",
            "\n",
            "           0       0.85      0.89      0.87      1019\n",
            "           1       0.67      0.59      0.63       381\n",
            "\n",
            "    accuracy                           0.81      1400\n",
            "   macro avg       0.76      0.74      0.75      1400\n",
            "weighted avg       0.80      0.81      0.80      1400\n",
            "\n",
            "Accuracy score of Logistic Regression is:\n",
            "0.8092857142857143\n",
            "[[906 107]\n",
            " [160 227]]\n",
            "              precision    recall  f1-score   support\n",
            "\n",
            "           0       0.85      0.89      0.87      1013\n",
            "           1       0.68      0.59      0.63       387\n",
            "\n",
            "    accuracy                           0.81      1400\n",
            "   macro avg       0.76      0.74      0.75      1400\n",
            "weighted avg       0.80      0.81      0.80      1400\n",
            "\n",
            "Accuracy score of Logistic Regression is:\n",
            "0.8064285714285714\n",
            "[[938 113]\n",
            " [158 191]]\n",
            "              precision    recall  f1-score   support\n",
            "\n",
            "           0       0.86      0.89      0.87      1051\n",
            "           1       0.63      0.55      0.58       349\n",
            "\n",
            "    accuracy                           0.81      1400\n",
            "   macro avg       0.74      0.72      0.73      1400\n",
            "weighted avg       0.80      0.81      0.80      1400\n",
            "\n",
            "Accuracy score of Logistic Regression is:\n",
            "0.7978571428571428\n",
            "[[926 113]\n",
            " [170 191]]\n",
            "              precision    recall  f1-score   support\n",
            "\n",
            "           0       0.84      0.89      0.87      1039\n",
            "           1       0.63      0.53      0.57       361\n",
            "\n",
            "    accuracy                           0.80      1400\n",
            "   macro avg       0.74      0.71      0.72      1400\n",
            "weighted avg       0.79      0.80      0.79      1400\n",
            "\n",
            "Accuracy score of Logistic Regression is:\n",
            "0.8085714285714286\n",
            "[[924 101]\n",
            " [167 208]]\n",
            "              precision    recall  f1-score   support\n",
            "\n",
            "           0       0.85      0.90      0.87      1025\n",
            "           1       0.67      0.55      0.61       375\n",
            "\n",
            "    accuracy                           0.81      1400\n",
            "   macro avg       0.76      0.73      0.74      1400\n",
            "weighted avg       0.80      0.81      0.80      1400\n",
            "\n",
            "Accuracy score of Logistic Regression is:\n",
            "0.805\n",
            "[[899 105]\n",
            " [168 228]]\n",
            "              precision    recall  f1-score   support\n",
            "\n",
            "           0       0.84      0.90      0.87      1004\n",
            "           1       0.68      0.58      0.63       396\n",
            "\n",
            "    accuracy                           0.81      1400\n",
            "   macro avg       0.76      0.74      0.75      1400\n",
            "weighted avg       0.80      0.81      0.80      1400\n",
            "\n",
            "Accuracy score of Logistic Regression is:\n",
            "0.8157142857142857\n",
            "[[928  92]\n",
            " [166 214]]\n",
            "              precision    recall  f1-score   support\n",
            "\n",
            "           0       0.85      0.91      0.88      1020\n",
            "           1       0.70      0.56      0.62       380\n",
            "\n",
            "    accuracy                           0.82      1400\n",
            "   macro avg       0.77      0.74      0.75      1400\n",
            "weighted avg       0.81      0.82      0.81      1400\n",
            "\n",
            "Accuracy score of Logistic Regression is:\n",
            "0.8071428571428572\n",
            "[[927 116]\n",
            " [154 203]]\n",
            "              precision    recall  f1-score   support\n",
            "\n",
            "           0       0.86      0.89      0.87      1043\n",
            "           1       0.64      0.57      0.60       357\n",
            "\n",
            "    accuracy                           0.81      1400\n",
            "   macro avg       0.75      0.73      0.74      1400\n",
            "weighted avg       0.80      0.81      0.80      1400\n",
            "\n",
            "Accuracy score of Logistic Regression is:\n",
            "0.7957142857142857\n",
            "[[888 108]\n",
            " [178 226]]\n",
            "              precision    recall  f1-score   support\n",
            "\n",
            "           0       0.83      0.89      0.86       996\n",
            "           1       0.68      0.56      0.61       404\n",
            "\n",
            "    accuracy                           0.80      1400\n",
            "   macro avg       0.75      0.73      0.74      1400\n",
            "weighted avg       0.79      0.80      0.79      1400\n",
            "\n",
            "Accuracy score of Logistic Regression is:\n",
            "0.7957142857142857\n",
            "[[891 121]\n",
            " [165 223]]\n",
            "              precision    recall  f1-score   support\n",
            "\n",
            "           0       0.84      0.88      0.86      1012\n",
            "           1       0.65      0.57      0.61       388\n",
            "\n",
            "    accuracy                           0.80      1400\n",
            "   macro avg       0.75      0.73      0.74      1400\n",
            "weighted avg       0.79      0.80      0.79      1400\n",
            "\n",
            "Accuracy score of Logistic Regression is:\n",
            "0.7992857142857143\n",
            "[[923 111]\n",
            " [170 196]]\n",
            "              precision    recall  f1-score   support\n",
            "\n",
            "           0       0.84      0.89      0.87      1034\n",
            "           1       0.64      0.54      0.58       366\n",
            "\n",
            "    accuracy                           0.80      1400\n",
            "   macro avg       0.74      0.71      0.73      1400\n",
            "weighted avg       0.79      0.80      0.79      1400\n",
            "\n",
            "Accuracy score of Logistic Regression is:\n",
            "0.8014285714285714\n",
            "[[909 115]\n",
            " [163 213]]\n",
            "              precision    recall  f1-score   support\n",
            "\n",
            "           0       0.85      0.89      0.87      1024\n",
            "           1       0.65      0.57      0.61       376\n",
            "\n",
            "    accuracy                           0.80      1400\n",
            "   macro avg       0.75      0.73      0.74      1400\n",
            "weighted avg       0.79      0.80      0.80      1400\n",
            "\n",
            "Accuracy score of Logistic Regression is:\n",
            "0.7928571428571428\n",
            "[[916 129]\n",
            " [161 194]]\n",
            "              precision    recall  f1-score   support\n",
            "\n",
            "           0       0.85      0.88      0.86      1045\n",
            "           1       0.60      0.55      0.57       355\n",
            "\n",
            "    accuracy                           0.79      1400\n",
            "   macro avg       0.73      0.71      0.72      1400\n",
            "weighted avg       0.79      0.79      0.79      1400\n",
            "\n",
            "Accuracy score of Logistic Regression is:\n",
            "0.8021428571428572\n",
            "[[918 107]\n",
            " [170 205]]\n",
            "              precision    recall  f1-score   support\n",
            "\n",
            "           0       0.84      0.90      0.87      1025\n",
            "           1       0.66      0.55      0.60       375\n",
            "\n",
            "    accuracy                           0.80      1400\n",
            "   macro avg       0.75      0.72      0.73      1400\n",
            "weighted avg       0.79      0.80      0.80      1400\n",
            "\n",
            "Accuracy score of Logistic Regression is:\n",
            "0.785\n",
            "[[890 117]\n",
            " [184 209]]\n",
            "              precision    recall  f1-score   support\n",
            "\n",
            "           0       0.83      0.88      0.86      1007\n",
            "           1       0.64      0.53      0.58       393\n",
            "\n",
            "    accuracy                           0.79      1400\n",
            "   macro avg       0.73      0.71      0.72      1400\n",
            "weighted avg       0.78      0.79      0.78      1400\n",
            "\n",
            "Accuracy score of Logistic Regression is:\n",
            "0.8085714285714286\n",
            "[[921  97]\n",
            " [171 211]]\n",
            "              precision    recall  f1-score   support\n",
            "\n",
            "           0       0.84      0.90      0.87      1018\n",
            "           1       0.69      0.55      0.61       382\n",
            "\n",
            "    accuracy                           0.81      1400\n",
            "   macro avg       0.76      0.73      0.74      1400\n",
            "weighted avg       0.80      0.81      0.80      1400\n",
            "\n",
            "Accuracy score of Logistic Regression is:\n",
            "0.8207142857142857\n",
            "[[936  99]\n",
            " [152 213]]\n",
            "              precision    recall  f1-score   support\n",
            "\n",
            "           0       0.86      0.90      0.88      1035\n",
            "           1       0.68      0.58      0.63       365\n",
            "\n",
            "    accuracy                           0.82      1400\n",
            "   macro avg       0.77      0.74      0.76      1400\n",
            "weighted avg       0.81      0.82      0.82      1400\n",
            "\n",
            "Accuracy score of Logistic Regression is:\n",
            "0.8092857142857143\n",
            "[[917 103]\n",
            " [164 216]]\n",
            "              precision    recall  f1-score   support\n",
            "\n",
            "           0       0.85      0.90      0.87      1020\n",
            "           1       0.68      0.57      0.62       380\n",
            "\n",
            "    accuracy                           0.81      1400\n",
            "   macro avg       0.76      0.73      0.75      1400\n",
            "weighted avg       0.80      0.81      0.80      1400\n",
            "\n",
            "Accuracy score of Logistic Regression is:\n",
            "0.8107142857142857\n",
            "[[937 114]\n",
            " [151 198]]\n",
            "              precision    recall  f1-score   support\n",
            "\n",
            "           0       0.86      0.89      0.88      1051\n",
            "           1       0.63      0.57      0.60       349\n",
            "\n",
            "    accuracy                           0.81      1400\n",
            "   macro avg       0.75      0.73      0.74      1400\n",
            "weighted avg       0.80      0.81      0.81      1400\n",
            "\n",
            "Accuracy score of Logistic Regression is:\n",
            "0.7978571428571428\n",
            "[[908 122]\n",
            " [161 209]]\n",
            "              precision    recall  f1-score   support\n",
            "\n",
            "           0       0.85      0.88      0.87      1030\n",
            "           1       0.63      0.56      0.60       370\n",
            "\n",
            "    accuracy                           0.80      1400\n",
            "   macro avg       0.74      0.72      0.73      1400\n",
            "weighted avg       0.79      0.80      0.79      1400\n",
            "\n",
            "Accuracy score of Logistic Regression is:\n",
            "0.8078571428571428\n",
            "[[915 107]\n",
            " [162 216]]\n",
            "              precision    recall  f1-score   support\n",
            "\n",
            "           0       0.85      0.90      0.87      1022\n",
            "           1       0.67      0.57      0.62       378\n",
            "\n",
            "    accuracy                           0.81      1400\n",
            "   macro avg       0.76      0.73      0.74      1400\n",
            "weighted avg       0.80      0.81      0.80      1400\n",
            "\n",
            "Accuracy score of Logistic Regression is:\n",
            "0.8185714285714286\n",
            "[[931  98]\n",
            " [156 215]]\n",
            "              precision    recall  f1-score   support\n",
            "\n",
            "           0       0.86      0.90      0.88      1029\n",
            "           1       0.69      0.58      0.63       371\n",
            "\n",
            "    accuracy                           0.82      1400\n",
            "   macro avg       0.77      0.74      0.75      1400\n",
            "weighted avg       0.81      0.82      0.81      1400\n",
            "\n",
            "Accuracy score of Logistic Regression is:\n",
            "0.7921428571428571\n",
            "[[896 116]\n",
            " [175 213]]\n",
            "              precision    recall  f1-score   support\n",
            "\n",
            "           0       0.84      0.89      0.86      1012\n",
            "           1       0.65      0.55      0.59       388\n",
            "\n",
            "    accuracy                           0.79      1400\n",
            "   macro avg       0.74      0.72      0.73      1400\n",
            "weighted avg       0.78      0.79      0.79      1400\n",
            "\n",
            "Accuracy score of Logistic Regression is:\n",
            "0.8021428571428572\n",
            "[[897  99]\n",
            " [178 226]]\n",
            "              precision    recall  f1-score   support\n",
            "\n",
            "           0       0.83      0.90      0.87       996\n",
            "           1       0.70      0.56      0.62       404\n",
            "\n",
            "    accuracy                           0.80      1400\n",
            "   macro avg       0.76      0.73      0.74      1400\n",
            "weighted avg       0.79      0.80      0.80      1400\n",
            "\n",
            "Accuracy score of Logistic Regression is:\n",
            "0.8164285714285714\n",
            "[[926  97]\n",
            " [160 217]]\n",
            "              precision    recall  f1-score   support\n",
            "\n",
            "           0       0.85      0.91      0.88      1023\n",
            "           1       0.69      0.58      0.63       377\n",
            "\n",
            "    accuracy                           0.82      1400\n",
            "   macro avg       0.77      0.74      0.75      1400\n",
            "weighted avg       0.81      0.82      0.81      1400\n",
            "\n",
            "Accuracy score of Logistic Regression is:\n",
            "0.8178571428571428\n",
            "[[930 105]\n",
            " [150 215]]\n",
            "              precision    recall  f1-score   support\n",
            "\n",
            "           0       0.86      0.90      0.88      1035\n",
            "           1       0.67      0.59      0.63       365\n",
            "\n",
            "    accuracy                           0.82      1400\n",
            "   macro avg       0.77      0.74      0.75      1400\n",
            "weighted avg       0.81      0.82      0.81      1400\n",
            "\n",
            "Accuracy score of Logistic Regression is:\n",
            "0.8092857142857143\n",
            "[[930 106]\n",
            " [161 203]]\n",
            "              precision    recall  f1-score   support\n",
            "\n",
            "           0       0.85      0.90      0.87      1036\n",
            "           1       0.66      0.56      0.60       364\n",
            "\n",
            "    accuracy                           0.81      1400\n",
            "   macro avg       0.75      0.73      0.74      1400\n",
            "weighted avg       0.80      0.81      0.80      1400\n",
            "\n",
            "Accuracy score of Logistic Regression is:\n",
            "0.8142857142857143\n",
            "[[944 105]\n",
            " [155 196]]\n",
            "              precision    recall  f1-score   support\n",
            "\n",
            "           0       0.86      0.90      0.88      1049\n",
            "           1       0.65      0.56      0.60       351\n",
            "\n",
            "    accuracy                           0.81      1400\n",
            "   macro avg       0.76      0.73      0.74      1400\n",
            "weighted avg       0.81      0.81      0.81      1400\n",
            "\n",
            "Accuracy score of Logistic Regression is:\n",
            "0.7942857142857143\n",
            "[[916 123]\n",
            " [165 196]]\n",
            "              precision    recall  f1-score   support\n",
            "\n",
            "           0       0.85      0.88      0.86      1039\n",
            "           1       0.61      0.54      0.58       361\n",
            "\n",
            "    accuracy                           0.79      1400\n",
            "   macro avg       0.73      0.71      0.72      1400\n",
            "weighted avg       0.79      0.79      0.79      1400\n",
            "\n",
            "Accuracy score of Logistic Regression is:\n",
            "0.8114285714285714\n",
            "[[927  88]\n",
            " [176 209]]\n",
            "              precision    recall  f1-score   support\n",
            "\n",
            "           0       0.84      0.91      0.88      1015\n",
            "           1       0.70      0.54      0.61       385\n",
            "\n",
            "    accuracy                           0.81      1400\n",
            "   macro avg       0.77      0.73      0.74      1400\n",
            "weighted avg       0.80      0.81      0.80      1400\n",
            "\n",
            "Accuracy score of Logistic Regression is:\n",
            "0.795\n",
            "[[887 119]\n",
            " [168 226]]\n",
            "              precision    recall  f1-score   support\n",
            "\n",
            "           0       0.84      0.88      0.86      1006\n",
            "           1       0.66      0.57      0.61       394\n",
            "\n",
            "    accuracy                           0.80      1400\n",
            "   macro avg       0.75      0.73      0.74      1400\n",
            "weighted avg       0.79      0.80      0.79      1400\n",
            "\n",
            "Accuracy score of Logistic Regression is:\n",
            "0.8028571428571428\n",
            "[[931  94]\n",
            " [182 193]]\n",
            "              precision    recall  f1-score   support\n",
            "\n",
            "           0       0.84      0.91      0.87      1025\n",
            "           1       0.67      0.51      0.58       375\n",
            "\n",
            "    accuracy                           0.80      1400\n",
            "   macro avg       0.75      0.71      0.73      1400\n",
            "weighted avg       0.79      0.80      0.79      1400\n",
            "\n",
            "Accuracy score of Logistic Regression is:\n",
            "0.8085714285714286\n",
            "[[924 109]\n",
            " [159 208]]\n",
            "              precision    recall  f1-score   support\n",
            "\n",
            "           0       0.85      0.89      0.87      1033\n",
            "           1       0.66      0.57      0.61       367\n",
            "\n",
            "    accuracy                           0.81      1400\n",
            "   macro avg       0.75      0.73      0.74      1400\n",
            "weighted avg       0.80      0.81      0.80      1400\n",
            "\n",
            "Accuracy score of Logistic Regression is:\n",
            "0.8057142857142857\n",
            "[[911 108]\n",
            " [164 217]]\n",
            "              precision    recall  f1-score   support\n",
            "\n",
            "           0       0.85      0.89      0.87      1019\n",
            "           1       0.67      0.57      0.61       381\n",
            "\n",
            "    accuracy                           0.81      1400\n",
            "   macro avg       0.76      0.73      0.74      1400\n",
            "weighted avg       0.80      0.81      0.80      1400\n",
            "\n",
            "Accuracy score of Logistic Regression is:\n",
            "0.7935714285714286\n",
            "[[898 126]\n",
            " [163 213]]\n",
            "              precision    recall  f1-score   support\n",
            "\n",
            "           0       0.85      0.88      0.86      1024\n",
            "           1       0.63      0.57      0.60       376\n",
            "\n",
            "    accuracy                           0.79      1400\n",
            "   macro avg       0.74      0.72      0.73      1400\n",
            "weighted avg       0.79      0.79      0.79      1400\n",
            "\n",
            "Accuracy score of Logistic Regression is:\n",
            "0.8\n",
            "[[916  93]\n",
            " [187 204]]\n",
            "              precision    recall  f1-score   support\n",
            "\n",
            "           0       0.83      0.91      0.87      1009\n",
            "           1       0.69      0.52      0.59       391\n",
            "\n",
            "    accuracy                           0.80      1400\n",
            "   macro avg       0.76      0.71      0.73      1400\n",
            "weighted avg       0.79      0.80      0.79      1400\n",
            "\n",
            "Accuracy score of Logistic Regression is:\n",
            "0.8121428571428572\n",
            "[[926 107]\n",
            " [156 211]]\n",
            "              precision    recall  f1-score   support\n",
            "\n",
            "           0       0.86      0.90      0.88      1033\n",
            "           1       0.66      0.57      0.62       367\n",
            "\n",
            "    accuracy                           0.81      1400\n",
            "   macro avg       0.76      0.74      0.75      1400\n",
            "weighted avg       0.81      0.81      0.81      1400\n",
            "\n",
            "Accuracy score of Logistic Regression is:\n",
            "0.7907142857142857\n",
            "[[917 114]\n",
            " [179 190]]\n",
            "              precision    recall  f1-score   support\n",
            "\n",
            "           0       0.84      0.89      0.86      1031\n",
            "           1       0.62      0.51      0.56       369\n",
            "\n",
            "    accuracy                           0.79      1400\n",
            "   macro avg       0.73      0.70      0.71      1400\n",
            "weighted avg       0.78      0.79      0.78      1400\n",
            "\n",
            "Accuracy score of Logistic Regression is:\n",
            "0.7992857142857143\n",
            "[[894 101]\n",
            " [180 225]]\n",
            "              precision    recall  f1-score   support\n",
            "\n",
            "           0       0.83      0.90      0.86       995\n",
            "           1       0.69      0.56      0.62       405\n",
            "\n",
            "    accuracy                           0.80      1400\n",
            "   macro avg       0.76      0.73      0.74      1400\n",
            "weighted avg       0.79      0.80      0.79      1400\n",
            "\n",
            "Accuracy score of Logistic Regression is:\n",
            "0.8064285714285714\n",
            "[[938  83]\n",
            " [188 191]]\n",
            "              precision    recall  f1-score   support\n",
            "\n",
            "           0       0.83      0.92      0.87      1021\n",
            "           1       0.70      0.50      0.58       379\n",
            "\n",
            "    accuracy                           0.81      1400\n",
            "   macro avg       0.77      0.71      0.73      1400\n",
            "weighted avg       0.80      0.81      0.80      1400\n",
            "\n",
            "Accuracy score of Logistic Regression is:\n",
            "0.8057142857142857\n",
            "[[931 109]\n",
            " [163 197]]\n",
            "              precision    recall  f1-score   support\n",
            "\n",
            "           0       0.85      0.90      0.87      1040\n",
            "           1       0.64      0.55      0.59       360\n",
            "\n",
            "    accuracy                           0.81      1400\n",
            "   macro avg       0.75      0.72      0.73      1400\n",
            "weighted avg       0.80      0.81      0.80      1400\n",
            "\n",
            "Accuracy score of Logistic Regression is:\n",
            "0.7914285714285715\n",
            "[[900 106]\n",
            " [186 208]]\n",
            "              precision    recall  f1-score   support\n",
            "\n",
            "           0       0.83      0.89      0.86      1006\n",
            "           1       0.66      0.53      0.59       394\n",
            "\n",
            "    accuracy                           0.79      1400\n",
            "   macro avg       0.75      0.71      0.72      1400\n",
            "weighted avg       0.78      0.79      0.78      1400\n",
            "\n",
            "Accuracy score of Logistic Regression is:\n",
            "0.7871428571428571\n",
            "[[880 118]\n",
            " [180 222]]\n",
            "              precision    recall  f1-score   support\n",
            "\n",
            "           0       0.83      0.88      0.86       998\n",
            "           1       0.65      0.55      0.60       402\n",
            "\n",
            "    accuracy                           0.79      1400\n",
            "   macro avg       0.74      0.72      0.73      1400\n",
            "weighted avg       0.78      0.79      0.78      1400\n",
            "\n",
            "Accuracy score of Logistic Regression is:\n",
            "0.7964285714285714\n",
            "[[927 119]\n",
            " [166 188]]\n",
            "              precision    recall  f1-score   support\n",
            "\n",
            "           0       0.85      0.89      0.87      1046\n",
            "           1       0.61      0.53      0.57       354\n",
            "\n",
            "    accuracy                           0.80      1400\n",
            "   macro avg       0.73      0.71      0.72      1400\n",
            "weighted avg       0.79      0.80      0.79      1400\n",
            "\n",
            "Accuracy score of Logistic Regression is:\n",
            "0.8185714285714286\n",
            "[[930 102]\n",
            " [152 216]]\n",
            "              precision    recall  f1-score   support\n",
            "\n",
            "           0       0.86      0.90      0.88      1032\n",
            "           1       0.68      0.59      0.63       368\n",
            "\n",
            "    accuracy                           0.82      1400\n",
            "   macro avg       0.77      0.74      0.75      1400\n",
            "weighted avg       0.81      0.82      0.81      1400\n",
            "\n",
            "Accuracy score of Logistic Regression is:\n",
            "0.8071428571428572\n",
            "[[928 112]\n",
            " [158 202]]\n",
            "              precision    recall  f1-score   support\n",
            "\n",
            "           0       0.85      0.89      0.87      1040\n",
            "           1       0.64      0.56      0.60       360\n",
            "\n",
            "    accuracy                           0.81      1400\n",
            "   macro avg       0.75      0.73      0.74      1400\n",
            "weighted avg       0.80      0.81      0.80      1400\n",
            "\n",
            "Accuracy score of Logistic Regression is:\n",
            "0.8\n",
            "[[885 115]\n",
            " [165 235]]\n",
            "              precision    recall  f1-score   support\n",
            "\n",
            "           0       0.84      0.89      0.86      1000\n",
            "           1       0.67      0.59      0.63       400\n",
            "\n",
            "    accuracy                           0.80      1400\n",
            "   macro avg       0.76      0.74      0.75      1400\n",
            "weighted avg       0.79      0.80      0.80      1400\n",
            "\n",
            "Accuracy score of Logistic Regression is:\n",
            "0.7842857142857143\n",
            "[[886 135]\n",
            " [167 212]]\n",
            "              precision    recall  f1-score   support\n",
            "\n",
            "           0       0.84      0.87      0.85      1021\n",
            "           1       0.61      0.56      0.58       379\n",
            "\n",
            "    accuracy                           0.78      1400\n",
            "   macro avg       0.73      0.71      0.72      1400\n",
            "weighted avg       0.78      0.78      0.78      1400\n",
            "\n",
            "Accuracy score of Logistic Regression is:\n",
            "0.81\n",
            "[[913 107]\n",
            " [159 221]]\n",
            "              precision    recall  f1-score   support\n",
            "\n",
            "           0       0.85      0.90      0.87      1020\n",
            "           1       0.67      0.58      0.62       380\n",
            "\n",
            "    accuracy                           0.81      1400\n",
            "   macro avg       0.76      0.74      0.75      1400\n",
            "weighted avg       0.80      0.81      0.81      1400\n",
            "\n",
            "Accuracy score of Logistic Regression is:\n",
            "0.8035714285714286\n",
            "[[931 111]\n",
            " [164 194]]\n",
            "              precision    recall  f1-score   support\n",
            "\n",
            "           0       0.85      0.89      0.87      1042\n",
            "           1       0.64      0.54      0.59       358\n",
            "\n",
            "    accuracy                           0.80      1400\n",
            "   macro avg       0.74      0.72      0.73      1400\n",
            "weighted avg       0.80      0.80      0.80      1400\n",
            "\n",
            "Accuracy score of Logistic Regression is:\n",
            "0.7914285714285715\n",
            "[[907  89]\n",
            " [203 201]]\n",
            "              precision    recall  f1-score   support\n",
            "\n",
            "           0       0.82      0.91      0.86       996\n",
            "           1       0.69      0.50      0.58       404\n",
            "\n",
            "    accuracy                           0.79      1400\n",
            "   macro avg       0.76      0.70      0.72      1400\n",
            "weighted avg       0.78      0.79      0.78      1400\n",
            "\n",
            "Accuracy score of Logistic Regression is:\n",
            "0.8042857142857143\n",
            "[[909 117]\n",
            " [157 217]]\n",
            "              precision    recall  f1-score   support\n",
            "\n",
            "           0       0.85      0.89      0.87      1026\n",
            "           1       0.65      0.58      0.61       374\n",
            "\n",
            "    accuracy                           0.80      1400\n",
            "   macro avg       0.75      0.73      0.74      1400\n",
            "weighted avg       0.80      0.80      0.80      1400\n",
            "\n",
            "Accuracy score of Logistic Regression is:\n",
            "0.8021428571428572\n",
            "[[927 119]\n",
            " [158 196]]\n",
            "              precision    recall  f1-score   support\n",
            "\n",
            "           0       0.85      0.89      0.87      1046\n",
            "           1       0.62      0.55      0.59       354\n",
            "\n",
            "    accuracy                           0.80      1400\n",
            "   macro avg       0.74      0.72      0.73      1400\n",
            "weighted avg       0.80      0.80      0.80      1400\n",
            "\n",
            "Accuracy score of Logistic Regression is:\n",
            "0.8007142857142857\n",
            "[[925 117]\n",
            " [162 196]]\n",
            "              precision    recall  f1-score   support\n",
            "\n",
            "           0       0.85      0.89      0.87      1042\n",
            "           1       0.63      0.55      0.58       358\n",
            "\n",
            "    accuracy                           0.80      1400\n",
            "   macro avg       0.74      0.72      0.73      1400\n",
            "weighted avg       0.79      0.80      0.80      1400\n",
            "\n",
            "Accuracy score of Logistic Regression is:\n",
            "0.8035714285714286\n",
            "[[930 123]\n",
            " [152 195]]\n",
            "              precision    recall  f1-score   support\n",
            "\n",
            "           0       0.86      0.88      0.87      1053\n",
            "           1       0.61      0.56      0.59       347\n",
            "\n",
            "    accuracy                           0.80      1400\n",
            "   macro avg       0.74      0.72      0.73      1400\n",
            "weighted avg       0.80      0.80      0.80      1400\n",
            "\n",
            "Accuracy score of Logistic Regression is:\n",
            "0.8135714285714286\n",
            "[[924  98]\n",
            " [163 215]]\n",
            "              precision    recall  f1-score   support\n",
            "\n",
            "           0       0.85      0.90      0.88      1022\n",
            "           1       0.69      0.57      0.62       378\n",
            "\n",
            "    accuracy                           0.81      1400\n",
            "   macro avg       0.77      0.74      0.75      1400\n",
            "weighted avg       0.81      0.81      0.81      1400\n",
            "\n",
            "Accuracy score of Logistic Regression is:\n",
            "0.8135714285714286\n",
            "[[917 107]\n",
            " [154 222]]\n",
            "              precision    recall  f1-score   support\n",
            "\n",
            "           0       0.86      0.90      0.88      1024\n",
            "           1       0.67      0.59      0.63       376\n",
            "\n",
            "    accuracy                           0.81      1400\n",
            "   macro avg       0.77      0.74      0.75      1400\n",
            "weighted avg       0.81      0.81      0.81      1400\n",
            "\n",
            "Accuracy score of Logistic Regression is:\n",
            "0.7857142857142857\n",
            "[[899 117]\n",
            " [183 201]]\n",
            "              precision    recall  f1-score   support\n",
            "\n",
            "           0       0.83      0.88      0.86      1016\n",
            "           1       0.63      0.52      0.57       384\n",
            "\n",
            "    accuracy                           0.79      1400\n",
            "   macro avg       0.73      0.70      0.71      1400\n",
            "weighted avg       0.78      0.79      0.78      1400\n",
            "\n",
            "Accuracy score of Logistic Regression is:\n",
            "0.8192857142857143\n",
            "[[942  85]\n",
            " [168 205]]\n",
            "              precision    recall  f1-score   support\n",
            "\n",
            "           0       0.85      0.92      0.88      1027\n",
            "           1       0.71      0.55      0.62       373\n",
            "\n",
            "    accuracy                           0.82      1400\n",
            "   macro avg       0.78      0.73      0.75      1400\n",
            "weighted avg       0.81      0.82      0.81      1400\n",
            "\n",
            "Accuracy score of Logistic Regression is:\n",
            "0.8057142857142857\n",
            "[[923 113]\n",
            " [159 205]]\n",
            "              precision    recall  f1-score   support\n",
            "\n",
            "           0       0.85      0.89      0.87      1036\n",
            "           1       0.64      0.56      0.60       364\n",
            "\n",
            "    accuracy                           0.81      1400\n",
            "   macro avg       0.75      0.73      0.74      1400\n",
            "weighted avg       0.80      0.81      0.80      1400\n",
            "\n",
            "Accuracy score of Logistic Regression is:\n",
            "0.7864285714285715\n",
            "[[896 116]\n",
            " [183 205]]\n",
            "              precision    recall  f1-score   support\n",
            "\n",
            "           0       0.83      0.89      0.86      1012\n",
            "           1       0.64      0.53      0.58       388\n",
            "\n",
            "    accuracy                           0.79      1400\n",
            "   macro avg       0.73      0.71      0.72      1400\n",
            "weighted avg       0.78      0.79      0.78      1400\n",
            "\n",
            "Accuracy score of Logistic Regression is:\n",
            "0.8142857142857143\n",
            "[[939  96]\n",
            " [164 201]]\n",
            "              precision    recall  f1-score   support\n",
            "\n",
            "           0       0.85      0.91      0.88      1035\n",
            "           1       0.68      0.55      0.61       365\n",
            "\n",
            "    accuracy                           0.81      1400\n",
            "   macro avg       0.76      0.73      0.74      1400\n",
            "weighted avg       0.81      0.81      0.81      1400\n",
            "\n",
            "Accuracy score of Logistic Regression is:\n",
            "0.7907142857142857\n",
            "[[889 116]\n",
            " [177 218]]\n",
            "              precision    recall  f1-score   support\n",
            "\n",
            "           0       0.83      0.88      0.86      1005\n",
            "           1       0.65      0.55      0.60       395\n",
            "\n",
            "    accuracy                           0.79      1400\n",
            "   macro avg       0.74      0.72      0.73      1400\n",
            "weighted avg       0.78      0.79      0.79      1400\n",
            "\n",
            "Accuracy score of Logistic Regression is:\n",
            "0.7878571428571428\n",
            "[[896 133]\n",
            " [164 207]]\n",
            "              precision    recall  f1-score   support\n",
            "\n",
            "           0       0.85      0.87      0.86      1029\n",
            "           1       0.61      0.56      0.58       371\n",
            "\n",
            "    accuracy                           0.79      1400\n",
            "   macro avg       0.73      0.71      0.72      1400\n",
            "weighted avg       0.78      0.79      0.78      1400\n",
            "\n",
            "Accuracy score of Logistic Regression is:\n",
            "0.8028571428571428\n",
            "[[937 110]\n",
            " [166 187]]\n",
            "              precision    recall  f1-score   support\n",
            "\n",
            "           0       0.85      0.89      0.87      1047\n",
            "           1       0.63      0.53      0.58       353\n",
            "\n",
            "    accuracy                           0.80      1400\n",
            "   macro avg       0.74      0.71      0.72      1400\n",
            "weighted avg       0.79      0.80      0.80      1400\n",
            "\n",
            "Accuracy score of Logistic Regression is:\n",
            "0.81\n",
            "[[915  98]\n",
            " [168 219]]\n",
            "              precision    recall  f1-score   support\n",
            "\n",
            "           0       0.84      0.90      0.87      1013\n",
            "           1       0.69      0.57      0.62       387\n",
            "\n",
            "    accuracy                           0.81      1400\n",
            "   macro avg       0.77      0.73      0.75      1400\n",
            "weighted avg       0.80      0.81      0.80      1400\n",
            "\n",
            "Accuracy score of Logistic Regression is:\n",
            "0.81\n",
            "[[928 100]\n",
            " [166 206]]\n",
            "              precision    recall  f1-score   support\n",
            "\n",
            "           0       0.85      0.90      0.87      1028\n",
            "           1       0.67      0.55      0.61       372\n",
            "\n",
            "    accuracy                           0.81      1400\n",
            "   macro avg       0.76      0.73      0.74      1400\n",
            "weighted avg       0.80      0.81      0.80      1400\n",
            "\n",
            "Accuracy score of Logistic Regression is:\n",
            "0.8185714285714286\n",
            "[[925  98]\n",
            " [156 221]]\n",
            "              precision    recall  f1-score   support\n",
            "\n",
            "           0       0.86      0.90      0.88      1023\n",
            "           1       0.69      0.59      0.64       377\n",
            "\n",
            "    accuracy                           0.82      1400\n",
            "   macro avg       0.77      0.75      0.76      1400\n",
            "weighted avg       0.81      0.82      0.81      1400\n",
            "\n",
            "Accuracy score of Logistic Regression is:\n",
            "0.7978571428571428\n",
            "[[911 106]\n",
            " [177 206]]\n",
            "              precision    recall  f1-score   support\n",
            "\n",
            "           0       0.84      0.90      0.87      1017\n",
            "           1       0.66      0.54      0.59       383\n",
            "\n",
            "    accuracy                           0.80      1400\n",
            "   macro avg       0.75      0.72      0.73      1400\n",
            "weighted avg       0.79      0.80      0.79      1400\n",
            "\n",
            "Accuracy score of Logistic Regression is:\n",
            "0.8035714285714286\n",
            "[[927 106]\n",
            " [169 198]]\n",
            "              precision    recall  f1-score   support\n",
            "\n",
            "           0       0.85      0.90      0.87      1033\n",
            "           1       0.65      0.54      0.59       367\n",
            "\n",
            "    accuracy                           0.80      1400\n",
            "   macro avg       0.75      0.72      0.73      1400\n",
            "weighted avg       0.79      0.80      0.80      1400\n",
            "\n",
            "Accuracy score of Logistic Regression is:\n",
            "0.8042857142857143\n",
            "[[914 115]\n",
            " [159 212]]\n",
            "              precision    recall  f1-score   support\n",
            "\n",
            "           0       0.85      0.89      0.87      1029\n",
            "           1       0.65      0.57      0.61       371\n",
            "\n",
            "    accuracy                           0.80      1400\n",
            "   macro avg       0.75      0.73      0.74      1400\n",
            "weighted avg       0.80      0.80      0.80      1400\n",
            "\n",
            "Accuracy score of Logistic Regression is:\n",
            "0.7985714285714286\n",
            "[[886 115]\n",
            " [167 232]]\n",
            "              precision    recall  f1-score   support\n",
            "\n",
            "           0       0.84      0.89      0.86      1001\n",
            "           1       0.67      0.58      0.62       399\n",
            "\n",
            "    accuracy                           0.80      1400\n",
            "   macro avg       0.75      0.73      0.74      1400\n",
            "weighted avg       0.79      0.80      0.79      1400\n",
            "\n",
            "Accuracy score of Logistic Regression is:\n",
            "0.8064285714285714\n",
            "[[903 102]\n",
            " [169 226]]\n",
            "              precision    recall  f1-score   support\n",
            "\n",
            "           0       0.84      0.90      0.87      1005\n",
            "           1       0.69      0.57      0.63       395\n",
            "\n",
            "    accuracy                           0.81      1400\n",
            "   macro avg       0.77      0.74      0.75      1400\n",
            "weighted avg       0.80      0.81      0.80      1400\n",
            "\n",
            "Accuracy score of Logistic Regression is:\n",
            "0.8014285714285714\n",
            "[[928 112]\n",
            " [166 194]]\n",
            "              precision    recall  f1-score   support\n",
            "\n",
            "           0       0.85      0.89      0.87      1040\n",
            "           1       0.63      0.54      0.58       360\n",
            "\n",
            "    accuracy                           0.80      1400\n",
            "   macro avg       0.74      0.72      0.73      1400\n",
            "weighted avg       0.79      0.80      0.80      1400\n",
            "\n",
            "Accuracy score of Logistic Regression is:\n",
            "0.8035714285714286\n",
            "[[905  93]\n",
            " [182 220]]\n",
            "              precision    recall  f1-score   support\n",
            "\n",
            "           0       0.83      0.91      0.87       998\n",
            "           1       0.70      0.55      0.62       402\n",
            "\n",
            "    accuracy                           0.80      1400\n",
            "   macro avg       0.77      0.73      0.74      1400\n",
            "weighted avg       0.80      0.80      0.80      1400\n",
            "\n",
            "Accuracy score of Logistic Regression is:\n",
            "0.7728571428571429\n",
            "[[887 129]\n",
            " [189 195]]\n",
            "              precision    recall  f1-score   support\n",
            "\n",
            "           0       0.82      0.87      0.85      1016\n",
            "           1       0.60      0.51      0.55       384\n",
            "\n",
            "    accuracy                           0.77      1400\n",
            "   macro avg       0.71      0.69      0.70      1400\n",
            "weighted avg       0.76      0.77      0.77      1400\n",
            "\n",
            "Accuracy score of Logistic Regression is:\n",
            "0.8092857142857143\n",
            "[[912 104]\n",
            " [163 221]]\n",
            "              precision    recall  f1-score   support\n",
            "\n",
            "           0       0.85      0.90      0.87      1016\n",
            "           1       0.68      0.58      0.62       384\n",
            "\n",
            "    accuracy                           0.81      1400\n",
            "   macro avg       0.76      0.74      0.75      1400\n",
            "weighted avg       0.80      0.81      0.80      1400\n",
            "\n",
            "Accuracy score of Logistic Regression is:\n",
            "0.7778571428571428\n",
            "[[906 120]\n",
            " [191 183]]\n",
            "              precision    recall  f1-score   support\n",
            "\n",
            "           0       0.83      0.88      0.85      1026\n",
            "           1       0.60      0.49      0.54       374\n",
            "\n",
            "    accuracy                           0.78      1400\n",
            "   macro avg       0.71      0.69      0.70      1400\n",
            "weighted avg       0.77      0.78      0.77      1400\n",
            "\n",
            "Accuracy score of Logistic Regression is:\n",
            "0.8171428571428572\n",
            "[[920 110]\n",
            " [146 224]]\n",
            "              precision    recall  f1-score   support\n",
            "\n",
            "           0       0.86      0.89      0.88      1030\n",
            "           1       0.67      0.61      0.64       370\n",
            "\n",
            "    accuracy                           0.82      1400\n",
            "   macro avg       0.77      0.75      0.76      1400\n",
            "weighted avg       0.81      0.82      0.81      1400\n",
            "\n",
            "Accuracy score of Logistic Regression is:\n",
            "0.8278571428571428\n",
            "[[943  96]\n",
            " [145 216]]\n",
            "              precision    recall  f1-score   support\n",
            "\n",
            "           0       0.87      0.91      0.89      1039\n",
            "           1       0.69      0.60      0.64       361\n",
            "\n",
            "    accuracy                           0.83      1400\n",
            "   macro avg       0.78      0.75      0.76      1400\n",
            "weighted avg       0.82      0.83      0.82      1400\n",
            "\n",
            "Accuracy score of Logistic Regression is:\n",
            "0.7971428571428572\n",
            "[[914 111]\n",
            " [173 202]]\n",
            "              precision    recall  f1-score   support\n",
            "\n",
            "           0       0.84      0.89      0.87      1025\n",
            "           1       0.65      0.54      0.59       375\n",
            "\n",
            "    accuracy                           0.80      1400\n",
            "   macro avg       0.74      0.72      0.73      1400\n",
            "weighted avg       0.79      0.80      0.79      1400\n",
            "\n",
            "Accuracy score of Logistic Regression is:\n",
            "0.8107142857142857\n",
            "[[919 111]\n",
            " [154 216]]\n",
            "              precision    recall  f1-score   support\n",
            "\n",
            "           0       0.86      0.89      0.87      1030\n",
            "           1       0.66      0.58      0.62       370\n",
            "\n",
            "    accuracy                           0.81      1400\n",
            "   macro avg       0.76      0.74      0.75      1400\n",
            "weighted avg       0.80      0.81      0.81      1400\n",
            "\n",
            "Accuracy score of Logistic Regression is:\n",
            "0.8064285714285714\n",
            "[[918 110]\n",
            " [161 211]]\n",
            "              precision    recall  f1-score   support\n",
            "\n",
            "           0       0.85      0.89      0.87      1028\n",
            "           1       0.66      0.57      0.61       372\n",
            "\n",
            "    accuracy                           0.81      1400\n",
            "   macro avg       0.75      0.73      0.74      1400\n",
            "weighted avg       0.80      0.81      0.80      1400\n",
            "\n",
            "Accuracy score of Logistic Regression is:\n",
            "0.7957142857142857\n",
            "[[912 101]\n",
            " [185 202]]\n",
            "              precision    recall  f1-score   support\n",
            "\n",
            "           0       0.83      0.90      0.86      1013\n",
            "           1       0.67      0.52      0.59       387\n",
            "\n",
            "    accuracy                           0.80      1400\n",
            "   macro avg       0.75      0.71      0.72      1400\n",
            "weighted avg       0.79      0.80      0.79      1400\n",
            "\n",
            "Accuracy score of Logistic Regression is:\n",
            "0.7821428571428571\n",
            "[[888 134]\n",
            " [171 207]]\n",
            "              precision    recall  f1-score   support\n",
            "\n",
            "           0       0.84      0.87      0.85      1022\n",
            "           1       0.61      0.55      0.58       378\n",
            "\n",
            "    accuracy                           0.78      1400\n",
            "   macro avg       0.72      0.71      0.71      1400\n",
            "weighted avg       0.78      0.78      0.78      1400\n",
            "\n",
            "Accuracy score of Logistic Regression is:\n",
            "0.8035714285714286\n",
            "[[900 116]\n",
            " [159 225]]\n",
            "              precision    recall  f1-score   support\n",
            "\n",
            "           0       0.85      0.89      0.87      1016\n",
            "           1       0.66      0.59      0.62       384\n",
            "\n",
            "    accuracy                           0.80      1400\n",
            "   macro avg       0.75      0.74      0.74      1400\n",
            "weighted avg       0.80      0.80      0.80      1400\n",
            "\n",
            "Accuracy score of Logistic Regression is:\n",
            "0.8092857142857143\n",
            "[[929 113]\n",
            " [154 204]]\n",
            "              precision    recall  f1-score   support\n",
            "\n",
            "           0       0.86      0.89      0.87      1042\n",
            "           1       0.64      0.57      0.60       358\n",
            "\n",
            "    accuracy                           0.81      1400\n",
            "   macro avg       0.75      0.73      0.74      1400\n",
            "weighted avg       0.80      0.81      0.81      1400\n",
            "\n",
            "Accuracy score of Logistic Regression is:\n",
            "0.805\n",
            "[[909 119]\n",
            " [154 218]]\n",
            "              precision    recall  f1-score   support\n",
            "\n",
            "           0       0.86      0.88      0.87      1028\n",
            "           1       0.65      0.59      0.61       372\n",
            "\n",
            "    accuracy                           0.81      1400\n",
            "   macro avg       0.75      0.74      0.74      1400\n",
            "weighted avg       0.80      0.81      0.80      1400\n",
            "\n",
            "Accuracy score of Logistic Regression is:\n",
            "0.7957142857142857\n",
            "[[911 120]\n",
            " [166 203]]\n",
            "              precision    recall  f1-score   support\n",
            "\n",
            "           0       0.85      0.88      0.86      1031\n",
            "           1       0.63      0.55      0.59       369\n",
            "\n",
            "    accuracy                           0.80      1400\n",
            "   macro avg       0.74      0.72      0.73      1400\n",
            "weighted avg       0.79      0.80      0.79      1400\n",
            "\n",
            "Accuracy score of Logistic Regression is:\n",
            "0.8042857142857143\n",
            "[[920 117]\n",
            " [157 206]]\n",
            "              precision    recall  f1-score   support\n",
            "\n",
            "           0       0.85      0.89      0.87      1037\n",
            "           1       0.64      0.57      0.60       363\n",
            "\n",
            "    accuracy                           0.80      1400\n",
            "   macro avg       0.75      0.73      0.74      1400\n",
            "weighted avg       0.80      0.80      0.80      1400\n",
            "\n",
            "Accuracy score of Logistic Regression is:\n",
            "0.7957142857142857\n",
            "[[911 109]\n",
            " [177 203]]\n",
            "              precision    recall  f1-score   support\n",
            "\n",
            "           0       0.84      0.89      0.86      1020\n",
            "           1       0.65      0.53      0.59       380\n",
            "\n",
            "    accuracy                           0.80      1400\n",
            "   macro avg       0.74      0.71      0.73      1400\n",
            "weighted avg       0.79      0.80      0.79      1400\n",
            "\n",
            "Accuracy score of Logistic Regression is:\n",
            "0.7957142857142857\n",
            "[[919 127]\n",
            " [159 195]]\n",
            "              precision    recall  f1-score   support\n",
            "\n",
            "           0       0.85      0.88      0.87      1046\n",
            "           1       0.61      0.55      0.58       354\n",
            "\n",
            "    accuracy                           0.80      1400\n",
            "   macro avg       0.73      0.71      0.72      1400\n",
            "weighted avg       0.79      0.80      0.79      1400\n",
            "\n",
            "Accuracy score of Logistic Regression is:\n",
            "0.805\n",
            "[[921  99]\n",
            " [174 206]]\n",
            "              precision    recall  f1-score   support\n",
            "\n",
            "           0       0.84      0.90      0.87      1020\n",
            "           1       0.68      0.54      0.60       380\n",
            "\n",
            "    accuracy                           0.81      1400\n",
            "   macro avg       0.76      0.72      0.74      1400\n",
            "weighted avg       0.80      0.81      0.80      1400\n",
            "\n",
            "Accuracy score of Logistic Regression is:\n",
            "0.8078571428571428\n",
            "[[935 126]\n",
            " [143 196]]\n",
            "              precision    recall  f1-score   support\n",
            "\n",
            "           0       0.87      0.88      0.87      1061\n",
            "           1       0.61      0.58      0.59       339\n",
            "\n",
            "    accuracy                           0.81      1400\n",
            "   macro avg       0.74      0.73      0.73      1400\n",
            "weighted avg       0.80      0.81      0.81      1400\n",
            "\n",
            "Accuracy score of Logistic Regression is:\n",
            "0.7935714285714286\n",
            "[[903 107]\n",
            " [182 208]]\n",
            "              precision    recall  f1-score   support\n",
            "\n",
            "           0       0.83      0.89      0.86      1010\n",
            "           1       0.66      0.53      0.59       390\n",
            "\n",
            "    accuracy                           0.79      1400\n",
            "   macro avg       0.75      0.71      0.73      1400\n",
            "weighted avg       0.78      0.79      0.79      1400\n",
            "\n",
            "Accuracy score of Logistic Regression is:\n",
            "0.8128571428571428\n",
            "[[939  91]\n",
            " [171 199]]\n",
            "              precision    recall  f1-score   support\n",
            "\n",
            "           0       0.85      0.91      0.88      1030\n",
            "           1       0.69      0.54      0.60       370\n",
            "\n",
            "    accuracy                           0.81      1400\n",
            "   macro avg       0.77      0.72      0.74      1400\n",
            "weighted avg       0.80      0.81      0.81      1400\n",
            "\n",
            "Accuracy score of Logistic Regression is:\n",
            "0.8021428571428572\n",
            "[[909 123]\n",
            " [154 214]]\n",
            "              precision    recall  f1-score   support\n",
            "\n",
            "           0       0.86      0.88      0.87      1032\n",
            "           1       0.64      0.58      0.61       368\n",
            "\n",
            "    accuracy                           0.80      1400\n",
            "   macro avg       0.75      0.73      0.74      1400\n",
            "weighted avg       0.80      0.80      0.80      1400\n",
            "\n",
            "Accuracy score of Logistic Regression is:\n",
            "0.8007142857142857\n",
            "[[900 117]\n",
            " [162 221]]\n",
            "              precision    recall  f1-score   support\n",
            "\n",
            "           0       0.85      0.88      0.87      1017\n",
            "           1       0.65      0.58      0.61       383\n",
            "\n",
            "    accuracy                           0.80      1400\n",
            "   macro avg       0.75      0.73      0.74      1400\n",
            "weighted avg       0.79      0.80      0.80      1400\n",
            "\n",
            "Accuracy score of Logistic Regression is:\n",
            "0.8078571428571428\n",
            "[[942 103]\n",
            " [166 189]]\n",
            "              precision    recall  f1-score   support\n",
            "\n",
            "           0       0.85      0.90      0.88      1045\n",
            "           1       0.65      0.53      0.58       355\n",
            "\n",
            "    accuracy                           0.81      1400\n",
            "   macro avg       0.75      0.72      0.73      1400\n",
            "weighted avg       0.80      0.81      0.80      1400\n",
            "\n",
            "Best accuracy is 0.8357142857142857 on Random_state 41\n"
          ],
          "name": "stdout"
        }
      ]
    },
    {
      "cell_type": "markdown",
      "metadata": {
        "id": "FgHs-dFL2lsB"
      },
      "source": [
        "**Best accuracy is 0.8357142857142857 on Random_state 41**"
      ]
    },
    {
      "cell_type": "markdown",
      "metadata": {
        "id": "5pD5-ByZ2tIt"
      },
      "source": [
        "## Algorithms"
      ]
    },
    {
      "cell_type": "code",
      "metadata": {
        "colab": {
          "base_uri": "https://localhost:8080/"
        },
        "id": "p8wC4ulT2bjj",
        "outputId": "ad4d8c17-a3a9-4e07-d7de-27b1c57e01b6"
      },
      "source": [
        "x_train,x_test,y_train,y_test=train_test_split(x,y,test_size=0.22,random_state=41)\n",
        "lm=LogisticRegression()\n",
        "lm.fit(x_train,y_train)\n",
        "pred=lm.predict(x_test)\n",
        "print('Accuracy score of Logistic Regression','is:')\n",
        "accu_score=accuracy_score(y_test,pred)\n",
        "print(accuracy_score(y_test,pred))\n",
        "print(confusion_matrix(y_test,pred))\n",
        "print(classification_report(y_test,pred))"
      ],
      "execution_count": 71,
      "outputs": [
        {
          "output_type": "stream",
          "text": [
            "Accuracy score of Logistic Regression is:\n",
            "0.8357142857142857\n",
            "[[937  85]\n",
            " [145 233]]\n",
            "              precision    recall  f1-score   support\n",
            "\n",
            "           0       0.87      0.92      0.89      1022\n",
            "           1       0.73      0.62      0.67       378\n",
            "\n",
            "    accuracy                           0.84      1400\n",
            "   macro avg       0.80      0.77      0.78      1400\n",
            "weighted avg       0.83      0.84      0.83      1400\n",
            "\n"
          ],
          "name": "stdout"
        }
      ]
    },
    {
      "cell_type": "code",
      "metadata": {
        "colab": {
          "base_uri": "https://localhost:8080/"
        },
        "id": "0gJYApkG2xD6",
        "outputId": "520c9075-a653-48a0-d56b-8879238da4da"
      },
      "source": [
        "dtc=DecisionTreeClassifier()\n",
        "dtc.fit(x_train,y_train)\n",
        "preddtc=dtc.predict(x_test)\n",
        "print('Accuracy score of DecisionTreeClassifier','is:')\n",
        "accu_score=accuracy_score(y_test,preddtc)\n",
        "print(accuracy_score(y_test,preddtc))\n",
        "print(confusion_matrix(y_test,preddtc))\n",
        "print(classification_report(y_test,preddtc))"
      ],
      "execution_count": 72,
      "outputs": [
        {
          "output_type": "stream",
          "text": [
            "Accuracy score of DecisionTreeClassifier is:\n",
            "0.7521428571428571\n",
            "[[850 172]\n",
            " [175 203]]\n",
            "              precision    recall  f1-score   support\n",
            "\n",
            "           0       0.83      0.83      0.83      1022\n",
            "           1       0.54      0.54      0.54       378\n",
            "\n",
            "    accuracy                           0.75      1400\n",
            "   macro avg       0.69      0.68      0.68      1400\n",
            "weighted avg       0.75      0.75      0.75      1400\n",
            "\n"
          ],
          "name": "stdout"
        }
      ]
    },
    {
      "cell_type": "code",
      "metadata": {
        "colab": {
          "base_uri": "https://localhost:8080/"
        },
        "id": "FJd-04Gm22t7",
        "outputId": "197b31d6-b796-452a-f34f-26dbda9cd533"
      },
      "source": [
        "knn=KNeighborsClassifier(n_neighbors=5)\n",
        "knn.fit(x_train,y_train)\n",
        "predknn=knn.predict(x_test)\n",
        "print('Accuracy score of knn','is:')\n",
        "accu_score=accuracy_score(y_test,pred)\n",
        "print(accuracy_score(y_test,pred))\n",
        "print(confusion_matrix(y_test,pred))\n",
        "print(classification_report(y_test,pred))"
      ],
      "execution_count": 73,
      "outputs": [
        {
          "output_type": "stream",
          "text": [
            "Accuracy score of knn is:\n",
            "0.8357142857142857\n",
            "[[937  85]\n",
            " [145 233]]\n",
            "              precision    recall  f1-score   support\n",
            "\n",
            "           0       0.87      0.92      0.89      1022\n",
            "           1       0.73      0.62      0.67       378\n",
            "\n",
            "    accuracy                           0.84      1400\n",
            "   macro avg       0.80      0.77      0.78      1400\n",
            "weighted avg       0.83      0.84      0.83      1400\n",
            "\n"
          ],
          "name": "stdout"
        }
      ]
    },
    {
      "cell_type": "code",
      "metadata": {
        "colab": {
          "base_uri": "https://localhost:8080/"
        },
        "id": "m-yGxVum265D",
        "outputId": "740b6f3b-e07c-42fa-eaff-d2a9c03437f9"
      },
      "source": [
        "svm=SVC()\n",
        "svm.fit(x_train,y_train)\n",
        "predsvc=svm.predict(x_test)\n",
        "print('Accuracy score of svm','is:')\n",
        "accu_score=accuracy_score(y_test,predsvc)\n",
        "print(accuracy_score(y_test,predsvc))\n",
        "print(confusion_matrix(y_test,predsvc))\n",
        "print(classification_report(y_test,predsvc))"
      ],
      "execution_count": 74,
      "outputs": [
        {
          "output_type": "stream",
          "text": [
            "Accuracy score of svm is:\n",
            "0.8242857142857143\n",
            "[[957  65]\n",
            " [181 197]]\n",
            "              precision    recall  f1-score   support\n",
            "\n",
            "           0       0.84      0.94      0.89      1022\n",
            "           1       0.75      0.52      0.62       378\n",
            "\n",
            "    accuracy                           0.82      1400\n",
            "   macro avg       0.80      0.73      0.75      1400\n",
            "weighted avg       0.82      0.82      0.81      1400\n",
            "\n"
          ],
          "name": "stdout"
        }
      ]
    },
    {
      "cell_type": "code",
      "metadata": {
        "colab": {
          "base_uri": "https://localhost:8080/"
        },
        "id": "NERmdc5t2-g6",
        "outputId": "fa1cc8be-e3e6-41f8-b6cd-a8c588af865e"
      },
      "source": [
        "bnb=GaussianNB()\n",
        "bnb.fit(x_train,y_train)\n",
        "predbnb=bnb.predict(x_test)\n",
        "print('Accuracy score of BinomialNB','is:')\n",
        "accu_score=accuracy_score(y_test,predbnb)\n",
        "print(accuracy_score(y_test,predbnb))\n",
        "print(confusion_matrix(y_test,predbnb))\n",
        "print(classification_report(y_test,predbnb))"
      ],
      "execution_count": 75,
      "outputs": [
        {
          "output_type": "stream",
          "text": [
            "Accuracy score of BinomialNB is:\n",
            "0.7935714285714286\n",
            "[[819 203]\n",
            " [ 86 292]]\n",
            "              precision    recall  f1-score   support\n",
            "\n",
            "           0       0.90      0.80      0.85      1022\n",
            "           1       0.59      0.77      0.67       378\n",
            "\n",
            "    accuracy                           0.79      1400\n",
            "   macro avg       0.75      0.79      0.76      1400\n",
            "weighted avg       0.82      0.79      0.80      1400\n",
            "\n"
          ],
          "name": "stdout"
        }
      ]
    },
    {
      "cell_type": "code",
      "metadata": {
        "colab": {
          "base_uri": "https://localhost:8080/"
        },
        "id": "QUQgKVlx3BWO",
        "outputId": "662e2d3b-2b38-412d-962b-1a62433d66c4"
      },
      "source": [
        "from sklearn.ensemble import RandomForestClassifier\n",
        "\n",
        "rf=RandomForestClassifier()\n",
        "rf.fit(x_train,y_train)\n",
        "predrf=rf.predict(x_test)\n",
        "print('Accuracy score of RandomForestClassifier','is:')\n",
        "accu_score=accuracy_score(y_test,predrf)\n",
        "print(accuracy_score(y_test,predrf))\n",
        "print(confusion_matrix(y_test,predrf))\n",
        "print(classification_report(y_test,predrf))"
      ],
      "execution_count": 76,
      "outputs": [
        {
          "output_type": "stream",
          "text": [
            "Accuracy score of RandomForestClassifier is:\n",
            "0.8121428571428572\n",
            "[[939  83]\n",
            " [180 198]]\n",
            "              precision    recall  f1-score   support\n",
            "\n",
            "           0       0.84      0.92      0.88      1022\n",
            "           1       0.70      0.52      0.60       378\n",
            "\n",
            "    accuracy                           0.81      1400\n",
            "   macro avg       0.77      0.72      0.74      1400\n",
            "weighted avg       0.80      0.81      0.80      1400\n",
            "\n"
          ],
          "name": "stdout"
        }
      ]
    },
    {
      "cell_type": "code",
      "metadata": {
        "colab": {
          "base_uri": "https://localhost:8080/"
        },
        "id": "0Hib6hGx3EDI",
        "outputId": "1daa4e6b-f061-4e7d-ad29-d8be1c233ba2"
      },
      "source": [
        "from sklearn.ensemble import AdaBoostClassifier\n",
        "\n",
        "ad=AdaBoostClassifier()\n",
        "ad.fit(x_train,y_train)\n",
        "predad=ad.predict(x_test)\n",
        "print('Accuracy score of AdaBoostClassifier','is:')\n",
        "accu_score=accuracy_score(y_test,predad)\n",
        "print(accuracy_score(y_test,predad))\n",
        "print(confusion_matrix(y_test,predad))\n",
        "print(classification_report(y_test,predad))"
      ],
      "execution_count": 77,
      "outputs": [
        {
          "output_type": "stream",
          "text": [
            "Accuracy score of AdaBoostClassifier is:\n",
            "0.825\n",
            "[[941  81]\n",
            " [164 214]]\n",
            "              precision    recall  f1-score   support\n",
            "\n",
            "           0       0.85      0.92      0.88      1022\n",
            "           1       0.73      0.57      0.64       378\n",
            "\n",
            "    accuracy                           0.82      1400\n",
            "   macro avg       0.79      0.74      0.76      1400\n",
            "weighted avg       0.82      0.82      0.82      1400\n",
            "\n"
          ],
          "name": "stdout"
        }
      ]
    },
    {
      "cell_type": "markdown",
      "metadata": {
        "id": "VxvasliX3MSw"
      },
      "source": [
        "**Logistic Regression and K - Neighbors Classifier are the best algorithms.**"
      ]
    },
    {
      "cell_type": "markdown",
      "metadata": {
        "id": "JboGvpBv3SE2"
      },
      "source": [
        "## Cross - Validation Scores"
      ]
    },
    {
      "cell_type": "code",
      "metadata": {
        "colab": {
          "base_uri": "https://localhost:8080/"
        },
        "id": "pXeRGARw3G7I",
        "outputId": "e114cb04-9ac5-4df4-fb0f-782b4225462d"
      },
      "source": [
        "from sklearn.model_selection import cross_val_score\n",
        "lmscores=cross_val_score(lm,x,y,cv=5)\n",
        "print(lmscores)\n",
        "print(lmscores.mean(),lmscores.std())"
      ],
      "execution_count": 78,
      "outputs": [
        {
          "output_type": "stream",
          "text": [
            "[0.80754124 0.81289308 0.78537736 0.80581761 0.80345912]\n",
            "0.8030176821947859 0.009350952739435633\n"
          ],
          "name": "stdout"
        }
      ]
    },
    {
      "cell_type": "code",
      "metadata": {
        "colab": {
          "base_uri": "https://localhost:8080/"
        },
        "id": "Nwxmcl_B3U8y",
        "outputId": "72e3e43c-0f9b-49c4-b9b8-3a1049b37579"
      },
      "source": [
        "from sklearn.model_selection import cross_val_score\n",
        "knnscores=cross_val_score(knn,x,y,cv=5)\n",
        "print(knnscores)\n",
        "print(knnscores.mean(),knnscores.std())"
      ],
      "execution_count": 79,
      "outputs": [
        {
          "output_type": "stream",
          "text": [
            "[0.76983504 0.76100629 0.74685535 0.74921384 0.75550314]\n",
            "0.7564827303403538 0.008309387123317991\n"
          ],
          "name": "stdout"
        }
      ]
    },
    {
      "cell_type": "code",
      "metadata": {
        "colab": {
          "base_uri": "https://localhost:8080/"
        },
        "id": "Os1vpLpw3WyJ",
        "outputId": "67148639-cd79-4783-cb31-f1fdb8bd4184"
      },
      "source": [
        "list1=[0.8357142857142857,0.8357142857142857]\n",
        "list2=[0.8030176821947859,0.7560110322271463]\n",
        "difference=[]\n",
        "zip_object = zip(list1, list2)\n",
        "for list1_i, list2_i in zip_object:\n",
        "    difference.append(list1_i-list2_i)\n",
        "\n",
        "\n",
        "print(difference)"
      ],
      "execution_count": 80,
      "outputs": [
        {
          "output_type": "stream",
          "text": [
            "[0.03269660351949988, 0.07970325348713947]\n"
          ],
          "name": "stdout"
        }
      ]
    },
    {
      "cell_type": "markdown",
      "metadata": {
        "id": "ED_gp2Hg3cgv"
      },
      "source": [
        "As the difference between accuracy scores and cross validation scores of K - Neighbors Classifier is only 0.03%. So, It is verified that K - Neighbors Classifier is the best algorithm for this model with accuracy of 83.571 % ."
      ]
    },
    {
      "cell_type": "markdown",
      "metadata": {
        "id": "RoAbEvZt3h2w"
      },
      "source": [
        "## Hyper Parameter Tuning"
      ]
    },
    {
      "cell_type": "code",
      "metadata": {
        "colab": {
          "base_uri": "https://localhost:8080/"
        },
        "id": "t6Xt-fmV3Zp2",
        "outputId": "408b9278-04b3-426c-cb38-d33d7db82375"
      },
      "source": [
        "knn=KNeighborsClassifier()\n",
        "grid_param={'weights':['uniform','distance'],'algorithm' : ['auto', 'ball_tree', 'kd_tree', 'brute'],'n_neighbors':[5,8,10],'leaf_size':[30,40,50]}\n",
        "gd_sr=GridSearchCV(estimator=knn,param_grid=grid_param,scoring='accuracy',cv=5)\n",
        "gd_sr.fit(x_train,y_train)"
      ],
      "execution_count": 81,
      "outputs": [
        {
          "output_type": "execute_result",
          "data": {
            "text/plain": [
              "GridSearchCV(cv=5, error_score=nan,\n",
              "             estimator=KNeighborsClassifier(algorithm='auto', leaf_size=30,\n",
              "                                            metric='minkowski',\n",
              "                                            metric_params=None, n_jobs=None,\n",
              "                                            n_neighbors=5, p=2,\n",
              "                                            weights='uniform'),\n",
              "             iid='deprecated', n_jobs=None,\n",
              "             param_grid={'algorithm': ['auto', 'ball_tree', 'kd_tree', 'brute'],\n",
              "                         'leaf_size': [30, 40, 50], 'n_neighbors': [5, 8, 10],\n",
              "                         'weights': ['uniform', 'distance']},\n",
              "             pre_dispatch='2*n_jobs', refit=True, return_train_score=False,\n",
              "             scoring='accuracy', verbose=0)"
            ]
          },
          "metadata": {
            "tags": []
          },
          "execution_count": 81
        }
      ]
    },
    {
      "cell_type": "code",
      "metadata": {
        "colab": {
          "base_uri": "https://localhost:8080/"
        },
        "id": "wZmSmZJZ3k_C",
        "outputId": "fa4b375a-2ce0-4962-f65f-220f0d634e63"
      },
      "source": [
        "gd_sr.best_params_"
      ],
      "execution_count": 82,
      "outputs": [
        {
          "output_type": "execute_result",
          "data": {
            "text/plain": [
              "{'algorithm': 'auto', 'leaf_size': 30, 'n_neighbors': 10, 'weights': 'uniform'}"
            ]
          },
          "metadata": {
            "tags": []
          },
          "execution_count": 82
        }
      ]
    },
    {
      "cell_type": "code",
      "metadata": {
        "colab": {
          "base_uri": "https://localhost:8080/"
        },
        "id": "jEB4-iJe3onL",
        "outputId": "aa2bf2e9-ab50-4973-b960-ba186a909b54"
      },
      "source": [
        "knn=KNeighborsClassifier(algorithm = 'ball_tree',\n",
        " leaf_size=30,\n",
        " n_neighbors= 10,\n",
        " weights= 'uniform')\n",
        "knn.fit(x_train,y_train)\n",
        "predknn=knn.predict(x_test)\n",
        "print('Accuracy score of knn','is:')\n",
        "accu_score=accuracy_score(y_test,pred)\n",
        "print(accuracy_score(y_test,pred))\n",
        "print(confusion_matrix(y_test,pred))\n",
        "print(classification_report(y_test,pred))"
      ],
      "execution_count": 83,
      "outputs": [
        {
          "output_type": "stream",
          "text": [
            "Accuracy score of knn is:\n",
            "0.8357142857142857\n",
            "[[937  85]\n",
            " [145 233]]\n",
            "              precision    recall  f1-score   support\n",
            "\n",
            "           0       0.87      0.92      0.89      1022\n",
            "           1       0.73      0.62      0.67       378\n",
            "\n",
            "    accuracy                           0.84      1400\n",
            "   macro avg       0.80      0.77      0.78      1400\n",
            "weighted avg       0.83      0.84      0.83      1400\n",
            "\n"
          ],
          "name": "stdout"
        }
      ]
    },
    {
      "cell_type": "markdown",
      "metadata": {
        "id": "nQjzDkgq3uxR"
      },
      "source": [
        "Accuracy of K- Neighbors Classifier has remained same as 83.571 % with hyper parameter tuning."
      ]
    },
    {
      "cell_type": "markdown",
      "metadata": {
        "id": "Ff-4koAn32C-"
      },
      "source": [
        "\n",
        "## AOC - ROC Curve"
      ]
    },
    {
      "cell_type": "code",
      "metadata": {
        "id": "x0LzmZqy3sO0"
      },
      "source": [
        "from sklearn.metrics import roc_curve\n",
        "from sklearn.metrics import roc_auc_score"
      ],
      "execution_count": 84,
      "outputs": []
    },
    {
      "cell_type": "code",
      "metadata": {
        "id": "PmF8r3PM34sB"
      },
      "source": [
        "y_pred_prob=knn.predict_proba(x_test)[:,1]"
      ],
      "execution_count": 85,
      "outputs": []
    },
    {
      "cell_type": "code",
      "metadata": {
        "colab": {
          "base_uri": "https://localhost:8080/"
        },
        "id": "B-G8x_Xx36kb",
        "outputId": "050a04f6-ef7f-41b5-92ac-ce20e62c1bff"
      },
      "source": [
        "y_pred_prob"
      ],
      "execution_count": 86,
      "outputs": [
        {
          "output_type": "execute_result",
          "data": {
            "text/plain": [
              "array([0.9, 0.7, 0.6, ..., 0. , 0.3, 0.1])"
            ]
          },
          "metadata": {
            "tags": []
          },
          "execution_count": 86
        }
      ]
    },
    {
      "cell_type": "code",
      "metadata": {
        "id": "6EtnO2m438iu"
      },
      "source": [
        "fpr,tpr,thresholds=roc_curve(y_test,y_pred_prob)"
      ],
      "execution_count": 87,
      "outputs": []
    },
    {
      "cell_type": "code",
      "metadata": {
        "colab": {
          "base_uri": "https://localhost:8080/"
        },
        "id": "YRI4abbu3-d_",
        "outputId": "da25e758-2811-454b-83b9-ef0d88cca976"
      },
      "source": [
        "fpr"
      ],
      "execution_count": 88,
      "outputs": [
        {
          "output_type": "execute_result",
          "data": {
            "text/plain": [
              "array([0.00000000e+00, 9.78473581e-04, 9.78473581e-03, 2.54403131e-02,\n",
              "       5.18590998e-02, 9.19765166e-02, 1.49706458e-01, 2.39726027e-01,\n",
              "       3.50293542e-01, 4.78473581e-01, 6.68297456e-01, 1.00000000e+00])"
            ]
          },
          "metadata": {
            "tags": []
          },
          "execution_count": 88
        }
      ]
    },
    {
      "cell_type": "code",
      "metadata": {
        "colab": {
          "base_uri": "https://localhost:8080/"
        },
        "id": "fcOWudr74AUl",
        "outputId": "d160678e-14fc-4018-b0a9-2f84af6937cf"
      },
      "source": [
        "tpr"
      ],
      "execution_count": 89,
      "outputs": [
        {
          "output_type": "execute_result",
          "data": {
            "text/plain": [
              "array([0.        , 0.01058201, 0.05820106, 0.14814815, 0.31481481,\n",
              "       0.48412698, 0.63227513, 0.74603175, 0.85449735, 0.9047619 ,\n",
              "       0.95502646, 1.        ])"
            ]
          },
          "metadata": {
            "tags": []
          },
          "execution_count": 89
        }
      ]
    },
    {
      "cell_type": "code",
      "metadata": {
        "colab": {
          "base_uri": "https://localhost:8080/"
        },
        "id": "69Fu6Aq_4BCx",
        "outputId": "4fff43df-1c4c-43c1-dc18-761de796e54e"
      },
      "source": [
        "thresholds"
      ],
      "execution_count": 90,
      "outputs": [
        {
          "output_type": "execute_result",
          "data": {
            "text/plain": [
              "array([2. , 1. , 0.9, 0.8, 0.7, 0.6, 0.5, 0.4, 0.3, 0.2, 0.1, 0. ])"
            ]
          },
          "metadata": {
            "tags": []
          },
          "execution_count": 90
        }
      ]
    },
    {
      "cell_type": "code",
      "metadata": {
        "colab": {
          "base_uri": "https://localhost:8080/",
          "height": 295
        },
        "id": "WoF_lrkF4EGW",
        "outputId": "196a3aa5-b154-41be-ba21-fdddeb9935a5"
      },
      "source": [
        "plt.plot([0,1],[0,1],'k--')\n",
        "plt.plot(fpr,tpr,label='K Nearest Neighbors')\n",
        "plt.xlabel('False positive rate')\n",
        "plt.ylabel('True positive rate')\n",
        "plt.title('K Neighbors Classifier')\n",
        "plt.show()"
      ],
      "execution_count": 91,
      "outputs": [
        {
          "output_type": "display_data",
          "data": {
            "image/png": "[encoded data removed]",
            "text/plain": [
              "<Figure size 432x288 with 1 Axes>"
            ]
          },
          "metadata": {
            "tags": []
          }
        }
      ]
    },
    {
      "cell_type": "markdown",
      "metadata": {
        "id": "jrGEp_df4KBr"
      },
      "source": [
        "\n",
        "Observations :-\n",
        "\n",
        "As the line is moving towards 1, so we can conclude that we have developed good model."
      ]
    },
    {
      "cell_type": "markdown",
      "metadata": {
        "id": "ptQi82IC4POn"
      },
      "source": [
        "## Saving the model"
      ]
    },
    {
      "cell_type": "code",
      "metadata": {
        "id": "jxBCoafO4Gz4"
      },
      "source": [
        "import joblib"
      ],
      "execution_count": 92,
      "outputs": []
    },
    {
      "cell_type": "code",
      "metadata": {
        "colab": {
          "base_uri": "https://localhost:8080/"
        },
        "id": "ABODIOd_4UBx",
        "outputId": "00bd0d67-20aa-4e7a-bda3-34c828e5d141"
      },
      "source": [
        "joblib.dump(knn,\"knn_CustomerChurn.obj\")"
      ],
      "execution_count": 93,
      "outputs": [
        {
          "output_type": "execute_result",
          "data": {
            "text/plain": [
              "['knn_CustomerChurn.obj']"
            ]
          },
          "metadata": {
            "tags": []
          },
          "execution_count": 93
        }
      ]
    },
    {
      "cell_type": "code",
      "metadata": {
        "id": "QBZ7Kftl4Wgn"
      },
      "source": [
        ""
      ],
      "execution_count": null,
      "outputs": []
    }
  ]
}