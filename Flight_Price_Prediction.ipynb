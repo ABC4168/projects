{
  "nbformat": 4,
  "nbformat_minor": 0,
  "metadata": {
    "colab": {
      "name": "Flight Price Prediction",
      "provenance": [],
      "collapsed_sections": []
    },
    "kernelspec": {
      "name": "python3",
      "display_name": "Python 3"
    },
    "language_info": {
      "name": "python"
    }
  },
  "cells": [
    {
      "cell_type": "markdown",
      "metadata": {
        "id": "ZE91M1bxFalW"
      },
      "source": [
        "# Flight Price Prediction\n",
        "\n",
        "***Problem Statement:-***\n",
        "\n",
        "Flight ticket prices can be something hard to guess, today we might see a price, check out the price of the same flight tomorrow, it will be a different story. We might have often heard travellers saying that flight ticket prices are so unpredictable. Here you will be provided with prices of flight tickets for various airlines between the months of March and June of 2019 and between various cities.\n",
        "\n",
        "Size of training set: 10683 records\n",
        "\n",
        "Size of test set: 2671 records\n",
        "\n",
        "FEATURES:\n",
        "Airline: The name of the airline.\n",
        "\n",
        "Date_of_Journey: The date of the journey\n",
        "\n",
        "Source: The source from which the service begins.\n",
        "\n",
        "Destination: The destination where the service ends.\n",
        "\n",
        "Route: The route taken by the flight to reach the destination.\n",
        "\n",
        "Dep_Time: The time when the journey starts from the source.\n",
        "\n",
        "Arrival_Time: Time of arrival at the destination.\n",
        "\n",
        "Duration: Total duration of the flight.\n",
        "\n",
        "Total_Stops: Total stops between the source and destination.\n",
        "\n",
        "Additional_Info: Additional information about the flight\n",
        "\n",
        "Price: The price of the ticket\n",
        "\n",
        " \n",
        "\n",
        "You have to use your skills as a data scientist and build a machine learning model to predict the price of the flight ticket. "
      ]
    },
    {
      "cell_type": "markdown",
      "metadata": {
        "id": "YDEoKR_8G0U2"
      },
      "source": [
        "\n",
        "## importing libraries"
      ]
    },
    {
      "cell_type": "code",
      "metadata": {
        "id": "ygAkeuRZFXEp"
      },
      "source": [
        "#Data Analysis and Data Wrangling\n",
        "import pandas as pd\n",
        "import numpy as np\n",
        "#Data Visulaziation\n",
        "\n",
        "import seaborn as sns\n",
        "import matplotlib.pyplot as plt\n",
        "\n",
        "#for model building\n",
        "import sklearn\n",
        "from sklearn.ensemble import RandomForestRegressor,AdaBoostRegressor\n",
        "from sklearn.linear_model import LinearRegression,ElasticNet\n",
        "from sklearn.tree import DecisionTreeRegressor\n",
        "from sklearn.neighbors import KNeighborsRegressor\n",
        "\n",
        "#for spliting dataset into train and test\n",
        "from sklearn.model_selection import train_test_split,cross_val_score,GridSearchCV,RandomizedSearchCV\n",
        "\n",
        "#for model evaluation\n",
        "from sklearn.metrics import mean_absolute_error,mean_squared_error,r2_score\n",
        " \n",
        "from sklearn.preprocessing import StandardScaler,MinMaxScaler,power_transform,LabelEncoder,OrdinalEncoder\n",
        "from sklearn.decomposition import PCA\n",
        "from scipy.stats import zscore\n",
        "import warnings\n",
        "warnings.filterwarnings('ignore')"
      ],
      "execution_count": 133,
      "outputs": []
    },
    {
      "cell_type": "markdown",
      "metadata": {
        "id": "cqGCA-zmHdOI"
      },
      "source": [
        ""
      ]
    },
    {
      "cell_type": "code",
      "metadata": {
        "id": "d93Oz1JzG5Nm"
      },
      "source": [
        "# Reading  trian and test excel files using pandas and saving as df_train,df_test\n",
        "df_train = pd.read_excel('/content/Data_Train.xlsx')\n",
        "df_test= pd.read_excel('/content/Test_set.xlsx')"
      ],
      "execution_count": 134,
      "outputs": []
    },
    {
      "cell_type": "code",
      "metadata": {
        "colab": {
          "base_uri": "https://localhost:8080/",
          "height": 391
        },
        "id": "bmOFAa9SHpMV",
        "outputId": "83de04b4-cee2-4181-8efc-64bb61943090"
      },
      "source": [
        "#train dataset\n",
        "df_train.head()\n",
        "\n",
        "# Price is considered as the dependent variable, as it's value is depends on the variation of the independent featues."
      ],
      "execution_count": 135,
      "outputs": [
        {
          "output_type": "execute_result",
          "data": {
            "text/html": [
              "<div>\n",
              "<style scoped>\n",
              "    .dataframe tbody tr th:only-of-type {\n",
              "        vertical-align: middle;\n",
              "    }\n",
              "\n",
              "    .dataframe tbody tr th {\n",
              "        vertical-align: top;\n",
              "    }\n",
              "\n",
              "    .dataframe thead th {\n",
              "        text-align: right;\n",
              "    }\n",
              "</style>\n",
              "<table border=\"1\" class=\"dataframe\">\n",
              "  <thead>\n",
              "    <tr style=\"text-align: right;\">\n",
              "      <th></th>\n",
              "      <th>Airline</th>\n",
              "      <th>Date_of_Journey</th>\n",
              "      <th>Source</th>\n",
              "      <th>Destination</th>\n",
              "      <th>Route</th>\n",
              "      <th>Dep_Time</th>\n",
              "      <th>Arrival_Time</th>\n",
              "      <th>Duration</th>\n",
              "      <th>Total_Stops</th>\n",
              "      <th>Additional_Info</th>\n",
              "      <th>Price</th>\n",
              "    </tr>\n",
              "  </thead>\n",
              "  <tbody>\n",
              "    <tr>\n",
              "      <th>0</th>\n",
              "      <td>IndiGo</td>\n",
              "      <td>24/03/2019</td>\n",
              "      <td>Banglore</td>\n",
              "      <td>New Delhi</td>\n",
              "      <td>BLR → DEL</td>\n",
              "      <td>22:20</td>\n",
              "      <td>01:10 22 Mar</td>\n",
              "      <td>2h 50m</td>\n",
              "      <td>non-stop</td>\n",
              "      <td>No info</td>\n",
              "      <td>3897</td>\n",
              "    </tr>\n",
              "    <tr>\n",
              "      <th>1</th>\n",
              "      <td>Air India</td>\n",
              "      <td>1/05/2019</td>\n",
              "      <td>Kolkata</td>\n",
              "      <td>Banglore</td>\n",
              "      <td>CCU → IXR → BBI → BLR</td>\n",
              "      <td>05:50</td>\n",
              "      <td>13:15</td>\n",
              "      <td>7h 25m</td>\n",
              "      <td>2 stops</td>\n",
              "      <td>No info</td>\n",
              "      <td>7662</td>\n",
              "    </tr>\n",
              "    <tr>\n",
              "      <th>2</th>\n",
              "      <td>Jet Airways</td>\n",
              "      <td>9/06/2019</td>\n",
              "      <td>Delhi</td>\n",
              "      <td>Cochin</td>\n",
              "      <td>DEL → LKO → BOM → COK</td>\n",
              "      <td>09:25</td>\n",
              "      <td>04:25 10 Jun</td>\n",
              "      <td>19h</td>\n",
              "      <td>2 stops</td>\n",
              "      <td>No info</td>\n",
              "      <td>13882</td>\n",
              "    </tr>\n",
              "    <tr>\n",
              "      <th>3</th>\n",
              "      <td>IndiGo</td>\n",
              "      <td>12/05/2019</td>\n",
              "      <td>Kolkata</td>\n",
              "      <td>Banglore</td>\n",
              "      <td>CCU → NAG → BLR</td>\n",
              "      <td>18:05</td>\n",
              "      <td>23:30</td>\n",
              "      <td>5h 25m</td>\n",
              "      <td>1 stop</td>\n",
              "      <td>No info</td>\n",
              "      <td>6218</td>\n",
              "    </tr>\n",
              "    <tr>\n",
              "      <th>4</th>\n",
              "      <td>IndiGo</td>\n",
              "      <td>01/03/2019</td>\n",
              "      <td>Banglore</td>\n",
              "      <td>New Delhi</td>\n",
              "      <td>BLR → NAG → DEL</td>\n",
              "      <td>16:50</td>\n",
              "      <td>21:35</td>\n",
              "      <td>4h 45m</td>\n",
              "      <td>1 stop</td>\n",
              "      <td>No info</td>\n",
              "      <td>13302</td>\n",
              "    </tr>\n",
              "  </tbody>\n",
              "</table>\n",
              "</div>"
            ],
            "text/plain": [
              "       Airline Date_of_Journey    Source Destination                  Route  \\\n",
              "0       IndiGo      24/03/2019  Banglore   New Delhi              BLR → DEL   \n",
              "1    Air India       1/05/2019   Kolkata    Banglore  CCU → IXR → BBI → BLR   \n",
              "2  Jet Airways       9/06/2019     Delhi      Cochin  DEL → LKO → BOM → COK   \n",
              "3       IndiGo      12/05/2019   Kolkata    Banglore        CCU → NAG → BLR   \n",
              "4       IndiGo      01/03/2019  Banglore   New Delhi        BLR → NAG → DEL   \n",
              "\n",
              "  Dep_Time  Arrival_Time Duration Total_Stops Additional_Info  Price  \n",
              "0    22:20  01:10 22 Mar   2h 50m    non-stop         No info   3897  \n",
              "1    05:50         13:15   7h 25m     2 stops         No info   7662  \n",
              "2    09:25  04:25 10 Jun      19h     2 stops         No info  13882  \n",
              "3    18:05         23:30   5h 25m      1 stop         No info   6218  \n",
              "4    16:50         21:35   4h 45m      1 stop         No info  13302  "
            ]
          },
          "metadata": {
            "tags": []
          },
          "execution_count": 135
        }
      ]
    },
    {
      "cell_type": "code",
      "metadata": {
        "colab": {
          "base_uri": "https://localhost:8080/",
          "height": 272
        },
        "id": "hqtjmV0AHsxL",
        "outputId": "196c13e3-c645-4ea8-d67f-aaa034a7489c"
      },
      "source": [
        "# test dataset\n",
        "df_test.head()\n",
        "# this dataset doesn't have the target variable."
      ],
      "execution_count": 136,
      "outputs": [
        {
          "output_type": "execute_result",
          "data": {
            "text/html": [
              "<div>\n",
              "<style scoped>\n",
              "    .dataframe tbody tr th:only-of-type {\n",
              "        vertical-align: middle;\n",
              "    }\n",
              "\n",
              "    .dataframe tbody tr th {\n",
              "        vertical-align: top;\n",
              "    }\n",
              "\n",
              "    .dataframe thead th {\n",
              "        text-align: right;\n",
              "    }\n",
              "</style>\n",
              "<table border=\"1\" class=\"dataframe\">\n",
              "  <thead>\n",
              "    <tr style=\"text-align: right;\">\n",
              "      <th></th>\n",
              "      <th>Airline</th>\n",
              "      <th>Date_of_Journey</th>\n",
              "      <th>Source</th>\n",
              "      <th>Destination</th>\n",
              "      <th>Route</th>\n",
              "      <th>Dep_Time</th>\n",
              "      <th>Arrival_Time</th>\n",
              "      <th>Duration</th>\n",
              "      <th>Total_Stops</th>\n",
              "      <th>Additional_Info</th>\n",
              "    </tr>\n",
              "  </thead>\n",
              "  <tbody>\n",
              "    <tr>\n",
              "      <th>0</th>\n",
              "      <td>Jet Airways</td>\n",
              "      <td>6/06/2019</td>\n",
              "      <td>Delhi</td>\n",
              "      <td>Cochin</td>\n",
              "      <td>DEL → BOM → COK</td>\n",
              "      <td>17:30</td>\n",
              "      <td>04:25 07 Jun</td>\n",
              "      <td>10h 55m</td>\n",
              "      <td>1 stop</td>\n",
              "      <td>No info</td>\n",
              "    </tr>\n",
              "    <tr>\n",
              "      <th>1</th>\n",
              "      <td>IndiGo</td>\n",
              "      <td>12/05/2019</td>\n",
              "      <td>Kolkata</td>\n",
              "      <td>Banglore</td>\n",
              "      <td>CCU → MAA → BLR</td>\n",
              "      <td>06:20</td>\n",
              "      <td>10:20</td>\n",
              "      <td>4h</td>\n",
              "      <td>1 stop</td>\n",
              "      <td>No info</td>\n",
              "    </tr>\n",
              "    <tr>\n",
              "      <th>2</th>\n",
              "      <td>Jet Airways</td>\n",
              "      <td>21/05/2019</td>\n",
              "      <td>Delhi</td>\n",
              "      <td>Cochin</td>\n",
              "      <td>DEL → BOM → COK</td>\n",
              "      <td>19:15</td>\n",
              "      <td>19:00 22 May</td>\n",
              "      <td>23h 45m</td>\n",
              "      <td>1 stop</td>\n",
              "      <td>In-flight meal not included</td>\n",
              "    </tr>\n",
              "    <tr>\n",
              "      <th>3</th>\n",
              "      <td>Multiple carriers</td>\n",
              "      <td>21/05/2019</td>\n",
              "      <td>Delhi</td>\n",
              "      <td>Cochin</td>\n",
              "      <td>DEL → BOM → COK</td>\n",
              "      <td>08:00</td>\n",
              "      <td>21:00</td>\n",
              "      <td>13h</td>\n",
              "      <td>1 stop</td>\n",
              "      <td>No info</td>\n",
              "    </tr>\n",
              "    <tr>\n",
              "      <th>4</th>\n",
              "      <td>Air Asia</td>\n",
              "      <td>24/06/2019</td>\n",
              "      <td>Banglore</td>\n",
              "      <td>Delhi</td>\n",
              "      <td>BLR → DEL</td>\n",
              "      <td>23:55</td>\n",
              "      <td>02:45 25 Jun</td>\n",
              "      <td>2h 50m</td>\n",
              "      <td>non-stop</td>\n",
              "      <td>No info</td>\n",
              "    </tr>\n",
              "  </tbody>\n",
              "</table>\n",
              "</div>"
            ],
            "text/plain": [
              "             Airline Date_of_Journey    Source Destination            Route  \\\n",
              "0        Jet Airways       6/06/2019     Delhi      Cochin  DEL → BOM → COK   \n",
              "1             IndiGo      12/05/2019   Kolkata    Banglore  CCU → MAA → BLR   \n",
              "2        Jet Airways      21/05/2019     Delhi      Cochin  DEL → BOM → COK   \n",
              "3  Multiple carriers      21/05/2019     Delhi      Cochin  DEL → BOM → COK   \n",
              "4           Air Asia      24/06/2019  Banglore       Delhi        BLR → DEL   \n",
              "\n",
              "  Dep_Time  Arrival_Time Duration Total_Stops              Additional_Info  \n",
              "0    17:30  04:25 07 Jun  10h 55m      1 stop                      No info  \n",
              "1    06:20         10:20       4h      1 stop                      No info  \n",
              "2    19:15  19:00 22 May  23h 45m      1 stop  In-flight meal not included  \n",
              "3    08:00         21:00      13h      1 stop                      No info  \n",
              "4    23:55  02:45 25 Jun   2h 50m    non-stop                      No info  "
            ]
          },
          "metadata": {
            "tags": []
          },
          "execution_count": 136
        }
      ]
    },
    {
      "cell_type": "code",
      "metadata": {
        "colab": {
          "base_uri": "https://localhost:8080/"
        },
        "id": "qkXo9duJI5f-",
        "outputId": "aeef8e83-785b-4049-89e6-cfe068167d9e"
      },
      "source": [
        "# printing the number of columns and rows in train and test data as well as the type of data present in the datasets.\n",
        "print(df_train.shape)\n",
        "print(df_test.shape)\n",
        "print('****')\n",
        "print(df_train.dtypes)\n",
        "print('**** ')\n",
        "print(df_test.dtypes)\n",
        "print('****')\n",
        "print(df_train.columns)\n",
        "print('****')\n",
        "print(df_test.columns)"
      ],
      "execution_count": 137,
      "outputs": [
        {
          "output_type": "stream",
          "text": [
            "(10683, 11)\n",
            "(2671, 10)\n",
            "****\n",
            "Airline            object\n",
            "Date_of_Journey    object\n",
            "Source             object\n",
            "Destination        object\n",
            "Route              object\n",
            "Dep_Time           object\n",
            "Arrival_Time       object\n",
            "Duration           object\n",
            "Total_Stops        object\n",
            "Additional_Info    object\n",
            "Price               int64\n",
            "dtype: object\n",
            "**** \n",
            "Airline            object\n",
            "Date_of_Journey    object\n",
            "Source             object\n",
            "Destination        object\n",
            "Route              object\n",
            "Dep_Time           object\n",
            "Arrival_Time       object\n",
            "Duration           object\n",
            "Total_Stops        object\n",
            "Additional_Info    object\n",
            "dtype: object\n",
            "****\n",
            "Index(['Airline', 'Date_of_Journey', 'Source', 'Destination', 'Route',\n",
            "       'Dep_Time', 'Arrival_Time', 'Duration', 'Total_Stops',\n",
            "       'Additional_Info', 'Price'],\n",
            "      dtype='object')\n",
            "****\n",
            "Index(['Airline', 'Date_of_Journey', 'Source', 'Destination', 'Route',\n",
            "       'Dep_Time', 'Arrival_Time', 'Duration', 'Total_Stops',\n",
            "       'Additional_Info'],\n",
            "      dtype='object')\n"
          ],
          "name": "stdout"
        }
      ]
    },
    {
      "cell_type": "markdown",
      "metadata": {
        "id": "XVoLzWvIJFGl"
      },
      "source": [
        "**From above datasets we can observe that train data is having with 10683 rows and 11 columns, whereas test is containing 2671 rows and 10 columns, the target column is not present the test data. All the columns present in  train dataset and train data except the dependent variable 'price'(int type)  are in object type.**"
      ]
    },
    {
      "cell_type": "markdown",
      "metadata": {
        "id": "ATUjkKcLJW0a"
      },
      "source": [
        "## Combining the train and test datasets to perform data preprocessing"
      ]
    },
    {
      "cell_type": "code",
      "metadata": {
        "colab": {
          "base_uri": "https://localhost:8080/",
          "height": 1000
        },
        "id": "495c-Tz4JMcs",
        "outputId": "1e80998c-d94c-45ac-94f0-a03d3ff56859"
      },
      "source": [
        "# adding a column which is useful to differentiate the train and test data.\n",
        "df_train['Temp']=\"Train\"\n",
        "df_test['Temp']=\"Test\"\n",
        "df = pd.concat([df_train,df_test],ignore_index=True)\n",
        "df\n",
        "# Temp column is added"
      ],
      "execution_count": 138,
      "outputs": [
        {
          "output_type": "execute_result",
          "data": {
            "text/html": [
              "<div>\n",
              "<style scoped>\n",
              "    .dataframe tbody tr th:only-of-type {\n",
              "        vertical-align: middle;\n",
              "    }\n",
              "\n",
              "    .dataframe tbody tr th {\n",
              "        vertical-align: top;\n",
              "    }\n",
              "\n",
              "    .dataframe thead th {\n",
              "        text-align: right;\n",
              "    }\n",
              "</style>\n",
              "<table border=\"1\" class=\"dataframe\">\n",
              "  <thead>\n",
              "    <tr style=\"text-align: right;\">\n",
              "      <th></th>\n",
              "      <th>Airline</th>\n",
              "      <th>Date_of_Journey</th>\n",
              "      <th>Source</th>\n",
              "      <th>Destination</th>\n",
              "      <th>Route</th>\n",
              "      <th>Dep_Time</th>\n",
              "      <th>Arrival_Time</th>\n",
              "      <th>Duration</th>\n",
              "      <th>Total_Stops</th>\n",
              "      <th>Additional_Info</th>\n",
              "      <th>Price</th>\n",
              "      <th>Temp</th>\n",
              "    </tr>\n",
              "  </thead>\n",
              "  <tbody>\n",
              "    <tr>\n",
              "      <th>0</th>\n",
              "      <td>IndiGo</td>\n",
              "      <td>24/03/2019</td>\n",
              "      <td>Banglore</td>\n",
              "      <td>New Delhi</td>\n",
              "      <td>BLR → DEL</td>\n",
              "      <td>22:20</td>\n",
              "      <td>01:10 22 Mar</td>\n",
              "      <td>2h 50m</td>\n",
              "      <td>non-stop</td>\n",
              "      <td>No info</td>\n",
              "      <td>3897.0</td>\n",
              "      <td>Train</td>\n",
              "    </tr>\n",
              "    <tr>\n",
              "      <th>1</th>\n",
              "      <td>Air India</td>\n",
              "      <td>1/05/2019</td>\n",
              "      <td>Kolkata</td>\n",
              "      <td>Banglore</td>\n",
              "      <td>CCU → IXR → BBI → BLR</td>\n",
              "      <td>05:50</td>\n",
              "      <td>13:15</td>\n",
              "      <td>7h 25m</td>\n",
              "      <td>2 stops</td>\n",
              "      <td>No info</td>\n",
              "      <td>7662.0</td>\n",
              "      <td>Train</td>\n",
              "    </tr>\n",
              "    <tr>\n",
              "      <th>2</th>\n",
              "      <td>Jet Airways</td>\n",
              "      <td>9/06/2019</td>\n",
              "      <td>Delhi</td>\n",
              "      <td>Cochin</td>\n",
              "      <td>DEL → LKO → BOM → COK</td>\n",
              "      <td>09:25</td>\n",
              "      <td>04:25 10 Jun</td>\n",
              "      <td>19h</td>\n",
              "      <td>2 stops</td>\n",
              "      <td>No info</td>\n",
              "      <td>13882.0</td>\n",
              "      <td>Train</td>\n",
              "    </tr>\n",
              "    <tr>\n",
              "      <th>3</th>\n",
              "      <td>IndiGo</td>\n",
              "      <td>12/05/2019</td>\n",
              "      <td>Kolkata</td>\n",
              "      <td>Banglore</td>\n",
              "      <td>CCU → NAG → BLR</td>\n",
              "      <td>18:05</td>\n",
              "      <td>23:30</td>\n",
              "      <td>5h 25m</td>\n",
              "      <td>1 stop</td>\n",
              "      <td>No info</td>\n",
              "      <td>6218.0</td>\n",
              "      <td>Train</td>\n",
              "    </tr>\n",
              "    <tr>\n",
              "      <th>4</th>\n",
              "      <td>IndiGo</td>\n",
              "      <td>01/03/2019</td>\n",
              "      <td>Banglore</td>\n",
              "      <td>New Delhi</td>\n",
              "      <td>BLR → NAG → DEL</td>\n",
              "      <td>16:50</td>\n",
              "      <td>21:35</td>\n",
              "      <td>4h 45m</td>\n",
              "      <td>1 stop</td>\n",
              "      <td>No info</td>\n",
              "      <td>13302.0</td>\n",
              "      <td>Train</td>\n",
              "    </tr>\n",
              "    <tr>\n",
              "      <th>...</th>\n",
              "      <td>...</td>\n",
              "      <td>...</td>\n",
              "      <td>...</td>\n",
              "      <td>...</td>\n",
              "      <td>...</td>\n",
              "      <td>...</td>\n",
              "      <td>...</td>\n",
              "      <td>...</td>\n",
              "      <td>...</td>\n",
              "      <td>...</td>\n",
              "      <td>...</td>\n",
              "      <td>...</td>\n",
              "    </tr>\n",
              "    <tr>\n",
              "      <th>13349</th>\n",
              "      <td>Air India</td>\n",
              "      <td>6/06/2019</td>\n",
              "      <td>Kolkata</td>\n",
              "      <td>Banglore</td>\n",
              "      <td>CCU → DEL → BLR</td>\n",
              "      <td>20:30</td>\n",
              "      <td>20:25 07 Jun</td>\n",
              "      <td>23h 55m</td>\n",
              "      <td>1 stop</td>\n",
              "      <td>No info</td>\n",
              "      <td>NaN</td>\n",
              "      <td>Test</td>\n",
              "    </tr>\n",
              "    <tr>\n",
              "      <th>13350</th>\n",
              "      <td>IndiGo</td>\n",
              "      <td>27/03/2019</td>\n",
              "      <td>Kolkata</td>\n",
              "      <td>Banglore</td>\n",
              "      <td>CCU → BLR</td>\n",
              "      <td>14:20</td>\n",
              "      <td>16:55</td>\n",
              "      <td>2h 35m</td>\n",
              "      <td>non-stop</td>\n",
              "      <td>No info</td>\n",
              "      <td>NaN</td>\n",
              "      <td>Test</td>\n",
              "    </tr>\n",
              "    <tr>\n",
              "      <th>13351</th>\n",
              "      <td>Jet Airways</td>\n",
              "      <td>6/03/2019</td>\n",
              "      <td>Delhi</td>\n",
              "      <td>Cochin</td>\n",
              "      <td>DEL → BOM → COK</td>\n",
              "      <td>21:50</td>\n",
              "      <td>04:25 07 Mar</td>\n",
              "      <td>6h 35m</td>\n",
              "      <td>1 stop</td>\n",
              "      <td>No info</td>\n",
              "      <td>NaN</td>\n",
              "      <td>Test</td>\n",
              "    </tr>\n",
              "    <tr>\n",
              "      <th>13352</th>\n",
              "      <td>Air India</td>\n",
              "      <td>6/03/2019</td>\n",
              "      <td>Delhi</td>\n",
              "      <td>Cochin</td>\n",
              "      <td>DEL → BOM → COK</td>\n",
              "      <td>04:00</td>\n",
              "      <td>19:15</td>\n",
              "      <td>15h 15m</td>\n",
              "      <td>1 stop</td>\n",
              "      <td>No info</td>\n",
              "      <td>NaN</td>\n",
              "      <td>Test</td>\n",
              "    </tr>\n",
              "    <tr>\n",
              "      <th>13353</th>\n",
              "      <td>Multiple carriers</td>\n",
              "      <td>15/06/2019</td>\n",
              "      <td>Delhi</td>\n",
              "      <td>Cochin</td>\n",
              "      <td>DEL → BOM → COK</td>\n",
              "      <td>04:55</td>\n",
              "      <td>19:15</td>\n",
              "      <td>14h 20m</td>\n",
              "      <td>1 stop</td>\n",
              "      <td>No info</td>\n",
              "      <td>NaN</td>\n",
              "      <td>Test</td>\n",
              "    </tr>\n",
              "  </tbody>\n",
              "</table>\n",
              "<p>13354 rows × 12 columns</p>\n",
              "</div>"
            ],
            "text/plain": [
              "                 Airline Date_of_Journey    Source Destination  \\\n",
              "0                 IndiGo      24/03/2019  Banglore   New Delhi   \n",
              "1              Air India       1/05/2019   Kolkata    Banglore   \n",
              "2            Jet Airways       9/06/2019     Delhi      Cochin   \n",
              "3                 IndiGo      12/05/2019   Kolkata    Banglore   \n",
              "4                 IndiGo      01/03/2019  Banglore   New Delhi   \n",
              "...                  ...             ...       ...         ...   \n",
              "13349          Air India       6/06/2019   Kolkata    Banglore   \n",
              "13350             IndiGo      27/03/2019   Kolkata    Banglore   \n",
              "13351        Jet Airways       6/03/2019     Delhi      Cochin   \n",
              "13352          Air India       6/03/2019     Delhi      Cochin   \n",
              "13353  Multiple carriers      15/06/2019     Delhi      Cochin   \n",
              "\n",
              "                       Route Dep_Time  Arrival_Time Duration Total_Stops  \\\n",
              "0                  BLR → DEL    22:20  01:10 22 Mar   2h 50m    non-stop   \n",
              "1      CCU → IXR → BBI → BLR    05:50         13:15   7h 25m     2 stops   \n",
              "2      DEL → LKO → BOM → COK    09:25  04:25 10 Jun      19h     2 stops   \n",
              "3            CCU → NAG → BLR    18:05         23:30   5h 25m      1 stop   \n",
              "4            BLR → NAG → DEL    16:50         21:35   4h 45m      1 stop   \n",
              "...                      ...      ...           ...      ...         ...   \n",
              "13349        CCU → DEL → BLR    20:30  20:25 07 Jun  23h 55m      1 stop   \n",
              "13350              CCU → BLR    14:20         16:55   2h 35m    non-stop   \n",
              "13351        DEL → BOM → COK    21:50  04:25 07 Mar   6h 35m      1 stop   \n",
              "13352        DEL → BOM → COK    04:00         19:15  15h 15m      1 stop   \n",
              "13353        DEL → BOM → COK    04:55         19:15  14h 20m      1 stop   \n",
              "\n",
              "      Additional_Info    Price   Temp  \n",
              "0             No info   3897.0  Train  \n",
              "1             No info   7662.0  Train  \n",
              "2             No info  13882.0  Train  \n",
              "3             No info   6218.0  Train  \n",
              "4             No info  13302.0  Train  \n",
              "...               ...      ...    ...  \n",
              "13349         No info      NaN   Test  \n",
              "13350         No info      NaN   Test  \n",
              "13351         No info      NaN   Test  \n",
              "13352         No info      NaN   Test  \n",
              "13353         No info      NaN   Test  \n",
              "\n",
              "[13354 rows x 12 columns]"
            ]
          },
          "metadata": {
            "tags": []
          },
          "execution_count": 138
        }
      ]
    },
    {
      "cell_type": "markdown",
      "metadata": {
        "id": "NgWuqwxnJfRp"
      },
      "source": [
        "**df dataset is created by concating the train and test datasets. here in test data rows target variable data is filled NaN values as there is no target variable is present in test dataset.**"
      ]
    },
    {
      "cell_type": "markdown",
      "metadata": {
        "id": "4oQcGCaDJoQH"
      },
      "source": [
        "## EDA (Exploratory Data Analysis)"
      ]
    },
    {
      "cell_type": "code",
      "metadata": {
        "colab": {
          "base_uri": "https://localhost:8080/"
        },
        "id": "MA7mnxWkJa7G",
        "outputId": "9e43cb7f-e42b-4f40-f156-8e7683986209"
      },
      "source": [
        "df.shape"
      ],
      "execution_count": 139,
      "outputs": [
        {
          "output_type": "execute_result",
          "data": {
            "text/plain": [
              "(13354, 12)"
            ]
          },
          "metadata": {
            "tags": []
          },
          "execution_count": 139
        }
      ]
    },
    {
      "cell_type": "markdown",
      "metadata": {
        "id": "Z4dk7hDHJtXJ"
      },
      "source": [
        "The df dataset contains 13354 rows and 11 columns."
      ]
    },
    {
      "cell_type": "code",
      "metadata": {
        "colab": {
          "base_uri": "https://localhost:8080/"
        },
        "id": "VgKAdgSRJspe",
        "outputId": "ec845d66-58e5-4303-8a2a-ad7b786149fe"
      },
      "source": [
        "df.columns"
      ],
      "execution_count": 140,
      "outputs": [
        {
          "output_type": "execute_result",
          "data": {
            "text/plain": [
              "Index(['Airline', 'Date_of_Journey', 'Source', 'Destination', 'Route',\n",
              "       'Dep_Time', 'Arrival_Time', 'Duration', 'Total_Stops',\n",
              "       'Additional_Info', 'Price', 'Temp'],\n",
              "      dtype='object')"
            ]
          },
          "metadata": {
            "tags": []
          },
          "execution_count": 140
        }
      ]
    },
    {
      "cell_type": "markdown",
      "metadata": {
        "id": "I90W1PkKJ0v-"
      },
      "source": [
        "printing the column names ."
      ]
    },
    {
      "cell_type": "code",
      "metadata": {
        "colab": {
          "base_uri": "https://localhost:8080/"
        },
        "id": "qvv1eqJOJ0N5",
        "outputId": "ae94ddd4-86bf-4fa3-88dc-bd3dc2e60d67"
      },
      "source": [
        "df.info()\n",
        "# information about the df dataset"
      ],
      "execution_count": 141,
      "outputs": [
        {
          "output_type": "stream",
          "text": [
            "<class 'pandas.core.frame.DataFrame'>\n",
            "RangeIndex: 13354 entries, 0 to 13353\n",
            "Data columns (total 12 columns):\n",
            " #   Column           Non-Null Count  Dtype  \n",
            "---  ------           --------------  -----  \n",
            " 0   Airline          13354 non-null  object \n",
            " 1   Date_of_Journey  13354 non-null  object \n",
            " 2   Source           13354 non-null  object \n",
            " 3   Destination      13354 non-null  object \n",
            " 4   Route            13353 non-null  object \n",
            " 5   Dep_Time         13354 non-null  object \n",
            " 6   Arrival_Time     13354 non-null  object \n",
            " 7   Duration         13354 non-null  object \n",
            " 8   Total_Stops      13353 non-null  object \n",
            " 9   Additional_Info  13354 non-null  object \n",
            " 10  Price            10683 non-null  float64\n",
            " 11  Temp             13354 non-null  object \n",
            "dtypes: float64(1), object(11)\n",
            "memory usage: 1.2+ MB\n"
          ],
          "name": "stdout"
        }
      ]
    },
    {
      "cell_type": "code",
      "metadata": {
        "colab": {
          "base_uri": "https://localhost:8080/"
        },
        "id": "XB5YV9DeJ6G6",
        "outputId": "56baa771-652c-4ff7-8cad-5e51148d7a3c"
      },
      "source": [
        "# checking null values\n",
        "df.isnull().sum()"
      ],
      "execution_count": 142,
      "outputs": [
        {
          "output_type": "execute_result",
          "data": {
            "text/plain": [
              "Airline               0\n",
              "Date_of_Journey       0\n",
              "Source                0\n",
              "Destination           0\n",
              "Route                 1\n",
              "Dep_Time              0\n",
              "Arrival_Time          0\n",
              "Duration              0\n",
              "Total_Stops           1\n",
              "Additional_Info       0\n",
              "Price              2671\n",
              "Temp                  0\n",
              "dtype: int64"
            ]
          },
          "metadata": {
            "tags": []
          },
          "execution_count": 142
        }
      ]
    },
    {
      "cell_type": "markdown",
      "metadata": {
        "id": "-VNVqEnjKBVd"
      },
      "source": [
        "The Route and Total_Stops features are having null values and the concated test data is not having target values(price column), so it is showing null values ."
      ]
    },
    {
      "cell_type": "code",
      "metadata": {
        "colab": {
          "base_uri": "https://localhost:8080/"
        },
        "id": "9a_gCvBZJ-JF",
        "outputId": "5105de87-7eef-4a46-ffbb-f878e2edc5c4"
      },
      "source": [
        "df.dtypes"
      ],
      "execution_count": 143,
      "outputs": [
        {
          "output_type": "execute_result",
          "data": {
            "text/plain": [
              "Airline             object\n",
              "Date_of_Journey     object\n",
              "Source              object\n",
              "Destination         object\n",
              "Route               object\n",
              "Dep_Time            object\n",
              "Arrival_Time        object\n",
              "Duration            object\n",
              "Total_Stops         object\n",
              "Additional_Info     object\n",
              "Price              float64\n",
              "Temp                object\n",
              "dtype: object"
            ]
          },
          "metadata": {
            "tags": []
          },
          "execution_count": 143
        }
      ]
    },
    {
      "cell_type": "markdown",
      "metadata": {
        "id": "JeYoVhjFKGqo"
      },
      "source": [
        "shows the type of data present in a feature."
      ]
    },
    {
      "cell_type": "markdown",
      "metadata": {
        "id": "i9GCVJc8KRQv"
      },
      "source": [
        "## Statistical information :- "
      ]
    },
    {
      "cell_type": "code",
      "metadata": {
        "colab": {
          "base_uri": "https://localhost:8080/",
          "height": 297
        },
        "id": "5bsAjOwVKF2U",
        "outputId": "ee86ff4e-b3b2-476e-a280-967b30723d81"
      },
      "source": [
        "df.describe()"
      ],
      "execution_count": 144,
      "outputs": [
        {
          "output_type": "execute_result",
          "data": {
            "text/html": [
              "<div>\n",
              "<style scoped>\n",
              "    .dataframe tbody tr th:only-of-type {\n",
              "        vertical-align: middle;\n",
              "    }\n",
              "\n",
              "    .dataframe tbody tr th {\n",
              "        vertical-align: top;\n",
              "    }\n",
              "\n",
              "    .dataframe thead th {\n",
              "        text-align: right;\n",
              "    }\n",
              "</style>\n",
              "<table border=\"1\" class=\"dataframe\">\n",
              "  <thead>\n",
              "    <tr style=\"text-align: right;\">\n",
              "      <th></th>\n",
              "      <th>Price</th>\n",
              "    </tr>\n",
              "  </thead>\n",
              "  <tbody>\n",
              "    <tr>\n",
              "      <th>count</th>\n",
              "      <td>10683.000000</td>\n",
              "    </tr>\n",
              "    <tr>\n",
              "      <th>mean</th>\n",
              "      <td>9087.064121</td>\n",
              "    </tr>\n",
              "    <tr>\n",
              "      <th>std</th>\n",
              "      <td>4611.359167</td>\n",
              "    </tr>\n",
              "    <tr>\n",
              "      <th>min</th>\n",
              "      <td>1759.000000</td>\n",
              "    </tr>\n",
              "    <tr>\n",
              "      <th>25%</th>\n",
              "      <td>5277.000000</td>\n",
              "    </tr>\n",
              "    <tr>\n",
              "      <th>50%</th>\n",
              "      <td>8372.000000</td>\n",
              "    </tr>\n",
              "    <tr>\n",
              "      <th>75%</th>\n",
              "      <td>12373.000000</td>\n",
              "    </tr>\n",
              "    <tr>\n",
              "      <th>max</th>\n",
              "      <td>79512.000000</td>\n",
              "    </tr>\n",
              "  </tbody>\n",
              "</table>\n",
              "</div>"
            ],
            "text/plain": [
              "              Price\n",
              "count  10683.000000\n",
              "mean    9087.064121\n",
              "std     4611.359167\n",
              "min     1759.000000\n",
              "25%     5277.000000\n",
              "50%     8372.000000\n",
              "75%    12373.000000\n",
              "max    79512.000000"
            ]
          },
          "metadata": {
            "tags": []
          },
          "execution_count": 144
        }
      ]
    },
    {
      "cell_type": "markdown",
      "metadata": {
        "id": "_8qxpki4KNbm"
      },
      "source": [
        "since all are in object type so only price column is displaying."
      ]
    },
    {
      "cell_type": "code",
      "metadata": {
        "colab": {
          "base_uri": "https://localhost:8080/"
        },
        "id": "DgmP9YW6KMsY",
        "outputId": "d7426db7-c279-49e5-c0e3-e96f3fa51de0"
      },
      "source": [
        "# Printing the unique number of values and their value counts in each feature.\n",
        "print(df.nunique())"
      ],
      "execution_count": 145,
      "outputs": [
        {
          "output_type": "stream",
          "text": [
            "Airline              12\n",
            "Date_of_Journey      44\n",
            "Source                5\n",
            "Destination           6\n",
            "Route               132\n",
            "Dep_Time            223\n",
            "Arrival_Time       1451\n",
            "Duration            374\n",
            "Total_Stops           5\n",
            "Additional_Info      10\n",
            "Price              1870\n",
            "Temp                  2\n",
            "dtype: int64\n"
          ],
          "name": "stdout"
        }
      ]
    },
    {
      "cell_type": "markdown",
      "metadata": {
        "id": "FMJ8Qz8QKm2L"
      },
      "source": [
        "## Data Preprocessing"
      ]
    },
    {
      "cell_type": "code",
      "metadata": {
        "colab": {
          "base_uri": "https://localhost:8080/"
        },
        "id": "kKpwo-P6KkOp",
        "outputId": "72f15157-c6c3-4468-a8c2-8295ee3ddcae"
      },
      "source": [
        "# filling null values \n",
        "df.isnull().sum()\n",
        "# except the target variable,we have only two null values in Route and Total_stops columns."
      ],
      "execution_count": 146,
      "outputs": [
        {
          "output_type": "execute_result",
          "data": {
            "text/plain": [
              "Airline               0\n",
              "Date_of_Journey       0\n",
              "Source                0\n",
              "Destination           0\n",
              "Route                 1\n",
              "Dep_Time              0\n",
              "Arrival_Time          0\n",
              "Duration              0\n",
              "Total_Stops           1\n",
              "Additional_Info       0\n",
              "Price              2671\n",
              "Temp                  0\n",
              "dtype: int64"
            ]
          },
          "metadata": {
            "tags": []
          },
          "execution_count": 146
        }
      ]
    },
    {
      "cell_type": "code",
      "metadata": {
        "id": "q-AgXmVaKqEL"
      },
      "source": [
        "#Route column\n",
        "# filling with mode value since it is a object type \n",
        "df['Route']=df['Route'].fillna(df['Route'].mode()[0])"
      ],
      "execution_count": 147,
      "outputs": []
    },
    {
      "cell_type": "code",
      "metadata": {
        "colab": {
          "base_uri": "https://localhost:8080/"
        },
        "id": "jLK5G9vIKs3p",
        "outputId": "8ae2f9d0-3e4a-40d2-b98b-000f7fc9f7ea"
      },
      "source": [
        "df['Route'].isnull().sum()"
      ],
      "execution_count": 148,
      "outputs": [
        {
          "output_type": "execute_result",
          "data": {
            "text/plain": [
              "0"
            ]
          },
          "metadata": {
            "tags": []
          },
          "execution_count": 148
        }
      ]
    },
    {
      "cell_type": "code",
      "metadata": {
        "id": "NvlsakYaKutD"
      },
      "source": [
        "#Total_Stops column\n",
        "# filling with mode value since it is a object type \n",
        "df['Total_Stops']=df['Total_Stops'].fillna(df['Total_Stops'].mode()[0])"
      ],
      "execution_count": 149,
      "outputs": []
    },
    {
      "cell_type": "code",
      "metadata": {
        "colab": {
          "base_uri": "https://localhost:8080/"
        },
        "id": "YX5pcDAWKxg7",
        "outputId": "f517c85f-7ec1-4e5f-a8df-e6f9e4e1a1f7"
      },
      "source": [
        "# Null values are handled.\n",
        "df.isnull().sum()"
      ],
      "execution_count": 150,
      "outputs": [
        {
          "output_type": "execute_result",
          "data": {
            "text/plain": [
              "Airline               0\n",
              "Date_of_Journey       0\n",
              "Source                0\n",
              "Destination           0\n",
              "Route                 0\n",
              "Dep_Time              0\n",
              "Arrival_Time          0\n",
              "Duration              0\n",
              "Total_Stops           0\n",
              "Additional_Info       0\n",
              "Price              2671\n",
              "Temp                  0\n",
              "dtype: int64"
            ]
          },
          "metadata": {
            "tags": []
          },
          "execution_count": 150
        }
      ]
    },
    {
      "cell_type": "markdown",
      "metadata": {
        "id": "LIuiodhzK2kP"
      },
      "source": [
        "\n",
        "## Feature Engineering"
      ]
    },
    {
      "cell_type": "code",
      "metadata": {
        "colab": {
          "base_uri": "https://localhost:8080/"
        },
        "id": "gOin6DB-Kzv5",
        "outputId": "27e6c7e3-8655-486d-f990-8fc6c6e55882"
      },
      "source": [
        "# Checking the unique valeus and value_counts in Airline column \n",
        "print(df['Airline'].value_counts())\n",
        "print('')\n",
        "df['Airline'].nunique()\n",
        "# This feature is having 12 unique values."
      ],
      "execution_count": 151,
      "outputs": [
        {
          "output_type": "stream",
          "text": [
            "Jet Airways                          4746\n",
            "IndiGo                               2564\n",
            "Air India                            2192\n",
            "Multiple carriers                    1543\n",
            "SpiceJet                             1026\n",
            "Vistara                               608\n",
            "Air Asia                              405\n",
            "GoAir                                 240\n",
            "Multiple carriers Premium economy      16\n",
            "Jet Airways Business                    8\n",
            "Vistara Premium economy                 5\n",
            "Trujet                                  1\n",
            "Name: Airline, dtype: int64\n",
            "\n"
          ],
          "name": "stdout"
        },
        {
          "output_type": "execute_result",
          "data": {
            "text/plain": [
              "12"
            ]
          },
          "metadata": {
            "tags": []
          },
          "execution_count": 151
        }
      ]
    },
    {
      "cell_type": "markdown",
      "metadata": {
        "id": "-Zw-DxHhLJwG"
      },
      "source": [
        "# checking duplictes and adding them to a single catageory\n",
        "\n",
        "we can replace Jet Airways Business with Jet Airways,similarly Multiple carriers Premium economy with Multiple carriers, and Vistara Premium economy with Vistara. "
      ]
    },
    {
      "cell_type": "code",
      "metadata": {
        "id": "uLGq0IlmK6ux"
      },
      "source": [
        "df[\"Airline\"].replace(\"Jet Airways Business\",\"Jet Airways\",inplace=True)\n",
        "df[\"Airline\"].replace(\"Multiple carriers Premium economy\",\"Multiple carriers\",inplace=True)\n",
        "df[\"Airline\"].replace(\"Vistara Premium economy\",\"Vistara\",inplace=True)"
      ],
      "execution_count": 152,
      "outputs": []
    },
    {
      "cell_type": "code",
      "metadata": {
        "colab": {
          "base_uri": "https://localhost:8080/"
        },
        "id": "tjXVY-1aK-sg",
        "outputId": "a084bcf5-fa88-4dbd-c5ca-1b3bcb48746a"
      },
      "source": [
        "# we can see the updated value counts in below table.\n",
        "df['Airline'].value_counts()"
      ],
      "execution_count": 153,
      "outputs": [
        {
          "output_type": "execute_result",
          "data": {
            "text/plain": [
              "Jet Airways          4754\n",
              "IndiGo               2564\n",
              "Air India            2192\n",
              "Multiple carriers    1559\n",
              "SpiceJet             1026\n",
              "Vistara               613\n",
              "Air Asia              405\n",
              "GoAir                 240\n",
              "Trujet                  1\n",
              "Name: Airline, dtype: int64"
            ]
          },
          "metadata": {
            "tags": []
          },
          "execution_count": 153
        }
      ]
    },
    {
      "cell_type": "markdown",
      "metadata": {
        "id": "xWmryk9MLaML"
      },
      "source": [
        "**Date_of_Journey, Dep_Time,Arrival_Time are in object, so converting them into datettime format.**"
      ]
    },
    {
      "cell_type": "markdown",
      "metadata": {
        "id": "ed3kytBFLgIZ"
      },
      "source": [
        "## creating a function to convert the respective values to datetime format."
      ]
    },
    {
      "cell_type": "code",
      "metadata": {
        "id": "hV3qP9-QLBI7"
      },
      "source": [
        "def datetime(col):\n",
        "    df[col]=pd.to_datetime(df[col])"
      ],
      "execution_count": 154,
      "outputs": []
    },
    {
      "cell_type": "code",
      "metadata": {
        "colab": {
          "base_uri": "https://localhost:8080/"
        },
        "id": "zw8ZnyvKLi_9",
        "outputId": "9a9c306e-68b7-4195-a17c-e3c5c456a8cd"
      },
      "source": [
        "df.columns"
      ],
      "execution_count": 155,
      "outputs": [
        {
          "output_type": "execute_result",
          "data": {
            "text/plain": [
              "Index(['Airline', 'Date_of_Journey', 'Source', 'Destination', 'Route',\n",
              "       'Dep_Time', 'Arrival_Time', 'Duration', 'Total_Stops',\n",
              "       'Additional_Info', 'Price', 'Temp'],\n",
              "      dtype='object')"
            ]
          },
          "metadata": {
            "tags": []
          },
          "execution_count": 155
        }
      ]
    },
    {
      "cell_type": "code",
      "metadata": {
        "id": "DMZwRaQJLkox"
      },
      "source": [
        "for i in ['Date_of_Journey','Dep_Time', 'Arrival_Time']:\n",
        "    datetime(i)"
      ],
      "execution_count": 156,
      "outputs": []
    },
    {
      "cell_type": "code",
      "metadata": {
        "colab": {
          "base_uri": "https://localhost:8080/"
        },
        "id": "aC_FSCa3LnK4",
        "outputId": "22c0febd-8b33-46f6-d580-4c8ec4126388"
      },
      "source": [
        "# we can observe that the three columns are changed datetime foramt\n",
        "df.dtypes"
      ],
      "execution_count": 157,
      "outputs": [
        {
          "output_type": "execute_result",
          "data": {
            "text/plain": [
              "Airline                    object\n",
              "Date_of_Journey    datetime64[ns]\n",
              "Source                     object\n",
              "Destination                object\n",
              "Route                      object\n",
              "Dep_Time           datetime64[ns]\n",
              "Arrival_Time       datetime64[ns]\n",
              "Duration                   object\n",
              "Total_Stops                object\n",
              "Additional_Info            object\n",
              "Price                     float64\n",
              "Temp                       object\n",
              "dtype: object"
            ]
          },
          "metadata": {
            "tags": []
          },
          "execution_count": 157
        }
      ]
    },
    {
      "cell_type": "markdown",
      "metadata": {
        "id": "P5iv2SsBLtpW"
      },
      "source": [
        "**In below table we observed that all the three columns date are in order i.e., Dep time is in 2021 and all are same dates,Arrival date is not in sync with the Dep_time. so we considering only 'date of journey' dates.**"
      ]
    },
    {
      "cell_type": "code",
      "metadata": {
        "colab": {
          "base_uri": "https://localhost:8080/",
          "height": 419
        },
        "id": "ZUXjXCQ4LpQz",
        "outputId": "184cdc57-d8b0-4e0e-fcc4-699f4a824dc0"
      },
      "source": [
        "df.loc[:,['Date_of_Journey','Dep_Time', 'Arrival_Time']]"
      ],
      "execution_count": 158,
      "outputs": [
        {
          "output_type": "execute_result",
          "data": {
            "text/html": [
              "<div>\n",
              "<style scoped>\n",
              "    .dataframe tbody tr th:only-of-type {\n",
              "        vertical-align: middle;\n",
              "    }\n",
              "\n",
              "    .dataframe tbody tr th {\n",
              "        vertical-align: top;\n",
              "    }\n",
              "\n",
              "    .dataframe thead th {\n",
              "        text-align: right;\n",
              "    }\n",
              "</style>\n",
              "<table border=\"1\" class=\"dataframe\">\n",
              "  <thead>\n",
              "    <tr style=\"text-align: right;\">\n",
              "      <th></th>\n",
              "      <th>Date_of_Journey</th>\n",
              "      <th>Dep_Time</th>\n",
              "      <th>Arrival_Time</th>\n",
              "    </tr>\n",
              "  </thead>\n",
              "  <tbody>\n",
              "    <tr>\n",
              "      <th>0</th>\n",
              "      <td>2019-03-24</td>\n",
              "      <td>2021-06-20 22:20:00</td>\n",
              "      <td>2021-03-22 01:10:00</td>\n",
              "    </tr>\n",
              "    <tr>\n",
              "      <th>1</th>\n",
              "      <td>2019-01-05</td>\n",
              "      <td>2021-06-20 05:50:00</td>\n",
              "      <td>2021-06-20 13:15:00</td>\n",
              "    </tr>\n",
              "    <tr>\n",
              "      <th>2</th>\n",
              "      <td>2019-09-06</td>\n",
              "      <td>2021-06-20 09:25:00</td>\n",
              "      <td>2021-06-10 04:25:00</td>\n",
              "    </tr>\n",
              "    <tr>\n",
              "      <th>3</th>\n",
              "      <td>2019-12-05</td>\n",
              "      <td>2021-06-20 18:05:00</td>\n",
              "      <td>2021-06-20 23:30:00</td>\n",
              "    </tr>\n",
              "    <tr>\n",
              "      <th>4</th>\n",
              "      <td>2019-01-03</td>\n",
              "      <td>2021-06-20 16:50:00</td>\n",
              "      <td>2021-06-20 21:35:00</td>\n",
              "    </tr>\n",
              "    <tr>\n",
              "      <th>...</th>\n",
              "      <td>...</td>\n",
              "      <td>...</td>\n",
              "      <td>...</td>\n",
              "    </tr>\n",
              "    <tr>\n",
              "      <th>13349</th>\n",
              "      <td>2019-06-06</td>\n",
              "      <td>2021-06-20 20:30:00</td>\n",
              "      <td>2021-06-07 20:25:00</td>\n",
              "    </tr>\n",
              "    <tr>\n",
              "      <th>13350</th>\n",
              "      <td>2019-03-27</td>\n",
              "      <td>2021-06-20 14:20:00</td>\n",
              "      <td>2021-06-20 16:55:00</td>\n",
              "    </tr>\n",
              "    <tr>\n",
              "      <th>13351</th>\n",
              "      <td>2019-06-03</td>\n",
              "      <td>2021-06-20 21:50:00</td>\n",
              "      <td>2021-03-07 04:25:00</td>\n",
              "    </tr>\n",
              "    <tr>\n",
              "      <th>13352</th>\n",
              "      <td>2019-06-03</td>\n",
              "      <td>2021-06-20 04:00:00</td>\n",
              "      <td>2021-06-20 19:15:00</td>\n",
              "    </tr>\n",
              "    <tr>\n",
              "      <th>13353</th>\n",
              "      <td>2019-06-15</td>\n",
              "      <td>2021-06-20 04:55:00</td>\n",
              "      <td>2021-06-20 19:15:00</td>\n",
              "    </tr>\n",
              "  </tbody>\n",
              "</table>\n",
              "<p>13354 rows × 3 columns</p>\n",
              "</div>"
            ],
            "text/plain": [
              "      Date_of_Journey            Dep_Time        Arrival_Time\n",
              "0          2019-03-24 2021-06-20 22:20:00 2021-03-22 01:10:00\n",
              "1          2019-01-05 2021-06-20 05:50:00 2021-06-20 13:15:00\n",
              "2          2019-09-06 2021-06-20 09:25:00 2021-06-10 04:25:00\n",
              "3          2019-12-05 2021-06-20 18:05:00 2021-06-20 23:30:00\n",
              "4          2019-01-03 2021-06-20 16:50:00 2021-06-20 21:35:00\n",
              "...               ...                 ...                 ...\n",
              "13349      2019-06-06 2021-06-20 20:30:00 2021-06-07 20:25:00\n",
              "13350      2019-03-27 2021-06-20 14:20:00 2021-06-20 16:55:00\n",
              "13351      2019-06-03 2021-06-20 21:50:00 2021-03-07 04:25:00\n",
              "13352      2019-06-03 2021-06-20 04:00:00 2021-06-20 19:15:00\n",
              "13353      2019-06-15 2021-06-20 04:55:00 2021-06-20 19:15:00\n",
              "\n",
              "[13354 rows x 3 columns]"
            ]
          },
          "metadata": {
            "tags": []
          },
          "execution_count": 158
        }
      ]
    },
    {
      "cell_type": "code",
      "metadata": {
        "id": "t2TMc5YlL248"
      },
      "source": [
        "# creating two columns by converting the values in Date of journey to journey date and month.\n",
        "df['day']=df['Date_of_Journey'].dt.day\n",
        "df['month']=df['Date_of_Journey'].dt.month\n",
        "df.drop(['Date_of_Journey'],axis = 1, inplace = True)"
      ],
      "execution_count": 159,
      "outputs": []
    },
    {
      "cell_type": "code",
      "metadata": {
        "id": "sm55hlvIL5yF"
      },
      "source": [
        "# extracting only time from dep_time and arrival_time and droping the arrival_time.\n",
        "df['Dep_hour']=df['Dep_Time'].dt.hour\n",
        "df['Dep_min']=df['Dep_Time'].dt.minute\n",
        "df['Arrival_hour']=df['Arrival_Time'].dt.hour\n",
        "df['Arrival_minute']=df['Arrival_Time'].dt.minute\n",
        "df.drop(['Arrival_Time'],axis = 1, inplace = True)"
      ],
      "execution_count": 160,
      "outputs": []
    },
    {
      "cell_type": "code",
      "metadata": {
        "id": "JBIBoKArL7-L"
      },
      "source": [
        "# dropping dep_value\n",
        "df.drop(['Dep_Time'],axis = 1, inplace = True)"
      ],
      "execution_count": 161,
      "outputs": []
    },
    {
      "cell_type": "markdown",
      "metadata": {
        "id": "ilnyMo-4L_hL"
      },
      "source": [
        "\n",
        "## Duration"
      ]
    },
    {
      "cell_type": "code",
      "metadata": {
        "id": "8QfNR4rcL9_k"
      },
      "source": [
        "#lets create a new column called duration and extract use full data in minutes\n",
        "df['duration'] = (pd.to_timedelta(df['Duration']).dt.seconds // 60).astype(str).astype(float)"
      ],
      "execution_count": 162,
      "outputs": []
    },
    {
      "cell_type": "code",
      "metadata": {
        "colab": {
          "base_uri": "https://localhost:8080/"
        },
        "id": "jbpHdEZpMFLs",
        "outputId": "8b301a4e-85ec-4bd2-c5cb-43a7160ccd04"
      },
      "source": [
        "df['duration']"
      ],
      "execution_count": 163,
      "outputs": [
        {
          "output_type": "execute_result",
          "data": {
            "text/plain": [
              "0         170.0\n",
              "1         445.0\n",
              "2        1140.0\n",
              "3         325.0\n",
              "4         285.0\n",
              "          ...  \n",
              "13349    1435.0\n",
              "13350     155.0\n",
              "13351     395.0\n",
              "13352     915.0\n",
              "13353     860.0\n",
              "Name: duration, Length: 13354, dtype: float64"
            ]
          },
          "metadata": {
            "tags": []
          },
          "execution_count": 163
        }
      ]
    },
    {
      "cell_type": "code",
      "metadata": {
        "colab": {
          "base_uri": "https://localhost:8080/",
          "height": 419
        },
        "id": "ziDtOgHDMHI9",
        "outputId": "99d859fd-9e3e-4c89-f9a5-c78f7ae30abd"
      },
      "source": [
        "#comparing both, Now duration is in minutes\n",
        "df.loc[:,['Duration','duration']]"
      ],
      "execution_count": 164,
      "outputs": [
        {
          "output_type": "execute_result",
          "data": {
            "text/html": [
              "<div>\n",
              "<style scoped>\n",
              "    .dataframe tbody tr th:only-of-type {\n",
              "        vertical-align: middle;\n",
              "    }\n",
              "\n",
              "    .dataframe tbody tr th {\n",
              "        vertical-align: top;\n",
              "    }\n",
              "\n",
              "    .dataframe thead th {\n",
              "        text-align: right;\n",
              "    }\n",
              "</style>\n",
              "<table border=\"1\" class=\"dataframe\">\n",
              "  <thead>\n",
              "    <tr style=\"text-align: right;\">\n",
              "      <th></th>\n",
              "      <th>Duration</th>\n",
              "      <th>duration</th>\n",
              "    </tr>\n",
              "  </thead>\n",
              "  <tbody>\n",
              "    <tr>\n",
              "      <th>0</th>\n",
              "      <td>2h 50m</td>\n",
              "      <td>170.0</td>\n",
              "    </tr>\n",
              "    <tr>\n",
              "      <th>1</th>\n",
              "      <td>7h 25m</td>\n",
              "      <td>445.0</td>\n",
              "    </tr>\n",
              "    <tr>\n",
              "      <th>2</th>\n",
              "      <td>19h</td>\n",
              "      <td>1140.0</td>\n",
              "    </tr>\n",
              "    <tr>\n",
              "      <th>3</th>\n",
              "      <td>5h 25m</td>\n",
              "      <td>325.0</td>\n",
              "    </tr>\n",
              "    <tr>\n",
              "      <th>4</th>\n",
              "      <td>4h 45m</td>\n",
              "      <td>285.0</td>\n",
              "    </tr>\n",
              "    <tr>\n",
              "      <th>...</th>\n",
              "      <td>...</td>\n",
              "      <td>...</td>\n",
              "    </tr>\n",
              "    <tr>\n",
              "      <th>13349</th>\n",
              "      <td>23h 55m</td>\n",
              "      <td>1435.0</td>\n",
              "    </tr>\n",
              "    <tr>\n",
              "      <th>13350</th>\n",
              "      <td>2h 35m</td>\n",
              "      <td>155.0</td>\n",
              "    </tr>\n",
              "    <tr>\n",
              "      <th>13351</th>\n",
              "      <td>6h 35m</td>\n",
              "      <td>395.0</td>\n",
              "    </tr>\n",
              "    <tr>\n",
              "      <th>13352</th>\n",
              "      <td>15h 15m</td>\n",
              "      <td>915.0</td>\n",
              "    </tr>\n",
              "    <tr>\n",
              "      <th>13353</th>\n",
              "      <td>14h 20m</td>\n",
              "      <td>860.0</td>\n",
              "    </tr>\n",
              "  </tbody>\n",
              "</table>\n",
              "<p>13354 rows × 2 columns</p>\n",
              "</div>"
            ],
            "text/plain": [
              "      Duration  duration\n",
              "0       2h 50m     170.0\n",
              "1       7h 25m     445.0\n",
              "2          19h    1140.0\n",
              "3       5h 25m     325.0\n",
              "4       4h 45m     285.0\n",
              "...        ...       ...\n",
              "13349  23h 55m    1435.0\n",
              "13350   2h 35m     155.0\n",
              "13351   6h 35m     395.0\n",
              "13352  15h 15m     915.0\n",
              "13353  14h 20m     860.0\n",
              "\n",
              "[13354 rows x 2 columns]"
            ]
          },
          "metadata": {
            "tags": []
          },
          "execution_count": 164
        }
      ]
    },
    {
      "cell_type": "code",
      "metadata": {
        "id": "o1eidbrdMKnL"
      },
      "source": [
        "df.drop(['Duration'],axis = 1, inplace = True)"
      ],
      "execution_count": 165,
      "outputs": []
    },
    {
      "cell_type": "code",
      "metadata": {
        "colab": {
          "base_uri": "https://localhost:8080/"
        },
        "id": "1klOglv6MN3C",
        "outputId": "3c0bdb97-1caa-4c69-fcf9-8601e731ab79"
      },
      "source": [
        "df['Additional_Info'].value_counts()"
      ],
      "execution_count": 166,
      "outputs": [
        {
          "output_type": "execute_result",
          "data": {
            "text/plain": [
              "No info                         10493\n",
              "In-flight meal not included      2426\n",
              "No check-in baggage included      396\n",
              "1 Long layover                     20\n",
              "Change airports                     8\n",
              "Business class                      5\n",
              "No Info                             3\n",
              "2 Long layover                      1\n",
              "Red-eye flight                      1\n",
              "1 Short layover                     1\n",
              "Name: Additional_Info, dtype: int64"
            ]
          },
          "metadata": {
            "tags": []
          },
          "execution_count": 166
        }
      ]
    },
    {
      "cell_type": "code",
      "metadata": {
        "id": "bxor_ILzMP8z"
      },
      "source": [
        "# we can replace 'No Info' with 'No Info', 1 and 2 long layover is replaced with Long layover.\n",
        "df[\"Additional_Info\"].replace(\"No info\",\"No Info\",inplace=True)\n",
        "df[\"Additional_Info\"].replace(\"1 Long layover\",\"Long layover\",inplace=True)\n",
        "df[\"Additional_Info\"].replace(\"2 Long layover\",\"Long layover\",inplace=True)"
      ],
      "execution_count": 167,
      "outputs": []
    },
    {
      "cell_type": "code",
      "metadata": {
        "colab": {
          "base_uri": "https://localhost:8080/"
        },
        "id": "KfVTdLwFMS0i",
        "outputId": "2d5b3358-4144-4af9-c224-72d8435cd766"
      },
      "source": [
        "df.columns"
      ],
      "execution_count": 168,
      "outputs": [
        {
          "output_type": "execute_result",
          "data": {
            "text/plain": [
              "Index(['Airline', 'Source', 'Destination', 'Route', 'Total_Stops',\n",
              "       'Additional_Info', 'Price', 'Temp', 'day', 'month', 'Dep_hour',\n",
              "       'Dep_min', 'Arrival_hour', 'Arrival_minute', 'duration'],\n",
              "      dtype='object')"
            ]
          },
          "metadata": {
            "tags": []
          },
          "execution_count": 168
        }
      ]
    },
    {
      "cell_type": "code",
      "metadata": {
        "colab": {
          "base_uri": "https://localhost:8080/"
        },
        "id": "yR46TYoaMVB8",
        "outputId": "9e92733c-d691-4eb3-d111-46ce500917cf"
      },
      "source": [
        "# Source column has 5 unique values \n",
        "print(df['Source'].value_counts())\n",
        "print('****')\n",
        "print(df['Source'].nunique())"
      ],
      "execution_count": 169,
      "outputs": [
        {
          "output_type": "stream",
          "text": [
            "Delhi       5682\n",
            "Kolkata     3581\n",
            "Banglore    2752\n",
            "Mumbai       883\n",
            "Chennai      456\n",
            "Name: Source, dtype: int64\n",
            "****\n",
            "5\n"
          ],
          "name": "stdout"
        }
      ]
    },
    {
      "cell_type": "code",
      "metadata": {
        "colab": {
          "base_uri": "https://localhost:8080/"
        },
        "id": "XpdDEH7-MXIm",
        "outputId": "ad57acbf-e1a9-4708-8508-dab3a17d0646"
      },
      "source": [
        "print(df['Destination'].value_counts())\n",
        "print('****')\n",
        "print(df['Destination'].isnull().sum())\n",
        "print('****')\n",
        "print(df['Destination'].nunique)"
      ],
      "execution_count": 170,
      "outputs": [
        {
          "output_type": "stream",
          "text": [
            "Cochin       5682\n",
            "Banglore     3581\n",
            "Delhi        1582\n",
            "New Delhi    1170\n",
            "Hyderabad     883\n",
            "Kolkata       456\n",
            "Name: Destination, dtype: int64\n",
            "****\n",
            "0\n",
            "****\n",
            "<bound method IndexOpsMixin.nunique of 0        New Delhi\n",
            "1         Banglore\n",
            "2           Cochin\n",
            "3         Banglore\n",
            "4        New Delhi\n",
            "           ...    \n",
            "13349     Banglore\n",
            "13350     Banglore\n",
            "13351       Cochin\n",
            "13352       Cochin\n",
            "13353       Cochin\n",
            "Name: Destination, Length: 13354, dtype: object>\n"
          ],
          "name": "stdout"
        }
      ]
    },
    {
      "cell_type": "code",
      "metadata": {
        "id": "3yAi2sX5MaJF"
      },
      "source": [
        "# we can see  delhi and new delhi is present in the column are belongs to same destination, so replacing new delhi with delhi.\n",
        "df['Destination']=df['Destination'].replace('New Delhi','Delhi')"
      ],
      "execution_count": 171,
      "outputs": []
    },
    {
      "cell_type": "code",
      "metadata": {
        "colab": {
          "base_uri": "https://localhost:8080/"
        },
        "id": "pV1EchnFMgRQ",
        "outputId": "1eecf902-33d8-46b6-8d38-e3485ffa7086"
      },
      "source": [
        "# new delhi is replaced as delhi\n",
        "print(df['Destination'].value_counts())"
      ],
      "execution_count": 172,
      "outputs": [
        {
          "output_type": "stream",
          "text": [
            "Cochin       5682\n",
            "Banglore     3581\n",
            "Delhi        2752\n",
            "Hyderabad     883\n",
            "Kolkata       456\n",
            "Name: Destination, dtype: int64\n"
          ],
          "name": "stdout"
        }
      ]
    },
    {
      "cell_type": "code",
      "metadata": {
        "colab": {
          "base_uri": "https://localhost:8080/"
        },
        "id": "QAvayeeQMifs",
        "outputId": "368b2fcb-a574-46e6-e2d3-349d28ce2cb2"
      },
      "source": [
        "#lets check route column\n",
        "print(df.Route.value_counts())\n",
        "print('')\n",
        "#lets check route column\n",
        "df.Route.nunique()"
      ],
      "execution_count": 173,
      "outputs": [
        {
          "output_type": "stream",
          "text": [
            "DEL → BOM → COK                3001\n",
            "BLR → DEL                      1941\n",
            "CCU → BOM → BLR                1232\n",
            "CCU → BLR                       896\n",
            "BOM → HYD                       785\n",
            "                               ... \n",
            "BOM → JDH → JAI → DEL → HYD       1\n",
            "BLR → HBX → BOM → AMD → DEL       1\n",
            "BOM → VGA → TIR → HYD             1\n",
            "CCU → IXA → BLR                   1\n",
            "CCU → IXZ → MAA → BLR             1\n",
            "Name: Route, Length: 132, dtype: int64\n",
            "\n"
          ],
          "name": "stdout"
        },
        {
          "output_type": "execute_result",
          "data": {
            "text/plain": [
              "132"
            ]
          },
          "metadata": {
            "tags": []
          },
          "execution_count": 173
        }
      ]
    },
    {
      "cell_type": "code",
      "metadata": {
        "id": "9bIEBFsNMlDM"
      },
      "source": [
        "# The Route column is having 132 unique values, extracting them as below.\n",
        "df['Route1']=df['Route'].str.split('→').str[0]\n",
        "df['Route2']=df['Route'].str.split('→').str[1]\n",
        "df['Route3']=df['Route'].str.split('→').str[2]\n",
        "df['Route4']=df['Route'].str.split('→').str[3]\n",
        "df['Route5']=df['Route'].str.split('→').str[4]"
      ],
      "execution_count": 174,
      "outputs": []
    },
    {
      "cell_type": "code",
      "metadata": {
        "id": "FBMS8Ny6Mo8w"
      },
      "source": [
        "df.drop(['Route',],axis = 1, inplace = True)"
      ],
      "execution_count": 175,
      "outputs": []
    },
    {
      "cell_type": "code",
      "metadata": {
        "colab": {
          "base_uri": "https://localhost:8080/"
        },
        "id": "yrxmDYZpMrbj",
        "outputId": "e0906ca1-6bc6-427b-9c67-b8516a5ea7f8"
      },
      "source": [
        "df.isnull().sum()"
      ],
      "execution_count": 176,
      "outputs": [
        {
          "output_type": "execute_result",
          "data": {
            "text/plain": [
              "Airline                0\n",
              "Source                 0\n",
              "Destination            0\n",
              "Total_Stops            0\n",
              "Additional_Info        0\n",
              "Price               2671\n",
              "Temp                   0\n",
              "day                    0\n",
              "month                  0\n",
              "Dep_hour               0\n",
              "Dep_min                0\n",
              "Arrival_hour           0\n",
              "Arrival_minute         0\n",
              "duration               0\n",
              "Route1                 0\n",
              "Route2                 0\n",
              "Route3              4340\n",
              "Route4             11397\n",
              "Route5             13296\n",
              "dtype: int64"
            ]
          },
          "metadata": {
            "tags": []
          },
          "execution_count": 176
        }
      ]
    },
    {
      "cell_type": "code",
      "metadata": {
        "id": "8UwsfHbqMt4s"
      },
      "source": [
        "# changing NaN values to'NA'\n",
        "for i in ['Route3', 'Route4', 'Route5']:\n",
        "    df[i].fillna('NA',inplace=True)"
      ],
      "execution_count": 177,
      "outputs": []
    },
    {
      "cell_type": "code",
      "metadata": {
        "id": "w1sduSYyMycr"
      },
      "source": [
        "# encoding Total stops\n",
        "dict={'non-stop':0, '2 stops':2, '1 stop':1, '3 stops':3, '4 stops':4}\n",
        "df['Total_Stops']=df['Total_Stops'].map(dict)"
      ],
      "execution_count": 178,
      "outputs": []
    },
    {
      "cell_type": "code",
      "metadata": {
        "colab": {
          "base_uri": "https://localhost:8080/",
          "height": 241
        },
        "id": "9ChwkwT-M0bM",
        "outputId": "e9d37715-c555-4e7c-c59a-0fd8b9d4196c"
      },
      "source": [
        "df.head()"
      ],
      "execution_count": 179,
      "outputs": [
        {
          "output_type": "execute_result",
          "data": {
            "text/html": [
              "<div>\n",
              "<style scoped>\n",
              "    .dataframe tbody tr th:only-of-type {\n",
              "        vertical-align: middle;\n",
              "    }\n",
              "\n",
              "    .dataframe tbody tr th {\n",
              "        vertical-align: top;\n",
              "    }\n",
              "\n",
              "    .dataframe thead th {\n",
              "        text-align: right;\n",
              "    }\n",
              "</style>\n",
              "<table border=\"1\" class=\"dataframe\">\n",
              "  <thead>\n",
              "    <tr style=\"text-align: right;\">\n",
              "      <th></th>\n",
              "      <th>Airline</th>\n",
              "      <th>Source</th>\n",
              "      <th>Destination</th>\n",
              "      <th>Total_Stops</th>\n",
              "      <th>Additional_Info</th>\n",
              "      <th>Price</th>\n",
              "      <th>Temp</th>\n",
              "      <th>day</th>\n",
              "      <th>month</th>\n",
              "      <th>Dep_hour</th>\n",
              "      <th>Dep_min</th>\n",
              "      <th>Arrival_hour</th>\n",
              "      <th>Arrival_minute</th>\n",
              "      <th>duration</th>\n",
              "      <th>Route1</th>\n",
              "      <th>Route2</th>\n",
              "      <th>Route3</th>\n",
              "      <th>Route4</th>\n",
              "      <th>Route5</th>\n",
              "    </tr>\n",
              "  </thead>\n",
              "  <tbody>\n",
              "    <tr>\n",
              "      <th>0</th>\n",
              "      <td>IndiGo</td>\n",
              "      <td>Banglore</td>\n",
              "      <td>Delhi</td>\n",
              "      <td>0</td>\n",
              "      <td>No Info</td>\n",
              "      <td>3897.0</td>\n",
              "      <td>Train</td>\n",
              "      <td>24</td>\n",
              "      <td>3</td>\n",
              "      <td>22</td>\n",
              "      <td>20</td>\n",
              "      <td>1</td>\n",
              "      <td>10</td>\n",
              "      <td>170.0</td>\n",
              "      <td>BLR</td>\n",
              "      <td>DEL</td>\n",
              "      <td>NA</td>\n",
              "      <td>NA</td>\n",
              "      <td>NA</td>\n",
              "    </tr>\n",
              "    <tr>\n",
              "      <th>1</th>\n",
              "      <td>Air India</td>\n",
              "      <td>Kolkata</td>\n",
              "      <td>Banglore</td>\n",
              "      <td>2</td>\n",
              "      <td>No Info</td>\n",
              "      <td>7662.0</td>\n",
              "      <td>Train</td>\n",
              "      <td>5</td>\n",
              "      <td>1</td>\n",
              "      <td>5</td>\n",
              "      <td>50</td>\n",
              "      <td>13</td>\n",
              "      <td>15</td>\n",
              "      <td>445.0</td>\n",
              "      <td>CCU</td>\n",
              "      <td>IXR</td>\n",
              "      <td>BBI</td>\n",
              "      <td>BLR</td>\n",
              "      <td>NA</td>\n",
              "    </tr>\n",
              "    <tr>\n",
              "      <th>2</th>\n",
              "      <td>Jet Airways</td>\n",
              "      <td>Delhi</td>\n",
              "      <td>Cochin</td>\n",
              "      <td>2</td>\n",
              "      <td>No Info</td>\n",
              "      <td>13882.0</td>\n",
              "      <td>Train</td>\n",
              "      <td>6</td>\n",
              "      <td>9</td>\n",
              "      <td>9</td>\n",
              "      <td>25</td>\n",
              "      <td>4</td>\n",
              "      <td>25</td>\n",
              "      <td>1140.0</td>\n",
              "      <td>DEL</td>\n",
              "      <td>LKO</td>\n",
              "      <td>BOM</td>\n",
              "      <td>COK</td>\n",
              "      <td>NA</td>\n",
              "    </tr>\n",
              "    <tr>\n",
              "      <th>3</th>\n",
              "      <td>IndiGo</td>\n",
              "      <td>Kolkata</td>\n",
              "      <td>Banglore</td>\n",
              "      <td>1</td>\n",
              "      <td>No Info</td>\n",
              "      <td>6218.0</td>\n",
              "      <td>Train</td>\n",
              "      <td>5</td>\n",
              "      <td>12</td>\n",
              "      <td>18</td>\n",
              "      <td>5</td>\n",
              "      <td>23</td>\n",
              "      <td>30</td>\n",
              "      <td>325.0</td>\n",
              "      <td>CCU</td>\n",
              "      <td>NAG</td>\n",
              "      <td>BLR</td>\n",
              "      <td>NA</td>\n",
              "      <td>NA</td>\n",
              "    </tr>\n",
              "    <tr>\n",
              "      <th>4</th>\n",
              "      <td>IndiGo</td>\n",
              "      <td>Banglore</td>\n",
              "      <td>Delhi</td>\n",
              "      <td>1</td>\n",
              "      <td>No Info</td>\n",
              "      <td>13302.0</td>\n",
              "      <td>Train</td>\n",
              "      <td>3</td>\n",
              "      <td>1</td>\n",
              "      <td>16</td>\n",
              "      <td>50</td>\n",
              "      <td>21</td>\n",
              "      <td>35</td>\n",
              "      <td>285.0</td>\n",
              "      <td>BLR</td>\n",
              "      <td>NAG</td>\n",
              "      <td>DEL</td>\n",
              "      <td>NA</td>\n",
              "      <td>NA</td>\n",
              "    </tr>\n",
              "  </tbody>\n",
              "</table>\n",
              "</div>"
            ],
            "text/plain": [
              "       Airline    Source Destination  Total_Stops Additional_Info    Price  \\\n",
              "0       IndiGo  Banglore       Delhi            0         No Info   3897.0   \n",
              "1    Air India   Kolkata    Banglore            2         No Info   7662.0   \n",
              "2  Jet Airways     Delhi      Cochin            2         No Info  13882.0   \n",
              "3       IndiGo   Kolkata    Banglore            1         No Info   6218.0   \n",
              "4       IndiGo  Banglore       Delhi            1         No Info  13302.0   \n",
              "\n",
              "    Temp  day  month  Dep_hour  Dep_min  Arrival_hour  Arrival_minute  \\\n",
              "0  Train   24      3        22       20             1              10   \n",
              "1  Train    5      1         5       50            13              15   \n",
              "2  Train    6      9         9       25             4              25   \n",
              "3  Train    5     12        18        5            23              30   \n",
              "4  Train    3      1        16       50            21              35   \n",
              "\n",
              "   duration Route1 Route2 Route3 Route4 Route5  \n",
              "0     170.0   BLR     DEL     NA     NA     NA  \n",
              "1     445.0   CCU    IXR    BBI     BLR     NA  \n",
              "2    1140.0   DEL    LKO    BOM     COK     NA  \n",
              "3     325.0   CCU    NAG     BLR     NA     NA  \n",
              "4     285.0   BLR    NAG     DEL     NA     NA  "
            ]
          },
          "metadata": {
            "tags": []
          },
          "execution_count": 179
        }
      ]
    },
    {
      "cell_type": "code",
      "metadata": {
        "colab": {
          "base_uri": "https://localhost:8080/",
          "height": 328
        },
        "id": "KrWbplGhM21u",
        "outputId": "149cdbaf-8a24-4df5-e24d-e4aad2486a81"
      },
      "source": [
        "df.corr()"
      ],
      "execution_count": 180,
      "outputs": [
        {
          "output_type": "execute_result",
          "data": {
            "text/html": [
              "<div>\n",
              "<style scoped>\n",
              "    .dataframe tbody tr th:only-of-type {\n",
              "        vertical-align: middle;\n",
              "    }\n",
              "\n",
              "    .dataframe tbody tr th {\n",
              "        vertical-align: top;\n",
              "    }\n",
              "\n",
              "    .dataframe thead th {\n",
              "        text-align: right;\n",
              "    }\n",
              "</style>\n",
              "<table border=\"1\" class=\"dataframe\">\n",
              "  <thead>\n",
              "    <tr style=\"text-align: right;\">\n",
              "      <th></th>\n",
              "      <th>Total_Stops</th>\n",
              "      <th>Price</th>\n",
              "      <th>day</th>\n",
              "      <th>month</th>\n",
              "      <th>Dep_hour</th>\n",
              "      <th>Dep_min</th>\n",
              "      <th>Arrival_hour</th>\n",
              "      <th>Arrival_minute</th>\n",
              "      <th>duration</th>\n",
              "    </tr>\n",
              "  </thead>\n",
              "  <tbody>\n",
              "    <tr>\n",
              "      <th>Total_Stops</th>\n",
              "      <td>1.000000</td>\n",
              "      <td>0.603883</td>\n",
              "      <td>-0.027965</td>\n",
              "      <td>0.068745</td>\n",
              "      <td>-0.070709</td>\n",
              "      <td>-0.000116</td>\n",
              "      <td>0.037154</td>\n",
              "      <td>-0.108233</td>\n",
              "      <td>0.592884</td>\n",
              "    </tr>\n",
              "    <tr>\n",
              "      <th>Price</th>\n",
              "      <td>0.603883</td>\n",
              "      <td>1.000000</td>\n",
              "      <td>-0.165412</td>\n",
              "      <td>0.010700</td>\n",
              "      <td>0.006819</td>\n",
              "      <td>-0.024492</td>\n",
              "      <td>0.024264</td>\n",
              "      <td>-0.086155</td>\n",
              "      <td>0.449471</td>\n",
              "    </tr>\n",
              "    <tr>\n",
              "      <th>day</th>\n",
              "      <td>-0.027965</td>\n",
              "      <td>-0.165412</td>\n",
              "      <td>1.000000</td>\n",
              "      <td>-0.263645</td>\n",
              "      <td>-0.006490</td>\n",
              "      <td>-0.018639</td>\n",
              "      <td>0.000968</td>\n",
              "      <td>-0.019054</td>\n",
              "      <td>-0.032953</td>\n",
              "    </tr>\n",
              "    <tr>\n",
              "      <th>month</th>\n",
              "      <td>0.068745</td>\n",
              "      <td>0.010700</td>\n",
              "      <td>-0.263645</td>\n",
              "      <td>1.000000</td>\n",
              "      <td>0.024008</td>\n",
              "      <td>0.002174</td>\n",
              "      <td>-0.001319</td>\n",
              "      <td>-0.028378</td>\n",
              "      <td>0.059362</td>\n",
              "    </tr>\n",
              "    <tr>\n",
              "      <th>Dep_hour</th>\n",
              "      <td>-0.070709</td>\n",
              "      <td>0.006819</td>\n",
              "      <td>-0.006490</td>\n",
              "      <td>0.024008</td>\n",
              "      <td>1.000000</td>\n",
              "      <td>-0.026674</td>\n",
              "      <td>0.004296</td>\n",
              "      <td>0.067645</td>\n",
              "      <td>-0.000379</td>\n",
              "    </tr>\n",
              "    <tr>\n",
              "      <th>Dep_min</th>\n",
              "      <td>-0.000116</td>\n",
              "      <td>-0.024492</td>\n",
              "      <td>-0.018639</td>\n",
              "      <td>0.002174</td>\n",
              "      <td>-0.026674</td>\n",
              "      <td>1.000000</td>\n",
              "      <td>0.043967</td>\n",
              "      <td>-0.018133</td>\n",
              "      <td>-0.017083</td>\n",
              "    </tr>\n",
              "    <tr>\n",
              "      <th>Arrival_hour</th>\n",
              "      <td>0.037154</td>\n",
              "      <td>0.024264</td>\n",
              "      <td>0.000968</td>\n",
              "      <td>-0.001319</td>\n",
              "      <td>0.004296</td>\n",
              "      <td>0.043967</td>\n",
              "      <td>1.000000</td>\n",
              "      <td>-0.150636</td>\n",
              "      <td>-0.023322</td>\n",
              "    </tr>\n",
              "    <tr>\n",
              "      <th>Arrival_minute</th>\n",
              "      <td>-0.108233</td>\n",
              "      <td>-0.086155</td>\n",
              "      <td>-0.019054</td>\n",
              "      <td>-0.028378</td>\n",
              "      <td>0.067645</td>\n",
              "      <td>-0.018133</td>\n",
              "      <td>-0.150636</td>\n",
              "      <td>1.000000</td>\n",
              "      <td>-0.125467</td>\n",
              "    </tr>\n",
              "    <tr>\n",
              "      <th>duration</th>\n",
              "      <td>0.592884</td>\n",
              "      <td>0.449471</td>\n",
              "      <td>-0.032953</td>\n",
              "      <td>0.059362</td>\n",
              "      <td>-0.000379</td>\n",
              "      <td>-0.017083</td>\n",
              "      <td>-0.023322</td>\n",
              "      <td>-0.125467</td>\n",
              "      <td>1.000000</td>\n",
              "    </tr>\n",
              "  </tbody>\n",
              "</table>\n",
              "</div>"
            ],
            "text/plain": [
              "                Total_Stops     Price       day     month  Dep_hour   Dep_min  \\\n",
              "Total_Stops        1.000000  0.603883 -0.027965  0.068745 -0.070709 -0.000116   \n",
              "Price              0.603883  1.000000 -0.165412  0.010700  0.006819 -0.024492   \n",
              "day               -0.027965 -0.165412  1.000000 -0.263645 -0.006490 -0.018639   \n",
              "month              0.068745  0.010700 -0.263645  1.000000  0.024008  0.002174   \n",
              "Dep_hour          -0.070709  0.006819 -0.006490  0.024008  1.000000 -0.026674   \n",
              "Dep_min           -0.000116 -0.024492 -0.018639  0.002174 -0.026674  1.000000   \n",
              "Arrival_hour       0.037154  0.024264  0.000968 -0.001319  0.004296  0.043967   \n",
              "Arrival_minute    -0.108233 -0.086155 -0.019054 -0.028378  0.067645 -0.018133   \n",
              "duration           0.592884  0.449471 -0.032953  0.059362 -0.000379 -0.017083   \n",
              "\n",
              "                Arrival_hour  Arrival_minute  duration  \n",
              "Total_Stops         0.037154       -0.108233  0.592884  \n",
              "Price               0.024264       -0.086155  0.449471  \n",
              "day                 0.000968       -0.019054 -0.032953  \n",
              "month              -0.001319       -0.028378  0.059362  \n",
              "Dep_hour            0.004296        0.067645 -0.000379  \n",
              "Dep_min             0.043967       -0.018133 -0.017083  \n",
              "Arrival_hour        1.000000       -0.150636 -0.023322  \n",
              "Arrival_minute     -0.150636        1.000000 -0.125467  \n",
              "duration           -0.023322       -0.125467  1.000000  "
            ]
          },
          "metadata": {
            "tags": []
          },
          "execution_count": 180
        }
      ]
    },
    {
      "cell_type": "markdown",
      "metadata": {
        "id": "r6EVmeUiNCKX"
      },
      "source": [
        "## Correlation"
      ]
    },
    {
      "cell_type": "code",
      "metadata": {
        "colab": {
          "base_uri": "https://localhost:8080/",
          "height": 832
        },
        "id": "thdpqM2IM8l_",
        "outputId": "d20b264d-6fd5-4a6e-ea1f-35d3fda6c0f8"
      },
      "source": [
        "fig = plt.figure(figsize=(20,15))\n",
        "cor_matrix = df.corr(method='pearson')\n",
        "sns.heatmap(cor_matrix,annot = True,cmap = 'Blues')\n",
        "plt.show()"
      ],
      "execution_count": 181,
      "outputs": [
        {
          "output_type": "display_data",
          "data": {
            "image/png": "[encoded data removed]",
            "text/plain": [
              "<Figure size 1440x1080 with 2 Axes>"
            ]
          },
          "metadata": {
            "tags": [],
            "needs_background": "light"
          }
        }
      ]
    },
    {
      "cell_type": "markdown",
      "metadata": {
        "id": "xBuGey8KNPRe"
      },
      "source": [
        "Price is highly positive correlated with Total stops and higly negative correlated with Route 2 and Route3."
      ]
    },
    {
      "cell_type": "markdown",
      "metadata": {
        "id": "4-vWIqW3Nux6"
      },
      "source": [
        "## checking skewness"
      ]
    },
    {
      "cell_type": "code",
      "metadata": {
        "colab": {
          "base_uri": "https://localhost:8080/"
        },
        "id": "HApxBRzaNNOA",
        "outputId": "78c1c418-d863-42fd-ed29-4fb0a051556f"
      },
      "source": [
        "df.skew()"
      ],
      "execution_count": 182,
      "outputs": [
        {
          "output_type": "execute_result",
          "data": {
            "text/plain": [
              "Total_Stops       0.317797\n",
              "Price             1.812552\n",
              "day               0.389526\n",
              "month             0.621749\n",
              "Dep_hour          0.109087\n",
              "Dep_min           0.159397\n",
              "Arrival_hour     -0.384591\n",
              "Arrival_minute    0.111711\n",
              "duration          0.824423\n",
              "dtype: float64"
            ]
          },
          "metadata": {
            "tags": []
          },
          "execution_count": 182
        }
      ]
    },
    {
      "cell_type": "code",
      "metadata": {
        "id": "7QMrKO5iN2Uj"
      },
      "source": [
        "# Applying label encoder.\n",
        "from sklearn.preprocessing import LabelEncoder\n",
        "encoder = LabelEncoder()"
      ],
      "execution_count": 183,
      "outputs": []
    },
    {
      "cell_type": "code",
      "metadata": {
        "id": "mB9qbhUROChe"
      },
      "source": [
        "# performing label encoding.\n",
        "for i in ['Route1', 'Route2', 'Route3', 'Route4', 'Route5']:\n",
        "    df[i]=encoder.fit_transform(df[i])"
      ],
      "execution_count": 184,
      "outputs": []
    },
    {
      "cell_type": "markdown",
      "metadata": {
        "id": "liFBeRZ4OGzl"
      },
      "source": [
        "\n",
        "## Data Visualization"
      ]
    },
    {
      "cell_type": "code",
      "metadata": {
        "colab": {
          "base_uri": "https://localhost:8080/",
          "height": 279
        },
        "id": "E_W4_AExOE39",
        "outputId": "54fd6c27-7ff6-4a3b-c44c-45fec74e009e"
      },
      "source": [
        "#lets check the box plot of our target column, to check if there are outliers\n",
        "sns.boxplot(df.Price)\n",
        "plt.show()"
      ],
      "execution_count": 185,
      "outputs": [
        {
          "output_type": "display_data",
          "data": {
            "image/png": "[encoded data removed]",
            "text/plain": [
              "<Figure size 432x288 with 1 Axes>"
            ]
          },
          "metadata": {
            "tags": [],
            "needs_background": "light"
          }
        }
      ]
    },
    {
      "cell_type": "markdown",
      "metadata": {
        "id": "uGCOZG4vONBz"
      },
      "source": [
        "\n",
        "In above plot, we can observe that the Price variable is consists of Outliers."
      ]
    },
    {
      "cell_type": "code",
      "metadata": {
        "colab": {
          "base_uri": "https://localhost:8080/",
          "height": 279
        },
        "id": "xJEylzYAOKQJ",
        "outputId": "3fdda235-fa9c-4272-90d3-c62abc6fca90"
      },
      "source": [
        "#lets check the distribution of the target column\n",
        "sns.distplot(df.Price[:10683])\n",
        "plt.show()"
      ],
      "execution_count": 186,
      "outputs": [
        {
          "output_type": "display_data",
          "data": {
            "image/png": "[encoded data removed]",
            "text/plain": [
              "<Figure size 432x288 with 1 Axes>"
            ]
          },
          "metadata": {
            "tags": [],
            "needs_background": "light"
          }
        }
      ]
    },
    {
      "cell_type": "markdown",
      "metadata": {
        "id": "RCQf_LWUOSp1"
      },
      "source": [
        "\n",
        "In above plot, we can observe that the Price variable is consists of Right skewed."
      ]
    },
    {
      "cell_type": "markdown",
      "metadata": {
        "id": "fqep11g9OYBm"
      },
      "source": [
        "## Bivariate Analysis with Target Variable"
      ]
    },
    {
      "cell_type": "code",
      "metadata": {
        "colab": {
          "base_uri": "https://localhost:8080/",
          "height": 384
        },
        "id": "kCT-nNlWOQgF",
        "outputId": "d2f08566-1cc4-44ee-d677-ccdcbe344f7f"
      },
      "source": [
        "#Lets check Airline column againt our target variable\n",
        "plt.figure(figsize= (15,5))\n",
        "col2 = sns.barplot(x = 'Airline' , y ='Price', data = df )\n",
        "col2.set_xticklabels(col2.get_xticklabels(), rotation=40, ha=\"right\") \n",
        "plt.show()"
      ],
      "execution_count": 187,
      "outputs": [
        {
          "output_type": "display_data",
          "data": {
            "image/png": "[encoded data removed]",
            "text/plain": [
              "<Figure size 1080x360 with 1 Axes>"
            ]
          },
          "metadata": {
            "tags": [],
            "needs_background": "light"
          }
        }
      ]
    },
    {
      "cell_type": "markdown",
      "metadata": {
        "id": "UzM8f9cdOdjt"
      },
      "source": [
        "Jet Airways is observed as the highest flight price among all the Airlines and spicejet is having low price."
      ]
    },
    {
      "cell_type": "code",
      "metadata": {
        "colab": {
          "base_uri": "https://localhost:8080/",
          "height": 360
        },
        "id": "7taOVaQRObFx",
        "outputId": "ba53f9d3-1c99-4a69-85b8-44dbc2e3d26a"
      },
      "source": [
        "#Lets check Source column againt our target variable\n",
        "plt.figure(figsize= (15,5))\n",
        "col4 = sns.barplot(x = 'Source' , y ='Price', data = df )\n",
        "col4.set_xticklabels(col4.get_xticklabels(), rotation=40, ha=\"right\") \n",
        "plt.show()"
      ],
      "execution_count": 188,
      "outputs": [
        {
          "output_type": "display_data",
          "data": {
            "image/png": "[encoded data removed]",
            "text/plain": [
              "<Figure size 1080x360 with 1 Axes>"
            ]
          },
          "metadata": {
            "tags": [],
            "needs_background": "light"
          }
        }
      ]
    },
    {
      "cell_type": "markdown",
      "metadata": {
        "id": "rcINAgXjOj8r"
      },
      "source": [
        "From the above plot we can see that people who travelled from delhi have paid more than the others"
      ]
    },
    {
      "cell_type": "code",
      "metadata": {
        "colab": {
          "base_uri": "https://localhost:8080/",
          "height": 367
        },
        "id": "ZnxZ76w6Ohh2",
        "outputId": "0ab0e98f-8812-4192-b20b-7b0360021995"
      },
      "source": [
        "#Lets check Destination column againt our target variable\n",
        "plt.figure(figsize= (15,5))\n",
        "col3 = sns.barplot(x = 'Destination' , y ='Price', data = df )\n",
        "col3.set_xticklabels(col3.get_xticklabels(), rotation=40, ha=\"right\") \n",
        "plt.show()"
      ],
      "execution_count": 189,
      "outputs": [
        {
          "output_type": "display_data",
          "data": {
            "image/png": "[encoded data removed]",
            "text/plain": [
              "<Figure size 1080x360 with 1 Axes>"
            ]
          },
          "metadata": {
            "tags": [],
            "needs_background": "light"
          }
        }
      ]
    },
    {
      "cell_type": "markdown",
      "metadata": {
        "id": "jOnhXGMdOqSj"
      },
      "source": [
        "From the above plot we can see that people who travelled to Cohchin have paid more flight price compare to all"
      ]
    },
    {
      "cell_type": "code",
      "metadata": {
        "colab": {
          "base_uri": "https://localhost:8080/",
          "height": 336
        },
        "id": "nSNYLHVVOs8Q",
        "outputId": "1f5e127b-d27d-436a-a83c-dd72fb46bf50"
      },
      "source": [
        "#Lets check Total_Stops column againt our target variable\n",
        "plt.figure(figsize= (15,5))\n",
        "col5 = sns.barplot(x = 'Total_Stops' , y ='Price', data = df )\n",
        "col5.set_xticklabels(col5.get_xticklabels(), rotation=40, ha=\"right\") \n",
        "plt.show()"
      ],
      "execution_count": 190,
      "outputs": [
        {
          "output_type": "display_data",
          "data": {
            "image/png": "[encoded data removed]",
            "text/plain": [
              "<Figure size 1080x360 with 1 Axes>"
            ]
          },
          "metadata": {
            "tags": [],
            "needs_background": "light"
          }
        }
      ]
    },
    {
      "cell_type": "markdown",
      "metadata": {
        "id": "bG0GhFvOO0aS"
      },
      "source": [
        "From the above plot we can see that if the total stops is 4 , then the flight price is high"
      ]
    },
    {
      "cell_type": "code",
      "metadata": {
        "colab": {
          "base_uri": "https://localhost:8080/",
          "height": 279
        },
        "id": "s2D-FNn9OyGh",
        "outputId": "f214c6f3-b848-4dec-eef7-ee62e4584952"
      },
      "source": [
        "# duration is having numerical values so using scatter plot\n",
        "#Lets check this column againt our target variable\n",
        "sns.scatterplot(x = 'duration', y ='Price' , data  = df)\n",
        "plt.show()"
      ],
      "execution_count": 191,
      "outputs": [
        {
          "output_type": "display_data",
          "data": {
            "image/png": "[encoded data removed]",
            "text/plain": [
              "<Figure size 432x288 with 1 Axes>"
            ]
          },
          "metadata": {
            "tags": [],
            "needs_background": "light"
          }
        }
      ]
    },
    {
      "cell_type": "markdown",
      "metadata": {
        "id": "3Gi10HuTO9gA"
      },
      "source": [
        "\n",
        "From the above plot we can see that duration and Price is moderate positive correlation with duration column ."
      ]
    },
    {
      "cell_type": "code",
      "metadata": {
        "colab": {
          "base_uri": "https://localhost:8080/",
          "height": 279
        },
        "id": "aQWRNoXrO7dc",
        "outputId": "0f0220c2-c2f8-45b6-984c-f156b1fe2bd1"
      },
      "source": [
        "#lets check for outliers in duration column\n",
        "sns.boxplot(df.duration)\n",
        "plt.show()"
      ],
      "execution_count": 192,
      "outputs": [
        {
          "output_type": "display_data",
          "data": {
            "image/png": "[encoded data removed]",
            "text/plain": [
              "<Figure size 432x288 with 1 Axes>"
            ]
          },
          "metadata": {
            "tags": [],
            "needs_background": "light"
          }
        }
      ]
    },
    {
      "cell_type": "code",
      "metadata": {
        "colab": {
          "base_uri": "https://localhost:8080/",
          "height": 279
        },
        "id": "BdHPeNbvPCsq",
        "outputId": "07d90391-34bc-49a7-c680-9bec0175ef11"
      },
      "source": [
        "#lets check for distribution \n",
        "sns.distplot(df.duration)\n",
        "plt.show()"
      ],
      "execution_count": 193,
      "outputs": [
        {
          "output_type": "display_data",
          "data": {
            "image/png": "[encoded data removed]",
            "text/plain": [
              "<Figure size 432x288 with 1 Axes>"
            ]
          },
          "metadata": {
            "tags": [],
            "needs_background": "light"
          }
        }
      ]
    },
    {
      "cell_type": "markdown",
      "metadata": {
        "id": "tT6J0x7GPkRE"
      },
      "source": [
        "Its seems like left skewed in distribution."
      ]
    },
    {
      "cell_type": "code",
      "metadata": {
        "colab": {
          "base_uri": "https://localhost:8080/",
          "height": 340
        },
        "id": "tr9IgkOUPEcb",
        "outputId": "02b60129-2b39-421a-e86c-8ce3be1bba46"
      },
      "source": [
        "#Lets check day column againt our target variable\n",
        "plt.figure(figsize= (15,5))\n",
        "col5 = sns.barplot(x = 'day' , y ='Price', data = df )\n",
        "col5.set_xticklabels(col5.get_xticklabels(), rotation=40, ha=\"right\") \n",
        "plt.show()"
      ],
      "execution_count": 194,
      "outputs": [
        {
          "output_type": "display_data",
          "data": {
            "image/png": "[encoded data removed]",
            "text/plain": [
              "<Figure size 1080x360 with 1 Axes>"
            ]
          },
          "metadata": {
            "tags": [],
            "needs_background": "light"
          }
        }
      ]
    },
    {
      "cell_type": "markdown",
      "metadata": {
        "id": "Dz3_BkgQPsi9"
      },
      "source": [
        "From the above plot we can observe that in 3rd date of month having high price values."
      ]
    },
    {
      "cell_type": "code",
      "metadata": {
        "colab": {
          "base_uri": "https://localhost:8080/",
          "height": 340
        },
        "id": "L2giMmlePpUQ",
        "outputId": "41615834-e53b-48d3-9c2b-5d36b138d9ea"
      },
      "source": [
        "#Lets check Dep_hour column againt our target variable\n",
        "plt.figure(figsize= (15,5))\n",
        "col5 = sns.barplot(x = 'Dep_hour' , y ='Price', data = df )\n",
        "col5.set_xticklabels(col5.get_xticklabels(), rotation=40, ha=\"right\") \n",
        "plt.show()"
      ],
      "execution_count": 195,
      "outputs": [
        {
          "output_type": "display_data",
          "data": {
            "image/png": "[encoded data removed]",
            "text/plain": [
              "<Figure size 1080x360 with 1 Axes>"
            ]
          },
          "metadata": {
            "tags": [],
            "needs_background": "light"
          }
        }
      ]
    },
    {
      "cell_type": "markdown",
      "metadata": {
        "id": "paB9c9oPPzcH"
      },
      "source": [
        "From the above plot we can observe that in 3AM in Dep_hour is having high price values."
      ]
    },
    {
      "cell_type": "code",
      "metadata": {
        "colab": {
          "base_uri": "https://localhost:8080/",
          "height": 340
        },
        "id": "1QRhKiu7PwGv",
        "outputId": "b42fc4b8-d72c-4033-b567-7b374fc22402"
      },
      "source": [
        "#Lets check Dep_min column againt our target variable\n",
        "plt.figure(figsize= (15,5))\n",
        "col5 = sns.barplot(x = 'Dep_min' , y ='Price', data = df )\n",
        "col5.set_xticklabels(col5.get_xticklabels(), rotation=40, ha=\"right\") \n",
        "plt.show()\n"
      ],
      "execution_count": 196,
      "outputs": [
        {
          "output_type": "display_data",
          "data": {
            "image/png": "[encoded data removed]",
            "text/plain": [
              "<Figure size 1080x360 with 1 Axes>"
            ]
          },
          "metadata": {
            "tags": [],
            "needs_background": "light"
          }
        }
      ]
    },
    {
      "cell_type": "markdown",
      "metadata": {
        "id": "tKg4SiY3P5E2"
      },
      "source": [
        "From the above plot we can observe that in 50th minute is having high price values."
      ]
    },
    {
      "cell_type": "code",
      "metadata": {
        "colab": {
          "base_uri": "https://localhost:8080/",
          "height": 340
        },
        "id": "OnoewtRPP2mP",
        "outputId": "a9fcdfb4-ae67-4648-a04e-f9e5a339238a"
      },
      "source": [
        "#Lets check Arrival_hour column againt our target variable\n",
        "plt.figure(figsize= (15,5))\n",
        "col5 = sns.barplot(x = 'Arrival_hour' , y ='Price', data = df )\n",
        "col5.set_xticklabels(col5.get_xticklabels(), rotation=40, ha=\"right\") \n",
        "plt.show()"
      ],
      "execution_count": 197,
      "outputs": [
        {
          "output_type": "display_data",
          "data": {
            "image/png": "[encoded data removed]",
            "text/plain": [
              "<Figure size 1080x360 with 1 Axes>"
            ]
          },
          "metadata": {
            "tags": [],
            "needs_background": "light"
          }
        }
      ]
    },
    {
      "cell_type": "markdown",
      "metadata": {
        "id": "QTeCIov-P_w5"
      },
      "source": [
        "From the above plot we can observe that in 5AM in Arrival_hour is having high price values."
      ]
    },
    {
      "cell_type": "code",
      "metadata": {
        "colab": {
          "base_uri": "https://localhost:8080/",
          "height": 340
        },
        "id": "8eaoGd8vQAZI",
        "outputId": "b7f39de2-960d-4978-9a8f-7404b29a18b0"
      },
      "source": [
        "#Lets check Arrival_minute column againt our target variable\n",
        "plt.figure(figsize= (15,5))\n",
        "col5 = sns.barplot(x = 'Arrival_minute' , y ='Price', data = df )\n",
        "col5.set_xticklabels(col5.get_xticklabels(), rotation=40, ha=\"right\") \n",
        "plt.show()"
      ],
      "execution_count": 198,
      "outputs": [
        {
          "output_type": "display_data",
          "data": {
            "image/png": "[encoded data removed]",
            "text/plain": [
              "<Figure size 1080x360 with 1 Axes>"
            ]
          },
          "metadata": {
            "tags": [],
            "needs_background": "light"
          }
        }
      ]
    },
    {
      "cell_type": "markdown",
      "metadata": {
        "id": "5xxN3Tu_QFHK"
      },
      "source": [
        "\n",
        "From the above plot we can observe that in 25th minute is having high price values."
      ]
    },
    {
      "cell_type": "code",
      "metadata": {
        "colab": {
          "base_uri": "https://localhost:8080/",
          "height": 335
        },
        "id": "QAPySIg7QC5e",
        "outputId": "396aad01-0c0d-4f3d-8d1d-31dab4469b5f"
      },
      "source": [
        "#Lets check Route1 column againt our target variable\n",
        "plt.figure(figsize= (15,5))\n",
        "col5 = sns.barplot(x = 'Route1' , y ='Price', data = df )\n",
        "col5.set_xticklabels(col5.get_xticklabels(), rotation=40, ha=\"right\") \n",
        "plt.show()"
      ],
      "execution_count": 199,
      "outputs": [
        {
          "output_type": "display_data",
          "data": {
            "image/png": "[encoded data removed]",
            "text/plain": [
              "<Figure size 1080x360 with 1 Axes>"
            ]
          },
          "metadata": {
            "tags": [],
            "needs_background": "light"
          }
        }
      ]
    },
    {
      "cell_type": "markdown",
      "metadata": {
        "id": "Wprr1z2YQZdM"
      },
      "source": [
        "From the above plot we can observe that in Route5 3rd way is having high price values."
      ]
    },
    {
      "cell_type": "code",
      "metadata": {
        "colab": {
          "base_uri": "https://localhost:8080/",
          "height": 340
        },
        "id": "0OaIyh52QXTP",
        "outputId": "9d26b70c-1772-4f63-fe44-2419c4a1053b"
      },
      "source": [
        "#Lets check Route2 column againt our target variable\n",
        "plt.figure(figsize= (15,5))\n",
        "col5 = sns.barplot(x = 'Route2' , y ='Price', data = df )\n",
        "col5.set_xticklabels(col5.get_xticklabels(), rotation=40, ha=\"right\") \n",
        "plt.show()"
      ],
      "execution_count": 200,
      "outputs": [
        {
          "output_type": "display_data",
          "data": {
            "image/png": "[encoded data removed]",
            "text/plain": [
              "<Figure size 1080x360 with 1 Axes>"
            ]
          },
          "metadata": {
            "tags": [],
            "needs_background": "light"
          }
        }
      ]
    },
    {
      "cell_type": "markdown",
      "metadata": {
        "id": "yWUtpbgjQek7"
      },
      "source": [
        "From the above plot we can observe that in Route5 12th way is having high price values."
      ]
    },
    {
      "cell_type": "code",
      "metadata": {
        "colab": {
          "base_uri": "https://localhost:8080/",
          "height": 340
        },
        "id": "6G2euJWfQcaB",
        "outputId": "31e72110-282b-4f8f-c697-c0e549e26dea"
      },
      "source": [
        "#Lets check Route3 column againt our target variable\n",
        "plt.figure(figsize= (15,5))\n",
        "col5 = sns.barplot(x = 'Route3' , y ='Price', data = df )\n",
        "col5.set_xticklabels(col5.get_xticklabels(), rotation=40, ha=\"right\") \n",
        "plt.show()"
      ],
      "execution_count": 201,
      "outputs": [
        {
          "output_type": "display_data",
          "data": {
            "image/png": "[encoded data removed]",
            "text/plain": [
              "<Figure size 1080x360 with 1 Axes>"
            ]
          },
          "metadata": {
            "tags": [],
            "needs_background": "light"
          }
        }
      ]
    },
    {
      "cell_type": "markdown",
      "metadata": {
        "id": "_YWbbbIbQjtd"
      },
      "source": [
        "\n",
        "From the above plot we can observe that in Route5 20th way is having high price values."
      ]
    },
    {
      "cell_type": "code",
      "metadata": {
        "colab": {
          "base_uri": "https://localhost:8080/",
          "height": 340
        },
        "id": "M9B-zAR5QkTe",
        "outputId": "130f44db-b7b9-412d-f831-c342c2378e16"
      },
      "source": [
        "#Lets check Route4 column againt our target variable\n",
        "plt.figure(figsize= (15,5))\n",
        "col5 = sns.barplot(x = 'Route4' , y ='Price', data = df )\n",
        "col5.set_xticklabels(col5.get_xticklabels(), rotation=40, ha=\"right\") \n",
        "plt.show()"
      ],
      "execution_count": 202,
      "outputs": [
        {
          "output_type": "display_data",
          "data": {
            "image/png": "[encoded data removed]",
            "text/plain": [
              "<Figure size 1080x360 with 1 Axes>"
            ]
          },
          "metadata": {
            "tags": [],
            "needs_background": "light"
          }
        }
      ]
    },
    {
      "cell_type": "markdown",
      "metadata": {
        "id": "appBIs7FQqog"
      },
      "source": [
        "From the above plot we can observe that in Route5 9th way is having high price values."
      ]
    },
    {
      "cell_type": "code",
      "metadata": {
        "colab": {
          "base_uri": "https://localhost:8080/",
          "height": 335
        },
        "id": "8uo5fbFAQold",
        "outputId": "89333c68-9ee0-4a24-9d50-1bdd38f2c56b"
      },
      "source": [
        "#Lets check Route5 column againt our target variable\n",
        "plt.figure(figsize= (15,5))\n",
        "col5 = sns.barplot(x = 'Route5' , y ='Price', data = df )\n",
        "col5.set_xticklabels(col5.get_xticklabels(), rotation=40, ha=\"right\") \n",
        "plt.show()"
      ],
      "execution_count": 203,
      "outputs": [
        {
          "output_type": "display_data",
          "data": {
            "image/png": "[encoded data removed]",
            "text/plain": [
              "<Figure size 1080x360 with 1 Axes>"
            ]
          },
          "metadata": {
            "tags": [],
            "needs_background": "light"
          }
        }
      ]
    },
    {
      "cell_type": "markdown",
      "metadata": {
        "id": "-bflMiWzQwIf"
      },
      "source": [
        "\n",
        "From the above plot we can observe that in Route5 4th way is having high price values."
      ]
    },
    {
      "cell_type": "markdown",
      "metadata": {
        "id": "vGYKnv6vQy2Q"
      },
      "source": [
        "## Outlier Removal in target column"
      ]
    },
    {
      "cell_type": "code",
      "metadata": {
        "id": "pL4L2nZfQwud"
      },
      "source": [
        "#Function of outlier Removal when data is not normal distributed or Right skewed\n",
        "def outliers_IQR3(data_frame,feature_name):\n",
        "    IQR  =data_frame[feature_name].quantile(0.75)-data_frame[feature_name].quantile(0.25)\n",
        "    lower_boundary = data_frame[feature_name].quantile(0.25) - (IQR * 1.5)\n",
        "    upper_boundary = data_frame[feature_name].quantile(0.75) + (IQR * 1.5)\n",
        "    df.loc[df[feature_name] >= upper_boundary,feature_name]= upper_boundary\n",
        "    df.loc[df[feature_name] <= lower_boundary,feature_name]= lower_boundary"
      ],
      "execution_count": 204,
      "outputs": []
    },
    {
      "cell_type": "code",
      "metadata": {
        "id": "ifPnkQ8CQ4l2"
      },
      "source": [
        "#calling the function\n",
        "outliers_IQR3(df,'Price')"
      ],
      "execution_count": 205,
      "outputs": []
    },
    {
      "cell_type": "code",
      "metadata": {
        "colab": {
          "base_uri": "https://localhost:8080/",
          "height": 296
        },
        "id": "AHpRhemlQ6pC",
        "outputId": "32a585e9-7647-459e-d2c4-f30e53c1f061"
      },
      "source": [
        "#now lets outliers using box plot\n",
        "sns.boxplot(df.Price)"
      ],
      "execution_count": 206,
      "outputs": [
        {
          "output_type": "execute_result",
          "data": {
            "text/plain": [
              "<matplotlib.axes._subplots.AxesSubplot at 0x7f23dedefb10>"
            ]
          },
          "metadata": {
            "tags": []
          },
          "execution_count": 206
        },
        {
          "output_type": "display_data",
          "data": {
            "image/png": "[encoded data removed]",
            "text/plain": [
              "<Figure size 432x288 with 1 Axes>"
            ]
          },
          "metadata": {
            "tags": [],
            "needs_background": "light"
          }
        }
      ]
    },
    {
      "cell_type": "markdown",
      "metadata": {
        "id": "q7NqifHPRCTD"
      },
      "source": [
        "\n",
        "outliers have been completely removed from this column."
      ]
    },
    {
      "cell_type": "code",
      "metadata": {
        "colab": {
          "base_uri": "https://localhost:8080/",
          "height": 279
        },
        "id": "_azY2tV9Q8qh",
        "outputId": "4d0542c6-89db-4081-a1a0-9f21c0fe3aca"
      },
      "source": [
        "#lets check the distribution of the target column\n",
        "sns.distplot(df.Price[:10683])\n",
        "plt.show()"
      ],
      "execution_count": 207,
      "outputs": [
        {
          "output_type": "display_data",
          "data": {
            "image/png": "[encoded data removed]",
            "text/plain": [
              "<Figure size 432x288 with 1 Axes>"
            ]
          },
          "metadata": {
            "tags": [],
            "needs_background": "light"
          }
        }
      ]
    },
    {
      "cell_type": "markdown",
      "metadata": {
        "id": "qnxBgTdbRITa"
      },
      "source": [
        "The target is normally distributed now."
      ]
    },
    {
      "cell_type": "code",
      "metadata": {
        "colab": {
          "base_uri": "https://localhost:8080/"
        },
        "id": "1J35G1hiRFBI",
        "outputId": "8aa22427-fabf-4d5c-b12e-04c1bcc08bd5"
      },
      "source": [
        "df.dtypes"
      ],
      "execution_count": 208,
      "outputs": [
        {
          "output_type": "execute_result",
          "data": {
            "text/plain": [
              "Airline             object\n",
              "Source              object\n",
              "Destination         object\n",
              "Total_Stops          int64\n",
              "Additional_Info     object\n",
              "Price              float64\n",
              "Temp                object\n",
              "day                  int64\n",
              "month                int64\n",
              "Dep_hour             int64\n",
              "Dep_min              int64\n",
              "Arrival_hour         int64\n",
              "Arrival_minute       int64\n",
              "duration           float64\n",
              "Route1               int64\n",
              "Route2               int64\n",
              "Route3               int64\n",
              "Route4               int64\n",
              "Route5               int64\n",
              "dtype: object"
            ]
          },
          "metadata": {
            "tags": []
          },
          "execution_count": 208
        }
      ]
    },
    {
      "cell_type": "code",
      "metadata": {
        "id": "kYobkZTIRNmH"
      },
      "source": [
        "one_hot_columns = ['Additional_Info','Airline', 'Destination','Source']\n",
        "df_new = pd.get_dummies(data = df,columns=one_hot_columns)"
      ],
      "execution_count": 209,
      "outputs": []
    },
    {
      "cell_type": "markdown",
      "metadata": {
        "id": "RRfRZiVlRTA-"
      },
      "source": [
        "we need convert the above columns one-hot encoder, since they are not ordinal values and also columns contains more than 2 unique values."
      ]
    },
    {
      "cell_type": "code",
      "metadata": {
        "colab": {
          "base_uri": "https://localhost:8080/",
          "height": 473
        },
        "id": "FRD03EUKRSJf",
        "outputId": "00ff1108-ac95-4c70-9df3-0d17bbb5ceee"
      },
      "source": [
        "pd.set_option('display.max_columns', None)\n",
        "df_new"
      ],
      "execution_count": 210,
      "outputs": [
        {
          "output_type": "execute_result",
          "data": {
            "text/html": [
              "<div>\n",
              "<style scoped>\n",
              "    .dataframe tbody tr th:only-of-type {\n",
              "        vertical-align: middle;\n",
              "    }\n",
              "\n",
              "    .dataframe tbody tr th {\n",
              "        vertical-align: top;\n",
              "    }\n",
              "\n",
              "    .dataframe thead th {\n",
              "        text-align: right;\n",
              "    }\n",
              "</style>\n",
              "<table border=\"1\" class=\"dataframe\">\n",
              "  <thead>\n",
              "    <tr style=\"text-align: right;\">\n",
              "      <th></th>\n",
              "      <th>Total_Stops</th>\n",
              "      <th>Price</th>\n",
              "      <th>Temp</th>\n",
              "      <th>day</th>\n",
              "      <th>month</th>\n",
              "      <th>Dep_hour</th>\n",
              "      <th>Dep_min</th>\n",
              "      <th>Arrival_hour</th>\n",
              "      <th>Arrival_minute</th>\n",
              "      <th>duration</th>\n",
              "      <th>Route1</th>\n",
              "      <th>Route2</th>\n",
              "      <th>Route3</th>\n",
              "      <th>Route4</th>\n",
              "      <th>Route5</th>\n",
              "      <th>Additional_Info_1 Short layover</th>\n",
              "      <th>Additional_Info_Business class</th>\n",
              "      <th>Additional_Info_Change airports</th>\n",
              "      <th>Additional_Info_In-flight meal not included</th>\n",
              "      <th>Additional_Info_Long layover</th>\n",
              "      <th>Additional_Info_No Info</th>\n",
              "      <th>Additional_Info_No check-in baggage included</th>\n",
              "      <th>Additional_Info_Red-eye flight</th>\n",
              "      <th>Airline_Air Asia</th>\n",
              "      <th>Airline_Air India</th>\n",
              "      <th>Airline_GoAir</th>\n",
              "      <th>Airline_IndiGo</th>\n",
              "      <th>Airline_Jet Airways</th>\n",
              "      <th>Airline_Multiple carriers</th>\n",
              "      <th>Airline_SpiceJet</th>\n",
              "      <th>Airline_Trujet</th>\n",
              "      <th>Airline_Vistara</th>\n",
              "      <th>Destination_Banglore</th>\n",
              "      <th>Destination_Cochin</th>\n",
              "      <th>Destination_Delhi</th>\n",
              "      <th>Destination_Hyderabad</th>\n",
              "      <th>Destination_Kolkata</th>\n",
              "      <th>Source_Banglore</th>\n",
              "      <th>Source_Chennai</th>\n",
              "      <th>Source_Delhi</th>\n",
              "      <th>Source_Kolkata</th>\n",
              "      <th>Source_Mumbai</th>\n",
              "    </tr>\n",
              "  </thead>\n",
              "  <tbody>\n",
              "    <tr>\n",
              "      <th>0</th>\n",
              "      <td>0</td>\n",
              "      <td>3897.0</td>\n",
              "      <td>Train</td>\n",
              "      <td>24</td>\n",
              "      <td>3</td>\n",
              "      <td>22</td>\n",
              "      <td>20</td>\n",
              "      <td>1</td>\n",
              "      <td>10</td>\n",
              "      <td>170.0</td>\n",
              "      <td>0</td>\n",
              "      <td>13</td>\n",
              "      <td>30</td>\n",
              "      <td>13</td>\n",
              "      <td>5</td>\n",
              "      <td>0</td>\n",
              "      <td>0</td>\n",
              "      <td>0</td>\n",
              "      <td>0</td>\n",
              "      <td>0</td>\n",
              "      <td>1</td>\n",
              "      <td>0</td>\n",
              "      <td>0</td>\n",
              "      <td>0</td>\n",
              "      <td>0</td>\n",
              "      <td>0</td>\n",
              "      <td>1</td>\n",
              "      <td>0</td>\n",
              "      <td>0</td>\n",
              "      <td>0</td>\n",
              "      <td>0</td>\n",
              "      <td>0</td>\n",
              "      <td>0</td>\n",
              "      <td>0</td>\n",
              "      <td>1</td>\n",
              "      <td>0</td>\n",
              "      <td>0</td>\n",
              "      <td>1</td>\n",
              "      <td>0</td>\n",
              "      <td>0</td>\n",
              "      <td>0</td>\n",
              "      <td>0</td>\n",
              "    </tr>\n",
              "    <tr>\n",
              "      <th>1</th>\n",
              "      <td>2</td>\n",
              "      <td>7662.0</td>\n",
              "      <td>Train</td>\n",
              "      <td>5</td>\n",
              "      <td>1</td>\n",
              "      <td>5</td>\n",
              "      <td>50</td>\n",
              "      <td>13</td>\n",
              "      <td>15</td>\n",
              "      <td>445.0</td>\n",
              "      <td>2</td>\n",
              "      <td>25</td>\n",
              "      <td>1</td>\n",
              "      <td>3</td>\n",
              "      <td>5</td>\n",
              "      <td>0</td>\n",
              "      <td>0</td>\n",
              "      <td>0</td>\n",
              "      <td>0</td>\n",
              "      <td>0</td>\n",
              "      <td>1</td>\n",
              "      <td>0</td>\n",
              "      <td>0</td>\n",
              "      <td>0</td>\n",
              "      <td>1</td>\n",
              "      <td>0</td>\n",
              "      <td>0</td>\n",
              "      <td>0</td>\n",
              "      <td>0</td>\n",
              "      <td>0</td>\n",
              "      <td>0</td>\n",
              "      <td>0</td>\n",
              "      <td>1</td>\n",
              "      <td>0</td>\n",
              "      <td>0</td>\n",
              "      <td>0</td>\n",
              "      <td>0</td>\n",
              "      <td>0</td>\n",
              "      <td>0</td>\n",
              "      <td>0</td>\n",
              "      <td>1</td>\n",
              "      <td>0</td>\n",
              "    </tr>\n",
              "    <tr>\n",
              "      <th>2</th>\n",
              "      <td>2</td>\n",
              "      <td>13882.0</td>\n",
              "      <td>Train</td>\n",
              "      <td>6</td>\n",
              "      <td>9</td>\n",
              "      <td>9</td>\n",
              "      <td>25</td>\n",
              "      <td>4</td>\n",
              "      <td>25</td>\n",
              "      <td>1140.0</td>\n",
              "      <td>3</td>\n",
              "      <td>32</td>\n",
              "      <td>4</td>\n",
              "      <td>5</td>\n",
              "      <td>5</td>\n",
              "      <td>0</td>\n",
              "      <td>0</td>\n",
              "      <td>0</td>\n",
              "      <td>0</td>\n",
              "      <td>0</td>\n",
              "      <td>1</td>\n",
              "      <td>0</td>\n",
              "      <td>0</td>\n",
              "      <td>0</td>\n",
              "      <td>0</td>\n",
              "      <td>0</td>\n",
              "      <td>0</td>\n",
              "      <td>1</td>\n",
              "      <td>0</td>\n",
              "      <td>0</td>\n",
              "      <td>0</td>\n",
              "      <td>0</td>\n",
              "      <td>0</td>\n",
              "      <td>1</td>\n",
              "      <td>0</td>\n",
              "      <td>0</td>\n",
              "      <td>0</td>\n",
              "      <td>0</td>\n",
              "      <td>0</td>\n",
              "      <td>1</td>\n",
              "      <td>0</td>\n",
              "      <td>0</td>\n",
              "    </tr>\n",
              "    <tr>\n",
              "      <th>3</th>\n",
              "      <td>1</td>\n",
              "      <td>6218.0</td>\n",
              "      <td>Train</td>\n",
              "      <td>5</td>\n",
              "      <td>12</td>\n",
              "      <td>18</td>\n",
              "      <td>5</td>\n",
              "      <td>23</td>\n",
              "      <td>30</td>\n",
              "      <td>325.0</td>\n",
              "      <td>2</td>\n",
              "      <td>34</td>\n",
              "      <td>3</td>\n",
              "      <td>13</td>\n",
              "      <td>5</td>\n",
              "      <td>0</td>\n",
              "      <td>0</td>\n",
              "      <td>0</td>\n",
              "      <td>0</td>\n",
              "      <td>0</td>\n",
              "      <td>1</td>\n",
              "      <td>0</td>\n",
              "      <td>0</td>\n",
              "      <td>0</td>\n",
              "      <td>0</td>\n",
              "      <td>0</td>\n",
              "      <td>1</td>\n",
              "      <td>0</td>\n",
              "      <td>0</td>\n",
              "      <td>0</td>\n",
              "      <td>0</td>\n",
              "      <td>0</td>\n",
              "      <td>1</td>\n",
              "      <td>0</td>\n",
              "      <td>0</td>\n",
              "      <td>0</td>\n",
              "      <td>0</td>\n",
              "      <td>0</td>\n",
              "      <td>0</td>\n",
              "      <td>0</td>\n",
              "      <td>1</td>\n",
              "      <td>0</td>\n",
              "    </tr>\n",
              "    <tr>\n",
              "      <th>4</th>\n",
              "      <td>1</td>\n",
              "      <td>13302.0</td>\n",
              "      <td>Train</td>\n",
              "      <td>3</td>\n",
              "      <td>1</td>\n",
              "      <td>16</td>\n",
              "      <td>50</td>\n",
              "      <td>21</td>\n",
              "      <td>35</td>\n",
              "      <td>285.0</td>\n",
              "      <td>0</td>\n",
              "      <td>34</td>\n",
              "      <td>8</td>\n",
              "      <td>13</td>\n",
              "      <td>5</td>\n",
              "      <td>0</td>\n",
              "      <td>0</td>\n",
              "      <td>0</td>\n",
              "      <td>0</td>\n",
              "      <td>0</td>\n",
              "      <td>1</td>\n",
              "      <td>0</td>\n",
              "      <td>0</td>\n",
              "      <td>0</td>\n",
              "      <td>0</td>\n",
              "      <td>0</td>\n",
              "      <td>1</td>\n",
              "      <td>0</td>\n",
              "      <td>0</td>\n",
              "      <td>0</td>\n",
              "      <td>0</td>\n",
              "      <td>0</td>\n",
              "      <td>0</td>\n",
              "      <td>0</td>\n",
              "      <td>1</td>\n",
              "      <td>0</td>\n",
              "      <td>0</td>\n",
              "      <td>1</td>\n",
              "      <td>0</td>\n",
              "      <td>0</td>\n",
              "      <td>0</td>\n",
              "      <td>0</td>\n",
              "    </tr>\n",
              "    <tr>\n",
              "      <th>...</th>\n",
              "      <td>...</td>\n",
              "      <td>...</td>\n",
              "      <td>...</td>\n",
              "      <td>...</td>\n",
              "      <td>...</td>\n",
              "      <td>...</td>\n",
              "      <td>...</td>\n",
              "      <td>...</td>\n",
              "      <td>...</td>\n",
              "      <td>...</td>\n",
              "      <td>...</td>\n",
              "      <td>...</td>\n",
              "      <td>...</td>\n",
              "      <td>...</td>\n",
              "      <td>...</td>\n",
              "      <td>...</td>\n",
              "      <td>...</td>\n",
              "      <td>...</td>\n",
              "      <td>...</td>\n",
              "      <td>...</td>\n",
              "      <td>...</td>\n",
              "      <td>...</td>\n",
              "      <td>...</td>\n",
              "      <td>...</td>\n",
              "      <td>...</td>\n",
              "      <td>...</td>\n",
              "      <td>...</td>\n",
              "      <td>...</td>\n",
              "      <td>...</td>\n",
              "      <td>...</td>\n",
              "      <td>...</td>\n",
              "      <td>...</td>\n",
              "      <td>...</td>\n",
              "      <td>...</td>\n",
              "      <td>...</td>\n",
              "      <td>...</td>\n",
              "      <td>...</td>\n",
              "      <td>...</td>\n",
              "      <td>...</td>\n",
              "      <td>...</td>\n",
              "      <td>...</td>\n",
              "      <td>...</td>\n",
              "    </tr>\n",
              "    <tr>\n",
              "      <th>13349</th>\n",
              "      <td>1</td>\n",
              "      <td>NaN</td>\n",
              "      <td>Test</td>\n",
              "      <td>6</td>\n",
              "      <td>6</td>\n",
              "      <td>20</td>\n",
              "      <td>30</td>\n",
              "      <td>20</td>\n",
              "      <td>25</td>\n",
              "      <td>1435.0</td>\n",
              "      <td>2</td>\n",
              "      <td>14</td>\n",
              "      <td>3</td>\n",
              "      <td>13</td>\n",
              "      <td>5</td>\n",
              "      <td>0</td>\n",
              "      <td>0</td>\n",
              "      <td>0</td>\n",
              "      <td>0</td>\n",
              "      <td>0</td>\n",
              "      <td>1</td>\n",
              "      <td>0</td>\n",
              "      <td>0</td>\n",
              "      <td>0</td>\n",
              "      <td>1</td>\n",
              "      <td>0</td>\n",
              "      <td>0</td>\n",
              "      <td>0</td>\n",
              "      <td>0</td>\n",
              "      <td>0</td>\n",
              "      <td>0</td>\n",
              "      <td>0</td>\n",
              "      <td>1</td>\n",
              "      <td>0</td>\n",
              "      <td>0</td>\n",
              "      <td>0</td>\n",
              "      <td>0</td>\n",
              "      <td>0</td>\n",
              "      <td>0</td>\n",
              "      <td>0</td>\n",
              "      <td>1</td>\n",
              "      <td>0</td>\n",
              "    </tr>\n",
              "    <tr>\n",
              "      <th>13350</th>\n",
              "      <td>0</td>\n",
              "      <td>NaN</td>\n",
              "      <td>Test</td>\n",
              "      <td>27</td>\n",
              "      <td>3</td>\n",
              "      <td>14</td>\n",
              "      <td>20</td>\n",
              "      <td>16</td>\n",
              "      <td>55</td>\n",
              "      <td>155.0</td>\n",
              "      <td>2</td>\n",
              "      <td>5</td>\n",
              "      <td>30</td>\n",
              "      <td>13</td>\n",
              "      <td>5</td>\n",
              "      <td>0</td>\n",
              "      <td>0</td>\n",
              "      <td>0</td>\n",
              "      <td>0</td>\n",
              "      <td>0</td>\n",
              "      <td>1</td>\n",
              "      <td>0</td>\n",
              "      <td>0</td>\n",
              "      <td>0</td>\n",
              "      <td>0</td>\n",
              "      <td>0</td>\n",
              "      <td>1</td>\n",
              "      <td>0</td>\n",
              "      <td>0</td>\n",
              "      <td>0</td>\n",
              "      <td>0</td>\n",
              "      <td>0</td>\n",
              "      <td>1</td>\n",
              "      <td>0</td>\n",
              "      <td>0</td>\n",
              "      <td>0</td>\n",
              "      <td>0</td>\n",
              "      <td>0</td>\n",
              "      <td>0</td>\n",
              "      <td>0</td>\n",
              "      <td>1</td>\n",
              "      <td>0</td>\n",
              "    </tr>\n",
              "    <tr>\n",
              "      <th>13351</th>\n",
              "      <td>1</td>\n",
              "      <td>NaN</td>\n",
              "      <td>Test</td>\n",
              "      <td>3</td>\n",
              "      <td>6</td>\n",
              "      <td>21</td>\n",
              "      <td>50</td>\n",
              "      <td>4</td>\n",
              "      <td>25</td>\n",
              "      <td>395.0</td>\n",
              "      <td>3</td>\n",
              "      <td>7</td>\n",
              "      <td>6</td>\n",
              "      <td>13</td>\n",
              "      <td>5</td>\n",
              "      <td>0</td>\n",
              "      <td>0</td>\n",
              "      <td>0</td>\n",
              "      <td>0</td>\n",
              "      <td>0</td>\n",
              "      <td>1</td>\n",
              "      <td>0</td>\n",
              "      <td>0</td>\n",
              "      <td>0</td>\n",
              "      <td>0</td>\n",
              "      <td>0</td>\n",
              "      <td>0</td>\n",
              "      <td>1</td>\n",
              "      <td>0</td>\n",
              "      <td>0</td>\n",
              "      <td>0</td>\n",
              "      <td>0</td>\n",
              "      <td>0</td>\n",
              "      <td>1</td>\n",
              "      <td>0</td>\n",
              "      <td>0</td>\n",
              "      <td>0</td>\n",
              "      <td>0</td>\n",
              "      <td>0</td>\n",
              "      <td>1</td>\n",
              "      <td>0</td>\n",
              "      <td>0</td>\n",
              "    </tr>\n",
              "    <tr>\n",
              "      <th>13352</th>\n",
              "      <td>1</td>\n",
              "      <td>NaN</td>\n",
              "      <td>Test</td>\n",
              "      <td>3</td>\n",
              "      <td>6</td>\n",
              "      <td>4</td>\n",
              "      <td>0</td>\n",
              "      <td>19</td>\n",
              "      <td>15</td>\n",
              "      <td>915.0</td>\n",
              "      <td>3</td>\n",
              "      <td>7</td>\n",
              "      <td>6</td>\n",
              "      <td>13</td>\n",
              "      <td>5</td>\n",
              "      <td>0</td>\n",
              "      <td>0</td>\n",
              "      <td>0</td>\n",
              "      <td>0</td>\n",
              "      <td>0</td>\n",
              "      <td>1</td>\n",
              "      <td>0</td>\n",
              "      <td>0</td>\n",
              "      <td>0</td>\n",
              "      <td>1</td>\n",
              "      <td>0</td>\n",
              "      <td>0</td>\n",
              "      <td>0</td>\n",
              "      <td>0</td>\n",
              "      <td>0</td>\n",
              "      <td>0</td>\n",
              "      <td>0</td>\n",
              "      <td>0</td>\n",
              "      <td>1</td>\n",
              "      <td>0</td>\n",
              "      <td>0</td>\n",
              "      <td>0</td>\n",
              "      <td>0</td>\n",
              "      <td>0</td>\n",
              "      <td>1</td>\n",
              "      <td>0</td>\n",
              "      <td>0</td>\n",
              "    </tr>\n",
              "    <tr>\n",
              "      <th>13353</th>\n",
              "      <td>1</td>\n",
              "      <td>NaN</td>\n",
              "      <td>Test</td>\n",
              "      <td>15</td>\n",
              "      <td>6</td>\n",
              "      <td>4</td>\n",
              "      <td>55</td>\n",
              "      <td>19</td>\n",
              "      <td>15</td>\n",
              "      <td>860.0</td>\n",
              "      <td>3</td>\n",
              "      <td>7</td>\n",
              "      <td>6</td>\n",
              "      <td>13</td>\n",
              "      <td>5</td>\n",
              "      <td>0</td>\n",
              "      <td>0</td>\n",
              "      <td>0</td>\n",
              "      <td>0</td>\n",
              "      <td>0</td>\n",
              "      <td>1</td>\n",
              "      <td>0</td>\n",
              "      <td>0</td>\n",
              "      <td>0</td>\n",
              "      <td>0</td>\n",
              "      <td>0</td>\n",
              "      <td>0</td>\n",
              "      <td>0</td>\n",
              "      <td>1</td>\n",
              "      <td>0</td>\n",
              "      <td>0</td>\n",
              "      <td>0</td>\n",
              "      <td>0</td>\n",
              "      <td>1</td>\n",
              "      <td>0</td>\n",
              "      <td>0</td>\n",
              "      <td>0</td>\n",
              "      <td>0</td>\n",
              "      <td>0</td>\n",
              "      <td>1</td>\n",
              "      <td>0</td>\n",
              "      <td>0</td>\n",
              "    </tr>\n",
              "  </tbody>\n",
              "</table>\n",
              "<p>13354 rows × 42 columns</p>\n",
              "</div>"
            ],
            "text/plain": [
              "       Total_Stops    Price   Temp  day  month  Dep_hour  Dep_min  \\\n",
              "0                0   3897.0  Train   24      3        22       20   \n",
              "1                2   7662.0  Train    5      1         5       50   \n",
              "2                2  13882.0  Train    6      9         9       25   \n",
              "3                1   6218.0  Train    5     12        18        5   \n",
              "4                1  13302.0  Train    3      1        16       50   \n",
              "...            ...      ...    ...  ...    ...       ...      ...   \n",
              "13349            1      NaN   Test    6      6        20       30   \n",
              "13350            0      NaN   Test   27      3        14       20   \n",
              "13351            1      NaN   Test    3      6        21       50   \n",
              "13352            1      NaN   Test    3      6         4        0   \n",
              "13353            1      NaN   Test   15      6         4       55   \n",
              "\n",
              "       Arrival_hour  Arrival_minute  duration  Route1  Route2  Route3  Route4  \\\n",
              "0                 1              10     170.0       0      13      30      13   \n",
              "1                13              15     445.0       2      25       1       3   \n",
              "2                 4              25    1140.0       3      32       4       5   \n",
              "3                23              30     325.0       2      34       3      13   \n",
              "4                21              35     285.0       0      34       8      13   \n",
              "...             ...             ...       ...     ...     ...     ...     ...   \n",
              "13349            20              25    1435.0       2      14       3      13   \n",
              "13350            16              55     155.0       2       5      30      13   \n",
              "13351             4              25     395.0       3       7       6      13   \n",
              "13352            19              15     915.0       3       7       6      13   \n",
              "13353            19              15     860.0       3       7       6      13   \n",
              "\n",
              "       Route5  Additional_Info_1 Short layover  \\\n",
              "0           5                                0   \n",
              "1           5                                0   \n",
              "2           5                                0   \n",
              "3           5                                0   \n",
              "4           5                                0   \n",
              "...       ...                              ...   \n",
              "13349       5                                0   \n",
              "13350       5                                0   \n",
              "13351       5                                0   \n",
              "13352       5                                0   \n",
              "13353       5                                0   \n",
              "\n",
              "       Additional_Info_Business class  Additional_Info_Change airports  \\\n",
              "0                                   0                                0   \n",
              "1                                   0                                0   \n",
              "2                                   0                                0   \n",
              "3                                   0                                0   \n",
              "4                                   0                                0   \n",
              "...                               ...                              ...   \n",
              "13349                               0                                0   \n",
              "13350                               0                                0   \n",
              "13351                               0                                0   \n",
              "13352                               0                                0   \n",
              "13353                               0                                0   \n",
              "\n",
              "       Additional_Info_In-flight meal not included  \\\n",
              "0                                                0   \n",
              "1                                                0   \n",
              "2                                                0   \n",
              "3                                                0   \n",
              "4                                                0   \n",
              "...                                            ...   \n",
              "13349                                            0   \n",
              "13350                                            0   \n",
              "13351                                            0   \n",
              "13352                                            0   \n",
              "13353                                            0   \n",
              "\n",
              "       Additional_Info_Long layover  Additional_Info_No Info  \\\n",
              "0                                 0                        1   \n",
              "1                                 0                        1   \n",
              "2                                 0                        1   \n",
              "3                                 0                        1   \n",
              "4                                 0                        1   \n",
              "...                             ...                      ...   \n",
              "13349                             0                        1   \n",
              "13350                             0                        1   \n",
              "13351                             0                        1   \n",
              "13352                             0                        1   \n",
              "13353                             0                        1   \n",
              "\n",
              "       Additional_Info_No check-in baggage included  \\\n",
              "0                                                 0   \n",
              "1                                                 0   \n",
              "2                                                 0   \n",
              "3                                                 0   \n",
              "4                                                 0   \n",
              "...                                             ...   \n",
              "13349                                             0   \n",
              "13350                                             0   \n",
              "13351                                             0   \n",
              "13352                                             0   \n",
              "13353                                             0   \n",
              "\n",
              "       Additional_Info_Red-eye flight  Airline_Air Asia  Airline_Air India  \\\n",
              "0                                   0                 0                  0   \n",
              "1                                   0                 0                  1   \n",
              "2                                   0                 0                  0   \n",
              "3                                   0                 0                  0   \n",
              "4                                   0                 0                  0   \n",
              "...                               ...               ...                ...   \n",
              "13349                               0                 0                  1   \n",
              "13350                               0                 0                  0   \n",
              "13351                               0                 0                  0   \n",
              "13352                               0                 0                  1   \n",
              "13353                               0                 0                  0   \n",
              "\n",
              "       Airline_GoAir  Airline_IndiGo  Airline_Jet Airways  \\\n",
              "0                  0               1                    0   \n",
              "1                  0               0                    0   \n",
              "2                  0               0                    1   \n",
              "3                  0               1                    0   \n",
              "4                  0               1                    0   \n",
              "...              ...             ...                  ...   \n",
              "13349              0               0                    0   \n",
              "13350              0               1                    0   \n",
              "13351              0               0                    1   \n",
              "13352              0               0                    0   \n",
              "13353              0               0                    0   \n",
              "\n",
              "       Airline_Multiple carriers  Airline_SpiceJet  Airline_Trujet  \\\n",
              "0                              0                 0               0   \n",
              "1                              0                 0               0   \n",
              "2                              0                 0               0   \n",
              "3                              0                 0               0   \n",
              "4                              0                 0               0   \n",
              "...                          ...               ...             ...   \n",
              "13349                          0                 0               0   \n",
              "13350                          0                 0               0   \n",
              "13351                          0                 0               0   \n",
              "13352                          0                 0               0   \n",
              "13353                          1                 0               0   \n",
              "\n",
              "       Airline_Vistara  Destination_Banglore  Destination_Cochin  \\\n",
              "0                    0                     0                   0   \n",
              "1                    0                     1                   0   \n",
              "2                    0                     0                   1   \n",
              "3                    0                     1                   0   \n",
              "4                    0                     0                   0   \n",
              "...                ...                   ...                 ...   \n",
              "13349                0                     1                   0   \n",
              "13350                0                     1                   0   \n",
              "13351                0                     0                   1   \n",
              "13352                0                     0                   1   \n",
              "13353                0                     0                   1   \n",
              "\n",
              "       Destination_Delhi  Destination_Hyderabad  Destination_Kolkata  \\\n",
              "0                      1                      0                    0   \n",
              "1                      0                      0                    0   \n",
              "2                      0                      0                    0   \n",
              "3                      0                      0                    0   \n",
              "4                      1                      0                    0   \n",
              "...                  ...                    ...                  ...   \n",
              "13349                  0                      0                    0   \n",
              "13350                  0                      0                    0   \n",
              "13351                  0                      0                    0   \n",
              "13352                  0                      0                    0   \n",
              "13353                  0                      0                    0   \n",
              "\n",
              "       Source_Banglore  Source_Chennai  Source_Delhi  Source_Kolkata  \\\n",
              "0                    1               0             0               0   \n",
              "1                    0               0             0               1   \n",
              "2                    0               0             1               0   \n",
              "3                    0               0             0               1   \n",
              "4                    1               0             0               0   \n",
              "...                ...             ...           ...             ...   \n",
              "13349                0               0             0               1   \n",
              "13350                0               0             0               1   \n",
              "13351                0               0             1               0   \n",
              "13352                0               0             1               0   \n",
              "13353                0               0             1               0   \n",
              "\n",
              "       Source_Mumbai  \n",
              "0                  0  \n",
              "1                  0  \n",
              "2                  0  \n",
              "3                  0  \n",
              "4                  0  \n",
              "...              ...  \n",
              "13349              0  \n",
              "13350              0  \n",
              "13351              0  \n",
              "13352              0  \n",
              "13353              0  \n",
              "\n",
              "[13354 rows x 42 columns]"
            ]
          },
          "metadata": {
            "tags": []
          },
          "execution_count": 210
        }
      ]
    },
    {
      "cell_type": "markdown",
      "metadata": {
        "id": "omTdHENpRcy5"
      },
      "source": [
        "## Scaling the Data"
      ]
    },
    {
      "cell_type": "code",
      "metadata": {
        "id": "bsoTuhATRZ4D"
      },
      "source": [
        "#lets split our x and y column before scaling\n",
        "#x and y spitting\n",
        "Y = df_new['Price']\n",
        "X = df_new.drop('Price',axis = 1)"
      ],
      "execution_count": 211,
      "outputs": []
    },
    {
      "cell_type": "code",
      "metadata": {
        "id": "JR7thwBMRgT6"
      },
      "source": [
        "#dropping temp column\n",
        "temp = X['Temp']\n",
        "\n",
        "X.drop('Temp',axis =1 ,inplace = True)"
      ],
      "execution_count": 212,
      "outputs": []
    },
    {
      "cell_type": "code",
      "metadata": {
        "colab": {
          "base_uri": "https://localhost:8080/"
        },
        "id": "q1bl1WbaRib4",
        "outputId": "6a32ad4c-5a08-4410-c701-e5c5775a9922"
      },
      "source": [
        "X.shape"
      ],
      "execution_count": 213,
      "outputs": [
        {
          "output_type": "execute_result",
          "data": {
            "text/plain": [
              "(13354, 40)"
            ]
          },
          "metadata": {
            "tags": []
          },
          "execution_count": 213
        }
      ]
    },
    {
      "cell_type": "code",
      "metadata": {
        "colab": {
          "base_uri": "https://localhost:8080/"
        },
        "id": "o1TL6yZURkg0",
        "outputId": "05ddf0e3-89af-4742-f3f9-02e7dbdd193f"
      },
      "source": [
        "Y.shape"
      ],
      "execution_count": 214,
      "outputs": [
        {
          "output_type": "execute_result",
          "data": {
            "text/plain": [
              "(13354,)"
            ]
          },
          "metadata": {
            "tags": []
          },
          "execution_count": 214
        }
      ]
    },
    {
      "cell_type": "code",
      "metadata": {
        "colab": {
          "base_uri": "https://localhost:8080/",
          "height": 258
        },
        "id": "x7oUbciERmVT",
        "outputId": "ab4b85e1-e03b-4a99-d6f0-93c44b456d33"
      },
      "source": [
        "#Lets scale the data using standard scaler\n",
        "scaler = StandardScaler()\n",
        "scaled_X = pd.DataFrame(scaler.fit_transform(X),columns= X.columns)\n",
        "scaled_X.head()"
      ],
      "execution_count": 215,
      "outputs": [
        {
          "output_type": "execute_result",
          "data": {
            "text/html": [
              "<div>\n",
              "<style scoped>\n",
              "    .dataframe tbody tr th:only-of-type {\n",
              "        vertical-align: middle;\n",
              "    }\n",
              "\n",
              "    .dataframe tbody tr th {\n",
              "        vertical-align: top;\n",
              "    }\n",
              "\n",
              "    .dataframe thead th {\n",
              "        text-align: right;\n",
              "    }\n",
              "</style>\n",
              "<table border=\"1\" class=\"dataframe\">\n",
              "  <thead>\n",
              "    <tr style=\"text-align: right;\">\n",
              "      <th></th>\n",
              "      <th>Total_Stops</th>\n",
              "      <th>day</th>\n",
              "      <th>month</th>\n",
              "      <th>Dep_hour</th>\n",
              "      <th>Dep_min</th>\n",
              "      <th>Arrival_hour</th>\n",
              "      <th>Arrival_minute</th>\n",
              "      <th>duration</th>\n",
              "      <th>Route1</th>\n",
              "      <th>Route2</th>\n",
              "      <th>Route3</th>\n",
              "      <th>Route4</th>\n",
              "      <th>Route5</th>\n",
              "      <th>Additional_Info_1 Short layover</th>\n",
              "      <th>Additional_Info_Business class</th>\n",
              "      <th>Additional_Info_Change airports</th>\n",
              "      <th>Additional_Info_In-flight meal not included</th>\n",
              "      <th>Additional_Info_Long layover</th>\n",
              "      <th>Additional_Info_No Info</th>\n",
              "      <th>Additional_Info_No check-in baggage included</th>\n",
              "      <th>Additional_Info_Red-eye flight</th>\n",
              "      <th>Airline_Air Asia</th>\n",
              "      <th>Airline_Air India</th>\n",
              "      <th>Airline_GoAir</th>\n",
              "      <th>Airline_IndiGo</th>\n",
              "      <th>Airline_Jet Airways</th>\n",
              "      <th>Airline_Multiple carriers</th>\n",
              "      <th>Airline_SpiceJet</th>\n",
              "      <th>Airline_Trujet</th>\n",
              "      <th>Airline_Vistara</th>\n",
              "      <th>Destination_Banglore</th>\n",
              "      <th>Destination_Cochin</th>\n",
              "      <th>Destination_Delhi</th>\n",
              "      <th>Destination_Hyderabad</th>\n",
              "      <th>Destination_Kolkata</th>\n",
              "      <th>Source_Banglore</th>\n",
              "      <th>Source_Chennai</th>\n",
              "      <th>Source_Delhi</th>\n",
              "      <th>Source_Kolkata</th>\n",
              "      <th>Source_Mumbai</th>\n",
              "    </tr>\n",
              "  </thead>\n",
              "  <tbody>\n",
              "    <tr>\n",
              "      <th>0</th>\n",
              "      <td>-1.224526</td>\n",
              "      <td>1.307001</td>\n",
              "      <td>-0.850161</td>\n",
              "      <td>1.653879</td>\n",
              "      <td>-0.239345</td>\n",
              "      <td>-1.797602</td>\n",
              "      <td>-0.885564</td>\n",
              "      <td>-0.845671</td>\n",
              "      <td>-1.672466</td>\n",
              "      <td>0.137945</td>\n",
              "      <td>1.403564</td>\n",
              "      <td>0.409595</td>\n",
              "      <td>0.064325</td>\n",
              "      <td>-0.008654</td>\n",
              "      <td>-0.019354</td>\n",
              "      <td>-0.024483</td>\n",
              "      <td>-0.471167</td>\n",
              "      <td>-0.039687</td>\n",
              "      <td>0.521818</td>\n",
              "      <td>-0.174815</td>\n",
              "      <td>-0.008654</td>\n",
              "      <td>-0.176852</td>\n",
              "      <td>-0.443148</td>\n",
              "      <td>-0.135281</td>\n",
              "      <td>2.051406</td>\n",
              "      <td>-0.743499</td>\n",
              "      <td>-0.363558</td>\n",
              "      <td>-0.288488</td>\n",
              "      <td>-0.008654</td>\n",
              "      <td>-0.219345</td>\n",
              "      <td>-0.605324</td>\n",
              "      <td>-0.860590</td>\n",
              "      <td>1.962771</td>\n",
              "      <td>-0.266091</td>\n",
              "      <td>-0.188027</td>\n",
              "      <td>1.962771</td>\n",
              "      <td>-0.188027</td>\n",
              "      <td>-0.860590</td>\n",
              "      <td>-0.605324</td>\n",
              "      <td>-0.266091</td>\n",
              "    </tr>\n",
              "    <tr>\n",
              "      <th>1</th>\n",
              "      <td>1.740268</td>\n",
              "      <td>-0.862038</td>\n",
              "      <td>-1.517144</td>\n",
              "      <td>-1.309829</td>\n",
              "      <td>1.353715</td>\n",
              "      <td>-0.057434</td>\n",
              "      <td>-0.583615</td>\n",
              "      <td>-0.126558</td>\n",
              "      <td>-0.012863</td>\n",
              "      <td>1.641200</td>\n",
              "      <td>-1.065884</td>\n",
              "      <td>-2.978701</td>\n",
              "      <td>0.064325</td>\n",
              "      <td>-0.008654</td>\n",
              "      <td>-0.019354</td>\n",
              "      <td>-0.024483</td>\n",
              "      <td>-0.471167</td>\n",
              "      <td>-0.039687</td>\n",
              "      <td>0.521818</td>\n",
              "      <td>-0.174815</td>\n",
              "      <td>-0.008654</td>\n",
              "      <td>-0.176852</td>\n",
              "      <td>2.256580</td>\n",
              "      <td>-0.135281</td>\n",
              "      <td>-0.487470</td>\n",
              "      <td>-0.743499</td>\n",
              "      <td>-0.363558</td>\n",
              "      <td>-0.288488</td>\n",
              "      <td>-0.008654</td>\n",
              "      <td>-0.219345</td>\n",
              "      <td>1.652007</td>\n",
              "      <td>-0.860590</td>\n",
              "      <td>-0.509484</td>\n",
              "      <td>-0.266091</td>\n",
              "      <td>-0.188027</td>\n",
              "      <td>-0.509484</td>\n",
              "      <td>-0.188027</td>\n",
              "      <td>-0.860590</td>\n",
              "      <td>1.652007</td>\n",
              "      <td>-0.266091</td>\n",
              "    </tr>\n",
              "    <tr>\n",
              "      <th>2</th>\n",
              "      <td>1.740268</td>\n",
              "      <td>-0.747878</td>\n",
              "      <td>1.150788</td>\n",
              "      <td>-0.612486</td>\n",
              "      <td>0.026165</td>\n",
              "      <td>-1.362560</td>\n",
              "      <td>0.020282</td>\n",
              "      <td>1.690836</td>\n",
              "      <td>0.816939</td>\n",
              "      <td>2.518099</td>\n",
              "      <td>-0.810424</td>\n",
              "      <td>-2.301042</td>\n",
              "      <td>0.064325</td>\n",
              "      <td>-0.008654</td>\n",
              "      <td>-0.019354</td>\n",
              "      <td>-0.024483</td>\n",
              "      <td>-0.471167</td>\n",
              "      <td>-0.039687</td>\n",
              "      <td>0.521818</td>\n",
              "      <td>-0.174815</td>\n",
              "      <td>-0.008654</td>\n",
              "      <td>-0.176852</td>\n",
              "      <td>-0.443148</td>\n",
              "      <td>-0.135281</td>\n",
              "      <td>-0.487470</td>\n",
              "      <td>1.344992</td>\n",
              "      <td>-0.363558</td>\n",
              "      <td>-0.288488</td>\n",
              "      <td>-0.008654</td>\n",
              "      <td>-0.219345</td>\n",
              "      <td>-0.605324</td>\n",
              "      <td>1.161993</td>\n",
              "      <td>-0.509484</td>\n",
              "      <td>-0.266091</td>\n",
              "      <td>-0.188027</td>\n",
              "      <td>-0.509484</td>\n",
              "      <td>-0.188027</td>\n",
              "      <td>1.161993</td>\n",
              "      <td>-0.605324</td>\n",
              "      <td>-0.266091</td>\n",
              "    </tr>\n",
              "    <tr>\n",
              "      <th>3</th>\n",
              "      <td>0.257871</td>\n",
              "      <td>-0.862038</td>\n",
              "      <td>2.151262</td>\n",
              "      <td>0.956536</td>\n",
              "      <td>-1.035875</td>\n",
              "      <td>1.392705</td>\n",
              "      <td>0.322231</td>\n",
              "      <td>-0.440353</td>\n",
              "      <td>-0.012863</td>\n",
              "      <td>2.768642</td>\n",
              "      <td>-0.895577</td>\n",
              "      <td>0.409595</td>\n",
              "      <td>0.064325</td>\n",
              "      <td>-0.008654</td>\n",
              "      <td>-0.019354</td>\n",
              "      <td>-0.024483</td>\n",
              "      <td>-0.471167</td>\n",
              "      <td>-0.039687</td>\n",
              "      <td>0.521818</td>\n",
              "      <td>-0.174815</td>\n",
              "      <td>-0.008654</td>\n",
              "      <td>-0.176852</td>\n",
              "      <td>-0.443148</td>\n",
              "      <td>-0.135281</td>\n",
              "      <td>2.051406</td>\n",
              "      <td>-0.743499</td>\n",
              "      <td>-0.363558</td>\n",
              "      <td>-0.288488</td>\n",
              "      <td>-0.008654</td>\n",
              "      <td>-0.219345</td>\n",
              "      <td>1.652007</td>\n",
              "      <td>-0.860590</td>\n",
              "      <td>-0.509484</td>\n",
              "      <td>-0.266091</td>\n",
              "      <td>-0.188027</td>\n",
              "      <td>-0.509484</td>\n",
              "      <td>-0.188027</td>\n",
              "      <td>-0.860590</td>\n",
              "      <td>1.652007</td>\n",
              "      <td>-0.266091</td>\n",
              "    </tr>\n",
              "    <tr>\n",
              "      <th>4</th>\n",
              "      <td>0.257871</td>\n",
              "      <td>-1.090358</td>\n",
              "      <td>-1.517144</td>\n",
              "      <td>0.607864</td>\n",
              "      <td>1.353715</td>\n",
              "      <td>1.102677</td>\n",
              "      <td>0.624180</td>\n",
              "      <td>-0.544951</td>\n",
              "      <td>-1.672466</td>\n",
              "      <td>2.768642</td>\n",
              "      <td>-0.469810</td>\n",
              "      <td>0.409595</td>\n",
              "      <td>0.064325</td>\n",
              "      <td>-0.008654</td>\n",
              "      <td>-0.019354</td>\n",
              "      <td>-0.024483</td>\n",
              "      <td>-0.471167</td>\n",
              "      <td>-0.039687</td>\n",
              "      <td>0.521818</td>\n",
              "      <td>-0.174815</td>\n",
              "      <td>-0.008654</td>\n",
              "      <td>-0.176852</td>\n",
              "      <td>-0.443148</td>\n",
              "      <td>-0.135281</td>\n",
              "      <td>2.051406</td>\n",
              "      <td>-0.743499</td>\n",
              "      <td>-0.363558</td>\n",
              "      <td>-0.288488</td>\n",
              "      <td>-0.008654</td>\n",
              "      <td>-0.219345</td>\n",
              "      <td>-0.605324</td>\n",
              "      <td>-0.860590</td>\n",
              "      <td>1.962771</td>\n",
              "      <td>-0.266091</td>\n",
              "      <td>-0.188027</td>\n",
              "      <td>1.962771</td>\n",
              "      <td>-0.188027</td>\n",
              "      <td>-0.860590</td>\n",
              "      <td>-0.605324</td>\n",
              "      <td>-0.266091</td>\n",
              "    </tr>\n",
              "  </tbody>\n",
              "</table>\n",
              "</div>"
            ],
            "text/plain": [
              "   Total_Stops       day     month  Dep_hour   Dep_min  Arrival_hour  \\\n",
              "0    -1.224526  1.307001 -0.850161  1.653879 -0.239345     -1.797602   \n",
              "1     1.740268 -0.862038 -1.517144 -1.309829  1.353715     -0.057434   \n",
              "2     1.740268 -0.747878  1.150788 -0.612486  0.026165     -1.362560   \n",
              "3     0.257871 -0.862038  2.151262  0.956536 -1.035875      1.392705   \n",
              "4     0.257871 -1.090358 -1.517144  0.607864  1.353715      1.102677   \n",
              "\n",
              "   Arrival_minute  duration    Route1    Route2    Route3    Route4    Route5  \\\n",
              "0       -0.885564 -0.845671 -1.672466  0.137945  1.403564  0.409595  0.064325   \n",
              "1       -0.583615 -0.126558 -0.012863  1.641200 -1.065884 -2.978701  0.064325   \n",
              "2        0.020282  1.690836  0.816939  2.518099 -0.810424 -2.301042  0.064325   \n",
              "3        0.322231 -0.440353 -0.012863  2.768642 -0.895577  0.409595  0.064325   \n",
              "4        0.624180 -0.544951 -1.672466  2.768642 -0.469810  0.409595  0.064325   \n",
              "\n",
              "   Additional_Info_1 Short layover  Additional_Info_Business class  \\\n",
              "0                        -0.008654                       -0.019354   \n",
              "1                        -0.008654                       -0.019354   \n",
              "2                        -0.008654                       -0.019354   \n",
              "3                        -0.008654                       -0.019354   \n",
              "4                        -0.008654                       -0.019354   \n",
              "\n",
              "   Additional_Info_Change airports  \\\n",
              "0                        -0.024483   \n",
              "1                        -0.024483   \n",
              "2                        -0.024483   \n",
              "3                        -0.024483   \n",
              "4                        -0.024483   \n",
              "\n",
              "   Additional_Info_In-flight meal not included  Additional_Info_Long layover  \\\n",
              "0                                    -0.471167                     -0.039687   \n",
              "1                                    -0.471167                     -0.039687   \n",
              "2                                    -0.471167                     -0.039687   \n",
              "3                                    -0.471167                     -0.039687   \n",
              "4                                    -0.471167                     -0.039687   \n",
              "\n",
              "   Additional_Info_No Info  Additional_Info_No check-in baggage included  \\\n",
              "0                 0.521818                                     -0.174815   \n",
              "1                 0.521818                                     -0.174815   \n",
              "2                 0.521818                                     -0.174815   \n",
              "3                 0.521818                                     -0.174815   \n",
              "4                 0.521818                                     -0.174815   \n",
              "\n",
              "   Additional_Info_Red-eye flight  Airline_Air Asia  Airline_Air India  \\\n",
              "0                       -0.008654         -0.176852          -0.443148   \n",
              "1                       -0.008654         -0.176852           2.256580   \n",
              "2                       -0.008654         -0.176852          -0.443148   \n",
              "3                       -0.008654         -0.176852          -0.443148   \n",
              "4                       -0.008654         -0.176852          -0.443148   \n",
              "\n",
              "   Airline_GoAir  Airline_IndiGo  Airline_Jet Airways  \\\n",
              "0      -0.135281        2.051406            -0.743499   \n",
              "1      -0.135281       -0.487470            -0.743499   \n",
              "2      -0.135281       -0.487470             1.344992   \n",
              "3      -0.135281        2.051406            -0.743499   \n",
              "4      -0.135281        2.051406            -0.743499   \n",
              "\n",
              "   Airline_Multiple carriers  Airline_SpiceJet  Airline_Trujet  \\\n",
              "0                  -0.363558         -0.288488       -0.008654   \n",
              "1                  -0.363558         -0.288488       -0.008654   \n",
              "2                  -0.363558         -0.288488       -0.008654   \n",
              "3                  -0.363558         -0.288488       -0.008654   \n",
              "4                  -0.363558         -0.288488       -0.008654   \n",
              "\n",
              "   Airline_Vistara  Destination_Banglore  Destination_Cochin  \\\n",
              "0        -0.219345             -0.605324           -0.860590   \n",
              "1        -0.219345              1.652007           -0.860590   \n",
              "2        -0.219345             -0.605324            1.161993   \n",
              "3        -0.219345              1.652007           -0.860590   \n",
              "4        -0.219345             -0.605324           -0.860590   \n",
              "\n",
              "   Destination_Delhi  Destination_Hyderabad  Destination_Kolkata  \\\n",
              "0           1.962771              -0.266091            -0.188027   \n",
              "1          -0.509484              -0.266091            -0.188027   \n",
              "2          -0.509484              -0.266091            -0.188027   \n",
              "3          -0.509484              -0.266091            -0.188027   \n",
              "4           1.962771              -0.266091            -0.188027   \n",
              "\n",
              "   Source_Banglore  Source_Chennai  Source_Delhi  Source_Kolkata  \\\n",
              "0         1.962771       -0.188027     -0.860590       -0.605324   \n",
              "1        -0.509484       -0.188027     -0.860590        1.652007   \n",
              "2        -0.509484       -0.188027      1.161993       -0.605324   \n",
              "3        -0.509484       -0.188027     -0.860590        1.652007   \n",
              "4         1.962771       -0.188027     -0.860590       -0.605324   \n",
              "\n",
              "   Source_Mumbai  \n",
              "0      -0.266091  \n",
              "1      -0.266091  \n",
              "2      -0.266091  \n",
              "3      -0.266091  \n",
              "4      -0.266091  "
            ]
          },
          "metadata": {
            "tags": []
          },
          "execution_count": 215
        }
      ]
    },
    {
      "cell_type": "markdown",
      "metadata": {
        "id": "fm8ih350Rsp9"
      },
      "source": [
        "*Now our data is scaled using standard scaler*"
      ]
    },
    {
      "cell_type": "markdown",
      "metadata": {
        "id": "dTq3V8dkR9Ob"
      },
      "source": [
        "# PCA (Principal Component Analysis)\n",
        "\n",
        "we need to use pca becuase we have 44 columns in this dataset which is very high we should always use scaled data for performing the PCA .\n"
      ]
    },
    {
      "cell_type": "code",
      "metadata": {
        "colab": {
          "base_uri": "https://localhost:8080/"
        },
        "id": "j8srSGMzRoqF",
        "outputId": "8830d7f6-c29e-420a-ac95-507adce0201b"
      },
      "source": [
        "#we have 44 columns excluding target variable\n",
        "scaled_X.shape"
      ],
      "execution_count": 216,
      "outputs": [
        {
          "output_type": "execute_result",
          "data": {
            "text/plain": [
              "(13354, 40)"
            ]
          },
          "metadata": {
            "tags": []
          },
          "execution_count": 216
        }
      ]
    },
    {
      "cell_type": "code",
      "metadata": {
        "id": "--mRWQQySK0t"
      },
      "source": [
        "#first lets TEST out percentage of data that we will obtain after PCA\n",
        "testpca = PCA()\n",
        "test_x = testpca.fit(scaled_X)"
      ],
      "execution_count": 217,
      "outputs": []
    },
    {
      "cell_type": "code",
      "metadata": {
        "colab": {
          "base_uri": "https://localhost:8080/"
        },
        "id": "6QBvaMyYSNUC",
        "outputId": "a61b035e-7278-415f-951e-43dd6b908349"
      },
      "source": [
        "#now lets out cumulative score \n",
        "cum_score = np.cumsum(test_x.explained_variance_ratio_)*100\n",
        "cum_score"
      ],
      "execution_count": 218,
      "outputs": [
        {
          "output_type": "execute_result",
          "data": {
            "text/plain": [
              "array([ 13.71820183,  21.97588004,  29.19522939,  35.43762899,\n",
              "        41.23975973,  45.87119964,  49.75357646,  52.94086854,\n",
              "        56.01483575,  58.96798442,  61.78039697,  64.4130709 ,\n",
              "        66.9979534 ,  69.53746001,  72.04509815,  74.5466011 ,\n",
              "        77.04372889,  79.51466948,  81.95655724,  84.38674166,\n",
              "        86.64726436,  88.7616203 ,  90.57927423,  92.31673586,\n",
              "        93.96947329,  95.50716746,  96.9213382 ,  98.22985547,\n",
              "        99.17368119,  99.96452549, 100.        , 100.        ,\n",
              "       100.        , 100.        , 100.        , 100.        ,\n",
              "       100.        , 100.        , 100.        , 100.        ])"
            ]
          },
          "metadata": {
            "tags": []
          },
          "execution_count": 218
        }
      ]
    },
    {
      "cell_type": "code",
      "metadata": {
        "colab": {
          "base_uri": "https://localhost:8080/"
        },
        "id": "Er6tH-DUSS-D",
        "outputId": "73fcda75-db38-46df-efd0-299392b7fffb"
      },
      "source": [
        "#lets check how many columns gives 95% of variance\n",
        "s = np.argmax(cum_score > 95)\n",
        "print(\"Number of components expaining 95% of variance is :\", s)"
      ],
      "execution_count": 219,
      "outputs": [
        {
          "output_type": "stream",
          "text": [
            "Number of components expaining 95% of variance is : 25\n"
          ],
          "name": "stdout"
        }
      ]
    },
    {
      "cell_type": "code",
      "metadata": {
        "colab": {
          "base_uri": "https://localhost:8080/"
        },
        "id": "Ll15bxa3SbJa",
        "outputId": "c56dae3d-57c0-4479-a534-90b60adcd65c"
      },
      "source": [
        "#lets check how many columns gives 90% of variance\n",
        "s = np.argmax(cum_score > 90)\n",
        "print(\"Number of components expaining 90% of variance is :\", s)"
      ],
      "execution_count": 220,
      "outputs": [
        {
          "output_type": "stream",
          "text": [
            "Number of components expaining 90% of variance is : 22\n"
          ],
          "name": "stdout"
        }
      ]
    },
    {
      "cell_type": "markdown",
      "metadata": {
        "id": "cx46XtxJSnL2"
      },
      "source": [
        "**Now we have seen that how much data will be lost based number of columns .**"
      ]
    },
    {
      "cell_type": "code",
      "metadata": {
        "colab": {
          "base_uri": "https://localhost:8080/",
          "height": 279
        },
        "id": "TdOo39BVSe_e",
        "outputId": "1f6f8f12-99d8-4c72-87da-5e8f02de5e2e"
      },
      "source": [
        "#lets plot the graph for graphical understanding\n",
        "plt.ylabel('Cumulative Explained Ratio')\n",
        "plt.xlabel('Principle Components')\n",
        "\n",
        "plt.axvline(x = s, color = 'k', linestyle = '--')\n",
        "plt.axhline(y = 90, color = 'k', linestyle = '--')\n",
        "\n",
        "plt.plot(cum_score)\n",
        "plt.show()"
      ],
      "execution_count": 221,
      "outputs": [
        {
          "output_type": "display_data",
          "data": {
            "image/png": "[encoded data removed]",
            "text/plain": [
              "<Figure size 432x288 with 1 Axes>"
            ]
          },
          "metadata": {
            "tags": [],
            "needs_background": "light"
          }
        }
      ]
    },
    {
      "cell_type": "code",
      "metadata": {
        "id": "8j2ejRmbSt-D"
      },
      "source": [
        "#lets perform the PCA with 22 columns\n",
        "Final_pca = PCA(n_components= 22)\n",
        "\n",
        "pca_x = pd.DataFrame(Final_pca.fit_transform(scaled_X))"
      ],
      "execution_count": 222,
      "outputs": []
    },
    {
      "cell_type": "code",
      "metadata": {
        "colab": {
          "base_uri": "https://localhost:8080/",
          "height": 439
        },
        "id": "JydOm4jkSwcH",
        "outputId": "89cab095-9d4c-4779-c45c-a32e053e9ddf"
      },
      "source": [
        "#lets create a datafram\n",
        "pca_x"
      ],
      "execution_count": 223,
      "outputs": [
        {
          "output_type": "execute_result",
          "data": {
            "text/html": [
              "<div>\n",
              "<style scoped>\n",
              "    .dataframe tbody tr th:only-of-type {\n",
              "        vertical-align: middle;\n",
              "    }\n",
              "\n",
              "    .dataframe tbody tr th {\n",
              "        vertical-align: top;\n",
              "    }\n",
              "\n",
              "    .dataframe thead th {\n",
              "        text-align: right;\n",
              "    }\n",
              "</style>\n",
              "<table border=\"1\" class=\"dataframe\">\n",
              "  <thead>\n",
              "    <tr style=\"text-align: right;\">\n",
              "      <th></th>\n",
              "      <th>0</th>\n",
              "      <th>1</th>\n",
              "      <th>2</th>\n",
              "      <th>3</th>\n",
              "      <th>4</th>\n",
              "      <th>5</th>\n",
              "      <th>6</th>\n",
              "      <th>7</th>\n",
              "      <th>8</th>\n",
              "      <th>9</th>\n",
              "      <th>10</th>\n",
              "      <th>11</th>\n",
              "      <th>12</th>\n",
              "      <th>13</th>\n",
              "      <th>14</th>\n",
              "      <th>15</th>\n",
              "      <th>16</th>\n",
              "      <th>17</th>\n",
              "      <th>18</th>\n",
              "      <th>19</th>\n",
              "      <th>20</th>\n",
              "      <th>21</th>\n",
              "    </tr>\n",
              "  </thead>\n",
              "  <tbody>\n",
              "    <tr>\n",
              "      <th>0</th>\n",
              "      <td>3.619434</td>\n",
              "      <td>-1.099806</td>\n",
              "      <td>-1.763158</td>\n",
              "      <td>0.132065</td>\n",
              "      <td>-1.176502</td>\n",
              "      <td>-0.571054</td>\n",
              "      <td>-0.208621</td>\n",
              "      <td>1.911988</td>\n",
              "      <td>-0.296029</td>\n",
              "      <td>-1.266347</td>\n",
              "      <td>-0.819398</td>\n",
              "      <td>0.865049</td>\n",
              "      <td>0.193510</td>\n",
              "      <td>-0.530174</td>\n",
              "      <td>-0.558485</td>\n",
              "      <td>-0.103287</td>\n",
              "      <td>0.076993</td>\n",
              "      <td>-0.416985</td>\n",
              "      <td>-0.824124</td>\n",
              "      <td>-0.109984</td>\n",
              "      <td>0.557787</td>\n",
              "      <td>-1.394862</td>\n",
              "    </tr>\n",
              "    <tr>\n",
              "      <th>1</th>\n",
              "      <td>-1.217543</td>\n",
              "      <td>1.648440</td>\n",
              "      <td>0.538227</td>\n",
              "      <td>3.488884</td>\n",
              "      <td>1.091593</td>\n",
              "      <td>2.748884</td>\n",
              "      <td>0.363446</td>\n",
              "      <td>0.336575</td>\n",
              "      <td>-0.519694</td>\n",
              "      <td>0.878565</td>\n",
              "      <td>-1.368389</td>\n",
              "      <td>-0.206002</td>\n",
              "      <td>-0.281283</td>\n",
              "      <td>0.439071</td>\n",
              "      <td>-0.196175</td>\n",
              "      <td>-0.020853</td>\n",
              "      <td>0.006594</td>\n",
              "      <td>-0.156896</td>\n",
              "      <td>0.331411</td>\n",
              "      <td>0.600441</td>\n",
              "      <td>-1.434510</td>\n",
              "      <td>0.130009</td>\n",
              "    </tr>\n",
              "    <tr>\n",
              "      <th>2</th>\n",
              "      <td>-3.360575</td>\n",
              "      <td>-0.213263</td>\n",
              "      <td>-1.110955</td>\n",
              "      <td>0.526754</td>\n",
              "      <td>1.180682</td>\n",
              "      <td>2.051423</td>\n",
              "      <td>-0.481632</td>\n",
              "      <td>0.077280</td>\n",
              "      <td>1.820105</td>\n",
              "      <td>-1.187538</td>\n",
              "      <td>-0.138183</td>\n",
              "      <td>-0.251253</td>\n",
              "      <td>0.257225</td>\n",
              "      <td>0.909277</td>\n",
              "      <td>-0.535608</td>\n",
              "      <td>-0.060682</td>\n",
              "      <td>0.049345</td>\n",
              "      <td>-0.559349</td>\n",
              "      <td>0.887050</td>\n",
              "      <td>0.686764</td>\n",
              "      <td>-0.184574</td>\n",
              "      <td>-0.864879</td>\n",
              "    </tr>\n",
              "    <tr>\n",
              "      <th>3</th>\n",
              "      <td>0.376574</td>\n",
              "      <td>1.401156</td>\n",
              "      <td>1.451892</td>\n",
              "      <td>2.382211</td>\n",
              "      <td>0.335523</td>\n",
              "      <td>-0.789307</td>\n",
              "      <td>-0.958989</td>\n",
              "      <td>-1.029959</td>\n",
              "      <td>0.889628</td>\n",
              "      <td>-1.385588</td>\n",
              "      <td>-1.838818</td>\n",
              "      <td>-0.505044</td>\n",
              "      <td>0.574230</td>\n",
              "      <td>-0.350015</td>\n",
              "      <td>-0.362149</td>\n",
              "      <td>-0.270966</td>\n",
              "      <td>0.183291</td>\n",
              "      <td>-0.224686</td>\n",
              "      <td>0.162612</td>\n",
              "      <td>1.139845</td>\n",
              "      <td>1.512918</td>\n",
              "      <td>1.238392</td>\n",
              "    </tr>\n",
              "    <tr>\n",
              "      <th>4</th>\n",
              "      <td>2.597895</td>\n",
              "      <td>-0.644940</td>\n",
              "      <td>-2.402821</td>\n",
              "      <td>1.282940</td>\n",
              "      <td>-0.348830</td>\n",
              "      <td>0.729441</td>\n",
              "      <td>-0.670784</td>\n",
              "      <td>0.509176</td>\n",
              "      <td>0.248386</td>\n",
              "      <td>0.305485</td>\n",
              "      <td>-2.123644</td>\n",
              "      <td>-0.342629</td>\n",
              "      <td>0.118871</td>\n",
              "      <td>0.101210</td>\n",
              "      <td>-0.721697</td>\n",
              "      <td>-0.363126</td>\n",
              "      <td>0.176016</td>\n",
              "      <td>-0.616977</td>\n",
              "      <td>0.481234</td>\n",
              "      <td>1.195821</td>\n",
              "      <td>1.072536</td>\n",
              "      <td>-0.057475</td>\n",
              "    </tr>\n",
              "    <tr>\n",
              "      <th>...</th>\n",
              "      <td>...</td>\n",
              "      <td>...</td>\n",
              "      <td>...</td>\n",
              "      <td>...</td>\n",
              "      <td>...</td>\n",
              "      <td>...</td>\n",
              "      <td>...</td>\n",
              "      <td>...</td>\n",
              "      <td>...</td>\n",
              "      <td>...</td>\n",
              "      <td>...</td>\n",
              "      <td>...</td>\n",
              "      <td>...</td>\n",
              "      <td>...</td>\n",
              "      <td>...</td>\n",
              "      <td>...</td>\n",
              "      <td>...</td>\n",
              "      <td>...</td>\n",
              "      <td>...</td>\n",
              "      <td>...</td>\n",
              "      <td>...</td>\n",
              "      <td>...</td>\n",
              "    </tr>\n",
              "    <tr>\n",
              "      <th>13349</th>\n",
              "      <td>-0.678994</td>\n",
              "      <td>2.318648</td>\n",
              "      <td>1.038199</td>\n",
              "      <td>2.641960</td>\n",
              "      <td>-0.004442</td>\n",
              "      <td>0.431279</td>\n",
              "      <td>-0.096869</td>\n",
              "      <td>-0.905316</td>\n",
              "      <td>-0.336956</td>\n",
              "      <td>0.534724</td>\n",
              "      <td>0.232006</td>\n",
              "      <td>0.479495</td>\n",
              "      <td>-0.665121</td>\n",
              "      <td>-0.741902</td>\n",
              "      <td>-0.259686</td>\n",
              "      <td>-0.099258</td>\n",
              "      <td>-0.054752</td>\n",
              "      <td>-0.418348</td>\n",
              "      <td>-1.040754</td>\n",
              "      <td>0.223340</td>\n",
              "      <td>-0.085359</td>\n",
              "      <td>-0.134519</td>\n",
              "    </tr>\n",
              "    <tr>\n",
              "      <th>13350</th>\n",
              "      <td>2.008863</td>\n",
              "      <td>0.696684</td>\n",
              "      <td>2.005741</td>\n",
              "      <td>1.433059</td>\n",
              "      <td>-0.596918</td>\n",
              "      <td>-1.870350</td>\n",
              "      <td>-0.070238</td>\n",
              "      <td>2.367435</td>\n",
              "      <td>-0.952998</td>\n",
              "      <td>-0.539115</td>\n",
              "      <td>-0.692310</td>\n",
              "      <td>-0.375671</td>\n",
              "      <td>-0.091018</td>\n",
              "      <td>-0.265089</td>\n",
              "      <td>0.221169</td>\n",
              "      <td>0.044710</td>\n",
              "      <td>0.091531</td>\n",
              "      <td>0.275180</td>\n",
              "      <td>-0.021215</td>\n",
              "      <td>-0.051704</td>\n",
              "      <td>0.290867</td>\n",
              "      <td>0.804990</td>\n",
              "    </tr>\n",
              "    <tr>\n",
              "      <th>13351</th>\n",
              "      <td>-1.620441</td>\n",
              "      <td>-0.299381</td>\n",
              "      <td>-0.192562</td>\n",
              "      <td>-0.723547</td>\n",
              "      <td>-0.169778</td>\n",
              "      <td>-0.353647</td>\n",
              "      <td>-0.358696</td>\n",
              "      <td>0.310158</td>\n",
              "      <td>1.854124</td>\n",
              "      <td>0.009506</td>\n",
              "      <td>0.778276</td>\n",
              "      <td>0.285779</td>\n",
              "      <td>-0.370280</td>\n",
              "      <td>-0.124515</td>\n",
              "      <td>-0.331458</td>\n",
              "      <td>-0.068505</td>\n",
              "      <td>-0.046561</td>\n",
              "      <td>-0.618735</td>\n",
              "      <td>-0.354965</td>\n",
              "      <td>0.035718</td>\n",
              "      <td>1.043339</td>\n",
              "      <td>-1.415250</td>\n",
              "    </tr>\n",
              "    <tr>\n",
              "      <th>13352</th>\n",
              "      <td>-2.283287</td>\n",
              "      <td>-1.231860</td>\n",
              "      <td>-0.320678</td>\n",
              "      <td>1.012764</td>\n",
              "      <td>-0.079423</td>\n",
              "      <td>0.163685</td>\n",
              "      <td>0.087885</td>\n",
              "      <td>-1.393561</td>\n",
              "      <td>-0.481480</td>\n",
              "      <td>-0.379081</td>\n",
              "      <td>0.210788</td>\n",
              "      <td>0.302929</td>\n",
              "      <td>-0.541378</td>\n",
              "      <td>-0.448955</td>\n",
              "      <td>0.418846</td>\n",
              "      <td>0.171864</td>\n",
              "      <td>-0.053290</td>\n",
              "      <td>0.250656</td>\n",
              "      <td>-0.615150</td>\n",
              "      <td>-0.128626</td>\n",
              "      <td>-0.949804</td>\n",
              "      <td>1.306348</td>\n",
              "    </tr>\n",
              "    <tr>\n",
              "      <th>13353</th>\n",
              "      <td>-2.527133</td>\n",
              "      <td>-1.880126</td>\n",
              "      <td>-0.257786</td>\n",
              "      <td>-0.208545</td>\n",
              "      <td>-0.620943</td>\n",
              "      <td>-1.072189</td>\n",
              "      <td>0.960517</td>\n",
              "      <td>-1.192144</td>\n",
              "      <td>0.093120</td>\n",
              "      <td>1.653246</td>\n",
              "      <td>-0.667053</td>\n",
              "      <td>-0.228900</td>\n",
              "      <td>-0.160676</td>\n",
              "      <td>0.334891</td>\n",
              "      <td>0.109776</td>\n",
              "      <td>0.017537</td>\n",
              "      <td>-0.133407</td>\n",
              "      <td>0.195086</td>\n",
              "      <td>0.590936</td>\n",
              "      <td>-0.249763</td>\n",
              "      <td>-1.027949</td>\n",
              "      <td>-0.347746</td>\n",
              "    </tr>\n",
              "  </tbody>\n",
              "</table>\n",
              "<p>13354 rows × 22 columns</p>\n",
              "</div>"
            ],
            "text/plain": [
              "             0         1         2         3         4         5         6   \\\n",
              "0      3.619434 -1.099806 -1.763158  0.132065 -1.176502 -0.571054 -0.208621   \n",
              "1     -1.217543  1.648440  0.538227  3.488884  1.091593  2.748884  0.363446   \n",
              "2     -3.360575 -0.213263 -1.110955  0.526754  1.180682  2.051423 -0.481632   \n",
              "3      0.376574  1.401156  1.451892  2.382211  0.335523 -0.789307 -0.958989   \n",
              "4      2.597895 -0.644940 -2.402821  1.282940 -0.348830  0.729441 -0.670784   \n",
              "...         ...       ...       ...       ...       ...       ...       ...   \n",
              "13349 -0.678994  2.318648  1.038199  2.641960 -0.004442  0.431279 -0.096869   \n",
              "13350  2.008863  0.696684  2.005741  1.433059 -0.596918 -1.870350 -0.070238   \n",
              "13351 -1.620441 -0.299381 -0.192562 -0.723547 -0.169778 -0.353647 -0.358696   \n",
              "13352 -2.283287 -1.231860 -0.320678  1.012764 -0.079423  0.163685  0.087885   \n",
              "13353 -2.527133 -1.880126 -0.257786 -0.208545 -0.620943 -1.072189  0.960517   \n",
              "\n",
              "             7         8         9         10        11        12        13  \\\n",
              "0      1.911988 -0.296029 -1.266347 -0.819398  0.865049  0.193510 -0.530174   \n",
              "1      0.336575 -0.519694  0.878565 -1.368389 -0.206002 -0.281283  0.439071   \n",
              "2      0.077280  1.820105 -1.187538 -0.138183 -0.251253  0.257225  0.909277   \n",
              "3     -1.029959  0.889628 -1.385588 -1.838818 -0.505044  0.574230 -0.350015   \n",
              "4      0.509176  0.248386  0.305485 -2.123644 -0.342629  0.118871  0.101210   \n",
              "...         ...       ...       ...       ...       ...       ...       ...   \n",
              "13349 -0.905316 -0.336956  0.534724  0.232006  0.479495 -0.665121 -0.741902   \n",
              "13350  2.367435 -0.952998 -0.539115 -0.692310 -0.375671 -0.091018 -0.265089   \n",
              "13351  0.310158  1.854124  0.009506  0.778276  0.285779 -0.370280 -0.124515   \n",
              "13352 -1.393561 -0.481480 -0.379081  0.210788  0.302929 -0.541378 -0.448955   \n",
              "13353 -1.192144  0.093120  1.653246 -0.667053 -0.228900 -0.160676  0.334891   \n",
              "\n",
              "             14        15        16        17        18        19        20  \\\n",
              "0     -0.558485 -0.103287  0.076993 -0.416985 -0.824124 -0.109984  0.557787   \n",
              "1     -0.196175 -0.020853  0.006594 -0.156896  0.331411  0.600441 -1.434510   \n",
              "2     -0.535608 -0.060682  0.049345 -0.559349  0.887050  0.686764 -0.184574   \n",
              "3     -0.362149 -0.270966  0.183291 -0.224686  0.162612  1.139845  1.512918   \n",
              "4     -0.721697 -0.363126  0.176016 -0.616977  0.481234  1.195821  1.072536   \n",
              "...         ...       ...       ...       ...       ...       ...       ...   \n",
              "13349 -0.259686 -0.099258 -0.054752 -0.418348 -1.040754  0.223340 -0.085359   \n",
              "13350  0.221169  0.044710  0.091531  0.275180 -0.021215 -0.051704  0.290867   \n",
              "13351 -0.331458 -0.068505 -0.046561 -0.618735 -0.354965  0.035718  1.043339   \n",
              "13352  0.418846  0.171864 -0.053290  0.250656 -0.615150 -0.128626 -0.949804   \n",
              "13353  0.109776  0.017537 -0.133407  0.195086  0.590936 -0.249763 -1.027949   \n",
              "\n",
              "             21  \n",
              "0     -1.394862  \n",
              "1      0.130009  \n",
              "2     -0.864879  \n",
              "3      1.238392  \n",
              "4     -0.057475  \n",
              "...         ...  \n",
              "13349 -0.134519  \n",
              "13350  0.804990  \n",
              "13351 -1.415250  \n",
              "13352  1.306348  \n",
              "13353 -0.347746  \n",
              "\n",
              "[13354 rows x 22 columns]"
            ]
          },
          "metadata": {
            "tags": []
          },
          "execution_count": 223
        }
      ]
    },
    {
      "cell_type": "code",
      "metadata": {
        "colab": {
          "base_uri": "https://localhost:8080/"
        },
        "id": "7_2QdXt0Syiu",
        "outputId": "09036096-f618-4556-d89f-704e5d2d526a"
      },
      "source": [
        "print(\"variance is : {}\".format(np.sum(Final_pca.explained_variance_ratio_)))"
      ],
      "execution_count": 224,
      "outputs": [
        {
          "output_type": "stream",
          "text": [
            "variance is : 0.8876162029502837\n"
          ],
          "name": "stdout"
        }
      ]
    },
    {
      "cell_type": "code",
      "metadata": {
        "colab": {
          "base_uri": "https://localhost:8080/"
        },
        "id": "H7WGmFHuS1N_",
        "outputId": "c1bd6630-5b44-4be3-eff8-bc3db4e694a4"
      },
      "source": [
        "pca_x.shape"
      ],
      "execution_count": 225,
      "outputs": [
        {
          "output_type": "execute_result",
          "data": {
            "text/plain": [
              "(13354, 22)"
            ]
          },
          "metadata": {
            "tags": []
          },
          "execution_count": 225
        }
      ]
    },
    {
      "cell_type": "markdown",
      "metadata": {
        "id": "nEaLECaDS7pQ"
      },
      "source": [
        "\n",
        "## split the data"
      ]
    },
    {
      "cell_type": "code",
      "metadata": {
        "id": "7a5kwkOVS4E0"
      },
      "source": [
        "#lets first add temp column splitting\n",
        "pca_x['Temp'] = temp"
      ],
      "execution_count": 226,
      "outputs": []
    },
    {
      "cell_type": "code",
      "metadata": {
        "colab": {
          "base_uri": "https://localhost:8080/",
          "height": 224
        },
        "id": "lvozJEunS_Kx",
        "outputId": "fc72e48e-2cfc-4110-a4b1-899c9e97fb89"
      },
      "source": [
        "pca_x.head()"
      ],
      "execution_count": 227,
      "outputs": [
        {
          "output_type": "execute_result",
          "data": {
            "text/html": [
              "<div>\n",
              "<style scoped>\n",
              "    .dataframe tbody tr th:only-of-type {\n",
              "        vertical-align: middle;\n",
              "    }\n",
              "\n",
              "    .dataframe tbody tr th {\n",
              "        vertical-align: top;\n",
              "    }\n",
              "\n",
              "    .dataframe thead th {\n",
              "        text-align: right;\n",
              "    }\n",
              "</style>\n",
              "<table border=\"1\" class=\"dataframe\">\n",
              "  <thead>\n",
              "    <tr style=\"text-align: right;\">\n",
              "      <th></th>\n",
              "      <th>0</th>\n",
              "      <th>1</th>\n",
              "      <th>2</th>\n",
              "      <th>3</th>\n",
              "      <th>4</th>\n",
              "      <th>5</th>\n",
              "      <th>6</th>\n",
              "      <th>7</th>\n",
              "      <th>8</th>\n",
              "      <th>9</th>\n",
              "      <th>10</th>\n",
              "      <th>11</th>\n",
              "      <th>12</th>\n",
              "      <th>13</th>\n",
              "      <th>14</th>\n",
              "      <th>15</th>\n",
              "      <th>16</th>\n",
              "      <th>17</th>\n",
              "      <th>18</th>\n",
              "      <th>19</th>\n",
              "      <th>20</th>\n",
              "      <th>21</th>\n",
              "      <th>Temp</th>\n",
              "    </tr>\n",
              "  </thead>\n",
              "  <tbody>\n",
              "    <tr>\n",
              "      <th>0</th>\n",
              "      <td>3.619434</td>\n",
              "      <td>-1.099806</td>\n",
              "      <td>-1.763158</td>\n",
              "      <td>0.132065</td>\n",
              "      <td>-1.176502</td>\n",
              "      <td>-0.571054</td>\n",
              "      <td>-0.208621</td>\n",
              "      <td>1.911988</td>\n",
              "      <td>-0.296029</td>\n",
              "      <td>-1.266347</td>\n",
              "      <td>-0.819398</td>\n",
              "      <td>0.865049</td>\n",
              "      <td>0.193510</td>\n",
              "      <td>-0.530174</td>\n",
              "      <td>-0.558485</td>\n",
              "      <td>-0.103287</td>\n",
              "      <td>0.076993</td>\n",
              "      <td>-0.416985</td>\n",
              "      <td>-0.824124</td>\n",
              "      <td>-0.109984</td>\n",
              "      <td>0.557787</td>\n",
              "      <td>-1.394862</td>\n",
              "      <td>Train</td>\n",
              "    </tr>\n",
              "    <tr>\n",
              "      <th>1</th>\n",
              "      <td>-1.217543</td>\n",
              "      <td>1.648440</td>\n",
              "      <td>0.538227</td>\n",
              "      <td>3.488884</td>\n",
              "      <td>1.091593</td>\n",
              "      <td>2.748884</td>\n",
              "      <td>0.363446</td>\n",
              "      <td>0.336575</td>\n",
              "      <td>-0.519694</td>\n",
              "      <td>0.878565</td>\n",
              "      <td>-1.368389</td>\n",
              "      <td>-0.206002</td>\n",
              "      <td>-0.281283</td>\n",
              "      <td>0.439071</td>\n",
              "      <td>-0.196175</td>\n",
              "      <td>-0.020853</td>\n",
              "      <td>0.006594</td>\n",
              "      <td>-0.156896</td>\n",
              "      <td>0.331411</td>\n",
              "      <td>0.600441</td>\n",
              "      <td>-1.434510</td>\n",
              "      <td>0.130009</td>\n",
              "      <td>Train</td>\n",
              "    </tr>\n",
              "    <tr>\n",
              "      <th>2</th>\n",
              "      <td>-3.360575</td>\n",
              "      <td>-0.213263</td>\n",
              "      <td>-1.110955</td>\n",
              "      <td>0.526754</td>\n",
              "      <td>1.180682</td>\n",
              "      <td>2.051423</td>\n",
              "      <td>-0.481632</td>\n",
              "      <td>0.077280</td>\n",
              "      <td>1.820105</td>\n",
              "      <td>-1.187538</td>\n",
              "      <td>-0.138183</td>\n",
              "      <td>-0.251253</td>\n",
              "      <td>0.257225</td>\n",
              "      <td>0.909277</td>\n",
              "      <td>-0.535608</td>\n",
              "      <td>-0.060682</td>\n",
              "      <td>0.049345</td>\n",
              "      <td>-0.559349</td>\n",
              "      <td>0.887050</td>\n",
              "      <td>0.686764</td>\n",
              "      <td>-0.184574</td>\n",
              "      <td>-0.864879</td>\n",
              "      <td>Train</td>\n",
              "    </tr>\n",
              "    <tr>\n",
              "      <th>3</th>\n",
              "      <td>0.376574</td>\n",
              "      <td>1.401156</td>\n",
              "      <td>1.451892</td>\n",
              "      <td>2.382211</td>\n",
              "      <td>0.335523</td>\n",
              "      <td>-0.789307</td>\n",
              "      <td>-0.958989</td>\n",
              "      <td>-1.029959</td>\n",
              "      <td>0.889628</td>\n",
              "      <td>-1.385588</td>\n",
              "      <td>-1.838818</td>\n",
              "      <td>-0.505044</td>\n",
              "      <td>0.574230</td>\n",
              "      <td>-0.350015</td>\n",
              "      <td>-0.362149</td>\n",
              "      <td>-0.270966</td>\n",
              "      <td>0.183291</td>\n",
              "      <td>-0.224686</td>\n",
              "      <td>0.162612</td>\n",
              "      <td>1.139845</td>\n",
              "      <td>1.512918</td>\n",
              "      <td>1.238392</td>\n",
              "      <td>Train</td>\n",
              "    </tr>\n",
              "    <tr>\n",
              "      <th>4</th>\n",
              "      <td>2.597895</td>\n",
              "      <td>-0.644940</td>\n",
              "      <td>-2.402821</td>\n",
              "      <td>1.282940</td>\n",
              "      <td>-0.348830</td>\n",
              "      <td>0.729441</td>\n",
              "      <td>-0.670784</td>\n",
              "      <td>0.509176</td>\n",
              "      <td>0.248386</td>\n",
              "      <td>0.305485</td>\n",
              "      <td>-2.123644</td>\n",
              "      <td>-0.342629</td>\n",
              "      <td>0.118871</td>\n",
              "      <td>0.101210</td>\n",
              "      <td>-0.721697</td>\n",
              "      <td>-0.363126</td>\n",
              "      <td>0.176016</td>\n",
              "      <td>-0.616977</td>\n",
              "      <td>0.481234</td>\n",
              "      <td>1.195821</td>\n",
              "      <td>1.072536</td>\n",
              "      <td>-0.057475</td>\n",
              "      <td>Train</td>\n",
              "    </tr>\n",
              "  </tbody>\n",
              "</table>\n",
              "</div>"
            ],
            "text/plain": [
              "          0         1         2         3         4         5         6  \\\n",
              "0  3.619434 -1.099806 -1.763158  0.132065 -1.176502 -0.571054 -0.208621   \n",
              "1 -1.217543  1.648440  0.538227  3.488884  1.091593  2.748884  0.363446   \n",
              "2 -3.360575 -0.213263 -1.110955  0.526754  1.180682  2.051423 -0.481632   \n",
              "3  0.376574  1.401156  1.451892  2.382211  0.335523 -0.789307 -0.958989   \n",
              "4  2.597895 -0.644940 -2.402821  1.282940 -0.348830  0.729441 -0.670784   \n",
              "\n",
              "          7         8         9        10        11        12        13  \\\n",
              "0  1.911988 -0.296029 -1.266347 -0.819398  0.865049  0.193510 -0.530174   \n",
              "1  0.336575 -0.519694  0.878565 -1.368389 -0.206002 -0.281283  0.439071   \n",
              "2  0.077280  1.820105 -1.187538 -0.138183 -0.251253  0.257225  0.909277   \n",
              "3 -1.029959  0.889628 -1.385588 -1.838818 -0.505044  0.574230 -0.350015   \n",
              "4  0.509176  0.248386  0.305485 -2.123644 -0.342629  0.118871  0.101210   \n",
              "\n",
              "         14        15        16        17        18        19        20  \\\n",
              "0 -0.558485 -0.103287  0.076993 -0.416985 -0.824124 -0.109984  0.557787   \n",
              "1 -0.196175 -0.020853  0.006594 -0.156896  0.331411  0.600441 -1.434510   \n",
              "2 -0.535608 -0.060682  0.049345 -0.559349  0.887050  0.686764 -0.184574   \n",
              "3 -0.362149 -0.270966  0.183291 -0.224686  0.162612  1.139845  1.512918   \n",
              "4 -0.721697 -0.363126  0.176016 -0.616977  0.481234  1.195821  1.072536   \n",
              "\n",
              "         21   Temp  \n",
              "0 -1.394862  Train  \n",
              "1  0.130009  Train  \n",
              "2 -0.864879  Train  \n",
              "3  1.238392  Train  \n",
              "4 -0.057475  Train  "
            ]
          },
          "metadata": {
            "tags": []
          },
          "execution_count": 227
        }
      ]
    },
    {
      "cell_type": "code",
      "metadata": {
        "id": "R9M5Fk9XTBM2"
      },
      "source": [
        "#Lets get out Original Train and Test Dataset provided in the project\n",
        "X_train_original = pca_x.loc[pca_x[\"Temp\"] == \"Train\"]\n",
        "X_test_original = pca_x.loc[pca_x[\"Temp\"]==\"Test\"]\n",
        "#X_train_original.reset_index(drop =True, inplace=True)\n",
        "#X_test_original.reset_index(drop = True, inplace=True)"
      ],
      "execution_count": 228,
      "outputs": []
    },
    {
      "cell_type": "code",
      "metadata": {
        "colab": {
          "base_uri": "https://localhost:8080/"
        },
        "id": "FYm2jg53TEdz",
        "outputId": "0f849203-c0e6-4c5d-82da-0f838f1a9183"
      },
      "source": [
        "#lets drop the null values in the Y column\n",
        "Y.dropna(inplace=True)\n",
        "Y.shape"
      ],
      "execution_count": 229,
      "outputs": [
        {
          "output_type": "execute_result",
          "data": {
            "text/plain": [
              "(10683,)"
            ]
          },
          "metadata": {
            "tags": []
          },
          "execution_count": 229
        }
      ]
    },
    {
      "cell_type": "code",
      "metadata": {
        "colab": {
          "base_uri": "https://localhost:8080/"
        },
        "id": "i6UWcpghTG_l",
        "outputId": "55c4c4ce-1a20-4848-ce91-7e9482b3d1c8"
      },
      "source": [
        "#Original X_train dataset\n",
        "X_train_original.shape"
      ],
      "execution_count": 230,
      "outputs": [
        {
          "output_type": "execute_result",
          "data": {
            "text/plain": [
              "(10683, 23)"
            ]
          },
          "metadata": {
            "tags": []
          },
          "execution_count": 230
        }
      ]
    },
    {
      "cell_type": "code",
      "metadata": {
        "colab": {
          "base_uri": "https://localhost:8080/"
        },
        "id": "ijLxn54LTJFE",
        "outputId": "9204bbd8-b9fc-4110-9d12-0563598c7314"
      },
      "source": [
        "#Original X_test dataset\n",
        "X_test_original.shape"
      ],
      "execution_count": 231,
      "outputs": [
        {
          "output_type": "execute_result",
          "data": {
            "text/plain": [
              "(2671, 23)"
            ]
          },
          "metadata": {
            "tags": []
          },
          "execution_count": 231
        }
      ]
    },
    {
      "cell_type": "code",
      "metadata": {
        "colab": {
          "base_uri": "https://localhost:8080/"
        },
        "id": "V4Og7exPTLGu",
        "outputId": "0b3fc7a8-a258-4fc9-9cf5-98f293cec9f3"
      },
      "source": [
        "#no null values in this series\n",
        "Y.isnull().sum()"
      ],
      "execution_count": 232,
      "outputs": [
        {
          "output_type": "execute_result",
          "data": {
            "text/plain": [
              "0"
            ]
          },
          "metadata": {
            "tags": []
          },
          "execution_count": 232
        }
      ]
    },
    {
      "cell_type": "code",
      "metadata": {
        "id": "Mo6XfAOMTNAP"
      },
      "source": [
        "# Original X train column from 0th row to 8422th row\n",
        "X_train_original.drop('Temp',axis = 1,inplace  =True)"
      ],
      "execution_count": 233,
      "outputs": []
    },
    {
      "cell_type": "code",
      "metadata": {
        "id": "d7L9k2uiTO_S"
      },
      "source": [
        "# Original X test column from 8523rd row to 14203rd row\n",
        "X_test_original.drop('Temp',axis = 1,inplace  =True)"
      ],
      "execution_count": 234,
      "outputs": []
    },
    {
      "cell_type": "code",
      "metadata": {
        "id": "m5VEd76ITRYW"
      },
      "source": [
        "#lets Ignore those index now\n",
        "X_train_original.reset_index(drop =True, inplace=True)\n",
        "X_test_original.reset_index(drop = True, inplace=True)"
      ],
      "execution_count": 235,
      "outputs": []
    },
    {
      "cell_type": "markdown",
      "metadata": {
        "id": "-JCXVm_bTW4G"
      },
      "source": [
        "# We have provided with X_test data, but Y_test (Label) is not provided\n",
        "\n",
        "**So lets use our X_train_original and Y_train_Original as X and Y for model selection.**"
      ]
    },
    {
      "cell_type": "markdown",
      "metadata": {
        "id": "zH7rqTPiThPE"
      },
      "source": [
        "# Best random state"
      ]
    },
    {
      "cell_type": "code",
      "metadata": {
        "colab": {
          "base_uri": "https://localhost:8080/"
        },
        "id": "PaqAqFBwTUCu",
        "outputId": "d791b208-1bf6-45ea-8cec-981acc9ae69d"
      },
      "source": [
        "max_r2score = 0\n",
        "rand_state = 0\n",
        "for i in range(1,200):\n",
        "    x_train,x_test,y_train,y_test = train_test_split(X_train_original,Y,test_size=.22,random_state= i )\n",
        "    lr = LinearRegression()\n",
        "    lr.fit(x_train,y_train)\n",
        "    pred = lr.predict(x_test)\n",
        "    r2 = r2_score(y_test,pred)\n",
        "    if r2 > max_r2score:\n",
        "        max_r2score = r2\n",
        "        rand_state = i\n",
        "print('Best r2 score is {} on random state {}'.format(max_r2score,rand_state))"
      ],
      "execution_count": 236,
      "outputs": [
        {
          "output_type": "stream",
          "text": [
            "Best r2 score is 0.6185091855454087 on random state 19\n"
          ],
          "name": "stdout"
        }
      ]
    },
    {
      "cell_type": "code",
      "metadata": {
        "colab": {
          "base_uri": "https://localhost:8080/"
        },
        "id": "iswW0lNKTlwb",
        "outputId": "99a9a02b-f4b3-450b-c502-793c5d57e328"
      },
      "source": [
        "print('We got our best randoms sate as :',rand_state)"
      ],
      "execution_count": 237,
      "outputs": [
        {
          "output_type": "stream",
          "text": [
            "We got our best randoms sate as : 19\n"
          ],
          "name": "stdout"
        }
      ]
    },
    {
      "cell_type": "code",
      "metadata": {
        "id": "3H2ND_fQTpRg"
      },
      "source": [
        "#Lets split for train and test data\n",
        "x_train,x_test,y_train,y_test = train_test_split(X_train_original,Y,test_size=.22,random_state= rand_state )"
      ],
      "execution_count": 238,
      "outputs": []
    },
    {
      "cell_type": "code",
      "metadata": {
        "colab": {
          "base_uri": "https://localhost:8080/"
        },
        "id": "YaHY4jvTTrp0",
        "outputId": "164187d9-93e4-4ea8-f3a3-ede64ad90cba"
      },
      "source": [
        "lrg = LinearRegression()\n",
        "lrg.fit(x_train,y_train)\n",
        "pr =lrg.predict(x_test)\n",
        "print(\"r2_score of linear refression is :\", r2_score(y_test,pr))\n",
        "print('Error :')\n",
        "print('mean absolute error :',mean_absolute_error(y_test,pred))\n",
        "print('mean squared error : ', mean_squared_error(y_test,pred))\n",
        "print('root mean squared error :',np.sqrt(mean_squared_error(y_test,pred)))"
      ],
      "execution_count": 239,
      "outputs": [
        {
          "output_type": "stream",
          "text": [
            "r2_score of linear refression is : 0.6185091855454087\n",
            "Error :\n",
            "mean absolute error : 4501.166618126097\n",
            "mean squared error :  153192741.6730362\n",
            "root mean squared error : 12377.105545039041\n"
          ],
          "name": "stdout"
        }
      ]
    },
    {
      "cell_type": "markdown",
      "metadata": {
        "id": "dT-Gho4MT4YX"
      },
      "source": [
        "\n",
        "R2 score is very less for linear regression, lets check out for other models."
      ]
    },
    {
      "cell_type": "markdown",
      "metadata": {
        "id": "2Pv5g1c2T-wD"
      },
      "source": [
        "## Model selection :"
      ]
    },
    {
      "cell_type": "code",
      "metadata": {
        "id": "4QmeOVQ2Tufp"
      },
      "source": [
        "#lets Choose r2 score of below four Models\n",
        "dtc = DecisionTreeRegressor()\n",
        "knn = KNeighborsRegressor(n_neighbors=5)\n",
        "rf = RandomForestRegressor()\n",
        "ada = AdaBoostRegressor()"
      ],
      "execution_count": 240,
      "outputs": []
    },
    {
      "cell_type": "code",
      "metadata": {
        "colab": {
          "base_uri": "https://localhost:8080/"
        },
        "id": "QJGnTDQlUCz4",
        "outputId": "f930e71b-7e06-4b50-be90-362bfcfdd35d"
      },
      "source": [
        "#checking each model with Cross val score\n",
        "model_list = [dtc,knn,rf,ada]\n",
        "least_difference = []\n",
        "for m in model_list:\n",
        "    m.fit(x_train,y_train)\n",
        "    pred = m.predict(x_test)\n",
        "    cvs = cross_val_score(m,X_train_original,Y,cv =5)\n",
        "    print('\\n')\n",
        "    print(m)\n",
        "    print('Scores :')\n",
        "    print('r2 score:',r2_score(y_test,pred))\n",
        "    print('Cross Val score :',cvs.mean())\n",
        "    print('Error :')\n",
        "    print('mean absolute error :',mean_absolute_error(y_test,pred))\n",
        "    print('mean squared error : ', mean_squared_error(y_test,pred))\n",
        "    print('root mean squared error :',np.sqrt(mean_squared_error(y_test,pred)))\n",
        "    print('Difference :')\n",
        "    difference = np.abs(r2_score(y_test,pred) - cvs.mean())\n",
        "    print('Diffrence between cross val score and r2 score is : {0:.2f}'.format(difference))\n",
        "    least_difference.append((m,'Diffrence between cross val score and r2 score error is : {0:.2f}'.format(difference)))"
      ],
      "execution_count": 241,
      "outputs": [
        {
          "output_type": "stream",
          "text": [
            "\n",
            "\n",
            "DecisionTreeRegressor(ccp_alpha=0.0, criterion='mse', max_depth=None,\n",
            "                      max_features=None, max_leaf_nodes=None,\n",
            "                      min_impurity_decrease=0.0, min_impurity_split=None,\n",
            "                      min_samples_leaf=1, min_samples_split=2,\n",
            "                      min_weight_fraction_leaf=0.0, presort='deprecated',\n",
            "                      random_state=None, splitter='best')\n",
            "Scores :\n",
            "r2 score: 0.6904459330027615\n",
            "Cross Val score : 0.684156646430443\n",
            "Error :\n",
            "mean absolute error : 1295.4321565291366\n",
            "mean squared error :  5633548.197929958\n",
            "root mean squared error : 2373.5096793419566\n",
            "Difference :\n",
            "Diffrence between cross val score and r2 score is : 0.01\n",
            "\n",
            "\n",
            "KNeighborsRegressor(algorithm='auto', leaf_size=30, metric='minkowski',\n",
            "                    metric_params=None, n_jobs=None, n_neighbors=5, p=2,\n",
            "                    weights='uniform')\n",
            "Scores :\n",
            "r2 score: 0.804650414197879\n",
            "Cross Val score : 0.7907547085165152\n",
            "Error :\n",
            "mean absolute error : 1195.73373032752\n",
            "mean squared error :  3555150.535533815\n",
            "root mean squared error : 1885.5106829540414\n",
            "Difference :\n",
            "Diffrence between cross val score and r2 score is : 0.01\n",
            "\n",
            "\n",
            "RandomForestRegressor(bootstrap=True, ccp_alpha=0.0, criterion='mse',\n",
            "                      max_depth=None, max_features='auto', max_leaf_nodes=None,\n",
            "                      max_samples=None, min_impurity_decrease=0.0,\n",
            "                      min_impurity_split=None, min_samples_leaf=1,\n",
            "                      min_samples_split=2, min_weight_fraction_leaf=0.0,\n",
            "                      n_estimators=100, n_jobs=None, oob_score=False,\n",
            "                      random_state=None, verbose=0, warm_start=False)\n",
            "Scores :\n",
            "r2 score: 0.8371401402258227\n",
            "Cross Val score : 0.8212022793185856\n",
            "Error :\n",
            "mean absolute error : 1087.370770226111\n",
            "mean squared error :  2963872.768481917\n",
            "root mean squared error : 1721.5901859855956\n",
            "Difference :\n",
            "Diffrence between cross val score and r2 score is : 0.02\n",
            "\n",
            "\n",
            "AdaBoostRegressor(base_estimator=None, learning_rate=1.0, loss='linear',\n",
            "                  n_estimators=50, random_state=None)\n",
            "Scores :\n",
            "r2 score: 0.41473277397061437\n",
            "Cross Val score : 0.4451394408285546\n",
            "Error :\n",
            "mean absolute error : 2798.6453668180384\n",
            "mean squared error :  10651228.583389036\n",
            "root mean squared error : 3263.62200375427\n",
            "Difference :\n",
            "Diffrence between cross val score and r2 score is : 0.03\n"
          ],
          "name": "stdout"
        }
      ]
    },
    {
      "cell_type": "code",
      "metadata": {
        "colab": {
          "base_uri": "https://localhost:8080/"
        },
        "id": "4R7M0SHXUGTY",
        "outputId": "a9845dbd-cad3-43ee-db88-2c85ca454ea3"
      },
      "source": [
        "#lets check the least difference between r2 score and cross val score\n",
        "least_difference"
      ],
      "execution_count": 242,
      "outputs": [
        {
          "output_type": "execute_result",
          "data": {
            "text/plain": [
              "[(DecisionTreeRegressor(ccp_alpha=0.0, criterion='mse', max_depth=None,\n",
              "                        max_features=None, max_leaf_nodes=None,\n",
              "                        min_impurity_decrease=0.0, min_impurity_split=None,\n",
              "                        min_samples_leaf=1, min_samples_split=2,\n",
              "                        min_weight_fraction_leaf=0.0, presort='deprecated',\n",
              "                        random_state=None, splitter='best'),\n",
              "  'Diffrence between cross val score and r2 score error is : 0.01'),\n",
              " (KNeighborsRegressor(algorithm='auto', leaf_size=30, metric='minkowski',\n",
              "                      metric_params=None, n_jobs=None, n_neighbors=5, p=2,\n",
              "                      weights='uniform'),\n",
              "  'Diffrence between cross val score and r2 score error is : 0.01'),\n",
              " (RandomForestRegressor(bootstrap=True, ccp_alpha=0.0, criterion='mse',\n",
              "                        max_depth=None, max_features='auto', max_leaf_nodes=None,\n",
              "                        max_samples=None, min_impurity_decrease=0.0,\n",
              "                        min_impurity_split=None, min_samples_leaf=1,\n",
              "                        min_samples_split=2, min_weight_fraction_leaf=0.0,\n",
              "                        n_estimators=100, n_jobs=None, oob_score=False,\n",
              "                        random_state=None, verbose=0, warm_start=False),\n",
              "  'Diffrence between cross val score and r2 score error is : 0.02'),\n",
              " (AdaBoostRegressor(base_estimator=None, learning_rate=1.0, loss='linear',\n",
              "                    n_estimators=50, random_state=None),\n",
              "  'Diffrence between cross val score and r2 score error is : 0.03')]"
            ]
          },
          "metadata": {
            "tags": []
          },
          "execution_count": 242
        }
      ]
    },
    {
      "cell_type": "code",
      "metadata": {
        "colab": {
          "base_uri": "https://localhost:8080/"
        },
        "id": "tE-qrozfURE2",
        "outputId": "a71ca6f4-406c-45b4-f9d4-6830af3874a9"
      },
      "source": [
        "#we can see that there no differnec between cross val score and R2 score for random forest\n",
        "least_difference[2]"
      ],
      "execution_count": 243,
      "outputs": [
        {
          "output_type": "execute_result",
          "data": {
            "text/plain": [
              "(RandomForestRegressor(bootstrap=True, ccp_alpha=0.0, criterion='mse',\n",
              "                       max_depth=None, max_features='auto', max_leaf_nodes=None,\n",
              "                       max_samples=None, min_impurity_decrease=0.0,\n",
              "                       min_impurity_split=None, min_samples_leaf=1,\n",
              "                       min_samples_split=2, min_weight_fraction_leaf=0.0,\n",
              "                       n_estimators=100, n_jobs=None, oob_score=False,\n",
              "                       random_state=None, verbose=0, warm_start=False),\n",
              " 'Diffrence between cross val score and r2 score error is : 0.02')"
            ]
          },
          "metadata": {
            "tags": []
          },
          "execution_count": 243
        }
      ]
    },
    {
      "cell_type": "markdown",
      "metadata": {
        "id": "Jn5JRBm9UWrt"
      },
      "source": [
        "RandomForestRegressor() is having 0.02 difference, R2 score is also high and errors are less compared to other models so lets choose random as our final model there is no overfitting in this model."
      ]
    },
    {
      "cell_type": "code",
      "metadata": {
        "id": "MfOIhHxMk4wB",
        "outputId": "b28a2d14-3bb9-4f3f-df8c-fc7bba6a134e",
        "colab": {
          "base_uri": "https://localhost:8080/"
        }
      },
      "source": [
        "#we can see that there no differnec between cross val score and R2 score for random forest\n",
        "least_difference[2]"
      ],
      "execution_count": 244,
      "outputs": [
        {
          "output_type": "execute_result",
          "data": {
            "text/plain": [
              "(RandomForestRegressor(bootstrap=True, ccp_alpha=0.0, criterion='mse',\n",
              "                       max_depth=None, max_features='auto', max_leaf_nodes=None,\n",
              "                       max_samples=None, min_impurity_decrease=0.0,\n",
              "                       min_impurity_split=None, min_samples_leaf=1,\n",
              "                       min_samples_split=2, min_weight_fraction_leaf=0.0,\n",
              "                       n_estimators=100, n_jobs=None, oob_score=False,\n",
              "                       random_state=None, verbose=0, warm_start=False),\n",
              " 'Diffrence between cross val score and r2 score error is : 0.02')"
            ]
          },
          "metadata": {
            "tags": []
          },
          "execution_count": 244
        }
      ]
    },
    {
      "cell_type": "markdown",
      "metadata": {
        "id": "2n-34FpfVj74"
      },
      "source": [
        "## Saving the model:"
      ]
    },
    {
      "cell_type": "code",
      "metadata": {
        "colab": {
          "base_uri": "https://localhost:8080/"
        },
        "id": "9VNJLyM3Vg1l",
        "outputId": "49398a9d-ba5e-4d21-8258-8d4885ac84ad"
      },
      "source": [
        "#serialization using joblib\n",
        "import joblib\n",
        "joblib.dump(final_model_rf,'Flight_Price.obj')"
      ],
      "execution_count": 245,
      "outputs": [
        {
          "output_type": "execute_result",
          "data": {
            "text/plain": [
              "['Flight_Price.obj']"
            ]
          },
          "metadata": {
            "tags": []
          },
          "execution_count": 245
        }
      ]
    },
    {
      "cell_type": "markdown",
      "metadata": {
        "id": "wtxaJ72flPCL"
      },
      "source": [
        "## Conclustion :-"
      ]
    },
    {
      "cell_type": "markdown",
      "metadata": {
        "id": "XaVdaFhKlVDt"
      },
      "source": [
        "**We have RandomForest Model with 83.71% r2_score and no overfitting in the model**"
      ]
    },
    {
      "cell_type": "code",
      "metadata": {
        "id": "5UZlRrAwlXtx"
      },
      "source": [
        ""
      ],
      "execution_count": 245,
      "outputs": []
    }
  ]
}